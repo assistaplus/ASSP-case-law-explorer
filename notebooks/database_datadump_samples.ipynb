{
 "cells": [
  {
   "cell_type": "markdown",
   "metadata": {},
   "source": [
    "## Data flow to mysql"
   ]
  },
  {
   "cell_type": "code",
   "execution_count": null,
   "metadata": {},
   "outputs": [],
   "source": [
    "import mysql.connector as mdb\n",
    "from mysql.connector import Error\n",
    "import sys, traceback"
   ]
  },
  {
   "cell_type": "code",
   "execution_count": null,
   "metadata": {},
   "outputs": [],
   "source": [
    "def open_database(host, db_name, username, password):\n",
    "    try:\n",
    "        connection = mdb.connect(host=host,\n",
    "                                 database=db_name,\n",
    "                                 user=username,\n",
    "                                 password=password)\n",
    "        if connection.is_connected():\n",
    "           db_Info = connection.get_server_info()\n",
    "           print(\"Connected to MySQL database... MySQL Server version on \",db_Info)\n",
    "           cursor = connection.cursor()\n",
    "           cursor.execute(\"select database();\")\n",
    "           record = cursor.fetchone()\n",
    "           print (\"Your connected to - \", record)\n",
    "           cursor.close()\n",
    "    except Error as e :\n",
    "        print (\"Error while connecting to MySQL\", e)\n",
    "    return connection"
   ]
  },
  {
   "cell_type": "code",
   "execution_count": null,
   "metadata": {},
   "outputs": [],
   "source": [
    "def close_database(connection):\n",
    "    #closing database connection.\n",
    "    if(connection.is_connected()):\n",
    "        connection.close()\n",
    "        print(\"MySQL connection is closed\")"
   ]
  },
  {
   "cell_type": "code",
   "execution_count": 4,
   "metadata": {},
   "outputs": [
    {
     "name": "stdout",
     "output_type": "stream",
     "text": [
      "Connected to MySQL database... MySQL Server version on  8.0.15\n",
      "Your connected to -  ('caselaw',)\n"
     ]
    }
   ],
   "source": [
    "conn = open_database('localhost', 'caselaw', 'root', 'H3rnandez!')"
   ]
  },
  {
   "cell_type": "code",
   "execution_count": 5,
   "metadata": {},
   "outputs": [
    {
     "name": "stdout",
     "output_type": "stream",
     "text": [
      "(1, datetime.date(2000, 2, 3), None, None, 'NL', None, None, None, datetime.date(1900, 1, 1), '\\n        \\n          <rdf:list xmlns:rdf=\"http://www.w3.org/1999/02/22-rdf-syntax-ns#\" xmlns:ecli=\"https://e-justice.europa.eu/ecli\" xmlns:tr=\"http://tuchtrecht.overheid.nl/\" xmlns:eu=\"http://publications.europa.eu/celex/\" xmlns:dcterms=\"http://purl.org/dc/terms/\" xmlns:bwb=\"bwb-dl\" xmlns:cvdr=\"http://decentrale.regelgeving.overheid.nl/cvdr/\" xmlns:psi=\"http://psi.rechtspraak.nl/\" xmlns:rdfs=\"http://www.w3.org/2000/01/rdf-schema#\">\\n          <rdf:li>AB 2000, 272 met annotatie van J.H. van der Veen</rdf:li>\\n          <rdf:li>FED 2000/514</rdf:li>\\n        </rdf:list>\\n      \\n      \\n    ', 'ECLI:NL:CBB:2000:AN6374', 1)\n"
     ]
    }
   ],
   "source": [
    "query = \"\"\"SELECT * FROM caselaw.case LIMIT 1;\"\"\"\n",
    "cursor = conn.cursor(buffered=True)\n",
    "cursor.execute(query)\n",
    "records = cursor.fetchall()\n",
    "for row in records:\n",
    "    print(row)"
   ]
  },
  {
   "cell_type": "markdown",
   "metadata": {},
   "source": [
    "---\n",
    "### Datasets"
   ]
  },
  {
   "cell_type": "code",
   "execution_count": 6,
   "metadata": {},
   "outputs": [],
   "source": [
    "import pandas as pd\n",
    "import numpy as np\n",
    "import warnings\n",
    "import re\n",
    "warnings.filterwarnings('ignore')"
   ]
  },
  {
   "cell_type": "code",
   "execution_count": 7,
   "metadata": {},
   "outputs": [
    {
     "name": "stdout",
     "output_type": "stream",
     "text": [
      "case.csv                               cases_metadata.csv\n",
      "case_opinion_from_advocate_general.csv countries.csv\n",
      "caselaw.zip                            legal_intelligence_cases.csv\n",
      "caselawDB.sql                          legislation_citations.csv\n",
      "caselaw_citations.csv                  \u001b[34msample\u001b[m\u001b[m\n",
      "caselaw_db.sql                         test.csv\n"
     ]
    }
   ],
   "source": [
    "!ls ../data_dump"
   ]
  },
  {
   "cell_type": "code",
   "execution_count": 8,
   "metadata": {},
   "outputs": [],
   "source": [
    "df_case = pd.read_csv(\"../data_dump/case.csv\").replace(np.nan, 'NULL', regex=True)\n",
    "df_country = pd.read_csv(\"../data_dump/countries.csv\").replace(np.nan, 'NULL', regex=True)\n",
    "df_li_cases = pd.read_csv(\"../data_dump/legal_intelligence_cases.csv\").replace(np.nan, 'NULL', regex=True).drop_duplicates(subset =\"ecli\")\n",
    "df_case_opinion = pd.read_csv(\"../data_dump/case_opinion_from_advocate_general.csv\").replace(np.nan, 'NULL', regex=True)\n",
    "#df_case_citation = pd.read_csv(\"../data_dump/caselaw_citations.csv\").replace(np.nan, 'NULL', regex=True)\n",
    "df_case_citation = pd.read_csv(\"../data_dump/sample/caselaw_citations_ecli_sample_2.csv\").replace(np.nan, 'NULL', regex=True)\n",
    "#df_legislation_citation = pd.read_csv(\"../data_dump/legislation_citations.csv\").replace(np.nan, 'NULL', regex=True)\n",
    "df_legislation_citation = pd.read_csv(\"../data_dump/sample/legislation_citations_ecli_sample_2.csv\").replace(np.nan, 'NULL', regex=True)"
   ]
  },
  {
   "cell_type": "code",
   "execution_count": 9,
   "metadata": {},
   "outputs": [
    {
     "data": {
      "text/html": [
       "<div>\n",
       "<style scoped>\n",
       "    .dataframe tbody tr th:only-of-type {\n",
       "        vertical-align: middle;\n",
       "    }\n",
       "\n",
       "    .dataframe tbody tr th {\n",
       "        vertical-align: top;\n",
       "    }\n",
       "\n",
       "    .dataframe thead th {\n",
       "        text-align: right;\n",
       "    }\n",
       "</style>\n",
       "<table border=\"1\" class=\"dataframe\">\n",
       "  <thead>\n",
       "    <tr style=\"text-align: right;\">\n",
       "      <th></th>\n",
       "      <th>source_ecli</th>\n",
       "      <th>source_paragraph</th>\n",
       "      <th>target_ecli</th>\n",
       "      <th>target_paragraph</th>\n",
       "    </tr>\n",
       "  </thead>\n",
       "  <tbody>\n",
       "    <tr>\n",
       "      <th>0</th>\n",
       "      <td>ECLI:NL:CRVB:2000:ZB8616</td>\n",
       "      <td>NULL</td>\n",
       "      <td>ECLI:NL:CRVB:2004:AR7893</td>\n",
       "      <td>NULL</td>\n",
       "    </tr>\n",
       "    <tr>\n",
       "      <th>1</th>\n",
       "      <td>ECLI:NL:CRVB:2000:ZB8616</td>\n",
       "      <td>NULL</td>\n",
       "      <td>ECLI:NL:CRVB:2005:AT2142</td>\n",
       "      <td>NULL</td>\n",
       "    </tr>\n",
       "    <tr>\n",
       "      <th>2</th>\n",
       "      <td>ECLI:NL:GHARN:2000:160</td>\n",
       "      <td>NULL</td>\n",
       "      <td>ECLI:NL:HR:2002:AD8776</td>\n",
       "      <td>NULL</td>\n",
       "    </tr>\n",
       "    <tr>\n",
       "      <th>3</th>\n",
       "      <td>ECLI:NL:CRVB:2000:ZB8679</td>\n",
       "      <td>NULL</td>\n",
       "      <td>ECLI:NL:PHR:2015:153</td>\n",
       "      <td>NULL</td>\n",
       "    </tr>\n",
       "    <tr>\n",
       "      <th>4</th>\n",
       "      <td>ECLI:NL:CRVB:2000:ZB8679</td>\n",
       "      <td>NULL</td>\n",
       "      <td>ECLI:NL:PHR:2015:151</td>\n",
       "      <td>NULL</td>\n",
       "    </tr>\n",
       "  </tbody>\n",
       "</table>\n",
       "</div>"
      ],
      "text/plain": [
       "                source_ecli source_paragraph               target_ecli  \\\n",
       "0  ECLI:NL:CRVB:2000:ZB8616             NULL  ECLI:NL:CRVB:2004:AR7893   \n",
       "1  ECLI:NL:CRVB:2000:ZB8616             NULL  ECLI:NL:CRVB:2005:AT2142   \n",
       "2    ECLI:NL:GHARN:2000:160             NULL    ECLI:NL:HR:2002:AD8776   \n",
       "3  ECLI:NL:CRVB:2000:ZB8679             NULL      ECLI:NL:PHR:2015:153   \n",
       "4  ECLI:NL:CRVB:2000:ZB8679             NULL      ECLI:NL:PHR:2015:151   \n",
       "\n",
       "  target_paragraph  \n",
       "0             NULL  \n",
       "1             NULL  \n",
       "2             NULL  \n",
       "3             NULL  \n",
       "4             NULL  "
      ]
     },
     "execution_count": 9,
     "metadata": {},
     "output_type": "execute_result"
    }
   ],
   "source": [
    "df_case_citation.head()"
   ]
  },
  {
   "cell_type": "code",
   "execution_count": 10,
   "metadata": {},
   "outputs": [],
   "source": [
    "#change LI Ecli to not underscores\n",
    "for i, li_case in df_li_cases.iterrows():\n",
    "    #get the ecli number\n",
    "    ecli = li_case.ecli\n",
    "    #replace the underscores\n",
    "    new_ecli = ecli.replace('_', ':')\n",
    "    #save the new ecli in the dataframe\n",
    "    df_li_cases.at[i, 'ecli'] = new_ecli"
   ]
  },
  {
   "cell_type": "markdown",
   "metadata": {},
   "source": [
    "---\n",
    "### Sample to run the procedure"
   ]
  },
  {
   "cell_type": "code",
   "execution_count": 11,
   "metadata": {},
   "outputs": [],
   "source": [
    "df_sample = pd.read_csv(\"../data_dump/sample/ecli_sample_2.csv\", header=None).replace(np.nan, 'NULL', regex=True)"
   ]
  },
  {
   "cell_type": "code",
   "execution_count": 12,
   "metadata": {},
   "outputs": [
    {
     "name": "stdout",
     "output_type": "stream",
     "text": [
      "5000 6303 1305 1069 1\n"
     ]
    }
   ],
   "source": [
    "#sample from file\n",
    "sample = list(df_sample[0].values)\n",
    "\n",
    "##0: case sample\n",
    "df_case = df_case[df_case['case_id'].isin(sample)].reset_index(drop=True)\n",
    "\n",
    "##1: case opinions sample (opinions come from the target ecli) #Construction opinions flag ecli\n",
    "df_case_citation['is_opinion'] = [1 if re.search(r'\\bPHR\\b', ecli) else 0 for ecli in df_case_citation.target_ecli]\n",
    "        # subset of case opinion\n",
    "df_case_opinion = df_case_citation[df_case_citation['is_opinion'] == 1]\\\n",
    "    .merge(df_case_opinion, how='left', left_on='target_ecli', right_on='case_id')\\\n",
    "    .drop(columns=['source_paragraph','target_ecli','target_paragraph','is_opinion'])\\\n",
    "    .rename(columns={'source_ecli':'ecli', 'case_id':'ecli_opinion'})\n",
    "\n",
    "##2: case citations sample\n",
    "df_case_citation = df_case_citation[df_case_citation['is_opinion'] == 0].drop(columns='is_opinion')\n",
    "df_case_citation = df_case_citation[df_case_citation['source_ecli'].isin(sample)].reset_index(drop=True)\n",
    "\n",
    "##3: legislation citations sample\n",
    "df_legislation_citation = df_legislation_citation[df_legislation_citation['source_ecli'].isin(sample)].reset_index(drop=True)\n",
    "\n",
    "##4: li cases sample\n",
    "df_li_cases = df_li_cases[df_li_cases['ecli'].isin(sample)].reset_index(drop=True)\n",
    "\n",
    "print(len(df_case), len(df_legislation_citation), len(df_case_citation), len(df_case_opinion), len(df_li_cases))"
   ]
  },
  {
   "cell_type": "code",
   "execution_count": 13,
   "metadata": {},
   "outputs": [
    {
     "data": {
      "text/html": [
       "<div>\n",
       "<style scoped>\n",
       "    .dataframe tbody tr th:only-of-type {\n",
       "        vertical-align: middle;\n",
       "    }\n",
       "\n",
       "    .dataframe tbody tr th {\n",
       "        vertical-align: top;\n",
       "    }\n",
       "\n",
       "    .dataframe thead th {\n",
       "        text-align: right;\n",
       "    }\n",
       "</style>\n",
       "<table border=\"1\" class=\"dataframe\">\n",
       "  <thead>\n",
       "    <tr style=\"text-align: right;\">\n",
       "      <th></th>\n",
       "      <th>source_ecli</th>\n",
       "      <th>source_paragraph</th>\n",
       "      <th>target_ecli</th>\n",
       "      <th>target_paragraph</th>\n",
       "    </tr>\n",
       "  </thead>\n",
       "  <tbody>\n",
       "    <tr>\n",
       "      <th>0</th>\n",
       "      <td>ECLI:NL:CRVB:2000:ZB8616</td>\n",
       "      <td>NULL</td>\n",
       "      <td>ECLI:NL:CRVB:2004:AR7893</td>\n",
       "      <td>NULL</td>\n",
       "    </tr>\n",
       "    <tr>\n",
       "      <th>1</th>\n",
       "      <td>ECLI:NL:CRVB:2000:ZB8616</td>\n",
       "      <td>NULL</td>\n",
       "      <td>ECLI:NL:CRVB:2005:AT2142</td>\n",
       "      <td>NULL</td>\n",
       "    </tr>\n",
       "    <tr>\n",
       "      <th>2</th>\n",
       "      <td>ECLI:NL:GHARN:2000:160</td>\n",
       "      <td>NULL</td>\n",
       "      <td>ECLI:NL:HR:2002:AD8776</td>\n",
       "      <td>NULL</td>\n",
       "    </tr>\n",
       "    <tr>\n",
       "      <th>3</th>\n",
       "      <td>ECLI:NL:CRVB:2000:ZB8679</td>\n",
       "      <td>NULL</td>\n",
       "      <td>ECLI:NL:CRVB:2007:BA7165</td>\n",
       "      <td>NULL</td>\n",
       "    </tr>\n",
       "    <tr>\n",
       "      <th>4</th>\n",
       "      <td>ECLI:NL:CRVB:2000:ZB8679</td>\n",
       "      <td>NULL</td>\n",
       "      <td>ECLI:NL:CRVB:2014:1535</td>\n",
       "      <td>NULL</td>\n",
       "    </tr>\n",
       "  </tbody>\n",
       "</table>\n",
       "</div>"
      ],
      "text/plain": [
       "                source_ecli source_paragraph               target_ecli  \\\n",
       "0  ECLI:NL:CRVB:2000:ZB8616             NULL  ECLI:NL:CRVB:2004:AR7893   \n",
       "1  ECLI:NL:CRVB:2000:ZB8616             NULL  ECLI:NL:CRVB:2005:AT2142   \n",
       "2    ECLI:NL:GHARN:2000:160             NULL    ECLI:NL:HR:2002:AD8776   \n",
       "3  ECLI:NL:CRVB:2000:ZB8679             NULL  ECLI:NL:CRVB:2007:BA7165   \n",
       "4  ECLI:NL:CRVB:2000:ZB8679             NULL    ECLI:NL:CRVB:2014:1535   \n",
       "\n",
       "  target_paragraph  \n",
       "0             NULL  \n",
       "1             NULL  \n",
       "2             NULL  \n",
       "3             NULL  \n",
       "4             NULL  "
      ]
     },
     "execution_count": 13,
     "metadata": {},
     "output_type": "execute_result"
    }
   ],
   "source": [
    "df_case_citation.head()"
   ]
  },
  {
   "cell_type": "markdown",
   "metadata": {},
   "source": [
    "---\n",
    "### Utils"
   ]
  },
  {
   "cell_type": "code",
   "execution_count": 14,
   "metadata": {},
   "outputs": [],
   "source": [
    "def to_tuples(df):\n",
    "    return [tuple(x) for x in df.values]"
   ]
  },
  {
   "cell_type": "code",
   "execution_count": 15,
   "metadata": {},
   "outputs": [],
   "source": [
    "def null_for_nones(df, columname):\n",
    "    \"\"\"df to change column name to make nones instead of nulls\"\"\"\n",
    "    for i in range(len(df)):\n",
    "        if df.loc[i,columname] == 'NULL':\n",
    "            df.loc[i,columname] = None "
   ]
  },
  {
   "cell_type": "code",
   "execution_count": 16,
   "metadata": {},
   "outputs": [],
   "source": [
    "def clean_table_sql(table_name):\n",
    "    try:\n",
    "        cursor1 = conn.cursor(buffered=True)\n",
    "        query1 = \"\"\"DELETE FROM `{}`;\"\"\".format(table_name)\n",
    "        cursor1.execute(query1)\n",
    "        cursor2 = conn.cursor(buffered=True)\n",
    "        query2 = \"\"\"ALTER TABLE `{}` AUTO_INCREMENT = 1;\"\"\".format(table_name)\n",
    "        cursor2.execute(query2)\n",
    "        conn.commit()\n",
    "    except Error as error :\n",
    "        conn.rollback()\n",
    "        print(\"Failed to delete MySQL table {}\".format(error))\n",
    "        traceback.print_exc(file=sys.stdout)"
   ]
  },
  {
   "cell_type": "code",
   "execution_count": 17,
   "metadata": {},
   "outputs": [],
   "source": [
    "def get_parent_ids(table, column_table, df, column_df):    \n",
    "    \"\"\"DB table, DB column_table, df: pandas df to look at, column_df\"\"\"\n",
    "    pid = []\n",
    "    cursor = conn.cursor()\n",
    "    for idx, data in enumerate(df[column_df]):\n",
    "        if \"'\" in data:\n",
    "            query = \"\"\"SELECT id FROM `{}` WHERE {} = \\\"{}\\\" \"\"\".format(table, column_table, data)\n",
    "        else:\n",
    "            query = \"\"\"SELECT id FROM `{}` WHERE {} = '{}' \"\"\".format(table, column_table, data)\n",
    "        #print(idx, data)\n",
    "        cursor.execute(query)\n",
    "        records = cursor.fetchall()\n",
    "        if(len(records) == 0):\n",
    "            print('select did not find match')\n",
    "        pid.append(records[0][0])\n",
    "    cursor.close()\n",
    "    return pid"
   ]
  },
  {
   "cell_type": "markdown",
   "metadata": {},
   "source": [
    "---\n",
    "### Tables Hierarchies"
   ]
  },
  {
   "cell_type": "markdown",
   "metadata": {},
   "source": [
    "1. Court\n",
    "2. Case\n",
    "3. Case Opinion\n",
    "4. LI Case\n",
    "5. Subject\n",
    "6. Case subject\n",
    "7. Country\n",
    "8. Case country\n",
    "9. Case citation\n",
    "10. Legislation citation\n",
    "11. Case related decision\n"
   ]
  },
  {
   "cell_type": "code",
   "execution_count": 18,
   "metadata": {},
   "outputs": [],
   "source": [
    "clean_table_sql('case_related_decision')\n",
    "clean_table_sql('legislation_citation')\n",
    "clean_table_sql('case_citation')\n",
    "clean_table_sql('case_country')\n",
    "clean_table_sql('country')\n",
    "clean_table_sql('case_subject')\n",
    "clean_table_sql('subject')\n",
    "clean_table_sql('legal_intelligence_case')\n",
    "clean_table_sql('case_opinion')\n",
    "clean_table_sql('case')\n",
    "clean_table_sql('court')"
   ]
  },
  {
   "cell_type": "markdown",
   "metadata": {},
   "source": [
    "---\n",
    "### Courts"
   ]
  },
  {
   "cell_type": "code",
   "execution_count": 19,
   "metadata": {},
   "outputs": [],
   "source": [
    "court = pd.DataFrame()"
   ]
  },
  {
   "cell_type": "code",
   "execution_count": 20,
   "metadata": {},
   "outputs": [],
   "source": [
    "courts_list = df_case.authority.unique()\n",
    "courts_list = [i.replace('\"','-') for i in courts_list]\n",
    "court['name'] = courts_list"
   ]
  },
  {
   "cell_type": "code",
   "execution_count": 21,
   "metadata": {},
   "outputs": [],
   "source": [
    "#dummies\n",
    "court.loc[:,'type'] = 'NULL'\n",
    "court.loc[:,'level'] = 'NULL'\n",
    "court.loc[:,'country'] = 'NULL'\n",
    "court.loc[:,'language'] = 'NULL' \n",
    "court.loc[:,'jurisdiction'] = 'NULL' \n",
    "court.loc[:,'law_area'] = 'NULL'\n",
    "court.loc[:,'authority_level'] = 'NULL'"
   ]
  },
  {
   "cell_type": "code",
   "execution_count": 22,
   "metadata": {},
   "outputs": [],
   "source": [
    "#court.loc[810,'name']#.head(2)"
   ]
  },
  {
   "cell_type": "code",
   "execution_count": 23,
   "metadata": {},
   "outputs": [],
   "source": [
    "for col in court.columns:\n",
    "    null_for_nones(court, col)"
   ]
  },
  {
   "cell_type": "code",
   "execution_count": 24,
   "metadata": {},
   "outputs": [],
   "source": [
    "tuples = to_tuples(court)"
   ]
  },
  {
   "cell_type": "code",
   "execution_count": 25,
   "metadata": {},
   "outputs": [
    {
     "name": "stdout",
     "output_type": "stream",
     "text": [
      "court added\n"
     ]
    }
   ],
   "source": [
    "#(\\\"%s\\\", %s, %s, %s, %s, %s, %s, %s)\")\n",
    "try:  \n",
    "    cursor = conn.cursor()\n",
    "    for idx, data in enumerate(tuples):\n",
    "        query = (\"INSERT INTO `court`\"\n",
    "                \"(name, type, level, country, language, jurisdiction, law_area, authority_level)\"\n",
    "                \"VALUES (%s, %s, %s, %s, %s, %s, %s, %s)\")\n",
    "        #print(idx, query)\n",
    "        cursor.execute(query, data)\n",
    "    conn.commit()\n",
    "    cursor.close()\n",
    "    print('court added')\n",
    "except Error as error :\n",
    "    conn.rollback()\n",
    "    print(\"Failed to insert into MySQL table {}\".format(error))\n",
    "    traceback.print_exc(file=sys.stdout)"
   ]
  },
  {
   "cell_type": "code",
   "execution_count": 26,
   "metadata": {},
   "outputs": [
    {
     "data": {
      "text/plain": [
       "62"
      ]
     },
     "execution_count": 26,
     "metadata": {},
     "output_type": "execute_result"
    }
   ],
   "source": [
    "len(court)"
   ]
  },
  {
   "cell_type": "markdown",
   "metadata": {},
   "source": [
    "---\n",
    "### Case"
   ]
  },
  {
   "cell_type": "code",
   "execution_count": 27,
   "metadata": {},
   "outputs": [],
   "source": [
    "case = pd.DataFrame()\n",
    "case_columns = ['date',\n",
    "        'description',\n",
    "        'language',\n",
    "        'venue',\n",
    "        'abstract',\n",
    "        'procedure_type',\n",
    "        'lodge_date',\n",
    "        'link',\n",
    "        'ecli']"
   ]
  },
  {
   "cell_type": "code",
   "execution_count": 28,
   "metadata": {},
   "outputs": [],
   "source": [
    "temp = df_case[['date',\n",
    "                'description',\n",
    "                'language',\n",
    "                'venue',\n",
    "                'abstract',\n",
    "                'procedure_type',\n",
    "                'lodge_date',\n",
    "                'alternative_sources',\n",
    "                'case_id']]\n",
    "temp.columns = case_columns\n",
    "case = case.append(temp, ignore_index=True)"
   ]
  },
  {
   "cell_type": "code",
   "execution_count": 29,
   "metadata": {},
   "outputs": [],
   "source": [
    "parents_ids = get_parent_ids('court', 'name', df_case, 'authority')"
   ]
  },
  {
   "cell_type": "code",
   "execution_count": 30,
   "metadata": {},
   "outputs": [],
   "source": [
    "case['name'] = 'NULL'\n",
    "case['court_id'] = parents_ids\n",
    "case['date'] = [pd.to_datetime(i, errors='coerce') if i != 'NULL' else pd.to_datetime('1900-01-01 00:00:00') for i in case['date']]\n",
    "case['lodge_date'] = [pd.to_datetime(i, errors='coerce') if i != 'NULL' else pd.to_datetime('1900-01-01 00:00:00') for i in case['lodge_date']]"
   ]
  },
  {
   "cell_type": "code",
   "execution_count": 31,
   "metadata": {},
   "outputs": [
    {
     "data": {
      "text/html": [
       "<div>\n",
       "<style scoped>\n",
       "    .dataframe tbody tr th:only-of-type {\n",
       "        vertical-align: middle;\n",
       "    }\n",
       "\n",
       "    .dataframe tbody tr th {\n",
       "        vertical-align: top;\n",
       "    }\n",
       "\n",
       "    .dataframe thead th {\n",
       "        text-align: right;\n",
       "    }\n",
       "</style>\n",
       "<table border=\"1\" class=\"dataframe\">\n",
       "  <thead>\n",
       "    <tr style=\"text-align: right;\">\n",
       "      <th></th>\n",
       "      <th>date</th>\n",
       "      <th>description</th>\n",
       "      <th>language</th>\n",
       "      <th>venue</th>\n",
       "      <th>abstract</th>\n",
       "      <th>procedure_type</th>\n",
       "      <th>lodge_date</th>\n",
       "      <th>link</th>\n",
       "      <th>ecli</th>\n",
       "      <th>name</th>\n",
       "      <th>court_id</th>\n",
       "    </tr>\n",
       "  </thead>\n",
       "  <tbody>\n",
       "    <tr>\n",
       "      <th>0</th>\n",
       "      <td>2000-02-03</td>\n",
       "      <td>NULL</td>\n",
       "      <td>NL</td>\n",
       "      <td>NULL</td>\n",
       "      <td>NULL</td>\n",
       "      <td>NULL</td>\n",
       "      <td>1900-01-01</td>\n",
       "      <td>\\n        \\n          &lt;rdf:list xmlns:rdf=\"htt...</td>\n",
       "      <td>ECLI:NL:CBB:2000:AN6374</td>\n",
       "      <td>NULL</td>\n",
       "      <td>1</td>\n",
       "    </tr>\n",
       "    <tr>\n",
       "      <th>1</th>\n",
       "      <td>2000-02-24</td>\n",
       "      <td>NULL</td>\n",
       "      <td>NL</td>\n",
       "      <td>NULL</td>\n",
       "      <td>NULL</td>\n",
       "      <td>NULL</td>\n",
       "      <td>1900-01-01</td>\n",
       "      <td>NULL</td>\n",
       "      <td>ECLI:NL:CBB:2000:ZG1779</td>\n",
       "      <td>NULL</td>\n",
       "      <td>1</td>\n",
       "    </tr>\n",
       "    <tr>\n",
       "      <th>2</th>\n",
       "      <td>2000-02-23</td>\n",
       "      <td>NULL</td>\n",
       "      <td>NL</td>\n",
       "      <td>NULL</td>\n",
       "      <td>NULL</td>\n",
       "      <td>NULL</td>\n",
       "      <td>1900-01-01</td>\n",
       "      <td>NULL</td>\n",
       "      <td>ECLI:NL:CBB:2000:ZG1781</td>\n",
       "      <td>NULL</td>\n",
       "      <td>1</td>\n",
       "    </tr>\n",
       "    <tr>\n",
       "      <th>3</th>\n",
       "      <td>2000-01-20</td>\n",
       "      <td>NULL</td>\n",
       "      <td>NL</td>\n",
       "      <td>NULL</td>\n",
       "      <td>NULL</td>\n",
       "      <td>NULL</td>\n",
       "      <td>1900-01-01</td>\n",
       "      <td>NULL</td>\n",
       "      <td>ECLI:NL:CRVB:2000:AI5518</td>\n",
       "      <td>NULL</td>\n",
       "      <td>2</td>\n",
       "    </tr>\n",
       "    <tr>\n",
       "      <th>4</th>\n",
       "      <td>2000-02-04</td>\n",
       "      <td>NULL</td>\n",
       "      <td>NL</td>\n",
       "      <td>NULL</td>\n",
       "      <td>NULL</td>\n",
       "      <td>NULL</td>\n",
       "      <td>1900-01-01</td>\n",
       "      <td>NULL</td>\n",
       "      <td>ECLI:NL:CRVB:2000:AI5482</td>\n",
       "      <td>NULL</td>\n",
       "      <td>2</td>\n",
       "    </tr>\n",
       "  </tbody>\n",
       "</table>\n",
       "</div>"
      ],
      "text/plain": [
       "        date description language venue abstract procedure_type lodge_date  \\\n",
       "0 2000-02-03        NULL       NL  NULL     NULL           NULL 1900-01-01   \n",
       "1 2000-02-24        NULL       NL  NULL     NULL           NULL 1900-01-01   \n",
       "2 2000-02-23        NULL       NL  NULL     NULL           NULL 1900-01-01   \n",
       "3 2000-01-20        NULL       NL  NULL     NULL           NULL 1900-01-01   \n",
       "4 2000-02-04        NULL       NL  NULL     NULL           NULL 1900-01-01   \n",
       "\n",
       "                                                link  \\\n",
       "0  \\n        \\n          <rdf:list xmlns:rdf=\"htt...   \n",
       "1                                               NULL   \n",
       "2                                               NULL   \n",
       "3                                               NULL   \n",
       "4                                               NULL   \n",
       "\n",
       "                       ecli  name  court_id  \n",
       "0   ECLI:NL:CBB:2000:AN6374  NULL         1  \n",
       "1   ECLI:NL:CBB:2000:ZG1779  NULL         1  \n",
       "2   ECLI:NL:CBB:2000:ZG1781  NULL         1  \n",
       "3  ECLI:NL:CRVB:2000:AI5518  NULL         2  \n",
       "4  ECLI:NL:CRVB:2000:AI5482  NULL         2  "
      ]
     },
     "execution_count": 31,
     "metadata": {},
     "output_type": "execute_result"
    }
   ],
   "source": [
    "case.head()"
   ]
  },
  {
   "cell_type": "code",
   "execution_count": 32,
   "metadata": {},
   "outputs": [],
   "source": [
    "for col in case.columns:\n",
    "    null_for_nones(case, col)"
   ]
  },
  {
   "cell_type": "code",
   "execution_count": 33,
   "metadata": {},
   "outputs": [],
   "source": [
    "tuples = to_tuples(case)"
   ]
  },
  {
   "cell_type": "code",
   "execution_count": 34,
   "metadata": {},
   "outputs": [
    {
     "name": "stdout",
     "output_type": "stream",
     "text": [
      "case added\n"
     ]
    }
   ],
   "source": [
    "try:  \n",
    "    cursor = conn.cursor(buffered=True)\n",
    "    for idx, data in enumerate(tuples):\n",
    "        query = (\"INSERT INTO `case`\"\n",
    "                \"(date, description, language, venue, abstract, procedure_type, lodge_date, link, ecli, name, court_id)\"\n",
    "                \"VALUES (%s, %s, %s, %s, %s, %s, %s, %s, %s, %s, %s)\")\n",
    "        cursor.execute(query, data)\n",
    "    conn.commit()\n",
    "    cursor.close()\n",
    "    print('case added')\n",
    "except Error as error :\n",
    "    conn.rollback()\n",
    "    print(\"Failed to insert into MySQL table {}\".format(error))\n",
    "    traceback.print_exc(file=sys.stdout)"
   ]
  },
  {
   "cell_type": "markdown",
   "metadata": {},
   "source": [
    "---\n",
    "### Case opinion advocate general"
   ]
  },
  {
   "cell_type": "code",
   "execution_count": 35,
   "metadata": {},
   "outputs": [],
   "source": [
    "case_opinion = pd.DataFrame()\n",
    "case_opinion_columns = ['date',\n",
    "                        'case_number',\n",
    "                        'description',\n",
    "                        'language',\n",
    "                        'country',\n",
    "                        'venue',\n",
    "                        'abstract',\n",
    "                        'procedure_type',\n",
    "                        'authority',\n",
    "                        'ecli',\n",
    "                       'ecli_opinion']"
   ]
  },
  {
   "cell_type": "code",
   "execution_count": 36,
   "metadata": {},
   "outputs": [],
   "source": [
    "temp = df_case_opinion[['date',\n",
    "                        'case_number',\n",
    "                        'description',\n",
    "                        'language',\n",
    "                        'country',\n",
    "                        'venue',\n",
    "                        'abstract',\n",
    "                        'procedure_type',\n",
    "                        'authority',\n",
    "                        'ecli',\n",
    "                       'ecli_opinion']]\n",
    "temp.columns = case_opinion_columns\n",
    "case_opinion = case_opinion.append(temp, ignore_index=True)"
   ]
  },
  {
   "cell_type": "code",
   "execution_count": 37,
   "metadata": {},
   "outputs": [],
   "source": [
    "case_opinion.description = [i[1:] if i[0] in ['\\t','\\n',' '] else i for i in case_opinion.description.apply(str)]\n",
    "case_opinion.abstract = [i[1:] if i[0] in ['\\t','\\n',' '] else i for i in case_opinion.abstract.apply(str)]\n",
    "case_opinion.abstract =[ i[:200] for i in case_opinion.abstract.apply(str)]"
   ]
  },
  {
   "cell_type": "code",
   "execution_count": 38,
   "metadata": {},
   "outputs": [],
   "source": [
    "#to check\n",
    "case_opinion = case_opinion[~case_opinion.ecli_opinion.isna()]\\\n",
    "    .drop_duplicates(subset='ecli', keep=\"first\")\\\n",
    "    .reset_index(drop=True)"
   ]
  },
  {
   "cell_type": "code",
   "execution_count": 39,
   "metadata": {},
   "outputs": [],
   "source": [
    "case_opinion.replace(np.nan,'NULL',regex = True, inplace=True)"
   ]
  },
  {
   "cell_type": "code",
   "execution_count": 40,
   "metadata": {},
   "outputs": [],
   "source": [
    "case_opinion.date = [pd.to_datetime(i, errors='coerce') if i != 'NULL' else pd.to_datetime('1900-01-01 00:00:00') for i in case_opinion['date']]"
   ]
  },
  {
   "cell_type": "code",
   "execution_count": 41,
   "metadata": {},
   "outputs": [],
   "source": [
    "for col in case_opinion.columns:\n",
    "    null_for_nones(case_opinion, col)"
   ]
  },
  {
   "cell_type": "code",
   "execution_count": 42,
   "metadata": {},
   "outputs": [],
   "source": [
    "tuples = to_tuples(case_opinion)"
   ]
  },
  {
   "cell_type": "code",
   "execution_count": 43,
   "metadata": {},
   "outputs": [
    {
     "name": "stdout",
     "output_type": "stream",
     "text": [
      "case_opinion added\n"
     ]
    }
   ],
   "source": [
    "try:  \n",
    "    cursor = conn.cursor()\n",
    "    for idx, data in enumerate(tuples):\n",
    "        query = (\"INSERT INTO `case_opinion`\"\n",
    "                \"(date, case_number, description, language, country, venue, abstract, procedure_type, authority, ecli, ecli_opinion)\"\n",
    "                \"VALUES (%s, %s, %s, %s, %s, %s, %s, %s, %s, %s, %s)\")\n",
    "        cursor.execute(query, data)\n",
    "    conn.commit()\n",
    "    cursor.close()\n",
    "    print('case_opinion added')\n",
    "except Error as error :\n",
    "    conn.rollback()\n",
    "    print(\"Failed to insert into MySQL table {}\".format(error))\n",
    "    traceback.print_exc(file=sys.stdout)"
   ]
  },
  {
   "cell_type": "markdown",
   "metadata": {},
   "source": [
    "---\n",
    "### Legal Intelligence Cases"
   ]
  },
  {
   "cell_type": "code",
   "execution_count": 44,
   "metadata": {},
   "outputs": [],
   "source": [
    "legal_intelligence_case = pd.DataFrame()\n",
    "legal_intelligence_case_columns = ['ecli',\n",
    "                                   'name',\n",
    "                                   'date',\n",
    "                                   'abstract',\n",
    "                                   'subject',\n",
    "                                   'link',\n",
    "                                   'DisplayTitle',\n",
    "                                   'OriginalUrl',\n",
    "                                   'Jurisdiction',\n",
    "                                   'DocumentType',\n",
    "                                   'CaseNumber',\n",
    "                                   'PublicationNumber',\n",
    "                                   'IssueNumber',\n",
    "                                   'lodge_date',\n",
    "                                   'DateAdded',\n",
    "                                   'Sources',\n",
    "                                   'UrlWithAutoLogOnToken',\n",
    "                                   'court',\n",
    "                                   'DisplaySubtitle']"
   ]
  },
  {
   "cell_type": "code",
   "execution_count": 45,
   "metadata": {},
   "outputs": [],
   "source": [
    "temp = df_li_cases[['ecli',\n",
    "                    'Title',\n",
    "                    'date',\n",
    "                    'abstract',\n",
    "                    'LawArea',\n",
    "                    'Url',\n",
    "                    'DisplayTitle',\n",
    "                    'OriginalUrl',\n",
    "                    'Jurisdiction',\n",
    "                    'DocumentType',\n",
    "                    'case_number',\n",
    "                    'PublicationNumber',\n",
    "                    'IssueNumber',\n",
    "                    'lodge_date',\n",
    "                    'DateAdded',\n",
    "                    'Sources',\n",
    "                    'UrlWithAutoLogOnToken',\n",
    "                    'authority',\n",
    "                    'DisplaySubtitle']]\n",
    "temp.columns = legal_intelligence_case_columns\n",
    "legal_intelligence_case = legal_intelligence_case.append(temp, ignore_index=True)"
   ]
  },
  {
   "cell_type": "code",
   "execution_count": 46,
   "metadata": {},
   "outputs": [
    {
     "data": {
      "text/html": [
       "<div>\n",
       "<style scoped>\n",
       "    .dataframe tbody tr th:only-of-type {\n",
       "        vertical-align: middle;\n",
       "    }\n",
       "\n",
       "    .dataframe tbody tr th {\n",
       "        vertical-align: top;\n",
       "    }\n",
       "\n",
       "    .dataframe thead th {\n",
       "        text-align: right;\n",
       "    }\n",
       "</style>\n",
       "<table border=\"1\" class=\"dataframe\">\n",
       "  <thead>\n",
       "    <tr style=\"text-align: right;\">\n",
       "      <th></th>\n",
       "      <th>ecli</th>\n",
       "      <th>name</th>\n",
       "      <th>date</th>\n",
       "      <th>abstract</th>\n",
       "      <th>subject</th>\n",
       "      <th>link</th>\n",
       "      <th>DisplayTitle</th>\n",
       "      <th>OriginalUrl</th>\n",
       "      <th>Jurisdiction</th>\n",
       "      <th>DocumentType</th>\n",
       "      <th>CaseNumber</th>\n",
       "      <th>PublicationNumber</th>\n",
       "      <th>IssueNumber</th>\n",
       "      <th>lodge_date</th>\n",
       "      <th>DateAdded</th>\n",
       "      <th>Sources</th>\n",
       "      <th>UrlWithAutoLogOnToken</th>\n",
       "      <th>court</th>\n",
       "      <th>DisplaySubtitle</th>\n",
       "    </tr>\n",
       "  </thead>\n",
       "  <tbody>\n",
       "    <tr>\n",
       "      <th>0</th>\n",
       "      <td>ECLI:NL:RVS:2000:AA6821</td>\n",
       "      <td>Module Ruimtelijke ordening 2000/4001: ABRvS, ...</td>\n",
       "      <td>20000101</td>\n",
       "      <td>Afdeling bestuursrechtspraak van de Raad van S...</td>\n",
       "      <td>['Ruimtelijk Bestuursrecht/Milieurecht/Energie...</td>\n",
       "      <td>http://www.legalintelligence.com/documents/497...</td>\n",
       "      <td>Module Ruimtelijke ordening 2000/4001: ABRvS, ...</td>\n",
       "      <td>https://www.navigator.nl/#/document/dae45509e5...</td>\n",
       "      <td>Nederland</td>\n",
       "      <td>Rechtspraak</td>\n",
       "      <td>199902237/01</td>\n",
       "      <td>NULL</td>\n",
       "      <td>NULL</td>\n",
       "      <td>20000511</td>\n",
       "      <td>20110628</td>\n",
       "      <td>Module Ruimtelijke Ordening</td>\n",
       "      <td>http://www.legalintelligence.com/documents/497...</td>\n",
       "      <td>Raad van State</td>\n",
       "      <td>Module-serie - Module Ruimtelijke Ordening</td>\n",
       "    </tr>\n",
       "  </tbody>\n",
       "</table>\n",
       "</div>"
      ],
      "text/plain": [
       "                      ecli                                               name  \\\n",
       "0  ECLI:NL:RVS:2000:AA6821  Module Ruimtelijke ordening 2000/4001: ABRvS, ...   \n",
       "\n",
       "       date                                           abstract  \\\n",
       "0  20000101  Afdeling bestuursrechtspraak van de Raad van S...   \n",
       "\n",
       "                                             subject  \\\n",
       "0  ['Ruimtelijk Bestuursrecht/Milieurecht/Energie...   \n",
       "\n",
       "                                                link  \\\n",
       "0  http://www.legalintelligence.com/documents/497...   \n",
       "\n",
       "                                        DisplayTitle  \\\n",
       "0  Module Ruimtelijke ordening 2000/4001: ABRvS, ...   \n",
       "\n",
       "                                         OriginalUrl Jurisdiction  \\\n",
       "0  https://www.navigator.nl/#/document/dae45509e5...    Nederland   \n",
       "\n",
       "  DocumentType    CaseNumber PublicationNumber IssueNumber  lodge_date  \\\n",
       "0  Rechtspraak  199902237/01              NULL        NULL    20000511   \n",
       "\n",
       "   DateAdded                      Sources  \\\n",
       "0   20110628  Module Ruimtelijke Ordening   \n",
       "\n",
       "                               UrlWithAutoLogOnToken           court  \\\n",
       "0  http://www.legalintelligence.com/documents/497...  Raad van State   \n",
       "\n",
       "                              DisplaySubtitle  \n",
       "0  Module-serie - Module Ruimtelijke Ordening  "
      ]
     },
     "execution_count": 46,
     "metadata": {},
     "output_type": "execute_result"
    }
   ],
   "source": [
    "legal_intelligence_case.head(2)"
   ]
  },
  {
   "cell_type": "code",
   "execution_count": 47,
   "metadata": {},
   "outputs": [],
   "source": [
    "#legal_intelligence_case['name'] = [i[0:250] for i in legal_intelligence_case['name']]\n",
    "#legal_intelligence_case['DisplayTitle'] = [i[0:250] for i in legal_intelligence_case['DisplayTitle']]\n",
    "legal_intelligence_case['date'] = [pd.to_datetime(i, errors='coerce') if i != 'NULL' else pd.to_datetime('1900-01-01 00:00:00') for i in df_li_cases['date']]\n",
    "legal_intelligence_case['lodge_date'] = [pd.to_datetime(i, errors='coerce') if i != 'NULL' else pd.to_datetime('1900-01-01 00:00:00') for i in df_li_cases['lodge_date']]\n",
    "legal_intelligence_case['DateAdded'] = [pd.to_datetime(i, errors='coerce') if i != 'NULL' else pd.to_datetime('1900-01-01 00:00:00') for i in df_li_cases['DateAdded']]"
   ]
  },
  {
   "cell_type": "code",
   "execution_count": 48,
   "metadata": {},
   "outputs": [],
   "source": [
    "for col in legal_intelligence_case.columns:\n",
    "    null_for_nones(legal_intelligence_case, col)"
   ]
  },
  {
   "cell_type": "code",
   "execution_count": 49,
   "metadata": {},
   "outputs": [],
   "source": [
    "tuples = to_tuples(legal_intelligence_case)"
   ]
  },
  {
   "cell_type": "code",
   "execution_count": 50,
   "metadata": {},
   "outputs": [
    {
     "name": "stdout",
     "output_type": "stream",
     "text": [
      "legal intelligence added\n"
     ]
    }
   ],
   "source": [
    "try:  \n",
    "    cursor = conn.cursor()\n",
    "    for idx, data in enumerate(tuples):\n",
    "        query = (\"INSERT INTO `legal_intelligence_case`\"\n",
    "                \"(ecli, name, date, abstract, subject, link, DisplayTitle, OriginalUrl, Jurisdiction, DocumentType, CaseNumber, PublicationNumber, IssueNumber, lodge_date, DateAdded, Sources, UrlWithAutoLogOnToken, court, DisplaySubtitle)\"\n",
    "                \"VALUES (%s, %s, %s, %s, %s, %s, %s, %s, %s, %s, %s, %s, %s, %s, %s, %s, %s, %s, %s)\")\n",
    "        cursor.execute(query, data)\n",
    "    conn.commit()\n",
    "    cursor.close()\n",
    "    print('legal intelligence added')\n",
    "except Error as error :\n",
    "    conn.rollback()\n",
    "    print(\"Failed to insert into MySQL table {}\".format(error))\n",
    "    traceback.print_exc(file=sys.stdout)"
   ]
  },
  {
   "cell_type": "markdown",
   "metadata": {},
   "source": [
    "---\n",
    "### Subjects"
   ]
  },
  {
   "cell_type": "code",
   "execution_count": 51,
   "metadata": {},
   "outputs": [],
   "source": [
    "subjects_as_list = [list(row.split(\"; \")) for row in df_case.subject]\n",
    "unique_subjects = \\\n",
    "    set(list(\n",
    "        pd.core.common\\\n",
    "            .flatten(subjects_as_list)))"
   ]
  },
  {
   "cell_type": "code",
   "execution_count": 52,
   "metadata": {},
   "outputs": [],
   "source": [
    "subject = pd.DataFrame()\n",
    "subject['name'] = list(sorted(unique_subjects))\n",
    "subject.loc[subject.name=='NULL'] = 'Niet Gespecificeerd'\n",
    "subject.loc[:,'standard_name'] = 'NULL'"
   ]
  },
  {
   "cell_type": "code",
   "execution_count": 53,
   "metadata": {},
   "outputs": [
    {
     "data": {
      "text/html": [
       "<div>\n",
       "<style scoped>\n",
       "    .dataframe tbody tr th:only-of-type {\n",
       "        vertical-align: middle;\n",
       "    }\n",
       "\n",
       "    .dataframe tbody tr th {\n",
       "        vertical-align: top;\n",
       "    }\n",
       "\n",
       "    .dataframe thead th {\n",
       "        text-align: right;\n",
       "    }\n",
       "</style>\n",
       "<table border=\"1\" class=\"dataframe\">\n",
       "  <thead>\n",
       "    <tr style=\"text-align: right;\">\n",
       "      <th></th>\n",
       "      <th>name</th>\n",
       "      <th>standard_name</th>\n",
       "    </tr>\n",
       "  </thead>\n",
       "  <tbody>\n",
       "    <tr>\n",
       "      <th>0</th>\n",
       "      <td>Ambtenarenrecht</td>\n",
       "      <td>NULL</td>\n",
       "    </tr>\n",
       "    <tr>\n",
       "      <th>1</th>\n",
       "      <td>Belastingrecht</td>\n",
       "      <td>NULL</td>\n",
       "    </tr>\n",
       "  </tbody>\n",
       "</table>\n",
       "</div>"
      ],
      "text/plain": [
       "              name standard_name\n",
       "0  Ambtenarenrecht          NULL\n",
       "1   Belastingrecht          NULL"
      ]
     },
     "execution_count": 53,
     "metadata": {},
     "output_type": "execute_result"
    }
   ],
   "source": [
    "subject.head(2)"
   ]
  },
  {
   "cell_type": "code",
   "execution_count": 54,
   "metadata": {},
   "outputs": [],
   "source": [
    "#clean_table_sql('subject')"
   ]
  },
  {
   "cell_type": "code",
   "execution_count": 55,
   "metadata": {},
   "outputs": [],
   "source": [
    "for col in subject.columns:\n",
    "    null_for_nones(subject, col)"
   ]
  },
  {
   "cell_type": "code",
   "execution_count": 56,
   "metadata": {},
   "outputs": [],
   "source": [
    "tuples = to_tuples(subject)"
   ]
  },
  {
   "cell_type": "code",
   "execution_count": 57,
   "metadata": {},
   "outputs": [
    {
     "name": "stdout",
     "output_type": "stream",
     "text": [
      "subject added\n"
     ]
    }
   ],
   "source": [
    "try:  \n",
    "    cursor = conn.cursor()\n",
    "    for idx, data in enumerate(tuples):\n",
    "        query = (\"INSERT INTO `subject`\"\n",
    "                \"(name, standard_name)\"\n",
    "                \"VALUES (%s, %s)\")\n",
    "        #print(idx)\n",
    "        cursor.execute(query, data)\n",
    "    conn.commit()\n",
    "    cursor.close()\n",
    "    print('subject added')\n",
    "except Error as error :\n",
    "    conn.rollback()\n",
    "    print(\"Failed to insert into MySQL table {}\".format(error))\n",
    "    traceback.print_exc(file=sys.stdout)"
   ]
  },
  {
   "cell_type": "markdown",
   "metadata": {},
   "source": [
    "---\n",
    "### Case - Subject"
   ]
  },
  {
   "cell_type": "code",
   "execution_count": 58,
   "metadata": {},
   "outputs": [
    {
     "data": {
      "text/plain": [
       "6658"
      ]
     },
     "execution_count": 58,
     "metadata": {},
     "output_type": "execute_result"
    }
   ],
   "source": [
    "df_subjects_case = df_case[['subject','case_id']]\n",
    "df_subjects_case.loc[:,'subject'] = subjects_as_list\n",
    "df_subjects_case = df_subjects_case.explode('subject')\n",
    "len(df_subjects_case)"
   ]
  },
  {
   "cell_type": "code",
   "execution_count": 59,
   "metadata": {},
   "outputs": [
    {
     "data": {
      "text/html": [
       "<div>\n",
       "<style scoped>\n",
       "    .dataframe tbody tr th:only-of-type {\n",
       "        vertical-align: middle;\n",
       "    }\n",
       "\n",
       "    .dataframe tbody tr th {\n",
       "        vertical-align: top;\n",
       "    }\n",
       "\n",
       "    .dataframe thead th {\n",
       "        text-align: right;\n",
       "    }\n",
       "</style>\n",
       "<table border=\"1\" class=\"dataframe\">\n",
       "  <thead>\n",
       "    <tr style=\"text-align: right;\">\n",
       "      <th></th>\n",
       "      <th>subject</th>\n",
       "      <th>case_id</th>\n",
       "    </tr>\n",
       "  </thead>\n",
       "  <tbody>\n",
       "    <tr>\n",
       "      <th>0</th>\n",
       "      <td>NULL</td>\n",
       "      <td>ECLI:NL:CBB:2000:AN6374</td>\n",
       "    </tr>\n",
       "    <tr>\n",
       "      <th>1</th>\n",
       "      <td>Bestuursrecht</td>\n",
       "      <td>ECLI:NL:CBB:2000:ZG1779</td>\n",
       "    </tr>\n",
       "  </tbody>\n",
       "</table>\n",
       "</div>"
      ],
      "text/plain": [
       "         subject                  case_id\n",
       "0           NULL  ECLI:NL:CBB:2000:AN6374\n",
       "1  Bestuursrecht  ECLI:NL:CBB:2000:ZG1779"
      ]
     },
     "execution_count": 59,
     "metadata": {},
     "output_type": "execute_result"
    }
   ],
   "source": [
    "df_subjects_case.head(2)"
   ]
  },
  {
   "cell_type": "code",
   "execution_count": 60,
   "metadata": {},
   "outputs": [],
   "source": [
    "df_subjects_case.subject = ['Niet Gespecificeerd' if i == 'NULL' else i for i in df_subjects_case.subject]"
   ]
  },
  {
   "cell_type": "code",
   "execution_count": 61,
   "metadata": {},
   "outputs": [
    {
     "data": {
      "text/plain": [
       "6658"
      ]
     },
     "execution_count": 61,
     "metadata": {},
     "output_type": "execute_result"
    }
   ],
   "source": [
    "parents_ids_subjects = get_parent_ids('subject', 'name', df_subjects_case, 'subject')\n",
    "len(parents_ids_subjects)"
   ]
  },
  {
   "cell_type": "code",
   "execution_count": 62,
   "metadata": {},
   "outputs": [
    {
     "data": {
      "text/plain": [
       "6658"
      ]
     },
     "execution_count": 62,
     "metadata": {},
     "output_type": "execute_result"
    }
   ],
   "source": [
    "parents_ids_cases = get_parent_ids('case', 'ecli', df_subjects_case, 'case_id')\n",
    "len(parents_ids_cases)"
   ]
  },
  {
   "cell_type": "code",
   "execution_count": 63,
   "metadata": {},
   "outputs": [],
   "source": [
    "case_subject = pd.DataFrame({'case_id':parents_ids_cases,\n",
    "                             'subject_id':parents_ids_subjects})"
   ]
  },
  {
   "cell_type": "code",
   "execution_count": 64,
   "metadata": {},
   "outputs": [],
   "source": [
    "#case_subject.sort_values(by='case_id').tail(50) #quality check\n",
    "#[(type(i), type(j)) for i,j in zip(case_subject.subject_id,case_subject.case_id)]"
   ]
  },
  {
   "cell_type": "code",
   "execution_count": 65,
   "metadata": {},
   "outputs": [
    {
     "data": {
      "text/html": [
       "<div>\n",
       "<style scoped>\n",
       "    .dataframe tbody tr th:only-of-type {\n",
       "        vertical-align: middle;\n",
       "    }\n",
       "\n",
       "    .dataframe tbody tr th {\n",
       "        vertical-align: top;\n",
       "    }\n",
       "\n",
       "    .dataframe thead th {\n",
       "        text-align: right;\n",
       "    }\n",
       "</style>\n",
       "<table border=\"1\" class=\"dataframe\">\n",
       "  <thead>\n",
       "    <tr style=\"text-align: right;\">\n",
       "      <th></th>\n",
       "      <th>case_id</th>\n",
       "      <th>subject_id</th>\n",
       "    </tr>\n",
       "  </thead>\n",
       "  <tbody>\n",
       "    <tr>\n",
       "      <th>6655</th>\n",
       "      <td>4998</td>\n",
       "      <td>12</td>\n",
       "    </tr>\n",
       "    <tr>\n",
       "      <th>6656</th>\n",
       "      <td>4999</td>\n",
       "      <td>11</td>\n",
       "    </tr>\n",
       "    <tr>\n",
       "      <th>6657</th>\n",
       "      <td>5000</td>\n",
       "      <td>3</td>\n",
       "    </tr>\n",
       "  </tbody>\n",
       "</table>\n",
       "</div>"
      ],
      "text/plain": [
       "      case_id  subject_id\n",
       "6655     4998          12\n",
       "6656     4999          11\n",
       "6657     5000           3"
      ]
     },
     "execution_count": 65,
     "metadata": {},
     "output_type": "execute_result"
    }
   ],
   "source": [
    "case_subject.tail(3)"
   ]
  },
  {
   "cell_type": "code",
   "execution_count": 66,
   "metadata": {},
   "outputs": [],
   "source": [
    "for col in case_subject.columns:\n",
    "    null_for_nones(case_subject, col)"
   ]
  },
  {
   "cell_type": "code",
   "execution_count": 67,
   "metadata": {},
   "outputs": [],
   "source": [
    "tuples = to_tuples(case_subject)\n",
    "tuples = [(int(i), int(j)) for i,j in tuples]"
   ]
  },
  {
   "cell_type": "code",
   "execution_count": 68,
   "metadata": {},
   "outputs": [
    {
     "name": "stdout",
     "output_type": "stream",
     "text": [
      "case_subject added\n"
     ]
    }
   ],
   "source": [
    "try:  \n",
    "    cursor = conn.cursor()\n",
    "    for idx, data in enumerate(tuples):\n",
    "        query = (\"INSERT INTO `case_subject`\"\n",
    "                \"(case_id, subject_id)\"\n",
    "                \"VALUES (%s, %s)\")\n",
    "        cursor.execute(query, data)\n",
    "    conn.commit()\n",
    "    cursor.close()\n",
    "    print('case_subject added')\n",
    "except Error as error :\n",
    "    conn.rollback()\n",
    "    print(\"Failed to insert into MySQL table {}\".format(error))\n",
    "    traceback.print_exc(file=sys.stdout)"
   ]
  },
  {
   "cell_type": "markdown",
   "metadata": {},
   "source": [
    "---\n",
    "### Countries"
   ]
  },
  {
   "cell_type": "code",
   "execution_count": 69,
   "metadata": {},
   "outputs": [
    {
     "data": {
      "text/html": [
       "<div>\n",
       "<style scoped>\n",
       "    .dataframe tbody tr th:only-of-type {\n",
       "        vertical-align: middle;\n",
       "    }\n",
       "\n",
       "    .dataframe tbody tr th {\n",
       "        vertical-align: top;\n",
       "    }\n",
       "\n",
       "    .dataframe thead th {\n",
       "        text-align: right;\n",
       "    }\n",
       "</style>\n",
       "<table border=\"1\" class=\"dataframe\">\n",
       "  <thead>\n",
       "    <tr style=\"text-align: right;\">\n",
       "      <th></th>\n",
       "      <th>country_id</th>\n",
       "      <th>eu</th>\n",
       "      <th>name</th>\n",
       "      <th>flag</th>\n",
       "    </tr>\n",
       "  </thead>\n",
       "  <tbody>\n",
       "    <tr>\n",
       "      <th>0</th>\n",
       "      <td>AT</td>\n",
       "      <td>1</td>\n",
       "      <td>Austria</td>\n",
       "      <td>https://www.countryflags.io/at/flat/64.png</td>\n",
       "    </tr>\n",
       "    <tr>\n",
       "      <th>1</th>\n",
       "      <td>BE</td>\n",
       "      <td>1</td>\n",
       "      <td>Belgium</td>\n",
       "      <td>https://www.countryflags.io/be/flat/64.png</td>\n",
       "    </tr>\n",
       "    <tr>\n",
       "      <th>2</th>\n",
       "      <td>BG</td>\n",
       "      <td>1</td>\n",
       "      <td>Bulgaria</td>\n",
       "      <td>https://www.countryflags.io/bg/flat/64.png</td>\n",
       "    </tr>\n",
       "    <tr>\n",
       "      <th>3</th>\n",
       "      <td>CH</td>\n",
       "      <td>0</td>\n",
       "      <td>Switzerland</td>\n",
       "      <td>https://www.countryflags.io/ch/flat/64.png</td>\n",
       "    </tr>\n",
       "    <tr>\n",
       "      <th>4</th>\n",
       "      <td>CZ</td>\n",
       "      <td>1</td>\n",
       "      <td>Czechia</td>\n",
       "      <td>https://www.countryflags.io/cz/flat/64.png</td>\n",
       "    </tr>\n",
       "  </tbody>\n",
       "</table>\n",
       "</div>"
      ],
      "text/plain": [
       "  country_id  eu         name                                        flag\n",
       "0         AT   1      Austria  https://www.countryflags.io/at/flat/64.png\n",
       "1         BE   1      Belgium  https://www.countryflags.io/be/flat/64.png\n",
       "2         BG   1     Bulgaria  https://www.countryflags.io/bg/flat/64.png\n",
       "3         CH   0  Switzerland  https://www.countryflags.io/ch/flat/64.png\n",
       "4         CZ   1      Czechia  https://www.countryflags.io/cz/flat/64.png"
      ]
     },
     "execution_count": 69,
     "metadata": {},
     "output_type": "execute_result"
    }
   ],
   "source": [
    "df_country.head()"
   ]
  },
  {
   "cell_type": "code",
   "execution_count": 70,
   "metadata": {},
   "outputs": [],
   "source": [
    "df_country.loc[:,'language'] = 'NULL'\n",
    "df_country.loc[:,'eea'] = 0"
   ]
  },
  {
   "cell_type": "code",
   "execution_count": 71,
   "metadata": {},
   "outputs": [],
   "source": [
    "country = pd.DataFrame()\n",
    "country_columns = ['id',\n",
    "                   'name',\n",
    "                   'language',\n",
    "                   'flag',\n",
    "                   'eu',\n",
    "                   'eea']"
   ]
  },
  {
   "cell_type": "code",
   "execution_count": 72,
   "metadata": {},
   "outputs": [],
   "source": [
    "temp = df_country[['country_id',\n",
    "                   'name',\n",
    "                   'language',\n",
    "                   'flag',\n",
    "                   'eu',\n",
    "                   'eea']]\n",
    "temp.columns = country_columns\n",
    "country = country.append(temp, ignore_index=True)"
   ]
  },
  {
   "cell_type": "code",
   "execution_count": 73,
   "metadata": {},
   "outputs": [
    {
     "data": {
      "text/html": [
       "<div>\n",
       "<style scoped>\n",
       "    .dataframe tbody tr th:only-of-type {\n",
       "        vertical-align: middle;\n",
       "    }\n",
       "\n",
       "    .dataframe tbody tr th {\n",
       "        vertical-align: top;\n",
       "    }\n",
       "\n",
       "    .dataframe thead th {\n",
       "        text-align: right;\n",
       "    }\n",
       "</style>\n",
       "<table border=\"1\" class=\"dataframe\">\n",
       "  <thead>\n",
       "    <tr style=\"text-align: right;\">\n",
       "      <th></th>\n",
       "      <th>id</th>\n",
       "      <th>name</th>\n",
       "      <th>language</th>\n",
       "      <th>flag</th>\n",
       "      <th>eu</th>\n",
       "      <th>eea</th>\n",
       "    </tr>\n",
       "  </thead>\n",
       "  <tbody>\n",
       "    <tr>\n",
       "      <th>0</th>\n",
       "      <td>AT</td>\n",
       "      <td>Austria</td>\n",
       "      <td>NULL</td>\n",
       "      <td>https://www.countryflags.io/at/flat/64.png</td>\n",
       "      <td>1</td>\n",
       "      <td>0</td>\n",
       "    </tr>\n",
       "    <tr>\n",
       "      <th>1</th>\n",
       "      <td>BE</td>\n",
       "      <td>Belgium</td>\n",
       "      <td>NULL</td>\n",
       "      <td>https://www.countryflags.io/be/flat/64.png</td>\n",
       "      <td>1</td>\n",
       "      <td>0</td>\n",
       "    </tr>\n",
       "    <tr>\n",
       "      <th>2</th>\n",
       "      <td>BG</td>\n",
       "      <td>Bulgaria</td>\n",
       "      <td>NULL</td>\n",
       "      <td>https://www.countryflags.io/bg/flat/64.png</td>\n",
       "      <td>1</td>\n",
       "      <td>0</td>\n",
       "    </tr>\n",
       "  </tbody>\n",
       "</table>\n",
       "</div>"
      ],
      "text/plain": [
       "   id      name language                                        flag  eu  eea\n",
       "0  AT   Austria     NULL  https://www.countryflags.io/at/flat/64.png   1    0\n",
       "1  BE   Belgium     NULL  https://www.countryflags.io/be/flat/64.png   1    0\n",
       "2  BG  Bulgaria     NULL  https://www.countryflags.io/bg/flat/64.png   1    0"
      ]
     },
     "execution_count": 73,
     "metadata": {},
     "output_type": "execute_result"
    }
   ],
   "source": [
    "country.head(3)"
   ]
  },
  {
   "cell_type": "code",
   "execution_count": 74,
   "metadata": {},
   "outputs": [],
   "source": [
    "for col in country.columns:\n",
    "    null_for_nones(country, col)"
   ]
  },
  {
   "cell_type": "code",
   "execution_count": 75,
   "metadata": {},
   "outputs": [],
   "source": [
    "tuples = to_tuples(country)"
   ]
  },
  {
   "cell_type": "code",
   "execution_count": 76,
   "metadata": {},
   "outputs": [
    {
     "name": "stdout",
     "output_type": "stream",
     "text": [
      "country added\n"
     ]
    }
   ],
   "source": [
    "try:  \n",
    "    cursor = conn.cursor()\n",
    "    for idx, data in enumerate(tuples):\n",
    "        query = (\"INSERT INTO `country`\"\n",
    "                \"(id, name, language, flag, eu, eea)\"\n",
    "                \"VALUES (%s, %s, %s, %s, %s, %s)\")\n",
    "        cursor.execute(query, data)\n",
    "    conn.commit()\n",
    "    cursor.close()\n",
    "    print('country added')\n",
    "except Error as error :\n",
    "    conn.rollback()\n",
    "    print(\"Failed to insert into MySQL table {}\".format(error))\n",
    "    traceback.print_exc(file=sys.stdout)"
   ]
  },
  {
   "cell_type": "markdown",
   "metadata": {},
   "source": [
    "---\n",
    "### Case - Country"
   ]
  },
  {
   "cell_type": "code",
   "execution_count": 77,
   "metadata": {},
   "outputs": [
    {
     "data": {
      "text/html": [
       "<div>\n",
       "<style scoped>\n",
       "    .dataframe tbody tr th:only-of-type {\n",
       "        vertical-align: middle;\n",
       "    }\n",
       "\n",
       "    .dataframe tbody tr th {\n",
       "        vertical-align: top;\n",
       "    }\n",
       "\n",
       "    .dataframe thead th {\n",
       "        text-align: right;\n",
       "    }\n",
       "</style>\n",
       "<table border=\"1\" class=\"dataframe\">\n",
       "  <thead>\n",
       "    <tr style=\"text-align: right;\">\n",
       "      <th></th>\n",
       "      <th>case_id</th>\n",
       "      <th>date</th>\n",
       "      <th>case_number</th>\n",
       "      <th>description</th>\n",
       "      <th>language</th>\n",
       "      <th>venue</th>\n",
       "      <th>abstract</th>\n",
       "      <th>procedure_type</th>\n",
       "      <th>lodge_date</th>\n",
       "      <th>country</th>\n",
       "      <th>...</th>\n",
       "      <th>abstract.1</th>\n",
       "      <th>procedure_type.1</th>\n",
       "      <th>lodge_date.1</th>\n",
       "      <th>country.1</th>\n",
       "      <th>subject.1</th>\n",
       "      <th>authority.1</th>\n",
       "      <th>legal_references.1</th>\n",
       "      <th>related_cases.1</th>\n",
       "      <th>alternative_sources.1</th>\n",
       "      <th>full_text</th>\n",
       "    </tr>\n",
       "  </thead>\n",
       "  <tbody>\n",
       "    <tr>\n",
       "      <th>0</th>\n",
       "      <td>ECLI:NL:CBB:2000:AN6374</td>\n",
       "      <td>2000-02-03</td>\n",
       "      <td>AWB97/1593</td>\n",
       "      <td>NULL</td>\n",
       "      <td>NL</td>\n",
       "      <td>NULL</td>\n",
       "      <td>NULL</td>\n",
       "      <td>NULL</td>\n",
       "      <td>NULL</td>\n",
       "      <td>NL</td>\n",
       "      <td>...</td>\n",
       "      <td>NULL</td>\n",
       "      <td>NULL</td>\n",
       "      <td>NULL</td>\n",
       "      <td>NULL</td>\n",
       "      <td>NULL</td>\n",
       "      <td>NULL</td>\n",
       "      <td>NULL</td>\n",
       "      <td>NULL</td>\n",
       "      <td>NULL</td>\n",
       "      <td>NULL</td>\n",
       "    </tr>\n",
       "    <tr>\n",
       "      <th>1</th>\n",
       "      <td>ECLI:NL:CBB:2000:ZG1779</td>\n",
       "      <td>2000-02-24</td>\n",
       "      <td>98/1344;5130</td>\n",
       "      <td>NULL</td>\n",
       "      <td>NL</td>\n",
       "      <td>NULL</td>\n",
       "      <td>NULL</td>\n",
       "      <td>NULL</td>\n",
       "      <td>NULL</td>\n",
       "      <td>NL</td>\n",
       "      <td>...</td>\n",
       "      <td>NULL</td>\n",
       "      <td>NULL</td>\n",
       "      <td>NULL</td>\n",
       "      <td>NULL</td>\n",
       "      <td>NULL</td>\n",
       "      <td>NULL</td>\n",
       "      <td>NULL</td>\n",
       "      <td>NULL</td>\n",
       "      <td>NULL</td>\n",
       "      <td>NULL</td>\n",
       "    </tr>\n",
       "  </tbody>\n",
       "</table>\n",
       "<p>2 rows × 31 columns</p>\n",
       "</div>"
      ],
      "text/plain": [
       "                   case_id        date   case_number description language  \\\n",
       "0  ECLI:NL:CBB:2000:AN6374  2000-02-03    AWB97/1593        NULL       NL   \n",
       "1  ECLI:NL:CBB:2000:ZG1779  2000-02-24  98/1344;5130        NULL       NL   \n",
       "\n",
       "  venue abstract procedure_type lodge_date country  ... abstract.1  \\\n",
       "0  NULL     NULL           NULL       NULL      NL  ...       NULL   \n",
       "1  NULL     NULL           NULL       NULL      NL  ...       NULL   \n",
       "\n",
       "  procedure_type.1 lodge_date.1 country.1 subject.1 authority.1  \\\n",
       "0             NULL         NULL      NULL      NULL        NULL   \n",
       "1             NULL         NULL      NULL      NULL        NULL   \n",
       "\n",
       "  legal_references.1 related_cases.1 alternative_sources.1 full_text  \n",
       "0               NULL            NULL                  NULL      NULL  \n",
       "1               NULL            NULL                  NULL      NULL  \n",
       "\n",
       "[2 rows x 31 columns]"
      ]
     },
     "execution_count": 77,
     "metadata": {},
     "output_type": "execute_result"
    }
   ],
   "source": [
    "df_case.head(2)"
   ]
  },
  {
   "cell_type": "code",
   "execution_count": 78,
   "metadata": {},
   "outputs": [],
   "source": [
    "#as_list = [list(row.split(\"; \")) for row in df_case.country] #in case there is more than one country in the row"
   ]
  },
  {
   "cell_type": "code",
   "execution_count": 79,
   "metadata": {},
   "outputs": [
    {
     "data": {
      "text/plain": [
       "5000"
      ]
     },
     "execution_count": 79,
     "metadata": {},
     "output_type": "execute_result"
    }
   ],
   "source": [
    "df_country_case = df_case[['case_id','country']]\n",
    "#df_country_case.loc[:,'country'] = as_list\n",
    "df_country_case = df_country_case.explode('country')\n",
    "len(df_country_case)"
   ]
  },
  {
   "cell_type": "code",
   "execution_count": 80,
   "metadata": {},
   "outputs": [
    {
     "data": {
      "text/plain": [
       "5000"
      ]
     },
     "execution_count": 80,
     "metadata": {},
     "output_type": "execute_result"
    }
   ],
   "source": [
    "parents_ids_countries = get_parent_ids('country', 'id', df_country_case, 'country')\n",
    "len(parents_ids_countries)"
   ]
  },
  {
   "cell_type": "code",
   "execution_count": 81,
   "metadata": {},
   "outputs": [
    {
     "data": {
      "text/plain": [
       "5000"
      ]
     },
     "execution_count": 81,
     "metadata": {},
     "output_type": "execute_result"
    }
   ],
   "source": [
    "parents_ids_cases = get_parent_ids('case', 'ecli', df_country_case, 'case_id')\n",
    "len(parents_ids_cases)"
   ]
  },
  {
   "cell_type": "code",
   "execution_count": 82,
   "metadata": {},
   "outputs": [],
   "source": [
    "case_country = pd.DataFrame({'case_id':parents_ids_cases,\n",
    "                             'country_id':parents_ids_countries})"
   ]
  },
  {
   "cell_type": "code",
   "execution_count": 83,
   "metadata": {},
   "outputs": [
    {
     "data": {
      "text/html": [
       "<div>\n",
       "<style scoped>\n",
       "    .dataframe tbody tr th:only-of-type {\n",
       "        vertical-align: middle;\n",
       "    }\n",
       "\n",
       "    .dataframe tbody tr th {\n",
       "        vertical-align: top;\n",
       "    }\n",
       "\n",
       "    .dataframe thead th {\n",
       "        text-align: right;\n",
       "    }\n",
       "</style>\n",
       "<table border=\"1\" class=\"dataframe\">\n",
       "  <thead>\n",
       "    <tr style=\"text-align: right;\">\n",
       "      <th></th>\n",
       "      <th>case_id</th>\n",
       "      <th>country_id</th>\n",
       "    </tr>\n",
       "  </thead>\n",
       "  <tbody>\n",
       "    <tr>\n",
       "      <th>4997</th>\n",
       "      <td>4998</td>\n",
       "      <td>NL</td>\n",
       "    </tr>\n",
       "    <tr>\n",
       "      <th>4998</th>\n",
       "      <td>4999</td>\n",
       "      <td>NL</td>\n",
       "    </tr>\n",
       "    <tr>\n",
       "      <th>4999</th>\n",
       "      <td>5000</td>\n",
       "      <td>NL</td>\n",
       "    </tr>\n",
       "  </tbody>\n",
       "</table>\n",
       "</div>"
      ],
      "text/plain": [
       "      case_id country_id\n",
       "4997     4998         NL\n",
       "4998     4999         NL\n",
       "4999     5000         NL"
      ]
     },
     "execution_count": 83,
     "metadata": {},
     "output_type": "execute_result"
    }
   ],
   "source": [
    "case_country.tail(3)"
   ]
  },
  {
   "cell_type": "code",
   "execution_count": 84,
   "metadata": {},
   "outputs": [],
   "source": [
    "for col in case_country.columns:\n",
    "    null_for_nones(case_country, col)"
   ]
  },
  {
   "cell_type": "code",
   "execution_count": 85,
   "metadata": {},
   "outputs": [],
   "source": [
    "tuples = to_tuples(case_country)\n",
    "#tuples = [(int(i), int(j)) for i,j in tuples]"
   ]
  },
  {
   "cell_type": "code",
   "execution_count": 86,
   "metadata": {},
   "outputs": [
    {
     "name": "stdout",
     "output_type": "stream",
     "text": [
      "case_subject added\n"
     ]
    }
   ],
   "source": [
    "try:  \n",
    "    cursor = conn.cursor()\n",
    "    for idx, data in enumerate(tuples):\n",
    "        query = (\"INSERT INTO `case_country`\"\n",
    "                \"(case_id, country_id)\"\n",
    "                \"VALUES (%s, %s)\")\n",
    "        cursor.execute(query, data)\n",
    "    conn.commit()\n",
    "    cursor.close()\n",
    "    print('case_subject added')\n",
    "except Error as error :\n",
    "    conn.rollback()\n",
    "    print(\"Failed to insert into MySQL table {}\".format(error))\n",
    "    traceback.print_exc(file=sys.stdout)"
   ]
  },
  {
   "cell_type": "markdown",
   "metadata": {},
   "source": [
    "---\n",
    "### Case law citation"
   ]
  },
  {
   "cell_type": "code",
   "execution_count": 87,
   "metadata": {},
   "outputs": [
    {
     "data": {
      "text/html": [
       "<div>\n",
       "<style scoped>\n",
       "    .dataframe tbody tr th:only-of-type {\n",
       "        vertical-align: middle;\n",
       "    }\n",
       "\n",
       "    .dataframe tbody tr th {\n",
       "        vertical-align: top;\n",
       "    }\n",
       "\n",
       "    .dataframe thead th {\n",
       "        text-align: right;\n",
       "    }\n",
       "</style>\n",
       "<table border=\"1\" class=\"dataframe\">\n",
       "  <thead>\n",
       "    <tr style=\"text-align: right;\">\n",
       "      <th></th>\n",
       "      <th>source_ecli</th>\n",
       "      <th>source_paragraph</th>\n",
       "      <th>target_ecli</th>\n",
       "      <th>target_paragraph</th>\n",
       "    </tr>\n",
       "  </thead>\n",
       "  <tbody>\n",
       "    <tr>\n",
       "      <th>0</th>\n",
       "      <td>ECLI:NL:CRVB:2000:ZB8616</td>\n",
       "      <td>NULL</td>\n",
       "      <td>ECLI:NL:CRVB:2004:AR7893</td>\n",
       "      <td>NULL</td>\n",
       "    </tr>\n",
       "    <tr>\n",
       "      <th>1</th>\n",
       "      <td>ECLI:NL:CRVB:2000:ZB8616</td>\n",
       "      <td>NULL</td>\n",
       "      <td>ECLI:NL:CRVB:2005:AT2142</td>\n",
       "      <td>NULL</td>\n",
       "    </tr>\n",
       "    <tr>\n",
       "      <th>2</th>\n",
       "      <td>ECLI:NL:GHARN:2000:160</td>\n",
       "      <td>NULL</td>\n",
       "      <td>ECLI:NL:HR:2002:AD8776</td>\n",
       "      <td>NULL</td>\n",
       "    </tr>\n",
       "    <tr>\n",
       "      <th>3</th>\n",
       "      <td>ECLI:NL:CRVB:2000:ZB8679</td>\n",
       "      <td>NULL</td>\n",
       "      <td>ECLI:NL:CRVB:2007:BA7165</td>\n",
       "      <td>NULL</td>\n",
       "    </tr>\n",
       "  </tbody>\n",
       "</table>\n",
       "</div>"
      ],
      "text/plain": [
       "                source_ecli source_paragraph               target_ecli  \\\n",
       "0  ECLI:NL:CRVB:2000:ZB8616             NULL  ECLI:NL:CRVB:2004:AR7893   \n",
       "1  ECLI:NL:CRVB:2000:ZB8616             NULL  ECLI:NL:CRVB:2005:AT2142   \n",
       "2    ECLI:NL:GHARN:2000:160             NULL    ECLI:NL:HR:2002:AD8776   \n",
       "3  ECLI:NL:CRVB:2000:ZB8679             NULL  ECLI:NL:CRVB:2007:BA7165   \n",
       "\n",
       "  target_paragraph  \n",
       "0             NULL  \n",
       "1             NULL  \n",
       "2             NULL  \n",
       "3             NULL  "
      ]
     },
     "execution_count": 87,
     "metadata": {},
     "output_type": "execute_result"
    }
   ],
   "source": [
    "df_case_citation.head(4)"
   ]
  },
  {
   "cell_type": "code",
   "execution_count": 88,
   "metadata": {},
   "outputs": [],
   "source": [
    "parent_ids = get_parent_ids('case', 'ecli', df_case_citation, 'source_ecli')\n",
    "df_case_citation['case_id'] = parent_ids"
   ]
  },
  {
   "cell_type": "code",
   "execution_count": 89,
   "metadata": {},
   "outputs": [],
   "source": [
    "case_citation = pd.DataFrame()\n",
    "case_citation_columns = ['source_ecli',\n",
    "                         'source_paragraph',\n",
    "                         'target_ecli',\n",
    "                         'target_paragraph',\n",
    "                        'case_id']"
   ]
  },
  {
   "cell_type": "code",
   "execution_count": 90,
   "metadata": {},
   "outputs": [],
   "source": [
    "temp = df_case_citation[['source_ecli',\n",
    "                         'source_paragraph',\n",
    "                         'target_ecli',\n",
    "                         'target_paragraph',\n",
    "                         'case_id']]\n",
    "temp.columns = case_citation_columns\n",
    "case_citation = case_citation.append(temp, ignore_index=True)"
   ]
  },
  {
   "cell_type": "code",
   "execution_count": 91,
   "metadata": {},
   "outputs": [
    {
     "data": {
      "text/html": [
       "<div>\n",
       "<style scoped>\n",
       "    .dataframe tbody tr th:only-of-type {\n",
       "        vertical-align: middle;\n",
       "    }\n",
       "\n",
       "    .dataframe tbody tr th {\n",
       "        vertical-align: top;\n",
       "    }\n",
       "\n",
       "    .dataframe thead th {\n",
       "        text-align: right;\n",
       "    }\n",
       "</style>\n",
       "<table border=\"1\" class=\"dataframe\">\n",
       "  <thead>\n",
       "    <tr style=\"text-align: right;\">\n",
       "      <th></th>\n",
       "      <th>source_ecli</th>\n",
       "      <th>source_paragraph</th>\n",
       "      <th>target_ecli</th>\n",
       "      <th>target_paragraph</th>\n",
       "      <th>case_id</th>\n",
       "    </tr>\n",
       "  </thead>\n",
       "  <tbody>\n",
       "    <tr>\n",
       "      <th>0</th>\n",
       "      <td>ECLI:NL:CRVB:2000:ZB8616</td>\n",
       "      <td>NULL</td>\n",
       "      <td>ECLI:NL:CRVB:2004:AR7893</td>\n",
       "      <td>NULL</td>\n",
       "      <td>6</td>\n",
       "    </tr>\n",
       "    <tr>\n",
       "      <th>1</th>\n",
       "      <td>ECLI:NL:CRVB:2000:ZB8616</td>\n",
       "      <td>NULL</td>\n",
       "      <td>ECLI:NL:CRVB:2005:AT2142</td>\n",
       "      <td>NULL</td>\n",
       "      <td>6</td>\n",
       "    </tr>\n",
       "    <tr>\n",
       "      <th>2</th>\n",
       "      <td>ECLI:NL:GHARN:2000:160</td>\n",
       "      <td>NULL</td>\n",
       "      <td>ECLI:NL:HR:2002:AD8776</td>\n",
       "      <td>NULL</td>\n",
       "      <td>12</td>\n",
       "    </tr>\n",
       "  </tbody>\n",
       "</table>\n",
       "</div>"
      ],
      "text/plain": [
       "                source_ecli source_paragraph               target_ecli  \\\n",
       "0  ECLI:NL:CRVB:2000:ZB8616             NULL  ECLI:NL:CRVB:2004:AR7893   \n",
       "1  ECLI:NL:CRVB:2000:ZB8616             NULL  ECLI:NL:CRVB:2005:AT2142   \n",
       "2    ECLI:NL:GHARN:2000:160             NULL    ECLI:NL:HR:2002:AD8776   \n",
       "\n",
       "  target_paragraph  case_id  \n",
       "0             NULL        6  \n",
       "1             NULL        6  \n",
       "2             NULL       12  "
      ]
     },
     "execution_count": 91,
     "metadata": {},
     "output_type": "execute_result"
    }
   ],
   "source": [
    "case_citation.head(3)"
   ]
  },
  {
   "cell_type": "code",
   "execution_count": 92,
   "metadata": {},
   "outputs": [],
   "source": [
    "for col in case_citation.columns:\n",
    "    null_for_nones(case_citation, col)"
   ]
  },
  {
   "cell_type": "code",
   "execution_count": 93,
   "metadata": {},
   "outputs": [],
   "source": [
    "tuples = to_tuples(case_citation)"
   ]
  },
  {
   "cell_type": "code",
   "execution_count": 94,
   "metadata": {},
   "outputs": [
    {
     "name": "stdout",
     "output_type": "stream",
     "text": [
      "case_citation added\n"
     ]
    }
   ],
   "source": [
    "try:  \n",
    "    cursor = conn.cursor()\n",
    "    for idx, data in enumerate(tuples):\n",
    "        query = (\"INSERT INTO `case_citation`\"\n",
    "                \"(source_ecli, source_paragraph, target_ecli, target_paragraph, case_id)\"\n",
    "                \"VALUES (%s, %s, %s, %s, %s)\")\n",
    "        cursor.execute(query, data)\n",
    "    conn.commit()\n",
    "    cursor.close()\n",
    "    print('case_citation added')\n",
    "except Error as error :\n",
    "    conn.rollback()\n",
    "    print(\"Failed to insert into MySQL table {}\".format(error))\n",
    "    traceback.print_exc(file=sys.stdout)"
   ]
  },
  {
   "cell_type": "markdown",
   "metadata": {},
   "source": [
    "---\n",
    "### Legislation citation"
   ]
  },
  {
   "cell_type": "code",
   "execution_count": 95,
   "metadata": {},
   "outputs": [
    {
     "data": {
      "text/html": [
       "<div>\n",
       "<style scoped>\n",
       "    .dataframe tbody tr th:only-of-type {\n",
       "        vertical-align: middle;\n",
       "    }\n",
       "\n",
       "    .dataframe tbody tr th {\n",
       "        vertical-align: top;\n",
       "    }\n",
       "\n",
       "    .dataframe thead th {\n",
       "        text-align: right;\n",
       "    }\n",
       "</style>\n",
       "<table border=\"1\" class=\"dataframe\">\n",
       "  <thead>\n",
       "    <tr style=\"text-align: right;\">\n",
       "      <th></th>\n",
       "      <th>source_ecli</th>\n",
       "      <th>source_paragraph</th>\n",
       "      <th>target_article</th>\n",
       "      <th>target_article_paragraph</th>\n",
       "      <th>target_article_webpage</th>\n",
       "      <th>article_name</th>\n",
       "    </tr>\n",
       "  </thead>\n",
       "  <tbody>\n",
       "    <tr>\n",
       "      <th>0</th>\n",
       "      <td>ECLI:NL:CRVB:2000:AI5482</td>\n",
       "      <td>NULL</td>\n",
       "      <td>http://linkeddata.overheid.nl/terms/bwb/id/BWB...</td>\n",
       "      <td>NULL</td>\n",
       "      <td>http://wetten.overheid.nl/id/BWBR0006169/2006-...</td>\n",
       "      <td>Wet voorzieningen gehandicapten, Artikel 2</td>\n",
       "    </tr>\n",
       "    <tr>\n",
       "      <th>1</th>\n",
       "      <td>ECLI:NL:CRVB:2000:AI5482</td>\n",
       "      <td>NULL</td>\n",
       "      <td>http://linkeddata.overheid.nl/terms/bwb/id/BWB...</td>\n",
       "      <td>NULL</td>\n",
       "      <td>http://wetten.overheid.nl/id/BWBR0006169/2006-...</td>\n",
       "      <td>Wet voorzieningen gehandicapten</td>\n",
       "    </tr>\n",
       "    <tr>\n",
       "      <th>2</th>\n",
       "      <td>ECLI:NL:CRVB:2000:ZB8679</td>\n",
       "      <td>NULL</td>\n",
       "      <td>http://linkeddata.overheid.nl/terms/bwb/id/BWB...</td>\n",
       "      <td>NULL</td>\n",
       "      <td>http://wetten.overheid.nl/id/BWBR0002221/2010-...</td>\n",
       "      <td>Algemene Ouderdomswet, Artikel 3</td>\n",
       "    </tr>\n",
       "    <tr>\n",
       "      <th>3</th>\n",
       "      <td>ECLI:NL:CRVB:2000:ZB8679</td>\n",
       "      <td>NULL</td>\n",
       "      <td>http://linkeddata.overheid.nl/terms/bwb/id/BWB...</td>\n",
       "      <td>NULL</td>\n",
       "      <td>http://wetten.overheid.nl/id/BWBR0002221/2013-...</td>\n",
       "      <td>Algemene Ouderdomswet, Artikel 6</td>\n",
       "    </tr>\n",
       "  </tbody>\n",
       "</table>\n",
       "</div>"
      ],
      "text/plain": [
       "                source_ecli source_paragraph  \\\n",
       "0  ECLI:NL:CRVB:2000:AI5482             NULL   \n",
       "1  ECLI:NL:CRVB:2000:AI5482             NULL   \n",
       "2  ECLI:NL:CRVB:2000:ZB8679             NULL   \n",
       "3  ECLI:NL:CRVB:2000:ZB8679             NULL   \n",
       "\n",
       "                                      target_article target_article_paragraph  \\\n",
       "0  http://linkeddata.overheid.nl/terms/bwb/id/BWB...                     NULL   \n",
       "1  http://linkeddata.overheid.nl/terms/bwb/id/BWB...                     NULL   \n",
       "2  http://linkeddata.overheid.nl/terms/bwb/id/BWB...                     NULL   \n",
       "3  http://linkeddata.overheid.nl/terms/bwb/id/BWB...                     NULL   \n",
       "\n",
       "                              target_article_webpage  \\\n",
       "0  http://wetten.overheid.nl/id/BWBR0006169/2006-...   \n",
       "1  http://wetten.overheid.nl/id/BWBR0006169/2006-...   \n",
       "2  http://wetten.overheid.nl/id/BWBR0002221/2010-...   \n",
       "3  http://wetten.overheid.nl/id/BWBR0002221/2013-...   \n",
       "\n",
       "                                 article_name  \n",
       "0  Wet voorzieningen gehandicapten, Artikel 2  \n",
       "1             Wet voorzieningen gehandicapten  \n",
       "2            Algemene Ouderdomswet, Artikel 3  \n",
       "3            Algemene Ouderdomswet, Artikel 6  "
      ]
     },
     "execution_count": 95,
     "metadata": {},
     "output_type": "execute_result"
    }
   ],
   "source": [
    "df_legislation_citation.head(4)"
   ]
  },
  {
   "cell_type": "code",
   "execution_count": 96,
   "metadata": {},
   "outputs": [],
   "source": [
    "parent_ids = get_parent_ids('case', 'ecli', df_legislation_citation, 'source_ecli')\n",
    "df_legislation_citation['case_id'] = parent_ids"
   ]
  },
  {
   "cell_type": "code",
   "execution_count": 97,
   "metadata": {},
   "outputs": [],
   "source": [
    "df_legislation_citation.loc[:,'target_name'] = 'NULL'\n",
    "df_legislation_citation.loc[:,'target_sourcename'] = 'NULL'"
   ]
  },
  {
   "cell_type": "code",
   "execution_count": 98,
   "metadata": {},
   "outputs": [],
   "source": [
    "legislation_citation = pd.DataFrame()\n",
    "legislation_citation_columns = ['source_ecli',\n",
    "                                'source_paragraph',\n",
    "                                'target_id',\n",
    "                                'target_paragraph',\n",
    "                                'target_name',\n",
    "                                'target_sourcename',\n",
    "                                'target_link',\n",
    "                                'article_name',\n",
    "                                'case_id']"
   ]
  },
  {
   "cell_type": "code",
   "execution_count": 99,
   "metadata": {},
   "outputs": [],
   "source": [
    "temp = df_legislation_citation[['source_ecli',\n",
    "                                'source_paragraph',\n",
    "                                'target_article',\n",
    "                                'target_article_paragraph',\n",
    "                                'target_name',\n",
    "                                'target_sourcename',\n",
    "                                'target_article_webpage',\n",
    "                                'article_name',\n",
    "                                'case_id']]\n",
    "temp.columns = legislation_citation_columns\n",
    "legislation_citation = legislation_citation.append(temp, ignore_index=True)"
   ]
  },
  {
   "cell_type": "code",
   "execution_count": 100,
   "metadata": {},
   "outputs": [
    {
     "data": {
      "text/html": [
       "<div>\n",
       "<style scoped>\n",
       "    .dataframe tbody tr th:only-of-type {\n",
       "        vertical-align: middle;\n",
       "    }\n",
       "\n",
       "    .dataframe tbody tr th {\n",
       "        vertical-align: top;\n",
       "    }\n",
       "\n",
       "    .dataframe thead th {\n",
       "        text-align: right;\n",
       "    }\n",
       "</style>\n",
       "<table border=\"1\" class=\"dataframe\">\n",
       "  <thead>\n",
       "    <tr style=\"text-align: right;\">\n",
       "      <th></th>\n",
       "      <th>source_ecli</th>\n",
       "      <th>source_paragraph</th>\n",
       "      <th>target_id</th>\n",
       "      <th>target_paragraph</th>\n",
       "      <th>target_name</th>\n",
       "      <th>target_sourcename</th>\n",
       "      <th>target_link</th>\n",
       "      <th>article_name</th>\n",
       "      <th>case_id</th>\n",
       "    </tr>\n",
       "  </thead>\n",
       "  <tbody>\n",
       "    <tr>\n",
       "      <th>0</th>\n",
       "      <td>ECLI:NL:CRVB:2000:AI5482</td>\n",
       "      <td>NULL</td>\n",
       "      <td>http://linkeddata.overheid.nl/terms/bwb/id/BWB...</td>\n",
       "      <td>NULL</td>\n",
       "      <td>NULL</td>\n",
       "      <td>NULL</td>\n",
       "      <td>http://wetten.overheid.nl/id/BWBR0006169/2006-...</td>\n",
       "      <td>Wet voorzieningen gehandicapten, Artikel 2</td>\n",
       "      <td>5</td>\n",
       "    </tr>\n",
       "    <tr>\n",
       "      <th>1</th>\n",
       "      <td>ECLI:NL:CRVB:2000:AI5482</td>\n",
       "      <td>NULL</td>\n",
       "      <td>http://linkeddata.overheid.nl/terms/bwb/id/BWB...</td>\n",
       "      <td>NULL</td>\n",
       "      <td>NULL</td>\n",
       "      <td>NULL</td>\n",
       "      <td>http://wetten.overheid.nl/id/BWBR0006169/2006-...</td>\n",
       "      <td>Wet voorzieningen gehandicapten</td>\n",
       "      <td>5</td>\n",
       "    </tr>\n",
       "    <tr>\n",
       "      <th>2</th>\n",
       "      <td>ECLI:NL:CRVB:2000:ZB8679</td>\n",
       "      <td>NULL</td>\n",
       "      <td>http://linkeddata.overheid.nl/terms/bwb/id/BWB...</td>\n",
       "      <td>NULL</td>\n",
       "      <td>NULL</td>\n",
       "      <td>NULL</td>\n",
       "      <td>http://wetten.overheid.nl/id/BWBR0002221/2010-...</td>\n",
       "      <td>Algemene Ouderdomswet, Artikel 3</td>\n",
       "      <td>13</td>\n",
       "    </tr>\n",
       "  </tbody>\n",
       "</table>\n",
       "</div>"
      ],
      "text/plain": [
       "                source_ecli source_paragraph  \\\n",
       "0  ECLI:NL:CRVB:2000:AI5482             NULL   \n",
       "1  ECLI:NL:CRVB:2000:AI5482             NULL   \n",
       "2  ECLI:NL:CRVB:2000:ZB8679             NULL   \n",
       "\n",
       "                                           target_id target_paragraph  \\\n",
       "0  http://linkeddata.overheid.nl/terms/bwb/id/BWB...             NULL   \n",
       "1  http://linkeddata.overheid.nl/terms/bwb/id/BWB...             NULL   \n",
       "2  http://linkeddata.overheid.nl/terms/bwb/id/BWB...             NULL   \n",
       "\n",
       "  target_name target_sourcename  \\\n",
       "0        NULL              NULL   \n",
       "1        NULL              NULL   \n",
       "2        NULL              NULL   \n",
       "\n",
       "                                         target_link  \\\n",
       "0  http://wetten.overheid.nl/id/BWBR0006169/2006-...   \n",
       "1  http://wetten.overheid.nl/id/BWBR0006169/2006-...   \n",
       "2  http://wetten.overheid.nl/id/BWBR0002221/2010-...   \n",
       "\n",
       "                                 article_name  case_id  \n",
       "0  Wet voorzieningen gehandicapten, Artikel 2        5  \n",
       "1             Wet voorzieningen gehandicapten        5  \n",
       "2            Algemene Ouderdomswet, Artikel 3       13  "
      ]
     },
     "execution_count": 100,
     "metadata": {},
     "output_type": "execute_result"
    }
   ],
   "source": [
    "legislation_citation.head(3)"
   ]
  },
  {
   "cell_type": "code",
   "execution_count": 101,
   "metadata": {},
   "outputs": [],
   "source": [
    "for col in legislation_citation.columns:\n",
    "    null_for_nones(legislation_citation, col)"
   ]
  },
  {
   "cell_type": "code",
   "execution_count": 102,
   "metadata": {},
   "outputs": [],
   "source": [
    "tuples = to_tuples(legislation_citation)"
   ]
  },
  {
   "cell_type": "code",
   "execution_count": 103,
   "metadata": {},
   "outputs": [
    {
     "name": "stdout",
     "output_type": "stream",
     "text": [
      "legislation_citation added\n"
     ]
    }
   ],
   "source": [
    "try:  \n",
    "    cursor = conn.cursor()\n",
    "    for idx, data in enumerate(tuples):\n",
    "        query = (\"INSERT INTO `legislation_citation`\"\n",
    "                \"(source_ecli, source_paragraph, target_id, target_paragraph, target_name, target_sourcename, target_link, article_name, case_id)\"\n",
    "                \"VALUES (%s, %s, %s, %s, %s, %s, %s, %s, %s)\")\n",
    "        cursor.execute(query, data)\n",
    "    conn.commit()\n",
    "    cursor.close()\n",
    "    print('legislation_citation added')\n",
    "except Error as error :\n",
    "    conn.rollback()\n",
    "    print(\"Failed to insert into MySQL table {}\".format(error))\n",
    "    traceback.print_exc(file=sys.stdout)"
   ]
  },
  {
   "cell_type": "markdown",
   "metadata": {},
   "source": [
    "---\n",
    "### Case related decision"
   ]
  },
  {
   "cell_type": "code",
   "execution_count": 104,
   "metadata": {},
   "outputs": [],
   "source": [
    "df_case_related = df_case[['case_id','related_cases']]\\\n",
    "    .rename(columns = {'case_id':'source_ecli', \n",
    "                       'related_cases': 'referencing_case_ecli'})"
   ]
  },
  {
   "cell_type": "code",
   "execution_count": 105,
   "metadata": {},
   "outputs": [],
   "source": [
    "parent_ids = get_parent_ids('case', 'ecli', df_case_related, 'source_ecli')\n",
    "df_case_related['case_id'] = parent_ids"
   ]
  },
  {
   "cell_type": "code",
   "execution_count": 106,
   "metadata": {},
   "outputs": [],
   "source": [
    "df_case_related.loc[:,'referenced_case_ecli'] = 'NULL'"
   ]
  },
  {
   "cell_type": "code",
   "execution_count": 107,
   "metadata": {},
   "outputs": [
    {
     "data": {
      "text/html": [
       "<div>\n",
       "<style scoped>\n",
       "    .dataframe tbody tr th:only-of-type {\n",
       "        vertical-align: middle;\n",
       "    }\n",
       "\n",
       "    .dataframe tbody tr th {\n",
       "        vertical-align: top;\n",
       "    }\n",
       "\n",
       "    .dataframe thead th {\n",
       "        text-align: right;\n",
       "    }\n",
       "</style>\n",
       "<table border=\"1\" class=\"dataframe\">\n",
       "  <thead>\n",
       "    <tr style=\"text-align: right;\">\n",
       "      <th></th>\n",
       "      <th>source_ecli</th>\n",
       "      <th>referencing_case_ecli</th>\n",
       "      <th>case_id</th>\n",
       "      <th>referenced_case_ecli</th>\n",
       "    </tr>\n",
       "  </thead>\n",
       "  <tbody>\n",
       "    <tr>\n",
       "      <th>0</th>\n",
       "      <td>ECLI:NL:CBB:2000:AN6374</td>\n",
       "      <td>NULL</td>\n",
       "      <td>1</td>\n",
       "      <td>NULL</td>\n",
       "    </tr>\n",
       "    <tr>\n",
       "      <th>1</th>\n",
       "      <td>ECLI:NL:CBB:2000:ZG1779</td>\n",
       "      <td>NULL</td>\n",
       "      <td>2</td>\n",
       "      <td>NULL</td>\n",
       "    </tr>\n",
       "  </tbody>\n",
       "</table>\n",
       "</div>"
      ],
      "text/plain": [
       "               source_ecli referencing_case_ecli  case_id referenced_case_ecli\n",
       "0  ECLI:NL:CBB:2000:AN6374                  NULL        1                 NULL\n",
       "1  ECLI:NL:CBB:2000:ZG1779                  NULL        2                 NULL"
      ]
     },
     "execution_count": 107,
     "metadata": {},
     "output_type": "execute_result"
    }
   ],
   "source": [
    "df_case_related.head(2)"
   ]
  },
  {
   "cell_type": "code",
   "execution_count": 108,
   "metadata": {},
   "outputs": [],
   "source": [
    "case_related_decision = pd.DataFrame()\n",
    "case_related_decision_columns = ['source_ecli',\n",
    "                                 'referencing_case_ecli',\n",
    "                                'referenced_case_ecli',\n",
    "                                'case_id']"
   ]
  },
  {
   "cell_type": "code",
   "execution_count": 109,
   "metadata": {},
   "outputs": [],
   "source": [
    "temp = df_case_related[['source_ecli',\n",
    "                                'referencing_case_ecli',\n",
    "                                'referenced_case_ecli',\n",
    "                                'case_id']]\n",
    "temp.columns = case_related_decision_columns\n",
    "case_related_decision = case_related_decision.append(temp, ignore_index=True)"
   ]
  },
  {
   "cell_type": "code",
   "execution_count": 110,
   "metadata": {},
   "outputs": [
    {
     "data": {
      "text/html": [
       "<div>\n",
       "<style scoped>\n",
       "    .dataframe tbody tr th:only-of-type {\n",
       "        vertical-align: middle;\n",
       "    }\n",
       "\n",
       "    .dataframe tbody tr th {\n",
       "        vertical-align: top;\n",
       "    }\n",
       "\n",
       "    .dataframe thead th {\n",
       "        text-align: right;\n",
       "    }\n",
       "</style>\n",
       "<table border=\"1\" class=\"dataframe\">\n",
       "  <thead>\n",
       "    <tr style=\"text-align: right;\">\n",
       "      <th></th>\n",
       "      <th>source_ecli</th>\n",
       "      <th>referencing_case_ecli</th>\n",
       "      <th>referenced_case_ecli</th>\n",
       "      <th>case_id</th>\n",
       "    </tr>\n",
       "  </thead>\n",
       "  <tbody>\n",
       "    <tr>\n",
       "      <th>0</th>\n",
       "      <td>ECLI:NL:CBB:2000:AN6374</td>\n",
       "      <td>NULL</td>\n",
       "      <td>NULL</td>\n",
       "      <td>1</td>\n",
       "    </tr>\n",
       "    <tr>\n",
       "      <th>1</th>\n",
       "      <td>ECLI:NL:CBB:2000:ZG1779</td>\n",
       "      <td>NULL</td>\n",
       "      <td>NULL</td>\n",
       "      <td>2</td>\n",
       "    </tr>\n",
       "    <tr>\n",
       "      <th>2</th>\n",
       "      <td>ECLI:NL:CBB:2000:ZG1781</td>\n",
       "      <td>NULL</td>\n",
       "      <td>NULL</td>\n",
       "      <td>3</td>\n",
       "    </tr>\n",
       "  </tbody>\n",
       "</table>\n",
       "</div>"
      ],
      "text/plain": [
       "               source_ecli referencing_case_ecli referenced_case_ecli  case_id\n",
       "0  ECLI:NL:CBB:2000:AN6374                  NULL                 NULL        1\n",
       "1  ECLI:NL:CBB:2000:ZG1779                  NULL                 NULL        2\n",
       "2  ECLI:NL:CBB:2000:ZG1781                  NULL                 NULL        3"
      ]
     },
     "execution_count": 110,
     "metadata": {},
     "output_type": "execute_result"
    }
   ],
   "source": [
    "case_related_decision.head(3)"
   ]
  },
  {
   "cell_type": "code",
   "execution_count": 111,
   "metadata": {},
   "outputs": [],
   "source": [
    "for col in case_related_decision.columns:\n",
    "    null_for_nones(case_related_decision, col)"
   ]
  },
  {
   "cell_type": "code",
   "execution_count": 112,
   "metadata": {},
   "outputs": [],
   "source": [
    "tuples = to_tuples(case_related_decision)"
   ]
  },
  {
   "cell_type": "code",
   "execution_count": 113,
   "metadata": {},
   "outputs": [
    {
     "name": "stdout",
     "output_type": "stream",
     "text": [
      "case_related_decision added\n"
     ]
    }
   ],
   "source": [
    "try:  \n",
    "    cursor = conn.cursor()\n",
    "    for idx, data in enumerate(tuples):\n",
    "        query = (\"INSERT INTO `case_related_decision`\"\n",
    "                \"(source_ecli, referencing_case_ecli, referenced_case_ecli, case_id)\"\n",
    "                \"VALUES (%s, %s, %s, %s)\")\n",
    "        cursor.execute(query, data)\n",
    "    conn.commit()\n",
    "    cursor.close()\n",
    "    print('case_related_decision added')\n",
    "except Error as error :\n",
    "    conn.rollback()\n",
    "    print(\"Failed to insert into MySQL table {}\".format(error))\n",
    "    traceback.print_exc(file=sys.stdout)"
   ]
  },
  {
   "cell_type": "code",
   "execution_count": null,
   "metadata": {},
   "outputs": [],
   "source": []
  }
 ],
 "metadata": {
  "kernelspec": {
   "display_name": "Python 3",
   "language": "python",
   "name": "python3"
  },
  "language_info": {
   "codemirror_mode": {
    "name": "ipython",
    "version": 3
   },
   "file_extension": ".py",
   "mimetype": "text/x-python",
   "name": "python",
   "nbconvert_exporter": "python",
   "pygments_lexer": "ipython3",
   "version": "3.7.6"
  },
  "nteract": {
   "version": "0.15.0"
  }
 },
 "nbformat": 4,
 "nbformat_minor": 4
}
