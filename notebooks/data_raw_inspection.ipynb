{
 "cells": [
  {
   "cell_type": "code",
   "execution_count": null,
   "metadata": {
    "collapsed": true
   },
   "outputs": [],
   "source": [
    "from data_transformation import utils\n",
    "from definitions.file_paths import CSV_RS_CASES, CSV_LI_CASES, CSV_CASE_CITATIONS, CSV_LEGISLATION_CITATIONS\n",
    "import pandas as pd\n",
    "pd.set_option('display.max_columns', None)\n",
    "pd.set_option('display.max_colwidth', -1)\n",
    "from pprint import pprint\n",
    "ECLI = 'ecli'"
   ]
  },
  {
   "cell_type": "markdown",
   "source": [
    "# Inspection and mapping of Rechtspraak (RS) to Legal Intelligence (LI) + citation (LIDO) data"
   ],
   "metadata": {
    "collapsed": false,
    "pycharm": {
     "name": "#%% md\n"
    }
   }
  },
  {
   "cell_type": "markdown",
   "source": [
    "------------------------------------------------------------------------------------------------------------------------\n",
    "### DATES\n",
    "#### Raw dates"
   ],
   "metadata": {
    "collapsed": false,
    "pycharm": {
     "name": "#%% md\n"
    }
   }
  },
  {
   "cell_type": "code",
   "execution_count": null,
   "outputs": [],
   "source": [
    "dates_rs = ['issued', 'date']\n",
    "dates_li = ['PublicationDate', 'EnactmentDate', 'DateAdded']\n",
    "df_dates_rs = utils.read_csv(CSV_RS_CASES, ['identifier'] + dates_rs).rename(columns={'identifier': ECLI})\n",
    "df_dates_li = utils.read_csv(CSV_LI_CASES, [ECLI] + dates_li)\n",
    "df_dates = utils.map_cases(df_dates_rs.copy(), df_dates_li.copy())\n",
    "\n",
    "utils.not_none_rows(df_dates, number=2)"
   ],
   "metadata": {
    "collapsed": false,
    "pycharm": {
     "name": "#%%\n"
    }
   }
  },
  {
   "cell_type": "markdown",
   "source": [
    "#### Clean dates\n",
    "(convert dates to datetime)"
   ],
   "metadata": {
    "collapsed": false,
    "pycharm": {
     "name": "#%% md\n"
    }
   }
  },
  {
   "cell_type": "code",
   "execution_count": null,
   "outputs": [],
   "source": [
    "df_dates_clean = df_dates.apply(lambda col: col.apply(\n",
    "    lambda x: utils.format_li_date(x) if x else x) if col.name in dates_li else col)\n",
    "\n",
    "df_dates_clean.describe()"
   ],
   "metadata": {
    "collapsed": false,
    "pycharm": {
     "name": "#%%\n"
    }
   }
  },
  {
   "cell_type": "markdown",
   "source": [
    "#### Check if RS issued always before LI PublicationDate:"
   ],
   "metadata": {
    "collapsed": false,
    "pycharm": {
     "name": "#%% md\n"
    }
   }
  },
  {
   "cell_type": "code",
   "execution_count": null,
   "outputs": [],
   "source": [
    "utils.compare('issued', 'PublicationDate', '<=', df_dates)"
   ],
   "metadata": {
    "collapsed": false,
    "pycharm": {
     "name": "#%%\n"
    }
   }
  },
  {
   "cell_type": "markdown",
   "source": [
    "#### Check for equality of RS date and LI EnactmentDate"
   ],
   "metadata": {
    "collapsed": false,
    "pycharm": {
     "name": "#%% md\n"
    }
   }
  },
  {
   "cell_type": "code",
   "execution_count": null,
   "outputs": [],
   "source": [
    "utils.compare('date', 'EnactmentDate', '==', df_dates)"
   ],
   "metadata": {
    "collapsed": false,
    "pycharm": {
     "name": "#%%\n"
    }
   }
  },
  {
   "cell_type": "markdown",
   "source": [
    "#### Check if LI EnactmentDate always before LI PublicationDate"
   ],
   "metadata": {
    "collapsed": false,
    "pycharm": {
     "name": "#%% md\n"
    }
   }
  },
  {
   "cell_type": "code",
   "execution_count": null,
   "outputs": [],
   "source": [
    "utils.compare('EnactmentDate', 'PublicationDate', '<=', df_dates)"
   ],
   "metadata": {
    "collapsed": false,
    "pycharm": {
     "name": "#%%\n"
    }
   }
  },
  {
   "cell_type": "markdown",
   "source": [
    "#### Check if LI PublicationDate always before LI DateAdded"
   ],
   "metadata": {
    "collapsed": false,
    "pycharm": {
     "name": "#%% md\n"
    }
   }
  },
  {
   "cell_type": "code",
   "execution_count": null,
   "outputs": [],
   "source": [
    "utils.compare('PublicationDate', 'DateAdded', '<=', df_dates)"
   ],
   "metadata": {
    "collapsed": false,
    "pycharm": {
     "name": "#%%\n"
    }
   }
  },
  {
   "cell_type": "markdown",
   "source": [
    "#### Summary dates:\n",
    "\n",
    "original format LI dates: YYYYMMDD (or YYYYMMDD.0 if parsed as float)<br>\n",
    "original format RS dates: YYYY-MM-DD\n",
    "\n",
    "- RS date corresponds to LI EnactmentDate --> date of decision\n",
    "- RS issued before LI PublicationDate --> date published online (on RS/ other publisher)\n",
    "- LI EnactmentDate before LI PublicationDate\n",
    "- PublicationDate before DateAdded --> DateAdded = date added to LI platform"
   ],
   "metadata": {
    "collapsed": false,
    "pycharm": {
     "name": "#%% md\n"
    }
   }
  },
  {
   "cell_type": "code",
   "execution_count": null,
   "outputs": [],
   "source": [
    "del dates_rs, dates_li, df_dates, df_dates_li, df_dates_rs, df_dates_clean"
   ],
   "metadata": {
    "collapsed": false,
    "pycharm": {
     "name": "#%%\n"
    }
   }
  },
  {
   "cell_type": "markdown",
   "source": [
    "------------------------------------------------------------------------------------------------------------------------\n",
    "### TEXTUAL INFORMATION\n",
    "#### Raw texts"
   ],
   "metadata": {
    "collapsed": false,
    "pycharm": {
     "name": "#%% md\n"
    }
   }
  },
  {
   "cell_type": "code",
   "execution_count": null,
   "outputs": [],
   "source": [
    "texts_rs = ['inhoudsindicatie', 'info']\n",
    "texts_li = ['Summary']\n",
    "df_texts_rs = utils.read_csv(CSV_RS_CASES, ['identifier'] + texts_rs).rename(columns={'identifier': ECLI})\n",
    "df_texts_li = utils.read_csv(CSV_LI_CASES, [ECLI] + texts_li)\n",
    "df_texts = utils.map_cases(df_texts_rs.copy(), df_texts_li.copy())\n",
    "\n",
    "utils.not_none_rows(df_texts, number=1)"
   ],
   "metadata": {
    "collapsed": false,
    "pycharm": {
     "name": "#%%\n"
    }
   }
  },
  {
   "cell_type": "markdown",
   "source": [
    "#### Clean texts\n",
    "(remove xml tags)"
   ],
   "metadata": {
    "collapsed": false,
    "pycharm": {
     "name": "#%% md\n"
    }
   }
  },
  {
   "cell_type": "code",
   "execution_count": null,
   "outputs": [],
   "source": [
    "df_texts_clean = df_texts.apply(lambda col: col.apply(\n",
    "    lambda x: utils.format_rs_xml(x) if x else x) if col.name in texts_rs else col)\n",
    "\n",
    "df_texts_clean.describe()"
   ],
   "metadata": {
    "collapsed": false,
    "pycharm": {
     "name": "#%%\n"
    }
   }
  },
  {
   "cell_type": "code",
   "execution_count": null,
   "outputs": [],
   "source": [
    "utils.not_none_rows(df_texts_clean, number=5)"
   ],
   "metadata": {
    "collapsed": false,
    "pycharm": {
     "name": "#%%\n"
    }
   }
  },
  {
   "cell_type": "markdown",
   "source": [
    "#### Summary text information:\n",
    "\n",
    "original format RS texts: XML <br>\n",
    "original format LI texts: plain string\n",
    "\n",
    "- LI Summary: contains a short summary of the case in natural language\n",
    "- RS inhoudsindicatie: contains keywords (legislation articles) / short summary of case\n",
    " (--> RS inhoudsindicatie ~ LI Summary (<- more informative))\n",
    "- RS info: contains meta info about case (court, case number, date, type, attorney, ...)"
   ],
   "metadata": {
    "collapsed": false,
    "pycharm": {
     "name": "#%% md\n"
    }
   }
  },
  {
   "cell_type": "code",
   "execution_count": null,
   "outputs": [],
   "source": [
    "del df_texts_clean, df_texts_li, df_texts_rs, df_texts, texts_rs, texts_li"
   ],
   "metadata": {
    "collapsed": false,
    "pycharm": {
     "name": "#%%\n"
    }
   }
  },
  {
   "cell_type": "markdown",
   "source": [
    "\n",
    "------------------------------------------------------------------------------------------------------------------------\n",
    "### TITLES\n",
    "#### Raw titles"
   ],
   "metadata": {
    "collapsed": false
   }
  },
  {
   "cell_type": "code",
   "execution_count": null,
   "outputs": [],
   "source": [
    "titles_rs = ['title']\n",
    "titles_li = ['Title', 'DisplayTitle', 'DisplaySubtitle']\n",
    "\n",
    "df_titles_rs = utils.read_csv(CSV_RS_CASES, ['identifier'] + titles_rs).rename(columns={'identifier': ECLI})\n",
    "df_titles_li = utils.read_csv(CSV_LI_CASES, [ECLI] + titles_li)\n",
    "df_titles = utils.map_cases(df_titles_rs.copy(), df_titles_li.copy())\n",
    "\n",
    "utils.not_none_rows(df_titles, number=2)"
   ],
   "metadata": {
    "collapsed": false,
    "pycharm": {
     "name": "#%%\n"
    }
   }
  },
  {
   "cell_type": "markdown",
   "source": [
    "#### Clean titles\n",
    "(remove white spaces before and after text)"
   ],
   "metadata": {
    "collapsed": false,
    "pycharm": {
     "name": "#%% md\n"
    }
   }
  },
  {
   "cell_type": "code",
   "execution_count": null,
   "outputs": [],
   "source": [
    "df_titles_clean = df_titles.copy()\n",
    "df_titles_clean = df_titles_clean.apply(lambda col: col.apply(\n",
    "    lambda x: x.strip() if x else x))\n",
    "\n",
    "df_titles_clean.describe()"
   ],
   "metadata": {
    "collapsed": false,
    "pycharm": {
     "name": "#%%\n"
    }
   }
  },
  {
   "cell_type": "code",
   "execution_count": null,
   "outputs": [],
   "source": [
    "utils.not_none_rows(df_titles_clean, number=5)"
   ],
   "metadata": {
    "collapsed": false,
    "pycharm": {
     "name": "#%%\n"
    }
   }
  },
  {
   "cell_type": "code",
   "execution_count": null,
   "outputs": [],
   "source": [
    "utils.compare('Title', 'DisplaySubtitle', '==', df_titles_clean[titles_li])"
   ],
   "metadata": {
    "collapsed": false,
    "pycharm": {
     "name": "#%%\n"
    }
   }
  },
  {
   "cell_type": "markdown",
   "source": [
    "Summary titles:\n",
    "\n",
    "original format RS titles: plain string<br>\n",
    "original format LI titles: plain string\n",
    "\n",
    "- LI Title == LI DisplaySubtitle: concise description of case\n",
    "- RS title ~ LI DisplayTitle: meta info about case (case number, court, date, ...)"
   ],
   "metadata": {
    "collapsed": false
   }
  },
  {
   "cell_type": "code",
   "execution_count": null,
   "outputs": [],
   "source": [
    "del df_titles, df_titles_clean, df_titles_li, df_titles_rs, titles_li, titles_rs"
   ],
   "metadata": {
    "collapsed": false,
    "pycharm": {
     "name": "#%%\n"
    }
   }
  },
  {
   "cell_type": "markdown",
   "source": [
    "------------------------------------------------------------------------------------------------------------------------\n",
    "### CASE NUMBERS\n",
    "#### Raw case numbers"
   ],
   "metadata": {
    "collapsed": false
   }
  },
  {
   "cell_type": "code",
   "execution_count": null,
   "outputs": [],
   "source": [
    "case_numbers_rs = ['zaaknummer']\n",
    "case_numbers_li = ['Id', 'CaseNumber', 'PublicationNumber', 'IssueNumber']\n",
    "\n",
    "df_case_numbers_rs = utils.read_csv(CSV_RS_CASES, ['identifier'] + case_numbers_rs).rename(columns={'identifier': ECLI})\n",
    "df_case_numbers_li = utils.read_csv(CSV_LI_CASES, [ECLI] + case_numbers_li)\n",
    "df_case_numbers = utils.map_cases(df_case_numbers_rs.copy(), df_case_numbers_li.copy())\n",
    "\n",
    "utils.not_none_rows(df_case_numbers, number=2)"
   ],
   "metadata": {
    "collapsed": false,
    "pycharm": {
     "name": "#%%\n"
    }
   }
  },
  {
   "cell_type": "markdown",
   "source": [
    "#### Clean case numbers\n",
    "(remove white spaces before and after text)"
   ],
   "metadata": {
    "collapsed": false,
    "pycharm": {
     "name": "#%% md\n"
    }
   }
  },
  {
   "cell_type": "code",
   "execution_count": null,
   "outputs": [],
   "source": [
    "df_case_numbers_clean = df_case_numbers.apply(lambda col: col.apply(\n",
    "    lambda x: x.strip() if x else x))\n",
    "\n",
    "df_case_numbers_clean.describe()"
   ],
   "metadata": {
    "collapsed": false,
    "pycharm": {
     "name": "#%%\n"
    }
   }
  },
  {
   "cell_type": "code",
   "execution_count": null,
   "outputs": [],
   "source": [
    "utils.not_none_rows(df_case_numbers_clean, number=5)\n"
   ],
   "metadata": {
    "collapsed": false,
    "pycharm": {
     "name": "#%%\n"
    }
   }
  },
  {
   "cell_type": "markdown",
   "source": [
    "#### Summary case numbers:\n",
    "\n",
    "original format RS case numbers: plain string<br>\n",
    "original format LI case numbers: plain string\n",
    "\n",
    "- RS ecli (identifier): ecli\n",
    "- RS zaaknummer: identifier before eclis introduced\n",
    "- LI Id: internal entry ID within LI\n",
    "- LI CaseNumber: combination of ecli and zaaknummer\n",
    "- LI PublicationNumber: document ID of publishing institution\n",
    "- LI IssueNumber: collection ID of publishing institution"
   ],
   "metadata": {
    "collapsed": false
   }
  },
  {
   "cell_type": "code",
   "execution_count": null,
   "outputs": [],
   "source": [
    "del case_numbers_li, case_numbers_rs, df_case_numbers_clean, df_case_numbers_li, df_case_numbers_rs, df_case_numbers"
   ],
   "metadata": {
    "collapsed": false,
    "pycharm": {
     "name": "#%%\n"
    }
   }
  },
  {
   "cell_type": "markdown",
   "source": [
    "------------------------------------------------------------------------------------------------------------------------\n",
    "### DOMAINS\n",
    "#### Raw domains"
   ],
   "metadata": {
    "collapsed": false,
    "pycharm": {
     "name": "#%% md\n"
    }
   }
  },
  {
   "cell_type": "code",
   "execution_count": null,
   "outputs": [],
   "source": [
    "domains_rs = ['subject']\n",
    "domains_li = ['LawArea']\n",
    "\n",
    "df_domains_rs = utils.read_csv(CSV_RS_CASES, ['identifier'] + domains_rs).rename(columns={'identifier': ECLI})\n",
    "df_domains_li = utils.read_csv(CSV_LI_CASES, [ECLI] + domains_li)\n",
    "\n",
    "df_domains = utils.map_cases(df_domains_rs.copy(), df_domains_li.copy())\n",
    "\n",
    "utils.not_none_rows(df_domains, number=2)"
   ],
   "metadata": {
    "collapsed": false,
    "pycharm": {
     "name": "#%%\n"
    }
   }
  },
  {
   "cell_type": "markdown",
   "source": [
    "#### Clean domains\n",
    "(remove white spaces before and after text, transform list notation to \"e1; e2; e3\")"
   ],
   "metadata": {
    "collapsed": false,
    "pycharm": {
     "name": "#%% md\n"
    }
   }
  },
  {
   "cell_type": "code",
   "execution_count": null,
   "outputs": [],
   "source": [
    "df_domains_clean = df_domains.copy()\n",
    "df_domains_clean = df_domains_clean.apply(lambda col: col.apply(\n",
    "    lambda x: utils.format_rs_list(x) if x else x) if col.name in domains_rs else col)\n",
    "df_domains_clean = df_domains_clean.apply(lambda col: col.apply(\n",
    "    lambda x: utils.format_li_list(x) if x else x) if col.name in domains_li else col)\n",
    "\n",
    "df_domains_clean.describe()"
   ],
   "metadata": {
    "collapsed": false,
    "pycharm": {
     "name": "#%%\n"
    }
   }
  },
  {
   "cell_type": "code",
   "execution_count": null,
   "outputs": [],
   "source": [
    "# find unqiue domain names of RS and LI:\n",
    "domains_rs_list = df_domains_rs['subject'].value_counts().index.tolist()\n",
    "unique_domains_rs = list(set(sum([i.split('; ') for i in domains_rs_list], [])))\n",
    "unique_domains_rs.sort()\n",
    "print(\"Unique RS domains:\")\n",
    "pprint(unique_domains_rs)\n",
    "\n",
    "df_domains_li_clean = df_domains_li.apply(lambda col: col.apply(utils.format_li_list))\n",
    "domains_li_list = df_domains_li_clean['LawArea'].value_counts().index.tolist()\n",
    "unique_domains_li = list(set(sum([i.split('; ') for i in domains_li_list], [])))\n",
    "unique_domains_li.sort()\n",
    "print(\"\\nUnique LI domains:\")\n",
    "pprint(unique_domains_li)"
   ],
   "metadata": {
    "collapsed": false,
    "pycharm": {
     "name": "#%%\n"
    }
   }
  },
  {
   "cell_type": "code",
   "execution_count": null,
   "outputs": [],
   "source": [
    "utils.not_none_rows(df_domains_clean, number=5)"
   ],
   "metadata": {
    "collapsed": false,
    "pycharm": {
     "name": "#%%\n"
    }
   }
  },
  {
   "cell_type": "markdown",
   "source": [
    "#### Summary domains:\n",
    "\n",
    "original format RS domains: \"d1; d2; d3\"<br>\n",
    "original format LI domains: \"['d1', 'd2', 'd3']\"\n",
    "\n",
    "- RS and LI use different notation to label case domains\n",
    "- RS and LI domains do not always match"
   ],
   "metadata": {
    "collapsed": false,
    "pycharm": {
     "name": "#%% md\n"
    }
   }
  },
  {
   "cell_type": "code",
   "execution_count": null,
   "outputs": [],
   "source": [
    "del domains_rs, domains_li, df_domains_li, df_domains_rs, df_domains_clean, df_domains"
   ],
   "metadata": {
    "collapsed": false,
    "pycharm": {
     "name": "#%%\n"
    }
   }
  },
  {
   "cell_type": "markdown",
   "source": [
    "------------------------------------------------------------------------------------------------------------------------\n",
    "### INSTANCE\n",
    "#### Raw instance"
   ],
   "metadata": {
    "collapsed": false,
    "pycharm": {
     "name": "#%% md\n"
    }
   }
  },
  {
   "cell_type": "code",
   "execution_count": null,
   "outputs": [],
   "source": [
    "instance_rs = ['creator']\n",
    "instance_li = ['IssuingInstitution']\n",
    "\n",
    "df_instance_rs = utils.read_csv(CSV_RS_CASES, ['identifier'] + instance_rs).rename(columns={'identifier': ECLI})\n",
    "df_instance_li = utils.read_csv(CSV_LI_CASES, [ECLI] + instance_li)\n",
    "df_instance = utils.map_cases(df_instance_rs.copy(), df_instance_li.copy())\n",
    "\n",
    "utils.not_none_rows(df_instance, number=2)"
   ],
   "metadata": {
    "collapsed": false,
    "pycharm": {
     "name": "#%%\n"
    }
   }
  },
  {
   "cell_type": "markdown",
   "source": [
    "#### Clean instance\n",
    "(remove white spaces before and after text)"
   ],
   "metadata": {
    "collapsed": false,
    "pycharm": {
     "name": "#%% md\n"
    }
   }
  },
  {
   "cell_type": "code",
   "execution_count": null,
   "outputs": [],
   "source": [
    "df_instance_clean = df_instance.copy()\n",
    "df_instance_clean = df_instance_clean.apply(lambda col: col.apply(\n",
    "    lambda x: x.strip() if x else x))\n",
    "df_instance_clean.describe()"
   ],
   "metadata": {
    "collapsed": false,
    "pycharm": {
     "name": "#%%\n"
    }
   }
  },
  {
   "cell_type": "code",
   "execution_count": null,
   "outputs": [],
   "source": [
    "utils.compare('creator', 'IssuingInstitution', '==', df_instance, number=37)"
   ],
   "metadata": {
    "collapsed": false,
    "pycharm": {
     "name": "#%%\n"
    }
   }
  },
  {
   "cell_type": "markdown",
   "source": [
    "#### Summary instance:\n",
    "\n",
    "- RS uses \"'s-Gravenhage\", \"'s Gravenhage\" and \"Den Haag\" to refer to Den Haag\n",
    "- LI uses only \"Den Haag\" to refer to Den Haag\n",
    "- RS \"Rechtbank\" == LI \"Sector kanton Rechtbank\")"
   ],
   "metadata": {
    "collapsed": false,
    "pycharm": {
     "name": "#%% md\n"
    }
   }
  },
  {
   "cell_type": "code",
   "execution_count": null,
   "outputs": [],
   "source": [
    "del instance_li, instance_rs, df_instance_li, df_instance_clean, df_instance, df_instance_rs"
   ],
   "metadata": {
    "collapsed": false,
    "pycharm": {
     "name": "#%%\n"
    }
   }
  },
  {
   "cell_type": "markdown",
   "source": [
    "------------------------------------------------------------------------------------------------------------------------\n",
    "### JURISDICTION\n",
    "#### Raw jurisdiction"
   ],
   "metadata": {
    "collapsed": false,
    "pycharm": {
     "name": "#%% md\n"
    }
   }
  },
  {
   "cell_type": "code",
   "execution_count": null,
   "outputs": [],
   "source": [
    "jurisdiction_rs = ['spatial', 'jurisdiction_country']\n",
    "jurisdiction_li = ['Jurisdiction']\n",
    "\n",
    "df_jurisdiction_rs = utils.read_csv(CSV_RS_CASES, ['identifier'] + jurisdiction_rs).rename(columns={'identifier': ECLI})\n",
    "df_jurisdiction_li = utils.read_csv(CSV_LI_CASES, [ECLI] + jurisdiction_li)\n",
    "df_jurisdiction = utils.map_cases(df_jurisdiction_rs.copy(), df_jurisdiction_li.copy())\n",
    "\n",
    "utils.not_none_rows(df_jurisdiction, number=2)"
   ],
   "metadata": {
    "collapsed": false,
    "pycharm": {
     "name": "#%%\n"
    }
   }
  },
  {
   "cell_type": "markdown",
   "source": [
    "#### Clean jurisdiction\n",
    "(remove white spaces before and after text)"
   ],
   "metadata": {
    "collapsed": false,
    "pycharm": {
     "name": "#%% md\n"
    }
   }
  },
  {
   "cell_type": "code",
   "execution_count": null,
   "outputs": [],
   "source": [
    "df_jurisdiction_clean = df_jurisdiction.copy()\n",
    "df_jurisdiction_clean = df_jurisdiction_clean.apply(lambda col: col.apply(\n",
    "    lambda x: x.strip() if x else x))"
   ],
   "metadata": {
    "collapsed": false,
    "pycharm": {
     "name": "#%%\n"
    }
   }
  },
  {
   "cell_type": "code",
   "execution_count": null,
   "outputs": [],
   "source": [
    "df_jurisdiction_clean.describe()\n"
   ],
   "metadata": {
    "collapsed": false,
    "pycharm": {
     "name": "#%%\n"
    }
   }
  },
  {
   "cell_type": "code",
   "execution_count": null,
   "outputs": [],
   "source": [
    "print('Unique RS spatial values: ', df_jurisdiction_rs['spatial'].unique())\n",
    "print('Unique RS jurisdiction values: ', df_jurisdiction_rs['jurisdiction_country'].unique())\n",
    "print('Unique LI jurisdiction values: ', df_jurisdiction_li['Jurisdiction'].unique())"
   ],
   "metadata": {
    "collapsed": false,
    "pycharm": {
     "name": "#%%\n"
    }
   }
  },
  {
   "cell_type": "markdown",
   "source": [
    "#### Summary jurisdiction\n",
    "\n",
    "- RS and LI jurisdiction are always \"NL\" but notation needs to be aligned (LI \"Nederland\" --> RS \"NL\")"
   ],
   "metadata": {
    "collapsed": false,
    "pycharm": {
     "name": "#%% md\n"
    }
   }
  },
  {
   "cell_type": "code",
   "execution_count": null,
   "outputs": [],
   "source": [
    "del df_jurisdiction, df_jurisdiction_li, df_jurisdiction_rs, df_jurisdiction_clean, jurisdiction_li, jurisdiction_rs"
   ],
   "metadata": {
    "collapsed": false,
    "pycharm": {
     "name": "#%%\n"
    }
   }
  },
  {
   "cell_type": "markdown",
   "source": [
    "------------------------------------------------------------------------------------------------------------------------\n",
    "### LINKS\n",
    "#### Raw links"
   ],
   "metadata": {
    "collapsed": false,
    "pycharm": {
     "name": "#%% md\n"
    }
   }
  },
  {
   "cell_type": "code",
   "execution_count": null,
   "outputs": [],
   "source": [
    "links_rs = ['identifier2']\n",
    "links_li = ['Url', 'OriginalUrl']\n",
    "\n",
    "df_links_rs = utils.read_csv(CSV_RS_CASES, ['identifier'] + links_rs).rename(columns={'identifier': ECLI})\n",
    "df_links_li = utils.read_csv(CSV_LI_CASES, [ECLI] + links_li)\n",
    "df_links = utils.map_cases(df_links_rs.copy(), df_links_li.copy())\n",
    "\n",
    "utils.not_none_rows(df_links, number=2)"
   ],
   "metadata": {
    "collapsed": false,
    "pycharm": {
     "name": "#%%\n"
    }
   }
  },
  {
   "cell_type": "markdown",
   "source": [
    "#### Clean links\n",
    "(remove white spaces before and after text)"
   ],
   "metadata": {
    "collapsed": false,
    "pycharm": {
     "name": "#%% md\n"
    }
   }
  },
  {
   "cell_type": "code",
   "execution_count": null,
   "outputs": [],
   "source": [
    "df_links_clean = df_links.copy()\n",
    "df_links_clean = df_links_clean.apply(lambda col: col.apply(\n",
    "    lambda x: x.strip() if x else x))\n",
    "\n",
    "df_links_clean.describe()"
   ],
   "metadata": {
    "collapsed": false,
    "pycharm": {
     "name": "#%%\n"
    }
   }
  },
  {
   "cell_type": "code",
   "execution_count": null,
   "outputs": [],
   "source": [
    "utils.not_none_rows(df_links_clean, number=5)"
   ],
   "metadata": {
    "collapsed": false,
    "pycharm": {
     "name": "#%%\n"
    }
   }
  },
  {
   "cell_type": "markdown",
   "source": [
    "#### Summary links:\n",
    "\n",
    "- RS \"identifier2\": deeplink to case publication on Rechtspraak.nl\n",
    "- LI \"Url\": link to LI entry of case\n",
    "- LI \"OriginalUrl_li\": link to case publication of publisher (on Navigator)"
   ],
   "metadata": {
    "collapsed": false,
    "pycharm": {
     "name": "#%% md\n"
    }
   }
  },
  {
   "cell_type": "code",
   "execution_count": null,
   "outputs": [],
   "source": [
    "del links_li, links_rs, df_links_clean, df_links, df_links_li, df_links_rs"
   ],
   "metadata": {
    "collapsed": false,
    "pycharm": {
     "name": "#%%\n"
    }
   }
  },
  {
   "cell_type": "markdown",
   "source": [
    "------------------------------------------------------------------------------------------------------------------------\n",
    "### SOURCES:\n",
    "#### Raw sources"
   ],
   "metadata": {
    "collapsed": false,
    "pycharm": {
     "name": "#%% md\n"
    }
   }
  },
  {
   "cell_type": "code",
   "execution_count": null,
   "outputs": [],
   "source": [
    "sources_rs = ['source']\n",
    "sources_li = ['DocumentType']\n",
    "\n",
    "df_sources_rs = utils.read_csv(CSV_RS_CASES, ['identifier'] + sources_rs).rename(columns={'identifier': ECLI})\n",
    "df_sources_li = utils.read_csv(CSV_LI_CASES, [ECLI] + sources_li)\n",
    "df_sources = utils.map_cases(df_sources_rs.copy(), df_sources_li.copy())\n",
    "\n",
    "utils.not_none_rows(df_sources, number=2)"
   ],
   "metadata": {
    "collapsed": false,
    "pycharm": {
     "name": "#%%\n"
    }
   }
  },
  {
   "cell_type": "markdown",
   "source": [
    "#### Clean sources\n",
    "(remove white spaces before and after text)"
   ],
   "metadata": {
    "collapsed": false,
    "pycharm": {
     "name": "#%% md\n"
    }
   }
  },
  {
   "cell_type": "code",
   "execution_count": null,
   "outputs": [],
   "source": [
    "df_sources_clean = df_sources.copy()\n",
    "df_sources_clean = df_sources_clean.apply(lambda col: col.apply(\n",
    "    lambda x: x.strip() if x else x))\n",
    "\n",
    "df_sources_clean.describe()"
   ],
   "metadata": {
    "collapsed": false,
    "pycharm": {
     "name": "#%%\n"
    }
   }
  },
  {
   "cell_type": "code",
   "execution_count": null,
   "outputs": [],
   "source": [
    "print('Unique RS source values: ', df_sources_rs['source'].unique())\n",
    "print('Unique LI DocumentType values: ', df_sources_li['DocumentType'].unique())"
   ],
   "metadata": {
    "collapsed": false,
    "pycharm": {
     "name": "#%%\n"
    }
   }
  },
  {
   "cell_type": "markdown",
   "source": [
    "#### Summary sources:\n",
    "\n",
    "- RS Source == LI DocumentType == 'Rechtspraak'"
   ],
   "metadata": {
    "collapsed": false
   }
  },
  {
   "cell_type": "code",
   "execution_count": null,
   "outputs": [],
   "source": [
    "del sources_li, sources_rs, df_sources_clean, df_sources, df_sources_li, df_sources_rs"
   ],
   "metadata": {
    "collapsed": false,
    "pycharm": {
     "name": "#%%\n"
    }
   }
  },
  {
   "cell_type": "markdown",
   "source": [
    "------------------------------------------------------------------------------------------------------------------------\n",
    "### ALTERNATIVE SOURCES:\n",
    "#### Raw alternative sources"
   ],
   "metadata": {
    "collapsed": false,
    "pycharm": {
     "name": "#%% md\n"
    }
   }
  },
  {
   "cell_type": "code",
   "execution_count": null,
   "outputs": [],
   "source": [
    "alt_sources_rs = ['hasVersion']\n",
    "alt_sources_li = ['Sources']\n",
    "\n",
    "df_alt_sources_rs = utils.read_csv(CSV_RS_CASES, ['identifier'] + alt_sources_rs).rename(columns={'identifier': ECLI})\n",
    "df_alt_sources_li = utils.read_csv(CSV_LI_CASES, [ECLI] + alt_sources_li)\n",
    "df_alt_sources = utils.map_cases(df_alt_sources_rs.copy(), df_alt_sources_li.copy())\n",
    "\n",
    "utils.not_none_rows(df_alt_sources, number=2)"
   ],
   "metadata": {
    "collapsed": false,
    "pycharm": {
     "name": "#%%\n"
    }
   }
  },
  {
   "cell_type": "markdown",
   "source": [
    "#### Clean alt_sources\n",
    "(remove white spaces before and after text, remove xml tags, format lists)"
   ],
   "metadata": {
    "collapsed": false,
    "pycharm": {
     "name": "#%% md\n"
    }
   }
  },
  {
   "cell_type": "code",
   "execution_count": null,
   "outputs": [],
   "source": [
    "df_alt_sources_clean = df_alt_sources.copy()\n",
    "df_alt_sources_clean = df_alt_sources_clean.apply(lambda col: col.apply(\n",
    "    lambda x: utils.format_rs_alt_sources(x) if x else x) if col.name in alt_sources_rs else col)\n",
    "df_alt_sources_clean = df_alt_sources_clean.apply(lambda col: col.apply(\n",
    "    lambda x: utils.format_li_list(x) if x else x) if col.name in alt_sources_li else col)\n",
    "\n",
    "df_alt_sources_clean.describe()"
   ],
   "metadata": {
    "collapsed": false,
    "pycharm": {
     "name": "#%%\n"
    }
   }
  },
  {
   "cell_type": "code",
   "execution_count": null,
   "outputs": [],
   "source": [
    "utils.not_none_rows(df_alt_sources_clean, number=5)"
   ],
   "metadata": {
    "collapsed": false,
    "pycharm": {
     "name": "#%%\n"
    }
   }
  },
  {
   "cell_type": "markdown",
   "source": [
    "#### Summary alternative sources:\n",
    "\n",
    "- RS hasVersion: list of alternative publications with comment on type of publication\n",
    "- LI Sources: list of alternative publications\n",
    "- RS hasVersion and LI Sources do not always match"
   ],
   "metadata": {
    "collapsed": false
   }
  },
  {
   "cell_type": "code",
   "execution_count": null,
   "outputs": [],
   "source": [
    "del alt_sources_li, alt_sources_rs, df_alt_sources_clean, df_alt_sources_li, df_alt_sources_rs, df_alt_sources"
   ],
   "metadata": {
    "collapsed": false,
    "pycharm": {
     "name": "#%%\n"
    }
   }
  },
  {
   "cell_type": "markdown",
   "source": [
    "------------------------------------------------------------------------------------------------------------------------\n",
    "### OTHER:"
   ],
   "metadata": {
    "collapsed": false
   }
  },
  {
   "cell_type": "code",
   "execution_count": null,
   "outputs": [],
   "source": [
    "other_rs = ['language', 'type', 'procedure'] # 'full_text' too big!\n",
    "\n",
    "df_other_rs = utils.read_csv(CSV_RS_CASES, ['identifier'] + other_rs).rename(columns={'identifier': ECLI})\n",
    "\n",
    "# clean other (remove white spaces before and after text)\n",
    "df_other_clean = df_other_rs.apply(lambda col: col.apply(lambda x: x.strip() if x else x))"
   ],
   "metadata": {
    "collapsed": false,
    "pycharm": {
     "name": "#%%\n"
    }
   }
  },
  {
   "cell_type": "code",
   "execution_count": null,
   "outputs": [],
   "source": [
    "df_other_clean.describe()"
   ],
   "metadata": {
    "collapsed": false,
    "pycharm": {
     "name": "#%%\n"
    }
   }
  },
  {
   "cell_type": "code",
   "execution_count": null,
   "outputs": [],
   "source": [
    "utils.not_none_rows(df_other_clean[['procedure']], number=5)"
   ],
   "metadata": {
    "collapsed": false,
    "pycharm": {
     "name": "#%%\n"
    }
   }
  },
  {
   "cell_type": "markdown",
   "source": [
    "#### Summary other:\n",
    "\n",
    "- RS language: always 'NL'\n",
    "- RS type: always 'Uitspraak' (in opinions.csv: always 'Conclusie')\n",
    "- RS procedure: procedure type of case"
   ],
   "metadata": {
    "collapsed": false
   }
  },
  {
   "cell_type": "code",
   "execution_count": null,
   "outputs": [],
   "source": [
    "del other_rs, df_other_clean, df_other_rs"
   ],
   "metadata": {
    "collapsed": false,
    "pycharm": {
     "name": "#%%\n"
    }
   }
  },
  {
   "cell_type": "markdown",
   "source": [
    "------------------------------------------------------------------------------------------------------------------------\n",
    "###  CASE CITATIONS\n",
    "#### Raw case citations"
   ],
   "metadata": {
    "collapsed": false,
    "pycharm": {
     "name": "#%% md\n"
    }
   }
  },
  {
   "cell_type": "code",
   "execution_count": null,
   "outputs": [],
   "source": [
    "relations_rs = ['relation']\n",
    "relations_lido = ['target_ecli']\n",
    "#relations_lido = ['Jurisprudentie'] in new pipeline  # change in new pipeline\n",
    "\n",
    "df_relations_rs = utils.read_csv(CSV_RS_CASES, ['identifier'] + relations_rs).rename(columns={'identifier': ECLI})\n",
    "df_relations_li = utils.read_csv(CSV_CASE_CITATIONS, ['source_ecli'] + relations_lido).rename(columns={'source_ecli': ECLI})\n",
    "#df_relations_li = utils.read_csv(CSV_CASE_CITATIONS, [ECLI] + relations_lido)  # change in new pipeline\n",
    "df_relations = utils.map_cases(df_relations_rs.copy(), df_relations_li.copy())\n",
    "\n",
    "utils.not_none_rows(df_relations_rs, number=2)"
   ],
   "metadata": {
    "collapsed": false,
    "pycharm": {
     "name": "#%%\n"
    }
   }
  },
  {
   "cell_type": "code",
   "execution_count": null,
   "outputs": [],
   "source": [
    "utils.not_none_rows(df_relations_li, number=2)"
   ],
   "metadata": {
    "collapsed": false,
    "pycharm": {
     "name": "#%%\n"
    }
   }
  },
  {
   "cell_type": "markdown",
   "source": [
    "#### Clean case citations\n",
    "(remove white spaces before and after text, format lists)"
   ],
   "metadata": {
    "collapsed": false,
    "pycharm": {
     "name": "#%% md\n"
    }
   }
  },
  {
   "cell_type": "code",
   "execution_count": null,
   "outputs": [],
   "source": [
    "df_relations_rs_clean = df_relations_rs.copy()\n",
    "df_relations_rs_clean = df_relations_rs_clean.apply(lambda col: col.apply(\n",
    "    lambda x: utils.format_rs_list(x) if x else x) if col.name in relations_rs else col)\n",
    "\n",
    "df_relations_rs_clean.describe()"
   ],
   "metadata": {
    "collapsed": false,
    "pycharm": {
     "name": "#%%\n"
    }
   }
  },
  {
   "cell_type": "code",
   "execution_count": null,
   "outputs": [],
   "source": [
    "df_relations_li.describe()"
   ],
   "metadata": {
    "collapsed": false,
    "pycharm": {
     "name": "#%%\n"
    }
   }
  },
  {
   "cell_type": "code",
   "execution_count": null,
   "outputs": [],
   "source": [
    "utils.not_none_rows(df_relations_rs_clean, number=5)"
   ],
   "metadata": {
    "collapsed": false,
    "pycharm": {
     "name": "#%%\n"
    }
   }
  },
  {
   "cell_type": "code",
   "execution_count": null,
   "outputs": [],
   "source": [
    "utils.not_none_rows(df_relations, number=5)"
   ],
   "metadata": {
    "collapsed": false,
    "pycharm": {
     "name": "#%%\n"
    }
   }
  },
  {
   "cell_type": "markdown",
   "source": [
    "#### Summary case citations:\n",
    "\n",
    "- RS relation: list of case numbers with comment or procedure type (mostly None)\n",
    "- LIDO target_ecli: ecli of cited case\n",
    "- no cases with both RS relation and LIDO target_ecli value"
   ],
   "metadata": {
    "collapsed": false
   }
  },
  {
   "cell_type": "code",
   "execution_count": null,
   "outputs": [],
   "source": [
    "del relations_rs, relations_lido, df_relations_li, df_relations_rs, df_relations"
   ],
   "metadata": {
    "collapsed": false,
    "pycharm": {
     "name": "#%%\n"
    }
   }
  },
  {
   "cell_type": "markdown",
   "source": [
    "------------------------------------------------------------------------------------------------------------------------\n",
    "### LEGISLATION CITATIONS\n",
    "#### Raw legislation citations"
   ],
   "metadata": {
    "collapsed": false,
    "pycharm": {
     "name": "#%% md\n"
    }
   }
  },
  {
   "cell_type": "code",
   "execution_count": null,
   "outputs": [],
   "source": [
    "references_rs = ['references']\n",
    "references_lido = ['target_article', 'target_article_webpage']\n",
    "#references_lido = ['Wet', 'Artikel']  # change in new pipeline\n",
    "\n",
    "\n",
    "df_references_rs = utils.read_csv(CSV_RS_CASES, ['identifier'] + references_rs).rename(columns={'identifier': ECLI})\n",
    "df_references_li = utils.read_csv(CSV_LEGISLATION_CITATIONS, ['source_ecli'] + references_lido).rename(columns={'source_ecli': ECLI})\n",
    "#df_references_li = utils.read_csv(CSV_LEGISLATION_CITATIONS, [ECLI] + references_lido)  # change in new pipeline\n",
    "df_references = utils.map_cases(df_references_rs.copy(), df_references_li.copy())\n",
    "\n",
    "utils.not_none_rows(df_references, number=2)"
   ],
   "metadata": {
    "collapsed": false,
    "pycharm": {
     "name": "#%%\n"
    }
   }
  },
  {
   "cell_type": "markdown",
   "source": [
    "#### Clean legislation citations\n",
    "(remove white spaces before and after text, format lists)"
   ],
   "metadata": {
    "collapsed": false,
    "pycharm": {
     "name": "#%% md\n"
    }
   }
  },
  {
   "cell_type": "code",
   "execution_count": null,
   "outputs": [],
   "source": [
    "df_references_clean = df_references.copy()\n",
    "df_references_clean = df_references_clean.apply(lambda col: col.apply(\n",
    "    lambda x: utils.format_rs_list(x) if x else x) if col.name in references_rs else col)\n",
    "\n",
    "df_references_clean.describe()"
   ],
   "metadata": {
    "collapsed": false,
    "pycharm": {
     "name": "#%%\n"
    }
   }
  },
  {
   "cell_type": "code",
   "execution_count": null,
   "outputs": [],
   "source": [
    "utils.not_none_rows(df_references_clean, number=5)\n"
   ],
   "metadata": {
    "collapsed": false,
    "pycharm": {
     "name": "#%%\n"
    }
   }
  },
  {
   "cell_type": "markdown",
   "source": [
    "### Summary legislation citations:\n",
    "\n",
    "- RS references: list of legislation titles\n",
    "- LIDO Wet: link to LIDO entry of legislation or article (linkeddata.overheid.nl)\n",
    "- LIDO Artikel: link to publication of legislation or article (wetten.overheid.nl)"
   ],
   "metadata": {
    "collapsed": false
   }
  },
  {
   "cell_type": "code",
   "execution_count": null,
   "outputs": [],
   "source": [
    "del references_lido, references_rs, df_references, df_references_clean, df_references_li, df_references_rs"
   ],
   "metadata": {
    "collapsed": false,
    "pycharm": {
     "name": "#%%\n"
    }
   }
  }
 ],
 "metadata": {
  "kernelspec": {
   "display_name": "Python 3",
   "language": "python",
   "name": "python3"
  },
  "language_info": {
   "codemirror_mode": {
    "name": "ipython",
    "version": 2
   },
   "file_extension": ".py",
   "mimetype": "text/x-python",
   "name": "python",
   "nbconvert_exporter": "python",
   "pygments_lexer": "ipython2",
   "version": "2.7.6"
  }
 },
 "nbformat": 4,
 "nbformat_minor": 0
}