{
 "cells": [
  {
   "cell_type": "markdown",
   "metadata": {},
   "source": [
    "## Data flow to mysql"
   ]
  },
  {
   "cell_type": "code",
   "execution_count": 4,
   "metadata": {},
   "outputs": [],
   "source": [
    "import mysql.connector as mdb\n",
    "from mysql.connector import Error"
   ]
  },
  {
   "cell_type": "code",
   "execution_count": 5,
   "metadata": {},
   "outputs": [],
   "source": [
    "def open_database(host, db_name, username, password):\n",
    "    try:\n",
    "        connection = mdb.connect(host=host,\n",
    "                                 database=db_name,\n",
    "                                 user=username,\n",
    "                                 password=password)\n",
    "        if connection.is_connected():\n",
    "           db_Info = connection.get_server_info()\n",
    "           print(\"Connected to MySQL database... MySQL Server version on \",db_Info)\n",
    "           cursor = connection.cursor()\n",
    "           cursor.execute(\"select database();\")\n",
    "           record = cursor.fetchone()\n",
    "           print (\"Your connected to - \", record)\n",
    "           cursor.close()\n",
    "    except Error as e :\n",
    "        print (\"Error while connecting to MySQL\", e)\n",
    "    return connection"
   ]
  },
  {
   "cell_type": "code",
   "execution_count": 6,
   "metadata": {},
   "outputs": [],
   "source": [
    "def close_database(connection):\n",
    "    #closing database connection.\n",
    "    if(connection.is_connected()):\n",
    "        connection.close()\n",
    "        print(\"MySQL connection is closed\")"
   ]
  },
  {
   "cell_type": "code",
   "execution_count": 7,
   "metadata": {},
   "outputs": [
    {
     "name": "stdout",
     "output_type": "stream",
     "text": [
      "Connected to MySQL database... MySQL Server version on  8.0.15\n",
      "Your connected to -  ('caselaw',)\n"
     ]
    }
   ],
   "source": [
    "conn = open_database('localhost', 'caselaw', 'root', 'H3rnandez!')"
   ]
  },
  {
   "cell_type": "code",
   "execution_count": 8,
   "metadata": {},
   "outputs": [
    {
     "name": "stdout",
     "output_type": "stream",
     "text": [
      "None\n"
     ]
    }
   ],
   "source": [
    "query = \"\"\"SELECT * FROM caselaw.case LIMIT 10;\"\"\"\n",
    "cursor = conn.cursor()\n",
    "print(cursor.execute(query))"
   ]
  },
  {
   "cell_type": "markdown",
   "metadata": {},
   "source": [
    "---\n",
    "### Datasets"
   ]
  },
  {
   "cell_type": "code",
   "execution_count": 43,
   "metadata": {},
   "outputs": [],
   "source": [
    "import pandas as pd\n",
    "import numpy as np"
   ]
  },
  {
   "cell_type": "code",
   "execution_count": 44,
   "metadata": {},
   "outputs": [
    {
     "name": "stdout",
     "output_type": "stream",
     "text": [
      "case.csv                               cases_metadata.csv\n",
      "case_opinion_from_advocate_general.csv countries.csv\n",
      "caselawDB.sql                          legal_intelligence_cases.csv\n",
      "caselaw_citations.csv                  legislation_citations.csv\n"
     ]
    }
   ],
   "source": [
    "!ls ../data_dump"
   ]
  },
  {
   "cell_type": "code",
   "execution_count": 45,
   "metadata": {},
   "outputs": [],
   "source": [
    "df_case = pd.read_csv(\"../data_dump/case.csv\").replace(np.nan, 'NULL', regex=True)\n",
    "df_country = pd.read_csv(\"../data_dump/countries.csv\").replace(np.nan, 'NULL', regex=True)\n",
    "df_li_cases = pd.read_csv(\"../data_dump/legal_intelligence_cases.csv\").replace(np.nan, 'NULL', regex=True)\n",
    "df_case_opinion = pd.read_csv(\"../data_dump/case_opinion_from_advocate_general.csv\").replace(np.nan, 'NULL', regex=True)\n",
    "df_case_citation = pd.read_csv(\"../data_dump/caselaw_citations.csv\").replace(np.nan, 'NULL', regex=True)\n",
    "df_legislation_citation = pd.read_csv(\"../data_dump/legislation_citations.csv\").replace(np.nan, 'NULL', regex=True)"
   ]
  },
  {
   "cell_type": "markdown",
   "metadata": {},
   "source": [
    "---\n",
    "### Tables Hierarchies"
   ]
  },
  {
   "cell_type": "markdown",
   "metadata": {},
   "source": [
    "1. Court\n",
    "2. Case\n",
    "3. Case Opinion\n",
    "4. LI Case\n",
    "5. Subject\n",
    "6. Case subject\n",
    "7. Country\n",
    "8. Case country\n",
    "9. Case citation\n",
    "10. Legislation citation\n",
    "11. Case related decision\n"
   ]
  },
  {
   "cell_type": "code",
   "execution_count": 46,
   "metadata": {},
   "outputs": [],
   "source": [
    "court = pd.DataFrame()\n",
    "court = ['id',\n",
    "         'name',\n",
    "         'type',\n",
    "         'level',\n",
    "         'country',\n",
    "         'language',\n",
    "         'jurisdiction',\n",
    "         'law_area',\n",
    "         'authority_level']"
   ]
  },
  {
   "cell_type": "code",
   "execution_count": 47,
   "metadata": {},
   "outputs": [],
   "source": [
    "case = pd.DataFrame()\n",
    "case = ['id',\n",
    "        'date',\n",
    "        'name',\n",
    "        'description',\n",
    "        'language',\n",
    "        'venue',\n",
    "        'abstract',\n",
    "        'procedure_type',\n",
    "        'lodge_date',\n",
    "        'link',\n",
    "        'ecli',\n",
    "        'court_id']"
   ]
  },
  {
   "cell_type": "code",
   "execution_count": 48,
   "metadata": {},
   "outputs": [],
   "source": [
    "case_opinion = pd.DataFrame()\n",
    "case_opinion = ['id',\n",
    "                'date',\n",
    "                'case_number',\n",
    "                'description',\n",
    "                'language',\n",
    "                'country',\n",
    "                'venue',\n",
    "                'abstract',\n",
    "                'procedure_type',\n",
    "                'authority',\n",
    "                'ecli']"
   ]
  },
  {
   "cell_type": "code",
   "execution_count": 49,
   "metadata": {},
   "outputs": [],
   "source": [
    "legal_intelligence_case = pd.DataFrame()\n",
    "legal_intelligence_case = ['id',\n",
    "           'ecli',\n",
    "           'name',\n",
    "           'date',\n",
    "           'abstract',\n",
    "           'subject',\n",
    "           'link',\n",
    "           'DisplayTitle',\n",
    "           'OriginalUrl',\n",
    "           'Jurisidiction',\n",
    "           'DocumentType',\n",
    "           'CaseNumber',\n",
    "           'PublicationNumber',\n",
    "           'IssueNumber',\n",
    "           'lodge_date',\n",
    "           'DateAdded',\n",
    "           'Sources',\n",
    "           'UrlWithAutoLogOnToken',\n",
    "           'court',\n",
    "           'DisplaySubtitle']"
   ]
  },
  {
   "cell_type": "code",
   "execution_count": 50,
   "metadata": {},
   "outputs": [],
   "source": [
    "subject = pd.DataFrame()\n",
    "subject = ['id',\n",
    "           'name',\n",
    "           'standard_name']"
   ]
  },
  {
   "cell_type": "code",
   "execution_count": 51,
   "metadata": {},
   "outputs": [],
   "source": [
    "case_subject = pd.DataFrame()\n",
    "case_subject = ['case_id',\n",
    "                'subject_id']"
   ]
  },
  {
   "cell_type": "code",
   "execution_count": 52,
   "metadata": {},
   "outputs": [],
   "source": [
    "country = pd.DataFrame()\n",
    "country = ['id',\n",
    "           'name',\n",
    "           'language',\n",
    "           'flag',\n",
    "           'eu',\n",
    "           'eea']"
   ]
  },
  {
   "cell_type": "code",
   "execution_count": 53,
   "metadata": {},
   "outputs": [],
   "source": [
    "case_country = pd.DataFrame()\n",
    "case_country = ['case_id',\n",
    "                'country_id']"
   ]
  },
  {
   "cell_type": "code",
   "execution_count": 54,
   "metadata": {},
   "outputs": [],
   "source": [
    "case_citation = pd.DataFrame()\n",
    "case_citation = ['id',\n",
    "                 'source_ecli',\n",
    "                 'source_paragraph',\n",
    "                 'target_ecli',\n",
    "                 'target_paragraph']"
   ]
  },
  {
   "cell_type": "code",
   "execution_count": 55,
   "metadata": {},
   "outputs": [],
   "source": [
    "legislation_citation = pd.DataFrame()\n",
    "legislation_citation = ['id',\n",
    "                        'source_paragraph',\n",
    "                        'target_id',\n",
    "                        'target_paragraph',\n",
    "                        'target_name',\n",
    "                        'target_sourcename',\n",
    "                        'target_link',\n",
    "                        'case_id']"
   ]
  },
  {
   "cell_type": "code",
   "execution_count": 56,
   "metadata": {},
   "outputs": [],
   "source": [
    "case_related_decision = pd.DataFrame()\n",
    "case_related_decision = ['id',\n",
    "                'referencing_case_ecli',\n",
    "                'referenced_case_ecli',\n",
    "                'case_id']"
   ]
  },
  {
   "cell_type": "code",
   "execution_count": 57,
   "metadata": {},
   "outputs": [],
   "source": [
    "def to_tuples(df):\n",
    "    return [tuple(x) for x in df.values]"
   ]
  },
  {
   "cell_type": "markdown",
   "metadata": {},
   "source": [
    "---\n",
    "### Courts"
   ]
  },
  {
   "cell_type": "code",
   "execution_count": 34,
   "metadata": {},
   "outputs": [],
   "source": [
    "#catalogue\n",
    "courts['name'] = case.authority.unique()\n",
    "#courts['type'] #\n",
    "#courts['level'] #\n",
    "courts['country'] = 'NL'\n",
    "#courts['language'] \n",
    "#courts['jurisdiction'] #\n",
    "#courts['law_area']\n",
    "#courts['authority_level']"
   ]
  },
  {
   "cell_type": "code",
   "execution_count": 60,
   "metadata": {},
   "outputs": [
    {
     "data": {
      "text/html": [
       "<div>\n",
       "<style scoped>\n",
       "    .dataframe tbody tr th:only-of-type {\n",
       "        vertical-align: middle;\n",
       "    }\n",
       "\n",
       "    .dataframe tbody tr th {\n",
       "        vertical-align: top;\n",
       "    }\n",
       "\n",
       "    .dataframe thead th {\n",
       "        text-align: right;\n",
       "    }\n",
       "</style>\n",
       "<table border=\"1\" class=\"dataframe\">\n",
       "  <thead>\n",
       "    <tr style=\"text-align: right;\">\n",
       "      <th></th>\n",
       "      <th>case_id</th>\n",
       "      <th>date</th>\n",
       "      <th>case_number</th>\n",
       "      <th>description</th>\n",
       "      <th>language</th>\n",
       "      <th>venue</th>\n",
       "      <th>abstract</th>\n",
       "      <th>procedure_type</th>\n",
       "      <th>lodge_date</th>\n",
       "      <th>country</th>\n",
       "      <th>...</th>\n",
       "      <th>abstract.1</th>\n",
       "      <th>procedure_type.1</th>\n",
       "      <th>lodge_date.1</th>\n",
       "      <th>country.1</th>\n",
       "      <th>subject.1</th>\n",
       "      <th>authority.1</th>\n",
       "      <th>legal_references.1</th>\n",
       "      <th>related_cases.1</th>\n",
       "      <th>alternative_sources.1</th>\n",
       "      <th>full_text</th>\n",
       "    </tr>\n",
       "  </thead>\n",
       "  <tbody>\n",
       "    <tr>\n",
       "      <td>0</td>\n",
       "      <td>ECLI:NL:GHAMS:1913:15</td>\n",
       "      <td>1913-03-31</td>\n",
       "      <td>Onbekend</td>\n",
       "      <td>NULL</td>\n",
       "      <td>NL</td>\n",
       "      <td>NULL</td>\n",
       "      <td>NULL</td>\n",
       "      <td>NULL</td>\n",
       "      <td>NULL</td>\n",
       "      <td>NL</td>\n",
       "      <td>...</td>\n",
       "      <td>NULL</td>\n",
       "      <td>NULL</td>\n",
       "      <td>NULL</td>\n",
       "      <td>NULL</td>\n",
       "      <td>NULL</td>\n",
       "      <td>NULL</td>\n",
       "      <td>NULL</td>\n",
       "      <td>NULL</td>\n",
       "      <td>NULL</td>\n",
       "      <td>NULL</td>\n",
       "    </tr>\n",
       "    <tr>\n",
       "      <td>1</td>\n",
       "      <td>ECLI:NL:GHAMS:1913:28</td>\n",
       "      <td>1913-02-28</td>\n",
       "      <td>Onbekend389</td>\n",
       "      <td>NULL</td>\n",
       "      <td>NL</td>\n",
       "      <td>NULL</td>\n",
       "      <td>NULL</td>\n",
       "      <td>NULL</td>\n",
       "      <td>NULL</td>\n",
       "      <td>NL</td>\n",
       "      <td>...</td>\n",
       "      <td>NULL</td>\n",
       "      <td>NULL</td>\n",
       "      <td>NULL</td>\n",
       "      <td>NULL</td>\n",
       "      <td>NULL</td>\n",
       "      <td>NULL</td>\n",
       "      <td>NULL</td>\n",
       "      <td>NULL</td>\n",
       "      <td>NULL</td>\n",
       "      <td>NULL</td>\n",
       "    </tr>\n",
       "  </tbody>\n",
       "</table>\n",
       "<p>2 rows × 31 columns</p>\n",
       "</div>"
      ],
      "text/plain": [
       "                 case_id        date  case_number description language venue  \\\n",
       "0  ECLI:NL:GHAMS:1913:15  1913-03-31     Onbekend        NULL       NL  NULL   \n",
       "1  ECLI:NL:GHAMS:1913:28  1913-02-28  Onbekend389        NULL       NL  NULL   \n",
       "\n",
       "  abstract procedure_type lodge_date country  ... abstract.1 procedure_type.1  \\\n",
       "0     NULL           NULL       NULL      NL  ...       NULL             NULL   \n",
       "1     NULL           NULL       NULL      NL  ...       NULL             NULL   \n",
       "\n",
       "  lodge_date.1 country.1 subject.1 authority.1 legal_references.1  \\\n",
       "0         NULL      NULL      NULL        NULL               NULL   \n",
       "1         NULL      NULL      NULL        NULL               NULL   \n",
       "\n",
       "  related_cases.1 alternative_sources.1 full_text  \n",
       "0            NULL                  NULL      NULL  \n",
       "1            NULL                  NULL      NULL  \n",
       "\n",
       "[2 rows x 31 columns]"
      ]
     },
     "execution_count": 60,
     "metadata": {},
     "output_type": "execute_result"
    }
   ],
   "source": [
    "df_case.head(2)"
   ]
  },
  {
   "cell_type": "code",
   "execution_count": null,
   "metadata": {},
   "outputs": [],
   "source": [
    "df_case.authority.unique()"
   ]
  },
  {
   "cell_type": "code",
   "execution_count": null,
   "metadata": {},
   "outputs": [],
   "source": [
    "temp = cbm[['ID',\n",
    "            'Date of transaction',\n",
    "            'Transaction type?',\n",
    "            'Effectuated?',\n",
    "            'Researcher',\n",
    "            'Comment',\n",
    "            'Registry in which the CBM was found',\n",
    "            'Completion date (DD/MM/YYYY)',\n",
    "            'Multi-CBM?',\n",
    "           'CBM: Lawfirm(s) involved']]\n",
    "temp.columns = Transaction_columns\n",
    "Transaction = Transaction.append(temp, ignore_index=True)"
   ]
  },
  {
   "cell_type": "code",
   "execution_count": null,
   "metadata": {},
   "outputs": [],
   "source": []
  },
  {
   "cell_type": "markdown",
   "metadata": {},
   "source": [
    "---\n",
    "### Countries"
   ]
  },
  {
   "cell_type": "code",
   "execution_count": 11,
   "metadata": {},
   "outputs": [],
   "source": [
    "#catalogue\n",
    "#countries = pd.DataFrame()\n",
    "#countries['country_id'] #NOT NULL COMMENT 'Country ISO Code',\n",
    "#countries['name'] #'English name',\n",
    "#countries['language'] #'ISO code for language spoken in country',\n",
    "#countries['flag'] #'Link to image file of flag',\n",
    "#countries['eu'] #'Part of EU or not?',\n",
    "#countries['population'] #'Current / latest population number',\n",
    "#countries['eea'] #'not sure what this stands for exactly...'"
   ]
  },
  {
   "cell_type": "code",
   "execution_count": 104,
   "metadata": {},
   "outputs": [],
   "source": [
    "#countries.head()"
   ]
  },
  {
   "cell_type": "code",
   "execution_count": 14,
   "metadata": {},
   "outputs": [
    {
     "name": "stdout",
     "output_type": "stream",
     "text": [
      "countries added\n"
     ]
    }
   ],
   "source": [
    "tuples = to_tuples(countries)\n",
    "import traceback, sys\n",
    "try:  \n",
    "    cursor = conn.cursor(buffered=True)\n",
    "    for data in tuples:\n",
    "        query = \"\"\"INSERT INTO `countries` (country_id, eu, name, flag, population, eea) \n",
    "        VALUES (%s, %s, %s, %s, %s, %s)\"\"\"\n",
    "        result  = cursor.execute(query, data)\n",
    "    conn.commit()\n",
    "    cursor.close()\n",
    "    print('countries added')\n",
    "except Error as error :\n",
    "    conn.rollback()\n",
    "    print(\"Failed to insert into MySQL table {}\".format(error))\n",
    "    traceback.print_exc(file=sys.stdout)"
   ]
  },
  {
   "cell_type": "markdown",
   "metadata": {},
   "source": [
    "---\n",
    "### Subjects"
   ]
  },
  {
   "cell_type": "code",
   "execution_count": 18,
   "metadata": {},
   "outputs": [
    {
     "data": {
      "text/plain": [
       "array(['Bestuursrecht', 'Bestuursrecht; Ambtenarenrecht',\n",
       "       'Bestuursrecht; Socialezekerheidsrecht',\n",
       "       'Bestuursrecht; Vreemdelingenrecht'], dtype=object)"
      ]
     },
     "execution_count": 18,
     "metadata": {},
     "output_type": "execute_result"
    }
   ],
   "source": [
    "cases_metadata.subject.unique()[1:] #omit the null case"
   ]
  },
  {
   "cell_type": "code",
   "execution_count": 23,
   "metadata": {},
   "outputs": [],
   "source": [
    "#catalogue\n",
    "subjects = pd.DataFrame()\n",
    "subjects['name'] = cases_metadata.subject.unique()[1:] #omit the null case\n",
    "#subjects['standard_name'] = cases_metadata.subject.unique()[1:]"
   ]
  },
  {
   "cell_type": "code",
   "execution_count": 105,
   "metadata": {},
   "outputs": [],
   "source": [
    "#subjects.head()"
   ]
  },
  {
   "cell_type": "code",
   "execution_count": 24,
   "metadata": {},
   "outputs": [
    {
     "name": "stdout",
     "output_type": "stream",
     "text": [
      "subjects added\n"
     ]
    }
   ],
   "source": [
    "tuples = to_tuples(subjects)\n",
    "import traceback, sys\n",
    "try:  \n",
    "    cursor = conn.cursor()\n",
    "    for data in tuples:\n",
    "        query = \"\"\"INSERT INTO `subjects` (name) \n",
    "        VALUES (%s)\"\"\"\n",
    "        result  = cursor.execute(query, data)\n",
    "    conn.commit()\n",
    "    cursor.close()\n",
    "    print('subjects added')\n",
    "except Error as error :\n",
    "    conn.rollback()\n",
    "    print(\"Failed to insert into MySQL table {}\".format(error))\n",
    "    traceback.print_exc(file=sys.stdout)"
   ]
  },
  {
   "cell_type": "code",
   "execution_count": 106,
   "metadata": {},
   "outputs": [],
   "source": [
    "#authorities.head()"
   ]
  },
  {
   "cell_type": "code",
   "execution_count": 36,
   "metadata": {},
   "outputs": [
    {
     "name": "stdout",
     "output_type": "stream",
     "text": [
      "authorities added\n"
     ]
    }
   ],
   "source": [
    "tuples = to_tuples(authorities)\n",
    "import traceback, sys\n",
    "try:  \n",
    "    cursor = conn.cursor()\n",
    "    for data in tuples:\n",
    "        query = \"\"\"INSERT INTO `authorities` (name, country) \n",
    "        VALUES (%s, %s)\"\"\"\n",
    "        result  = cursor.execute(query, data)\n",
    "    conn.commit()\n",
    "    cursor.close()\n",
    "    print('authorities added')\n",
    "except Error as error :\n",
    "    conn.rollback()\n",
    "    print(\"Failed to insert into MySQL table {}\".format(error))\n",
    "    traceback.print_exc(file=sys.stdout)"
   ]
  },
  {
   "cell_type": "markdown",
   "metadata": {},
   "source": [
    "---\n",
    "### Case related decision"
   ]
  },
  {
   "cell_type": "code",
   "execution_count": 63,
   "metadata": {},
   "outputs": [],
   "source": [
    "#one to one\n",
    "case_related_decision = pd.DataFrame()\n",
    "case_related_decision['case_ecli'] = cases_metadata.id #NOT NULL,\n",
    "case_related_decision['referencing_case_id'] = cases_metadata.related_cases#NOT NULL,\n",
    "#case_related_decision['referenced_case_id']"
   ]
  },
  {
   "cell_type": "code",
   "execution_count": 107,
   "metadata": {},
   "outputs": [],
   "source": [
    "#case_related_decision.head()"
   ]
  },
  {
   "cell_type": "code",
   "execution_count": 65,
   "metadata": {},
   "outputs": [
    {
     "name": "stdout",
     "output_type": "stream",
     "text": [
      "case_related_decision added\n"
     ]
    }
   ],
   "source": [
    "tuples = to_tuples(case_related_decision)\n",
    "import traceback, sys\n",
    "try:  \n",
    "    cursor = conn.cursor()\n",
    "    for data in tuples:\n",
    "        query = \"\"\"INSERT INTO `case_related_decision` (case_ecli, referencing_case_id) \n",
    "        VALUES (%s, %s)\"\"\"\n",
    "        result  = cursor.execute(query, data)\n",
    "    conn.commit()\n",
    "    cursor.close()\n",
    "    print('case_related_decision added')\n",
    "except Error as error :\n",
    "    conn.rollback()\n",
    "    print(\"Failed to insert into MySQL table {}\".format(error))\n",
    "    traceback.print_exc(file=sys.stdout)"
   ]
  },
  {
   "cell_type": "markdown",
   "metadata": {},
   "source": [
    "---\n",
    "### Case opinion advocate general"
   ]
  },
  {
   "cell_type": "code",
   "execution_count": 67,
   "metadata": {},
   "outputs": [],
   "source": [
    "#one to one\n",
    "case_opinion_from_advocate_general = pd.DataFrame()\n",
    "case_opinion_from_advocate_general['case_ecli'] = cases_metadata.id #NOT NULL,\n",
    "#case_opinion_from_advocate_general['date'] #\n",
    "case_opinion_from_advocate_general['case_number'] = cases_metadata.case_number #\n",
    "#case_opinion_from_advocate_general['description'] #\n",
    "#case_opinion_from_advocate_general['language'] #\n",
    "#case_opinion_from_advocate_general['country'] #\n",
    "#case_opinion_from_advocate_general['venue'] #\n",
    "#case_opinion_from_advocate_general['abstract'] #\n",
    "#case_opinion_from_advocate_general['procedure_type'] #\n",
    "#case_opinion_from_advocate_general['authority'] #"
   ]
  },
  {
   "cell_type": "code",
   "execution_count": 108,
   "metadata": {},
   "outputs": [],
   "source": [
    "#case_opinion_from_advocate_general.head()"
   ]
  },
  {
   "cell_type": "code",
   "execution_count": 69,
   "metadata": {},
   "outputs": [
    {
     "name": "stdout",
     "output_type": "stream",
     "text": [
      "case_opinion_from_advocate_general added\n"
     ]
    }
   ],
   "source": [
    "tuples = to_tuples(case_opinion_from_advocate_general)\n",
    "import traceback, sys\n",
    "try:  \n",
    "    cursor = conn.cursor()\n",
    "    for data in tuples:\n",
    "        query = \"\"\"INSERT INTO `case_opinion_from_advocate_general` (case_ecli, case_number) \n",
    "        VALUES (%s, %s)\"\"\"\n",
    "        result  = cursor.execute(query, data)\n",
    "    conn.commit()\n",
    "    cursor.close()\n",
    "    print('case_opinion_from_advocate_general added')\n",
    "except Error as error :\n",
    "    conn.rollback()\n",
    "    print(\"Failed to insert into MySQL table {}\".format(error))\n",
    "    traceback.print_exc(file=sys.stdout)"
   ]
  },
  {
   "cell_type": "markdown",
   "metadata": {},
   "source": [
    "---\n",
    "### Cases"
   ]
  },
  {
   "cell_type": "code",
   "execution_count": 91,
   "metadata": {},
   "outputs": [],
   "source": [
    "#pivot table\n",
    "cases = pd.DataFrame()\n",
    "#cases['case_id'] #incremental databse id INT NOT NULL AUTO_INCREMENT,\n",
    "cases['case_ecli'] = cases_metadata.id #NOT NULL,`fk_related_decision` fk_case_opinion`\n",
    "cases['date'] = pd.to_datetime(cases_metadata['date'])\n",
    "#cases['name'] = \n",
    "cases['description'] = cases_metadata.description\n",
    "cases['language'] = cases_metadata.language\n",
    "cases['venue'] = cases_metadata.venue\n",
    "cases['abstract'] = cases_metadata.abstract\n",
    "cases['procedure_type'] = cases_metadata.procedure_type\n",
    "#cases['lodge_date'] = cases_metadata.lodge_date\n",
    "#cases['link'] = cases_metadata.alternative_sources\n",
    "#cases['country_id'] #`fk_country`\n",
    "#cases['subject_id'] #`fk_subject`\n",
    "#cases['court_id'] #fk_authority`"
   ]
  },
  {
   "cell_type": "code",
   "execution_count": 92,
   "metadata": {},
   "outputs": [
    {
     "name": "stdout",
     "output_type": "stream",
     "text": [
      "cases added\n"
     ]
    }
   ],
   "source": [
    "tuples = to_tuples(cases)\n",
    "import traceback, sys\n",
    "try:  \n",
    "    cursor = conn.cursor()\n",
    "    for data in tuples:\n",
    "        query = \"\"\"INSERT INTO `cases` (case_ecli, date, description, language, venue, abstract, procedure_type) \n",
    "        VALUES (%s, %s, %s, %s, %s, %s, %s)\"\"\"\n",
    "        result  = cursor.execute(query, data)\n",
    "    conn.commit()\n",
    "    cursor.close()\n",
    "    print('cases added')\n",
    "except Error as error :\n",
    "    conn.rollback()\n",
    "    print(\"Failed to insert into MySQL table {}\".format(error))\n",
    "    traceback.print_exc(file=sys.stdout)"
   ]
  },
  {
   "cell_type": "markdown",
   "metadata": {},
   "source": [
    "---\n",
    "### Legislation citation"
   ]
  },
  {
   "cell_type": "code",
   "execution_count": 94,
   "metadata": {},
   "outputs": [],
   "source": [
    "#one to many \n",
    "#legislation_citation = pd.DataFrame()\n",
    "#legislation_citation['citation_id'] #INT NOT NULL,\n",
    "#legislation_citation['source_ecli'] #NOT NULL,`fk_source_case_legislation`\n",
    "#legislation_citation['source_paragraph']\n",
    "#legislation_citation['target_id'] #NOT NULL,\n",
    "#legislation_citation['target_paragraph']\n",
    "#legislation_citation['target_name']\n",
    "#legislation_citation['target_sourcename']\n",
    "#legislation_citation['target_link']"
   ]
  },
  {
   "cell_type": "code",
   "execution_count": 95,
   "metadata": {},
   "outputs": [],
   "source": [
    "legislation_citation.rename(columns = {'target_article':'target_id',\n",
    "                                       'target_article_paragraph':'target_paragraph',\n",
    "                                       'target_article_webpage':'target_link'}, inplace=True)"
   ]
  },
  {
   "cell_type": "code",
   "execution_count": 109,
   "metadata": {},
   "outputs": [],
   "source": [
    "#legislation_citation.head()"
   ]
  },
  {
   "cell_type": "code",
   "execution_count": 97,
   "metadata": {},
   "outputs": [
    {
     "name": "stdout",
     "output_type": "stream",
     "text": [
      "legislation_citation added\n"
     ]
    }
   ],
   "source": [
    "tuples = to_tuples(legislation_citation)\n",
    "import traceback, sys\n",
    "try:  \n",
    "    cursor = conn.cursor()\n",
    "    for data in tuples:\n",
    "        query = \"\"\"\n",
    "                INSERT INTO legislation_citation (source_ecli, source_paragraph, target_id, target_paragraph, target_link)\n",
    "                VALUES (%s, %s, %s, %s, %s)\n",
    "                \"\"\"\n",
    "        result  = cursor.execute(query, data)\n",
    "    conn.commit()\n",
    "    cursor.close()\n",
    "    print('legislation_citation added')\n",
    "except Error as error :\n",
    "    conn.rollback()\n",
    "    print(\"Failed to insert into MySQL table {}\".format(error))\n",
    "    traceback.print_exc(file=sys.stdout)"
   ]
  },
  {
   "cell_type": "markdown",
   "metadata": {},
   "source": [
    "---\n",
    "### Case law citation"
   ]
  },
  {
   "cell_type": "code",
   "execution_count": 99,
   "metadata": {},
   "outputs": [],
   "source": [
    "#one to many\n",
    "#case_citation = pd.DataFrame()\n",
    "#case_citation['citation_id'] #INT NOT NULL,\n",
    "#case_citation['source_ecli'] #NOT NULL,`fk_source_case_cases`\n",
    "#case_citation['source_paragraph'] #\n",
    "#case_citation['target_ecli'] #NOT NULL,`fk_target_case_cases`\n",
    "#case_citation['target_paragraph'] #"
   ]
  },
  {
   "cell_type": "code",
   "execution_count": 110,
   "metadata": {},
   "outputs": [],
   "source": [
    "#case_citation.head()"
   ]
  },
  {
   "cell_type": "code",
   "execution_count": 102,
   "metadata": {},
   "outputs": [
    {
     "name": "stdout",
     "output_type": "stream",
     "text": [
      "case_citation added\n"
     ]
    }
   ],
   "source": [
    "tuples = to_tuples(case_citation)\n",
    "import traceback, sys\n",
    "try:  le\n",
    "    cursor = conn.cursor()\n",
    "    for data in tuples:\n",
    "        query = \"\"\"\n",
    "                INSERT INTO case_citation (source_ecli, source_paragraph, target_ecli, target_paragraph)\n",
    "                VALUES (%s, %s, %s, %s)\n",
    "                \"\"\"\n",
    "        result  = cursor.execute(query, data)\n",
    "    conn.commit()\n",
    "    cursor.close()\n",
    "    print('case_citation added')\n",
    "except Error as error :\n",
    "    conn.rollback()\n",
    "    print(\"Failed to insert into MySQL table {}\".format(error))\n",
    "    traceback.print_exc(file=sys.stdout)"
   ]
  },
  {
   "cell_type": "markdown",
   "metadata": {},
   "source": [
    "### Legal Intelligence Cases"
   ]
  },
  {
   "cell_type": "code",
   "execution_count": null,
   "metadata": {},
   "outputs": [],
   "source": [
    "#li_cases['id'] = #do we create this one ourselves? \n",
    "#li_cases['ecli'] \n",
    "#li_cases['name'] \n",
    "#li_cases['date'] \n",
    "#li_cases['abstract']\n",
    "#li_cases['subject']\n",
    "#li_cases['link']\n",
    "#li_cases['procedure_type']\n",
    "#li_cases['court_id']\n",
    "#li_cases['DisplayTitle']\n",
    "#li_cases['OriginalUrl']\n",
    "#li_cases['Jurisdiction']\n",
    "#li_cases['DocumentType']\n",
    "#li_cases['CaseNumber']\n",
    "#li_cases['PublicationDate']\n",
    "#li_cases['PublicationNumber']\n",
    "#li_cases['IssueNumber']\n",
    "#li_cases['DateAdded']\n",
    "#li_cases['Sources']\n",
    "#li_cases['UrlWithAutoLogOnToken']"
   ]
  },
  {
   "cell_type": "code",
   "execution_count": null,
   "metadata": {},
   "outputs": [],
   "source": [
    "tuples = to_tuples(li_cases)\n",
    "import traceback, sys\n",
    "try:  \n",
    "    cursor = conn.cursor()\n",
    "    for data in tuples:\n",
    "        query = \"\"\"\n",
    "                INSERT INTO legal_intelligence_case (id, ecli, name, date, abstract, subject, link, procedure_type, court_id, DisplayTitle, OriginalUrl, Jurisdiction, DocumentType, CaseNumber, PublicationDate, PublicationNumber, IssueNumber, DateAdded, Sources, UrlWithAutoLogOnToken)\n",
    "                VALUES (%s, %s, %s, %s, %s, %s, %s, %s, %s, %s, %s, %s, %s, %s, %s, %s, %s, %s, %s, %s)\n",
    "                \"\"\"\n",
    "        result  = cursor.execute(query, data)\n",
    "    conn.commit()\n",
    "    cursor.close()\n",
    "    print('legal_intelligence_case added')\n",
    "except Error as error :\n",
    "    conn.rollback()\n",
    "    print(\"Failed to insert into MySQL table {}\".format(error))\n",
    "    traceback.print_exc(file=sys.stdout)"
   ]
  }
 ],
 "metadata": {
  "kernelspec": {
   "display_name": "Python 3",
   "language": "python",
   "name": "python3"
  },
  "language_info": {
   "codemirror_mode": {
    "name": "ipython",
    "version": 3
   },
   "file_extension": ".py",
   "mimetype": "text/x-python",
   "name": "python",
   "nbconvert_exporter": "python",
   "pygments_lexer": "ipython3",
   "version": "3.7.4"
  },
  "nteract": {
   "version": "0.15.0"
  }
 },
 "nbformat": 4,
 "nbformat_minor": 4
}
