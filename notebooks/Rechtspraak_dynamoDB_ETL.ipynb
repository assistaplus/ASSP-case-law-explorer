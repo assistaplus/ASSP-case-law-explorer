{
 "cells": [
  {
   "cell_type": "markdown",
   "metadata": {
    "collapsed": true,
    "pycharm": {
     "name": "#%% md\n"
    }
   },
   "source": [
    "# Rechtspraak, LI & citations to DynamoDB ETL"
   ]
  },
  {
   "cell_type": "code",
   "execution_count": null,
   "outputs": [],
   "source": [
    "!pip install boto3"
   ],
   "metadata": {
    "collapsed": false,
    "pycharm": {
     "name": "#%%\n"
    }
   }
  },
  {
   "cell_type": "code",
   "execution_count": 1,
   "outputs": [],
   "source": [
    "import boto3\n",
    "from boto3.dynamodb.conditions import Key\n",
    "from decimal import Decimal\n",
    "import json\n",
    "import csv\n",
    "from pprint import pprint\n",
    "from botocore.exceptions import ClientError\n",
    "import pandas as pd\n",
    "import numpy as np"
   ],
   "metadata": {
    "collapsed": false,
    "pycharm": {
     "name": "#%%\n"
    }
   }
  },
  {
   "cell_type": "markdown",
   "source": [
    "---\n",
    "## Raw Datasets"
   ],
   "metadata": {
    "collapsed": false
   }
  },
  {
   "cell_type": "code",
   "execution_count": 2,
   "outputs": [
    {
     "name": "stderr",
     "output_type": "stream",
     "text": [
      "/home/maxine/anaconda3/envs/case-law-explorer/lib/python3.7/site-packages/IPython/core/interactiveshell.py:3147: DtypeWarning: Columns (6) have mixed types.Specify dtype option on import or set low_memory=False.\n",
      "  interactivity=interactivity, compiler=compiler, result=result)\n"
     ]
    },
    {
     "data": {
      "text/plain": "                 case_id        date  case_number description language venue  \\\n0  ECLI:NL:GHAMS:1913:15  1913-03-31     Onbekend        NULL       NL  NULL   \n1  ECLI:NL:GHAMS:1913:28  1913-02-28  Onbekend389        NULL       NL  NULL   \n2  ECLI:NL:GHAMS:1913:19  1913-03-17     Onbekend        NULL       NL  NULL   \n3   ECLI:NL:GHAMS:1913:4  1913-02-28     Onbekend        NULL       NL  NULL   \n4  ECLI:NL:GHAMS:1913:20  1913-03-10     Onbekend        NULL       NL  NULL   \n\n  abstract procedure_type lodge_date country subject              authority  \\\n0     NULL           NULL       NULL      NL    NULL  Gerechtshof Amsterdam   \n1     NULL           NULL       NULL      NL    NULL  Gerechtshof Amsterdam   \n2     NULL           NULL       NULL      NL    NULL  Gerechtshof Amsterdam   \n3     NULL           NULL       NULL      NL    NULL  Gerechtshof Amsterdam   \n4     NULL           NULL       NULL      NL    NULL  Gerechtshof Amsterdam   \n\n  legal_references related_cases  \\\n0             NULL          NULL   \n1             NULL          NULL   \n2             NULL          NULL   \n3             NULL          NULL   \n4             NULL          NULL   \n\n                                 alternative_sources full_textcase_id date.1  \\\n0  \\n        \\n          <rdf:list xmlns:rdf=\"htt...             NULL   NULL   \n1  \\n        \\n          <rdf:list xmlns:rdf=\"htt...             NULL   NULL   \n2  \\n        \\n          <rdf:list xmlns:rdf=\"htt...             NULL   NULL   \n3  \\n        \\n          <rdf:list xmlns:rdf=\"htt...             NULL   NULL   \n4  \\n        \\n          <rdf:list xmlns:rdf=\"htt...             NULL   NULL   \n\n  case_number.1 description.1 language.1 venue.1 abstract.1 procedure_type.1  \\\n0          NULL          NULL       NULL    NULL       NULL             NULL   \n1          NULL          NULL       NULL    NULL       NULL             NULL   \n2          NULL          NULL       NULL    NULL       NULL             NULL   \n3          NULL          NULL       NULL    NULL       NULL             NULL   \n4          NULL          NULL       NULL    NULL       NULL             NULL   \n\n  lodge_date.1 country.1 subject.1 authority.1 legal_references.1  \\\n0         NULL      NULL      NULL        NULL               NULL   \n1         NULL      NULL      NULL        NULL               NULL   \n2         NULL      NULL      NULL        NULL               NULL   \n3         NULL      NULL      NULL        NULL               NULL   \n4         NULL      NULL      NULL        NULL               NULL   \n\n  related_cases.1 alternative_sources.1 full_text  \n0            NULL                  NULL      NULL  \n1            NULL                  NULL      NULL  \n2            NULL                  NULL      NULL  \n3            NULL                  NULL      NULL  \n4            NULL                  NULL      NULL  ",
      "text/html": "<div>\n<style scoped>\n    .dataframe tbody tr th:only-of-type {\n        vertical-align: middle;\n    }\n\n    .dataframe tbody tr th {\n        vertical-align: top;\n    }\n\n    .dataframe thead th {\n        text-align: right;\n    }\n</style>\n<table border=\"1\" class=\"dataframe\">\n  <thead>\n    <tr style=\"text-align: right;\">\n      <th></th>\n      <th>case_id</th>\n      <th>date</th>\n      <th>case_number</th>\n      <th>description</th>\n      <th>language</th>\n      <th>venue</th>\n      <th>abstract</th>\n      <th>procedure_type</th>\n      <th>lodge_date</th>\n      <th>country</th>\n      <th>subject</th>\n      <th>authority</th>\n      <th>legal_references</th>\n      <th>related_cases</th>\n      <th>alternative_sources</th>\n      <th>full_textcase_id</th>\n      <th>date.1</th>\n      <th>case_number.1</th>\n      <th>description.1</th>\n      <th>language.1</th>\n      <th>venue.1</th>\n      <th>abstract.1</th>\n      <th>procedure_type.1</th>\n      <th>lodge_date.1</th>\n      <th>country.1</th>\n      <th>subject.1</th>\n      <th>authority.1</th>\n      <th>legal_references.1</th>\n      <th>related_cases.1</th>\n      <th>alternative_sources.1</th>\n      <th>full_text</th>\n    </tr>\n  </thead>\n  <tbody>\n    <tr>\n      <th>0</th>\n      <td>ECLI:NL:GHAMS:1913:15</td>\n      <td>1913-03-31</td>\n      <td>Onbekend</td>\n      <td>NULL</td>\n      <td>NL</td>\n      <td>NULL</td>\n      <td>NULL</td>\n      <td>NULL</td>\n      <td>NULL</td>\n      <td>NL</td>\n      <td>NULL</td>\n      <td>Gerechtshof Amsterdam</td>\n      <td>NULL</td>\n      <td>NULL</td>\n      <td>\\n        \\n          &lt;rdf:list xmlns:rdf=\"htt...</td>\n      <td>NULL</td>\n      <td>NULL</td>\n      <td>NULL</td>\n      <td>NULL</td>\n      <td>NULL</td>\n      <td>NULL</td>\n      <td>NULL</td>\n      <td>NULL</td>\n      <td>NULL</td>\n      <td>NULL</td>\n      <td>NULL</td>\n      <td>NULL</td>\n      <td>NULL</td>\n      <td>NULL</td>\n      <td>NULL</td>\n      <td>NULL</td>\n    </tr>\n    <tr>\n      <th>1</th>\n      <td>ECLI:NL:GHAMS:1913:28</td>\n      <td>1913-02-28</td>\n      <td>Onbekend389</td>\n      <td>NULL</td>\n      <td>NL</td>\n      <td>NULL</td>\n      <td>NULL</td>\n      <td>NULL</td>\n      <td>NULL</td>\n      <td>NL</td>\n      <td>NULL</td>\n      <td>Gerechtshof Amsterdam</td>\n      <td>NULL</td>\n      <td>NULL</td>\n      <td>\\n        \\n          &lt;rdf:list xmlns:rdf=\"htt...</td>\n      <td>NULL</td>\n      <td>NULL</td>\n      <td>NULL</td>\n      <td>NULL</td>\n      <td>NULL</td>\n      <td>NULL</td>\n      <td>NULL</td>\n      <td>NULL</td>\n      <td>NULL</td>\n      <td>NULL</td>\n      <td>NULL</td>\n      <td>NULL</td>\n      <td>NULL</td>\n      <td>NULL</td>\n      <td>NULL</td>\n      <td>NULL</td>\n    </tr>\n    <tr>\n      <th>2</th>\n      <td>ECLI:NL:GHAMS:1913:19</td>\n      <td>1913-03-17</td>\n      <td>Onbekend</td>\n      <td>NULL</td>\n      <td>NL</td>\n      <td>NULL</td>\n      <td>NULL</td>\n      <td>NULL</td>\n      <td>NULL</td>\n      <td>NL</td>\n      <td>NULL</td>\n      <td>Gerechtshof Amsterdam</td>\n      <td>NULL</td>\n      <td>NULL</td>\n      <td>\\n        \\n          &lt;rdf:list xmlns:rdf=\"htt...</td>\n      <td>NULL</td>\n      <td>NULL</td>\n      <td>NULL</td>\n      <td>NULL</td>\n      <td>NULL</td>\n      <td>NULL</td>\n      <td>NULL</td>\n      <td>NULL</td>\n      <td>NULL</td>\n      <td>NULL</td>\n      <td>NULL</td>\n      <td>NULL</td>\n      <td>NULL</td>\n      <td>NULL</td>\n      <td>NULL</td>\n      <td>NULL</td>\n    </tr>\n    <tr>\n      <th>3</th>\n      <td>ECLI:NL:GHAMS:1913:4</td>\n      <td>1913-02-28</td>\n      <td>Onbekend</td>\n      <td>NULL</td>\n      <td>NL</td>\n      <td>NULL</td>\n      <td>NULL</td>\n      <td>NULL</td>\n      <td>NULL</td>\n      <td>NL</td>\n      <td>NULL</td>\n      <td>Gerechtshof Amsterdam</td>\n      <td>NULL</td>\n      <td>NULL</td>\n      <td>\\n        \\n          &lt;rdf:list xmlns:rdf=\"htt...</td>\n      <td>NULL</td>\n      <td>NULL</td>\n      <td>NULL</td>\n      <td>NULL</td>\n      <td>NULL</td>\n      <td>NULL</td>\n      <td>NULL</td>\n      <td>NULL</td>\n      <td>NULL</td>\n      <td>NULL</td>\n      <td>NULL</td>\n      <td>NULL</td>\n      <td>NULL</td>\n      <td>NULL</td>\n      <td>NULL</td>\n      <td>NULL</td>\n    </tr>\n    <tr>\n      <th>4</th>\n      <td>ECLI:NL:GHAMS:1913:20</td>\n      <td>1913-03-10</td>\n      <td>Onbekend</td>\n      <td>NULL</td>\n      <td>NL</td>\n      <td>NULL</td>\n      <td>NULL</td>\n      <td>NULL</td>\n      <td>NULL</td>\n      <td>NL</td>\n      <td>NULL</td>\n      <td>Gerechtshof Amsterdam</td>\n      <td>NULL</td>\n      <td>NULL</td>\n      <td>\\n        \\n          &lt;rdf:list xmlns:rdf=\"htt...</td>\n      <td>NULL</td>\n      <td>NULL</td>\n      <td>NULL</td>\n      <td>NULL</td>\n      <td>NULL</td>\n      <td>NULL</td>\n      <td>NULL</td>\n      <td>NULL</td>\n      <td>NULL</td>\n      <td>NULL</td>\n      <td>NULL</td>\n      <td>NULL</td>\n      <td>NULL</td>\n      <td>NULL</td>\n      <td>NULL</td>\n      <td>NULL</td>\n    </tr>\n  </tbody>\n</table>\n</div>"
     },
     "execution_count": 2,
     "metadata": {},
     "output_type": "execute_result"
    }
   ],
   "source": [
    "pd.set_option('display.max_columns', None)\n",
    "df_case_raw = pd.read_csv(\"https://maastrichtuniversity-ids-open.s3.eu-central-1.amazonaws.com/rechtspraak/case.csv\", nrows=500000).replace(np.nan, 'NULL', regex=True)\n",
    "df_case_raw.head()"
   ],
   "metadata": {
    "collapsed": false,
    "pycharm": {
     "name": "#%%\n"
    }
   }
  },
  {
   "cell_type": "code",
   "execution_count": 3,
   "outputs": [
    {
     "data": {
      "text/plain": "  country_id  eu         name                                        flag\n0         AT   1      Austria  https://www.countryflags.io/at/flat/64.png\n1         BE   1      Belgium  https://www.countryflags.io/be/flat/64.png\n2         BG   1     Bulgaria  https://www.countryflags.io/bg/flat/64.png\n3         CH   0  Switzerland  https://www.countryflags.io/ch/flat/64.png\n4         CZ   1      Czechia  https://www.countryflags.io/cz/flat/64.png",
      "text/html": "<div>\n<style scoped>\n    .dataframe tbody tr th:only-of-type {\n        vertical-align: middle;\n    }\n\n    .dataframe tbody tr th {\n        vertical-align: top;\n    }\n\n    .dataframe thead th {\n        text-align: right;\n    }\n</style>\n<table border=\"1\" class=\"dataframe\">\n  <thead>\n    <tr style=\"text-align: right;\">\n      <th></th>\n      <th>country_id</th>\n      <th>eu</th>\n      <th>name</th>\n      <th>flag</th>\n    </tr>\n  </thead>\n  <tbody>\n    <tr>\n      <th>0</th>\n      <td>AT</td>\n      <td>1</td>\n      <td>Austria</td>\n      <td>https://www.countryflags.io/at/flat/64.png</td>\n    </tr>\n    <tr>\n      <th>1</th>\n      <td>BE</td>\n      <td>1</td>\n      <td>Belgium</td>\n      <td>https://www.countryflags.io/be/flat/64.png</td>\n    </tr>\n    <tr>\n      <th>2</th>\n      <td>BG</td>\n      <td>1</td>\n      <td>Bulgaria</td>\n      <td>https://www.countryflags.io/bg/flat/64.png</td>\n    </tr>\n    <tr>\n      <th>3</th>\n      <td>CH</td>\n      <td>0</td>\n      <td>Switzerland</td>\n      <td>https://www.countryflags.io/ch/flat/64.png</td>\n    </tr>\n    <tr>\n      <th>4</th>\n      <td>CZ</td>\n      <td>1</td>\n      <td>Czechia</td>\n      <td>https://www.countryflags.io/cz/flat/64.png</td>\n    </tr>\n  </tbody>\n</table>\n</div>"
     },
     "execution_count": 3,
     "metadata": {},
     "output_type": "execute_result"
    }
   ],
   "source": [
    "df_country_raw = pd.read_csv(\"https://maastrichtuniversity-ids-open.s3.eu-central-1.amazonaws.com/rechtspraak/countries.csv\").replace(np.nan, 'NULL', regex=True)\n",
    "df_country_raw.head()"
   ],
   "metadata": {
    "collapsed": false,
    "pycharm": {
     "name": "#%%\n"
    }
   }
  },
  {
   "cell_type": "code",
   "execution_count": 4,
   "outputs": [
    {
     "data": {
      "text/plain": "   Unnamed: 0 IssueNumber       Id  \\\n0           0        NULL  4968258   \n1           1        NULL  4968759   \n2           2        NULL  4968382   \n3           3        NULL  4968678   \n4           4        NULL  4968777   \n\n                                               Title  \\\n0  Casus Bij besluit van 12 april 1994 verlenen g...   \n1  M.N. Boeve Casus GS van Noord-Brabant hebben (...   \n2  Naast woning gelegen huisje vormt ┌┌n geheel m...   \n3  Geen beroep mogelijk tegen weigering bestemmin...   \n4  Bodemverontreiniging; saneringskosten komen oo...   \n\n                                        DisplayTitle  \\\n0  Casus Bij besluit van 12 april 1994 verlenen g...   \n1  M.N. Boeve Casus GS van Noord-Brabant hebben (...   \n2  Naast woning gelegen huisje vormt ┌┌n geheel m...   \n3  Geen beroep mogelijk tegen weigering bestemmin...   \n4  Bodemverontreiniging; saneringskosten komen oo...   \n\n                                     DisplaySubtitle  \\\n0  Doorduijn, L.F. - Milieurecht Totaal - Module-...   \n1  Boeve, M.N. - Milieurecht Totaal - Module-seri...   \n2  Redactie - Module-serie - Module Afval - Milie...   \n3  Redactie - Module-serie - Module Ruimtelijke O...   \n4                 Kruimel, J.P. - Milieurecht Totaal   \n\n                                            abstract  \\\n0  Casus Bij besluit van 12 april 1994 verlenen g...   \n1  M.N. Boeve Casus GS van Noord-Brabant hebben (...   \n2  Naast woning gelegen huisje vormt ┌┌n geheel m...   \n3  De raad van de gemeente Waspik wees een verzoe...   \n4  Bodemverontreiniging; saneringskosten komen oo...   \n\n                                                 Url  \\\n0  http://www.legalintelligence.com/documents/496...   \n1  http://www.legalintelligence.com/documents/496...   \n2  http://www.legalintelligence.com/documents/496...   \n3  http://www.legalintelligence.com/documents/496...   \n4  http://www.legalintelligence.com/documents/496...   \n\n                                         OriginalUrl Jurisdiction  \\\n0  https://www.navigator.nl/#/document/da785f3d8d...    Nederland   \n1  https://www.navigator.nl/#/document/dae9667789...    Nederland   \n2  https://www.navigator.nl/#/document/da7b16fb16...    Nederland   \n3  https://www.navigator.nl/#/document/dad97422ad...    Nederland   \n4  https://www.navigator.nl/#/document/daf99e49b6...    Nederland   \n\n  DocumentType              authority                          case_number  \\\n0  Rechtspraak         Raad van State                            E03951413   \n1  Rechtspraak         Raad van State  E01.94.0417 ECLI:NL:RVS:1996:AP7883   \n2  Rechtspraak  Gerechtshof Amsterdam                            95/4927-E   \n3  Rechtspraak         Raad van State                            H01950354   \n4  Rechtspraak   Gerechtshof Den Haag                              95/1803   \n\n       date  lodge_date  DateAdded                      Sources  \\\n0  19960101    19960916   20110520           Milieurecht Totaal   \n1  19960101    19960708   20110628           Milieurecht Totaal   \n2  19960101    19961203   20110628           Milieurecht Totaal   \n3  19960101    19960201   20110628  Module Ruimtelijke Ordening   \n4  19960101    19961016   20110628           Milieurecht Totaal   \n\n                               UrlWithAutoLogOnToken  \\\n0  http://www.legalintelligence.com/documents/496...   \n1  http://www.legalintelligence.com/documents/496...   \n2  http://www.legalintelligence.com/documents/496...   \n3  http://www.legalintelligence.com/documents/496...   \n4  http://www.legalintelligence.com/documents/496...   \n\n                                             LawArea  \\\n0  ['Ruimtelijk Bestuursrecht/Milieurecht/Energie...   \n1  ['Ruimtelijk Bestuursrecht/Milieurecht/Energie...   \n2  ['Ruimtelijk Bestuursrecht/Milieurecht/Energie...   \n3  ['Ruimtelijk Bestuursrecht/Milieurecht/Energie...   \n4  ['Ruimtelijk Bestuursrecht/Milieurecht/Energie...   \n\n                        ecli PublicationNumber  \n0    ECLI_NL_RVS_1996_AP7727              NULL  \n1    ECLI_NL_RVS_1996_AP7883              NULL  \n2  ECLI_NL_GHAMS_1996_AS4281              NULL  \n3    ECLI_NL_RVS_1996_ZF1978              NULL  \n4  ECLI_NL_GHSGR_1996_AS3490              NULL  ",
      "text/html": "<div>\n<style scoped>\n    .dataframe tbody tr th:only-of-type {\n        vertical-align: middle;\n    }\n\n    .dataframe tbody tr th {\n        vertical-align: top;\n    }\n\n    .dataframe thead th {\n        text-align: right;\n    }\n</style>\n<table border=\"1\" class=\"dataframe\">\n  <thead>\n    <tr style=\"text-align: right;\">\n      <th></th>\n      <th>Unnamed: 0</th>\n      <th>IssueNumber</th>\n      <th>Id</th>\n      <th>Title</th>\n      <th>DisplayTitle</th>\n      <th>DisplaySubtitle</th>\n      <th>abstract</th>\n      <th>Url</th>\n      <th>OriginalUrl</th>\n      <th>Jurisdiction</th>\n      <th>DocumentType</th>\n      <th>authority</th>\n      <th>case_number</th>\n      <th>date</th>\n      <th>lodge_date</th>\n      <th>DateAdded</th>\n      <th>Sources</th>\n      <th>UrlWithAutoLogOnToken</th>\n      <th>LawArea</th>\n      <th>ecli</th>\n      <th>PublicationNumber</th>\n    </tr>\n  </thead>\n  <tbody>\n    <tr>\n      <th>0</th>\n      <td>0</td>\n      <td>NULL</td>\n      <td>4968258</td>\n      <td>Casus Bij besluit van 12 april 1994 verlenen g...</td>\n      <td>Casus Bij besluit van 12 april 1994 verlenen g...</td>\n      <td>Doorduijn, L.F. - Milieurecht Totaal - Module-...</td>\n      <td>Casus Bij besluit van 12 april 1994 verlenen g...</td>\n      <td>http://www.legalintelligence.com/documents/496...</td>\n      <td>https://www.navigator.nl/#/document/da785f3d8d...</td>\n      <td>Nederland</td>\n      <td>Rechtspraak</td>\n      <td>Raad van State</td>\n      <td>E03951413</td>\n      <td>19960101</td>\n      <td>19960916</td>\n      <td>20110520</td>\n      <td>Milieurecht Totaal</td>\n      <td>http://www.legalintelligence.com/documents/496...</td>\n      <td>['Ruimtelijk Bestuursrecht/Milieurecht/Energie...</td>\n      <td>ECLI_NL_RVS_1996_AP7727</td>\n      <td>NULL</td>\n    </tr>\n    <tr>\n      <th>1</th>\n      <td>1</td>\n      <td>NULL</td>\n      <td>4968759</td>\n      <td>M.N. Boeve Casus GS van Noord-Brabant hebben (...</td>\n      <td>M.N. Boeve Casus GS van Noord-Brabant hebben (...</td>\n      <td>Boeve, M.N. - Milieurecht Totaal - Module-seri...</td>\n      <td>M.N. Boeve Casus GS van Noord-Brabant hebben (...</td>\n      <td>http://www.legalintelligence.com/documents/496...</td>\n      <td>https://www.navigator.nl/#/document/dae9667789...</td>\n      <td>Nederland</td>\n      <td>Rechtspraak</td>\n      <td>Raad van State</td>\n      <td>E01.94.0417 ECLI:NL:RVS:1996:AP7883</td>\n      <td>19960101</td>\n      <td>19960708</td>\n      <td>20110628</td>\n      <td>Milieurecht Totaal</td>\n      <td>http://www.legalintelligence.com/documents/496...</td>\n      <td>['Ruimtelijk Bestuursrecht/Milieurecht/Energie...</td>\n      <td>ECLI_NL_RVS_1996_AP7883</td>\n      <td>NULL</td>\n    </tr>\n    <tr>\n      <th>2</th>\n      <td>2</td>\n      <td>NULL</td>\n      <td>4968382</td>\n      <td>Naast woning gelegen huisje vormt ┌┌n geheel m...</td>\n      <td>Naast woning gelegen huisje vormt ┌┌n geheel m...</td>\n      <td>Redactie - Module-serie - Module Afval - Milie...</td>\n      <td>Naast woning gelegen huisje vormt ┌┌n geheel m...</td>\n      <td>http://www.legalintelligence.com/documents/496...</td>\n      <td>https://www.navigator.nl/#/document/da7b16fb16...</td>\n      <td>Nederland</td>\n      <td>Rechtspraak</td>\n      <td>Gerechtshof Amsterdam</td>\n      <td>95/4927-E</td>\n      <td>19960101</td>\n      <td>19961203</td>\n      <td>20110628</td>\n      <td>Milieurecht Totaal</td>\n      <td>http://www.legalintelligence.com/documents/496...</td>\n      <td>['Ruimtelijk Bestuursrecht/Milieurecht/Energie...</td>\n      <td>ECLI_NL_GHAMS_1996_AS4281</td>\n      <td>NULL</td>\n    </tr>\n    <tr>\n      <th>3</th>\n      <td>3</td>\n      <td>NULL</td>\n      <td>4968678</td>\n      <td>Geen beroep mogelijk tegen weigering bestemmin...</td>\n      <td>Geen beroep mogelijk tegen weigering bestemmin...</td>\n      <td>Redactie - Module-serie - Module Ruimtelijke O...</td>\n      <td>De raad van de gemeente Waspik wees een verzoe...</td>\n      <td>http://www.legalintelligence.com/documents/496...</td>\n      <td>https://www.navigator.nl/#/document/dad97422ad...</td>\n      <td>Nederland</td>\n      <td>Rechtspraak</td>\n      <td>Raad van State</td>\n      <td>H01950354</td>\n      <td>19960101</td>\n      <td>19960201</td>\n      <td>20110628</td>\n      <td>Module Ruimtelijke Ordening</td>\n      <td>http://www.legalintelligence.com/documents/496...</td>\n      <td>['Ruimtelijk Bestuursrecht/Milieurecht/Energie...</td>\n      <td>ECLI_NL_RVS_1996_ZF1978</td>\n      <td>NULL</td>\n    </tr>\n    <tr>\n      <th>4</th>\n      <td>4</td>\n      <td>NULL</td>\n      <td>4968777</td>\n      <td>Bodemverontreiniging; saneringskosten komen oo...</td>\n      <td>Bodemverontreiniging; saneringskosten komen oo...</td>\n      <td>Kruimel, J.P. - Milieurecht Totaal</td>\n      <td>Bodemverontreiniging; saneringskosten komen oo...</td>\n      <td>http://www.legalintelligence.com/documents/496...</td>\n      <td>https://www.navigator.nl/#/document/daf99e49b6...</td>\n      <td>Nederland</td>\n      <td>Rechtspraak</td>\n      <td>Gerechtshof Den Haag</td>\n      <td>95/1803</td>\n      <td>19960101</td>\n      <td>19961016</td>\n      <td>20110628</td>\n      <td>Milieurecht Totaal</td>\n      <td>http://www.legalintelligence.com/documents/496...</td>\n      <td>['Ruimtelijk Bestuursrecht/Milieurecht/Energie...</td>\n      <td>ECLI_NL_GHSGR_1996_AS3490</td>\n      <td>NULL</td>\n    </tr>\n  </tbody>\n</table>\n</div>"
     },
     "execution_count": 4,
     "metadata": {},
     "output_type": "execute_result"
    }
   ],
   "source": [
    "df_li_cases_raw = pd.read_csv(\"https://maastrichtuniversity-ids-open.s3.eu-central-1.amazonaws.com/rechtspraak/legal_intelligence_cases.csv\").replace(np.nan, 'NULL', regex=True).drop_duplicates(subset =\"ecli\")\n",
    "df_li_cases_raw.head()"
   ],
   "metadata": {
    "collapsed": false,
    "pycharm": {
     "name": "#%%\n"
    }
   }
  },
  {
   "cell_type": "code",
   "execution_count": 5,
   "outputs": [
    {
     "name": "stderr",
     "output_type": "stream",
     "text": [
      "/home/maxine/anaconda3/envs/case-law-explorer/lib/python3.7/site-packages/IPython/core/interactiveshell.py:3147: DtypeWarning: Columns (12) have mixed types.Specify dtype option on import or set low_memory=False.\n",
      "  interactivity=interactivity, compiler=compiler, result=result)\n"
     ]
    },
    {
     "data": {
      "text/plain": "                   case_id        date case_number description language venue  \\\n0  ECLI:NL:PHR:1913:AG1763  1913-04-18         x47        NULL       NL  NULL   \n1  ECLI:NL:PHR:1913:AG1764  1913-04-18         x48        NULL       NL  NULL   \n2  ECLI:NL:PHR:1913:BG9429  1913-04-21        NULL        NULL       NL  NULL   \n3  ECLI:NL:PHR:1913:AG1832  1913-03-07         X46        NULL       NL  NULL   \n4  ECLI:NL:PHR:1913:AG1762  1913-06-20         x49        NULL       NL  NULL   \n\n  abstract procedure_type lodge_date country subject                authority  \\\n0     NULL           NULL       NULL      NL    NULL  Parket bij de Hoge Raad   \n1     NULL           NULL       NULL      NL    NULL  Parket bij de Hoge Raad   \n2     NULL           NULL       NULL      NL    NULL  Parket bij de Hoge Raad   \n3     NULL           NULL       NULL      NL    NULL  Parket bij de Hoge Raad   \n4     NULL           NULL       NULL      NL    NULL  Parket bij de Hoge Raad   \n\n  legal_references                                     related_cases  \\\n0             NULL    Arrest Hoge Raad: ECLI:NL:HR:1913:AG1763\\n       \n1             NULL  Arrest Hoge Raad: ECLI:NL:HR:1913:AG1764\\n         \n2             NULL    Arrest Hoge Raad: ECLI:NL:HR:1913:BG9429\\n       \n3             NULL    Arrest Hoge Raad: ECLI:NL:HR:1913:AG1832\\n       \n4             NULL    Arrest Hoge Raad: ECLI:NL:HR:1913:AG1762\\n       \n\n                                 alternative_sources full_textcase_id date.1  \\\n0                                               NULL             NULL   NULL   \n1  \\n        \\n          <rdf:list xmlns:rdf=\"htt...             NULL   NULL   \n2                                               NULL             NULL   NULL   \n3                                               NULL             NULL   NULL   \n4                                               NULL             NULL   NULL   \n\n  case_number.1 description.1 language.1 venue.1 abstract.1 procedure_type.1  \\\n0          NULL          NULL       NULL    NULL       NULL             NULL   \n1          NULL          NULL       NULL    NULL       NULL             NULL   \n2          NULL          NULL       NULL    NULL       NULL             NULL   \n3          NULL          NULL       NULL    NULL       NULL             NULL   \n4          NULL          NULL       NULL    NULL       NULL             NULL   \n\n  lodge_date.1 country.1 subject.1 authority.1 legal_references.1  \\\n0         NULL      NULL      NULL        NULL               NULL   \n1         NULL      NULL      NULL        NULL               NULL   \n2         NULL      NULL      NULL        NULL               NULL   \n3         NULL      NULL      NULL        NULL               NULL   \n4         NULL      NULL      NULL        NULL               NULL   \n\n  related_cases.1 alternative_sources.1 full_text  \n0            NULL                  NULL      NULL  \n1            NULL                  NULL      NULL  \n2            NULL                  NULL      NULL  \n3            NULL                  NULL      NULL  \n4            NULL                  NULL      NULL  ",
      "text/html": "<div>\n<style scoped>\n    .dataframe tbody tr th:only-of-type {\n        vertical-align: middle;\n    }\n\n    .dataframe tbody tr th {\n        vertical-align: top;\n    }\n\n    .dataframe thead th {\n        text-align: right;\n    }\n</style>\n<table border=\"1\" class=\"dataframe\">\n  <thead>\n    <tr style=\"text-align: right;\">\n      <th></th>\n      <th>case_id</th>\n      <th>date</th>\n      <th>case_number</th>\n      <th>description</th>\n      <th>language</th>\n      <th>venue</th>\n      <th>abstract</th>\n      <th>procedure_type</th>\n      <th>lodge_date</th>\n      <th>country</th>\n      <th>subject</th>\n      <th>authority</th>\n      <th>legal_references</th>\n      <th>related_cases</th>\n      <th>alternative_sources</th>\n      <th>full_textcase_id</th>\n      <th>date.1</th>\n      <th>case_number.1</th>\n      <th>description.1</th>\n      <th>language.1</th>\n      <th>venue.1</th>\n      <th>abstract.1</th>\n      <th>procedure_type.1</th>\n      <th>lodge_date.1</th>\n      <th>country.1</th>\n      <th>subject.1</th>\n      <th>authority.1</th>\n      <th>legal_references.1</th>\n      <th>related_cases.1</th>\n      <th>alternative_sources.1</th>\n      <th>full_text</th>\n    </tr>\n  </thead>\n  <tbody>\n    <tr>\n      <th>0</th>\n      <td>ECLI:NL:PHR:1913:AG1763</td>\n      <td>1913-04-18</td>\n      <td>x47</td>\n      <td>NULL</td>\n      <td>NL</td>\n      <td>NULL</td>\n      <td>NULL</td>\n      <td>NULL</td>\n      <td>NULL</td>\n      <td>NL</td>\n      <td>NULL</td>\n      <td>Parket bij de Hoge Raad</td>\n      <td>NULL</td>\n      <td>Arrest Hoge Raad: ECLI:NL:HR:1913:AG1763\\n</td>\n      <td>NULL</td>\n      <td>NULL</td>\n      <td>NULL</td>\n      <td>NULL</td>\n      <td>NULL</td>\n      <td>NULL</td>\n      <td>NULL</td>\n      <td>NULL</td>\n      <td>NULL</td>\n      <td>NULL</td>\n      <td>NULL</td>\n      <td>NULL</td>\n      <td>NULL</td>\n      <td>NULL</td>\n      <td>NULL</td>\n      <td>NULL</td>\n      <td>NULL</td>\n    </tr>\n    <tr>\n      <th>1</th>\n      <td>ECLI:NL:PHR:1913:AG1764</td>\n      <td>1913-04-18</td>\n      <td>x48</td>\n      <td>NULL</td>\n      <td>NL</td>\n      <td>NULL</td>\n      <td>NULL</td>\n      <td>NULL</td>\n      <td>NULL</td>\n      <td>NL</td>\n      <td>NULL</td>\n      <td>Parket bij de Hoge Raad</td>\n      <td>NULL</td>\n      <td>Arrest Hoge Raad: ECLI:NL:HR:1913:AG1764\\n</td>\n      <td>\\n        \\n          &lt;rdf:list xmlns:rdf=\"htt...</td>\n      <td>NULL</td>\n      <td>NULL</td>\n      <td>NULL</td>\n      <td>NULL</td>\n      <td>NULL</td>\n      <td>NULL</td>\n      <td>NULL</td>\n      <td>NULL</td>\n      <td>NULL</td>\n      <td>NULL</td>\n      <td>NULL</td>\n      <td>NULL</td>\n      <td>NULL</td>\n      <td>NULL</td>\n      <td>NULL</td>\n      <td>NULL</td>\n    </tr>\n    <tr>\n      <th>2</th>\n      <td>ECLI:NL:PHR:1913:BG9429</td>\n      <td>1913-04-21</td>\n      <td>NULL</td>\n      <td>NULL</td>\n      <td>NL</td>\n      <td>NULL</td>\n      <td>NULL</td>\n      <td>NULL</td>\n      <td>NULL</td>\n      <td>NL</td>\n      <td>NULL</td>\n      <td>Parket bij de Hoge Raad</td>\n      <td>NULL</td>\n      <td>Arrest Hoge Raad: ECLI:NL:HR:1913:BG9429\\n</td>\n      <td>NULL</td>\n      <td>NULL</td>\n      <td>NULL</td>\n      <td>NULL</td>\n      <td>NULL</td>\n      <td>NULL</td>\n      <td>NULL</td>\n      <td>NULL</td>\n      <td>NULL</td>\n      <td>NULL</td>\n      <td>NULL</td>\n      <td>NULL</td>\n      <td>NULL</td>\n      <td>NULL</td>\n      <td>NULL</td>\n      <td>NULL</td>\n      <td>NULL</td>\n    </tr>\n    <tr>\n      <th>3</th>\n      <td>ECLI:NL:PHR:1913:AG1832</td>\n      <td>1913-03-07</td>\n      <td>X46</td>\n      <td>NULL</td>\n      <td>NL</td>\n      <td>NULL</td>\n      <td>NULL</td>\n      <td>NULL</td>\n      <td>NULL</td>\n      <td>NL</td>\n      <td>NULL</td>\n      <td>Parket bij de Hoge Raad</td>\n      <td>NULL</td>\n      <td>Arrest Hoge Raad: ECLI:NL:HR:1913:AG1832\\n</td>\n      <td>NULL</td>\n      <td>NULL</td>\n      <td>NULL</td>\n      <td>NULL</td>\n      <td>NULL</td>\n      <td>NULL</td>\n      <td>NULL</td>\n      <td>NULL</td>\n      <td>NULL</td>\n      <td>NULL</td>\n      <td>NULL</td>\n      <td>NULL</td>\n      <td>NULL</td>\n      <td>NULL</td>\n      <td>NULL</td>\n      <td>NULL</td>\n      <td>NULL</td>\n    </tr>\n    <tr>\n      <th>4</th>\n      <td>ECLI:NL:PHR:1913:AG1762</td>\n      <td>1913-06-20</td>\n      <td>x49</td>\n      <td>NULL</td>\n      <td>NL</td>\n      <td>NULL</td>\n      <td>NULL</td>\n      <td>NULL</td>\n      <td>NULL</td>\n      <td>NL</td>\n      <td>NULL</td>\n      <td>Parket bij de Hoge Raad</td>\n      <td>NULL</td>\n      <td>Arrest Hoge Raad: ECLI:NL:HR:1913:AG1762\\n</td>\n      <td>NULL</td>\n      <td>NULL</td>\n      <td>NULL</td>\n      <td>NULL</td>\n      <td>NULL</td>\n      <td>NULL</td>\n      <td>NULL</td>\n      <td>NULL</td>\n      <td>NULL</td>\n      <td>NULL</td>\n      <td>NULL</td>\n      <td>NULL</td>\n      <td>NULL</td>\n      <td>NULL</td>\n      <td>NULL</td>\n      <td>NULL</td>\n      <td>NULL</td>\n    </tr>\n  </tbody>\n</table>\n</div>"
     },
     "execution_count": 5,
     "metadata": {},
     "output_type": "execute_result"
    }
   ],
   "source": [
    "df_case_opinion_raw = pd.read_csv(\"https://maastrichtuniversity-ids-open.s3.eu-central-1.amazonaws.com/rechtspraak/case_opinion_from_advocate_general.csv\").replace(np.nan, 'NULL', regex=True)\n",
    "df_case_opinion_raw.head()"
   ],
   "metadata": {
    "collapsed": false,
    "pycharm": {
     "name": "#%%\n"
    }
   }
  },
  {
   "cell_type": "code",
   "execution_count": 6,
   "outputs": [
    {
     "data": {
      "text/plain": "           source_ecli source_paragraph          target_ecli target_paragraph\n0   ECLI:NL:HR:1913:13             NULL  ECLI:NL:HR:1913:129             NULL\n1  ECLI:NL:HR:1913:130             NULL  ECLI:NL:HR:1913:129             NULL\n2  ECLI:NL:HR:1913:131             NULL  ECLI:NL:HR:1913:129             NULL\n3  ECLI:NL:HR:1913:132             NULL  ECLI:NL:HR:1913:129             NULL\n4  ECLI:NL:HR:1913:133             NULL  ECLI:NL:HR:1913:129             NULL",
      "text/html": "<div>\n<style scoped>\n    .dataframe tbody tr th:only-of-type {\n        vertical-align: middle;\n    }\n\n    .dataframe tbody tr th {\n        vertical-align: top;\n    }\n\n    .dataframe thead th {\n        text-align: right;\n    }\n</style>\n<table border=\"1\" class=\"dataframe\">\n  <thead>\n    <tr style=\"text-align: right;\">\n      <th></th>\n      <th>source_ecli</th>\n      <th>source_paragraph</th>\n      <th>target_ecli</th>\n      <th>target_paragraph</th>\n    </tr>\n  </thead>\n  <tbody>\n    <tr>\n      <th>0</th>\n      <td>ECLI:NL:HR:1913:13</td>\n      <td>NULL</td>\n      <td>ECLI:NL:HR:1913:129</td>\n      <td>NULL</td>\n    </tr>\n    <tr>\n      <th>1</th>\n      <td>ECLI:NL:HR:1913:130</td>\n      <td>NULL</td>\n      <td>ECLI:NL:HR:1913:129</td>\n      <td>NULL</td>\n    </tr>\n    <tr>\n      <th>2</th>\n      <td>ECLI:NL:HR:1913:131</td>\n      <td>NULL</td>\n      <td>ECLI:NL:HR:1913:129</td>\n      <td>NULL</td>\n    </tr>\n    <tr>\n      <th>3</th>\n      <td>ECLI:NL:HR:1913:132</td>\n      <td>NULL</td>\n      <td>ECLI:NL:HR:1913:129</td>\n      <td>NULL</td>\n    </tr>\n    <tr>\n      <th>4</th>\n      <td>ECLI:NL:HR:1913:133</td>\n      <td>NULL</td>\n      <td>ECLI:NL:HR:1913:129</td>\n      <td>NULL</td>\n    </tr>\n  </tbody>\n</table>\n</div>"
     },
     "execution_count": 6,
     "metadata": {},
     "output_type": "execute_result"
    }
   ],
   "source": [
    "df_case_citation_raw = pd.read_csv(\"https://maastrichtuniversity-ids-open.s3.eu-central-1.amazonaws.com/rechtspraak/caselaw_citations.csv\").replace(np.nan, 'NULL', regex=True)\n",
    "df_case_citation_raw.head()"
   ],
   "metadata": {
    "collapsed": false,
    "pycharm": {
     "name": "#%%\n"
    }
   }
  },
  {
   "cell_type": "code",
   "execution_count": 7,
   "outputs": [
    {
     "data": {
      "text/plain": "                 source_ecli source_paragraph  \\\n0  ECLI:NL:GHAMS:1962:AX8440             NULL   \n1  ECLI:NL:GHAMS:1962:AX8440             NULL   \n2  ECLI:NL:GHAMS:1962:AX8440             NULL   \n3  ECLI:NL:GHAMS:1962:AX8441             NULL   \n4  ECLI:NL:GHAMS:1962:AX8441             NULL   \n\n                                      target_article target_article_paragraph  \\\n0  http://linkeddata.overheid.nl/terms/bwb/id/BWB...                     NULL   \n1  http://linkeddata.overheid.nl/terms/bwb/id/BWB...                     NULL   \n2  http://linkeddata.overheid.nl/terms/bwb/id/BWB...                     NULL   \n3  http://linkeddata.overheid.nl/terms/bwb/id/BWB...                     NULL   \n4  http://linkeddata.overheid.nl/terms/bwb/id/BWB...                     NULL   \n\n                              target_article_webpage  \n0  http://wetten.overheid.nl/id/BWBR0005537/2016-...  \n1  http://wetten.overheid.nl/id/BWBR0005537/2009-...  \n2  http://wetten.overheid.nl/id/BWBR0005537/2018-...  \n3  http://wetten.overheid.nl/id/BWBR0005537/2016-...  \n4  http://wetten.overheid.nl/id/BWBR0005537/2009-...  ",
      "text/html": "<div>\n<style scoped>\n    .dataframe tbody tr th:only-of-type {\n        vertical-align: middle;\n    }\n\n    .dataframe tbody tr th {\n        vertical-align: top;\n    }\n\n    .dataframe thead th {\n        text-align: right;\n    }\n</style>\n<table border=\"1\" class=\"dataframe\">\n  <thead>\n    <tr style=\"text-align: right;\">\n      <th></th>\n      <th>source_ecli</th>\n      <th>source_paragraph</th>\n      <th>target_article</th>\n      <th>target_article_paragraph</th>\n      <th>target_article_webpage</th>\n    </tr>\n  </thead>\n  <tbody>\n    <tr>\n      <th>0</th>\n      <td>ECLI:NL:GHAMS:1962:AX8440</td>\n      <td>NULL</td>\n      <td>http://linkeddata.overheid.nl/terms/bwb/id/BWB...</td>\n      <td>NULL</td>\n      <td>http://wetten.overheid.nl/id/BWBR0005537/2016-...</td>\n    </tr>\n    <tr>\n      <th>1</th>\n      <td>ECLI:NL:GHAMS:1962:AX8440</td>\n      <td>NULL</td>\n      <td>http://linkeddata.overheid.nl/terms/bwb/id/BWB...</td>\n      <td>NULL</td>\n      <td>http://wetten.overheid.nl/id/BWBR0005537/2009-...</td>\n    </tr>\n    <tr>\n      <th>2</th>\n      <td>ECLI:NL:GHAMS:1962:AX8440</td>\n      <td>NULL</td>\n      <td>http://linkeddata.overheid.nl/terms/bwb/id/BWB...</td>\n      <td>NULL</td>\n      <td>http://wetten.overheid.nl/id/BWBR0005537/2018-...</td>\n    </tr>\n    <tr>\n      <th>3</th>\n      <td>ECLI:NL:GHAMS:1962:AX8441</td>\n      <td>NULL</td>\n      <td>http://linkeddata.overheid.nl/terms/bwb/id/BWB...</td>\n      <td>NULL</td>\n      <td>http://wetten.overheid.nl/id/BWBR0005537/2016-...</td>\n    </tr>\n    <tr>\n      <th>4</th>\n      <td>ECLI:NL:GHAMS:1962:AX8441</td>\n      <td>NULL</td>\n      <td>http://linkeddata.overheid.nl/terms/bwb/id/BWB...</td>\n      <td>NULL</td>\n      <td>http://wetten.overheid.nl/id/BWBR0005537/2009-...</td>\n    </tr>\n  </tbody>\n</table>\n</div>"
     },
     "execution_count": 7,
     "metadata": {},
     "output_type": "execute_result"
    }
   ],
   "source": [
    "df_legislation_citation_raw = pd.read_csv(\"https://maastrichtuniversity-ids-open.s3.eu-central-1.amazonaws.com/rechtspraak/legislation_citations.csv\").replace(np.nan, 'NULL', regex=True)\n",
    "df_legislation_citation_raw.head()\n"
   ],
   "metadata": {
    "collapsed": false,
    "pycharm": {
     "name": "#%%\n"
    }
   }
  },
  {
   "cell_type": "markdown",
   "source": [
    "### insights raw data\n"
   ],
   "metadata": {
    "collapsed": false,
    "pycharm": {
     "name": "#%% md\n"
    }
   }
  },
  {
   "cell_type": "code",
   "execution_count": 8,
   "outputs": [
    {
     "name": "stdout",
     "output_type": "stream",
     "text": [
      "number of cases:  500000\n",
      "number of opinions:  65692\n",
      "number of li-cases:  661\n",
      "number of legislation citations:  18947\n",
      "number of case citations:  758268\n",
      "number of countries:  36\n"
     ]
    }
   ],
   "source": [
    "print('number of cases: ', len(df_case_raw))\n",
    "print('number of opinions: ', len(df_case_opinion_raw))\n",
    "print('number of li-cases: ', len(df_li_cases_raw))\n",
    "print('number of legislation citations: ', len(df_legislation_citation_raw))\n",
    "print('number of case citations: ', len(df_case_citation_raw))\n",
    "print('number of countries: ', len(df_country_raw))"
   ],
   "metadata": {
    "collapsed": false,
    "pycharm": {
     "name": "#%%\n"
    }
   }
  },
  {
   "cell_type": "markdown",
   "source": [
    "---\n",
    "## Normalization based on constraints"
   ],
   "metadata": {
    "collapsed": false
   }
  },
  {
   "cell_type": "code",
   "execution_count": 9,
   "outputs": [],
   "source": [
    "### ecli formatting:\n",
    "for i, li_case in df_li_cases_raw.iterrows():\n",
    "    ecli = li_case.ecli\n",
    "    new_ecli = ecli.replace('_', ':')\n",
    "    df_li_cases_raw.at[i, 'ecli'] = new_ecli"
   ],
   "metadata": {
    "collapsed": false,
    "pycharm": {
     "name": "#%%\n"
    }
   }
  },
  {
   "cell_type": "code",
   "execution_count": 10,
   "outputs": [
    {
     "name": "stdout",
     "output_type": "stream",
     "text": [
      "number of li only cases:  44\n",
      "number of rechtspraak only cases:  499383\n",
      "number of overlapping cases:  617\n",
      "number of rechtspraak total cases:  500000\n",
      "number of li total cases:  661\n"
     ]
    }
   ],
   "source": [
    "''' intersection of cases in li and case_raw '''\n",
    "li_intersection = list(set(df_li_cases_raw['ecli']).intersection(set(df_case_raw['case_id'])))\n",
    "rechtspraak_only = list(set(df_case_raw['case_id']) - set(li_intersection))\n",
    "li_only = list(set(df_li_cases_raw['ecli']) - set(li_intersection))\n",
    "print('number of li only cases: ', len(li_only))\n",
    "print('number of rechtspraak only cases: ', len(rechtspraak_only))\n",
    "print('number of overlapping cases: ', len(li_intersection))\n",
    "print('number of rechtspraak total cases: ', len(df_case_raw))\n",
    "print('number of li total cases: ', len(df_li_cases_raw))"
   ],
   "metadata": {
    "collapsed": false,
    "pycharm": {
     "name": "#%%\n"
    }
   }
  },
  {
   "cell_type": "code",
   "execution_count": 11,
   "outputs": [],
   "source": [
    "### build separate dfs for li only and raw only cases\n",
    "df_case_only = df_case_raw[df_case_raw['case_id'].isin(rechtspraak_only)]\n",
    "df_li_only = df_li_cases_raw[df_li_cases_raw['ecli'].isin(li_only)]"
   ],
   "metadata": {
    "collapsed": false,
    "pycharm": {
     "name": "#%%\n"
    }
   }
  },
  {
   "cell_type": "code",
   "execution_count": 12,
   "outputs": [
    {
     "data": {
      "text/plain": "                     case_id  Unnamed: 0_li IssueNumber_li    Id_li  \\\n0    ECLI:NL:RVS:1996:AP7727              0           NULL  4968258   \n1    ECLI:NL:RVS:1996:AP7883              1           NULL  4968759   \n2  ECLI:NL:GHAMS:1996:AS4281              2           NULL  4968382   \n3    ECLI:NL:RVS:1996:ZF1978              3           NULL  4968678   \n4  ECLI:NL:GHSGR:1996:AS3490              4           NULL  4968777   \n\n                                            Title_li  \\\n0  Casus Bij besluit van 12 april 1994 verlenen g...   \n1  M.N. Boeve Casus GS van Noord-Brabant hebben (...   \n2  Naast woning gelegen huisje vormt ┌┌n geheel m...   \n3  Geen beroep mogelijk tegen weigering bestemmin...   \n4  Bodemverontreiniging; saneringskosten komen oo...   \n\n                                     DisplayTitle_li  \\\n0  Casus Bij besluit van 12 april 1994 verlenen g...   \n1  M.N. Boeve Casus GS van Noord-Brabant hebben (...   \n2  Naast woning gelegen huisje vormt ┌┌n geheel m...   \n3  Geen beroep mogelijk tegen weigering bestemmin...   \n4  Bodemverontreiniging; saneringskosten komen oo...   \n\n                                  DisplaySubtitle_li  \\\n0  Doorduijn, L.F. - Milieurecht Totaal - Module-...   \n1  Boeve, M.N. - Milieurecht Totaal - Module-seri...   \n2  Redactie - Module-serie - Module Afval - Milie...   \n3  Redactie - Module-serie - Module Ruimtelijke O...   \n4                 Kruimel, J.P. - Milieurecht Totaal   \n\n                                         abstract_li  \\\n0  Casus Bij besluit van 12 april 1994 verlenen g...   \n1  M.N. Boeve Casus GS van Noord-Brabant hebben (...   \n2  Naast woning gelegen huisje vormt ┌┌n geheel m...   \n3  De raad van de gemeente Waspik wees een verzoe...   \n4  Bodemverontreiniging; saneringskosten komen oo...   \n\n                                              Url_li  \\\n0  http://www.legalintelligence.com/documents/496...   \n1  http://www.legalintelligence.com/documents/496...   \n2  http://www.legalintelligence.com/documents/496...   \n3  http://www.legalintelligence.com/documents/496...   \n4  http://www.legalintelligence.com/documents/496...   \n\n                                      OriginalUrl_li Jurisdiction_li  \\\n0  https://www.navigator.nl/#/document/da785f3d8d...       Nederland   \n1  https://www.navigator.nl/#/document/dae9667789...       Nederland   \n2  https://www.navigator.nl/#/document/da7b16fb16...       Nederland   \n3  https://www.navigator.nl/#/document/dad97422ad...       Nederland   \n4  https://www.navigator.nl/#/document/daf99e49b6...       Nederland   \n\n  DocumentType_li           authority_li                       case_number_li  \\\n0     Rechtspraak         Raad van State                            E03951413   \n1     Rechtspraak         Raad van State  E01.94.0417 ECLI:NL:RVS:1996:AP7883   \n2     Rechtspraak  Gerechtshof Amsterdam                            95/4927-E   \n3     Rechtspraak         Raad van State                            H01950354   \n4     Rechtspraak   Gerechtshof Den Haag                              95/1803   \n\n    date_li  lodge_date_li  DateAdded_li                   Sources_li  \\\n0  19960101       19960916      20110520           Milieurecht Totaal   \n1  19960101       19960708      20110628           Milieurecht Totaal   \n2  19960101       19961203      20110628           Milieurecht Totaal   \n3  19960101       19960201      20110628  Module Ruimtelijke Ordening   \n4  19960101       19961016      20110628           Milieurecht Totaal   \n\n                            UrlWithAutoLogOnToken_li  \\\n0  http://www.legalintelligence.com/documents/496...   \n1  http://www.legalintelligence.com/documents/496...   \n2  http://www.legalintelligence.com/documents/496...   \n3  http://www.legalintelligence.com/documents/496...   \n4  http://www.legalintelligence.com/documents/496...   \n\n                                          LawArea_li PublicationNumber_li  \\\n0  ['Ruimtelijk Bestuursrecht/Milieurecht/Energie...                 NULL   \n1  ['Ruimtelijk Bestuursrecht/Milieurecht/Energie...                 NULL   \n2  ['Ruimtelijk Bestuursrecht/Milieurecht/Energie...                 NULL   \n3  ['Ruimtelijk Bestuursrecht/Milieurecht/Energie...                 NULL   \n4  ['Ruimtelijk Bestuursrecht/Milieurecht/Energie...                 NULL   \n\n         date  case_number description language venue abstract procedure_type  \\\n0  1996-09-16    E03951413        NULL       NL  NULL     NULL           NULL   \n1  1996-07-08  E01.94.0417        NULL       NL  NULL     NULL           NULL   \n2  1996-12-03      95/4927        NULL       NL  NULL     NULL           NULL   \n3  1996-02-01  H01.95.0354        NULL       NL  NULL     NULL      Bodemzaak   \n4  1996-10-16      95/1803        NULL       NL  NULL     NULL           NULL   \n\n  lodge_date country        subject                  authority  \\\n0       NULL      NL           NULL             Raad van State   \n1       NULL      NL           NULL             Raad van State   \n2       NULL      NL           NULL      Gerechtshof Amsterdam   \n3       NULL      NL  Bestuursrecht             Raad van State   \n4       NULL      NL           NULL  Gerechtshof 's-Gravenhage   \n\n  legal_references                                     related_cases  \\\n0             NULL                                              NULL   \n1             NULL                                              NULL   \n2             NULL                                              NULL   \n3             NULL  Eerste aanleg: ECLI:NL:RBBRE:1995:ZF4362\\n         \n4             NULL                                              NULL   \n\n                                 alternative_sources full_textcase_id date.1  \\\n0  \\n        \\n          <rdf:list xmlns:rdf=\"htt...             NULL   NULL   \n1  \\n        \\n          <rdf:list xmlns:rdf=\"htt...             NULL   NULL   \n2  \\n        \\n          <rdf:list xmlns:rdf=\"htt...             NULL   NULL   \n3  \\n        \\n          <rdf:list xmlns:rdf=\"htt...             NULL   NULL   \n4  \\n        \\n          <rdf:list xmlns:rdf=\"htt...             NULL   NULL   \n\n  case_number.1 description.1 language.1 venue.1 abstract.1 procedure_type.1  \\\n0          NULL          NULL       NULL    NULL       NULL             NULL   \n1          NULL          NULL       NULL    NULL       NULL             NULL   \n2          NULL          NULL       NULL    NULL       NULL             NULL   \n3          NULL          NULL       NULL    NULL       NULL             NULL   \n4          NULL          NULL       NULL    NULL       NULL             NULL   \n\n  lodge_date.1 country.1 subject.1 authority.1 legal_references.1  \\\n0         NULL      NULL      NULL        NULL               NULL   \n1         NULL      NULL      NULL        NULL               NULL   \n2         NULL      NULL      NULL        NULL               NULL   \n3         NULL      NULL      NULL        NULL               NULL   \n4         NULL      NULL      NULL        NULL               NULL   \n\n  related_cases.1 alternative_sources.1 full_text  \n0            NULL                  NULL      NULL  \n1            NULL                  NULL      NULL  \n2            NULL                  NULL      NULL  \n3            NULL                  NULL      NULL  \n4            NULL                  NULL      NULL  ",
      "text/html": "<div>\n<style scoped>\n    .dataframe tbody tr th:only-of-type {\n        vertical-align: middle;\n    }\n\n    .dataframe tbody tr th {\n        vertical-align: top;\n    }\n\n    .dataframe thead th {\n        text-align: right;\n    }\n</style>\n<table border=\"1\" class=\"dataframe\">\n  <thead>\n    <tr style=\"text-align: right;\">\n      <th></th>\n      <th>case_id</th>\n      <th>Unnamed: 0_li</th>\n      <th>IssueNumber_li</th>\n      <th>Id_li</th>\n      <th>Title_li</th>\n      <th>DisplayTitle_li</th>\n      <th>DisplaySubtitle_li</th>\n      <th>abstract_li</th>\n      <th>Url_li</th>\n      <th>OriginalUrl_li</th>\n      <th>Jurisdiction_li</th>\n      <th>DocumentType_li</th>\n      <th>authority_li</th>\n      <th>case_number_li</th>\n      <th>date_li</th>\n      <th>lodge_date_li</th>\n      <th>DateAdded_li</th>\n      <th>Sources_li</th>\n      <th>UrlWithAutoLogOnToken_li</th>\n      <th>LawArea_li</th>\n      <th>PublicationNumber_li</th>\n      <th>date</th>\n      <th>case_number</th>\n      <th>description</th>\n      <th>language</th>\n      <th>venue</th>\n      <th>abstract</th>\n      <th>procedure_type</th>\n      <th>lodge_date</th>\n      <th>country</th>\n      <th>subject</th>\n      <th>authority</th>\n      <th>legal_references</th>\n      <th>related_cases</th>\n      <th>alternative_sources</th>\n      <th>full_textcase_id</th>\n      <th>date.1</th>\n      <th>case_number.1</th>\n      <th>description.1</th>\n      <th>language.1</th>\n      <th>venue.1</th>\n      <th>abstract.1</th>\n      <th>procedure_type.1</th>\n      <th>lodge_date.1</th>\n      <th>country.1</th>\n      <th>subject.1</th>\n      <th>authority.1</th>\n      <th>legal_references.1</th>\n      <th>related_cases.1</th>\n      <th>alternative_sources.1</th>\n      <th>full_text</th>\n    </tr>\n  </thead>\n  <tbody>\n    <tr>\n      <th>0</th>\n      <td>ECLI:NL:RVS:1996:AP7727</td>\n      <td>0</td>\n      <td>NULL</td>\n      <td>4968258</td>\n      <td>Casus Bij besluit van 12 april 1994 verlenen g...</td>\n      <td>Casus Bij besluit van 12 april 1994 verlenen g...</td>\n      <td>Doorduijn, L.F. - Milieurecht Totaal - Module-...</td>\n      <td>Casus Bij besluit van 12 april 1994 verlenen g...</td>\n      <td>http://www.legalintelligence.com/documents/496...</td>\n      <td>https://www.navigator.nl/#/document/da785f3d8d...</td>\n      <td>Nederland</td>\n      <td>Rechtspraak</td>\n      <td>Raad van State</td>\n      <td>E03951413</td>\n      <td>19960101</td>\n      <td>19960916</td>\n      <td>20110520</td>\n      <td>Milieurecht Totaal</td>\n      <td>http://www.legalintelligence.com/documents/496...</td>\n      <td>['Ruimtelijk Bestuursrecht/Milieurecht/Energie...</td>\n      <td>NULL</td>\n      <td>1996-09-16</td>\n      <td>E03951413</td>\n      <td>NULL</td>\n      <td>NL</td>\n      <td>NULL</td>\n      <td>NULL</td>\n      <td>NULL</td>\n      <td>NULL</td>\n      <td>NL</td>\n      <td>NULL</td>\n      <td>Raad van State</td>\n      <td>NULL</td>\n      <td>NULL</td>\n      <td>\\n        \\n          &lt;rdf:list xmlns:rdf=\"htt...</td>\n      <td>NULL</td>\n      <td>NULL</td>\n      <td>NULL</td>\n      <td>NULL</td>\n      <td>NULL</td>\n      <td>NULL</td>\n      <td>NULL</td>\n      <td>NULL</td>\n      <td>NULL</td>\n      <td>NULL</td>\n      <td>NULL</td>\n      <td>NULL</td>\n      <td>NULL</td>\n      <td>NULL</td>\n      <td>NULL</td>\n      <td>NULL</td>\n    </tr>\n    <tr>\n      <th>1</th>\n      <td>ECLI:NL:RVS:1996:AP7883</td>\n      <td>1</td>\n      <td>NULL</td>\n      <td>4968759</td>\n      <td>M.N. Boeve Casus GS van Noord-Brabant hebben (...</td>\n      <td>M.N. Boeve Casus GS van Noord-Brabant hebben (...</td>\n      <td>Boeve, M.N. - Milieurecht Totaal - Module-seri...</td>\n      <td>M.N. Boeve Casus GS van Noord-Brabant hebben (...</td>\n      <td>http://www.legalintelligence.com/documents/496...</td>\n      <td>https://www.navigator.nl/#/document/dae9667789...</td>\n      <td>Nederland</td>\n      <td>Rechtspraak</td>\n      <td>Raad van State</td>\n      <td>E01.94.0417 ECLI:NL:RVS:1996:AP7883</td>\n      <td>19960101</td>\n      <td>19960708</td>\n      <td>20110628</td>\n      <td>Milieurecht Totaal</td>\n      <td>http://www.legalintelligence.com/documents/496...</td>\n      <td>['Ruimtelijk Bestuursrecht/Milieurecht/Energie...</td>\n      <td>NULL</td>\n      <td>1996-07-08</td>\n      <td>E01.94.0417</td>\n      <td>NULL</td>\n      <td>NL</td>\n      <td>NULL</td>\n      <td>NULL</td>\n      <td>NULL</td>\n      <td>NULL</td>\n      <td>NL</td>\n      <td>NULL</td>\n      <td>Raad van State</td>\n      <td>NULL</td>\n      <td>NULL</td>\n      <td>\\n        \\n          &lt;rdf:list xmlns:rdf=\"htt...</td>\n      <td>NULL</td>\n      <td>NULL</td>\n      <td>NULL</td>\n      <td>NULL</td>\n      <td>NULL</td>\n      <td>NULL</td>\n      <td>NULL</td>\n      <td>NULL</td>\n      <td>NULL</td>\n      <td>NULL</td>\n      <td>NULL</td>\n      <td>NULL</td>\n      <td>NULL</td>\n      <td>NULL</td>\n      <td>NULL</td>\n      <td>NULL</td>\n    </tr>\n    <tr>\n      <th>2</th>\n      <td>ECLI:NL:GHAMS:1996:AS4281</td>\n      <td>2</td>\n      <td>NULL</td>\n      <td>4968382</td>\n      <td>Naast woning gelegen huisje vormt ┌┌n geheel m...</td>\n      <td>Naast woning gelegen huisje vormt ┌┌n geheel m...</td>\n      <td>Redactie - Module-serie - Module Afval - Milie...</td>\n      <td>Naast woning gelegen huisje vormt ┌┌n geheel m...</td>\n      <td>http://www.legalintelligence.com/documents/496...</td>\n      <td>https://www.navigator.nl/#/document/da7b16fb16...</td>\n      <td>Nederland</td>\n      <td>Rechtspraak</td>\n      <td>Gerechtshof Amsterdam</td>\n      <td>95/4927-E</td>\n      <td>19960101</td>\n      <td>19961203</td>\n      <td>20110628</td>\n      <td>Milieurecht Totaal</td>\n      <td>http://www.legalintelligence.com/documents/496...</td>\n      <td>['Ruimtelijk Bestuursrecht/Milieurecht/Energie...</td>\n      <td>NULL</td>\n      <td>1996-12-03</td>\n      <td>95/4927</td>\n      <td>NULL</td>\n      <td>NL</td>\n      <td>NULL</td>\n      <td>NULL</td>\n      <td>NULL</td>\n      <td>NULL</td>\n      <td>NL</td>\n      <td>NULL</td>\n      <td>Gerechtshof Amsterdam</td>\n      <td>NULL</td>\n      <td>NULL</td>\n      <td>\\n        \\n          &lt;rdf:list xmlns:rdf=\"htt...</td>\n      <td>NULL</td>\n      <td>NULL</td>\n      <td>NULL</td>\n      <td>NULL</td>\n      <td>NULL</td>\n      <td>NULL</td>\n      <td>NULL</td>\n      <td>NULL</td>\n      <td>NULL</td>\n      <td>NULL</td>\n      <td>NULL</td>\n      <td>NULL</td>\n      <td>NULL</td>\n      <td>NULL</td>\n      <td>NULL</td>\n      <td>NULL</td>\n    </tr>\n    <tr>\n      <th>3</th>\n      <td>ECLI:NL:RVS:1996:ZF1978</td>\n      <td>3</td>\n      <td>NULL</td>\n      <td>4968678</td>\n      <td>Geen beroep mogelijk tegen weigering bestemmin...</td>\n      <td>Geen beroep mogelijk tegen weigering bestemmin...</td>\n      <td>Redactie - Module-serie - Module Ruimtelijke O...</td>\n      <td>De raad van de gemeente Waspik wees een verzoe...</td>\n      <td>http://www.legalintelligence.com/documents/496...</td>\n      <td>https://www.navigator.nl/#/document/dad97422ad...</td>\n      <td>Nederland</td>\n      <td>Rechtspraak</td>\n      <td>Raad van State</td>\n      <td>H01950354</td>\n      <td>19960101</td>\n      <td>19960201</td>\n      <td>20110628</td>\n      <td>Module Ruimtelijke Ordening</td>\n      <td>http://www.legalintelligence.com/documents/496...</td>\n      <td>['Ruimtelijk Bestuursrecht/Milieurecht/Energie...</td>\n      <td>NULL</td>\n      <td>1996-02-01</td>\n      <td>H01.95.0354</td>\n      <td>NULL</td>\n      <td>NL</td>\n      <td>NULL</td>\n      <td>NULL</td>\n      <td>Bodemzaak</td>\n      <td>NULL</td>\n      <td>NL</td>\n      <td>Bestuursrecht</td>\n      <td>Raad van State</td>\n      <td>NULL</td>\n      <td>Eerste aanleg: ECLI:NL:RBBRE:1995:ZF4362\\n</td>\n      <td>\\n        \\n          &lt;rdf:list xmlns:rdf=\"htt...</td>\n      <td>NULL</td>\n      <td>NULL</td>\n      <td>NULL</td>\n      <td>NULL</td>\n      <td>NULL</td>\n      <td>NULL</td>\n      <td>NULL</td>\n      <td>NULL</td>\n      <td>NULL</td>\n      <td>NULL</td>\n      <td>NULL</td>\n      <td>NULL</td>\n      <td>NULL</td>\n      <td>NULL</td>\n      <td>NULL</td>\n      <td>NULL</td>\n    </tr>\n    <tr>\n      <th>4</th>\n      <td>ECLI:NL:GHSGR:1996:AS3490</td>\n      <td>4</td>\n      <td>NULL</td>\n      <td>4968777</td>\n      <td>Bodemverontreiniging; saneringskosten komen oo...</td>\n      <td>Bodemverontreiniging; saneringskosten komen oo...</td>\n      <td>Kruimel, J.P. - Milieurecht Totaal</td>\n      <td>Bodemverontreiniging; saneringskosten komen oo...</td>\n      <td>http://www.legalintelligence.com/documents/496...</td>\n      <td>https://www.navigator.nl/#/document/daf99e49b6...</td>\n      <td>Nederland</td>\n      <td>Rechtspraak</td>\n      <td>Gerechtshof Den Haag</td>\n      <td>95/1803</td>\n      <td>19960101</td>\n      <td>19961016</td>\n      <td>20110628</td>\n      <td>Milieurecht Totaal</td>\n      <td>http://www.legalintelligence.com/documents/496...</td>\n      <td>['Ruimtelijk Bestuursrecht/Milieurecht/Energie...</td>\n      <td>NULL</td>\n      <td>1996-10-16</td>\n      <td>95/1803</td>\n      <td>NULL</td>\n      <td>NL</td>\n      <td>NULL</td>\n      <td>NULL</td>\n      <td>NULL</td>\n      <td>NULL</td>\n      <td>NL</td>\n      <td>NULL</td>\n      <td>Gerechtshof 's-Gravenhage</td>\n      <td>NULL</td>\n      <td>NULL</td>\n      <td>\\n        \\n          &lt;rdf:list xmlns:rdf=\"htt...</td>\n      <td>NULL</td>\n      <td>NULL</td>\n      <td>NULL</td>\n      <td>NULL</td>\n      <td>NULL</td>\n      <td>NULL</td>\n      <td>NULL</td>\n      <td>NULL</td>\n      <td>NULL</td>\n      <td>NULL</td>\n      <td>NULL</td>\n      <td>NULL</td>\n      <td>NULL</td>\n      <td>NULL</td>\n      <td>NULL</td>\n      <td>NULL</td>\n    </tr>\n  </tbody>\n</table>\n</div>"
     },
     "execution_count": 12,
     "metadata": {},
     "output_type": "execute_result"
    }
   ],
   "source": [
    "### merge overlapping li and raw cases into one df\n",
    "df_case_li_intersection = df_li_cases_raw[df_li_cases_raw['ecli'].isin(li_intersection)]\n",
    "df_case_li_intersection = df_case_li_intersection.add_suffix('_li')\n",
    "df_case_li_intersection.rename(columns = {'ecli_li':'case_id'}, inplace = True)\n",
    "df_case_li_intersection.set_index('case_id', inplace=True)\n",
    "df_case_raw.set_index('case_id', inplace=True)\n",
    "df_case_li_intersection = df_case_li_intersection.join(df_case_raw)\n",
    "df_case_raw.reset_index(inplace=True)\n",
    "df_case_li_intersection.reset_index(inplace=True)\n",
    "df_case_li_intersection.head()"
   ],
   "metadata": {
    "collapsed": false,
    "pycharm": {
     "name": "#%%\n"
    }
   }
  },
  {
   "cell_type": "code",
   "execution_count": 13,
   "outputs": [
    {
     "name": "stdout",
     "output_type": "stream",
     "text": [
      "Number of Cases in\n",
      "R only cases: 499383\n",
      "LI only cases: 44\n",
      "LI & R cases: 617\n",
      "Legislation citation: 18947\n",
      "Case citation: 758268\n",
      "Case opinion: 65692\n"
     ]
    }
   ],
   "source": [
    "print('Number of Cases in\\nR only cases: {}\\nLI only cases: {}\\nLI & R cases: {}\\nLegislation citation: {}\\nCase citation: {}\\nCase opinion: {}'\\\n",
    "      .format(len(df_case_only), len(df_li_only), len(df_case_li_intersection), len(df_legislation_citation_raw), len(df_case_citation_raw), len(df_case_opinion_raw)))\n"
   ],
   "metadata": {
    "collapsed": false,
    "pycharm": {
     "name": "#%%\n"
    }
   }
  },
  {
   "cell_type": "markdown",
   "source": [
    "---\n",
    "### Utils"
   ],
   "metadata": {
    "collapsed": false,
    "pycharm": {
     "name": "#%% md\n"
    }
   }
  },
  {
   "cell_type": "code",
   "execution_count": 14,
   "outputs": [],
   "source": [
    "import string\n",
    "\n",
    "def clean_strings(column):\n",
    "  cleaned = []\n",
    "  for s in column:\n",
    "    cleaned.append(\"\".join(filter(lambda char: char in string.printable, s)))\n",
    "  return [i[0:250] for i in cleaned]\n"
   ],
   "metadata": {
    "collapsed": false,
    "pycharm": {
     "name": "#%%\n"
    }
   }
  },
  {
   "cell_type": "markdown",
   "source": [
    "---\n",
    "### Preprocessing\n",
    "#### Courts"
   ],
   "metadata": {
    "collapsed": false,
    "pycharm": {
     "name": "#%% md\n"
    }
   }
  },
  {
   "cell_type": "code",
   "execution_count": 15,
   "outputs": [
    {
     "name": "stdout",
     "output_type": "stream",
     "text": [
      "['Codecommissie KOAG/KAG', \"Ambtenarengerecht 's-Gravenhage\", 'Vaste Commissie voor het Boekenuitgeverijbedrijf', 'Kamer voor Gerechtsdeurwaarders', 'Regionaal Directeur Arbeidsvoorziening Dordrecht', 'Consiglio di Stato (Raad van State)', 'Ostre Landsret (gerechtshof Oost-Denemarken)', 'Staatssecretaris VROM', 'Tribunal administratif de Lyon', 'Hooggerechtshof Batavia', 'B&W Rotterdam', 'Gedelegeerde Rechtsherstel Soerabaja', 'Højesteret', 'Hof van arbitrage', 'Kantongerecht Zevenbergen', 'Minister van Economische Zaken', 'Amtsgericht Niebull (kantongerecht)', 'Commissione tributaria provinciale di Massa Carrarra', 'Raad van beroep Middelburg', 'Tribunale Amministrativo per la Sardegna', 'GS Groningen', \"Tribunal d'instance de Saintes\", 'Onbekend', 'Geschillencommissie chemische wasserijen', 'Kantongerecht Alkmaar', 'HMG Nederlands-Indië', 'Raad van beroep Leeuwarden', 'Raad van Toezicht Orde van Advocaten bij de Hoge Raad', 'Sector kanton Rechtbank Breda', 'Kantongerecht Bergum', 'Gerecht van Eerste Aanleg EG', 'Kantongerecht Lelystad', \"Raad van beroep 's-Gravenhage\", 'Rechtbank Zutphen', 'Centrale Raad van Beroep', 'Arbeidsrechtbank Tongeren (België)', 'College van Beroep voor het bedrijfsleven', 'Commissie tot handhaving van de Nederlandse Code voor het Reclamewezen', 'College van Toezicht NVRA Rotterdam', 'Rechtbank van koophandel Brugge', 'Commissie van beroep protestants-christelijk basisonderwijs', 'Kantongerecht Terneuzen', 'GS Overijssel', 'Rechtbank van eerste aanleg Brussel', 'Commissie verzoekschriften Tweede Kamer', 'Bedrijfscommissie voor de overheid', 'Arbeidshof Antwerpen', 'Landes- als Handelsgericht Korneuburg', 'Rechtbank van koophandel Leuven', 'Ned. bond van belanghebbenden bij de handel in oliën, vetten en oliezaden', 'Vereeniging ter behartiging van de Nederlandse aardappelhandel', 'Kantongerecht Venlo', \"RvB Bevrachtingszaken 's-Gravenhage\", 'DSI - Commissie van Beroep', 'Ambtenarengerecht Utrecht', 'Staatssecretaris van Financiën', 'Kantongerecht Onderdendam', 'Grondkamer Zeeland', 'Areios Pagos (Hooggerechtshof)', 'Kantongerecht Haarlemmermeer', 'Corte Suprema di Cassazione', 'Arbitragehof van België', \"Klachtencommissie GGz 's-Hertogenbosch\", 'Commissione tributaria provinciale di Genova', 'Commissie van beroep Algemene bond ter bevordering van beroepsonderwijs', 'Kantongerecht Hilversum', 'Raad van beroep Haarlem', 'Tuchtrechter Voedselvoorziening Rotterdam', 'Rechtbank Leeuwarden', 'RvJ Nederlands Nieuw-Guinea', 'RvB Directe Belastingen Rotterdam', 'Geschillenkamer GS Overijssel', 'Kantongerecht Apeldoorn', 'Grondkamer voor Friesland', 'Kantongerecht Goor', 'Europese ombudsman', 'Regionaal Directeur Arbeidsvoorziening Midden Nederland', 'Raad van beroep Rotterdam', 'Bacs-Kiskun Megyei Birosag (regionale rechtbank)', 'Okresni Soud Cesky Krumlov (district court)', 'Arbetsdomstol', 'Sector kanton Rechtbank Amsterdam', 'Huurcommissie Amsterdam', \"Corte d'Appello di Torino (Hof van Beroep)\", 'Kantongerecht Veendam', 'Rechtbank van koophandel Oudenaarde', 'Suprema Tribunal de Justica', 'Niedersächsisches Oberverwaltungsgericht', 'GS Friesland', 'College van Arbiters', 'Raad van State (België)', 'Nederlandse Mededingingsautoriteit', 'Geschillencommissie Nederlandse Universiteiten', 'Mobiele krijgsraad buitenland landmacht', 'Kantongerecht Rotterdam', 'Tribunale di Teramo', 'Obvodni Soud pro Prahu (district court)', 'Kantongerecht Amsterdam', 'GS Gelderland', 'Oberste Gerichtshof', 'Dioikitiko Protodikeio Athinas', 'Centraal College Tuchtrechtspraak', 'Hof van Justitie van de Nederlandse Antillen', 'Regeringsratten (supreme administrative court)', 'Hof van beroep Antwerpen', 'Raad voor Strafrechtstoepassing en Jeugdbescherming ', 'Parket bij de Hoge Raad', 'Klachtencommissie Patiëntenvertrouwenspersonen', 'Bureau voor de Industriële Eigendom', 'Finanzgericht Münster', 'Rechtbank Amsterdam', 'Kantongerecht Sommelsdijk', 'Tribunale di Larino', \"Bezwarencommissie 's-Hertogenbosch WROM\", 'Kantongerecht Ridderkerk', 'Afdeling van beroep Raad voor het kwekersrecht', \"Regionaal Medisch Tuchtcollege 's Gravenhage\", 'Centrale Grondkamer', 'B&W Diemen', 'Kantongerecht Gulpen', 'Vereniging voor de handel in landbouwzaaizaden', 'Hoog Militair Gerechtshof', 'Grondkamer Limburg', 'Raad van Toezicht Utrecht', 'Vestre Landsret (Gerechtshof West Denemarken)', 'Commissie van beroep CAO-Eindhoven', 'Minister van Binnenlandse Zaken en Koninkrijksaangelegenheden', 'Advocaat-Generaal Hof van Justitie van de Europese Gemeenschappen', 'Scheidsgerecht vermogensaanwasbelasting Leeuwarden', 'Wojewodzki Sad Administracyjny w Warszawie (Warschau) (administratieve rechtbank)', 'Kantongerecht Tiel', 'Kantongerecht Haarlem', 'Commissie van beroep protestants-christelijk onderwijs', 'Kantongerecht Lemmer', 'Arbitrage-instituut bouwkunst', 'Juzgado de lo Mercantil Barcelona (Handelsrechtbank)', 'Unabhängige Verwaltungssenat des Landes Oberösterreich', 'Rechtbank van eerste aanleg Dendermonde', 'Kantongerecht Harderwijk', 'Centraal Medisch Tuchtcollege', 'Kantongerecht Schoonhoven', 'Kantongerecht Almelo', 'Reclameraad', 'Raad van Toezicht op het Schadeverzekeringsbedrijf', 'Commissie voor de Rechtspraak Ziekenfondsen', 'Kamer van Toezicht over de notarissen en kandidaat-notarissen Middelburg', 'Kantongerecht Arnhem', 'Kantongerecht Sneek', 'College van Toezicht NVRA Arnhem', 'Raad van Uitvoering CAO voor Dagbladjournalisten', 'Kantongerecht Zwolle', 'Verwaltungsgerichtshof Oostenrijk', 'KB', 'Bundesverwaltungsgericht', 'Commissie van beroep Katholieke Hogeschool Tilburg', 'Comité voor de Rechten van de Mens', 'Arbitrage Garantie-instituut woningbouw', 'Kantongerecht Oostburg', 'Bindend advies', \"Commissie voor bezwaar Raad voor Rechtsbijstand 's-Hertogenbosch\", 'Kantongerecht Eindhoven', 'Kantongerecht Maastricht', 'Arbitraal College van de Geschillencommissie Reizen', 'Regionaal Tuchtcollege voor de Gezondheidszorg Zwolle', 'Commissie van beroep voor het voortgezet onderwijs van de verenigde bijzondere scholen', 'Ambtenarengerecht Haarlem', 'Supremo Tribunal Administrativo', 'Nederlands arbitrage-instituut', 'Veterinair Tuchtcollege', 'Ambtenarengerecht Zwolle', \"Bijzonder Hof 's-Gravenhage\", 'Kantongerecht Hoofddorp', 'Commissie van beroep Amsterdam (Woonruimtewet)', 'Geschillencommissie openbare nutsbedrijven', 'College van Beroep voor het hoger onderwijs', 'Kantongerecht Tholen', 'Tribunale di Gela', 'Kantongerecht Hoorn', 'Medisch Tuchtcollege Eindhoven', 'Sector kanton Rechtbank Roermond', 'Ambtenarengerecht Rotterdam', 'Commissie van geschillen Koninklijk Instituut Van Ingenieurs', \"Cour d'appel de Grenoble\", 'Finanzgericht München', 'Tribunaal Utrecht', 'Kamer van Toezicht over de notarissen en kandidaat-notarissen Almelo', 'Kantongerecht Sliedrecht', 'Hof van Cassatie', 'Landgericht Wurzberg', 'Gerechtshof Den Haag', 'Kantongerecht Sittard', 'Belgisch Centrum voor Arbitrage en Mediatie', \"Conseil d'Etat\", 'Gerecht in eerste aanleg van Sint Maarten', 'Arbitragecommissie Koninklijke Nederlandse Voetbalbond', 'Geschillencommissie schadeverzekeraars', 'Huurcommissie Leeuwarden', 'Adviescommissie Fondsenreglement', 'Advocaat-Generaal Hof van Justitie (EGKS)', 'Kantongerecht Den Helder', 'HvJ Nieuw-Guinea', 'Huurcommissie Sittard', 'Rechtbank van koophandel Dendermonde', \"Cour d'Appel de Versailles\", 'Labour Court Dublin', 'Rechtbank Almelo', \"Raad voor het Rechtsherstel 's-Gravenhage\", 'Dioikitiko Protodikeio Ioanninon', 'Advocaat-Generaal Benelux Gerechtshof', 'Hof van Justitie van de Europese vrijhandelsassociatie', 'Gerecht in Eerste Aanleg Bonaire', 'Arbitragecommissie Gesubsidieerd Toneel', 'Bestuurscommissie beroepszaken Zuid-Holland', 'Kantongerecht Purmerend', 'Arbitrage-instituut bouwstoffen', 'Tribunal de Commerce de Nancy', 'Toezichthoudende Autoriteit van de Europese Vrijhandelsassociatie', 'Commissie van Toezicht Ver. Financieringsondernemingen', 'Kantongerecht Tilburg', 'Raad van Beroep voor Belastingzaken (Nederlandse Antillen en Aruba)', 'Tribunale civile e penale di Palermo', 'Rechtbank Middelburg', 'Raad van Toezicht NVRA Arnhem', 'Veterinair Beroepscollege', 'Tribunal administratif de Caen', 'Huurcommissie Rotterdam', 'Kantongerecht Gouda', 'GS Zuid-Holland', 'Commissie voor beroepschriften gemeente Weesp', 'Geschillencommissie ziekenfondsen-fysiotherapeuten', 'Tuchtrechter Prijzen Rotterdam', 'Europese Commissie', 'Octrooiraad, bijzondere afdeling', 'Klachtencommissie Beursbedrijf', 'Stichting Geschillenoplossing Organisatie en Automatisering', 'Geschillencommissie recreatie', 'Tribunale di Voghera', 'Dutch Securities Institute', 'GS Noord-Holland', 'Kantongerecht Steenwijk', 'Advies- en arbitragecommissie rijksdienst', 'Landesgericht Innsbruck', 'Unabhängige Finanzsenat', 'Lietuvos Vyriausiasis Administracinis Teismas (hoogste administratieve rechtbank)', \"Kamer van Toezicht over de notarissen en kandidaat-notarissen 's-Gravenhage\", 'Verwaltungsgericht Schwerin', 'Rechtbank van koophandel Verviers', 'Geschillencommissie Waarderingskamer', 'Unabhängiger Verwaltungssenat im Land Niederösterreich', 'Scheidsgerecht vermogensaanwasbelasting Centrale Kamer', 'Vereniging de Ned. huiden- en lederbeurzen', 'Verbondscommissie samenloop', 'Tribunal departemental des pensions militaires de Morbihan', 'Kantongerecht Weert', 'Tribunal fédéral Suisse / Bundesgericht', 'Rechtbank Brussel', 'Geschillencommissie reizen ANVR', 'Rechtbank Maastricht', 'Advocaat-Generaal Hof van Justitie van de Europese Unie', 'Employment Tribunal (Leeds)', 'Hof van beroep Gent', 'Kantongerecht Emmen', 'Huurcommissie Arnhem', 'Scheidsgerecht rechtspositieregeling voor medewerkers gereformeerde kerken in Nederland', 'Hof van Justitie van de Europese Economische Gemeenschappen', 'Regionaal Medisch Tuchtcollege Amsterdam (v/h Medisch tuchtcollege Amsterdam)', 'Zeekrijgsraad Soerabaja', 'Commissie van beroep KBO Haarlem', 'Irish High Court of Justice', 'Grondkamer Overijssel', 'Kantongerecht Heerlen', 'Patents Court London', 'Rechtbank Den Haag', 'Commissie van Beroep erkenning en registratie van Medische specialisten', 'Klachtencommissie Meerkanten', 'Arbitragecie.', 'Huurcommissie Dordrecht', 'Rechtbank van koophandel Kortrijk', 'Kantongerecht Amersfoort', 'Rechtbank Turnhout', 'Szombathelyi Varosi Birosag (rechtbank in eerste aanleg)', 'Tribunal Supremo', 'Panel World Trade Organisation', 'Oberlandesgericht München (gerechtshof)', 'Arbeitsgericht München', 'Huurcommissie Beetsterzwaag', 'Kantongerecht Brielle', 'Octrooiraad, aanvraagafdeling', 'Adviescommissie grondrechten en functie-oefening ambtenaren (AGFA)', 'Bayerisches Landessozialgericht', 'High Court of Justice, Chancery Division', 'Raad van beroep Arnhem', 'Klachtencommissie GGz Eindhoven', 'Comité van graanhandelaren Rotterdam', 'RvB Directe Belastingen Roermond', 'Commissie van beroep basis- en buitengewoon onderwijs van de verenigde bijzondere scholen', 'Hof van beroep Bergen', 'Regionaal Directeur Arbeidsvoorziening Regio Noord-Oost Brabant', 'Kamer van Toezicht over de notarissen en kandidaat-notarissen Rotterdam', 'The Social Security Commissioner', 'Tribunale Amministrativo Regionale del Lazio', 'Stichting Klachten en Geschillen Zorgverzekeringen', 'Schattingscommissie Incourante Fondsen', 'Tribunal Superior de Justicia de Castilla Y León', 'Vereniging de Rotterdamse korenbeurs', 'Ambtenarengerecht Groningen', 'Ambtenarengerecht Amsterdam', 'Commissie van beroep protestants-christelijk voortgezet onderwijs', 'Kantongerecht Zaandam', 'College van Beroep Studiefinanciering', 'Kantongerecht Terborg', 'Rechtbank Arnhem', 'Tribunal de Grande Instance de Brive', 'Vereniging Amsterdamse graanhandel', 'Algemene Raad van de Orde van Advocaten', 'Verwaltungsgericht Aachen', 'B&W Amsterdam', 'Juzgado de lo Social de Madrid', 'Rechtbank van eerste aanleg Hasselt', 'Hogsta Domstolen (supreme court)', 'College van Arbiters Koninklijke Nederlandse Voetbalbond', 'Huurcommissie Maastricht', 'Bayerisches Verwaltungsgericht München', 'Rechtbank van koophandel Mechelen', 'Kantongerecht Deventer', 'Commissie van beroep voor het voortgezet onderwijs', 'Oberverwaltungsgericht Rheinland-Pfalz (administratief hof)', 'Huurcommissie Utrecht', 'Amtsgericht Flensburg (kantongerecht)', \"College medisch tuchtrecht 's-Gravenhage\", 'United States District Court New Jersey', 'Kantongerecht Woerden', 'Kantongerecht Kampen', 'College voor zorgverzekeringen', 'Raad van toezicht verzekeringen', 'Vergabekontrollsenat des Landes Wien (commissie van toezicht op de aanbestedingen)', \"Regionaal Directeur Arbeidsvoorziening 's-Hertogenbosch\", \"Cour d' Appel d' Angers\", 'Centrale commissie van beroep katholiek voortgezet onderwijs', 'Kamer van beroep van de centrale commissie voor de Rijnvaart', 'Verwaltungsgerichtshof Baden-Württemberg', 'Kantongerecht Bergen op Zoom', 'Commissie van beroep klachtenregeling WROM', 'Kantongerecht Paramaribo', 'Gerecht in Eerste Aanleg van Aruba', \"Rechtbank 's-Gravenhage\", 'Kantongerecht Utrecht', 'Codecommissie Stichting Code Geneesmiddelenreclame', 'Korsholms tingsrätt (rechtbank)', 'Committee against Torture', 'Raad van beroep Roermond', 'Rechtbank van eerste aanleg Brugge', 'Sozialgericht Berlin', 'Landgericht München', 'Architectenraad', 'Scheidsgerecht Vereeniging ter bevordering van de belangen des boekhandels', 'House of Lords', 'Landesgericht Klagenfurt', 'Kantongerecht Middelburg', 'College van Beroep voor de examens UvA', 'Huurcommissie Tilburg', 'Kantongerecht Zuidbroek', 'Tribunale di Civitavecchia', 'Kamer van Toezicht over de notarissen en kandidaat-notarissen Arnhem', 'Kantongerecht Elst', 'GS Utrecht', 'Tribunal de Police de Neufchateau', 'Tribunale Amministrativo Regionale per la Sicilia', 'Minister van SoZa', 'Arbitragecommissie CAO-toneelkunstenaars', 'Huurcommissie Breda', 'RvB inzake het toezicht op de octrooigemachtigden', 'Geschillencommissie ziekenhuizen', 'Appelraad Batavia', 'Octrooiraad', 'Scheidsgerecht vermogensaanwasbelasting Arnhem', 'Rechtbank Zierikzee', 'Landraad Soerabaja', 'Economisch Hof', 'Huurcommissie Venlo', 'Oberlandesgericht Rostock (gerechtshof)', 'Arbeidsrechtbank Brussel', 'Cour de Cassation', 'Kantongerecht Wageningen', 'Regionaal Tuchtcollege voor de Gezondheidszorg Groningen', \"Gerechtshof 's-Hertogenbosch\", 'Rechtbank Groningen', 'Kantongerecht Nijmegen', \"Rechtbank 's-Hertogenbosch\", 'Kantongerecht Geldermalsen', 'Royal Court of Jersey', 'Vereeniging voor den koffiehandel', 'Regionaal Directeur Arbeidsvoorziening Rijnmond', 'Huurcommissie Roermond', 'Raad van beroep voor het toezicht op de architectenstand', \"Cour d'Appel De Rennes\", 'Audiencia Provincial de Barcelona (provincierechtbank)', 'Raad van beroep Alkmaar', 'Tribunale Genova', 'Tribunale di Milano', 'Kantongerecht Breukelen-Nijenrode', 'Landesgericht für Zivilrechtssachen Wien', 'Lokale advies- en arbitragecommissie t.b.v. gemeenten, provincies, waterschappen en gem. regelingen', 'VAT and Duties Tribunal', 'Arbeidshof Brussel', 'Rechtbank van koophandel Gent', 'Kamer van Toezicht over de notarissen en kandidaat-notarissen Breda', 'Commissie van beroep HBO', 'B&W Haarlemmermeer', 'Commissie van beroep protestants-christelijk kleuter-, basis- en buitengewoon onderwijs', 'Scheidsgerecht Amsterdamse graanhandel', 'Rechtbank Roermond', 'Hof van Justitie van Suriname', 'Raad van beroep Groningen', 'Monomeles Protodikeio Thessalonikis (rechtbank van eerste aanleg)', 'Ufficio del Giudice di Pace di Bitonto', 'Bayerischer Verwaltungsgerichtshof', 'Rechtbank van eerste aanleg Luik', 'Rechtbank van koophandel Turnhout', 'Kantongerecht Schiedam', 'Medisch Tuchtcollege Zwolle', \"Scheidsgerecht vermogensaanwasbelasting 's-Gravenhage\", 'GS Drenthe', 'College van Beroep Erecode voor Ondernemers in het Bouwbedrijf', 'Wipo Arbitration and Mediation Center', 'Beklagcommissie Penitentiaire Inrichtingen Haaglanden', 'Kantongerecht Ommen', 'Ambtenarengerecht Roermond', 'Benelux-Merkenbureau', 'Landrechter Soerabaja', 'Regionaal Directeur Arbeidsvoorziening Gelderland-WMO', 'Tribunale di Forli', 'Arbitraal vonnis', 'Rb. Hollandia', 'Fovarosi Birosag (rechtbank in eerste aanleg)', 'Tribunale di Viterbo', 'Beroepscommissie WTZKV', 'Juzgado de lo Social Donostia-San Sebastian', 'Oberlandesgericht Celle (gerechtshof)', 'Rovaniemen hallinto-oikeus (administrative court)', 'Commissione tributaria di primo grado di Trento', 'Oberste Patent- und Markensenat', 'GS Zeeland', 'London Tribunal Centre', 'Onderwijsraad', 'Rechtbank Zwolle', 'Kantongerecht Zierikzee', 'Rechtbank Tiel', 'Cie. van ber. voor het kath. kleuter-, basis- en buitengew. onderw. in de bisdommen Gron. en Utrecht', 'Rechtbank van koophandel Namen', 'Nationale ombudsman', \"Cour d'appel de Paris\", 'Arbeidshof Luik', 'Internationaal Gerechtshof', 'Commissie bezwaar- en beroepschriften Den Bosch', 'Commissie van Toezicht Erecode voor Ondernemers in het Bouwbedrijf', 'Commissie van beroep kath. kleuter-, basis- en buitengewoon onderw. bisdommen Haarlem en Rotterdam', 'Bijzonder Hof Amsterdam', 'Rechtbank van koophandel Brussel', 'Beroepscommissie Rotterdam', 'Finanzgericht Köln', 'Scheidsgerecht voor het Bankbedrijf', 'Raad van Justitie Semarang', 'Magyar Koztarsasag Legfelsobb Birosaga (Hooggerechtshof, tot 1-1-2012)', 'Benelux Gerechtshof', 'Rechtbank van koophandel Antwerpen', 'Rechtbank Haarlem', 'Kamer van Toezicht over de notarissen en kandidaat-notarissen Roermond', 'Hof van Justitie van de Europese Gemeenschappen', 'College medisch tuchtrecht Amsterdam', 'Universitaire kiesraad', 'Rechtbank Alkmaar', 'Commissie van beroep gereformeerd voortgezet onderwijs', 'Rechtbank van eerste aanleg Gent', 'Bundesverfassungsgericht', 'Landrechter Manokwari', 'Rechtbank van Koophandel Brussel', 'Rechtbank van eerste aanleg Kortrijk', 'Directeur-Generaal van de Nederlandse mededingingsautoriteit', 'Huurcommissie Assen', 'Octrooiraad, afdeling van beroep', 'Klachtencommissie De Meren', 'Rechtbank Assen', 'Regionaal Tuchtcollege voor de Gezondheidszorg Amsterdam', 'Korkein oikeus (supreme court)', 'Amtsgericht Dresden (kantongerecht)', 'Huurcommissie Harderwijk', 'Tuchtrechter Voedselvoorziening Leeuwarden', \"Symvoulio Tis Epikrateias Thima d' (deze niet gebruiken)\", 'Kantongerecht Groningen', 'Kantongerecht Helmond', 'Raad van Toezicht NVRA Rotterdam', 'Raad van arbitrage voor metaalnijverheid en -handel', 'Arbeidsrechtbank Gent', 'Raad van Toezicht Orde van Octrooigemachtigden', 'Hof van beroep Brussel', \"Corte d'Appello di Cagliari (Hof van Beroep)\", \"Permanente Krijgsraad voor de zeemacht 's-Gravenhage\", 'Hovratten for Ovre Norrland (Hof van Beroep)', 'Giudice di pace di Monselice', 'Audiencia Provincial de Madrid (provincierechtbank)', 'College van toezicht Amsterdam op de leden van de Nederlandse vereniging van rechtskundige adviseurs', 'Kantongerecht Heerenveen', 'Kantongerecht Dordrecht', 'Minister van Verkeer en Waterstaat', 'Kantongerecht Leiden', 'Kantongerecht Oud-Beijerland', 'Kantongerecht Beetsterzwaag', 'High Court of Justice Leeds District Registry', 'Comité van deskundigen ex art. 25 Europees Sociaal Handvest', 'Rechtbank van koophandel Hasselt', 'Geschillencommissie Fusiegedragsregels SER', 'Bundessozialgericht', 'RvJ Batavia', 'Scheidsgerecht vereniging van Nederlandse exporteurs van granen, zaden en peulvruchten', 'Minister van Financiën', 'Verwaltungsgericht Köln', 'Commissie van beroep van scholen van gereformeerde belijdenis', 'Kantongerecht Meppel', 'Comité van ministers van de raad van Europa', 'Tuchtcommissie DSI', 'Raad van beroep Amsterdam', 'Minister van Volkshuisvesting, Ruimtelijke Ordening en Milieubeheer', 'Kantongerecht Delft', 'Minister van VROM', 'Landgericht Hagen', 'Gerecht voor Ambtenarenzaken van de Europese Unie', 'Hoge Raad', 'Rechtbank Heerenveen', 'Oberlandesgericht Stuttgart (gerechtshof)', 'Krijgsraad Arnhem', 'Geschillencommissie Arbodiensten', 'Gemeenschappelijk Hof van Justitie van de Nederlandse Antillen en Aruba', 'Ambtenarengerecht Arnhem', 'Medisch Tuchtcollege Groningen', 'Raad van Bestuur CWI', \"Kantongerecht 's-Hertogenbosch\", 'Finanzgericht des Landes Brandenburg', 'Kantongerecht Gorinchem', 'Raad van Arbitrage voor de Bouw', 'Landgericht Wiesbaden', 'Lukea Tingsratten (rechtbank)', 'Oberlandesgericht Dusseldorf (gerechtshof)', 'Huurcommissie Schiedam', 'Rechtbank Breda', 'Komarom-Esztergom Megyei Birosag (regionale rechtbank)', 'Advocaat-Generaal Hof van Justitie van de Europese Economische Gemeenschappen', 'Rechtbank Rotterdam', 'Commissie van Toezicht Federatie van Financiële Planners', 'Gericht Erster Instanz Eupen', \"Gerechtshof 's-Gravenhage\", 'Raad van de gemeente Woudenberg', \"Scheidsgerecht vermogensaanwasbelasting 's-Hertogenbosch\", 'Reclame Code Commissie', 'Amtsgericht Breisach (kantongerecht)', 'Geschillencommissie bankzaken', 'GS Noord-Brabant', 'Bestuurscommissie beroepszaken sociale zekerheid Overijssel', 'Tweede Kamer der staten-generaal op voorstel van de commissie voor de verzoekschriften', 'Scheidsgerecht vermogensaanwasbelasting Amsterdam', 'Retten i Horsholm (Hof van Horsholm)', 'Klachtencommissie GGz Nijmegen', 'Gerecht in eerste aanleg van Curaçao', 'Keuringsraad KOAG/KAG', 'Commissie van beroep Katholieke Universiteit Nijmegen', \"Commissie bezwaar en beroep Raad voor Rechtsbijstand 's-Gravenhage\", 'Sociaal Economische Raad (Bestuurskamer)', 'High Court of Justice', 'Europese Commissie voor de rechten van de mens', 'Kantongerecht Roermond', 'Rechtbank Zwolle-Lelystad', 'Verwaltungsgericht Darmstadt', 'Supreme Court of Ireland', 'Minister van Volksgezondheid, Welzijn en Sport', 'Gemeenschappelijk Hof van Justitie van Aruba, Curaçao, Sint Maarten en van Bonaire, Sint Eustatius en Saba', 'Juzgado de lo Social Unico de Algeciras', 'Finanzgericht Nedersaksen', 'Finanzgericht Hamburg', 'Commissie van beroep vereniging HTS-en Nederland', 'Klachtencommissie GGz Noord-Holland Noord/P.Z. Duin en Bosch', 'Raad van Discipline Amsterdam', 'Centraal Tuchtcollege voor de Gezondheidszorg', 'Europees Hof voor de Rechten van de Mens', 'Kantongerecht Assen', 'Ufficio del giudice di pace te Genova Voltri', 'Beroepscommissie Stichting Advies in geschillen- en klachtenbehandeling ziektekostenverzekeringen', 'Hof van Discipline', 'College voor de Rechten van de Mens', 'Europees Octrooibureau', 'Commissie voor de beroepschriften Leiden', 'Vereniging van Nederlandse exporteurs van aardappelen', 'Onafhankelijke Post en Telecommunicatie Autoriteit', 'Centraal Distributiegerecht', 'Commissione tributaria provinciale di Napoli', 'Verwaltungsgericht Chemnitz', \"Kantongerecht 's-Gravenhage\", 'Kammarratten i Sundsval (administrative court of appeal)', 'Cour administrative', 'Geschillenkamer GS Gelderland', 'Bundesarbeitsgericht', 'Tribunal Superior de Justicia de Cantabria', 'Commissie van beroep Studiefinanciering', 'Zeekrijgsraad Willemsoord', 'Court of Appeal', 'College medisch tuchtrecht Eindhoven', 'Tingsrätt Stockholm (rechtbank)', 'Efeteio Patron', 'Gerechtshof Arnhem', 'RvJ Soerabaja', 'GS Flevoland', 'Cie van ber. lager- en kleuteronderw. voor scholen aangesloten bij het land. verb. gereform. scholen', 'Rechtbank Winschoten', 'Particuliere arbitrage', 'Kantongerecht Goes', 'DSI - Klachtencommissie', 'Raad van beroep Leiden', 'Tribunale di Genova', 'College van Beroep Stichting Reclame Code', 'Directeur Garantie-instituut woningbouw', 'Raad van beroep Zwolle', 'Raad voor het Rechtsherstel Amsterdam', \"Distributiegerecht 's-Gravenhage\", 'Kantongerecht Winschoten', 'Huurcommissie Zwolle', 'Kantongerecht Bolsward', 'Ziekenfondsraad', \"Cour d'Appel de Poitiers\", 'Finanzgericht Düsseldorf', 'Tariefcommissie', 'Kantongerecht Zutphen', 'Rechtbank van eerste aanleg Antwerpen', 'Korkein Hallinto-oikeus (supreme administrative court)', 'Hof van Justitie (EGKS)', 'Raad van beroep Utrecht', 'Commissie Gelijke Behandeling', 'Bijzonder Hof Arnhem', 'Tribunal des Affaires de Sécurité Sociale de Longwy (rechtbank sociale zekerheid)', 'Arrondissementskrijgsraad Arnhem', 'Symvoulio tis Epikrateias', 'Verwaltungsgericht Stuttgart (administratieve rechtbank)', 'Commissie van Beroep Stichting Code Geneesmiddelenreclame', 'Tribunale di Treviso', 'Grondkamer Zuid-Holland', 'Raad van beroep Breda', 'Rechtbank Antwerpen', 'Tribunale Ordinario di Torino', 'Commissione Tributaria Regionale di Firenze', 'Commissie van beroep algemene besturenbond beroepsonderwijs', 'Gerecht in Eerste Aanleg van de Nederlandse Antillen', 'Raad van State', 'Kantongerecht Enschede', 'Gerechtshof Amsterdam', 'GS Limburg', 'Commissie van beroep katholieke kleuter-, basis- en buitengewoon onderwijs in Zuid-Nederland', 'Hof van beroep Luik', 'Gouverneur van de Nederlandse Antillen', 'Regionaal Directeur Arbeidsvoorziening Regio Amsterdam', 'Huurcommissie Eindhoven', 'College medisch tuchtrecht Zwolle', 'Appellate Body World Trade Organisation', 'Kantongerecht Appingedam', 'Arbitragehof van Tsjechië', 'Kantongerecht Groenlo', 'Regionaal Directeur Arbeidsvoorziening', 'Kantongerecht Medemblik', 'Scheidsgerecht CAO levensmiddelenbedrijf', 'Rechtbank Utrecht', 'Kantongerecht Alphen aan den Rijn', \"Raad van Discipline 's-Gravenhage\", 'Hanseatisches Oberlandesgericht Bremen (gerechtshof)', 'Handelsgericht Wien', 'Bindend advies Garantie-instituut woningbouw', 'Bankruptcy court, district of New Jersey, Trenton US', 'Krijgsraad', \"Raad voor Rechtsbijstand 's-Gravenhage\", 'Kantongerecht Leeuwarden', 'Kamer van Toezicht over de notarissen en kandidaat-notarissen Maastricht', 'Huurcommissie Heerlen', 'Regionaal Tuchtcollege voor de Gezondheidszorg Eindhoven', 'Bijzondere Raad van Cassatie', 'Klachtencommissie stichting rechtshulp Almelo', 'Sozialgericht Köln', \"Raad van beroep 's-Hertogenbosch\", 'the Special Commissioners', 'Kantongerecht Hoogeveen', 'Tribunal Superior de Justicia del Pais Vasco', 'Rechtbank Dordrecht', 'Utlänningsnämnden (Aliens Appeals Board)', 'Gerechtshof Leeuwarden', 'Hessische Finanzgericht', 'Handens tingsrätt (rechtbank)', \"Cour administrative d'appel de Douai\", 'Kantongerecht Breda', \"Ambtenarengerecht 's-Hertogenbosch\", 'Bundesfinanzhof', 'Bundesgerichtshof', 'Kantongerecht Boxmeer']\n",
      "['Codecommissie KOAG/KAG', \"Ambtenarengerecht 's-Gravenhage\", 'Vaste Commissie voor het Boekenuitgeverijbedrijf', 'Kamer voor Gerechtsdeurwaarders', 'Regionaal Directeur Arbeidsvoorziening Dordrecht', 'Consiglio di Stato (Raad van State)', 'Ostre Landsret (gerechtshof Oost-Denemarken)', 'Staatssecretaris VROM', 'Tribunal administratif de Lyon', 'Hooggerechtshof Batavia', 'B&W Rotterdam', 'Gedelegeerde Rechtsherstel Soerabaja', 'Højesteret', 'Hof van arbitrage', 'Kantongerecht Zevenbergen', 'Minister van Economische Zaken', 'Amtsgericht Niebull (kantongerecht)', 'Commissione tributaria provinciale di Massa Carrarra', 'Raad van beroep Middelburg', 'Tribunale Amministrativo per la Sardegna', 'GS Groningen', \"Tribunal d'instance de Saintes\", 'Onbekend', 'Geschillencommissie chemische wasserijen', 'Kantongerecht Alkmaar', 'HMG Nederlands-Indië', 'Raad van beroep Leeuwarden', 'Raad van Toezicht Orde van Advocaten bij de Hoge Raad', 'Sector kanton Rechtbank Breda', 'Kantongerecht Bergum', 'Gerecht van Eerste Aanleg EG', 'Kantongerecht Lelystad', \"Raad van beroep 's-Gravenhage\", 'Rechtbank Zutphen', 'Centrale Raad van Beroep', 'Arbeidsrechtbank Tongeren (België)', 'College van Beroep voor het bedrijfsleven', 'Commissie tot handhaving van de Nederlandse Code voor het Reclamewezen', 'College van Toezicht NVRA Rotterdam', 'Rechtbank van koophandel Brugge', 'Commissie van beroep protestants-christelijk basisonderwijs', 'Kantongerecht Terneuzen', 'GS Overijssel', 'Rechtbank van eerste aanleg Brussel', 'Commissie verzoekschriften Tweede Kamer', 'Bedrijfscommissie voor de overheid', 'Arbeidshof Antwerpen', 'Landes- als Handelsgericht Korneuburg', 'Rechtbank van koophandel Leuven', 'Ned. bond van belanghebbenden bij de handel in oliën, vetten en oliezaden', 'Vereeniging ter behartiging van de Nederlandse aardappelhandel', 'Kantongerecht Venlo', \"RvB Bevrachtingszaken 's-Gravenhage\", 'DSI - Commissie van Beroep', 'Ambtenarengerecht Utrecht', 'Staatssecretaris van Financiën', 'Kantongerecht Onderdendam', 'Grondkamer Zeeland', 'Areios Pagos (Hooggerechtshof)', 'Kantongerecht Haarlemmermeer', 'Corte Suprema di Cassazione', 'Arbitragehof van België', \"Klachtencommissie GGz 's-Hertogenbosch\", 'Commissione tributaria provinciale di Genova', 'Commissie van beroep Algemene bond ter bevordering van beroepsonderwijs', 'Kantongerecht Hilversum', 'Raad van beroep Haarlem', 'Tuchtrechter Voedselvoorziening Rotterdam', 'Rechtbank Leeuwarden', 'RvJ Nederlands Nieuw-Guinea', 'RvB Directe Belastingen Rotterdam', 'Geschillenkamer GS Overijssel', 'Kantongerecht Apeldoorn', 'Grondkamer voor Friesland', 'Kantongerecht Goor', 'Europese ombudsman', 'Regionaal Directeur Arbeidsvoorziening Midden Nederland', 'Raad van beroep Rotterdam', 'Bacs-Kiskun Megyei Birosag (regionale rechtbank)', 'Okresni Soud Cesky Krumlov (district court)', 'Arbetsdomstol', 'Sector kanton Rechtbank Amsterdam', 'Huurcommissie Amsterdam', \"Corte d'Appello di Torino (Hof van Beroep)\", 'Kantongerecht Veendam', 'Rechtbank van koophandel Oudenaarde', 'Suprema Tribunal de Justica', 'Niedersächsisches Oberverwaltungsgericht', 'GS Friesland', 'College van Arbiters', 'Raad van State (België)', 'Nederlandse Mededingingsautoriteit', 'Geschillencommissie Nederlandse Universiteiten', 'Mobiele krijgsraad buitenland landmacht', 'Kantongerecht Rotterdam', 'Tribunale di Teramo', 'Obvodni Soud pro Prahu (district court)', 'Kantongerecht Amsterdam', 'GS Gelderland', 'Oberste Gerichtshof', 'Dioikitiko Protodikeio Athinas', 'Centraal College Tuchtrechtspraak', 'Hof van Justitie van de Nederlandse Antillen', 'Regeringsratten (supreme administrative court)', 'Hof van beroep Antwerpen', 'Raad voor Strafrechtstoepassing en Jeugdbescherming ', 'Parket bij de Hoge Raad', 'Klachtencommissie Patiëntenvertrouwenspersonen', 'Bureau voor de Industriële Eigendom', 'Finanzgericht Münster', 'Rechtbank Amsterdam', 'Kantongerecht Sommelsdijk', 'Tribunale di Larino', \"Bezwarencommissie 's-Hertogenbosch WROM\", 'Kantongerecht Ridderkerk', 'Afdeling van beroep Raad voor het kwekersrecht', \"Regionaal Medisch Tuchtcollege 's Gravenhage\", 'Centrale Grondkamer', 'B&W Diemen', 'Kantongerecht Gulpen', 'Vereniging voor de handel in landbouwzaaizaden', 'Hoog Militair Gerechtshof', 'Grondkamer Limburg', 'Raad van Toezicht Utrecht', 'Vestre Landsret (Gerechtshof West Denemarken)', 'Commissie van beroep CAO-Eindhoven', 'Minister van Binnenlandse Zaken en Koninkrijksaangelegenheden', 'Advocaat-Generaal Hof van Justitie van de Europese Gemeenschappen', 'Scheidsgerecht vermogensaanwasbelasting Leeuwarden', 'Wojewodzki Sad Administracyjny w Warszawie (Warschau) (administratieve rechtbank)', 'Kantongerecht Tiel', 'Kantongerecht Haarlem', 'Commissie van beroep protestants-christelijk onderwijs', 'Kantongerecht Lemmer', 'Arbitrage-instituut bouwkunst', 'Juzgado de lo Mercantil Barcelona (Handelsrechtbank)', 'Unabhängige Verwaltungssenat des Landes Oberösterreich', 'Rechtbank van eerste aanleg Dendermonde', 'Kantongerecht Harderwijk', 'Centraal Medisch Tuchtcollege', 'Kantongerecht Schoonhoven', 'Kantongerecht Almelo', 'Reclameraad', 'Raad van Toezicht op het Schadeverzekeringsbedrijf', 'Commissie voor de Rechtspraak Ziekenfondsen', 'Kamer van Toezicht over de notarissen en kandidaat-notarissen Middelburg', 'Kantongerecht Arnhem', 'Kantongerecht Sneek', 'College van Toezicht NVRA Arnhem', 'Raad van Uitvoering CAO voor Dagbladjournalisten', 'Kantongerecht Zwolle', 'Verwaltungsgerichtshof Oostenrijk', 'KB', 'Bundesverwaltungsgericht', 'Commissie van beroep Katholieke Hogeschool Tilburg', 'Comité voor de Rechten van de Mens', 'Arbitrage Garantie-instituut woningbouw', 'Kantongerecht Oostburg', 'Bindend advies', \"Commissie voor bezwaar Raad voor Rechtsbijstand 's-Hertogenbosch\", 'Kantongerecht Eindhoven', 'Kantongerecht Maastricht', 'Arbitraal College van de Geschillencommissie Reizen', 'Regionaal Tuchtcollege voor de Gezondheidszorg Zwolle', 'Commissie van beroep voor het voortgezet onderwijs van de verenigde bijzondere scholen', 'Ambtenarengerecht Haarlem', 'Supremo Tribunal Administrativo', 'Nederlands arbitrage-instituut', 'Veterinair Tuchtcollege', 'Ambtenarengerecht Zwolle', \"Bijzonder Hof 's-Gravenhage\", 'Kantongerecht Hoofddorp', 'Commissie van beroep Amsterdam (Woonruimtewet)', 'Geschillencommissie openbare nutsbedrijven', 'College van Beroep voor het hoger onderwijs', 'Kantongerecht Tholen', 'Tribunale di Gela', 'Kantongerecht Hoorn', 'Medisch Tuchtcollege Eindhoven', 'Sector kanton Rechtbank Roermond', 'Ambtenarengerecht Rotterdam', 'Commissie van geschillen Koninklijk Instituut Van Ingenieurs', \"Cour d'appel de Grenoble\", 'Finanzgericht München', 'Tribunaal Utrecht', 'Kamer van Toezicht over de notarissen en kandidaat-notarissen Almelo', 'Kantongerecht Sliedrecht', 'Hof van Cassatie', 'Landgericht Wurzberg', 'Gerechtshof Den Haag', 'Kantongerecht Sittard', 'Belgisch Centrum voor Arbitrage en Mediatie', \"Conseil d'Etat\", 'Gerecht in eerste aanleg van Sint Maarten', 'Arbitragecommissie Koninklijke Nederlandse Voetbalbond', 'Geschillencommissie schadeverzekeraars', 'Huurcommissie Leeuwarden', 'Adviescommissie Fondsenreglement', 'Advocaat-Generaal Hof van Justitie (EGKS)', 'Kantongerecht Den Helder', 'HvJ Nieuw-Guinea', 'Huurcommissie Sittard', 'Rechtbank van koophandel Dendermonde', \"Cour d'Appel de Versailles\", 'Labour Court Dublin', 'Rechtbank Almelo', \"Raad voor het Rechtsherstel 's-Gravenhage\", 'Dioikitiko Protodikeio Ioanninon', 'Advocaat-Generaal Benelux Gerechtshof', 'Hof van Justitie van de Europese vrijhandelsassociatie', 'Gerecht in Eerste Aanleg Bonaire', 'Arbitragecommissie Gesubsidieerd Toneel', 'Bestuurscommissie beroepszaken Zuid-Holland', 'Kantongerecht Purmerend', 'Arbitrage-instituut bouwstoffen', 'Tribunal de Commerce de Nancy', 'Toezichthoudende Autoriteit van de Europese Vrijhandelsassociatie', 'Commissie van Toezicht Ver. Financieringsondernemingen', 'Kantongerecht Tilburg', 'Raad van Beroep voor Belastingzaken (Nederlandse Antillen en Aruba)', 'Tribunale civile e penale di Palermo', 'Rechtbank Middelburg', 'Raad van Toezicht NVRA Arnhem', 'Veterinair Beroepscollege', 'Tribunal administratif de Caen', 'Huurcommissie Rotterdam', 'Kantongerecht Gouda', 'GS Zuid-Holland', 'Commissie voor beroepschriften gemeente Weesp', 'Geschillencommissie ziekenfondsen-fysiotherapeuten', 'Tuchtrechter Prijzen Rotterdam', 'Europese Commissie', 'Octrooiraad, bijzondere afdeling', 'Klachtencommissie Beursbedrijf', 'Stichting Geschillenoplossing Organisatie en Automatisering', 'Geschillencommissie recreatie', 'Tribunale di Voghera', 'Dutch Securities Institute', 'GS Noord-Holland', 'Kantongerecht Steenwijk', 'Advies- en arbitragecommissie rijksdienst', 'Landesgericht Innsbruck', 'Unabhängige Finanzsenat', 'Lietuvos Vyriausiasis Administracinis Teismas (hoogste administratieve rechtbank)', \"Kamer van Toezicht over de notarissen en kandidaat-notarissen 's-Gravenhage\", 'Verwaltungsgericht Schwerin', 'Rechtbank van koophandel Verviers', 'Geschillencommissie Waarderingskamer', 'Unabhängiger Verwaltungssenat im Land Niederösterreich', 'Scheidsgerecht vermogensaanwasbelasting Centrale Kamer', 'Vereniging de Ned. huiden- en lederbeurzen', 'Verbondscommissie samenloop', 'Tribunal departemental des pensions militaires de Morbihan', 'Kantongerecht Weert', 'Tribunal fédéral Suisse / Bundesgericht', 'Rechtbank Brussel', 'Geschillencommissie reizen ANVR', 'Rechtbank Maastricht', 'Advocaat-Generaal Hof van Justitie van de Europese Unie', 'Employment Tribunal (Leeds)', 'Hof van beroep Gent', 'Kantongerecht Emmen', 'Huurcommissie Arnhem', 'Scheidsgerecht rechtspositieregeling voor medewerkers gereformeerde kerken in Nederland', 'Hof van Justitie van de Europese Economische Gemeenschappen', 'Regionaal Medisch Tuchtcollege Amsterdam (v/h Medisch tuchtcollege Amsterdam)', 'Zeekrijgsraad Soerabaja', 'Commissie van beroep KBO Haarlem', 'Irish High Court of Justice', 'Grondkamer Overijssel', 'Kantongerecht Heerlen', 'Patents Court London', 'Rechtbank Den Haag', 'Commissie van Beroep erkenning en registratie van Medische specialisten', 'Klachtencommissie Meerkanten', 'Arbitragecie.', 'Huurcommissie Dordrecht', 'Rechtbank van koophandel Kortrijk', 'Kantongerecht Amersfoort', 'Rechtbank Turnhout', 'Szombathelyi Varosi Birosag (rechtbank in eerste aanleg)', 'Tribunal Supremo', 'Panel World Trade Organisation', 'Oberlandesgericht München (gerechtshof)', 'Arbeitsgericht München', 'Huurcommissie Beetsterzwaag', 'Kantongerecht Brielle', 'Octrooiraad, aanvraagafdeling', 'Adviescommissie grondrechten en functie-oefening ambtenaren (AGFA)', 'Bayerisches Landessozialgericht', 'High Court of Justice, Chancery Division', 'Raad van beroep Arnhem', 'Klachtencommissie GGz Eindhoven', 'Comité van graanhandelaren Rotterdam', 'RvB Directe Belastingen Roermond', 'Commissie van beroep basis- en buitengewoon onderwijs van de verenigde bijzondere scholen', 'Hof van beroep Bergen', 'Regionaal Directeur Arbeidsvoorziening Regio Noord-Oost Brabant', 'Kamer van Toezicht over de notarissen en kandidaat-notarissen Rotterdam', 'The Social Security Commissioner', 'Tribunale Amministrativo Regionale del Lazio', 'Stichting Klachten en Geschillen Zorgverzekeringen', 'Schattingscommissie Incourante Fondsen', 'Tribunal Superior de Justicia de Castilla Y León', 'Vereniging de Rotterdamse korenbeurs', 'Ambtenarengerecht Groningen', 'Ambtenarengerecht Amsterdam', 'Commissie van beroep protestants-christelijk voortgezet onderwijs', 'Kantongerecht Zaandam', 'College van Beroep Studiefinanciering', 'Kantongerecht Terborg', 'Rechtbank Arnhem', 'Tribunal de Grande Instance de Brive', 'Vereniging Amsterdamse graanhandel', 'Algemene Raad van de Orde van Advocaten', 'Verwaltungsgericht Aachen', 'B&W Amsterdam', 'Juzgado de lo Social de Madrid', 'Rechtbank van eerste aanleg Hasselt', 'Hogsta Domstolen (supreme court)', 'College van Arbiters Koninklijke Nederlandse Voetbalbond', 'Huurcommissie Maastricht', 'Bayerisches Verwaltungsgericht München', 'Rechtbank van koophandel Mechelen', 'Kantongerecht Deventer', 'Commissie van beroep voor het voortgezet onderwijs', 'Oberverwaltungsgericht Rheinland-Pfalz (administratief hof)', 'Huurcommissie Utrecht', 'Amtsgericht Flensburg (kantongerecht)', \"College medisch tuchtrecht 's-Gravenhage\", 'United States District Court New Jersey', 'Kantongerecht Woerden', 'Kantongerecht Kampen', 'College voor zorgverzekeringen', 'Raad van toezicht verzekeringen', 'Vergabekontrollsenat des Landes Wien (commissie van toezicht op de aanbestedingen)', \"Regionaal Directeur Arbeidsvoorziening 's-Hertogenbosch\", \"Cour d' Appel d' Angers\", 'Centrale commissie van beroep katholiek voortgezet onderwijs', 'Kamer van beroep van de centrale commissie voor de Rijnvaart', 'Verwaltungsgerichtshof Baden-Württemberg', 'Kantongerecht Bergen op Zoom', 'Commissie van beroep klachtenregeling WROM', 'Kantongerecht Paramaribo', 'Gerecht in Eerste Aanleg van Aruba', \"Rechtbank 's-Gravenhage\", 'Kantongerecht Utrecht', 'Codecommissie Stichting Code Geneesmiddelenreclame', 'Korsholms tingsrätt (rechtbank)', 'Committee against Torture', 'Raad van beroep Roermond', 'Rechtbank van eerste aanleg Brugge', 'Sozialgericht Berlin', 'Landgericht München', 'Architectenraad', 'Scheidsgerecht Vereeniging ter bevordering van de belangen des boekhandels', 'House of Lords', 'Landesgericht Klagenfurt', 'Kantongerecht Middelburg', 'College van Beroep voor de examens UvA', 'Huurcommissie Tilburg', 'Kantongerecht Zuidbroek', 'Tribunale di Civitavecchia', 'Kamer van Toezicht over de notarissen en kandidaat-notarissen Arnhem', 'Kantongerecht Elst', 'GS Utrecht', 'Tribunal de Police de Neufchateau', 'Tribunale Amministrativo Regionale per la Sicilia', 'Minister van SoZa', 'Arbitragecommissie CAO-toneelkunstenaars', 'Huurcommissie Breda', 'RvB inzake het toezicht op de octrooigemachtigden', 'Geschillencommissie ziekenhuizen', 'Appelraad Batavia', 'Octrooiraad', 'Scheidsgerecht vermogensaanwasbelasting Arnhem', 'Rechtbank Zierikzee', 'Landraad Soerabaja', 'Economisch Hof', 'Huurcommissie Venlo', 'Oberlandesgericht Rostock (gerechtshof)', 'Arbeidsrechtbank Brussel', 'Cour de Cassation', 'Kantongerecht Wageningen', 'Regionaal Tuchtcollege voor de Gezondheidszorg Groningen', \"Gerechtshof 's-Hertogenbosch\", 'Rechtbank Groningen', 'Kantongerecht Nijmegen', \"Rechtbank 's-Hertogenbosch\", 'Kantongerecht Geldermalsen', 'Royal Court of Jersey', 'Vereeniging voor den koffiehandel', 'Regionaal Directeur Arbeidsvoorziening Rijnmond', 'Huurcommissie Roermond', 'Raad van beroep voor het toezicht op de architectenstand', \"Cour d'Appel De Rennes\", 'Audiencia Provincial de Barcelona (provincierechtbank)', 'Raad van beroep Alkmaar', 'Tribunale Genova', 'Tribunale di Milano', 'Kantongerecht Breukelen-Nijenrode', 'Landesgericht für Zivilrechtssachen Wien', 'Lokale advies- en arbitragecommissie t.b.v. gemeenten, provincies, waterschappen en gem. regelingen', 'VAT and Duties Tribunal', 'Arbeidshof Brussel', 'Rechtbank van koophandel Gent', 'Kamer van Toezicht over de notarissen en kandidaat-notarissen Breda', 'Commissie van beroep HBO', 'B&W Haarlemmermeer', 'Commissie van beroep protestants-christelijk kleuter-, basis- en buitengewoon onderwijs', 'Scheidsgerecht Amsterdamse graanhandel', 'Rechtbank Roermond', 'Hof van Justitie van Suriname', 'Raad van beroep Groningen', 'Monomeles Protodikeio Thessalonikis (rechtbank van eerste aanleg)', 'Ufficio del Giudice di Pace di Bitonto', 'Bayerischer Verwaltungsgerichtshof', 'Rechtbank van eerste aanleg Luik', 'Rechtbank van koophandel Turnhout', 'Kantongerecht Schiedam', 'Medisch Tuchtcollege Zwolle', \"Scheidsgerecht vermogensaanwasbelasting 's-Gravenhage\", 'GS Drenthe', 'College van Beroep Erecode voor Ondernemers in het Bouwbedrijf', 'Wipo Arbitration and Mediation Center', 'Beklagcommissie Penitentiaire Inrichtingen Haaglanden', 'Kantongerecht Ommen', 'Ambtenarengerecht Roermond', 'Benelux-Merkenbureau', 'Landrechter Soerabaja', 'Regionaal Directeur Arbeidsvoorziening Gelderland-WMO', 'Tribunale di Forli', 'Arbitraal vonnis', 'Rb. Hollandia', 'Fovarosi Birosag (rechtbank in eerste aanleg)', 'Tribunale di Viterbo', 'Beroepscommissie WTZKV', 'Juzgado de lo Social Donostia-San Sebastian', 'Oberlandesgericht Celle (gerechtshof)', 'Rovaniemen hallinto-oikeus (administrative court)', 'Commissione tributaria di primo grado di Trento', 'Oberste Patent- und Markensenat', 'GS Zeeland', 'London Tribunal Centre', 'Onderwijsraad', 'Rechtbank Zwolle', 'Kantongerecht Zierikzee', 'Rechtbank Tiel', 'Cie. van ber. voor het kath. kleuter-, basis- en buitengew. onderw. in de bisdommen Gron. en Utrecht', 'Rechtbank van koophandel Namen', 'Nationale ombudsman', \"Cour d'appel de Paris\", 'Arbeidshof Luik', 'Internationaal Gerechtshof', 'Commissie bezwaar- en beroepschriften Den Bosch', 'Commissie van Toezicht Erecode voor Ondernemers in het Bouwbedrijf', 'Commissie van beroep kath. kleuter-, basis- en buitengewoon onderw. bisdommen Haarlem en Rotterdam', 'Bijzonder Hof Amsterdam', 'Rechtbank van koophandel Brussel', 'Beroepscommissie Rotterdam', 'Finanzgericht Köln', 'Scheidsgerecht voor het Bankbedrijf', 'Raad van Justitie Semarang', 'Magyar Koztarsasag Legfelsobb Birosaga (Hooggerechtshof, tot 1-1-2012)', 'Benelux Gerechtshof', 'Rechtbank van koophandel Antwerpen', 'Rechtbank Haarlem', 'Kamer van Toezicht over de notarissen en kandidaat-notarissen Roermond', 'Hof van Justitie van de Europese Gemeenschappen', 'College medisch tuchtrecht Amsterdam', 'Universitaire kiesraad', 'Rechtbank Alkmaar', 'Commissie van beroep gereformeerd voortgezet onderwijs', 'Rechtbank van eerste aanleg Gent', 'Bundesverfassungsgericht', 'Landrechter Manokwari', 'Rechtbank van Koophandel Brussel', 'Rechtbank van eerste aanleg Kortrijk', 'Directeur-Generaal van de Nederlandse mededingingsautoriteit', 'Huurcommissie Assen', 'Octrooiraad, afdeling van beroep', 'Klachtencommissie De Meren', 'Rechtbank Assen', 'Regionaal Tuchtcollege voor de Gezondheidszorg Amsterdam', 'Korkein oikeus (supreme court)', 'Amtsgericht Dresden (kantongerecht)', 'Huurcommissie Harderwijk', 'Tuchtrechter Voedselvoorziening Leeuwarden', \"Symvoulio Tis Epikrateias Thima d' (deze niet gebruiken)\", 'Kantongerecht Groningen', 'Kantongerecht Helmond', 'Raad van Toezicht NVRA Rotterdam', 'Raad van arbitrage voor metaalnijverheid en -handel', 'Arbeidsrechtbank Gent', 'Raad van Toezicht Orde van Octrooigemachtigden', 'Hof van beroep Brussel', \"Corte d'Appello di Cagliari (Hof van Beroep)\", \"Permanente Krijgsraad voor de zeemacht 's-Gravenhage\", 'Hovratten for Ovre Norrland (Hof van Beroep)', 'Giudice di pace di Monselice', 'Audiencia Provincial de Madrid (provincierechtbank)', 'College van toezicht Amsterdam op de leden van de Nederlandse vereniging van rechtskundige adviseurs', 'Kantongerecht Heerenveen', 'Kantongerecht Dordrecht', 'Minister van Verkeer en Waterstaat', 'Kantongerecht Leiden', 'Kantongerecht Oud-Beijerland', 'Kantongerecht Beetsterzwaag', 'High Court of Justice Leeds District Registry', 'Comité van deskundigen ex art. 25 Europees Sociaal Handvest', 'Rechtbank van koophandel Hasselt', 'Geschillencommissie Fusiegedragsregels SER', 'Bundessozialgericht', 'RvJ Batavia', 'Scheidsgerecht vereniging van Nederlandse exporteurs van granen, zaden en peulvruchten', 'Minister van Financiën', 'Verwaltungsgericht Köln', 'Commissie van beroep van scholen van gereformeerde belijdenis', 'Kantongerecht Meppel', 'Comité van ministers van de raad van Europa', 'Tuchtcommissie DSI', 'Raad van beroep Amsterdam', 'Minister van Volkshuisvesting, Ruimtelijke Ordening en Milieubeheer', 'Kantongerecht Delft', 'Minister van VROM', 'Landgericht Hagen', 'Gerecht voor Ambtenarenzaken van de Europese Unie', 'Hoge Raad', 'Rechtbank Heerenveen', 'Oberlandesgericht Stuttgart (gerechtshof)', 'Krijgsraad Arnhem', 'Geschillencommissie Arbodiensten', 'Gemeenschappelijk Hof van Justitie van de Nederlandse Antillen en Aruba', 'Ambtenarengerecht Arnhem', 'Medisch Tuchtcollege Groningen', 'Raad van Bestuur CWI', \"Kantongerecht 's-Hertogenbosch\", 'Finanzgericht des Landes Brandenburg', 'Kantongerecht Gorinchem', 'Raad van Arbitrage voor de Bouw', 'Landgericht Wiesbaden', 'Lukea Tingsratten (rechtbank)', 'Oberlandesgericht Dusseldorf (gerechtshof)', 'Huurcommissie Schiedam', 'Rechtbank Breda', 'Komarom-Esztergom Megyei Birosag (regionale rechtbank)', 'Advocaat-Generaal Hof van Justitie van de Europese Economische Gemeenschappen', 'Rechtbank Rotterdam', 'Commissie van Toezicht Federatie van Financiële Planners', 'Gericht Erster Instanz Eupen', \"Gerechtshof 's-Gravenhage\", 'Raad van de gemeente Woudenberg', \"Scheidsgerecht vermogensaanwasbelasting 's-Hertogenbosch\", 'Reclame Code Commissie', 'Amtsgericht Breisach (kantongerecht)', 'Geschillencommissie bankzaken', 'GS Noord-Brabant', 'Bestuurscommissie beroepszaken sociale zekerheid Overijssel', 'Tweede Kamer der staten-generaal op voorstel van de commissie voor de verzoekschriften', 'Scheidsgerecht vermogensaanwasbelasting Amsterdam', 'Retten i Horsholm (Hof van Horsholm)', 'Klachtencommissie GGz Nijmegen', 'Gerecht in eerste aanleg van Curaçao', 'Keuringsraad KOAG/KAG', 'Commissie van beroep Katholieke Universiteit Nijmegen', \"Commissie bezwaar en beroep Raad voor Rechtsbijstand 's-Gravenhage\", 'Sociaal Economische Raad (Bestuurskamer)', 'High Court of Justice', 'Europese Commissie voor de rechten van de mens', 'Kantongerecht Roermond', 'Rechtbank Zwolle-Lelystad', 'Verwaltungsgericht Darmstadt', 'Supreme Court of Ireland', 'Minister van Volksgezondheid, Welzijn en Sport', 'Gemeenschappelijk Hof van Justitie van Aruba, Curaçao, Sint Maarten en van Bonaire, Sint Eustatius en Saba', 'Juzgado de lo Social Unico de Algeciras', 'Finanzgericht Nedersaksen', 'Finanzgericht Hamburg', 'Commissie van beroep vereniging HTS-en Nederland', 'Klachtencommissie GGz Noord-Holland Noord/P.Z. Duin en Bosch', 'Raad van Discipline Amsterdam', 'Centraal Tuchtcollege voor de Gezondheidszorg', 'Europees Hof voor de Rechten van de Mens', 'Kantongerecht Assen', 'Ufficio del giudice di pace te Genova Voltri', 'Beroepscommissie Stichting Advies in geschillen- en klachtenbehandeling ziektekostenverzekeringen', 'Hof van Discipline', 'College voor de Rechten van de Mens', 'Europees Octrooibureau', 'Commissie voor de beroepschriften Leiden', 'Vereniging van Nederlandse exporteurs van aardappelen', 'Onafhankelijke Post en Telecommunicatie Autoriteit', 'Centraal Distributiegerecht', 'Commissione tributaria provinciale di Napoli', 'Verwaltungsgericht Chemnitz', \"Kantongerecht 's-Gravenhage\", 'Kammarratten i Sundsval (administrative court of appeal)', 'Cour administrative', 'Geschillenkamer GS Gelderland', 'Bundesarbeitsgericht', 'Tribunal Superior de Justicia de Cantabria', 'Commissie van beroep Studiefinanciering', 'Zeekrijgsraad Willemsoord', 'Court of Appeal', 'College medisch tuchtrecht Eindhoven', 'Tingsrätt Stockholm (rechtbank)', 'Efeteio Patron', 'Gerechtshof Arnhem', 'RvJ Soerabaja', 'GS Flevoland', 'Cie van ber. lager- en kleuteronderw. voor scholen aangesloten bij het land. verb. gereform. scholen', 'Rechtbank Winschoten', 'Particuliere arbitrage', 'Kantongerecht Goes', 'DSI - Klachtencommissie', 'Raad van beroep Leiden', 'Tribunale di Genova', 'College van Beroep Stichting Reclame Code', 'Directeur Garantie-instituut woningbouw', 'Raad van beroep Zwolle', 'Raad voor het Rechtsherstel Amsterdam', \"Distributiegerecht 's-Gravenhage\", 'Kantongerecht Winschoten', 'Huurcommissie Zwolle', 'Kantongerecht Bolsward', 'Ziekenfondsraad', \"Cour d'Appel de Poitiers\", 'Finanzgericht Düsseldorf', 'Tariefcommissie', 'Kantongerecht Zutphen', 'Rechtbank van eerste aanleg Antwerpen', 'Korkein Hallinto-oikeus (supreme administrative court)', 'Hof van Justitie (EGKS)', 'Raad van beroep Utrecht', 'Commissie Gelijke Behandeling', 'Bijzonder Hof Arnhem', 'Tribunal des Affaires de Sécurité Sociale de Longwy (rechtbank sociale zekerheid)', 'Arrondissementskrijgsraad Arnhem', 'Symvoulio tis Epikrateias', 'Verwaltungsgericht Stuttgart (administratieve rechtbank)', 'Commissie van Beroep Stichting Code Geneesmiddelenreclame', 'Tribunale di Treviso', 'Grondkamer Zuid-Holland', 'Raad van beroep Breda', 'Rechtbank Antwerpen', 'Tribunale Ordinario di Torino', 'Commissione Tributaria Regionale di Firenze', 'Commissie van beroep algemene besturenbond beroepsonderwijs', 'Gerecht in Eerste Aanleg van de Nederlandse Antillen', 'Raad van State', 'Kantongerecht Enschede', 'Gerechtshof Amsterdam', 'GS Limburg', 'Commissie van beroep katholieke kleuter-, basis- en buitengewoon onderwijs in Zuid-Nederland', 'Hof van beroep Luik', 'Gouverneur van de Nederlandse Antillen', 'Regionaal Directeur Arbeidsvoorziening Regio Amsterdam', 'Huurcommissie Eindhoven', 'College medisch tuchtrecht Zwolle', 'Appellate Body World Trade Organisation', 'Kantongerecht Appingedam', 'Arbitragehof van Tsjechië', 'Kantongerecht Groenlo', 'Regionaal Directeur Arbeidsvoorziening', 'Kantongerecht Medemblik', 'Scheidsgerecht CAO levensmiddelenbedrijf', 'Rechtbank Utrecht', 'Kantongerecht Alphen aan den Rijn', \"Raad van Discipline 's-Gravenhage\", 'Hanseatisches Oberlandesgericht Bremen (gerechtshof)', 'Handelsgericht Wien', 'Bindend advies Garantie-instituut woningbouw', 'Bankruptcy court, district of New Jersey, Trenton US', 'Krijgsraad', \"Raad voor Rechtsbijstand 's-Gravenhage\", 'Kantongerecht Leeuwarden', 'Kamer van Toezicht over de notarissen en kandidaat-notarissen Maastricht', 'Huurcommissie Heerlen', 'Regionaal Tuchtcollege voor de Gezondheidszorg Eindhoven', 'Bijzondere Raad van Cassatie', 'Klachtencommissie stichting rechtshulp Almelo', 'Sozialgericht Köln', \"Raad van beroep 's-Hertogenbosch\", 'the Special Commissioners', 'Kantongerecht Hoogeveen', 'Tribunal Superior de Justicia del Pais Vasco', 'Rechtbank Dordrecht', 'Utlänningsnämnden (Aliens Appeals Board)', 'Gerechtshof Leeuwarden', 'Hessische Finanzgericht', 'Handens tingsrätt (rechtbank)', \"Cour administrative d'appel de Douai\", 'Kantongerecht Breda', \"Ambtenarengerecht 's-Hertogenbosch\", 'Bundesfinanzhof', 'Bundesgerichtshof', 'Kantongerecht Boxmeer']\n"
     ]
    },
    {
     "data": {
      "text/plain": "                                               name  type level country  \\\n0                            Codecommissie KOAG/KAG  NULL  NULL    NULL   \n1                   Ambtenarengerecht 's-Gravenhage  NULL  NULL    NULL   \n2  Vaste Commissie voor het Boekenuitgeverijbedrijf  NULL  NULL    NULL   \n3                   Kamer voor Gerechtsdeurwaarders  NULL  NULL    NULL   \n4  Regionaal Directeur Arbeidsvoorziening Dordrecht  NULL  NULL    NULL   \n\n  language jurisdiction law_area authority_level  \n0     NULL         NULL     NULL            NULL  \n1     NULL         NULL     NULL            NULL  \n2     NULL         NULL     NULL            NULL  \n3     NULL         NULL     NULL            NULL  \n4     NULL         NULL     NULL            NULL  ",
      "text/html": "<div>\n<style scoped>\n    .dataframe tbody tr th:only-of-type {\n        vertical-align: middle;\n    }\n\n    .dataframe tbody tr th {\n        vertical-align: top;\n    }\n\n    .dataframe thead th {\n        text-align: right;\n    }\n</style>\n<table border=\"1\" class=\"dataframe\">\n  <thead>\n    <tr style=\"text-align: right;\">\n      <th></th>\n      <th>name</th>\n      <th>type</th>\n      <th>level</th>\n      <th>country</th>\n      <th>language</th>\n      <th>jurisdiction</th>\n      <th>law_area</th>\n      <th>authority_level</th>\n    </tr>\n  </thead>\n  <tbody>\n    <tr>\n      <th>0</th>\n      <td>Codecommissie KOAG/KAG</td>\n      <td>NULL</td>\n      <td>NULL</td>\n      <td>NULL</td>\n      <td>NULL</td>\n      <td>NULL</td>\n      <td>NULL</td>\n      <td>NULL</td>\n    </tr>\n    <tr>\n      <th>1</th>\n      <td>Ambtenarengerecht 's-Gravenhage</td>\n      <td>NULL</td>\n      <td>NULL</td>\n      <td>NULL</td>\n      <td>NULL</td>\n      <td>NULL</td>\n      <td>NULL</td>\n      <td>NULL</td>\n    </tr>\n    <tr>\n      <th>2</th>\n      <td>Vaste Commissie voor het Boekenuitgeverijbedrijf</td>\n      <td>NULL</td>\n      <td>NULL</td>\n      <td>NULL</td>\n      <td>NULL</td>\n      <td>NULL</td>\n      <td>NULL</td>\n      <td>NULL</td>\n    </tr>\n    <tr>\n      <th>3</th>\n      <td>Kamer voor Gerechtsdeurwaarders</td>\n      <td>NULL</td>\n      <td>NULL</td>\n      <td>NULL</td>\n      <td>NULL</td>\n      <td>NULL</td>\n      <td>NULL</td>\n      <td>NULL</td>\n    </tr>\n    <tr>\n      <th>4</th>\n      <td>Regionaal Directeur Arbeidsvoorziening Dordrecht</td>\n      <td>NULL</td>\n      <td>NULL</td>\n      <td>NULL</td>\n      <td>NULL</td>\n      <td>NULL</td>\n      <td>NULL</td>\n      <td>NULL</td>\n    </tr>\n  </tbody>\n</table>\n</div>"
     },
     "execution_count": 15,
     "metadata": {},
     "output_type": "execute_result"
    }
   ],
   "source": [
    "court = pd.DataFrame()\n",
    "courts_list = list(set(df_case_raw.authority.unique().tolist() + df_case_opinion_raw.authority.unique().tolist() + df_li_cases_raw.authority.unique().tolist()))\n",
    "print(courts_list)\n",
    "courts_list = [i.replace('\"','-') for i in courts_list]\n",
    "print(courts_list)\n",
    "courts_list.extend(['Other'])\n",
    "\n",
    "court['name'] = clean_strings(courts_list)\n",
    "court.loc[:,'type'] = 'NULL'\n",
    "court.loc[:,'level'] = 'NULL'\n",
    "court.loc[:,'country'] = 'NULL'\n",
    "court.loc[:,'language'] = 'NULL'\n",
    "court.loc[:,'jurisdiction'] = 'NULL'\n",
    "court.loc[:,'law_area'] = 'NULL'\n",
    "court.loc[:,'authority_level'] = 'NULL'\n",
    "\n",
    "court.head()"
   ],
   "metadata": {
    "collapsed": false,
    "pycharm": {
     "name": "#%%\n"
    }
   }
  },
  {
   "cell_type": "markdown",
   "source": [
    "#### Cases only"
   ],
   "metadata": {
    "collapsed": false,
    "pycharm": {
     "name": "#%% md\n"
    }
   }
  },
  {
   "cell_type": "code",
   "execution_count": 28,
   "outputs": [
    {
     "data": {
      "text/plain": "         date description language venue abstract procedure_type lodge_date  \\\n0  1913-03-31        NULL       NL  NULL     NULL           NULL       NULL   \n1  1913-02-28        NULL       NL  NULL     NULL           NULL       NULL   \n2  1913-03-17        NULL       NL  NULL     NULL           NULL       NULL   \n3  1913-02-28        NULL       NL  NULL     NULL           NULL       NULL   \n4  1913-03-10        NULL       NL  NULL     NULL           NULL       NULL   \n\n                                                link                   ecli  \\\n0  \\n        \\n          <rdf:list xmlns:rdf=\"htt...  ECLI:NL:GHAMS:1913:15   \n1  \\n        \\n          <rdf:list xmlns:rdf=\"htt...  ECLI:NL:GHAMS:1913:28   \n2  \\n        \\n          <rdf:list xmlns:rdf=\"htt...  ECLI:NL:GHAMS:1913:19   \n3  \\n        \\n          <rdf:list xmlns:rdf=\"htt...   ECLI:NL:GHAMS:1913:4   \n4  \\n        \\n          <rdf:list xmlns:rdf=\"htt...  ECLI:NL:GHAMS:1913:20   \n\n  country subject                  court  name    doctype  \n0      NL    NULL  Gerechtshof Amsterdam  NULL  uitspraak  \n1      NL    NULL  Gerechtshof Amsterdam  NULL  uitspraak  \n2      NL    NULL  Gerechtshof Amsterdam  NULL  uitspraak  \n3      NL    NULL  Gerechtshof Amsterdam  NULL  uitspraak  \n4      NL    NULL  Gerechtshof Amsterdam  NULL  uitspraak  ",
      "text/html": "<div>\n<style scoped>\n    .dataframe tbody tr th:only-of-type {\n        vertical-align: middle;\n    }\n\n    .dataframe tbody tr th {\n        vertical-align: top;\n    }\n\n    .dataframe thead th {\n        text-align: right;\n    }\n</style>\n<table border=\"1\" class=\"dataframe\">\n  <thead>\n    <tr style=\"text-align: right;\">\n      <th></th>\n      <th>date</th>\n      <th>description</th>\n      <th>language</th>\n      <th>venue</th>\n      <th>abstract</th>\n      <th>procedure_type</th>\n      <th>lodge_date</th>\n      <th>link</th>\n      <th>ecli</th>\n      <th>country</th>\n      <th>subject</th>\n      <th>court</th>\n      <th>name</th>\n      <th>doctype</th>\n    </tr>\n  </thead>\n  <tbody>\n    <tr>\n      <th>0</th>\n      <td>1913-03-31</td>\n      <td>NULL</td>\n      <td>NL</td>\n      <td>NULL</td>\n      <td>NULL</td>\n      <td>NULL</td>\n      <td>NULL</td>\n      <td>\\n        \\n          &lt;rdf:list xmlns:rdf=\"htt...</td>\n      <td>ECLI:NL:GHAMS:1913:15</td>\n      <td>NL</td>\n      <td>NULL</td>\n      <td>Gerechtshof Amsterdam</td>\n      <td>NULL</td>\n      <td>uitspraak</td>\n    </tr>\n    <tr>\n      <th>1</th>\n      <td>1913-02-28</td>\n      <td>NULL</td>\n      <td>NL</td>\n      <td>NULL</td>\n      <td>NULL</td>\n      <td>NULL</td>\n      <td>NULL</td>\n      <td>\\n        \\n          &lt;rdf:list xmlns:rdf=\"htt...</td>\n      <td>ECLI:NL:GHAMS:1913:28</td>\n      <td>NL</td>\n      <td>NULL</td>\n      <td>Gerechtshof Amsterdam</td>\n      <td>NULL</td>\n      <td>uitspraak</td>\n    </tr>\n    <tr>\n      <th>2</th>\n      <td>1913-03-17</td>\n      <td>NULL</td>\n      <td>NL</td>\n      <td>NULL</td>\n      <td>NULL</td>\n      <td>NULL</td>\n      <td>NULL</td>\n      <td>\\n        \\n          &lt;rdf:list xmlns:rdf=\"htt...</td>\n      <td>ECLI:NL:GHAMS:1913:19</td>\n      <td>NL</td>\n      <td>NULL</td>\n      <td>Gerechtshof Amsterdam</td>\n      <td>NULL</td>\n      <td>uitspraak</td>\n    </tr>\n    <tr>\n      <th>3</th>\n      <td>1913-02-28</td>\n      <td>NULL</td>\n      <td>NL</td>\n      <td>NULL</td>\n      <td>NULL</td>\n      <td>NULL</td>\n      <td>NULL</td>\n      <td>\\n        \\n          &lt;rdf:list xmlns:rdf=\"htt...</td>\n      <td>ECLI:NL:GHAMS:1913:4</td>\n      <td>NL</td>\n      <td>NULL</td>\n      <td>Gerechtshof Amsterdam</td>\n      <td>NULL</td>\n      <td>uitspraak</td>\n    </tr>\n    <tr>\n      <th>4</th>\n      <td>1913-03-10</td>\n      <td>NULL</td>\n      <td>NL</td>\n      <td>NULL</td>\n      <td>NULL</td>\n      <td>NULL</td>\n      <td>NULL</td>\n      <td>\\n        \\n          &lt;rdf:list xmlns:rdf=\"htt...</td>\n      <td>ECLI:NL:GHAMS:1913:20</td>\n      <td>NL</td>\n      <td>NULL</td>\n      <td>Gerechtshof Amsterdam</td>\n      <td>NULL</td>\n      <td>uitspraak</td>\n    </tr>\n  </tbody>\n</table>\n</div>"
     },
     "execution_count": 28,
     "metadata": {},
     "output_type": "execute_result"
    }
   ],
   "source": [
    "map_case_only = {'date':'date',\n",
    "            'description':'description',\n",
    "            'language':'language',\n",
    "            'venue':'venue',\n",
    "            'abstract':'abstract',\n",
    "            'procedure_type':'procedure_type',\n",
    "            'lodge_date':'lodge_date',\n",
    "            'alternative_sources':'link',\n",
    "            'case_id':'ecli',\n",
    "            'country':'country',\n",
    "            'subject':'subject',\n",
    "            'authority':'court'}\n",
    "\n",
    "case = df_case_only[map_case_only.keys()].rename(columns=map_case_only)\n",
    "case['name'] = 'NULL'\n",
    "#case['date'] = [pd.to_datetime(i, errors='coerce') if i != 'NULL' else pd.to_datetime('1900-01-01 00:00:00') for i in case['date']]\n",
    "#case['lodge_date'] = [pd.to_datetime(i, errors='coerce') if i != 'NULL' else pd.to_datetime('1900-01-01 00:00:00') for i in case['lodge_date']]\n",
    "case['description'] = clean_strings(case['description'])\n",
    "case['link'] = clean_strings(case['link'])\n",
    "case['doctype'] = ['uitspraak'] * len(case)\n",
    "\n",
    "case.head()"
   ],
   "metadata": {
    "collapsed": false,
    "pycharm": {
     "name": "#%%\n"
    }
   }
  },
  {
   "cell_type": "markdown",
   "source": [
    "#### Legal Intelligence only Cases"
   ],
   "metadata": {
    "collapsed": false
   }
  },
  {
   "cell_type": "code",
   "execution_count": 29,
   "outputs": [
    {
     "data": {
      "text/plain": "                         ecli  \\\n14    ECLI:NL:PHR:1996:AA1795   \n1061  ECLI:NL:PHR:1996:AA1822   \n1113  ECLI:NL:PHR:2001:AB1839   \n1341  ECLI:NL:PHR:1996:AA1778   \n1523  ECLI:NL:PHR:1996:AA1790   \n\n                                                name_li   date_li  \\\n14    Bewijslast voor geen gebruik bij belanghebbend...  19960101   \n1061  Mr W. de Wit Casus Aan belanghebbende, exploit...  19960101   \n1113      Smeltslakken, Straalmiddel, Baksteenfabricage  19960101   \n1341  INKOMSTENBELASTING Een onwettig, niet-erkend k...  19960101   \n1523  SUCCESSIEWET Verrekening van schenkingsrecht m...  19960101   \n\n                                            abstract_li  \\\n14    Bewijslast voor geen gebruik bij belanghebbend...   \n1061  mr W. de Wit Casus Aan belanghebbende, exploit...   \n1113      Smeltslakken, Straalmiddel, Baksteenfabricage   \n1341  X woont in Nederland. In geschil is of X in 19...   \n1523  Erflaatster schonk effecten aan haar kinderen ...   \n\n                                             subject_li  \\\n14    ['Ruimtelijk Bestuursrecht/Milieurecht/Energie...   \n1061  ['Ruimtelijk Bestuursrecht/Milieurecht/Energie...   \n1113  ['Ruimtelijk Bestuursrecht/Milieurecht/Energie...   \n1341                                 ['Belastingrecht']   \n1523  ['Belastingrecht', 'Onbekend', 'Personen- en F...   \n\n                                                link_li  \\\n14    http://www.legalintelligence.com/documents/496...   \n1061  http://www.legalintelligence.com/documents/496...   \n1113  http://www.legalintelligence.com/documents/731...   \n1341  http://www.legalintelligence.com/documents/519...   \n1523  http://www.legalintelligence.com/documents/519...   \n\n                                        DisplayTitle_li  \\\n14    Bewijslast voor geen gebruik bij belanghebbend...   \n1061  Mr W. de Wit Casus Aan belanghebbende, exploit...   \n1113  JAF 1996/11 - Met noot - Meijden van der, D. -...   \n1341  V-N 1996/4773, 17 - Met noot - Redactie - Hoge...   \n1523  V-N 1996/4683, 23 - Met noot - Redactie - Hoge...   \n\n                                         OriginalUrl_li Jurisdiction_li  \\\n14    https://www.navigator.nl/#/document/da76d44977...       Nederland   \n1061  https://www.navigator.nl/#/document/daa08e5265...       Nederland   \n1113                                               NULL       Nederland   \n1341  https://www.navigator.nl/#/document/inodfd8a8c...       Nederland   \n1523  https://www.navigator.nl/#/document/inodfd991c...       Nederland   \n\n     DocumentType_li                  CaseNumber_li PublicationNumber_li  \\\n14       Rechtspraak  31 032 ECLI:NL:HR:1996:AA1795                 NULL   \n1061     Rechtspraak   29996 ECLI:NL:HR:1996:AA1822                 NULL   \n1113     Rechtspraak                          34368          JAF 1996/11   \n1341     Rechtspraak  31 357 ECLI:NL:HR:1996:AA1778    V-N 1996/4773, 17   \n1523     Rechtspraak  31 205 ECLI:NL:HR:1996:AA1790    V-N 1996/4683, 23   \n\n       IssueNumber_li  lodge_date_li  DateAdded_li          Sources_li  \\\n14               NULL       19961218      20110520  Milieurecht Totaal   \n1061             NULL       19960313      20110628  Milieurecht Totaal   \n1113  JAF/1996/000001       20010530      20120904                 JAF   \n1341   VN/1996/000060       19961127      20110623                  VN   \n1523   VN/1996/000059       19961120      20110623                  VN   \n\n                               UrlWithAutoLogOnToken_li  \\\n14    http://www.legalintelligence.com/documents/496...   \n1061  http://www.legalintelligence.com/documents/496...   \n1113  http://www.legalintelligence.com/documents/731...   \n1341  http://www.legalintelligence.com/documents/519...   \n1523  http://www.legalintelligence.com/documents/519...   \n\n                     court_li  \\\n14                  Hoge Raad   \n1061                Hoge Raad   \n1113  Parket bij de Hoge Raad   \n1341                Hoge Raad   \n1523                Hoge Raad   \n\n                                     DisplaySubtitle_li    doctype  \n14    Redactie e.a. - Module-serie - Module Afval - ...  uitspraak  \n1061   Milieurecht Totaal - Module-serie - Module Water  uitspraak  \n1113      Smeltslakken, Straalmiddel, Baksteenfabricage  uitspraak  \n1341  INKOMSTENBELASTING Een onwettig, niet-erkend k...  uitspraak  \n1523  SUCCESSIEWET Verrekening van schenkingsrecht m...  uitspraak  ",
      "text/html": "<div>\n<style scoped>\n    .dataframe tbody tr th:only-of-type {\n        vertical-align: middle;\n    }\n\n    .dataframe tbody tr th {\n        vertical-align: top;\n    }\n\n    .dataframe thead th {\n        text-align: right;\n    }\n</style>\n<table border=\"1\" class=\"dataframe\">\n  <thead>\n    <tr style=\"text-align: right;\">\n      <th></th>\n      <th>ecli</th>\n      <th>name_li</th>\n      <th>date_li</th>\n      <th>abstract_li</th>\n      <th>subject_li</th>\n      <th>link_li</th>\n      <th>DisplayTitle_li</th>\n      <th>OriginalUrl_li</th>\n      <th>Jurisdiction_li</th>\n      <th>DocumentType_li</th>\n      <th>CaseNumber_li</th>\n      <th>PublicationNumber_li</th>\n      <th>IssueNumber_li</th>\n      <th>lodge_date_li</th>\n      <th>DateAdded_li</th>\n      <th>Sources_li</th>\n      <th>UrlWithAutoLogOnToken_li</th>\n      <th>court_li</th>\n      <th>DisplaySubtitle_li</th>\n      <th>doctype</th>\n    </tr>\n  </thead>\n  <tbody>\n    <tr>\n      <th>14</th>\n      <td>ECLI:NL:PHR:1996:AA1795</td>\n      <td>Bewijslast voor geen gebruik bij belanghebbend...</td>\n      <td>19960101</td>\n      <td>Bewijslast voor geen gebruik bij belanghebbend...</td>\n      <td>['Ruimtelijk Bestuursrecht/Milieurecht/Energie...</td>\n      <td>http://www.legalintelligence.com/documents/496...</td>\n      <td>Bewijslast voor geen gebruik bij belanghebbend...</td>\n      <td>https://www.navigator.nl/#/document/da76d44977...</td>\n      <td>Nederland</td>\n      <td>Rechtspraak</td>\n      <td>31 032 ECLI:NL:HR:1996:AA1795</td>\n      <td>NULL</td>\n      <td>NULL</td>\n      <td>19961218</td>\n      <td>20110520</td>\n      <td>Milieurecht Totaal</td>\n      <td>http://www.legalintelligence.com/documents/496...</td>\n      <td>Hoge Raad</td>\n      <td>Redactie e.a. - Module-serie - Module Afval - ...</td>\n      <td>uitspraak</td>\n    </tr>\n    <tr>\n      <th>1061</th>\n      <td>ECLI:NL:PHR:1996:AA1822</td>\n      <td>Mr W. de Wit Casus Aan belanghebbende, exploit...</td>\n      <td>19960101</td>\n      <td>mr W. de Wit Casus Aan belanghebbende, exploit...</td>\n      <td>['Ruimtelijk Bestuursrecht/Milieurecht/Energie...</td>\n      <td>http://www.legalintelligence.com/documents/496...</td>\n      <td>Mr W. de Wit Casus Aan belanghebbende, exploit...</td>\n      <td>https://www.navigator.nl/#/document/daa08e5265...</td>\n      <td>Nederland</td>\n      <td>Rechtspraak</td>\n      <td>29996 ECLI:NL:HR:1996:AA1822</td>\n      <td>NULL</td>\n      <td>NULL</td>\n      <td>19960313</td>\n      <td>20110628</td>\n      <td>Milieurecht Totaal</td>\n      <td>http://www.legalintelligence.com/documents/496...</td>\n      <td>Hoge Raad</td>\n      <td>Milieurecht Totaal - Module-serie - Module Water</td>\n      <td>uitspraak</td>\n    </tr>\n    <tr>\n      <th>1113</th>\n      <td>ECLI:NL:PHR:2001:AB1839</td>\n      <td>Smeltslakken, Straalmiddel, Baksteenfabricage</td>\n      <td>19960101</td>\n      <td>Smeltslakken, Straalmiddel, Baksteenfabricage</td>\n      <td>['Ruimtelijk Bestuursrecht/Milieurecht/Energie...</td>\n      <td>http://www.legalintelligence.com/documents/731...</td>\n      <td>JAF 1996/11 - Met noot - Meijden van der, D. -...</td>\n      <td>NULL</td>\n      <td>Nederland</td>\n      <td>Rechtspraak</td>\n      <td>34368</td>\n      <td>JAF 1996/11</td>\n      <td>JAF/1996/000001</td>\n      <td>20010530</td>\n      <td>20120904</td>\n      <td>JAF</td>\n      <td>http://www.legalintelligence.com/documents/731...</td>\n      <td>Parket bij de Hoge Raad</td>\n      <td>Smeltslakken, Straalmiddel, Baksteenfabricage</td>\n      <td>uitspraak</td>\n    </tr>\n    <tr>\n      <th>1341</th>\n      <td>ECLI:NL:PHR:1996:AA1778</td>\n      <td>INKOMSTENBELASTING Een onwettig, niet-erkend k...</td>\n      <td>19960101</td>\n      <td>X woont in Nederland. In geschil is of X in 19...</td>\n      <td>['Belastingrecht']</td>\n      <td>http://www.legalintelligence.com/documents/519...</td>\n      <td>V-N 1996/4773, 17 - Met noot - Redactie - Hoge...</td>\n      <td>https://www.navigator.nl/#/document/inodfd8a8c...</td>\n      <td>Nederland</td>\n      <td>Rechtspraak</td>\n      <td>31 357 ECLI:NL:HR:1996:AA1778</td>\n      <td>V-N 1996/4773, 17</td>\n      <td>VN/1996/000060</td>\n      <td>19961127</td>\n      <td>20110623</td>\n      <td>VN</td>\n      <td>http://www.legalintelligence.com/documents/519...</td>\n      <td>Hoge Raad</td>\n      <td>INKOMSTENBELASTING Een onwettig, niet-erkend k...</td>\n      <td>uitspraak</td>\n    </tr>\n    <tr>\n      <th>1523</th>\n      <td>ECLI:NL:PHR:1996:AA1790</td>\n      <td>SUCCESSIEWET Verrekening van schenkingsrecht m...</td>\n      <td>19960101</td>\n      <td>Erflaatster schonk effecten aan haar kinderen ...</td>\n      <td>['Belastingrecht', 'Onbekend', 'Personen- en F...</td>\n      <td>http://www.legalintelligence.com/documents/519...</td>\n      <td>V-N 1996/4683, 23 - Met noot - Redactie - Hoge...</td>\n      <td>https://www.navigator.nl/#/document/inodfd991c...</td>\n      <td>Nederland</td>\n      <td>Rechtspraak</td>\n      <td>31 205 ECLI:NL:HR:1996:AA1790</td>\n      <td>V-N 1996/4683, 23</td>\n      <td>VN/1996/000059</td>\n      <td>19961120</td>\n      <td>20110623</td>\n      <td>VN</td>\n      <td>http://www.legalintelligence.com/documents/519...</td>\n      <td>Hoge Raad</td>\n      <td>SUCCESSIEWET Verrekening van schenkingsrecht m...</td>\n      <td>uitspraak</td>\n    </tr>\n  </tbody>\n</table>\n</div>"
     },
     "execution_count": 29,
     "metadata": {},
     "output_type": "execute_result"
    }
   ],
   "source": [
    "map_legal_intelligence_only_case = {\n",
    "    'ecli':'ecli',\n",
    "    'Title':'name_li',\n",
    "    'date':'date_li',\n",
    "    'abstract':'abstract_li',\n",
    "    'LawArea':'subject_li',\n",
    "    'Url':'link_li',\n",
    "    'DisplayTitle':'DisplayTitle_li',\n",
    "    'OriginalUrl':'OriginalUrl_li',\n",
    "    'Jurisdiction':'Jurisdiction_li',\n",
    "    'DocumentType':'DocumentType_li',\n",
    "    'case_number':'CaseNumber_li',\n",
    "    'PublicationNumber':'PublicationNumber_li',\n",
    "    'IssueNumber':'IssueNumber_li',\n",
    "    'lodge_date':'lodge_date_li',\n",
    "    'DateAdded':'DateAdded_li',\n",
    "    'Sources':'Sources_li',\n",
    "    'UrlWithAutoLogOnToken':'UrlWithAutoLogOnToken_li',\n",
    "    'authority':'court_li',\n",
    "    'DisplaySubtitle':'DisplaySubtitle_li'\n",
    "}\n",
    "\n",
    "legal_intelligence_case = df_li_only[map_legal_intelligence_only_case.keys()].rename(columns=map_legal_intelligence_only_case)\n",
    "#legal_intelligence_case['date_li'] = [pd.to_datetime(i, errors='coerce') if i != 'NULL' else pd.to_datetime('1900-01-01 00:00:00') for i in df_li_only['date']]\n",
    "#legal_intelligence_case['lodge_date_li'] = [pd.to_datetime(i, errors='coerce') if i != 'NULL' else pd.to_datetime('1900-01-01 00:00:00') for i in df_li_only['lodge_date']]\n",
    "#legal_intelligence_case['DateAdded_li'] = [pd.to_datetime(i, errors='coerce') if i != 'NULL' else pd.to_datetime('1900-01-01 00:00:00') for i in df_li_only['DateAdded']]\n",
    "legal_intelligence_case['name_li'] = clean_strings(legal_intelligence_case['name_li'])\n",
    "legal_intelligence_case['abstract_li'] = clean_strings(legal_intelligence_case['abstract_li'])\n",
    "legal_intelligence_case['DisplayTitle_li'] = clean_strings(legal_intelligence_case['DisplayTitle_li'])\n",
    "legal_intelligence_case['court_li'] = clean_strings(legal_intelligence_case['court_li'])\n",
    "legal_intelligence_case['DisplaySubtitle_li'] = clean_strings(legal_intelligence_case['DisplaySubtitle_li'])\n",
    "legal_intelligence_case['doctype'] = ['uitspraak'] * len(legal_intelligence_case)\n",
    "\n",
    "legal_intelligence_case.head()"
   ],
   "metadata": {
    "collapsed": false,
    "pycharm": {
     "name": "#%%\n"
    }
   }
  },
  {
   "cell_type": "markdown",
   "source": [
    "#### Cases & LI"
   ],
   "metadata": {
    "collapsed": false
   }
  },
  {
   "cell_type": "code",
   "execution_count": 30,
   "outputs": [
    {
     "data": {
      "text/plain": "         date description language venue abstract procedure_type lodge_date  \\\n0  1996-09-16        NULL       NL  NULL     NULL           NULL       NULL   \n1  1996-07-08        NULL       NL  NULL     NULL           NULL       NULL   \n2  1996-12-03        NULL       NL  NULL     NULL           NULL       NULL   \n3  1996-02-01        NULL       NL  NULL     NULL      Bodemzaak       NULL   \n4  1996-10-16        NULL       NL  NULL     NULL           NULL       NULL   \n\n                                                link  \\\n0  \\n        \\n          <rdf:list xmlns:rdf=\"htt...   \n1  \\n        \\n          <rdf:list xmlns:rdf=\"htt...   \n2  \\n        \\n          <rdf:list xmlns:rdf=\"htt...   \n3  \\n        \\n          <rdf:list xmlns:rdf=\"htt...   \n4  \\n        \\n          <rdf:list xmlns:rdf=\"htt...   \n\n                        ecli country        subject  \\\n0    ECLI:NL:RVS:1996:AP7727      NL           NULL   \n1    ECLI:NL:RVS:1996:AP7883      NL           NULL   \n2  ECLI:NL:GHAMS:1996:AS4281      NL           NULL   \n3    ECLI:NL:RVS:1996:ZF1978      NL  Bestuursrecht   \n4  ECLI:NL:GHSGR:1996:AS3490      NL           NULL   \n\n                       court  \\\n0             Raad van State   \n1             Raad van State   \n2      Gerechtshof Amsterdam   \n3             Raad van State   \n4  Gerechtshof 's-Gravenhage   \n\n                                             name_li   date_li  \\\n0  Casus Bij besluit van 12 april 1994 verlenen g...  19960101   \n1  M.N. Boeve Casus GS van Noord-Brabant hebben (...  19960101   \n2  Naast woning gelegen huisje vormt n geheel met...  19960101   \n3  Geen beroep mogelijk tegen weigering bestemmin...  19960101   \n4  Bodemverontreiniging; saneringskosten komen oo...  19960101   \n\n                                         abstract_li  \\\n0  Casus Bij besluit van 12 april 1994 verlenen g...   \n1  M.N. Boeve Casus GS van Noord-Brabant hebben (...   \n2  Naast woning gelegen huisje vormt n geheel met...   \n3  De raad van de gemeente Waspik wees een verzoe...   \n4  Bodemverontreiniging; saneringskosten komen oo...   \n\n                                          subject_li  \\\n0  ['Ruimtelijk Bestuursrecht/Milieurecht/Energie...   \n1  ['Ruimtelijk Bestuursrecht/Milieurecht/Energie...   \n2  ['Ruimtelijk Bestuursrecht/Milieurecht/Energie...   \n3  ['Ruimtelijk Bestuursrecht/Milieurecht/Energie...   \n4  ['Ruimtelijk Bestuursrecht/Milieurecht/Energie...   \n\n                                             link_li  \\\n0  http://www.legalintelligence.com/documents/496...   \n1  http://www.legalintelligence.com/documents/496...   \n2  http://www.legalintelligence.com/documents/496...   \n3  http://www.legalintelligence.com/documents/496...   \n4  http://www.legalintelligence.com/documents/496...   \n\n                                     DisplayTitle_li  \\\n0  Casus Bij besluit van 12 april 1994 verlenen g...   \n1  M.N. Boeve Casus GS van Noord-Brabant hebben (...   \n2  Naast woning gelegen huisje vormt n geheel met...   \n3  Geen beroep mogelijk tegen weigering bestemmin...   \n4  Bodemverontreiniging; saneringskosten komen oo...   \n\n                                      OriginalUrl_li Jurisdiction_li  \\\n0  https://www.navigator.nl/#/document/da785f3d8d...       Nederland   \n1  https://www.navigator.nl/#/document/dae9667789...       Nederland   \n2  https://www.navigator.nl/#/document/da7b16fb16...       Nederland   \n3  https://www.navigator.nl/#/document/dad97422ad...       Nederland   \n4  https://www.navigator.nl/#/document/daf99e49b6...       Nederland   \n\n  DocumentType_li                        CaseNumber_li PublicationNumber_li  \\\n0     Rechtspraak                            E03951413                 NULL   \n1     Rechtspraak  E01.94.0417 ECLI:NL:RVS:1996:AP7883                 NULL   \n2     Rechtspraak                            95/4927-E                 NULL   \n3     Rechtspraak                            H01950354                 NULL   \n4     Rechtspraak                              95/1803                 NULL   \n\n  IssueNumber_li  lodge_date_li  DateAdded_li                   Sources_li  \\\n0           NULL       19960916      20110520           Milieurecht Totaal   \n1           NULL       19960708      20110628           Milieurecht Totaal   \n2           NULL       19961203      20110628           Milieurecht Totaal   \n3           NULL       19960201      20110628  Module Ruimtelijke Ordening   \n4           NULL       19961016      20110628           Milieurecht Totaal   \n\n                            UrlWithAutoLogOnToken_li               court_li  \\\n0  http://www.legalintelligence.com/documents/496...         Raad van State   \n1  http://www.legalintelligence.com/documents/496...         Raad van State   \n2  http://www.legalintelligence.com/documents/496...  Gerechtshof Amsterdam   \n3  http://www.legalintelligence.com/documents/496...         Raad van State   \n4  http://www.legalintelligence.com/documents/496...   Gerechtshof Den Haag   \n\n                                  DisplaySubtitle_li    doctype  \n0  Doorduijn, L.F. - Milieurecht Totaal - Module-...  uitspraak  \n1  Boeve, M.N. - Milieurecht Totaal - Module-seri...  uitspraak  \n2  Redactie - Module-serie - Module Afval - Milie...  uitspraak  \n3  Redactie - Module-serie - Module Ruimtelijke O...  uitspraak  \n4                 Kruimel, J.P. - Milieurecht Totaal  uitspraak  ",
      "text/html": "<div>\n<style scoped>\n    .dataframe tbody tr th:only-of-type {\n        vertical-align: middle;\n    }\n\n    .dataframe tbody tr th {\n        vertical-align: top;\n    }\n\n    .dataframe thead th {\n        text-align: right;\n    }\n</style>\n<table border=\"1\" class=\"dataframe\">\n  <thead>\n    <tr style=\"text-align: right;\">\n      <th></th>\n      <th>date</th>\n      <th>description</th>\n      <th>language</th>\n      <th>venue</th>\n      <th>abstract</th>\n      <th>procedure_type</th>\n      <th>lodge_date</th>\n      <th>link</th>\n      <th>ecli</th>\n      <th>country</th>\n      <th>subject</th>\n      <th>court</th>\n      <th>name_li</th>\n      <th>date_li</th>\n      <th>abstract_li</th>\n      <th>subject_li</th>\n      <th>link_li</th>\n      <th>DisplayTitle_li</th>\n      <th>OriginalUrl_li</th>\n      <th>Jurisdiction_li</th>\n      <th>DocumentType_li</th>\n      <th>CaseNumber_li</th>\n      <th>PublicationNumber_li</th>\n      <th>IssueNumber_li</th>\n      <th>lodge_date_li</th>\n      <th>DateAdded_li</th>\n      <th>Sources_li</th>\n      <th>UrlWithAutoLogOnToken_li</th>\n      <th>court_li</th>\n      <th>DisplaySubtitle_li</th>\n      <th>doctype</th>\n    </tr>\n  </thead>\n  <tbody>\n    <tr>\n      <th>0</th>\n      <td>1996-09-16</td>\n      <td>NULL</td>\n      <td>NL</td>\n      <td>NULL</td>\n      <td>NULL</td>\n      <td>NULL</td>\n      <td>NULL</td>\n      <td>\\n        \\n          &lt;rdf:list xmlns:rdf=\"htt...</td>\n      <td>ECLI:NL:RVS:1996:AP7727</td>\n      <td>NL</td>\n      <td>NULL</td>\n      <td>Raad van State</td>\n      <td>Casus Bij besluit van 12 april 1994 verlenen g...</td>\n      <td>19960101</td>\n      <td>Casus Bij besluit van 12 april 1994 verlenen g...</td>\n      <td>['Ruimtelijk Bestuursrecht/Milieurecht/Energie...</td>\n      <td>http://www.legalintelligence.com/documents/496...</td>\n      <td>Casus Bij besluit van 12 april 1994 verlenen g...</td>\n      <td>https://www.navigator.nl/#/document/da785f3d8d...</td>\n      <td>Nederland</td>\n      <td>Rechtspraak</td>\n      <td>E03951413</td>\n      <td>NULL</td>\n      <td>NULL</td>\n      <td>19960916</td>\n      <td>20110520</td>\n      <td>Milieurecht Totaal</td>\n      <td>http://www.legalintelligence.com/documents/496...</td>\n      <td>Raad van State</td>\n      <td>Doorduijn, L.F. - Milieurecht Totaal - Module-...</td>\n      <td>uitspraak</td>\n    </tr>\n    <tr>\n      <th>1</th>\n      <td>1996-07-08</td>\n      <td>NULL</td>\n      <td>NL</td>\n      <td>NULL</td>\n      <td>NULL</td>\n      <td>NULL</td>\n      <td>NULL</td>\n      <td>\\n        \\n          &lt;rdf:list xmlns:rdf=\"htt...</td>\n      <td>ECLI:NL:RVS:1996:AP7883</td>\n      <td>NL</td>\n      <td>NULL</td>\n      <td>Raad van State</td>\n      <td>M.N. Boeve Casus GS van Noord-Brabant hebben (...</td>\n      <td>19960101</td>\n      <td>M.N. Boeve Casus GS van Noord-Brabant hebben (...</td>\n      <td>['Ruimtelijk Bestuursrecht/Milieurecht/Energie...</td>\n      <td>http://www.legalintelligence.com/documents/496...</td>\n      <td>M.N. Boeve Casus GS van Noord-Brabant hebben (...</td>\n      <td>https://www.navigator.nl/#/document/dae9667789...</td>\n      <td>Nederland</td>\n      <td>Rechtspraak</td>\n      <td>E01.94.0417 ECLI:NL:RVS:1996:AP7883</td>\n      <td>NULL</td>\n      <td>NULL</td>\n      <td>19960708</td>\n      <td>20110628</td>\n      <td>Milieurecht Totaal</td>\n      <td>http://www.legalintelligence.com/documents/496...</td>\n      <td>Raad van State</td>\n      <td>Boeve, M.N. - Milieurecht Totaal - Module-seri...</td>\n      <td>uitspraak</td>\n    </tr>\n    <tr>\n      <th>2</th>\n      <td>1996-12-03</td>\n      <td>NULL</td>\n      <td>NL</td>\n      <td>NULL</td>\n      <td>NULL</td>\n      <td>NULL</td>\n      <td>NULL</td>\n      <td>\\n        \\n          &lt;rdf:list xmlns:rdf=\"htt...</td>\n      <td>ECLI:NL:GHAMS:1996:AS4281</td>\n      <td>NL</td>\n      <td>NULL</td>\n      <td>Gerechtshof Amsterdam</td>\n      <td>Naast woning gelegen huisje vormt n geheel met...</td>\n      <td>19960101</td>\n      <td>Naast woning gelegen huisje vormt n geheel met...</td>\n      <td>['Ruimtelijk Bestuursrecht/Milieurecht/Energie...</td>\n      <td>http://www.legalintelligence.com/documents/496...</td>\n      <td>Naast woning gelegen huisje vormt n geheel met...</td>\n      <td>https://www.navigator.nl/#/document/da7b16fb16...</td>\n      <td>Nederland</td>\n      <td>Rechtspraak</td>\n      <td>95/4927-E</td>\n      <td>NULL</td>\n      <td>NULL</td>\n      <td>19961203</td>\n      <td>20110628</td>\n      <td>Milieurecht Totaal</td>\n      <td>http://www.legalintelligence.com/documents/496...</td>\n      <td>Gerechtshof Amsterdam</td>\n      <td>Redactie - Module-serie - Module Afval - Milie...</td>\n      <td>uitspraak</td>\n    </tr>\n    <tr>\n      <th>3</th>\n      <td>1996-02-01</td>\n      <td>NULL</td>\n      <td>NL</td>\n      <td>NULL</td>\n      <td>NULL</td>\n      <td>Bodemzaak</td>\n      <td>NULL</td>\n      <td>\\n        \\n          &lt;rdf:list xmlns:rdf=\"htt...</td>\n      <td>ECLI:NL:RVS:1996:ZF1978</td>\n      <td>NL</td>\n      <td>Bestuursrecht</td>\n      <td>Raad van State</td>\n      <td>Geen beroep mogelijk tegen weigering bestemmin...</td>\n      <td>19960101</td>\n      <td>De raad van de gemeente Waspik wees een verzoe...</td>\n      <td>['Ruimtelijk Bestuursrecht/Milieurecht/Energie...</td>\n      <td>http://www.legalintelligence.com/documents/496...</td>\n      <td>Geen beroep mogelijk tegen weigering bestemmin...</td>\n      <td>https://www.navigator.nl/#/document/dad97422ad...</td>\n      <td>Nederland</td>\n      <td>Rechtspraak</td>\n      <td>H01950354</td>\n      <td>NULL</td>\n      <td>NULL</td>\n      <td>19960201</td>\n      <td>20110628</td>\n      <td>Module Ruimtelijke Ordening</td>\n      <td>http://www.legalintelligence.com/documents/496...</td>\n      <td>Raad van State</td>\n      <td>Redactie - Module-serie - Module Ruimtelijke O...</td>\n      <td>uitspraak</td>\n    </tr>\n    <tr>\n      <th>4</th>\n      <td>1996-10-16</td>\n      <td>NULL</td>\n      <td>NL</td>\n      <td>NULL</td>\n      <td>NULL</td>\n      <td>NULL</td>\n      <td>NULL</td>\n      <td>\\n        \\n          &lt;rdf:list xmlns:rdf=\"htt...</td>\n      <td>ECLI:NL:GHSGR:1996:AS3490</td>\n      <td>NL</td>\n      <td>NULL</td>\n      <td>Gerechtshof 's-Gravenhage</td>\n      <td>Bodemverontreiniging; saneringskosten komen oo...</td>\n      <td>19960101</td>\n      <td>Bodemverontreiniging; saneringskosten komen oo...</td>\n      <td>['Ruimtelijk Bestuursrecht/Milieurecht/Energie...</td>\n      <td>http://www.legalintelligence.com/documents/496...</td>\n      <td>Bodemverontreiniging; saneringskosten komen oo...</td>\n      <td>https://www.navigator.nl/#/document/daf99e49b6...</td>\n      <td>Nederland</td>\n      <td>Rechtspraak</td>\n      <td>95/1803</td>\n      <td>NULL</td>\n      <td>NULL</td>\n      <td>19961016</td>\n      <td>20110628</td>\n      <td>Milieurecht Totaal</td>\n      <td>http://www.legalintelligence.com/documents/496...</td>\n      <td>Gerechtshof Den Haag</td>\n      <td>Kruimel, J.P. - Milieurecht Totaal</td>\n      <td>uitspraak</td>\n    </tr>\n  </tbody>\n</table>\n</div>"
     },
     "execution_count": 30,
     "metadata": {},
     "output_type": "execute_result"
    }
   ],
   "source": [
    "map_case_li = {'date':'date',\n",
    "            'description':'description',\n",
    "            'language':'language',\n",
    "            'venue':'venue',\n",
    "            'abstract':'abstract',\n",
    "            'procedure_type':'procedure_type',\n",
    "            'lodge_date':'lodge_date',\n",
    "            'alternative_sources':'link',\n",
    "            'case_id':'ecli',\n",
    "            'country':'country',\n",
    "            'subject':'subject',\n",
    "            'authority':'court',\n",
    "            'Title_li':'name_li',\n",
    "            'date_li':'date_li',\n",
    "            'abstract_li':'abstract_li',\n",
    "            'LawArea_li':'subject_li',\n",
    "            'Url_li':'link_li',\n",
    "            'DisplayTitle_li':'DisplayTitle_li',\n",
    "            'OriginalUrl_li':'OriginalUrl_li',\n",
    "            'Jurisdiction_li':'Jurisdiction_li',\n",
    "            'DocumentType_li':'DocumentType_li',\n",
    "            'case_number_li':'CaseNumber_li',\n",
    "            'PublicationNumber_li':'PublicationNumber_li',\n",
    "            'IssueNumber_li':'IssueNumber_li',\n",
    "            'lodge_date_li':'lodge_date_li',\n",
    "            'DateAdded_li':'DateAdded_li',\n",
    "            'Sources_li':'Sources_li',\n",
    "            'UrlWithAutoLogOnToken_li':'UrlWithAutoLogOnToken_li',\n",
    "            'authority_li':'court_li',\n",
    "            'DisplaySubtitle_li':'DisplaySubtitle_li'\n",
    "        }\n",
    "\n",
    "case_li = df_case_li_intersection[map_case_li.keys()].rename(columns=map_case_li)\n",
    "case_li['name'] = 'NULL'\n",
    "#case_li['date'] = [pd.to_datetime(i, errors='coerce') if i != 'NULL' else pd.to_datetime('1900-01-01 00:00:00') for i in case_li['date']]\n",
    "#case_li['lodge_date'] = [pd.to_datetime(i, errors='coerce') if i != 'NULL' else pd.to_datetime('1900-01-01 00:00:00') for i in case_li['lodge_date']]\n",
    "case_li['description'] = clean_strings(case_li['description'])\n",
    "case_li['link'] = clean_strings(case_li['link'])\n",
    "case_li = df_case_li_intersection[map_case_li.keys()].rename(columns=map_case_li)\n",
    "#case_li['date_li'] = [pd.to_datetime(i, errors='coerce') if i != 'NULL' else pd.to_datetime('1900-01-01 00:00:00') for i in df_case_li_intersection['date_li']]\n",
    "#case_li['lodge_date_li'] = [pd.to_datetime(i, errors='coerce') if i != 'NULL' else pd.to_datetime('1900-01-01 00:00:00') for i in df_case_li_intersection['lodge_date_li']]\n",
    "#case_li['DateAdded_li'] = [pd.to_datetime(i, errors='coerce') if i != 'NULL' else pd.to_datetime('1900-01-01 00:00:00') for i in df_case_li_intersection['DateAdded_li']]\n",
    "case_li['name_li'] = clean_strings(case_li['name_li'])\n",
    "case_li['abstract_li'] = clean_strings(case_li['abstract_li'])\n",
    "case_li['DisplayTitle_li'] = clean_strings(case_li['DisplayTitle_li'])\n",
    "case_li['court_li'] = clean_strings(case_li['court_li'])\n",
    "case_li['DisplaySubtitle_li'] = clean_strings(case_li['DisplaySubtitle_li'])\n",
    "case_li['doctype'] = ['uitspraak'] * len(case_li)\n",
    "\n",
    "case_li.head()"
   ],
   "metadata": {
    "collapsed": false,
    "pycharm": {
     "name": "#%%\n"
    }
   }
  },
  {
   "cell_type": "markdown",
   "source": [
    "#### Case opinion advocate general"
   ],
   "metadata": {
    "collapsed": false
   }
  },
  {
   "cell_type": "code",
   "execution_count": 31,
   "outputs": [
    {
     "data": {
      "text/plain": "         date case_number description language country venue abstract  \\\n0  1913-04-18         x47        NULL       NL      NL  NULL     NULL   \n1  1913-04-18         x48        NULL       NL      NL  NULL     NULL   \n2  1913-04-21        NULL        NULL       NL      NL  NULL     NULL   \n3  1913-03-07         X46        NULL       NL      NL  NULL     NULL   \n4  1913-06-20         x49        NULL       NL      NL  NULL     NULL   \n\n  procedure_type                    court                     ecli subject  \\\n0           NULL  Parket bij de Hoge Raad  ECLI:NL:PHR:1913:AG1763    NULL   \n1           NULL  Parket bij de Hoge Raad  ECLI:NL:PHR:1913:AG1764    NULL   \n2           NULL  Parket bij de Hoge Raad  ECLI:NL:PHR:1913:BG9429    NULL   \n3           NULL  Parket bij de Hoge Raad  ECLI:NL:PHR:1913:AG1832    NULL   \n4           NULL  Parket bij de Hoge Raad  ECLI:NL:PHR:1913:AG1762    NULL   \n\n   doctype  \n0  opinion  \n1  opinion  \n2  opinion  \n3  opinion  \n4  opinion  ",
      "text/html": "<div>\n<style scoped>\n    .dataframe tbody tr th:only-of-type {\n        vertical-align: middle;\n    }\n\n    .dataframe tbody tr th {\n        vertical-align: top;\n    }\n\n    .dataframe thead th {\n        text-align: right;\n    }\n</style>\n<table border=\"1\" class=\"dataframe\">\n  <thead>\n    <tr style=\"text-align: right;\">\n      <th></th>\n      <th>date</th>\n      <th>case_number</th>\n      <th>description</th>\n      <th>language</th>\n      <th>country</th>\n      <th>venue</th>\n      <th>abstract</th>\n      <th>procedure_type</th>\n      <th>court</th>\n      <th>ecli</th>\n      <th>subject</th>\n      <th>doctype</th>\n    </tr>\n  </thead>\n  <tbody>\n    <tr>\n      <th>0</th>\n      <td>1913-04-18</td>\n      <td>x47</td>\n      <td>NULL</td>\n      <td>NL</td>\n      <td>NL</td>\n      <td>NULL</td>\n      <td>NULL</td>\n      <td>NULL</td>\n      <td>Parket bij de Hoge Raad</td>\n      <td>ECLI:NL:PHR:1913:AG1763</td>\n      <td>NULL</td>\n      <td>opinion</td>\n    </tr>\n    <tr>\n      <th>1</th>\n      <td>1913-04-18</td>\n      <td>x48</td>\n      <td>NULL</td>\n      <td>NL</td>\n      <td>NL</td>\n      <td>NULL</td>\n      <td>NULL</td>\n      <td>NULL</td>\n      <td>Parket bij de Hoge Raad</td>\n      <td>ECLI:NL:PHR:1913:AG1764</td>\n      <td>NULL</td>\n      <td>opinion</td>\n    </tr>\n    <tr>\n      <th>2</th>\n      <td>1913-04-21</td>\n      <td>NULL</td>\n      <td>NULL</td>\n      <td>NL</td>\n      <td>NL</td>\n      <td>NULL</td>\n      <td>NULL</td>\n      <td>NULL</td>\n      <td>Parket bij de Hoge Raad</td>\n      <td>ECLI:NL:PHR:1913:BG9429</td>\n      <td>NULL</td>\n      <td>opinion</td>\n    </tr>\n    <tr>\n      <th>3</th>\n      <td>1913-03-07</td>\n      <td>X46</td>\n      <td>NULL</td>\n      <td>NL</td>\n      <td>NL</td>\n      <td>NULL</td>\n      <td>NULL</td>\n      <td>NULL</td>\n      <td>Parket bij de Hoge Raad</td>\n      <td>ECLI:NL:PHR:1913:AG1832</td>\n      <td>NULL</td>\n      <td>opinion</td>\n    </tr>\n    <tr>\n      <th>4</th>\n      <td>1913-06-20</td>\n      <td>x49</td>\n      <td>NULL</td>\n      <td>NL</td>\n      <td>NL</td>\n      <td>NULL</td>\n      <td>NULL</td>\n      <td>NULL</td>\n      <td>Parket bij de Hoge Raad</td>\n      <td>ECLI:NL:PHR:1913:AG1762</td>\n      <td>NULL</td>\n      <td>opinion</td>\n    </tr>\n  </tbody>\n</table>\n</div>"
     },
     "execution_count": 31,
     "metadata": {},
     "output_type": "execute_result"
    }
   ],
   "source": [
    "map_case_opinion = {'date':'date',\n",
    "                    'case_number':'case_number',\n",
    "                    'description':'description',\n",
    "                    'language':'language',\n",
    "                    'country':'country',\n",
    "                    'venue':'venue',\n",
    "                    'abstract':'abstract',\n",
    "                    'procedure_type':'procedure_type',\n",
    "                    'authority':'court',\n",
    "                    'case_id':'ecli',\n",
    "                    'subject':'subject'}\n",
    "\n",
    "case_opinion = df_case_opinion_raw[map_case_opinion.keys()].rename(columns=map_case_opinion)\n",
    "#case_opinion['date'] = [pd.to_datetime(i, errors='coerce') if i != 'NULL' else pd.to_datetime('1900-01-01 00:00:00') for i in case_opinion['date']]\n",
    "case_opinion['abstract'] = clean_strings(case_opinion['abstract'])\n",
    "case_opinion['doctype'] = ['opinion'] * len(case_opinion)\n",
    "\n",
    "case_opinion.head()\n",
    "\n"
   ],
   "metadata": {
    "collapsed": false,
    "pycharm": {
     "name": "#%%\n"
    }
   }
  },
  {
   "cell_type": "markdown",
   "source": [
    "#### Subjects"
   ],
   "metadata": {
    "collapsed": false
   }
  },
  {
   "cell_type": "code",
   "execution_count": null,
   "outputs": [],
   "source": [
    "# unique_subjects\n",
    "#"
   ],
   "metadata": {
    "collapsed": false,
    "pycharm": {
     "name": "#%%\n"
    }
   }
  },
  {
   "cell_type": "code",
   "execution_count": 23,
   "outputs": [],
   "source": [
    "# subjects_as_list = [list(row.split(\"; \")) for row in df_case.subject]\n",
    "# unique_subjects = \\\n",
    "#     set(list(\n",
    "#         pd.core.common\\\n",
    "#             .flatten(subjects_as_list)))\n",
    "# subject = pd.DataFrame()\n",
    "# subject['name'] = clean_strings(list(sorted(unique_subjects)))\n",
    "# subject.loc[:,'standard_name'] = 'NULL'\n"
   ],
   "metadata": {
    "collapsed": false,
    "pycharm": {
     "name": "#%%\n"
    }
   }
  },
  {
   "cell_type": "markdown",
   "source": [
    "#### Countries"
   ],
   "metadata": {
    "collapsed": false
   }
  },
  {
   "cell_type": "code",
   "execution_count": 57,
   "outputs": [],
   "source": [
    "# df_country.loc[:,'language'] = 'NULL'\n",
    "# df_country.loc[:,'eea'] = 0\n",
    "# country = df_country[['country_id','name','language','flag','eu','eea']]\\\n",
    "#   .rename(columns={'country_id':'id'})"
   ],
   "metadata": {
    "collapsed": false,
    "pycharm": {
     "name": "#%%\n"
    }
   }
  },
  {
   "cell_type": "markdown",
   "source": [
    "#### Case law citation"
   ],
   "metadata": {
    "collapsed": false
   }
  },
  {
   "cell_type": "code",
   "execution_count": 20,
   "outputs": [
    {
     "data": {
      "text/plain": "                  ecli source_paragraph          target_ecli target_paragraph  \\\n0   ECLI:NL:HR:1913:13             NULL  ECLI:NL:HR:1913:129             NULL   \n1  ECLI:NL:HR:1913:130             NULL  ECLI:NL:HR:1913:129             NULL   \n2  ECLI:NL:HR:1913:131             NULL  ECLI:NL:HR:1913:129             NULL   \n3  ECLI:NL:HR:1913:132             NULL  ECLI:NL:HR:1913:129             NULL   \n4  ECLI:NL:HR:1913:133             NULL  ECLI:NL:HR:1913:129             NULL   \n\n                          doctype  \n0  c-citation-ECLI:NL:HR:1913:129  \n1  c-citation-ECLI:NL:HR:1913:129  \n2  c-citation-ECLI:NL:HR:1913:129  \n3  c-citation-ECLI:NL:HR:1913:129  \n4  c-citation-ECLI:NL:HR:1913:129  ",
      "text/html": "<div>\n<style scoped>\n    .dataframe tbody tr th:only-of-type {\n        vertical-align: middle;\n    }\n\n    .dataframe tbody tr th {\n        vertical-align: top;\n    }\n\n    .dataframe thead th {\n        text-align: right;\n    }\n</style>\n<table border=\"1\" class=\"dataframe\">\n  <thead>\n    <tr style=\"text-align: right;\">\n      <th></th>\n      <th>ecli</th>\n      <th>source_paragraph</th>\n      <th>target_ecli</th>\n      <th>target_paragraph</th>\n      <th>doctype</th>\n    </tr>\n  </thead>\n  <tbody>\n    <tr>\n      <th>0</th>\n      <td>ECLI:NL:HR:1913:13</td>\n      <td>NULL</td>\n      <td>ECLI:NL:HR:1913:129</td>\n      <td>NULL</td>\n      <td>c-citation-ECLI:NL:HR:1913:129</td>\n    </tr>\n    <tr>\n      <th>1</th>\n      <td>ECLI:NL:HR:1913:130</td>\n      <td>NULL</td>\n      <td>ECLI:NL:HR:1913:129</td>\n      <td>NULL</td>\n      <td>c-citation-ECLI:NL:HR:1913:129</td>\n    </tr>\n    <tr>\n      <th>2</th>\n      <td>ECLI:NL:HR:1913:131</td>\n      <td>NULL</td>\n      <td>ECLI:NL:HR:1913:129</td>\n      <td>NULL</td>\n      <td>c-citation-ECLI:NL:HR:1913:129</td>\n    </tr>\n    <tr>\n      <th>3</th>\n      <td>ECLI:NL:HR:1913:132</td>\n      <td>NULL</td>\n      <td>ECLI:NL:HR:1913:129</td>\n      <td>NULL</td>\n      <td>c-citation-ECLI:NL:HR:1913:129</td>\n    </tr>\n    <tr>\n      <th>4</th>\n      <td>ECLI:NL:HR:1913:133</td>\n      <td>NULL</td>\n      <td>ECLI:NL:HR:1913:129</td>\n      <td>NULL</td>\n      <td>c-citation-ECLI:NL:HR:1913:129</td>\n    </tr>\n  </tbody>\n</table>\n</div>"
     },
     "execution_count": 20,
     "metadata": {},
     "output_type": "execute_result"
    }
   ],
   "source": [
    "map_case_citation = {\n",
    "    'source_ecli':'ecli',\n",
    "    'source_paragraph':'source_paragraph',\n",
    "    'target_ecli':'target_ecli',\n",
    "    'target_paragraph':'target_paragraph'\n",
    "}\n",
    "case_citation = df_case_citation_raw[map_case_citation.keys()].rename(columns=map_case_citation)\n",
    "case_citation['doctype'] = 'c-citation-' + case_citation['target_ecli'].map(str)\n",
    "\n",
    "case_citation.head()\n"
   ],
   "metadata": {
    "collapsed": false,
    "pycharm": {
     "name": "#%%\n"
    }
   }
  },
  {
   "cell_type": "markdown",
   "source": [
    "#### Legislation citation"
   ],
   "metadata": {
    "collapsed": false
   }
  },
  {
   "cell_type": "code",
   "execution_count": 21,
   "outputs": [
    {
     "data": {
      "text/plain": "                        ecli source_paragraph  \\\n0  ECLI:NL:GHAMS:1962:AX8440             NULL   \n1  ECLI:NL:GHAMS:1962:AX8440             NULL   \n2  ECLI:NL:GHAMS:1962:AX8440             NULL   \n3  ECLI:NL:GHAMS:1962:AX8441             NULL   \n4  ECLI:NL:GHAMS:1962:AX8441             NULL   \n\n                                           target_id target_paragraph  \\\n0  http://linkeddata.overheid.nl/terms/bwb/id/BWB...             NULL   \n1  http://linkeddata.overheid.nl/terms/bwb/id/BWB...             NULL   \n2  http://linkeddata.overheid.nl/terms/bwb/id/BWB...             NULL   \n3  http://linkeddata.overheid.nl/terms/bwb/id/BWB...             NULL   \n4  http://linkeddata.overheid.nl/terms/bwb/id/BWB...             NULL   \n\n  target_name target_sourcename  \\\n0        NULL              NULL   \n1        NULL              NULL   \n2        NULL              NULL   \n3        NULL              NULL   \n4        NULL              NULL   \n\n                                         target_link  \\\n0  http://wetten.overheid.nl/id/BWBR0005537/2016-...   \n1  http://wetten.overheid.nl/id/BWBR0005537/2009-...   \n2  http://wetten.overheid.nl/id/BWBR0005537/2018-...   \n3  http://wetten.overheid.nl/id/BWBR0005537/2016-...   \n4  http://wetten.overheid.nl/id/BWBR0005537/2009-...   \n\n                                             doctype  \n0  l-citation-http://linkeddata.overheid.nl/terms...  \n1  l-citation-http://linkeddata.overheid.nl/terms...  \n2  l-citation-http://linkeddata.overheid.nl/terms...  \n3  l-citation-http://linkeddata.overheid.nl/terms...  \n4  l-citation-http://linkeddata.overheid.nl/terms...  ",
      "text/html": "<div>\n<style scoped>\n    .dataframe tbody tr th:only-of-type {\n        vertical-align: middle;\n    }\n\n    .dataframe tbody tr th {\n        vertical-align: top;\n    }\n\n    .dataframe thead th {\n        text-align: right;\n    }\n</style>\n<table border=\"1\" class=\"dataframe\">\n  <thead>\n    <tr style=\"text-align: right;\">\n      <th></th>\n      <th>ecli</th>\n      <th>source_paragraph</th>\n      <th>target_id</th>\n      <th>target_paragraph</th>\n      <th>target_name</th>\n      <th>target_sourcename</th>\n      <th>target_link</th>\n      <th>doctype</th>\n    </tr>\n  </thead>\n  <tbody>\n    <tr>\n      <th>0</th>\n      <td>ECLI:NL:GHAMS:1962:AX8440</td>\n      <td>NULL</td>\n      <td>http://linkeddata.overheid.nl/terms/bwb/id/BWB...</td>\n      <td>NULL</td>\n      <td>NULL</td>\n      <td>NULL</td>\n      <td>http://wetten.overheid.nl/id/BWBR0005537/2016-...</td>\n      <td>l-citation-http://linkeddata.overheid.nl/terms...</td>\n    </tr>\n    <tr>\n      <th>1</th>\n      <td>ECLI:NL:GHAMS:1962:AX8440</td>\n      <td>NULL</td>\n      <td>http://linkeddata.overheid.nl/terms/bwb/id/BWB...</td>\n      <td>NULL</td>\n      <td>NULL</td>\n      <td>NULL</td>\n      <td>http://wetten.overheid.nl/id/BWBR0005537/2009-...</td>\n      <td>l-citation-http://linkeddata.overheid.nl/terms...</td>\n    </tr>\n    <tr>\n      <th>2</th>\n      <td>ECLI:NL:GHAMS:1962:AX8440</td>\n      <td>NULL</td>\n      <td>http://linkeddata.overheid.nl/terms/bwb/id/BWB...</td>\n      <td>NULL</td>\n      <td>NULL</td>\n      <td>NULL</td>\n      <td>http://wetten.overheid.nl/id/BWBR0005537/2018-...</td>\n      <td>l-citation-http://linkeddata.overheid.nl/terms...</td>\n    </tr>\n    <tr>\n      <th>3</th>\n      <td>ECLI:NL:GHAMS:1962:AX8441</td>\n      <td>NULL</td>\n      <td>http://linkeddata.overheid.nl/terms/bwb/id/BWB...</td>\n      <td>NULL</td>\n      <td>NULL</td>\n      <td>NULL</td>\n      <td>http://wetten.overheid.nl/id/BWBR0005537/2016-...</td>\n      <td>l-citation-http://linkeddata.overheid.nl/terms...</td>\n    </tr>\n    <tr>\n      <th>4</th>\n      <td>ECLI:NL:GHAMS:1962:AX8441</td>\n      <td>NULL</td>\n      <td>http://linkeddata.overheid.nl/terms/bwb/id/BWB...</td>\n      <td>NULL</td>\n      <td>NULL</td>\n      <td>NULL</td>\n      <td>http://wetten.overheid.nl/id/BWBR0005537/2009-...</td>\n      <td>l-citation-http://linkeddata.overheid.nl/terms...</td>\n    </tr>\n  </tbody>\n</table>\n</div>"
     },
     "execution_count": 21,
     "metadata": {},
     "output_type": "execute_result"
    }
   ],
   "source": [
    "df_legislation_citation_raw.loc[:,'target_name'] = 'NULL'\n",
    "df_legislation_citation_raw.loc[:,'target_sourcename'] = 'NULL'\n",
    "\n",
    "map_legislation_citation = {\n",
    "    'source_ecli':'ecli',\n",
    "    'source_paragraph':'source_paragraph',\n",
    "    'target_article':'target_id',\n",
    "    'target_article_paragraph':'target_paragraph',\n",
    "    'target_name':'target_name',\n",
    "    'target_sourcename':'target_sourcename',\n",
    "    'target_article_webpage':'target_link'\n",
    "}\n",
    "legislation_citation = df_legislation_citation_raw[map_legislation_citation.keys()].rename(columns=map_legislation_citation)\n",
    "legislation_citation['doctype'] = 'l-citation-' + legislation_citation['target_id'].map(str)\n",
    "\n",
    "\n",
    "legislation_citation.head()"
   ],
   "metadata": {
    "collapsed": false,
    "pycharm": {
     "name": "#%%\n"
    }
   }
  },
  {
   "cell_type": "markdown",
   "source": [
    "#### Case related decision"
   ],
   "metadata": {
    "collapsed": false
   }
  },
  {
   "cell_type": "code",
   "execution_count": 23,
   "outputs": [
    {
     "data": {
      "text/plain": "                    ecli referencing_case_ecli referenced_case_ecli  \\\n0  ECLI:NL:GHAMS:1913:15                  NULL                 NULL   \n1  ECLI:NL:GHAMS:1913:28                  NULL                 NULL   \n2  ECLI:NL:GHAMS:1913:19                  NULL                 NULL   \n3   ECLI:NL:GHAMS:1913:4                  NULL                 NULL   \n4  ECLI:NL:GHAMS:1913:20                  NULL                 NULL   \n\n        doctype  \n0  related-NULL  \n1  related-NULL  \n2  related-NULL  \n3  related-NULL  \n4  related-NULL  ",
      "text/html": "<div>\n<style scoped>\n    .dataframe tbody tr th:only-of-type {\n        vertical-align: middle;\n    }\n\n    .dataframe tbody tr th {\n        vertical-align: top;\n    }\n\n    .dataframe thead th {\n        text-align: right;\n    }\n</style>\n<table border=\"1\" class=\"dataframe\">\n  <thead>\n    <tr style=\"text-align: right;\">\n      <th></th>\n      <th>ecli</th>\n      <th>referencing_case_ecli</th>\n      <th>referenced_case_ecli</th>\n      <th>doctype</th>\n    </tr>\n  </thead>\n  <tbody>\n    <tr>\n      <th>0</th>\n      <td>ECLI:NL:GHAMS:1913:15</td>\n      <td>NULL</td>\n      <td>NULL</td>\n      <td>related-NULL</td>\n    </tr>\n    <tr>\n      <th>1</th>\n      <td>ECLI:NL:GHAMS:1913:28</td>\n      <td>NULL</td>\n      <td>NULL</td>\n      <td>related-NULL</td>\n    </tr>\n    <tr>\n      <th>2</th>\n      <td>ECLI:NL:GHAMS:1913:19</td>\n      <td>NULL</td>\n      <td>NULL</td>\n      <td>related-NULL</td>\n    </tr>\n    <tr>\n      <th>3</th>\n      <td>ECLI:NL:GHAMS:1913:4</td>\n      <td>NULL</td>\n      <td>NULL</td>\n      <td>related-NULL</td>\n    </tr>\n    <tr>\n      <th>4</th>\n      <td>ECLI:NL:GHAMS:1913:20</td>\n      <td>NULL</td>\n      <td>NULL</td>\n      <td>related-NULL</td>\n    </tr>\n  </tbody>\n</table>\n</div>"
     },
     "execution_count": 23,
     "metadata": {},
     "output_type": "execute_result"
    }
   ],
   "source": [
    "df_case_related = df_case_raw[['case_id','related_cases']]\\\n",
    "    .rename(columns = {'case_id':'source_ecli',\n",
    "                       'related_cases': 'referencing_case_ecli'})\n",
    "df_case_related.loc[:,'referenced_case_ecli'] = 'NULL'\n",
    "\n",
    "map_case_related_decision = {\n",
    "    'source_ecli':'ecli',\n",
    "    'referencing_case_ecli':'referencing_case_ecli',\n",
    "    'referenced_case_ecli':'referenced_case_ecli'\n",
    "    }\n",
    "\n",
    "case_related_decision = df_case_related[map_case_related_decision.keys()].rename(columns=map_case_related_decision)\n",
    "case_related_decision['doctype'] = 'related-' + case_related_decision['referencing_case_ecli'].map(str)\n",
    "\n",
    "case_related_decision.head()"
   ],
   "metadata": {
    "collapsed": false,
    "pycharm": {
     "name": "#%%\n"
    }
   }
  },
  {
   "cell_type": "markdown",
   "source": [
    "---\n",
    "## Data to DynamoDB"
   ],
   "metadata": {
    "collapsed": false,
    "pycharm": {
     "name": "#%% md\n"
    }
   }
  },
  {
   "cell_type": "code",
   "execution_count": 24,
   "outputs": [
    {
     "name": "stdout",
     "output_type": "stream",
     "text": [
      "Table status: ACTIVE\n"
     ]
    }
   ],
   "source": [
    "dynamodb = boto3.resource('dynamodb', endpoint_url=\"http://localhost:8000\")  # remove 'endpoint_url' to use web service"
   ],
   "metadata": {
    "collapsed": false,
    "pycharm": {
     "name": "#%%\n"
    }
   }
  },
  {
   "cell_type": "markdown",
   "source": [
    "### Table and key schema definitions:"
   ],
   "metadata": {
    "collapsed": false,
    "pycharm": {
     "name": "#%% md\n"
    }
   }
  },
  {
   "cell_type": "code",
   "execution_count": null,
   "outputs": [],
   "source": [
    "caselaw_table = dynamodb.create_table(\n",
    "    TableName='Caselaw',\n",
    "    KeySchema=[\n",
    "        {\n",
    "            'AttributeName': 'ecli',\n",
    "            'KeyType': 'HASH'  # Partition key\n",
    "        },\n",
    "        {\n",
    "            'AttributeName': 'doctype',\n",
    "            'KeyType': 'RANGE'  # Sort key\n",
    "        },\n",
    "    ],\n",
    "    AttributeDefinitions=[\n",
    "        {\n",
    "            'AttributeName': 'ecli',\n",
    "            'AttributeType': 'S'\n",
    "        },\n",
    "        {\n",
    "            'AttributeName': 'doctype',\n",
    "            'AttributeType': 'S'\n",
    "        },\n",
    "        {\n",
    "            \"AttributeName\": \"subject\",\n",
    "            \"AttributeType\": \"S\"\n",
    "        },\n",
    "    ],\n",
    "    GlobalSecondaryIndexes=[\n",
    "        {\n",
    "            'IndexName': 'GSI-1',\n",
    "            'KeySchema': [\n",
    "                {\n",
    "                    'AttributeName': 'doctype',\n",
    "                    'KeyType': 'HASH'\n",
    "                },\n",
    "                                {\n",
    "                    'AttributeName': 'subject',\n",
    "                    'KeyType': 'RANGE'\n",
    "                },\n",
    "            ],\n",
    "            'Projection': {\n",
    "                'ProjectionType': 'ALL',\n",
    "            },\n",
    "            'ProvisionedThroughput': {\n",
    "                'ReadCapacityUnits': 10,\n",
    "                'WriteCapacityUnits': 10\n",
    "            },\n",
    "        },\n",
    "    ],\n",
    "    ProvisionedThroughput={\n",
    "        'ReadCapacityUnits': 10,\n",
    "        'WriteCapacityUnits': 10\n",
    "    }\n",
    ")\n",
    "print(\"Table status:\", caselaw_table.table_status)\n"
   ],
   "metadata": {
    "collapsed": false,
    "pycharm": {
     "name": "#%%\n"
    }
   }
  },
  {
   "cell_type": "markdown",
   "source": [
    "### Functions to load data into table (from csv or json):"
   ],
   "metadata": {
    "collapsed": false,
    "pycharm": {
     "name": "#%% md\n"
    }
   }
  },
  {
   "cell_type": "code",
   "execution_count": 25,
   "outputs": [],
   "source": [
    "def load_data(table, data, output=False):\n",
    "    keys = [key['AttributeName'] for key in table.key_schema]\n",
    "    counter = 0\n",
    "    with table.batch_writer() as batch:\n",
    "        #for item in data:\n",
    "        for item in data.iterrows():\n",
    "            item = item[1].to_dict()\n",
    "            counter += 1\n",
    "            if output:\n",
    "                values = [item[key] for key in keys]\n",
    "                print(\"Adding item:\", dict(zip(keys, values)))\n",
    "            batch.put_item(Item=item)\n",
    "    print(f'{counter} items added.')\n",
    "\n",
    "def read_csv(filename, items):\n",
    "    data = csv.DictReader(open(filename))\n",
    "    for item in data:\n",
    "        items.append(item)\n",
    "\n",
    "table = dynamodb.Table('caselaw')\n",
    "#file_name = 'moviedata.csv'\n",
    "\n",
    "''' from json: '''\n",
    "#with open(\"moviedata.json\") as json_file:\n",
    "#    item_list = json.load(json_file, parse_float=str)\n",
    "''' from csv: '''\n",
    "item_list = []\n",
    "#read_csv(file_name, item_list)"
   ],
   "metadata": {
    "collapsed": false,
    "pycharm": {
     "name": "#%%\n"
    }
   }
  },
  {
   "cell_type": "code",
   "execution_count": null,
   "outputs": [],
   "source": [
    "load_data(caselaw_table, case)"
   ],
   "metadata": {
    "collapsed": false,
    "pycharm": {
     "name": "#%%\n"
    }
   }
  },
  {
   "cell_type": "code",
   "execution_count": 32,
   "outputs": [
    {
     "name": "stdout",
     "output_type": "stream",
     "text": [
      "44 items added.\n"
     ]
    }
   ],
   "source": [
    "load_data(caselaw_table, legal_intelligence_case)"
   ],
   "metadata": {
    "collapsed": false,
    "pycharm": {
     "name": "#%%\n"
    }
   }
  },
  {
   "cell_type": "code",
   "execution_count": 34,
   "outputs": [
    {
     "name": "stdout",
     "output_type": "stream",
     "text": [
      "617 items added.\n"
     ]
    }
   ],
   "source": [
    "load_data(caselaw_table, case_li)"
   ],
   "metadata": {
    "collapsed": false,
    "pycharm": {
     "name": "#%%\n"
    }
   }
  },
  {
   "cell_type": "code",
   "execution_count": 36,
   "outputs": [
    {
     "name": "stdout",
     "output_type": "stream",
     "text": [
      "65692 items added.\n"
     ]
    }
   ],
   "source": [
    "load_data(caselaw_table, case_opinion)"
   ],
   "metadata": {
    "collapsed": false,
    "pycharm": {
     "name": "#%%\n"
    }
   }
  },
  {
   "cell_type": "code",
   "execution_count": 35,
   "outputs": [
    {
     "name": "stdout",
     "output_type": "stream",
     "text": [
      "758268 items added.\n"
     ]
    }
   ],
   "source": [
    "load_data(caselaw_table, case_citation)"
   ],
   "metadata": {
    "collapsed": false,
    "pycharm": {
     "name": "#%%\n"
    }
   }
  },
  {
   "cell_type": "code",
   "execution_count": null,
   "outputs": [],
   "source": [
    "load_data(table, legislation_citation)"
   ],
   "metadata": {
    "collapsed": false,
    "pycharm": {
     "name": "#%%\n"
    }
   }
  },
  {
   "cell_type": "code",
   "execution_count": null,
   "outputs": [],
   "source": [
    "load_data(table, case_related_decision)"
   ],
   "metadata": {
    "collapsed": false,
    "pycharm": {
     "name": "#%%\n"
    }
   }
  },
  {
   "cell_type": "markdown",
   "source": [
    "### Example queries:"
   ],
   "metadata": {
    "collapsed": false
   }
  },
  {
   "cell_type": "code",
   "execution_count": 37,
   "outputs": [
    {
     "name": "stdout",
     "output_type": "stream",
     "text": [
      "{'Item': {'CaseNumber_li': '31 032 ECLI:NL:HR:1996:AA1795',\n",
      "          'DateAdded_li': Decimal('20110520'),\n",
      "          'DisplaySubtitle_li': 'Redactie e.a. - Module-serie - Module Afval - '\n",
      "                                'Milieurecht Totaal',\n",
      "          'DisplayTitle_li': 'Bewijslast voor geen gebruik bij belanghebbende. '\n",
      "                             '(Nog) geen oordeel of benutten gesubsidieerde '\n",
      "                             'organisaties ook gebruik kan zijn van diensten '\n",
      "                             'vanwege de gemeente',\n",
      "          'DocumentType_li': 'Rechtspraak',\n",
      "          'IssueNumber_li': 'NULL',\n",
      "          'Jurisdiction_li': 'Nederland',\n",
      "          'OriginalUrl_li': 'https://www.navigator.nl/#/document/da76d4497728a70201a21820933a0c3b04',\n",
      "          'PublicationNumber_li': 'NULL',\n",
      "          'Sources_li': 'Milieurecht Totaal',\n",
      "          'UrlWithAutoLogOnToken_li': 'http://www.legalintelligence.com/documents/4968276?srcfrm=basic+search&app=API&docindex=25&stext=1996&alt=qRFpgllPmW0nY4LGHaBWx6pLxHJBFmYqWcNvtQCuK7g9oRoN5VJIMBuzFVa8sZ2dyRt%2F7BVWbFzBVLrVPcs9nvVFQEt0orPOdDDgY0%2FcXhQ%3D',\n",
      "          'abstract_li': 'Bewijslast voor geen gebruik bij belanghebbende. '\n",
      "                         '(Nog) geen oordeel of benutten gesubsidieerde '\n",
      "                         'organisaties ook gebruik kan zijn van diensten '\n",
      "                         'vanwege de gemeente',\n",
      "          'court_li': 'Hoge Raad',\n",
      "          'date_li': Decimal('19960101'),\n",
      "          'doctype': 'uitspraak',\n",
      "          'ecli': 'ECLI:NL:PHR:1996:AA1795',\n",
      "          'link_li': 'http://www.legalintelligence.com/documents/4968276?srcfrm=basic+search&app=API&docindex=25&stext=1996',\n",
      "          'lodge_date_li': Decimal('19961218'),\n",
      "          'name_li': 'Bewijslast voor geen gebruik bij belanghebbende. (Nog) '\n",
      "                     'geen oordeel of benutten gesubsidieerde organisaties ook '\n",
      "                     'gebruik kan zijn van diensten vanwege de gemeente',\n",
      "          'subject_li': \"['Ruimtelijk Bestuursrecht/Milieurecht/Energierecht', \"\n",
      "                        \"'Staats- en Bestuursrecht']\"},\n",
      " 'ResponseMetadata': {'HTTPHeaders': {'content-length': '1653',\n",
      "                                      'content-type': 'application/x-amz-json-1.0',\n",
      "                                      'server': 'Jetty(8.1.12.v20130726)',\n",
      "                                      'x-amz-crc32': '1101911391',\n",
      "                                      'x-amzn-requestid': 'b4cef69e-8bfe-4894-868e-e0c76e819e5f'},\n",
      "                      'HTTPStatusCode': 200,\n",
      "                      'RequestId': 'b4cef69e-8bfe-4894-868e-e0c76e819e5f',\n",
      "                      'RetryAttempts': 0}}\n"
     ]
    }
   ],
   "source": [
    "### uitspraak by ecli:\n",
    "pprint(caselaw_table.get_item(Key={'ecli': 'ECLI:NL:PHR:1996:AA1795',\n",
    "                                   'doctype': 'uitspraak'}))"
   ],
   "metadata": {
    "collapsed": false,
    "pycharm": {
     "name": "#%%\n"
    }
   }
  },
  {
   "cell_type": "code",
   "execution_count": 38,
   "outputs": [
    {
     "name": "stdout",
     "output_type": "stream",
     "text": [
      "{'Item': {'abstract': 'NULL',\n",
      "          'case_number': 'x47',\n",
      "          'country': 'NL',\n",
      "          'court': 'Parket bij de Hoge Raad',\n",
      "          'date': '1913-04-18',\n",
      "          'description': 'NULL',\n",
      "          'doctype': 'opinion',\n",
      "          'ecli': 'ECLI:NL:PHR:1913:AG1763',\n",
      "          'language': 'NL',\n",
      "          'procedure_type': 'NULL',\n",
      "          'subject': 'NULL',\n",
      "          'venue': 'NULL'},\n",
      " 'ResponseMetadata': {'HTTPHeaders': {'content-length': '335',\n",
      "                                      'content-type': 'application/x-amz-json-1.0',\n",
      "                                      'server': 'Jetty(8.1.12.v20130726)',\n",
      "                                      'x-amz-crc32': '961979117',\n",
      "                                      'x-amzn-requestid': '66453fd1-28f8-4315-b2c6-51faa7fec4fd'},\n",
      "                      'HTTPStatusCode': 200,\n",
      "                      'RequestId': '66453fd1-28f8-4315-b2c6-51faa7fec4fd',\n",
      "                      'RetryAttempts': 0}}\n"
     ]
    }
   ],
   "source": [
    "### opinion by ecli:\n",
    "pprint(caselaw_table.get_item(Key={'ecli': 'ECLI:NL:PHR:1913:AG1763',\n",
    "                                   'doctype': 'opinion'}))"
   ],
   "metadata": {
    "collapsed": false,
    "pycharm": {
     "name": "#%%\n"
    }
   }
  },
  {
   "cell_type": "code",
   "execution_count": 47,
   "outputs": [
    {
     "name": "stdout",
     "output_type": "stream",
     "text": [
      "{'Count': 6,\n",
      " 'Items': [{'doctype': 'c-citation-ECLI:NL:HR:1913:129',\n",
      "            'ecli': 'ECLI:NL:AGAMS:1934:1',\n",
      "            'source_paragraph': 'NULL',\n",
      "            'target_ecli': 'ECLI:NL:HR:1913:129',\n",
      "            'target_paragraph': 'NULL'},\n",
      "           {'doctype': 'c-citation-ECLI:NL:HR:1914:114',\n",
      "            'ecli': 'ECLI:NL:AGAMS:1934:1',\n",
      "            'source_paragraph': 'NULL',\n",
      "            'target_ecli': 'ECLI:NL:HR:1914:114',\n",
      "            'target_paragraph': 'NULL'},\n",
      "           {'doctype': 'c-citation-ECLI:NL:HR:1914:149',\n",
      "            'ecli': 'ECLI:NL:AGAMS:1934:1',\n",
      "            'source_paragraph': 'NULL',\n",
      "            'target_ecli': 'ECLI:NL:HR:1914:149',\n",
      "            'target_paragraph': 'NULL'},\n",
      "           {'doctype': 'c-citation-ECLI:NL:HR:1914:157',\n",
      "            'ecli': 'ECLI:NL:AGAMS:1934:1',\n",
      "            'source_paragraph': 'NULL',\n",
      "            'target_ecli': 'ECLI:NL:HR:1914:157',\n",
      "            'target_paragraph': 'NULL'},\n",
      "           {'doctype': 'c-citation-ECLI:NL:HR:1915:104',\n",
      "            'ecli': 'ECLI:NL:AGAMS:1934:1',\n",
      "            'source_paragraph': 'NULL',\n",
      "            'target_ecli': 'ECLI:NL:HR:1915:104',\n",
      "            'target_paragraph': 'NULL'},\n",
      "           {'doctype': 'c-citation-ECLI:NL:HR:1928:100',\n",
      "            'ecli': 'ECLI:NL:AGAMS:1934:1',\n",
      "            'source_paragraph': 'NULL',\n",
      "            'target_ecli': 'ECLI:NL:HR:1928:100',\n",
      "            'target_paragraph': 'NULL'}],\n",
      " 'ResponseMetadata': {'HTTPHeaders': {'content-length': '1196',\n",
      "                                      'content-type': 'application/x-amz-json-1.0',\n",
      "                                      'server': 'Jetty(8.1.12.v20130726)',\n",
      "                                      'x-amz-crc32': '3388468576',\n",
      "                                      'x-amzn-requestid': '2c7576e6-679b-47f3-a3fb-6b7a9475d168'},\n",
      "                      'HTTPStatusCode': 200,\n",
      "                      'RequestId': '2c7576e6-679b-47f3-a3fb-6b7a9475d168',\n",
      "                      'RetryAttempts': 0},\n",
      " 'ScannedCount': 6}\n"
     ]
    }
   ],
   "source": [
    "### case citations by ecli:\n",
    "pprint(caselaw_table.query(\n",
    "    KeyConditionExpression=Key('ecli').eq('ECLI:NL:AGAMS:1934:1') &\n",
    "                           Key('doctype').begins_with('c-citation'))  # [lc, cc, d]\n",
    ")"
   ],
   "metadata": {
    "collapsed": false,
    "pycharm": {
     "name": "#%%\n"
    }
   }
  },
  {
   "cell_type": "code",
   "execution_count": 46,
   "outputs": [
    {
     "name": "stdout",
     "output_type": "stream",
     "text": [
      "{'Count': 168,\n",
      " 'Items': [{'country': 'NL',\n",
      "            'court': 'Hoge Raad',\n",
      "            'ecli': 'ECLI:NL:HR:1997:ZF3400'},\n",
      "           {'country': 'NL',\n",
      "            'court': 'Hoge Raad',\n",
      "            'ecli': 'ECLI:NL:HR:1997:AA3340'},\n",
      "           {'country': 'NL',\n",
      "            'court': 'Hoge Raad',\n",
      "            'ecli': 'ECLI:NL:HR:1997:AA2147'},\n",
      "           {'country': 'NL',\n",
      "            'court': 'Hoge Raad',\n",
      "            'ecli': 'ECLI:NL:HR:1998:AA2568'},\n",
      "           {'country': 'NL',\n",
      "            'court': 'Hoge Raad',\n",
      "            'ecli': 'ECLI:NL:HR:1998:AA2367'},\n",
      "           {'country': 'NL',\n",
      "            'court': 'Hoge Raad',\n",
      "            'ecli': 'ECLI:NL:HR:1999:AA3390'},\n",
      "           {'country': 'NL',\n",
      "            'court': 'Hoge Raad',\n",
      "            'ecli': 'ECLI:NL:HR:1996:AA1751'},\n",
      "           {'country': 'NL',\n",
      "            'court': 'Hoge Raad',\n",
      "            'ecli': 'ECLI:NL:HR:1998:AA2607'},\n",
      "           {'country': 'NL',\n",
      "            'court': 'Hoge Raad',\n",
      "            'ecli': 'ECLI:NL:HR:1999:AA3863'},\n",
      "           {'country': 'NL',\n",
      "            'court': 'Hoge Raad',\n",
      "            'ecli': 'ECLI:NL:HR:1997:AA3295'},\n",
      "           {'country': 'NL',\n",
      "            'court': 'Hoge Raad',\n",
      "            'ecli': 'ECLI:NL:HR:1999:AA2629'},\n",
      "           {'country': 'NL',\n",
      "            'court': 'Hoge Raad',\n",
      "            'ecli': 'ECLI:NL:HR:1999:ZC7631'},\n",
      "           {'country': 'NL',\n",
      "            'court': 'Hoge Raad',\n",
      "            'ecli': 'ECLI:NL:HR:1999:AA2918'},\n",
      "           {'country': 'NL',\n",
      "            'court': 'Hoge Raad',\n",
      "            'ecli': 'ECLI:NL:HR:1999:AA2932'},\n",
      "           {'country': 'NL',\n",
      "            'court': 'Hoge Raad',\n",
      "            'ecli': 'ECLI:NL:HR:1997:AA3337'},\n",
      "           {'country': 'NL',\n",
      "            'court': 'Hoge Raad',\n",
      "            'ecli': 'ECLI:NL:HR:1996:AA1754'},\n",
      "           {'country': 'NL',\n",
      "            'court': 'Hoge Raad',\n",
      "            'ecli': 'ECLI:NL:HR:1997:AA3322'},\n",
      "           {'country': 'NL',\n",
      "            'court': 'Hoge Raad',\n",
      "            'ecli': 'ECLI:NL:HR:1996:AA1737'},\n",
      "           {'country': 'NL',\n",
      "            'court': 'Hoge Raad',\n",
      "            'ecli': 'ECLI:NL:HR:1999:AA2622'},\n",
      "           {'country': 'NL',\n",
      "            'court': 'Hoge Raad',\n",
      "            'ecli': 'ECLI:NL:HR:1996:AA1785'},\n",
      "           {'country': 'NL',\n",
      "            'court': 'Hoge Raad',\n",
      "            'ecli': 'ECLI:NL:HR:1997:AA3268'},\n",
      "           {'country': 'NL',\n",
      "            'court': 'Hoge Raad',\n",
      "            'ecli': 'ECLI:NL:HR:1998:AA2308'},\n",
      "           {'country': 'NL',\n",
      "            'court': 'Hoge Raad',\n",
      "            'ecli': 'ECLI:NL:HR:1997:AA3276'},\n",
      "           {'country': 'NL',\n",
      "            'court': 'Hoge Raad',\n",
      "            'ecli': 'ECLI:NL:HR:1998:AA2343'},\n",
      "           {'country': 'NL',\n",
      "            'court': 'Hoge Raad',\n",
      "            'ecli': 'ECLI:NL:HR:1996:AA1962'},\n",
      "           {'country': 'NL',\n",
      "            'court': 'Hoge Raad',\n",
      "            'ecli': 'ECLI:NL:HR:1996:AA1717'},\n",
      "           {'country': 'NL',\n",
      "            'court': 'Hoge Raad',\n",
      "            'ecli': 'ECLI:NL:HR:1999:AA2920'},\n",
      "           {'country': 'NL',\n",
      "            'court': 'Hoge Raad',\n",
      "            'ecli': 'ECLI:NL:HR:1998:AA2574'},\n",
      "           {'country': 'NL',\n",
      "            'court': 'Hoge Raad',\n",
      "            'ecli': 'ECLI:NL:HR:1999:AA2919'},\n",
      "           {'country': 'NL',\n",
      "            'court': 'Hoge Raad',\n",
      "            'ecli': 'ECLI:NL:HR:1999:AA3810'},\n",
      "           {'country': 'NL',\n",
      "            'court': 'Hoge Raad',\n",
      "            'ecli': 'ECLI:NL:HR:1999:AA3831'},\n",
      "           {'country': 'NL',\n",
      "            'court': 'Hoge Raad',\n",
      "            'ecli': 'ECLI:NL:HR:1996:AA1768'},\n",
      "           {'country': 'NL',\n",
      "            'court': 'Hoge Raad',\n",
      "            'ecli': 'ECLI:NL:HR:1996:AA1752'},\n",
      "           {'country': 'NL',\n",
      "            'court': 'Hoge Raad',\n",
      "            'ecli': 'ECLI:NL:HR:1999:AA2934'},\n",
      "           {'country': 'NL',\n",
      "            'court': 'Hoge Raad',\n",
      "            'ecli': 'ECLI:NL:HR:1996:BI5522'},\n",
      "           {'country': 'NL',\n",
      "            'court': 'Hoge Raad',\n",
      "            'ecli': 'ECLI:NL:HR:1998:AA2562'},\n",
      "           {'country': 'NL',\n",
      "            'court': 'Hoge Raad',\n",
      "            'ecli': 'ECLI:NL:HR:1996:AA1727'},\n",
      "           {'country': 'NL',\n",
      "            'court': 'Hoge Raad',\n",
      "            'ecli': 'ECLI:NL:HR:1996:AA1729'},\n",
      "           {'country': 'NL',\n",
      "            'court': 'Hoge Raad',\n",
      "            'ecli': 'ECLI:NL:HR:1996:AA1783'},\n",
      "           {'country': 'NL',\n",
      "            'court': 'Hoge Raad',\n",
      "            'ecli': 'ECLI:NL:HR:1999:AA2619'},\n",
      "           {'country': 'NL',\n",
      "            'court': 'Hoge Raad',\n",
      "            'ecli': 'ECLI:NL:HR:1996:AA1715'},\n",
      "           {'country': 'NL',\n",
      "            'court': 'Hoge Raad',\n",
      "            'ecli': 'ECLI:NL:HR:1996:AA1743'},\n",
      "           {'country': 'NL',\n",
      "            'court': 'Hoge Raad',\n",
      "            'ecli': 'ECLI:NL:HR:1997:AA3298'},\n",
      "           {'country': 'NL',\n",
      "            'court': 'Hoge Raad',\n",
      "            'ecli': 'ECLI:NL:HR:1998:AA2479'},\n",
      "           {'country': 'NL',\n",
      "            'court': 'Hoge Raad',\n",
      "            'ecli': 'ECLI:NL:HR:1997:AA3350'},\n",
      "           {'country': 'NL',\n",
      "            'court': 'Hoge Raad',\n",
      "            'ecli': 'ECLI:NL:HR:1996:AA1740'},\n",
      "           {'country': 'NL',\n",
      "            'court': 'Hoge Raad',\n",
      "            'ecli': 'ECLI:NL:HR:1997:AA3328'},\n",
      "           {'country': 'NL',\n",
      "            'court': 'Hoge Raad',\n",
      "            'ecli': 'ECLI:NL:HR:1996:AA1722'},\n",
      "           {'country': 'NL',\n",
      "            'court': 'Hoge Raad',\n",
      "            'ecli': 'ECLI:NL:HR:1996:AA1748'},\n",
      "           {'country': 'NL',\n",
      "            'court': 'Hoge Raad',\n",
      "            'ecli': 'ECLI:NL:HR:1997:AA3283'},\n",
      "           {'country': 'NL',\n",
      "            'court': 'Hoge Raad',\n",
      "            'ecli': 'ECLI:NL:HR:1996:AA1773'},\n",
      "           {'country': 'NL',\n",
      "            'court': 'Hoge Raad',\n",
      "            'ecli': 'ECLI:NL:HR:1999:AA3391'},\n",
      "           {'country': 'NL',\n",
      "            'court': 'Hoge Raad',\n",
      "            'ecli': 'ECLI:NL:HR:1996:AA1767'},\n",
      "           {'country': 'NL',\n",
      "            'court': 'Hoge Raad',\n",
      "            'ecli': 'ECLI:NL:HR:1997:ZC6866'},\n",
      "           {'country': 'NL',\n",
      "            'court': 'Hoge Raad',\n",
      "            'ecli': 'ECLI:NL:HR:1999:AA2917'},\n",
      "           {'country': 'NL',\n",
      "            'court': 'Hoge Raad',\n",
      "            'ecli': 'ECLI:NL:HR:1996:AA1714'},\n",
      "           {'country': 'NL',\n",
      "            'court': 'Hoge Raad',\n",
      "            'ecli': 'ECLI:NL:HR:1997:ZC6849'},\n",
      "           {'country': 'NL',\n",
      "            'court': 'Hoge Raad',\n",
      "            'ecli': 'ECLI:NL:HR:1997:AA3299'},\n",
      "           {'country': 'NL',\n",
      "            'court': 'Hoge Raad',\n",
      "            'ecli': 'ECLI:NL:HR:1997:AA2108'},\n",
      "           {'country': 'NL',\n",
      "            'court': 'Hoge Raad',\n",
      "            'ecli': 'ECLI:NL:HR:1998:AA2570'},\n",
      "           {'country': 'NL',\n",
      "            'court': 'Hoge Raad',\n",
      "            'ecli': 'ECLI:NL:HR:1998:AA2608'},\n",
      "           {'country': 'NL',\n",
      "            'court': 'Hoge Raad',\n",
      "            'ecli': 'ECLI:NL:HR:1996:AA1770'},\n",
      "           {'country': 'NL',\n",
      "            'court': 'Hoge Raad',\n",
      "            'ecli': 'ECLI:NL:HR:1996:AA1763'},\n",
      "           {'country': 'NL',\n",
      "            'court': 'Hoge Raad',\n",
      "            'ecli': 'ECLI:NL:HR:1998:AA2264'},\n",
      "           {'country': 'NL',\n",
      "            'court': 'Hoge Raad',\n",
      "            'ecli': 'ECLI:NL:HR:1998:AA2310'},\n",
      "           {'country': 'NL',\n",
      "            'court': 'Hoge Raad',\n",
      "            'ecli': 'ECLI:NL:HR:1999:AA2658'},\n",
      "           {'country': 'NL',\n",
      "            'court': 'Hoge Raad',\n",
      "            'ecli': 'ECLI:NL:HR:1998:AA2405'},\n",
      "           {'country': 'NL',\n",
      "            'court': 'Hoge Raad',\n",
      "            'ecli': 'ECLI:NL:HR:1999:AA3847'},\n",
      "           {'country': 'NL',\n",
      "            'court': 'Hoge Raad',\n",
      "            'ecli': 'ECLI:NL:HR:1999:AA3829'},\n",
      "           {'country': 'NL',\n",
      "            'court': 'Hoge Raad',\n",
      "            'ecli': 'ECLI:NL:HR:1999:AA2937'},\n",
      "           {'country': 'NL',\n",
      "            'court': 'Hoge Raad',\n",
      "            'ecli': 'ECLI:NL:HR:1999:AA3830'},\n",
      "           {'country': 'NL',\n",
      "            'court': 'Hoge Raad',\n",
      "            'ecli': 'ECLI:NL:HR:1997:AA3265'},\n",
      "           {'country': 'NL',\n",
      "            'court': 'Hoge Raad',\n",
      "            'ecli': 'ECLI:NL:HR:1998:AA2271'},\n",
      "           {'country': 'NL',\n",
      "            'court': 'Hoge Raad',\n",
      "            'ecli': 'ECLI:NL:HR:1996:AA1755'},\n",
      "           {'country': 'NL',\n",
      "            'court': 'Hoge Raad',\n",
      "            'ecli': 'ECLI:NL:HR:1997:AA2174'},\n",
      "           {'country': 'NL',\n",
      "            'court': 'Hoge Raad',\n",
      "            'ecli': 'ECLI:NL:HR:1997:AA3317'},\n",
      "           {'country': 'NL',\n",
      "            'court': 'Hoge Raad',\n",
      "            'ecli': 'ECLI:NL:HR:1999:AA3815'},\n",
      "           {'country': 'NL',\n",
      "            'court': 'Hoge Raad',\n",
      "            'ecli': 'ECLI:NL:HR:1998:AA2539'},\n",
      "           {'country': 'NL',\n",
      "            'court': 'Hoge Raad',\n",
      "            'ecli': 'ECLI:NL:HR:1999:AA3389'},\n",
      "           {'country': 'NL',\n",
      "            'court': 'Hoge Raad',\n",
      "            'ecli': 'ECLI:NL:HR:1998:AA2318'},\n",
      "           {'country': 'NL',\n",
      "            'court': 'Hoge Raad',\n",
      "            'ecli': 'ECLI:NL:HR:1999:AA3852'},\n",
      "           {'country': 'NL',\n",
      "            'court': 'Hoge Raad',\n",
      "            'ecli': 'ECLI:NL:HR:1996:AA1720'},\n",
      "           {'country': 'NL',\n",
      "            'court': 'Hoge Raad',\n",
      "            'ecli': 'ECLI:NL:HR:1997:AA3316'},\n",
      "           {'country': 'NL',\n",
      "            'court': 'Hoge Raad',\n",
      "            'ecli': 'ECLI:NL:HR:1996:AA1719'},\n",
      "           {'country': 'NL',\n",
      "            'court': 'Hoge Raad',\n",
      "            'ecli': 'ECLI:NL:HR:1997:AA3309'},\n",
      "           {'country': 'NL',\n",
      "            'court': 'Hoge Raad',\n",
      "            'ecli': 'ECLI:NL:HR:1996:AA1771'},\n",
      "           {'country': 'NL',\n",
      "            'court': 'Hoge Raad',\n",
      "            'ecli': 'ECLI:NL:HR:1998:AA2611'},\n",
      "           {'country': 'NL',\n",
      "            'court': 'Hoge Raad',\n",
      "            'ecli': 'ECLI:NL:HR:1997:AA3287'},\n",
      "           {'country': 'NL',\n",
      "            'court': 'Hoge Raad',\n",
      "            'ecli': 'ECLI:NL:HR:1999:AA2627'},\n",
      "           {'country': 'NL',\n",
      "            'court': 'Hoge Raad',\n",
      "            'ecli': 'ECLI:NL:HR:1997:AA3296'},\n",
      "           {'country': 'NL',\n",
      "            'court': 'Hoge Raad',\n",
      "            'ecli': 'ECLI:NL:HR:1999:AA2626'},\n",
      "           {'country': 'NL',\n",
      "            'court': 'Hoge Raad',\n",
      "            'ecli': 'ECLI:NL:HR:1998:ZC7232'},\n",
      "           {'country': 'NL',\n",
      "            'court': 'Hoge Raad',\n",
      "            'ecli': 'ECLI:NL:HR:1997:AA2115'},\n",
      "           {'country': 'NL',\n",
      "            'court': 'Hoge Raad',\n",
      "            'ecli': 'ECLI:NL:HR:1999:AA2618'},\n",
      "           {'country': 'NL',\n",
      "            'court': 'Hoge Raad',\n",
      "            'ecli': 'ECLI:NL:HR:1997:AA2255'},\n",
      "           {'country': 'NL',\n",
      "            'court': 'Hoge Raad',\n",
      "            'ecli': 'ECLI:NL:HR:1996:AA1759'},\n",
      "           {'country': 'NL',\n",
      "            'court': 'Hoge Raad',\n",
      "            'ecli': 'ECLI:NL:HR:1997:AA3311'},\n",
      "           {'country': 'NL',\n",
      "            'court': 'Hoge Raad',\n",
      "            'ecli': 'ECLI:NL:HR:1997:AA2145'},\n",
      "           {'country': 'NL',\n",
      "            'court': 'Hoge Raad',\n",
      "            'ecli': 'ECLI:NL:HR:1998:AA2303'},\n",
      "           {'country': 'NL',\n",
      "            'court': 'Hoge Raad',\n",
      "            'ecli': 'ECLI:NL:HR:1996:AA1994'},\n",
      "           {'country': 'NL',\n",
      "            'court': 'Hoge Raad',\n",
      "            'ecli': 'ECLI:NL:HR:1996:AA1762'},\n",
      "           {'country': 'NL',\n",
      "            'court': 'Hoge Raad',\n",
      "            'ecli': 'ECLI:NL:HR:1996:AA1872'},\n",
      "           {'country': 'NL',\n",
      "            'court': 'Hoge Raad',\n",
      "            'ecli': 'ECLI:NL:HR:1998:AA2588'},\n",
      "           {'country': 'NL',\n",
      "            'court': 'Hoge Raad',\n",
      "            'ecli': 'ECLI:NL:HR:1997:AA3318'},\n",
      "           {'country': 'NL',\n",
      "            'court': 'Hoge Raad',\n",
      "            'ecli': 'ECLI:NL:HR:1997:AA3260'},\n",
      "           {'country': 'NL',\n",
      "            'court': 'Hoge Raad',\n",
      "            'ecli': 'ECLI:NL:HR:1998:AA2605'},\n",
      "           {'country': 'NL',\n",
      "            'court': 'Hoge Raad',\n",
      "            'ecli': 'ECLI:NL:HR:1997:AA2143'},\n",
      "           {'country': 'NL',\n",
      "            'court': 'Hoge Raad',\n",
      "            'ecli': 'ECLI:NL:HR:1997:AA3178'},\n",
      "           {'country': 'NL',\n",
      "            'court': 'Hoge Raad',\n",
      "            'ecli': 'ECLI:NL:HR:1997:AA3338'},\n",
      "           {'country': 'NL',\n",
      "            'court': 'Hoge Raad',\n",
      "            'ecli': 'ECLI:NL:HR:1996:AA1761'},\n",
      "           {'country': 'NL',\n",
      "            'court': 'Hoge Raad',\n",
      "            'ecli': 'ECLI:NL:HR:1999:AA2631'},\n",
      "           {'country': 'NL',\n",
      "            'court': 'Hoge Raad',\n",
      "            'ecli': 'ECLI:NL:HR:1999:ZC7577'},\n",
      "           {'country': 'NL',\n",
      "            'court': 'Hoge Raad',\n",
      "            'ecli': 'ECLI:NL:HR:1997:AA3179'},\n",
      "           {'country': 'NL',\n",
      "            'court': 'Hoge Raad',\n",
      "            'ecli': 'ECLI:NL:HR:1998:AA2565'},\n",
      "           {'country': 'NL',\n",
      "            'court': 'Hoge Raad',\n",
      "            'ecli': 'ECLI:NL:HR:1997:AA2241'},\n",
      "           {'country': 'NL',\n",
      "            'court': 'Hoge Raad',\n",
      "            'ecli': 'ECLI:NL:HR:1996:AA1766'},\n",
      "           {'country': 'NL',\n",
      "            'court': 'Hoge Raad',\n",
      "            'ecli': 'ECLI:NL:HR:1997:AA2148'},\n",
      "           {'country': 'NL',\n",
      "            'court': 'Hoge Raad',\n",
      "            'ecli': 'ECLI:NL:HR:1999:AA3809'},\n",
      "           {'country': 'NL',\n",
      "            'court': 'Hoge Raad',\n",
      "            'ecli': 'ECLI:NL:HR:1999:AA3814'},\n",
      "           {'country': 'NL',\n",
      "            'court': 'Hoge Raad',\n",
      "            'ecli': 'ECLI:NL:HR:1997:AA3306'},\n",
      "           {'country': 'NL',\n",
      "            'court': 'Hoge Raad',\n",
      "            'ecli': 'ECLI:NL:HR:1998:AA2495'},\n",
      "           {'country': 'NL',\n",
      "            'court': 'Hoge Raad',\n",
      "            'ecli': 'ECLI:NL:HR:1997:AA3329'},\n",
      "           {'country': 'NL',\n",
      "            'court': 'Hoge Raad',\n",
      "            'ecli': 'ECLI:NL:HR:1998:AA2585'},\n",
      "           {'country': 'NL',\n",
      "            'court': 'Hoge Raad',\n",
      "            'ecli': 'ECLI:NL:HR:1997:AA3263'},\n",
      "           {'country': 'NL',\n",
      "            'court': 'Hoge Raad',\n",
      "            'ecli': 'ECLI:NL:HR:1996:AA1829'},\n",
      "           {'country': 'NL',\n",
      "            'court': 'Hoge Raad',\n",
      "            'ecli': 'ECLI:NL:HR:1998:AA2612'},\n",
      "           {'country': 'NL',\n",
      "            'court': 'Hoge Raad',\n",
      "            'ecli': 'ECLI:NL:HR:1996:AA1764'},\n",
      "           {'country': 'NL',\n",
      "            'court': 'Hoge Raad',\n",
      "            'ecli': 'ECLI:NL:HR:1999:AA3392'},\n",
      "           {'country': 'NL',\n",
      "            'court': 'Hoge Raad',\n",
      "            'ecli': 'ECLI:NL:HR:1998:AA2281'},\n",
      "           {'country': 'NL',\n",
      "            'court': 'Hoge Raad',\n",
      "            'ecli': 'ECLI:NL:HR:1996:AA1779'},\n",
      "           {'country': 'NL',\n",
      "            'court': 'Hoge Raad',\n",
      "            'ecli': 'ECLI:NL:HR:1999:AA2935'},\n",
      "           {'country': 'NL',\n",
      "            'court': 'Hoge Raad',\n",
      "            'ecli': 'ECLI:NL:HR:1998:AA2485'},\n",
      "           {'country': 'NL',\n",
      "            'court': 'Hoge Raad',\n",
      "            'ecli': 'ECLI:NL:HR:1998:AA2613'},\n",
      "           {'country': 'NL',\n",
      "            'court': 'Hoge Raad',\n",
      "            'ecli': 'ECLI:NL:HR:1997:AA3345'},\n",
      "           {'country': 'NL',\n",
      "            'court': 'Hoge Raad',\n",
      "            'ecli': 'ECLI:NL:HR:1999:AA3857'},\n",
      "           {'country': 'NL',\n",
      "            'court': 'Hoge Raad',\n",
      "            'ecli': 'ECLI:NL:HR:1997:ZC6851'},\n",
      "           {'country': 'NL',\n",
      "            'court': 'Hoge Raad',\n",
      "            'ecli': 'ECLI:NL:HR:1999:AA3812'},\n",
      "           {'country': 'NL',\n",
      "            'court': 'Hoge Raad',\n",
      "            'ecli': 'ECLI:NL:HR:1998:AA2319'},\n",
      "           {'country': 'NL',\n",
      "            'court': 'Hoge Raad',\n",
      "            'ecli': 'ECLI:NL:HR:1999:AA3862'},\n",
      "           {'country': 'NL',\n",
      "            'court': 'Hoge Raad',\n",
      "            'ecli': 'ECLI:NL:HR:1999:AA3813'},\n",
      "           {'country': 'NL',\n",
      "            'court': 'Hoge Raad',\n",
      "            'ecli': 'ECLI:NL:HR:1999:AA2616'},\n",
      "           {'country': 'NL',\n",
      "            'court': 'Hoge Raad',\n",
      "            'ecli': 'ECLI:NL:HR:1999:AA2623'},\n",
      "           {'country': 'NL',\n",
      "            'court': 'Hoge Raad',\n",
      "            'ecli': 'ECLI:NL:HR:1999:AA3384'},\n",
      "           {'country': 'NL',\n",
      "            'court': 'Hoge Raad',\n",
      "            'ecli': 'ECLI:NL:HR:1996:AA1782'},\n",
      "           {'country': 'NL',\n",
      "            'court': 'Hoge Raad',\n",
      "            'ecli': 'ECLI:NL:HR:1997:AA3310'},\n",
      "           {'country': 'NL',\n",
      "            'court': 'Hoge Raad',\n",
      "            'ecli': 'ECLI:NL:HR:1997:AA3286'},\n",
      "           {'country': 'NL',\n",
      "            'court': 'Hoge Raad',\n",
      "            'ecli': 'ECLI:NL:HR:1999:AA2625'},\n",
      "           {'country': 'NL',\n",
      "            'court': 'Hoge Raad',\n",
      "            'ecli': 'ECLI:NL:HR:1996:AA1776'},\n",
      "           {'country': 'NL',\n",
      "            'court': 'Hoge Raad',\n",
      "            'ecli': 'ECLI:NL:HR:1997:AA3333'},\n",
      "           {'country': 'NL',\n",
      "            'court': 'Hoge Raad',\n",
      "            'ecli': 'ECLI:NL:HR:1996:AA1724'},\n",
      "           {'country': 'NL',\n",
      "            'court': 'Hoge Raad',\n",
      "            'ecli': 'ECLI:NL:HR:1999:AA2621'},\n",
      "           {'country': 'NL',\n",
      "            'court': 'Hoge Raad',\n",
      "            'ecli': 'ECLI:NL:HR:1997:AA3327'},\n",
      "           {'country': 'NL',\n",
      "            'court': 'Hoge Raad',\n",
      "            'ecli': 'ECLI:NL:HR:1996:AA1712'},\n",
      "           {'country': 'NL',\n",
      "            'court': 'Hoge Raad',\n",
      "            'ecli': 'ECLI:NL:HR:1998:AA2586'},\n",
      "           {'country': 'NL',\n",
      "            'court': 'Hoge Raad',\n",
      "            'ecli': 'ECLI:NL:HR:1999:AA3388'},\n",
      "           {'country': 'NL',\n",
      "            'court': 'Hoge Raad',\n",
      "            'ecli': 'ECLI:NL:HR:1997:AA3339'},\n",
      "           {'country': 'NL',\n",
      "            'court': 'Hoge Raad',\n",
      "            'ecli': 'ECLI:NL:HR:1996:ZC6474'},\n",
      "           {'country': 'NL',\n",
      "            'court': 'Hoge Raad',\n",
      "            'ecli': 'ECLI:NL:HR:1999:AA2936'},\n",
      "           {'country': 'NL',\n",
      "            'court': 'Hoge Raad',\n",
      "            'ecli': 'ECLI:NL:HR:1999:AA2728'},\n",
      "           {'country': 'NL',\n",
      "            'court': 'Hoge Raad',\n",
      "            'ecli': 'ECLI:NL:HR:1997:ZC6824'},\n",
      "           {'country': 'NL',\n",
      "            'court': 'Hoge Raad',\n",
      "            'ecli': 'ECLI:NL:HR:1997:AA3301'},\n",
      "           {'country': 'NL',\n",
      "            'court': 'Hoge Raad',\n",
      "            'ecli': 'ECLI:NL:HR:1997:AA3297'},\n",
      "           {'country': 'NL',\n",
      "            'court': 'Hoge Raad',\n",
      "            'ecli': 'ECLI:NL:HR:1999:AA2620'},\n",
      "           {'country': 'NL',\n",
      "            'court': 'Hoge Raad',\n",
      "            'ecli': 'ECLI:NL:HR:1999:AA2929'},\n",
      "           {'country': 'NL',\n",
      "            'court': 'Hoge Raad',\n",
      "            'ecli': 'ECLI:NL:HR:1996:AA1753'},\n",
      "           {'country': 'NL',\n",
      "            'court': 'Hoge Raad',\n",
      "            'ecli': 'ECLI:NL:HR:1997:AA2069'},\n",
      "           {'country': 'NL',\n",
      "            'court': 'Hoge Raad',\n",
      "            'ecli': 'ECLI:NL:HR:1998:AA2314'},\n",
      "           {'country': 'NL',\n",
      "            'court': 'Hoge Raad',\n",
      "            'ecli': 'ECLI:NL:HR:1999:AA3859'}],\n",
      " 'ResponseMetadata': {'HTTPHeaders': {'content-length': '14658',\n",
      "                                      'content-type': 'application/x-amz-json-1.0',\n",
      "                                      'server': 'Jetty(8.1.12.v20130726)',\n",
      "                                      'x-amz-crc32': '2109986036',\n",
      "                                      'x-amzn-requestid': '7fe52128-773c-4897-87bc-485f3378d39f'},\n",
      "                      'HTTPStatusCode': 200,\n",
      "                      'RequestId': '7fe52128-773c-4897-87bc-485f3378d39f',\n",
      "                      'RetryAttempts': 0},\n",
      " 'ScannedCount': 290}\n"
     ]
    }
   ],
   "source": [
    "### cases per subject='Bestuursrecht' and court='Hoge Raad'\n",
    "pprint(caselaw_table.query(\n",
    "    IndexName='GSI-1',  # only needs to be specified if secondary index is used\n",
    "    ProjectionExpression=\"ecli, court, country\",\n",
    "    FilterExpression='court = :a',\n",
    "    ExpressionAttributeValues={':a': 'Hoge Raad'},\n",
    "    KeyConditionExpression=Key('doctype').eq('uitspraak') & Key('subject').begins_with('Bestuursrecht'))\n",
    ")\n",
    "\n",
    "\n",
    "''' usage example:\n",
    "\n",
    "pprint(table.query(\n",
    "    ProjectionExpression=\"#yr, title, info.genres, info.actors[0]\",\n",
    "    ExpressionAttributeNames={\"#yr\": \"year\"},\n",
    "    KeyConditionExpression=\n",
    "            Key('year').eq(year) & Key('title').between(title_range[0], title_range[1]))\n",
    ")\n",
    "'''"
   ],
   "metadata": {
    "collapsed": false,
    "pycharm": {
     "name": "#%%\n"
    }
   }
  }
 ],
 "metadata": {
  "kernelspec": {
   "display_name": "Python 3",
   "language": "python",
   "name": "python3"
  },
  "language_info": {
   "codemirror_mode": {
    "name": "ipython",
    "version": 2
   },
   "file_extension": ".py",
   "mimetype": "text/x-python",
   "name": "python",
   "nbconvert_exporter": "python",
   "pygments_lexer": "ipython2",
   "version": "2.7.6"
  }
 },
 "nbformat": 4,
 "nbformat_minor": 0
}