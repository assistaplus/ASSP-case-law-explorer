{
 "cells": [
  {
   "cell_type": "markdown",
   "source": [
    "# Rechtspraak, LI & citations to DynamoDB ETL"
   ],
   "metadata": {
    "collapsed": false
   }
  },
  {
   "cell_type": "code",
   "execution_count": null,
   "outputs": [],
   "source": [
    "!pip install boto3"
   ],
   "metadata": {
    "collapsed": false,
    "pycharm": {
     "name": "#%%\n"
    }
   }
  },
  {
   "cell_type": "code",
   "execution_count": 1,
   "outputs": [],
   "source": [
    "import boto3\n",
    "from boto3.dynamodb import conditions\n",
    "from boto3.dynamodb.conditions import Key, Attr\n",
    "from decimal import Decimal\n",
    "import json\n",
    "import csv\n",
    "from pprint import pprint\n",
    "from botocore.exceptions import ClientError\n",
    "import pandas as pd\n",
    "import numpy as np\n",
    "import string\n",
    "from datetime import datetime\n",
    "import dateutil.parser"
   ],
   "metadata": {
    "collapsed": false,
    "pycharm": {
     "name": "#%%\n"
    }
   }
  },
  {
   "cell_type": "markdown",
   "source": [
    "- rs = rechtspraak data\n",
    "- li = legal intelligence data\n",
    "---\n",
    "## Raw Datasets"
   ],
   "metadata": {
    "collapsed": false
   }
  },
  {
   "cell_type": "code",
   "execution_count": 2,
   "outputs": [
    {
     "data": {
      "text/plain": "                 case_id        date  case_number description language venue  \\\n0  ECLI:NL:GHAMS:1913:15  1913-03-31     Onbekend        None       NL  None   \n1  ECLI:NL:GHAMS:1913:28  1913-02-28  Onbekend389        None       NL  None   \n2  ECLI:NL:GHAMS:1913:19  1913-03-17     Onbekend        None       NL  None   \n3   ECLI:NL:GHAMS:1913:4  1913-02-28     Onbekend        None       NL  None   \n4  ECLI:NL:GHAMS:1913:20  1913-03-10     Onbekend        None       NL  None   \n\n  abstract procedure_type lodge_date country  ... abstract.1 procedure_type.1  \\\n0     None           None       None      NL  ...       None             None   \n1     None           None       None      NL  ...       None             None   \n2     None           None       None      NL  ...       None             None   \n3     None           None       None      NL  ...       None             None   \n4     None           None       None      NL  ...       None             None   \n\n  lodge_date.1 country.1 subject.1 authority.1 legal_references.1  \\\n0         None      None      None        None               None   \n1         None      None      None        None               None   \n2         None      None      None        None               None   \n3         None      None      None        None               None   \n4         None      None      None        None               None   \n\n  related_cases.1 alternative_sources.1 full_text  \n0            None                  None      None  \n1            None                  None      None  \n2            None                  None      None  \n3            None                  None      None  \n4            None                  None      None  \n\n[5 rows x 31 columns]",
      "text/html": "<div>\n<style scoped>\n    .dataframe tbody tr th:only-of-type {\n        vertical-align: middle;\n    }\n\n    .dataframe tbody tr th {\n        vertical-align: top;\n    }\n\n    .dataframe thead th {\n        text-align: right;\n    }\n</style>\n<table border=\"1\" class=\"dataframe\">\n  <thead>\n    <tr style=\"text-align: right;\">\n      <th></th>\n      <th>case_id</th>\n      <th>date</th>\n      <th>case_number</th>\n      <th>description</th>\n      <th>language</th>\n      <th>venue</th>\n      <th>abstract</th>\n      <th>procedure_type</th>\n      <th>lodge_date</th>\n      <th>country</th>\n      <th>...</th>\n      <th>abstract.1</th>\n      <th>procedure_type.1</th>\n      <th>lodge_date.1</th>\n      <th>country.1</th>\n      <th>subject.1</th>\n      <th>authority.1</th>\n      <th>legal_references.1</th>\n      <th>related_cases.1</th>\n      <th>alternative_sources.1</th>\n      <th>full_text</th>\n    </tr>\n  </thead>\n  <tbody>\n    <tr>\n      <th>0</th>\n      <td>ECLI:NL:GHAMS:1913:15</td>\n      <td>1913-03-31</td>\n      <td>Onbekend</td>\n      <td>None</td>\n      <td>NL</td>\n      <td>None</td>\n      <td>None</td>\n      <td>None</td>\n      <td>None</td>\n      <td>NL</td>\n      <td>...</td>\n      <td>None</td>\n      <td>None</td>\n      <td>None</td>\n      <td>None</td>\n      <td>None</td>\n      <td>None</td>\n      <td>None</td>\n      <td>None</td>\n      <td>None</td>\n      <td>None</td>\n    </tr>\n    <tr>\n      <th>1</th>\n      <td>ECLI:NL:GHAMS:1913:28</td>\n      <td>1913-02-28</td>\n      <td>Onbekend389</td>\n      <td>None</td>\n      <td>NL</td>\n      <td>None</td>\n      <td>None</td>\n      <td>None</td>\n      <td>None</td>\n      <td>NL</td>\n      <td>...</td>\n      <td>None</td>\n      <td>None</td>\n      <td>None</td>\n      <td>None</td>\n      <td>None</td>\n      <td>None</td>\n      <td>None</td>\n      <td>None</td>\n      <td>None</td>\n      <td>None</td>\n    </tr>\n    <tr>\n      <th>2</th>\n      <td>ECLI:NL:GHAMS:1913:19</td>\n      <td>1913-03-17</td>\n      <td>Onbekend</td>\n      <td>None</td>\n      <td>NL</td>\n      <td>None</td>\n      <td>None</td>\n      <td>None</td>\n      <td>None</td>\n      <td>NL</td>\n      <td>...</td>\n      <td>None</td>\n      <td>None</td>\n      <td>None</td>\n      <td>None</td>\n      <td>None</td>\n      <td>None</td>\n      <td>None</td>\n      <td>None</td>\n      <td>None</td>\n      <td>None</td>\n    </tr>\n    <tr>\n      <th>3</th>\n      <td>ECLI:NL:GHAMS:1913:4</td>\n      <td>1913-02-28</td>\n      <td>Onbekend</td>\n      <td>None</td>\n      <td>NL</td>\n      <td>None</td>\n      <td>None</td>\n      <td>None</td>\n      <td>None</td>\n      <td>NL</td>\n      <td>...</td>\n      <td>None</td>\n      <td>None</td>\n      <td>None</td>\n      <td>None</td>\n      <td>None</td>\n      <td>None</td>\n      <td>None</td>\n      <td>None</td>\n      <td>None</td>\n      <td>None</td>\n    </tr>\n    <tr>\n      <th>4</th>\n      <td>ECLI:NL:GHAMS:1913:20</td>\n      <td>1913-03-10</td>\n      <td>Onbekend</td>\n      <td>None</td>\n      <td>NL</td>\n      <td>None</td>\n      <td>None</td>\n      <td>None</td>\n      <td>None</td>\n      <td>NL</td>\n      <td>...</td>\n      <td>None</td>\n      <td>None</td>\n      <td>None</td>\n      <td>None</td>\n      <td>None</td>\n      <td>None</td>\n      <td>None</td>\n      <td>None</td>\n      <td>None</td>\n      <td>None</td>\n    </tr>\n  </tbody>\n</table>\n<p>5 rows × 31 columns</p>\n</div>"
     },
     "execution_count": 2,
     "metadata": {},
     "output_type": "execute_result"
    }
   ],
   "source": [
    "#pd.set_option('display.max_columns', None)\n",
    "df_rs_cases_raw = pd.read_csv(\"../data/case.csv\", dtype=str).replace({np.nan: None})  #, nrows=500000).replace(np.nan, None, regex=True)\n",
    "#df_rs_cases_raw = pd.read_csv(\"https://maastrichtuniversity-ids-open.s3.eu-central-1.amazonaws.com/rechtspraak/case.csv\", dtype=str).replace({np.nan: None})  #, nrows=500000).replace(np.nan, None, regex=True)\n",
    "df_rs_cases_raw.head()"
   ],
   "metadata": {
    "collapsed": false,
    "pycharm": {
     "name": "#%%\n"
    }
   }
  },
  {
   "cell_type": "code",
   "execution_count": 6,
   "outputs": [
    {
     "data": {
      "text/plain": "                   case_id        date case_number description language venue  \\\n0  ECLI:NL:PHR:1913:AG1763  1913-04-18         x47        None       NL  None   \n1  ECLI:NL:PHR:1913:AG1764  1913-04-18         x48        None       NL  None   \n2  ECLI:NL:PHR:1913:BG9429  1913-04-21        None        None       NL  None   \n3  ECLI:NL:PHR:1913:AG1832  1913-03-07         X46        None       NL  None   \n4  ECLI:NL:PHR:1913:AG1762  1913-06-20         x49        None       NL  None   \n\n  abstract procedure_type lodge_date country subject                authority  \\\n0     None           None       None      NL    None  Parket bij de Hoge Raad   \n1     None           None       None      NL    None  Parket bij de Hoge Raad   \n2     None           None       None      NL    None  Parket bij de Hoge Raad   \n3     None           None       None      NL    None  Parket bij de Hoge Raad   \n4     None           None       None      NL    None  Parket bij de Hoge Raad   \n\n  legal_references                                     related_cases  \\\n0             None    Arrest Hoge Raad: ECLI:NL:HR:1913:AG1763\\n       \n1             None  Arrest Hoge Raad: ECLI:NL:HR:1913:AG1764\\n         \n2             None    Arrest Hoge Raad: ECLI:NL:HR:1913:BG9429\\n       \n3             None    Arrest Hoge Raad: ECLI:NL:HR:1913:AG1832\\n       \n4             None    Arrest Hoge Raad: ECLI:NL:HR:1913:AG1762\\n       \n\n                                 alternative_sources full_textcase_id date.1  \\\n0                                               None             None   None   \n1  \\n        \\n          <rdf:list xmlns:rdf=\"htt...             None   None   \n2                                               None             None   None   \n3                                               None             None   None   \n4                                               None             None   None   \n\n  case_number.1 description.1 language.1 venue.1 abstract.1 procedure_type.1  \\\n0          None          None       None    None       None             None   \n1          None          None       None    None       None             None   \n2          None          None       None    None       None             None   \n3          None          None       None    None       None             None   \n4          None          None       None    None       None             None   \n\n  lodge_date.1 country.1 subject.1 authority.1 legal_references.1  \\\n0         None      None      None        None               None   \n1         None      None      None        None               None   \n2         None      None      None        None               None   \n3         None      None      None        None               None   \n4         None      None      None        None               None   \n\n  related_cases.1 alternative_sources.1 full_text  \n0            None                  None      None  \n1            None                  None      None  \n2            None                  None      None  \n3            None                  None      None  \n4            None                  None      None  ",
      "text/html": "<div>\n<style scoped>\n    .dataframe tbody tr th:only-of-type {\n        vertical-align: middle;\n    }\n\n    .dataframe tbody tr th {\n        vertical-align: top;\n    }\n\n    .dataframe thead th {\n        text-align: right;\n    }\n</style>\n<table border=\"1\" class=\"dataframe\">\n  <thead>\n    <tr style=\"text-align: right;\">\n      <th></th>\n      <th>case_id</th>\n      <th>date</th>\n      <th>case_number</th>\n      <th>description</th>\n      <th>language</th>\n      <th>venue</th>\n      <th>abstract</th>\n      <th>procedure_type</th>\n      <th>lodge_date</th>\n      <th>country</th>\n      <th>subject</th>\n      <th>authority</th>\n      <th>legal_references</th>\n      <th>related_cases</th>\n      <th>alternative_sources</th>\n      <th>full_textcase_id</th>\n      <th>date.1</th>\n      <th>case_number.1</th>\n      <th>description.1</th>\n      <th>language.1</th>\n      <th>venue.1</th>\n      <th>abstract.1</th>\n      <th>procedure_type.1</th>\n      <th>lodge_date.1</th>\n      <th>country.1</th>\n      <th>subject.1</th>\n      <th>authority.1</th>\n      <th>legal_references.1</th>\n      <th>related_cases.1</th>\n      <th>alternative_sources.1</th>\n      <th>full_text</th>\n    </tr>\n  </thead>\n  <tbody>\n    <tr>\n      <th>0</th>\n      <td>ECLI:NL:PHR:1913:AG1763</td>\n      <td>1913-04-18</td>\n      <td>x47</td>\n      <td>None</td>\n      <td>NL</td>\n      <td>None</td>\n      <td>None</td>\n      <td>None</td>\n      <td>None</td>\n      <td>NL</td>\n      <td>None</td>\n      <td>Parket bij de Hoge Raad</td>\n      <td>None</td>\n      <td>Arrest Hoge Raad: ECLI:NL:HR:1913:AG1763\\n</td>\n      <td>None</td>\n      <td>None</td>\n      <td>None</td>\n      <td>None</td>\n      <td>None</td>\n      <td>None</td>\n      <td>None</td>\n      <td>None</td>\n      <td>None</td>\n      <td>None</td>\n      <td>None</td>\n      <td>None</td>\n      <td>None</td>\n      <td>None</td>\n      <td>None</td>\n      <td>None</td>\n      <td>None</td>\n    </tr>\n    <tr>\n      <th>1</th>\n      <td>ECLI:NL:PHR:1913:AG1764</td>\n      <td>1913-04-18</td>\n      <td>x48</td>\n      <td>None</td>\n      <td>NL</td>\n      <td>None</td>\n      <td>None</td>\n      <td>None</td>\n      <td>None</td>\n      <td>NL</td>\n      <td>None</td>\n      <td>Parket bij de Hoge Raad</td>\n      <td>None</td>\n      <td>Arrest Hoge Raad: ECLI:NL:HR:1913:AG1764\\n</td>\n      <td>\\n        \\n          &lt;rdf:list xmlns:rdf=\"htt...</td>\n      <td>None</td>\n      <td>None</td>\n      <td>None</td>\n      <td>None</td>\n      <td>None</td>\n      <td>None</td>\n      <td>None</td>\n      <td>None</td>\n      <td>None</td>\n      <td>None</td>\n      <td>None</td>\n      <td>None</td>\n      <td>None</td>\n      <td>None</td>\n      <td>None</td>\n      <td>None</td>\n    </tr>\n    <tr>\n      <th>2</th>\n      <td>ECLI:NL:PHR:1913:BG9429</td>\n      <td>1913-04-21</td>\n      <td>None</td>\n      <td>None</td>\n      <td>NL</td>\n      <td>None</td>\n      <td>None</td>\n      <td>None</td>\n      <td>None</td>\n      <td>NL</td>\n      <td>None</td>\n      <td>Parket bij de Hoge Raad</td>\n      <td>None</td>\n      <td>Arrest Hoge Raad: ECLI:NL:HR:1913:BG9429\\n</td>\n      <td>None</td>\n      <td>None</td>\n      <td>None</td>\n      <td>None</td>\n      <td>None</td>\n      <td>None</td>\n      <td>None</td>\n      <td>None</td>\n      <td>None</td>\n      <td>None</td>\n      <td>None</td>\n      <td>None</td>\n      <td>None</td>\n      <td>None</td>\n      <td>None</td>\n      <td>None</td>\n      <td>None</td>\n    </tr>\n    <tr>\n      <th>3</th>\n      <td>ECLI:NL:PHR:1913:AG1832</td>\n      <td>1913-03-07</td>\n      <td>X46</td>\n      <td>None</td>\n      <td>NL</td>\n      <td>None</td>\n      <td>None</td>\n      <td>None</td>\n      <td>None</td>\n      <td>NL</td>\n      <td>None</td>\n      <td>Parket bij de Hoge Raad</td>\n      <td>None</td>\n      <td>Arrest Hoge Raad: ECLI:NL:HR:1913:AG1832\\n</td>\n      <td>None</td>\n      <td>None</td>\n      <td>None</td>\n      <td>None</td>\n      <td>None</td>\n      <td>None</td>\n      <td>None</td>\n      <td>None</td>\n      <td>None</td>\n      <td>None</td>\n      <td>None</td>\n      <td>None</td>\n      <td>None</td>\n      <td>None</td>\n      <td>None</td>\n      <td>None</td>\n      <td>None</td>\n    </tr>\n    <tr>\n      <th>4</th>\n      <td>ECLI:NL:PHR:1913:AG1762</td>\n      <td>1913-06-20</td>\n      <td>x49</td>\n      <td>None</td>\n      <td>NL</td>\n      <td>None</td>\n      <td>None</td>\n      <td>None</td>\n      <td>None</td>\n      <td>NL</td>\n      <td>None</td>\n      <td>Parket bij de Hoge Raad</td>\n      <td>None</td>\n      <td>Arrest Hoge Raad: ECLI:NL:HR:1913:AG1762\\n</td>\n      <td>None</td>\n      <td>None</td>\n      <td>None</td>\n      <td>None</td>\n      <td>None</td>\n      <td>None</td>\n      <td>None</td>\n      <td>None</td>\n      <td>None</td>\n      <td>None</td>\n      <td>None</td>\n      <td>None</td>\n      <td>None</td>\n      <td>None</td>\n      <td>None</td>\n      <td>None</td>\n      <td>None</td>\n    </tr>\n  </tbody>\n</table>\n</div>"
     },
     "execution_count": 6,
     "metadata": {},
     "output_type": "execute_result"
    }
   ],
   "source": [
    "df_rs_opinions_raw = pd.read_csv(\"../data/case_opinion_from_advocate_general.csv\", dtype='str').replace({np.nan: None})\n",
    "#df_rs_opinions_raw = pd.read_csv(\"https://maastrichtuniversity-ids-open.s3.eu-central-1.amazonaws.com/rechtspraak/case_opinion_from_advocate_general.csv\", dtype='str').replace({np.nan: None})\n",
    "df_rs_opinions_raw.head()"
   ],
   "metadata": {
    "collapsed": false,
    "pycharm": {
     "name": "#%%\n"
    }
   }
  },
  {
   "cell_type": "code",
   "execution_count": 2,
   "outputs": [
    {
     "data": {
      "text/plain": "  Unnamed: 0 IssueNumber       Id  \\\n0          0        None  4968258   \n1          1        None  4968759   \n2          2        None  4968382   \n3          3        None  4968678   \n4          4        None  4968777   \n\n                                               Title  \\\n0  Casus Bij besluit van 12 april 1994 verlenen g...   \n1  M.N. Boeve Casus GS van Noord-Brabant hebben (...   \n2  Naast woning gelegen huisje vormt ┌┌n geheel m...   \n3  Geen beroep mogelijk tegen weigering bestemmin...   \n4  Bodemverontreiniging; saneringskosten komen oo...   \n\n                                        DisplayTitle  \\\n0  Casus Bij besluit van 12 april 1994 verlenen g...   \n1  M.N. Boeve Casus GS van Noord-Brabant hebben (...   \n2  Naast woning gelegen huisje vormt ┌┌n geheel m...   \n3  Geen beroep mogelijk tegen weigering bestemmin...   \n4  Bodemverontreiniging; saneringskosten komen oo...   \n\n                                     DisplaySubtitle  \\\n0  Doorduijn, L.F. - Milieurecht Totaal - Module-...   \n1  Boeve, M.N. - Milieurecht Totaal - Module-seri...   \n2  Redactie - Module-serie - Module Afval - Milie...   \n3  Redactie - Module-serie - Module Ruimtelijke O...   \n4                 Kruimel, J.P. - Milieurecht Totaal   \n\n                                            abstract  \\\n0  Casus Bij besluit van 12 april 1994 verlenen g...   \n1  M.N. Boeve Casus GS van Noord-Brabant hebben (...   \n2  Naast woning gelegen huisje vormt ┌┌n geheel m...   \n3  De raad van de gemeente Waspik wees een verzoe...   \n4  Bodemverontreiniging; saneringskosten komen oo...   \n\n                                                 Url  \\\n0  http://www.legalintelligence.com/documents/496...   \n1  http://www.legalintelligence.com/documents/496...   \n2  http://www.legalintelligence.com/documents/496...   \n3  http://www.legalintelligence.com/documents/496...   \n4  http://www.legalintelligence.com/documents/496...   \n\n                                         OriginalUrl Jurisdiction  ...  \\\n0  https://www.navigator.nl/#/document/da785f3d8d...    Nederland  ...   \n1  https://www.navigator.nl/#/document/dae9667789...    Nederland  ...   \n2  https://www.navigator.nl/#/document/da7b16fb16...    Nederland  ...   \n3  https://www.navigator.nl/#/document/dad97422ad...    Nederland  ...   \n4  https://www.navigator.nl/#/document/daf99e49b6...    Nederland  ...   \n\n               authority                          case_number      date  \\\n0         Raad van State                            E03951413  19960101   \n1         Raad van State  E01.94.0417 ECLI:NL:RVS:1996:AP7883  19960101   \n2  Gerechtshof Amsterdam                            95/4927-E  19960101   \n3         Raad van State                            H01950354  19960101   \n4   Gerechtshof Den Haag                              95/1803  19960101   \n\n  lodge_date DateAdded                      Sources  \\\n0   19960916  20110520           Milieurecht Totaal   \n1   19960708  20110628           Milieurecht Totaal   \n2   19961203  20110628           Milieurecht Totaal   \n3   19960201  20110628  Module Ruimtelijke Ordening   \n4   19961016  20110628           Milieurecht Totaal   \n\n                               UrlWithAutoLogOnToken  \\\n0  http://www.legalintelligence.com/documents/496...   \n1  http://www.legalintelligence.com/documents/496...   \n2  http://www.legalintelligence.com/documents/496...   \n3  http://www.legalintelligence.com/documents/496...   \n4  http://www.legalintelligence.com/documents/496...   \n\n                                             LawArea  \\\n0  ['Ruimtelijk Bestuursrecht/Milieurecht/Energie...   \n1  ['Ruimtelijk Bestuursrecht/Milieurecht/Energie...   \n2  ['Ruimtelijk Bestuursrecht/Milieurecht/Energie...   \n3  ['Ruimtelijk Bestuursrecht/Milieurecht/Energie...   \n4  ['Ruimtelijk Bestuursrecht/Milieurecht/Energie...   \n\n                        ecli PublicationNumber  \n0    ECLI_NL_RVS_1996_AP7727              None  \n1    ECLI_NL_RVS_1996_AP7883              None  \n2  ECLI_NL_GHAMS_1996_AS4281              None  \n3    ECLI_NL_RVS_1996_ZF1978              None  \n4  ECLI_NL_GHSGR_1996_AS3490              None  \n\n[5 rows x 21 columns]",
      "text/html": "<div>\n<style scoped>\n    .dataframe tbody tr th:only-of-type {\n        vertical-align: middle;\n    }\n\n    .dataframe tbody tr th {\n        vertical-align: top;\n    }\n\n    .dataframe thead th {\n        text-align: right;\n    }\n</style>\n<table border=\"1\" class=\"dataframe\">\n  <thead>\n    <tr style=\"text-align: right;\">\n      <th></th>\n      <th>Unnamed: 0</th>\n      <th>IssueNumber</th>\n      <th>Id</th>\n      <th>Title</th>\n      <th>DisplayTitle</th>\n      <th>DisplaySubtitle</th>\n      <th>abstract</th>\n      <th>Url</th>\n      <th>OriginalUrl</th>\n      <th>Jurisdiction</th>\n      <th>...</th>\n      <th>authority</th>\n      <th>case_number</th>\n      <th>date</th>\n      <th>lodge_date</th>\n      <th>DateAdded</th>\n      <th>Sources</th>\n      <th>UrlWithAutoLogOnToken</th>\n      <th>LawArea</th>\n      <th>ecli</th>\n      <th>PublicationNumber</th>\n    </tr>\n  </thead>\n  <tbody>\n    <tr>\n      <th>0</th>\n      <td>0</td>\n      <td>None</td>\n      <td>4968258</td>\n      <td>Casus Bij besluit van 12 april 1994 verlenen g...</td>\n      <td>Casus Bij besluit van 12 april 1994 verlenen g...</td>\n      <td>Doorduijn, L.F. - Milieurecht Totaal - Module-...</td>\n      <td>Casus Bij besluit van 12 april 1994 verlenen g...</td>\n      <td>http://www.legalintelligence.com/documents/496...</td>\n      <td>https://www.navigator.nl/#/document/da785f3d8d...</td>\n      <td>Nederland</td>\n      <td>...</td>\n      <td>Raad van State</td>\n      <td>E03951413</td>\n      <td>19960101</td>\n      <td>19960916</td>\n      <td>20110520</td>\n      <td>Milieurecht Totaal</td>\n      <td>http://www.legalintelligence.com/documents/496...</td>\n      <td>['Ruimtelijk Bestuursrecht/Milieurecht/Energie...</td>\n      <td>ECLI_NL_RVS_1996_AP7727</td>\n      <td>None</td>\n    </tr>\n    <tr>\n      <th>1</th>\n      <td>1</td>\n      <td>None</td>\n      <td>4968759</td>\n      <td>M.N. Boeve Casus GS van Noord-Brabant hebben (...</td>\n      <td>M.N. Boeve Casus GS van Noord-Brabant hebben (...</td>\n      <td>Boeve, M.N. - Milieurecht Totaal - Module-seri...</td>\n      <td>M.N. Boeve Casus GS van Noord-Brabant hebben (...</td>\n      <td>http://www.legalintelligence.com/documents/496...</td>\n      <td>https://www.navigator.nl/#/document/dae9667789...</td>\n      <td>Nederland</td>\n      <td>...</td>\n      <td>Raad van State</td>\n      <td>E01.94.0417 ECLI:NL:RVS:1996:AP7883</td>\n      <td>19960101</td>\n      <td>19960708</td>\n      <td>20110628</td>\n      <td>Milieurecht Totaal</td>\n      <td>http://www.legalintelligence.com/documents/496...</td>\n      <td>['Ruimtelijk Bestuursrecht/Milieurecht/Energie...</td>\n      <td>ECLI_NL_RVS_1996_AP7883</td>\n      <td>None</td>\n    </tr>\n    <tr>\n      <th>2</th>\n      <td>2</td>\n      <td>None</td>\n      <td>4968382</td>\n      <td>Naast woning gelegen huisje vormt ┌┌n geheel m...</td>\n      <td>Naast woning gelegen huisje vormt ┌┌n geheel m...</td>\n      <td>Redactie - Module-serie - Module Afval - Milie...</td>\n      <td>Naast woning gelegen huisje vormt ┌┌n geheel m...</td>\n      <td>http://www.legalintelligence.com/documents/496...</td>\n      <td>https://www.navigator.nl/#/document/da7b16fb16...</td>\n      <td>Nederland</td>\n      <td>...</td>\n      <td>Gerechtshof Amsterdam</td>\n      <td>95/4927-E</td>\n      <td>19960101</td>\n      <td>19961203</td>\n      <td>20110628</td>\n      <td>Milieurecht Totaal</td>\n      <td>http://www.legalintelligence.com/documents/496...</td>\n      <td>['Ruimtelijk Bestuursrecht/Milieurecht/Energie...</td>\n      <td>ECLI_NL_GHAMS_1996_AS4281</td>\n      <td>None</td>\n    </tr>\n    <tr>\n      <th>3</th>\n      <td>3</td>\n      <td>None</td>\n      <td>4968678</td>\n      <td>Geen beroep mogelijk tegen weigering bestemmin...</td>\n      <td>Geen beroep mogelijk tegen weigering bestemmin...</td>\n      <td>Redactie - Module-serie - Module Ruimtelijke O...</td>\n      <td>De raad van de gemeente Waspik wees een verzoe...</td>\n      <td>http://www.legalintelligence.com/documents/496...</td>\n      <td>https://www.navigator.nl/#/document/dad97422ad...</td>\n      <td>Nederland</td>\n      <td>...</td>\n      <td>Raad van State</td>\n      <td>H01950354</td>\n      <td>19960101</td>\n      <td>19960201</td>\n      <td>20110628</td>\n      <td>Module Ruimtelijke Ordening</td>\n      <td>http://www.legalintelligence.com/documents/496...</td>\n      <td>['Ruimtelijk Bestuursrecht/Milieurecht/Energie...</td>\n      <td>ECLI_NL_RVS_1996_ZF1978</td>\n      <td>None</td>\n    </tr>\n    <tr>\n      <th>4</th>\n      <td>4</td>\n      <td>None</td>\n      <td>4968777</td>\n      <td>Bodemverontreiniging; saneringskosten komen oo...</td>\n      <td>Bodemverontreiniging; saneringskosten komen oo...</td>\n      <td>Kruimel, J.P. - Milieurecht Totaal</td>\n      <td>Bodemverontreiniging; saneringskosten komen oo...</td>\n      <td>http://www.legalintelligence.com/documents/496...</td>\n      <td>https://www.navigator.nl/#/document/daf99e49b6...</td>\n      <td>Nederland</td>\n      <td>...</td>\n      <td>Gerechtshof Den Haag</td>\n      <td>95/1803</td>\n      <td>19960101</td>\n      <td>19961016</td>\n      <td>20110628</td>\n      <td>Milieurecht Totaal</td>\n      <td>http://www.legalintelligence.com/documents/496...</td>\n      <td>['Ruimtelijk Bestuursrecht/Milieurecht/Energie...</td>\n      <td>ECLI_NL_GHSGR_1996_AS3490</td>\n      <td>None</td>\n    </tr>\n  </tbody>\n</table>\n<p>5 rows × 21 columns</p>\n</div>"
     },
     "execution_count": 2,
     "metadata": {},
     "output_type": "execute_result"
    }
   ],
   "source": [
    "df_li_cases_raw = pd.read_csv(\"../data/legal_intelligence_cases.csv\", dtype=str).replace({np.nan: None}).drop_duplicates(subset =\"ecli\")\n",
    "#df_li_cases_raw = pd.read_csv(\"https://maastrichtuniversity-ids-open.s3.eu-central-1.amazonaws.com/rechtspraak/legal_intelligence_cases.csv\", dtype=str).replace({np.nan: None}).drop_duplicates(subset =\"ecli\")\n",
    "df_li_cases_raw.head()"
   ],
   "metadata": {
    "collapsed": false,
    "pycharm": {
     "name": "#%%\n"
    }
   }
  },
  {
   "cell_type": "code",
   "execution_count": 7,
   "outputs": [
    {
     "data": {
      "text/plain": "count         661\nunique        661\ntop       5195871\nfreq            1\nName: Id, dtype: object"
     },
     "execution_count": 7,
     "metadata": {},
     "output_type": "execute_result"
    }
   ],
   "source": [
    "df_li_cases_raw['Id'].describe()"
   ],
   "metadata": {
    "collapsed": false,
    "pycharm": {
     "name": "#%%\n"
    }
   }
  },
  {
   "cell_type": "code",
   "execution_count": 2,
   "outputs": [
    {
     "data": {
      "text/plain": "           source_ecli source_paragraph          target_ecli target_paragraph\n0   ECLI:NL:HR:1913:13             None  ECLI:NL:HR:1913:129             None\n1  ECLI:NL:HR:1913:130             None  ECLI:NL:HR:1913:129             None\n2  ECLI:NL:HR:1913:131             None  ECLI:NL:HR:1913:129             None\n3  ECLI:NL:HR:1913:132             None  ECLI:NL:HR:1913:129             None\n4  ECLI:NL:HR:1913:133             None  ECLI:NL:HR:1913:129             None",
      "text/html": "<div>\n<style scoped>\n    .dataframe tbody tr th:only-of-type {\n        vertical-align: middle;\n    }\n\n    .dataframe tbody tr th {\n        vertical-align: top;\n    }\n\n    .dataframe thead th {\n        text-align: right;\n    }\n</style>\n<table border=\"1\" class=\"dataframe\">\n  <thead>\n    <tr style=\"text-align: right;\">\n      <th></th>\n      <th>source_ecli</th>\n      <th>source_paragraph</th>\n      <th>target_ecli</th>\n      <th>target_paragraph</th>\n    </tr>\n  </thead>\n  <tbody>\n    <tr>\n      <th>0</th>\n      <td>ECLI:NL:HR:1913:13</td>\n      <td>None</td>\n      <td>ECLI:NL:HR:1913:129</td>\n      <td>None</td>\n    </tr>\n    <tr>\n      <th>1</th>\n      <td>ECLI:NL:HR:1913:130</td>\n      <td>None</td>\n      <td>ECLI:NL:HR:1913:129</td>\n      <td>None</td>\n    </tr>\n    <tr>\n      <th>2</th>\n      <td>ECLI:NL:HR:1913:131</td>\n      <td>None</td>\n      <td>ECLI:NL:HR:1913:129</td>\n      <td>None</td>\n    </tr>\n    <tr>\n      <th>3</th>\n      <td>ECLI:NL:HR:1913:132</td>\n      <td>None</td>\n      <td>ECLI:NL:HR:1913:129</td>\n      <td>None</td>\n    </tr>\n    <tr>\n      <th>4</th>\n      <td>ECLI:NL:HR:1913:133</td>\n      <td>None</td>\n      <td>ECLI:NL:HR:1913:129</td>\n      <td>None</td>\n    </tr>\n  </tbody>\n</table>\n</div>"
     },
     "execution_count": 2,
     "metadata": {},
     "output_type": "execute_result"
    }
   ],
   "source": [
    "df_rs_case_citations_raw = pd.read_csv(\"../data/caselaw_citations.csv\").replace({np.nan: None})\n",
    "#df_rs_case_citations_raw = pd.read_csv(\"https://maastrichtuniversity-ids-open.s3.eu-central-1.amazonaws.com/rechtspraak/caselaw_citations.csv\").replace({np.nan: None})\n",
    "df_rs_case_citations_raw.head()"
   ],
   "metadata": {
    "collapsed": false,
    "pycharm": {
     "name": "#%%\n"
    }
   }
  },
  {
   "cell_type": "code",
   "execution_count": 3,
   "outputs": [
    {
     "data": {
      "text/plain": "                 source_ecli source_paragraph  \\\n0  ECLI:NL:GHAMS:1962:AX8440             None   \n1  ECLI:NL:GHAMS:1962:AX8440             None   \n2  ECLI:NL:GHAMS:1962:AX8440             None   \n3  ECLI:NL:GHAMS:1962:AX8441             None   \n4  ECLI:NL:GHAMS:1962:AX8441             None   \n\n                                      target_article target_article_paragraph  \\\n0  http://linkeddata.overheid.nl/terms/bwb/id/BWB...                     None   \n1  http://linkeddata.overheid.nl/terms/bwb/id/BWB...                     None   \n2  http://linkeddata.overheid.nl/terms/bwb/id/BWB...                     None   \n3  http://linkeddata.overheid.nl/terms/bwb/id/BWB...                     None   \n4  http://linkeddata.overheid.nl/terms/bwb/id/BWB...                     None   \n\n                              target_article_webpage  \n0  http://wetten.overheid.nl/id/BWBR0005537/2016-...  \n1  http://wetten.overheid.nl/id/BWBR0005537/2009-...  \n2  http://wetten.overheid.nl/id/BWBR0005537/2018-...  \n3  http://wetten.overheid.nl/id/BWBR0005537/2016-...  \n4  http://wetten.overheid.nl/id/BWBR0005537/2009-...  ",
      "text/html": "<div>\n<style scoped>\n    .dataframe tbody tr th:only-of-type {\n        vertical-align: middle;\n    }\n\n    .dataframe tbody tr th {\n        vertical-align: top;\n    }\n\n    .dataframe thead th {\n        text-align: right;\n    }\n</style>\n<table border=\"1\" class=\"dataframe\">\n  <thead>\n    <tr style=\"text-align: right;\">\n      <th></th>\n      <th>source_ecli</th>\n      <th>source_paragraph</th>\n      <th>target_article</th>\n      <th>target_article_paragraph</th>\n      <th>target_article_webpage</th>\n    </tr>\n  </thead>\n  <tbody>\n    <tr>\n      <th>0</th>\n      <td>ECLI:NL:GHAMS:1962:AX8440</td>\n      <td>None</td>\n      <td>http://linkeddata.overheid.nl/terms/bwb/id/BWB...</td>\n      <td>None</td>\n      <td>http://wetten.overheid.nl/id/BWBR0005537/2016-...</td>\n    </tr>\n    <tr>\n      <th>1</th>\n      <td>ECLI:NL:GHAMS:1962:AX8440</td>\n      <td>None</td>\n      <td>http://linkeddata.overheid.nl/terms/bwb/id/BWB...</td>\n      <td>None</td>\n      <td>http://wetten.overheid.nl/id/BWBR0005537/2009-...</td>\n    </tr>\n    <tr>\n      <th>2</th>\n      <td>ECLI:NL:GHAMS:1962:AX8440</td>\n      <td>None</td>\n      <td>http://linkeddata.overheid.nl/terms/bwb/id/BWB...</td>\n      <td>None</td>\n      <td>http://wetten.overheid.nl/id/BWBR0005537/2018-...</td>\n    </tr>\n    <tr>\n      <th>3</th>\n      <td>ECLI:NL:GHAMS:1962:AX8441</td>\n      <td>None</td>\n      <td>http://linkeddata.overheid.nl/terms/bwb/id/BWB...</td>\n      <td>None</td>\n      <td>http://wetten.overheid.nl/id/BWBR0005537/2016-...</td>\n    </tr>\n    <tr>\n      <th>4</th>\n      <td>ECLI:NL:GHAMS:1962:AX8441</td>\n      <td>None</td>\n      <td>http://linkeddata.overheid.nl/terms/bwb/id/BWB...</td>\n      <td>None</td>\n      <td>http://wetten.overheid.nl/id/BWBR0005537/2009-...</td>\n    </tr>\n  </tbody>\n</table>\n</div>"
     },
     "execution_count": 3,
     "metadata": {},
     "output_type": "execute_result"
    }
   ],
   "source": [
    "df_rs_legislation_citations_raw = pd.read_csv(\"../data/legislation_citations.csv\").replace({np.nan: None})\n",
    "#df_rs_legislation_citations_raw = pd.read_csv(\"https://maastrichtuniversity-ids-open.s3.eu-central-1.amazonaws.com/rechtspraak/legislation_citations.csv\").replace({np.nan: None})\n",
    "df_rs_legislation_citations_raw.head()"
   ],
   "metadata": {
    "collapsed": false,
    "pycharm": {
     "name": "#%%\n"
    }
   }
  },
  {
   "cell_type": "code",
   "execution_count": 8,
   "outputs": [
    {
     "data": {
      "text/plain": "  country_id  eu         name                                        flag\n0         AT   1      Austria  https://www.countryflags.io/at/flat/64.png\n1         BE   1      Belgium  https://www.countryflags.io/be/flat/64.png\n2         BG   1     Bulgaria  https://www.countryflags.io/bg/flat/64.png\n3         CH   0  Switzerland  https://www.countryflags.io/ch/flat/64.png\n4         CZ   1      Czechia  https://www.countryflags.io/cz/flat/64.png",
      "text/html": "<div>\n<style scoped>\n    .dataframe tbody tr th:only-of-type {\n        vertical-align: middle;\n    }\n\n    .dataframe tbody tr th {\n        vertical-align: top;\n    }\n\n    .dataframe thead th {\n        text-align: right;\n    }\n</style>\n<table border=\"1\" class=\"dataframe\">\n  <thead>\n    <tr style=\"text-align: right;\">\n      <th></th>\n      <th>country_id</th>\n      <th>eu</th>\n      <th>name</th>\n      <th>flag</th>\n    </tr>\n  </thead>\n  <tbody>\n    <tr>\n      <th>0</th>\n      <td>AT</td>\n      <td>1</td>\n      <td>Austria</td>\n      <td>https://www.countryflags.io/at/flat/64.png</td>\n    </tr>\n    <tr>\n      <th>1</th>\n      <td>BE</td>\n      <td>1</td>\n      <td>Belgium</td>\n      <td>https://www.countryflags.io/be/flat/64.png</td>\n    </tr>\n    <tr>\n      <th>2</th>\n      <td>BG</td>\n      <td>1</td>\n      <td>Bulgaria</td>\n      <td>https://www.countryflags.io/bg/flat/64.png</td>\n    </tr>\n    <tr>\n      <th>3</th>\n      <td>CH</td>\n      <td>0</td>\n      <td>Switzerland</td>\n      <td>https://www.countryflags.io/ch/flat/64.png</td>\n    </tr>\n    <tr>\n      <th>4</th>\n      <td>CZ</td>\n      <td>1</td>\n      <td>Czechia</td>\n      <td>https://www.countryflags.io/cz/flat/64.png</td>\n    </tr>\n  </tbody>\n</table>\n</div>"
     },
     "execution_count": 8,
     "metadata": {},
     "output_type": "execute_result"
    }
   ],
   "source": [
    "df_country_raw = pd.read_csv(\"../data/countries.csv\").replace({np.nan: None})\n",
    "#df_country_raw = pd.read_csv(\"https://maastrichtuniversity-ids-open.s3.eu-central-1.amazonaws.com/rechtspraak/countries.csv\").replace({np.nan: None})\n",
    "df_country_raw.head()"
   ],
   "metadata": {
    "collapsed": false,
    "pycharm": {
     "name": "#%%\n"
    }
   }
  },
  {
   "cell_type": "markdown",
   "source": [
    "#### stats raw data"
   ],
   "metadata": {
    "collapsed": false
   }
  },
  {
   "cell_type": "code",
   "execution_count": 9,
   "outputs": [
    {
     "name": "stdout",
     "output_type": "stream",
     "text": [
      "number of rs-cases:  2632420\n",
      "number of opinions:  65692\n",
      "number of li-cases:  661\n",
      "number of legislation citations:  18947\n",
      "number of case citations:  758268\n",
      "number of countries:  36\n"
     ]
    }
   ],
   "source": [
    "print('number of rs-cases: ', len(df_rs_cases_raw))\n",
    "print('number of opinions: ', len(df_rs_opinions_raw))\n",
    "print('number of li-cases: ', len(df_li_cases_raw))\n",
    "print('number of legislation citations: ', len(df_rs_legislation_citations_raw))\n",
    "print('number of case citations: ', len(df_rs_case_citations_raw))\n",
    "print('number of countries: ', len(df_country_raw))"
   ],
   "metadata": {
    "collapsed": false,
    "pycharm": {
     "name": "#%%\n"
    }
   }
  },
  {
   "cell_type": "markdown",
   "source": [
    "---\n",
    "## Utils"
   ],
   "metadata": {
    "collapsed": false
   }
  },
  {
   "cell_type": "code",
   "execution_count": 3,
   "outputs": [],
   "source": [
    "def clean_strings(column):\n",
    "    cleaned = []\n",
    "    for s in column:\n",
    "        if s is not None:\n",
    "            cleaned.append(\"\".join(filter(lambda char: char in string.printable, s)))\n",
    "        else:\n",
    "            cleaned.append(\"\")\n",
    "    return [i[0:250] for i in cleaned]"
   ],
   "metadata": {
    "collapsed": false,
    "pycharm": {
     "name": "#%%\n"
    }
   }
  },
  {
   "cell_type": "markdown",
   "source": [
    "---\n",
    "## Transformation\n",
    "\n",
    "Unify eclis:"
   ],
   "metadata": {
    "collapsed": false
   }
  },
  {
   "cell_type": "code",
   "execution_count": 5,
   "outputs": [],
   "source": [
    "for i, li_case in df_li_cases_raw.iterrows():\n",
    "    ecli = li_case.ecli\n",
    "    new_ecli = ecli.replace('_', ':')\n",
    "    df_li_cases_raw.at[i, 'ecli'] = new_ecli"
   ],
   "metadata": {
    "collapsed": false,
    "pycharm": {
     "name": "#%%\n"
    }
   }
  },
  {
   "cell_type": "markdown",
   "source": [
    "#### RS cases"
   ],
   "metadata": {
    "collapsed": false,
    "pycharm": {
     "name": "#%% md\n"
    }
   }
  },
  {
   "cell_type": "code",
   "execution_count": 4,
   "outputs": [
    {
     "ename": "KeyboardInterrupt",
     "evalue": "",
     "output_type": "error",
     "traceback": [
      "\u001B[0;31m---------------------------------------------------------------------------\u001B[0m",
      "\u001B[0;31mKeyboardInterrupt\u001B[0m                         Traceback (most recent call last)",
      "\u001B[0;32m<ipython-input-4-8d9ff656790f>\u001B[0m in \u001B[0;36m<module>\u001B[0;34m\u001B[0m\n\u001B[1;32m     18\u001B[0m \u001B[0;31m# clean strings and transform date type\u001B[0m\u001B[0;34m\u001B[0m\u001B[0;34m\u001B[0m\u001B[0;34m\u001B[0m\u001B[0m\n\u001B[1;32m     19\u001B[0m \u001B[0;31m#df_rs_cases['uitspraakdatum'] = [dateutil.parser.parse(i).isoformat() if i is not None else '1900-01-01T00:00:00' for i in df_rs_cases['uitspraakdatum']]\u001B[0m\u001B[0;34m\u001B[0m\u001B[0;34m\u001B[0m\u001B[0;34m\u001B[0m\u001B[0m\n\u001B[0;32m---> 20\u001B[0;31m \u001B[0mdf_rs_cases\u001B[0m\u001B[0;34m[\u001B[0m\u001B[0;34m'inhoudsindicatie'\u001B[0m\u001B[0;34m]\u001B[0m \u001B[0;34m=\u001B[0m \u001B[0mclean_strings\u001B[0m\u001B[0;34m(\u001B[0m\u001B[0mdf_rs_cases\u001B[0m\u001B[0;34m[\u001B[0m\u001B[0;34m'inhoudsindicatie'\u001B[0m\u001B[0;34m]\u001B[0m\u001B[0;34m)\u001B[0m\u001B[0;34m\u001B[0m\u001B[0;34m\u001B[0m\u001B[0m\n\u001B[0m\u001B[1;32m     21\u001B[0m \u001B[0mdf_rs_cases\u001B[0m\u001B[0;34m[\u001B[0m\u001B[0;34m'alternative_sources'\u001B[0m\u001B[0;34m]\u001B[0m \u001B[0;34m=\u001B[0m \u001B[0mclean_strings\u001B[0m\u001B[0;34m(\u001B[0m\u001B[0mdf_rs_cases\u001B[0m\u001B[0;34m[\u001B[0m\u001B[0;34m'alternative_sources'\u001B[0m\u001B[0;34m]\u001B[0m\u001B[0;34m)\u001B[0m\u001B[0;34m\u001B[0m\u001B[0;34m\u001B[0m\u001B[0m\n\u001B[1;32m     22\u001B[0m \u001B[0mdf_rs_cases\u001B[0m\u001B[0;34m[\u001B[0m\u001B[0;34m'domain'\u001B[0m\u001B[0;34m]\u001B[0m \u001B[0;34m=\u001B[0m \u001B[0mdf_rs_cases\u001B[0m\u001B[0;34m[\u001B[0m\u001B[0;34m'domain'\u001B[0m\u001B[0;34m]\u001B[0m\u001B[0;34m.\u001B[0m\u001B[0mapply\u001B[0m\u001B[0;34m(\u001B[0m\u001B[0;32mlambda\u001B[0m \u001B[0mx\u001B[0m\u001B[0;34m:\u001B[0m \u001B[0mset\u001B[0m\u001B[0;34m(\u001B[0m\u001B[0mx\u001B[0m\u001B[0;34m.\u001B[0m\u001B[0msplit\u001B[0m\u001B[0;34m(\u001B[0m\u001B[0;34m\"; \"\u001B[0m\u001B[0;34m)\u001B[0m\u001B[0;34m)\u001B[0m \u001B[0;32mif\u001B[0m \u001B[0mx\u001B[0m \u001B[0;32mis\u001B[0m \u001B[0;32mnot\u001B[0m \u001B[0;32mNone\u001B[0m \u001B[0;32melse\u001B[0m \u001B[0mx\u001B[0m\u001B[0;34m)\u001B[0m\u001B[0;34m\u001B[0m\u001B[0;34m\u001B[0m\u001B[0m\n",
      "\u001B[0;32m<ipython-input-3-452b6eadd61d>\u001B[0m in \u001B[0;36mclean_strings\u001B[0;34m(column)\u001B[0m\n\u001B[1;32m      3\u001B[0m     \u001B[0;32mfor\u001B[0m \u001B[0ms\u001B[0m \u001B[0;32min\u001B[0m \u001B[0mcolumn\u001B[0m\u001B[0;34m:\u001B[0m\u001B[0;34m\u001B[0m\u001B[0;34m\u001B[0m\u001B[0m\n\u001B[1;32m      4\u001B[0m         \u001B[0;32mif\u001B[0m \u001B[0ms\u001B[0m \u001B[0;32mis\u001B[0m \u001B[0;32mnot\u001B[0m \u001B[0;32mNone\u001B[0m\u001B[0;34m:\u001B[0m\u001B[0;34m\u001B[0m\u001B[0;34m\u001B[0m\u001B[0m\n\u001B[0;32m----> 5\u001B[0;31m             \u001B[0mcleaned\u001B[0m\u001B[0;34m.\u001B[0m\u001B[0mappend\u001B[0m\u001B[0;34m(\u001B[0m\u001B[0;34m\"\"\u001B[0m\u001B[0;34m.\u001B[0m\u001B[0mjoin\u001B[0m\u001B[0;34m(\u001B[0m\u001B[0mfilter\u001B[0m\u001B[0;34m(\u001B[0m\u001B[0;32mlambda\u001B[0m \u001B[0mchar\u001B[0m\u001B[0;34m:\u001B[0m \u001B[0mchar\u001B[0m \u001B[0;32min\u001B[0m \u001B[0mstring\u001B[0m\u001B[0;34m.\u001B[0m\u001B[0mprintable\u001B[0m\u001B[0;34m,\u001B[0m \u001B[0ms\u001B[0m\u001B[0;34m)\u001B[0m\u001B[0;34m)\u001B[0m\u001B[0;34m)\u001B[0m\u001B[0;34m\u001B[0m\u001B[0;34m\u001B[0m\u001B[0m\n\u001B[0m\u001B[1;32m      6\u001B[0m         \u001B[0;32melse\u001B[0m\u001B[0;34m:\u001B[0m\u001B[0;34m\u001B[0m\u001B[0;34m\u001B[0m\u001B[0m\n\u001B[1;32m      7\u001B[0m             \u001B[0mcleaned\u001B[0m\u001B[0;34m.\u001B[0m\u001B[0mappend\u001B[0m\u001B[0;34m(\u001B[0m\u001B[0;34m\"\"\u001B[0m\u001B[0;34m)\u001B[0m\u001B[0;34m\u001B[0m\u001B[0;34m\u001B[0m\u001B[0m\n",
      "\u001B[0;32m<ipython-input-3-452b6eadd61d>\u001B[0m in \u001B[0;36m<lambda>\u001B[0;34m(char)\u001B[0m\n\u001B[1;32m      3\u001B[0m     \u001B[0;32mfor\u001B[0m \u001B[0ms\u001B[0m \u001B[0;32min\u001B[0m \u001B[0mcolumn\u001B[0m\u001B[0;34m:\u001B[0m\u001B[0;34m\u001B[0m\u001B[0;34m\u001B[0m\u001B[0m\n\u001B[1;32m      4\u001B[0m         \u001B[0;32mif\u001B[0m \u001B[0ms\u001B[0m \u001B[0;32mis\u001B[0m \u001B[0;32mnot\u001B[0m \u001B[0;32mNone\u001B[0m\u001B[0;34m:\u001B[0m\u001B[0;34m\u001B[0m\u001B[0;34m\u001B[0m\u001B[0m\n\u001B[0;32m----> 5\u001B[0;31m             \u001B[0mcleaned\u001B[0m\u001B[0;34m.\u001B[0m\u001B[0mappend\u001B[0m\u001B[0;34m(\u001B[0m\u001B[0;34m\"\"\u001B[0m\u001B[0;34m.\u001B[0m\u001B[0mjoin\u001B[0m\u001B[0;34m(\u001B[0m\u001B[0mfilter\u001B[0m\u001B[0;34m(\u001B[0m\u001B[0;32mlambda\u001B[0m \u001B[0mchar\u001B[0m\u001B[0;34m:\u001B[0m \u001B[0mchar\u001B[0m \u001B[0;32min\u001B[0m \u001B[0mstring\u001B[0m\u001B[0;34m.\u001B[0m\u001B[0mprintable\u001B[0m\u001B[0;34m,\u001B[0m \u001B[0ms\u001B[0m\u001B[0;34m)\u001B[0m\u001B[0;34m)\u001B[0m\u001B[0;34m)\u001B[0m\u001B[0;34m\u001B[0m\u001B[0;34m\u001B[0m\u001B[0m\n\u001B[0m\u001B[1;32m      6\u001B[0m         \u001B[0;32melse\u001B[0m\u001B[0;34m:\u001B[0m\u001B[0;34m\u001B[0m\u001B[0;34m\u001B[0m\u001B[0m\n\u001B[1;32m      7\u001B[0m             \u001B[0mcleaned\u001B[0m\u001B[0;34m.\u001B[0m\u001B[0mappend\u001B[0m\u001B[0;34m(\u001B[0m\u001B[0;34m\"\"\u001B[0m\u001B[0;34m)\u001B[0m\u001B[0;34m\u001B[0m\u001B[0;34m\u001B[0m\u001B[0m\n",
      "\u001B[0;31mKeyboardInterrupt\u001B[0m: "
     ]
    }
   ],
   "source": [
    "map_rs_cases = {'case_id':'ecli',  # id = ecli or country/court id\n",
    "          'date':'date_judgement',\n",
    "          'subject':'domain',\n",
    "          'authority':'instance',\n",
    "          'case_number':'case_number',\n",
    "          'description':'inhoudsindicatie',\n",
    "          'language':'language',\n",
    "          'country':'jurisdiction_country',\n",
    "          'venue':'jurisdiction_city',\n",
    "          'abstract':'uitspraak_info',\n",
    "          'procedure_type':'procedure_type',\n",
    "          'alternative_sources':'alternative_sources',\n",
    "          'legal_references':'legislation_title'}\n",
    "df_rs_cases = df_rs_cases_raw[map_rs_cases.keys()].rename(columns=map_rs_cases)\n",
    "df_rs_cases['doctype'] = 'decision'\n",
    "df_rs_cases['data_source'] = 'Rechtspraak'\n",
    "\n",
    "# clean strings and transform date type\n",
    "#df_rs_cases['uitspraakdatum'] = [dateutil.parser.parse(i).isoformat() if i is not None else '1900-01-01T00:00:00' for i in df_rs_cases['uitspraakdatum']]\n",
    "df_rs_cases['inhoudsindicatie'] = clean_strings(df_rs_cases['inhoudsindicatie'])\n",
    "df_rs_cases['alternative_sources'] = clean_strings(df_rs_cases['alternative_sources'])\n",
    "df_rs_cases['domain'] = df_rs_cases['domain'].apply(lambda x: set(x.split(\"; \")) if x is not None else x)"
   ],
   "metadata": {
    "collapsed": false,
    "pycharm": {
     "name": "#%%\n"
    }
   }
  },
  {
   "cell_type": "markdown",
   "source": [
    "#### RS opinions"
   ],
   "metadata": {
    "collapsed": false
   }
  },
  {
   "cell_type": "code",
   "execution_count": 11,
   "outputs": [],
   "source": [
    "map_rs_opinions = {'case_id':'ecli',  # id = ecli or country/court id\n",
    "          'date':'uitspraakdatum',\n",
    "          'subject':'domain',\n",
    "          'authority':'instance',\n",
    "          'case_number':'case_number',\n",
    "          'description':'inhoudsindicatie',\n",
    "          'language':'language',\n",
    "          'country':'jurisdiction_country',\n",
    "          'venue':'jurisdiction_city',\n",
    "          'abstract':'conclusie_info',\n",
    "          'procedure_type':'procedure_type',\n",
    "          'lodge_date':'lodge_date',\n",
    "          'alternative_sources':'link',\n",
    "          'legal_references':'legislation_title'}\n",
    "\n",
    "\n",
    "df_rs_opinions = df_rs_opinions_raw[map_rs_opinions.keys()].rename(columns=map_rs_opinions)\n",
    "df_rs_opinions['doctype'] = 'opinion'\n",
    "\n",
    "#df_rs_opinions['uitspraakdatum'] = [dateutil.parser.parse(i).isoformat() if i is not None else '1900-01-01T00:00:00' for i in df_rs_opinions['uitspraakdatum']]\n",
    "df_rs_opinions['conclusie_info'] = clean_strings(df_rs_opinions['conclusie_info'])\n",
    "df_rs_opinions['domain'] = df_rs_opinions['domain'].apply(lambda x: set(x.split(\"; \")) if x is not None else x)"
   ],
   "metadata": {
    "collapsed": false,
    "pycharm": {
     "name": "#%%\n"
    }
   }
  },
  {
   "cell_type": "markdown",
   "source": [
    "#### LI cases"
   ],
   "metadata": {
    "collapsed": false
   }
  },
  {
   "cell_type": "code",
   "execution_count": 17,
   "outputs": [],
   "source": [
    "map_li = {\n",
    "    'ecli':'ecli',\n",
    "    'Title':'title_li',\n",
    "    'date':'publication_date_li',\n",
    "    'abstract':'summary_li',\n",
    "    'LawArea':'domain_li',\n",
    "    'authority':'instance_li',\n",
    "    'Url':'Url_li',\n",
    "    'DisplayTitle':'DisplayTitle_li',\n",
    "    'OriginalUrl':'OriginalUrl_li',\n",
    "    'Jurisdiction':'jurisdiction_country_li',\n",
    "    'DocumentType':'DocumentType_li',\n",
    "    'case_number':'case_number_li',\n",
    "    'PublicationNumber':'PublicationNumber_li',\n",
    "    'IssueNumber':'IssueNumber_li',\n",
    "    'Id':'id_li',\n",
    "    'lodge_date':'date_judgement_li',\n",
    "    'DateAdded':'date_published_online_li',\n",
    "    'Sources':'Sources_li',\n",
    "    'UrlWithAutoLogOnToken':'UrlWithAutoLogOnToken_li',\n",
    "    'DisplaySubtitle':'DisplaySubtitle_li'\n",
    "}\n",
    "df_li_cases = df_li_cases_raw[map_li.keys()].rename(columns=map_li)\n",
    "df_li_cases['doctype'] = 'decision'\n",
    "\n",
    "# clean strings and transform date type\n",
    "#df_li_cases['publication_date_li'] = [dateutil.parser.parse(i).isoformat() if i is not None else '1900-01-01T00:00:00' for i in df_li_cases_raw['date']]\n",
    "df_li_cases['publication_date_li'] = df_li_cases['publication_date_li'].apply(lambda i: dateutil.parser.parse(i).date().strftime('%Y-%m-%d') if i is not None else None)\n",
    "#df_li_cases['lodge_date_li'] = [dateutil.parser.parse(i).isoformat() if i is not None else '1900-01-01T00:00:00' for i in df_li_cases_raw['lodge_date']]\n",
    "df_li_cases['date_judgement_li'] = df_li_cases['date_judgement_li'].apply(lambda i: dateutil.parser.parse(i).date().strftime('%Y-%m-%d') if i is not None else None)\n",
    "#df_li_cases['DateAdded_li'] = [dateutil.parser.parse(i).isoformat() if i is not None else '1900-01-01T00:00:00' for i in df_li_cases_raw['DateAdded']]\n",
    "df_li_cases['date_published_online_li'] = df_li_cases['date_published_online_li'].apply(lambda i: dateutil.parser.parse(i).date().strftime('%Y-%m-%d') if i is not None else None)\n",
    "df_li_cases['title_li'] = clean_strings(df_li_cases['title_li'])\n",
    "df_li_cases['summary_li'] = clean_strings(df_li_cases['summary_li'])\n",
    "df_li_cases['DisplayTitle_li'] = clean_strings(df_li_cases['DisplayTitle_li'])\n",
    "df_li_cases['instance_li'] = clean_strings(df_li_cases['instance_li'])\n",
    "df_li_cases['DisplaySubtitle_li'] = clean_strings(df_li_cases['DisplaySubtitle_li'])\n",
    "df_li_cases['domain_li'] = df_li_cases['domain_li'].apply(lambda x: set(x.strip(\"']['\").split(\"', '\")))"
   ],
   "metadata": {
    "collapsed": false,
    "pycharm": {
     "name": "#%%\n"
    }
   }
  },
  {
   "cell_type": "markdown",
   "source": [
    "#### RS case citations"
   ],
   "metadata": {
    "collapsed": false
   }
  },
  {
   "cell_type": "code",
   "execution_count": 13,
   "outputs": [],
   "source": [
    "map_case_citations = {\n",
    "    'source_ecli':'id',\n",
    "    'target_ecli':'target_ecli',\n",
    "}\n",
    "df_rs_case_citations = df_rs_case_citations_raw[map_case_citations.keys()].rename(columns=map_case_citations)\n",
    "df_rs_case_citations['doctype'] = 'c-citation-' + df_rs_case_citations['target_ecli'].map(str)"
   ],
   "metadata": {
    "collapsed": false,
    "pycharm": {
     "name": "#%%\n"
    }
   }
  },
  {
   "cell_type": "markdown",
   "source": [
    "#### RS legislation citations"
   ],
   "metadata": {
    "collapsed": false
   }
  },
  {
   "cell_type": "code",
   "execution_count": 14,
   "outputs": [],
   "source": [
    "map_legislation_citations = {\n",
    "    'source_ecli':'id',\n",
    "    'target_article':'target_legislation_url',\n",
    "    'target_article_webpage':'target_legislation_article_url'\n",
    "}\n",
    "\n",
    "df_rs_legislation_citations = df_rs_legislation_citations_raw[map_legislation_citations.keys()].rename(columns=map_legislation_citations)\n",
    "df_rs_legislation_citations['doctype'] = 'l-citation-' + df_rs_legislation_citations['target_legislation_article_url'].map(str)"
   ],
   "metadata": {
    "collapsed": false,
    "pycharm": {
     "name": "#%%\n"
    }
   }
  },
  {
   "cell_type": "markdown",
   "source": [
    "#### RS case related decisions"
   ],
   "metadata": {
    "collapsed": false
   }
  },
  {
   "cell_type": "code",
   "execution_count": 6,
   "outputs": [
    {
     "data": {
      "text/plain": "                         id         predecessor_successor_eclis  \\\n125  ECLI:NL:HR:1913:AG1763  Conclusie: ECLI:NL:PHR:1913:AG1763   \n129  ECLI:NL:HR:1913:AG1764  Conclusie: ECLI:NL:PHR:1913:AG1764   \n139  ECLI:NL:HR:1913:BG9429  Conclusie: ECLI:NL:PHR:1913:BG9429   \n293  ECLI:NL:HR:1913:AG1832  Conclusie: ECLI:NL:PHR:1913:AG1832   \n440  ECLI:NL:HR:1913:AG1762  Conclusie: ECLI:NL:PHR:1913:AG1762   \n\n                                        doctype  \n125  related-Conclusie: ECLI:NL:PHR:1913:AG1763  \n129  related-Conclusie: ECLI:NL:PHR:1913:AG1764  \n139  related-Conclusie: ECLI:NL:PHR:1913:BG9429  \n293  related-Conclusie: ECLI:NL:PHR:1913:AG1832  \n440  related-Conclusie: ECLI:NL:PHR:1913:AG1762  ",
      "text/html": "<div>\n<style scoped>\n    .dataframe tbody tr th:only-of-type {\n        vertical-align: middle;\n    }\n\n    .dataframe tbody tr th {\n        vertical-align: top;\n    }\n\n    .dataframe thead th {\n        text-align: right;\n    }\n</style>\n<table border=\"1\" class=\"dataframe\">\n  <thead>\n    <tr style=\"text-align: right;\">\n      <th></th>\n      <th>id</th>\n      <th>predecessor_successor_eclis</th>\n      <th>doctype</th>\n    </tr>\n  </thead>\n  <tbody>\n    <tr>\n      <th>125</th>\n      <td>ECLI:NL:HR:1913:AG1763</td>\n      <td>Conclusie: ECLI:NL:PHR:1913:AG1763</td>\n      <td>related-Conclusie: ECLI:NL:PHR:1913:AG1763</td>\n    </tr>\n    <tr>\n      <th>129</th>\n      <td>ECLI:NL:HR:1913:AG1764</td>\n      <td>Conclusie: ECLI:NL:PHR:1913:AG1764</td>\n      <td>related-Conclusie: ECLI:NL:PHR:1913:AG1764</td>\n    </tr>\n    <tr>\n      <th>139</th>\n      <td>ECLI:NL:HR:1913:BG9429</td>\n      <td>Conclusie: ECLI:NL:PHR:1913:BG9429</td>\n      <td>related-Conclusie: ECLI:NL:PHR:1913:BG9429</td>\n    </tr>\n    <tr>\n      <th>293</th>\n      <td>ECLI:NL:HR:1913:AG1832</td>\n      <td>Conclusie: ECLI:NL:PHR:1913:AG1832</td>\n      <td>related-Conclusie: ECLI:NL:PHR:1913:AG1832</td>\n    </tr>\n    <tr>\n      <th>440</th>\n      <td>ECLI:NL:HR:1913:AG1762</td>\n      <td>Conclusie: ECLI:NL:PHR:1913:AG1762</td>\n      <td>related-Conclusie: ECLI:NL:PHR:1913:AG1762</td>\n    </tr>\n  </tbody>\n</table>\n</div>"
     },
     "execution_count": 6,
     "metadata": {},
     "output_type": "execute_result"
    }
   ],
   "source": [
    "map_case_related_decisions = {\n",
    "    'case_id':'id',\n",
    "    'related_cases':'predecessor_successor_eclis'\n",
    "    }\n",
    "df_rs_related_cases = df_rs_cases_raw.dropna(subset=['related_cases'])[['case_id', 'related_cases']]\n",
    "df_rs_related_cases = df_rs_related_cases[map_case_related_decisions.keys()].rename(columns=map_case_related_decisions)\n",
    "df_rs_related_cases['predecessor_successor_eclis'] = df_rs_related_cases['predecessor_successor_eclis'].apply(lambda x: x.strip())\n",
    "df_rs_related_cases['doctype'] = 'related-' + df_rs_related_cases['predecessor_successor_eclis'].map(str)\n",
    "df_rs_related_cases.head()"
   ],
   "metadata": {
    "collapsed": false,
    "pycharm": {
     "name": "#%%\n"
    }
   }
  },
  {
   "cell_type": "markdown",
   "source": [
    "#### Courts"
   ],
   "metadata": {
    "collapsed": false
   }
  },
  {
   "cell_type": "code",
   "execution_count": 20,
   "outputs": [],
   "source": [
    "df_court = pd.DataFrame()\n",
    "courts_list = list(set(df_rs_cases_raw.authority.unique().tolist() + df_rs_opinions_raw.authority.unique().tolist() + df_li_cases_raw.authority.unique().tolist()))\n",
    "courts_list = [i.replace('\"','-') for i in courts_list]\n",
    "courts_list.extend(['Other'])\n",
    "\n",
    "#df_court['name'] = clean_strings(courts_list)\n",
    "df_court['id'] = clean_strings(courts_list)  # court name\n",
    "df_court.loc[:,'type'] = None\n",
    "df_court.loc[:,'level'] = None\n",
    "df_court.loc[:,'country'] = None\n",
    "df_court.loc[:,'language'] = None\n",
    "df_court.loc[:,'jurisdiction'] = None\n",
    "df_court.loc[:,'domain'] = None\n",
    "df_court.loc[:,'authority_level'] = None\n",
    "df_court.loc[:, 'doctype'] = 'court'\n"
   ],
   "metadata": {
    "collapsed": false,
    "pycharm": {
     "name": "#%%\n"
    }
   }
  },
  {
   "cell_type": "markdown",
   "source": [
    "#### Countries"
   ],
   "metadata": {
    "collapsed": false
   }
  },
  {
   "cell_type": "code",
   "execution_count": 21,
   "outputs": [],
   "source": [
    "df_country = df_country_raw.copy()\n",
    "df_country.loc[:,'language'] = None\n",
    "df_country.loc[:,'eea'] = 0\n",
    "df_country = df_country[['country_id','name','language','flag','eu','eea']].rename(columns={'country_id':'id'})\n",
    "df_country.loc[:, 'doctype'] = 'country'"
   ],
   "metadata": {
    "collapsed": false,
    "pycharm": {
     "name": "#%%\n"
    }
   }
  },
  {
   "cell_type": "markdown",
   "source": [
    "#### Split data into RS only cases, LI only cases and RS+LI cases:"
   ],
   "metadata": {
    "collapsed": false
   }
  },
  {
   "cell_type": "code",
   "execution_count": 18,
   "outputs": [
    {
     "name": "stdout",
     "output_type": "stream",
     "text": [
      "number of li only cases:  44\n",
      "number of rechtspraak only cases:  2631803\n",
      "number of overlapping cases:  617\n",
      "number of rechtspraak total cases:  2632420\n",
      "number of li total cases:  661\n"
     ]
    }
   ],
   "source": [
    "''' intersection of cases in li and case_raw '''\n",
    "rsli_intersection = list(set(df_li_cases['ecli']).intersection(set(df_rs_cases['ecli'])))\n",
    "rs_only = list(set(df_rs_cases['ecli']) - set(rsli_intersection))\n",
    "li_only = list(set(df_li_cases['ecli']) - set(rsli_intersection))\n",
    "print('number of li only cases: ', len(li_only))\n",
    "print('number of rechtspraak only cases: ', len(rs_only))\n",
    "print('number of overlapping cases: ', len(rsli_intersection))\n",
    "print('number of rechtspraak total cases: ', len(df_rs_cases_raw))\n",
    "print('number of li total cases: ', len(df_li_cases_raw))"
   ],
   "metadata": {
    "collapsed": false,
    "pycharm": {
     "name": "#%%\n"
    }
   }
  },
  {
   "cell_type": "code",
   "execution_count": 19,
   "outputs": [],
   "source": [
    "### build separate dfs for li only and raw only cases\n",
    "df_rs_only_cases = df_rs_cases[df_rs_cases['ecli'].isin(rs_only)]\n",
    "df_li_only_cases = df_li_cases[df_li_cases['ecli'].isin(li_only)]\n"
   ],
   "metadata": {
    "collapsed": false,
    "pycharm": {
     "name": "#%%\n"
    }
   }
  },
  {
   "cell_type": "code",
   "execution_count": 20,
   "outputs": [],
   "source": [
    "### merge overlapping li and raw cases into one df\n",
    "df_rsli_intersection_cases = df_li_cases[df_li_cases['ecli'].isin(rsli_intersection)]\n",
    "df_rsli_intersection_cases.set_index('ecli', inplace=True)\n",
    "df_rs_cases.set_index('ecli', inplace=True)\n",
    "df_rsli_intersection_cases = df_rsli_intersection_cases.join(df_rs_cases.drop('doctype', axis=1))\n",
    "df_rs_cases.reset_index(inplace=True)\n",
    "df_rsli_intersection_cases.reset_index(inplace=True)"
   ],
   "metadata": {
    "collapsed": false,
    "pycharm": {
     "name": "#%%\n"
    }
   }
  },
  {
   "cell_type": "code",
   "execution_count": 21,
   "outputs": [
    {
     "data": {
      "text/plain": "Index(['ecli', 'title_li', 'publication_date_li', 'summary_li', 'domain_li',\n       'instance_li', 'Url_li', 'DisplayTitle_li', 'OriginalUrl_li',\n       'jurisdiction_country_li', 'DocumentType_li', 'case_number_li',\n       'PublicationNumber_li', 'IssueNumber_li', 'id_li', 'date_judgement_li',\n       'date_published_online_li', 'Sources_li', 'UrlWithAutoLogOnToken_li',\n       'DisplaySubtitle_li', 'doctype', 'date_judgement', 'domain', 'instance',\n       'case_number', 'inhoudsindicatie', 'language', 'jurisdiction_country',\n       'jurisdiction_city', 'uitspraak_info', 'procedure_type',\n       'alternative_sources', 'legislation_title', 'data_source'],\n      dtype='object')"
     },
     "execution_count": 21,
     "metadata": {},
     "output_type": "execute_result"
    }
   ],
   "source": [
    "df_rsli_intersection_cases.columns"
   ],
   "metadata": {
    "collapsed": false,
    "pycharm": {
     "name": "#%%\n"
    }
   }
  },
  {
   "cell_type": "code",
   "execution_count": 24,
   "outputs": [],
   "source": [
    "mapped_cases = df_rsli_intersection_cases[['ecli',\n",
    "                            'date_judgement', 'publication_date_li', 'date_judgement_li', 'date_published_online_li',\n",
    "                            'case_number', 'case_number_li',\n",
    "                            'inhoudsindicatie', 'uitspraak_info', 'summary_li',\n",
    "                            'language',\n",
    "                            'jurisdiction_country', 'jurisdiction_country_li', 'jurisdiction_city',\n",
    "                            'domain', 'domain_li',\n",
    "                            'instance', 'instance_li',\n",
    "                            'title_li', 'DisplayTitle_li', 'DisplaySubtitle_li',\n",
    "                            'alternative_sources', 'Url_li', 'OriginalUrl_li', 'UrlWithAutoLogOnToken_li',\n",
    "                            'procedure_type', 'Sources_li',\n",
    "                            'PublicationNumber_li', 'IssueNumber_li', 'id_li']]\n",
    "mapped_cases.to_csv('../data/RS-LI_mapped_decisions.csv', index=False)\n",
    "#mapped_cases = pd.read_csv('../data/RS-LI_mapped_decisions.csv')"
   ],
   "metadata": {
    "collapsed": false,
    "pycharm": {
     "name": "#%%\n"
    }
   }
  },
  {
   "cell_type": "code",
   "execution_count": 20,
   "outputs": [
    {
     "data": {
      "text/plain": "                          ecli uitspraakdatum publication_date_li lodge_date  \\\n242   ECLI:NL:CRVB:1997:ZB7203     1997-10-20          1997-01-01       None   \n243   ECLI:NL:CRVB:1997:ZB7202     1997-10-20          1997-01-01       None   \n344  ECLI:NL:RBGRO:1997:AL0841     1997-11-28          1998-01-01       None   \n345     ECLI:NL:HR:1998:AA2539     1998-08-26          1998-01-01       None   \n489    ECLI:NL:RVS:1999:AL2870     1999-11-11          1999-01-01       None   \n550    ECLI:NL:RVS:1999:AA3693     1999-10-21          1999-01-01       None   \n\n    lodge_date_li DateAdded_li         case_number  \\\n242    1997-10-23   2011-06-23       96/7800 Algem   \n243    1997-10-23   2011-06-23       96/6702 Algem   \n344    1999-12-17   2010-07-22  18259/HA ZA 96-185   \n345    1999-08-26   2011-06-23               33568   \n489    1999-06-28   2011-05-20         E03.96.0413   \n550    1999-10-22   2010-07-22         H01.99.0579   \n\n                                 case_number_li  \\\n242       96/7800ALGEM ECLI:NL:CRVB:1997:ZB7203   \n243            96/6702 ECLI:NL:CRVB:1997:ZB7202   \n344  18259/HAZA96-185 ECLI:NL:RBGRO:1997:AL0841   \n345                                      33 568   \n489           F03990091 ECLI:NL:RVS:1999:AL2870   \n550                                   H01990579   \n\n                                      inhoudsindicatie uitspraak_info  \\\n242                                                              None   \n243                                                              None   \n344                                                              None   \n345  \\n      -<para xmlns=\"http://www.rechtspraak.n...           None   \n489                                                              None   \n550  \\n      \\n        <parablock xmlns=\"http://www...           None   \n\n                                            summary_li language  \\\n242  Belanghebbende is jaren lang als docent in die...       NL   \n243  Stichting R verzorgt allerlei soorten cursusse...       NL   \n344  De gemeente heeft primair gesteld dat R. in ha...       NL   \n345  De vof X, die een tuinbouwbedrijf uitoefent en...       NL   \n489  HFMW van Rijswick Casus Een Wvo-vergunning is ...       NL   \n550  De staatssecretaris heeft ongegrond verklaard ...       NL   \n\n    procedure_type jurisdiction_country jurisdiction_country_li  \\\n242   Hoger beroep                   NL               Nederland   \n243   Hoger beroep                   NL               Nederland   \n344           None                   NL               Nederland   \n345       Cassatie                   NL               Nederland   \n489           None                   NL               Nederland   \n550   Hoger beroep                   NL               Nederland   \n\n    jurisdiction_city                           domain  \\\n242              None                  {Bestuursrecht}   \n243              None                  {Bestuursrecht}   \n344              None                             None   \n345              None  {Belastingrecht, Bestuursrecht}   \n489              None                             None   \n550              None                  {Bestuursrecht}   \n\n                                             domain_li  \\\n242            {Arbeids/Sociaal Recht, Belastingrecht}   \n243  {Arbeids/Sociaal Recht, Belastingrecht, Onbekend}   \n344  {Arbeids/Sociaal Recht, Onbekend, Burgerlijke ...   \n345                         {Belastingrecht, Onbekend}   \n489  {Ruimtelijk Bestuursrecht/Milieurecht/Energier...   \n550     {Staats- en Bestuursrecht, Onbekend, Algemeen}   \n\n                     instance               instance_li title  \\\n242  Centrale Raad van Beroep  Centrale Raad van Beroep  None   \n243  Centrale Raad van Beroep  Centrale Raad van Beroep  None   \n344       Rechtbank Groningen       Rechtbank Groningen  None   \n345                 Hoge Raad                 Hoge Raad  None   \n489            Raad van State            Raad van State  None   \n550            Raad van State            Raad van State  None   \n\n                                              title_li  \\\n242       PREMIEHEFFING Geen verzekeringsplicht docent   \n243  PREMIEHEFFING Gastdocenten werkzaam in dienstb...   \n344  Vergoeding van schade bestaande uit kosten van...   \n345  OMZETBELASTING Vergoeding. Door tuinder zelf v...   \n489  HFMW van Rijswick Casus Een Wvo-vergunning is ...   \n550  Voornemen vestiging standplaats is besluit; ma...   \n\n                                       DisplayTitle_li  \\\n242  V-N 1997/4404, 20 - Met noot - Redactie - Cent...   \n243  V-N 1997/4407, 21 - Met noot - Redactie - Cent...   \n344  AB 1998, 226 - Met noot - Buuren van, P.J.J. -...   \n345  V-N 1998/47.17 - Met noot - Redactie - Hoge Ra...   \n489  HFMW van Rijswick Casus Een Wvo-vergunning is ...   \n550  AB 1999, 470 - Met noot - Schreuder-Vlasblom, ...   \n\n                                    DisplaySubtitle_li  \\\n242       PREMIEHEFFING Geen verzekeringsplicht docent   \n243  PREMIEHEFFING Gastdocenten werkzaam in dienstb...   \n344  Vergoeding van schade bestaande uit kosten van...   \n345  OMZETBELASTING Vergoeding. Door tuinder zelf v...   \n489  Module-serie - Module Afval - Module Water - M...   \n550  Voornemen vestiging standplaats is besluit; ma...   \n\n                                                  link  \\\n242  \\n        \\n          <rdf:list xmlns:rdf=\"htt...   \n243  \\n        \\n          <rdf:list xmlns:rdf=\"htt...   \n344  \\n        \\n          <rdf:list xmlns:rdf=\"htt...   \n345  \\n        \\n          <rdf:list xmlns:rdf=\"htt...   \n489  \\n        \\n          <rdf:list xmlns:rdf=\"htt...   \n550  \\n        \\n          <rdf:list xmlns:rdf=\"htt...   \n\n                                               link_li  \\\n242  http://www.legalintelligence.com/documents/519...   \n243  http://www.legalintelligence.com/documents/519...   \n344  http://www.legalintelligence.com/documents/373...   \n345  http://www.legalintelligence.com/documents/519...   \n489  http://www.legalintelligence.com/documents/496...   \n550  http://www.legalintelligence.com/documents/373...   \n\n                                        OriginalUrl_li  \\\n242  https://www.navigator.nl/#/document/inod20135f...   \n243  https://www.navigator.nl/#/document/inod64ed8f...   \n344  https://www.navigator.nl/#/document/id19519971...   \n345  https://www.navigator.nl/#/document/inodcdd076...   \n489  https://www.navigator.nl/#/document/da5a4b72b4...   \n550  https://www.navigator.nl/#/document/id20511999...   \n\n                              UrlWithAutoLogOnToken_li PublicationNumber_li  \\\n242  http://www.legalintelligence.com/documents/519...    V-N 1997/4404, 20   \n243  http://www.legalintelligence.com/documents/519...    V-N 1997/4407, 21   \n344  http://www.legalintelligence.com/documents/373...         AB 1998, 226   \n345  http://www.legalintelligence.com/documents/519...       V-N 1998/47.17   \n489  http://www.legalintelligence.com/documents/496...                 None   \n550  http://www.legalintelligence.com/documents/373...         AB 1999, 470   \n\n     IssueNumber_li  \n242  VN/1997/000053  \n243  VN/1997/000053  \n344  AB/1998/000026  \n345  VN/1998/000047  \n489            None  \n550  AB/1999/000047  ",
      "text/html": "<div>\n<style scoped>\n    .dataframe tbody tr th:only-of-type {\n        vertical-align: middle;\n    }\n\n    .dataframe tbody tr th {\n        vertical-align: top;\n    }\n\n    .dataframe thead th {\n        text-align: right;\n    }\n</style>\n<table border=\"1\" class=\"dataframe\">\n  <thead>\n    <tr style=\"text-align: right;\">\n      <th></th>\n      <th>ecli</th>\n      <th>uitspraakdatum</th>\n      <th>publication_date_li</th>\n      <th>lodge_date</th>\n      <th>lodge_date_li</th>\n      <th>DateAdded_li</th>\n      <th>case_number</th>\n      <th>case_number_li</th>\n      <th>inhoudsindicatie</th>\n      <th>uitspraak_info</th>\n      <th>summary_li</th>\n      <th>language</th>\n      <th>procedure_type</th>\n      <th>jurisdiction_country</th>\n      <th>jurisdiction_country_li</th>\n      <th>jurisdiction_city</th>\n      <th>domain</th>\n      <th>domain_li</th>\n      <th>instance</th>\n      <th>instance_li</th>\n      <th>title</th>\n      <th>title_li</th>\n      <th>DisplayTitle_li</th>\n      <th>DisplaySubtitle_li</th>\n      <th>link</th>\n      <th>link_li</th>\n      <th>OriginalUrl_li</th>\n      <th>UrlWithAutoLogOnToken_li</th>\n      <th>PublicationNumber_li</th>\n      <th>IssueNumber_li</th>\n    </tr>\n  </thead>\n  <tbody>\n    <tr>\n      <th>242</th>\n      <td>ECLI:NL:CRVB:1997:ZB7203</td>\n      <td>1997-10-20</td>\n      <td>1997-01-01</td>\n      <td>None</td>\n      <td>1997-10-23</td>\n      <td>2011-06-23</td>\n      <td>96/7800 Algem</td>\n      <td>96/7800ALGEM ECLI:NL:CRVB:1997:ZB7203</td>\n      <td></td>\n      <td>None</td>\n      <td>Belanghebbende is jaren lang als docent in die...</td>\n      <td>NL</td>\n      <td>Hoger beroep</td>\n      <td>NL</td>\n      <td>Nederland</td>\n      <td>None</td>\n      <td>{Bestuursrecht}</td>\n      <td>{Arbeids/Sociaal Recht, Belastingrecht}</td>\n      <td>Centrale Raad van Beroep</td>\n      <td>Centrale Raad van Beroep</td>\n      <td>None</td>\n      <td>PREMIEHEFFING Geen verzekeringsplicht docent</td>\n      <td>V-N 1997/4404, 20 - Met noot - Redactie - Cent...</td>\n      <td>PREMIEHEFFING Geen verzekeringsplicht docent</td>\n      <td>\\n        \\n          &lt;rdf:list xmlns:rdf=\"htt...</td>\n      <td>http://www.legalintelligence.com/documents/519...</td>\n      <td>https://www.navigator.nl/#/document/inod20135f...</td>\n      <td>http://www.legalintelligence.com/documents/519...</td>\n      <td>V-N 1997/4404, 20</td>\n      <td>VN/1997/000053</td>\n    </tr>\n    <tr>\n      <th>243</th>\n      <td>ECLI:NL:CRVB:1997:ZB7202</td>\n      <td>1997-10-20</td>\n      <td>1997-01-01</td>\n      <td>None</td>\n      <td>1997-10-23</td>\n      <td>2011-06-23</td>\n      <td>96/6702 Algem</td>\n      <td>96/6702 ECLI:NL:CRVB:1997:ZB7202</td>\n      <td></td>\n      <td>None</td>\n      <td>Stichting R verzorgt allerlei soorten cursusse...</td>\n      <td>NL</td>\n      <td>Hoger beroep</td>\n      <td>NL</td>\n      <td>Nederland</td>\n      <td>None</td>\n      <td>{Bestuursrecht}</td>\n      <td>{Arbeids/Sociaal Recht, Belastingrecht, Onbekend}</td>\n      <td>Centrale Raad van Beroep</td>\n      <td>Centrale Raad van Beroep</td>\n      <td>None</td>\n      <td>PREMIEHEFFING Gastdocenten werkzaam in dienstb...</td>\n      <td>V-N 1997/4407, 21 - Met noot - Redactie - Cent...</td>\n      <td>PREMIEHEFFING Gastdocenten werkzaam in dienstb...</td>\n      <td>\\n        \\n          &lt;rdf:list xmlns:rdf=\"htt...</td>\n      <td>http://www.legalintelligence.com/documents/519...</td>\n      <td>https://www.navigator.nl/#/document/inod64ed8f...</td>\n      <td>http://www.legalintelligence.com/documents/519...</td>\n      <td>V-N 1997/4407, 21</td>\n      <td>VN/1997/000053</td>\n    </tr>\n    <tr>\n      <th>344</th>\n      <td>ECLI:NL:RBGRO:1997:AL0841</td>\n      <td>1997-11-28</td>\n      <td>1998-01-01</td>\n      <td>None</td>\n      <td>1999-12-17</td>\n      <td>2010-07-22</td>\n      <td>18259/HA ZA 96-185</td>\n      <td>18259/HAZA96-185 ECLI:NL:RBGRO:1997:AL0841</td>\n      <td></td>\n      <td>None</td>\n      <td>De gemeente heeft primair gesteld dat R. in ha...</td>\n      <td>NL</td>\n      <td>None</td>\n      <td>NL</td>\n      <td>Nederland</td>\n      <td>None</td>\n      <td>None</td>\n      <td>{Arbeids/Sociaal Recht, Onbekend, Burgerlijke ...</td>\n      <td>Rechtbank Groningen</td>\n      <td>Rechtbank Groningen</td>\n      <td>None</td>\n      <td>Vergoeding van schade bestaande uit kosten van...</td>\n      <td>AB 1998, 226 - Met noot - Buuren van, P.J.J. -...</td>\n      <td>Vergoeding van schade bestaande uit kosten van...</td>\n      <td>\\n        \\n          &lt;rdf:list xmlns:rdf=\"htt...</td>\n      <td>http://www.legalintelligence.com/documents/373...</td>\n      <td>https://www.navigator.nl/#/document/id19519971...</td>\n      <td>http://www.legalintelligence.com/documents/373...</td>\n      <td>AB 1998, 226</td>\n      <td>AB/1998/000026</td>\n    </tr>\n    <tr>\n      <th>345</th>\n      <td>ECLI:NL:HR:1998:AA2539</td>\n      <td>1998-08-26</td>\n      <td>1998-01-01</td>\n      <td>None</td>\n      <td>1999-08-26</td>\n      <td>2011-06-23</td>\n      <td>33568</td>\n      <td>33 568</td>\n      <td>\\n      -&lt;para xmlns=\"http://www.rechtspraak.n...</td>\n      <td>None</td>\n      <td>De vof X, die een tuinbouwbedrijf uitoefent en...</td>\n      <td>NL</td>\n      <td>Cassatie</td>\n      <td>NL</td>\n      <td>Nederland</td>\n      <td>None</td>\n      <td>{Belastingrecht, Bestuursrecht}</td>\n      <td>{Belastingrecht, Onbekend}</td>\n      <td>Hoge Raad</td>\n      <td>Hoge Raad</td>\n      <td>None</td>\n      <td>OMZETBELASTING Vergoeding. Door tuinder zelf v...</td>\n      <td>V-N 1998/47.17 - Met noot - Redactie - Hoge Ra...</td>\n      <td>OMZETBELASTING Vergoeding. Door tuinder zelf v...</td>\n      <td>\\n        \\n          &lt;rdf:list xmlns:rdf=\"htt...</td>\n      <td>http://www.legalintelligence.com/documents/519...</td>\n      <td>https://www.navigator.nl/#/document/inodcdd076...</td>\n      <td>http://www.legalintelligence.com/documents/519...</td>\n      <td>V-N 1998/47.17</td>\n      <td>VN/1998/000047</td>\n    </tr>\n    <tr>\n      <th>489</th>\n      <td>ECLI:NL:RVS:1999:AL2870</td>\n      <td>1999-11-11</td>\n      <td>1999-01-01</td>\n      <td>None</td>\n      <td>1999-06-28</td>\n      <td>2011-05-20</td>\n      <td>E03.96.0413</td>\n      <td>F03990091 ECLI:NL:RVS:1999:AL2870</td>\n      <td></td>\n      <td>None</td>\n      <td>HFMW van Rijswick Casus Een Wvo-vergunning is ...</td>\n      <td>NL</td>\n      <td>None</td>\n      <td>NL</td>\n      <td>Nederland</td>\n      <td>None</td>\n      <td>None</td>\n      <td>{Ruimtelijk Bestuursrecht/Milieurecht/Energier...</td>\n      <td>Raad van State</td>\n      <td>Raad van State</td>\n      <td>None</td>\n      <td>HFMW van Rijswick Casus Een Wvo-vergunning is ...</td>\n      <td>HFMW van Rijswick Casus Een Wvo-vergunning is ...</td>\n      <td>Module-serie - Module Afval - Module Water - M...</td>\n      <td>\\n        \\n          &lt;rdf:list xmlns:rdf=\"htt...</td>\n      <td>http://www.legalintelligence.com/documents/496...</td>\n      <td>https://www.navigator.nl/#/document/da5a4b72b4...</td>\n      <td>http://www.legalintelligence.com/documents/496...</td>\n      <td>None</td>\n      <td>None</td>\n    </tr>\n    <tr>\n      <th>550</th>\n      <td>ECLI:NL:RVS:1999:AA3693</td>\n      <td>1999-10-21</td>\n      <td>1999-01-01</td>\n      <td>None</td>\n      <td>1999-10-22</td>\n      <td>2010-07-22</td>\n      <td>H01.99.0579</td>\n      <td>H01990579</td>\n      <td>\\n      \\n        &lt;parablock xmlns=\"http://www...</td>\n      <td>None</td>\n      <td>De staatssecretaris heeft ongegrond verklaard ...</td>\n      <td>NL</td>\n      <td>Hoger beroep</td>\n      <td>NL</td>\n      <td>Nederland</td>\n      <td>None</td>\n      <td>{Bestuursrecht}</td>\n      <td>{Staats- en Bestuursrecht, Onbekend, Algemeen}</td>\n      <td>Raad van State</td>\n      <td>Raad van State</td>\n      <td>None</td>\n      <td>Voornemen vestiging standplaats is besluit; ma...</td>\n      <td>AB 1999, 470 - Met noot - Schreuder-Vlasblom, ...</td>\n      <td>Voornemen vestiging standplaats is besluit; ma...</td>\n      <td>\\n        \\n          &lt;rdf:list xmlns:rdf=\"htt...</td>\n      <td>http://www.legalintelligence.com/documents/373...</td>\n      <td>https://www.navigator.nl/#/document/id20511999...</td>\n      <td>http://www.legalintelligence.com/documents/373...</td>\n      <td>AB 1999, 470</td>\n      <td>AB/1999/000047</td>\n    </tr>\n  </tbody>\n</table>\n</div>"
     },
     "execution_count": 20,
     "metadata": {},
     "output_type": "execute_result"
    }
   ],
   "source": [
    "mapped_cases.loc[~(mapped_cases['uitspraakdatum'] == mapped_cases['lodge_date_li'])]"
   ],
   "metadata": {
    "collapsed": false,
    "pycharm": {
     "name": "#%%\n"
    }
   }
  },
  {
   "cell_type": "code",
   "execution_count": 19,
   "outputs": [
    {
     "data": {
      "text/plain": "                           ecli uitspraakdatum          domain  \\\ncount                   2632420        2632420         2349707   \nunique                  2632420          28054              31   \ntop     ECLI:NL:RBNHO:2019:7177     2011-06-01  {Civiel recht}   \nfreq                          1           1633          554240   \n\n                       instance case_number inhoudsindicatie language  \\\ncount                   2632420     2603903          2632420  2632420   \nunique                     1223     2345163           415179        1   \ntop     Rechtbank 's-Gravenhage    Onbekend                        NL   \nfreq                     251772       30796          2152106  2632420   \n\n       jurisdiction_country jurisdiction_city  \\\ncount               2632420           1407815   \nunique                    1                48   \ntop                      NL     's-Gravenhage   \nfreq                2632420            389671   \n\n                                           uitspraak_info procedure_type  \\\ncount                                              137176         554530   \nunique                                             136987             42   \ntop     \\n    <bridgehead xmlns=\"http://www.rechtspraa...   Hoger beroep   \nfreq                                                   17         197399   \n\n       lodge_date     link                   legislation_title title  \\\ncount           0  2632420                              113881     0   \nunique          0        2                               10265     0   \ntop           NaN           Algemene wet bestuursrecht\\n         NaN   \nfreq          NaN  1983110                               11074   NaN   \n\n         doctype       source  \ncount    2632420      2632420  \nunique         1            1  \ntop     decision  Rechtspraak  \nfreq     2632420      2632420  ",
      "text/html": "<div>\n<style scoped>\n    .dataframe tbody tr th:only-of-type {\n        vertical-align: middle;\n    }\n\n    .dataframe tbody tr th {\n        vertical-align: top;\n    }\n\n    .dataframe thead th {\n        text-align: right;\n    }\n</style>\n<table border=\"1\" class=\"dataframe\">\n  <thead>\n    <tr style=\"text-align: right;\">\n      <th></th>\n      <th>ecli</th>\n      <th>uitspraakdatum</th>\n      <th>domain</th>\n      <th>instance</th>\n      <th>case_number</th>\n      <th>inhoudsindicatie</th>\n      <th>language</th>\n      <th>jurisdiction_country</th>\n      <th>jurisdiction_city</th>\n      <th>uitspraak_info</th>\n      <th>procedure_type</th>\n      <th>lodge_date</th>\n      <th>link</th>\n      <th>legislation_title</th>\n      <th>title</th>\n      <th>doctype</th>\n      <th>source</th>\n    </tr>\n  </thead>\n  <tbody>\n    <tr>\n      <th>count</th>\n      <td>2632420</td>\n      <td>2632420</td>\n      <td>2349707</td>\n      <td>2632420</td>\n      <td>2603903</td>\n      <td>2632420</td>\n      <td>2632420</td>\n      <td>2632420</td>\n      <td>1407815</td>\n      <td>137176</td>\n      <td>554530</td>\n      <td>0</td>\n      <td>2632420</td>\n      <td>113881</td>\n      <td>0</td>\n      <td>2632420</td>\n      <td>2632420</td>\n    </tr>\n    <tr>\n      <th>unique</th>\n      <td>2632420</td>\n      <td>28054</td>\n      <td>31</td>\n      <td>1223</td>\n      <td>2345163</td>\n      <td>415179</td>\n      <td>1</td>\n      <td>1</td>\n      <td>48</td>\n      <td>136987</td>\n      <td>42</td>\n      <td>0</td>\n      <td>2</td>\n      <td>10265</td>\n      <td>0</td>\n      <td>1</td>\n      <td>1</td>\n    </tr>\n    <tr>\n      <th>top</th>\n      <td>ECLI:NL:RBNHO:2019:7177</td>\n      <td>2011-06-01</td>\n      <td>{Civiel recht}</td>\n      <td>Rechtbank 's-Gravenhage</td>\n      <td>Onbekend</td>\n      <td></td>\n      <td>NL</td>\n      <td>NL</td>\n      <td>'s-Gravenhage</td>\n      <td>\\n    &lt;bridgehead xmlns=\"http://www.rechtspraa...</td>\n      <td>Hoger beroep</td>\n      <td>NaN</td>\n      <td></td>\n      <td>Algemene wet bestuursrecht\\n</td>\n      <td>NaN</td>\n      <td>decision</td>\n      <td>Rechtspraak</td>\n    </tr>\n    <tr>\n      <th>freq</th>\n      <td>1</td>\n      <td>1633</td>\n      <td>554240</td>\n      <td>251772</td>\n      <td>30796</td>\n      <td>2152106</td>\n      <td>2632420</td>\n      <td>2632420</td>\n      <td>389671</td>\n      <td>17</td>\n      <td>197399</td>\n      <td>NaN</td>\n      <td>1983110</td>\n      <td>11074</td>\n      <td>NaN</td>\n      <td>2632420</td>\n      <td>2632420</td>\n    </tr>\n  </tbody>\n</table>\n</div>"
     },
     "execution_count": 19,
     "metadata": {},
     "output_type": "execute_result"
    }
   ],
   "source": [
    "df_rs_cases.describe()"
   ],
   "metadata": {
    "collapsed": false,
    "pycharm": {
     "name": "#%%\n"
    }
   }
  },
  {
   "cell_type": "code",
   "execution_count": 29,
   "outputs": [
    {
     "ename": "NameError",
     "evalue": "name 'df_rs_cases_raw' is not defined",
     "output_type": "error",
     "traceback": [
      "\u001B[0;31m---------------------------------------------------------------------------\u001B[0m",
      "\u001B[0;31mNameError\u001B[0m                                 Traceback (most recent call last)",
      "\u001B[0;32m<ipython-input-29-4648dfc06d52>\u001B[0m in \u001B[0;36m<module>\u001B[0;34m\u001B[0m\n\u001B[0;32m----> 1\u001B[0;31m \u001B[0;32mdel\u001B[0m \u001B[0mdf_li_cases\u001B[0m\u001B[0;34m,\u001B[0m \u001B[0mdf_li_cases_raw\u001B[0m\u001B[0;34m,\u001B[0m \u001B[0mdf_rs_opinions_raw\u001B[0m\u001B[0;34m,\u001B[0m \u001B[0mrs_only\u001B[0m\u001B[0;34m,\u001B[0m \u001B[0mrsli_intersection\u001B[0m\u001B[0;34m,\u001B[0m \u001B[0mmap_rs\u001B[0m\u001B[0;34m,\u001B[0m \u001B[0mmap_li\u001B[0m\u001B[0;34m,\u001B[0m \u001B[0mdf_country_raw\u001B[0m\u001B[0;34m,\u001B[0m \u001B[0mdf_rs_cases\u001B[0m\u001B[0;34m,\u001B[0m \u001B[0mdf_rs_cases_raw\u001B[0m\u001B[0;34m,\u001B[0m \u001B[0mecli\u001B[0m\u001B[0;34m,\u001B[0m \u001B[0mi\u001B[0m\u001B[0;34m,\u001B[0m \u001B[0mli_case\u001B[0m\u001B[0;34m,\u001B[0m \u001B[0mli_only\u001B[0m\u001B[0;34m,\u001B[0m \u001B[0mmap_case_related_decisions\u001B[0m\u001B[0;34m,\u001B[0m \u001B[0mnew_ecli\u001B[0m\u001B[0;34m,\u001B[0m \u001B[0mcourts_list\u001B[0m\u001B[0;34m\u001B[0m\u001B[0;34m\u001B[0m\u001B[0m\n\u001B[0m\u001B[1;32m      2\u001B[0m \u001B[0;34m\u001B[0m\u001B[0m\n",
      "\u001B[0;31mNameError\u001B[0m: name 'df_rs_cases_raw' is not defined"
     ]
    }
   ],
   "source": [
    "del df_li_cases, df_li_cases_raw, df_rs_opinions_raw, rs_only, rsli_intersection, map_rs, map_li, df_country_raw, df_rs_cases, df_rs_cases_raw, ecli, i, li_case, li_only, map_case_related_decisions, new_ecli, courts_list"
   ],
   "metadata": {
    "collapsed": false,
    "pycharm": {
     "name": "#%%\n"
    }
   }
  },
  {
   "cell_type": "code",
   "execution_count": null,
   "outputs": [],
   "source": [
    "print('Number of Cases in\\nRS only cases: {}\\nLI only cases: {}\\nLI & RS cases: {}\\nCase opinion: {}\\nLegislation citation: {}\\nCase citation: {}\\nRelated decisions: {}'\\\n",
    "      .format(len(df_rs_only_cases), len(df_li_only_cases), len(df_rsli_intersection_cases), len(df_rs_opinions), len(df_rs_legislation_citations), len(df_rs_case_citations), len(df_rs_related_cases)))\n",
    "\n"
   ],
   "metadata": {
    "collapsed": false,
    "pycharm": {
     "name": "#%%\n"
    }
   }
  },
  {
   "cell_type": "markdown",
   "source": [
    "---\n",
    "## Data to DynamoDB"
   ],
   "metadata": {
    "collapsed": false
   }
  },
  {
   "cell_type": "code",
   "execution_count": 2,
   "outputs": [],
   "source": [
    "dynamodb = boto3.resource('dynamodb')  #, endpoint_url=\"http://localhost:8000\")  # remove 'endpoint_url' to use web service"
   ],
   "metadata": {
    "collapsed": false,
    "pycharm": {
     "name": "#%%\n"
    }
   }
  },
  {
   "cell_type": "markdown",
   "source": [
    "#### Table and key schema definition:"
   ],
   "metadata": {
    "collapsed": false
   }
  },
  {
   "cell_type": "code",
   "execution_count": 21,
   "outputs": [
    {
     "name": "stdout",
     "output_type": "stream",
     "text": [
      "Table status: CREATING\n"
     ]
    }
   ],
   "source": [
    "caselaw_table = dynamodb.create_table(\n",
    "    TableName='Caselaw',\n",
    "    KeySchema=[\n",
    "        {\n",
    "            'AttributeName': 'id',\n",
    "            'KeyType': 'HASH'  # Partition key\n",
    "        },\n",
    "        {\n",
    "            'AttributeName': 'doctype',\n",
    "            'KeyType': 'RANGE'  # Sort key\n",
    "        },\n",
    "    ],\n",
    "    AttributeDefinitions=[\n",
    "        {\n",
    "            'AttributeName': 'id',\n",
    "            'AttributeType': 'S'\n",
    "        },\n",
    "        {\n",
    "            'AttributeName': 'doctype',\n",
    "            'AttributeType': 'S'\n",
    "        },\n",
    "        {\n",
    "            \"AttributeName\": \"court\",\n",
    "            \"AttributeType\": \"S\"\n",
    "        },\n",
    "                {\n",
    "            \"AttributeName\": \"date\",\n",
    "            \"AttributeType\": \"S\"\n",
    "        },\n",
    "    ],\n",
    "    GlobalSecondaryIndexes=[\n",
    "        {\n",
    "            'IndexName': 'GSI-court',\n",
    "            'KeySchema': [\n",
    "                {\n",
    "                    'AttributeName': 'doctype',\n",
    "                    'KeyType': 'HASH'\n",
    "                },\n",
    "                                {\n",
    "                    'AttributeName': 'court',\n",
    "                    'KeyType': 'RANGE'\n",
    "                },\n",
    "            ],\n",
    "            'Projection': {\n",
    "                'ProjectionType': 'ALL',\n",
    "            },\n",
    "            'ProvisionedThroughput': {\n",
    "                'ReadCapacityUnits': 20,\n",
    "                'WriteCapacityUnits': 20\n",
    "            },\n",
    "        },\n",
    "                {\n",
    "            'IndexName': 'GSI-date',\n",
    "            'KeySchema': [\n",
    "                {\n",
    "                    'AttributeName': 'doctype',\n",
    "                    'KeyType': 'HASH'\n",
    "                },\n",
    "                                {\n",
    "                    'AttributeName': 'date',\n",
    "                    'KeyType': 'RANGE'\n",
    "                },\n",
    "            ],\n",
    "            'Projection': {\n",
    "                'ProjectionType': 'ALL',\n",
    "            },\n",
    "            'ProvisionedThroughput': {\n",
    "                'ReadCapacityUnits': 20,\n",
    "                'WriteCapacityUnits': 20\n",
    "            },\n",
    "        },\n",
    "    ],\n",
    "    ProvisionedThroughput={\n",
    "        'ReadCapacityUnits': 20,\n",
    "        'WriteCapacityUnits': 20\n",
    "    }\n",
    ")\n",
    "print(\"Table status:\", caselaw_table.table_status)\n"
   ],
   "metadata": {
    "collapsed": false,
    "pycharm": {
     "name": "#%%\n"
    }
   }
  },
  {
   "cell_type": "markdown",
   "source": [
    "#### Functions to load data into table:"
   ],
   "metadata": {
    "collapsed": false
   }
  },
  {
   "cell_type": "code",
   "execution_count": 3,
   "outputs": [],
   "source": [
    "caselaw_table = dynamodb.Table('Caselaw')\n",
    "\n",
    "def batch_load_data(table, data, output=False):\n",
    "    keys = [key['AttributeName'] for key in table.key_schema]\n",
    "    counter = 0\n",
    "    with table.batch_writer() as batch:\n",
    "        #for item in data:\n",
    "        for item in data.iterrows():\n",
    "            item = item[1].to_dict()\n",
    "            counter += 1\n",
    "            if output:\n",
    "                values = [item[key] for key in keys]\n",
    "                print(\"Adding item:\", dict(zip(keys, values)))\n",
    "            #batch.put_item(Item=item, ConditionExpression='attribute_not_exists(ecli)')\n",
    "            #batch.put_item(Item=item, ConditionExpression=Attr('ecli').not_exists())\n",
    "            batch.put_item(Item=item)\n",
    "    print(f'{counter} items added.')\n",
    "\n",
    "def read_csv(filename, items):\n",
    "    data = csv.DictReader(open(filename))\n",
    "    for item in data:\n",
    "        items.append(item)\n"
   ],
   "metadata": {
    "collapsed": false,
    "pycharm": {
     "name": "#%%\n"
    }
   }
  },
  {
   "cell_type": "code",
   "execution_count": 47,
   "outputs": [],
   "source": [
    "del df_country, df_court, df_li_only_cases, df_rs_opinions, df_rs_related_cases, df_rsli_intersection_cases"
   ],
   "metadata": {
    "collapsed": false,
    "pycharm": {
     "name": "#%%\n"
    }
   }
  },
  {
   "cell_type": "code",
   "execution_count": 51,
   "outputs": [
    {
     "name": "stdout",
     "output_type": "stream",
     "text": [
      "2631803 items added.\n"
     ]
    }
   ],
   "source": [
    "batch_load_data(caselaw_table, df_rs_only_cases)"
   ],
   "metadata": {
    "collapsed": false,
    "pycharm": {
     "name": "#%% RS ONLY CASES\n"
    }
   }
  },
  {
   "cell_type": "code",
   "execution_count": 52,
   "outputs": [
    {
     "name": "stdout",
     "output_type": "stream",
     "text": [
      "44 items added.\n"
     ]
    }
   ],
   "source": [
    "batch_load_data(caselaw_table, df_li_only_cases)"
   ],
   "metadata": {
    "collapsed": false,
    "pycharm": {
     "name": "#%% LI ONLY CASES (44)\n"
    }
   }
  },
  {
   "cell_type": "code",
   "execution_count": 49,
   "outputs": [
    {
     "name": "stdout",
     "output_type": "stream",
     "text": [
      "617 items added.\n"
     ]
    }
   ],
   "source": [
    "batch_load_data(caselaw_table, df_rsli_intersection_cases)"
   ],
   "metadata": {
    "collapsed": false,
    "pycharm": {
     "name": "#%% LI + RS CASES (617)\n"
    }
   }
  },
  {
   "cell_type": "code",
   "execution_count": 50,
   "outputs": [
    {
     "name": "stdout",
     "output_type": "stream",
     "text": [
      "65692 items added.\n"
     ]
    }
   ],
   "source": [
    "batch_load_data(caselaw_table, df_rs_opinions)"
   ],
   "metadata": {
    "collapsed": false,
    "pycharm": {
     "name": "#%% OPINIONS (65692)\n"
    }
   }
  },
  {
   "cell_type": "code",
   "execution_count": 15,
   "outputs": [
    {
     "ename": "KeyboardInterrupt",
     "evalue": "",
     "output_type": "error",
     "traceback": [
      "\u001B[0;31m---------------------------------------------------------------------------\u001B[0m",
      "\u001B[0;31mTypeError\u001B[0m                                 Traceback (most recent call last)",
      "\u001B[0;32m~/anaconda3/envs/case-law-explorer/lib/python3.7/site-packages/urllib3/connectionpool.py\u001B[0m in \u001B[0;36m_make_request\u001B[0;34m(self, conn, method, url, timeout, chunked, **httplib_request_kw)\u001B[0m\n\u001B[1;32m    376\u001B[0m             \u001B[0;32mtry\u001B[0m\u001B[0;34m:\u001B[0m  \u001B[0;31m# Python 2.7, use buffering of HTTP responses\u001B[0m\u001B[0;34m\u001B[0m\u001B[0;34m\u001B[0m\u001B[0m\n\u001B[0;32m--> 377\u001B[0;31m                 \u001B[0mhttplib_response\u001B[0m \u001B[0;34m=\u001B[0m \u001B[0mconn\u001B[0m\u001B[0;34m.\u001B[0m\u001B[0mgetresponse\u001B[0m\u001B[0;34m(\u001B[0m\u001B[0mbuffering\u001B[0m\u001B[0;34m=\u001B[0m\u001B[0;32mTrue\u001B[0m\u001B[0;34m)\u001B[0m\u001B[0;34m\u001B[0m\u001B[0;34m\u001B[0m\u001B[0m\n\u001B[0m\u001B[1;32m    378\u001B[0m             \u001B[0;32mexcept\u001B[0m \u001B[0mTypeError\u001B[0m\u001B[0;34m:\u001B[0m  \u001B[0;31m# Python 3\u001B[0m\u001B[0;34m\u001B[0m\u001B[0;34m\u001B[0m\u001B[0m\n",
      "\u001B[0;31mTypeError\u001B[0m: getresponse() got an unexpected keyword argument 'buffering'",
      "\nDuring handling of the above exception, another exception occurred:\n",
      "\u001B[0;31mKeyboardInterrupt\u001B[0m                         Traceback (most recent call last)",
      "\u001B[0;32m<ipython-input-15-4215b115a77c>\u001B[0m in \u001B[0;36m<module>\u001B[0;34m\u001B[0m\n\u001B[0;32m----> 1\u001B[0;31m \u001B[0mload_data\u001B[0m\u001B[0;34m(\u001B[0m\u001B[0mcaselaw_table\u001B[0m\u001B[0;34m,\u001B[0m \u001B[0mdf_rs_case_citations\u001B[0m\u001B[0;34m)\u001B[0m\u001B[0;34m\u001B[0m\u001B[0;34m\u001B[0m\u001B[0m\n\u001B[0m\u001B[1;32m      2\u001B[0m \u001B[0;34m\u001B[0m\u001B[0m\n",
      "\u001B[0;32m<ipython-input-11-5f7f51def3c3>\u001B[0m in \u001B[0;36mload_data\u001B[0;34m(table, data, output)\u001B[0m\n\u001B[1;32m     14\u001B[0m             \u001B[0;31m#batch.put_item(Item=item, ConditionExpression='attribute_not_exists(ecli)')\u001B[0m\u001B[0;34m\u001B[0m\u001B[0;34m\u001B[0m\u001B[0;34m\u001B[0m\u001B[0m\n\u001B[1;32m     15\u001B[0m             \u001B[0;31m#batch.put_item(Item=item, ConditionExpression=Attr('ecli').not_exists())\u001B[0m\u001B[0;34m\u001B[0m\u001B[0;34m\u001B[0m\u001B[0;34m\u001B[0m\u001B[0m\n\u001B[0;32m---> 16\u001B[0;31m             \u001B[0mbatch\u001B[0m\u001B[0;34m.\u001B[0m\u001B[0mput_item\u001B[0m\u001B[0;34m(\u001B[0m\u001B[0mItem\u001B[0m\u001B[0;34m=\u001B[0m\u001B[0mitem\u001B[0m\u001B[0;34m)\u001B[0m\u001B[0;34m\u001B[0m\u001B[0;34m\u001B[0m\u001B[0m\n\u001B[0m\u001B[1;32m     17\u001B[0m     \u001B[0mprint\u001B[0m\u001B[0;34m(\u001B[0m\u001B[0;34mf'{counter} items added.'\u001B[0m\u001B[0;34m)\u001B[0m\u001B[0;34m\u001B[0m\u001B[0;34m\u001B[0m\u001B[0m\n\u001B[1;32m     18\u001B[0m \u001B[0;34m\u001B[0m\u001B[0m\n",
      "\u001B[0;32m~/anaconda3/envs/case-law-explorer/lib/python3.7/site-packages/boto3/dynamodb/table.py\u001B[0m in \u001B[0;36mput_item\u001B[0;34m(self, Item)\u001B[0m\n\u001B[1;32m     99\u001B[0m \u001B[0;34m\u001B[0m\u001B[0m\n\u001B[1;32m    100\u001B[0m     \u001B[0;32mdef\u001B[0m \u001B[0mput_item\u001B[0m\u001B[0;34m(\u001B[0m\u001B[0mself\u001B[0m\u001B[0;34m,\u001B[0m \u001B[0mItem\u001B[0m\u001B[0;34m)\u001B[0m\u001B[0;34m:\u001B[0m\u001B[0;34m\u001B[0m\u001B[0;34m\u001B[0m\u001B[0m\n\u001B[0;32m--> 101\u001B[0;31m         \u001B[0mself\u001B[0m\u001B[0;34m.\u001B[0m\u001B[0m_add_request_and_process\u001B[0m\u001B[0;34m(\u001B[0m\u001B[0;34m{\u001B[0m\u001B[0;34m'PutRequest'\u001B[0m\u001B[0;34m:\u001B[0m \u001B[0;34m{\u001B[0m\u001B[0;34m'Item'\u001B[0m\u001B[0;34m:\u001B[0m \u001B[0mItem\u001B[0m\u001B[0;34m}\u001B[0m\u001B[0;34m}\u001B[0m\u001B[0;34m)\u001B[0m\u001B[0;34m\u001B[0m\u001B[0;34m\u001B[0m\u001B[0m\n\u001B[0m\u001B[1;32m    102\u001B[0m \u001B[0;34m\u001B[0m\u001B[0m\n\u001B[1;32m    103\u001B[0m     \u001B[0;32mdef\u001B[0m \u001B[0mdelete_item\u001B[0m\u001B[0;34m(\u001B[0m\u001B[0mself\u001B[0m\u001B[0;34m,\u001B[0m \u001B[0mKey\u001B[0m\u001B[0;34m)\u001B[0m\u001B[0;34m:\u001B[0m\u001B[0;34m\u001B[0m\u001B[0;34m\u001B[0m\u001B[0m\n",
      "\u001B[0;32m~/anaconda3/envs/case-law-explorer/lib/python3.7/site-packages/boto3/dynamodb/table.py\u001B[0m in \u001B[0;36m_add_request_and_process\u001B[0;34m(self, request)\u001B[0m\n\u001B[1;32m    108\u001B[0m             \u001B[0mself\u001B[0m\u001B[0;34m.\u001B[0m\u001B[0m_remove_dup_pkeys_request_if_any\u001B[0m\u001B[0;34m(\u001B[0m\u001B[0mrequest\u001B[0m\u001B[0;34m)\u001B[0m\u001B[0;34m\u001B[0m\u001B[0;34m\u001B[0m\u001B[0m\n\u001B[1;32m    109\u001B[0m         \u001B[0mself\u001B[0m\u001B[0;34m.\u001B[0m\u001B[0m_items_buffer\u001B[0m\u001B[0;34m.\u001B[0m\u001B[0mappend\u001B[0m\u001B[0;34m(\u001B[0m\u001B[0mrequest\u001B[0m\u001B[0;34m)\u001B[0m\u001B[0;34m\u001B[0m\u001B[0;34m\u001B[0m\u001B[0m\n\u001B[0;32m--> 110\u001B[0;31m         \u001B[0mself\u001B[0m\u001B[0;34m.\u001B[0m\u001B[0m_flush_if_needed\u001B[0m\u001B[0;34m(\u001B[0m\u001B[0;34m)\u001B[0m\u001B[0;34m\u001B[0m\u001B[0;34m\u001B[0m\u001B[0m\n\u001B[0m\u001B[1;32m    111\u001B[0m \u001B[0;34m\u001B[0m\u001B[0m\n\u001B[1;32m    112\u001B[0m     \u001B[0;32mdef\u001B[0m \u001B[0m_remove_dup_pkeys_request_if_any\u001B[0m\u001B[0;34m(\u001B[0m\u001B[0mself\u001B[0m\u001B[0;34m,\u001B[0m \u001B[0mrequest\u001B[0m\u001B[0;34m)\u001B[0m\u001B[0;34m:\u001B[0m\u001B[0;34m\u001B[0m\u001B[0;34m\u001B[0m\u001B[0m\n",
      "\u001B[0;32m~/anaconda3/envs/case-law-explorer/lib/python3.7/site-packages/boto3/dynamodb/table.py\u001B[0m in \u001B[0;36m_flush_if_needed\u001B[0;34m(self)\u001B[0m\n\u001B[1;32m    129\u001B[0m     \u001B[0;32mdef\u001B[0m \u001B[0m_flush_if_needed\u001B[0m\u001B[0;34m(\u001B[0m\u001B[0mself\u001B[0m\u001B[0;34m)\u001B[0m\u001B[0;34m:\u001B[0m\u001B[0;34m\u001B[0m\u001B[0;34m\u001B[0m\u001B[0m\n\u001B[1;32m    130\u001B[0m         \u001B[0;32mif\u001B[0m \u001B[0mlen\u001B[0m\u001B[0;34m(\u001B[0m\u001B[0mself\u001B[0m\u001B[0;34m.\u001B[0m\u001B[0m_items_buffer\u001B[0m\u001B[0;34m)\u001B[0m \u001B[0;34m>=\u001B[0m \u001B[0mself\u001B[0m\u001B[0;34m.\u001B[0m\u001B[0m_flush_amount\u001B[0m\u001B[0;34m:\u001B[0m\u001B[0;34m\u001B[0m\u001B[0;34m\u001B[0m\u001B[0m\n\u001B[0;32m--> 131\u001B[0;31m             \u001B[0mself\u001B[0m\u001B[0;34m.\u001B[0m\u001B[0m_flush\u001B[0m\u001B[0;34m(\u001B[0m\u001B[0;34m)\u001B[0m\u001B[0;34m\u001B[0m\u001B[0;34m\u001B[0m\u001B[0m\n\u001B[0m\u001B[1;32m    132\u001B[0m \u001B[0;34m\u001B[0m\u001B[0m\n\u001B[1;32m    133\u001B[0m     \u001B[0;32mdef\u001B[0m \u001B[0m_flush\u001B[0m\u001B[0;34m(\u001B[0m\u001B[0mself\u001B[0m\u001B[0;34m)\u001B[0m\u001B[0;34m:\u001B[0m\u001B[0;34m\u001B[0m\u001B[0;34m\u001B[0m\u001B[0m\n",
      "\u001B[0;32m~/anaconda3/envs/case-law-explorer/lib/python3.7/site-packages/boto3/dynamodb/table.py\u001B[0m in \u001B[0;36m_flush\u001B[0;34m(self)\u001B[0m\n\u001B[1;32m    135\u001B[0m         \u001B[0mself\u001B[0m\u001B[0;34m.\u001B[0m\u001B[0m_items_buffer\u001B[0m \u001B[0;34m=\u001B[0m \u001B[0mself\u001B[0m\u001B[0;34m.\u001B[0m\u001B[0m_items_buffer\u001B[0m\u001B[0;34m[\u001B[0m\u001B[0mself\u001B[0m\u001B[0;34m.\u001B[0m\u001B[0m_flush_amount\u001B[0m\u001B[0;34m:\u001B[0m\u001B[0;34m]\u001B[0m\u001B[0;34m\u001B[0m\u001B[0;34m\u001B[0m\u001B[0m\n\u001B[1;32m    136\u001B[0m         response = self._client.batch_write_item(\n\u001B[0;32m--> 137\u001B[0;31m             RequestItems={self._table_name: items_to_send})\n\u001B[0m\u001B[1;32m    138\u001B[0m         \u001B[0munprocessed_items\u001B[0m \u001B[0;34m=\u001B[0m \u001B[0mresponse\u001B[0m\u001B[0;34m[\u001B[0m\u001B[0;34m'UnprocessedItems'\u001B[0m\u001B[0;34m]\u001B[0m\u001B[0;34m\u001B[0m\u001B[0;34m\u001B[0m\u001B[0m\n\u001B[1;32m    139\u001B[0m \u001B[0;34m\u001B[0m\u001B[0m\n",
      "\u001B[0;32m~/anaconda3/envs/case-law-explorer/lib/python3.7/site-packages/botocore/client.py\u001B[0m in \u001B[0;36m_api_call\u001B[0;34m(self, *args, **kwargs)\u001B[0m\n\u001B[1;32m    318\u001B[0m                     \"%s() only accepts keyword arguments.\" % py_operation_name)\n\u001B[1;32m    319\u001B[0m             \u001B[0;31m# The \"self\" in this scope is referring to the BaseClient.\u001B[0m\u001B[0;34m\u001B[0m\u001B[0;34m\u001B[0m\u001B[0;34m\u001B[0m\u001B[0m\n\u001B[0;32m--> 320\u001B[0;31m             \u001B[0;32mreturn\u001B[0m \u001B[0mself\u001B[0m\u001B[0;34m.\u001B[0m\u001B[0m_make_api_call\u001B[0m\u001B[0;34m(\u001B[0m\u001B[0moperation_name\u001B[0m\u001B[0;34m,\u001B[0m \u001B[0mkwargs\u001B[0m\u001B[0;34m)\u001B[0m\u001B[0;34m\u001B[0m\u001B[0;34m\u001B[0m\u001B[0m\n\u001B[0m\u001B[1;32m    321\u001B[0m \u001B[0;34m\u001B[0m\u001B[0m\n\u001B[1;32m    322\u001B[0m         \u001B[0m_api_call\u001B[0m\u001B[0;34m.\u001B[0m\u001B[0m__name__\u001B[0m \u001B[0;34m=\u001B[0m \u001B[0mstr\u001B[0m\u001B[0;34m(\u001B[0m\u001B[0mpy_operation_name\u001B[0m\u001B[0;34m)\u001B[0m\u001B[0;34m\u001B[0m\u001B[0;34m\u001B[0m\u001B[0m\n",
      "\u001B[0;32m~/anaconda3/envs/case-law-explorer/lib/python3.7/site-packages/botocore/client.py\u001B[0m in \u001B[0;36m_make_api_call\u001B[0;34m(self, operation_name, api_params)\u001B[0m\n\u001B[1;32m    609\u001B[0m         \u001B[0;32melse\u001B[0m\u001B[0;34m:\u001B[0m\u001B[0;34m\u001B[0m\u001B[0;34m\u001B[0m\u001B[0m\n\u001B[1;32m    610\u001B[0m             http, parsed_response = self._endpoint.make_request(\n\u001B[0;32m--> 611\u001B[0;31m                 operation_model, request_dict)\n\u001B[0m\u001B[1;32m    612\u001B[0m \u001B[0;34m\u001B[0m\u001B[0m\n\u001B[1;32m    613\u001B[0m         self.meta.events.emit(\n",
      "\u001B[0;32m~/anaconda3/envs/case-law-explorer/lib/python3.7/site-packages/botocore/endpoint.py\u001B[0m in \u001B[0;36mmake_request\u001B[0;34m(self, operation_model, request_dict)\u001B[0m\n\u001B[1;32m    100\u001B[0m         logger.debug(\"Making request for %s with params: %s\",\n\u001B[1;32m    101\u001B[0m                      operation_model, request_dict)\n\u001B[0;32m--> 102\u001B[0;31m         \u001B[0;32mreturn\u001B[0m \u001B[0mself\u001B[0m\u001B[0;34m.\u001B[0m\u001B[0m_send_request\u001B[0m\u001B[0;34m(\u001B[0m\u001B[0mrequest_dict\u001B[0m\u001B[0;34m,\u001B[0m \u001B[0moperation_model\u001B[0m\u001B[0;34m)\u001B[0m\u001B[0;34m\u001B[0m\u001B[0;34m\u001B[0m\u001B[0m\n\u001B[0m\u001B[1;32m    103\u001B[0m \u001B[0;34m\u001B[0m\u001B[0m\n\u001B[1;32m    104\u001B[0m     \u001B[0;32mdef\u001B[0m \u001B[0mcreate_request\u001B[0m\u001B[0;34m(\u001B[0m\u001B[0mself\u001B[0m\u001B[0;34m,\u001B[0m \u001B[0mparams\u001B[0m\u001B[0;34m,\u001B[0m \u001B[0moperation_model\u001B[0m\u001B[0;34m=\u001B[0m\u001B[0;32mNone\u001B[0m\u001B[0;34m)\u001B[0m\u001B[0;34m:\u001B[0m\u001B[0;34m\u001B[0m\u001B[0;34m\u001B[0m\u001B[0m\n",
      "\u001B[0;32m~/anaconda3/envs/case-law-explorer/lib/python3.7/site-packages/botocore/endpoint.py\u001B[0m in \u001B[0;36m_send_request\u001B[0;34m(self, request_dict, operation_model)\u001B[0m\n\u001B[1;32m    132\u001B[0m         \u001B[0mrequest\u001B[0m \u001B[0;34m=\u001B[0m \u001B[0mself\u001B[0m\u001B[0;34m.\u001B[0m\u001B[0mcreate_request\u001B[0m\u001B[0;34m(\u001B[0m\u001B[0mrequest_dict\u001B[0m\u001B[0;34m,\u001B[0m \u001B[0moperation_model\u001B[0m\u001B[0;34m)\u001B[0m\u001B[0;34m\u001B[0m\u001B[0;34m\u001B[0m\u001B[0m\n\u001B[1;32m    133\u001B[0m         success_response, exception = self._get_response(\n\u001B[0;32m--> 134\u001B[0;31m             request, operation_model, attempts)\n\u001B[0m\u001B[1;32m    135\u001B[0m         while self._needs_retry(attempts, operation_model, request_dict,\n\u001B[1;32m    136\u001B[0m                                 success_response, exception):\n",
      "\u001B[0;32m~/anaconda3/envs/case-law-explorer/lib/python3.7/site-packages/botocore/endpoint.py\u001B[0m in \u001B[0;36m_get_response\u001B[0;34m(self, request, operation_model, attempts)\u001B[0m\n\u001B[1;32m    177\u001B[0m             \u001B[0mhttp_response\u001B[0m \u001B[0;34m=\u001B[0m \u001B[0mfirst_non_none_response\u001B[0m\u001B[0;34m(\u001B[0m\u001B[0mresponses\u001B[0m\u001B[0;34m)\u001B[0m\u001B[0;34m\u001B[0m\u001B[0;34m\u001B[0m\u001B[0m\n\u001B[1;32m    178\u001B[0m             \u001B[0;32mif\u001B[0m \u001B[0mhttp_response\u001B[0m \u001B[0;32mis\u001B[0m \u001B[0;32mNone\u001B[0m\u001B[0;34m:\u001B[0m\u001B[0;34m\u001B[0m\u001B[0;34m\u001B[0m\u001B[0m\n\u001B[0;32m--> 179\u001B[0;31m                 \u001B[0mhttp_response\u001B[0m \u001B[0;34m=\u001B[0m \u001B[0mself\u001B[0m\u001B[0;34m.\u001B[0m\u001B[0m_send\u001B[0m\u001B[0;34m(\u001B[0m\u001B[0mrequest\u001B[0m\u001B[0;34m)\u001B[0m\u001B[0;34m\u001B[0m\u001B[0;34m\u001B[0m\u001B[0m\n\u001B[0m\u001B[1;32m    180\u001B[0m         \u001B[0;32mexcept\u001B[0m \u001B[0mHTTPClientError\u001B[0m \u001B[0;32mas\u001B[0m \u001B[0me\u001B[0m\u001B[0;34m:\u001B[0m\u001B[0;34m\u001B[0m\u001B[0;34m\u001B[0m\u001B[0m\n\u001B[1;32m    181\u001B[0m             \u001B[0;32mreturn\u001B[0m \u001B[0;34m(\u001B[0m\u001B[0;32mNone\u001B[0m\u001B[0;34m,\u001B[0m \u001B[0me\u001B[0m\u001B[0;34m)\u001B[0m\u001B[0;34m\u001B[0m\u001B[0;34m\u001B[0m\u001B[0m\n",
      "\u001B[0;32m~/anaconda3/envs/case-law-explorer/lib/python3.7/site-packages/botocore/endpoint.py\u001B[0m in \u001B[0;36m_send\u001B[0;34m(self, request)\u001B[0m\n\u001B[1;32m    221\u001B[0m \u001B[0;34m\u001B[0m\u001B[0m\n\u001B[1;32m    222\u001B[0m     \u001B[0;32mdef\u001B[0m \u001B[0m_send\u001B[0m\u001B[0;34m(\u001B[0m\u001B[0mself\u001B[0m\u001B[0;34m,\u001B[0m \u001B[0mrequest\u001B[0m\u001B[0;34m)\u001B[0m\u001B[0;34m:\u001B[0m\u001B[0;34m\u001B[0m\u001B[0;34m\u001B[0m\u001B[0m\n\u001B[0;32m--> 223\u001B[0;31m         \u001B[0;32mreturn\u001B[0m \u001B[0mself\u001B[0m\u001B[0;34m.\u001B[0m\u001B[0mhttp_session\u001B[0m\u001B[0;34m.\u001B[0m\u001B[0msend\u001B[0m\u001B[0;34m(\u001B[0m\u001B[0mrequest\u001B[0m\u001B[0;34m)\u001B[0m\u001B[0;34m\u001B[0m\u001B[0;34m\u001B[0m\u001B[0m\n\u001B[0m\u001B[1;32m    224\u001B[0m \u001B[0;34m\u001B[0m\u001B[0m\n\u001B[1;32m    225\u001B[0m \u001B[0;34m\u001B[0m\u001B[0m\n",
      "\u001B[0;32m~/anaconda3/envs/case-law-explorer/lib/python3.7/site-packages/botocore/httpsession.py\u001B[0m in \u001B[0;36msend\u001B[0;34m(self, request)\u001B[0m\n\u001B[1;32m    256\u001B[0m                 \u001B[0massert_same_host\u001B[0m\u001B[0;34m=\u001B[0m\u001B[0;32mFalse\u001B[0m\u001B[0;34m,\u001B[0m\u001B[0;34m\u001B[0m\u001B[0;34m\u001B[0m\u001B[0m\n\u001B[1;32m    257\u001B[0m                 \u001B[0mpreload_content\u001B[0m\u001B[0;34m=\u001B[0m\u001B[0;32mFalse\u001B[0m\u001B[0;34m,\u001B[0m\u001B[0;34m\u001B[0m\u001B[0;34m\u001B[0m\u001B[0m\n\u001B[0;32m--> 258\u001B[0;31m                 \u001B[0mdecode_content\u001B[0m\u001B[0;34m=\u001B[0m\u001B[0;32mFalse\u001B[0m\u001B[0;34m,\u001B[0m\u001B[0;34m\u001B[0m\u001B[0;34m\u001B[0m\u001B[0m\n\u001B[0m\u001B[1;32m    259\u001B[0m             )\n\u001B[1;32m    260\u001B[0m \u001B[0;34m\u001B[0m\u001B[0m\n",
      "\u001B[0;32m~/anaconda3/envs/case-law-explorer/lib/python3.7/site-packages/urllib3/connectionpool.py\u001B[0m in \u001B[0;36murlopen\u001B[0;34m(self, method, url, body, headers, retries, redirect, assert_same_host, timeout, pool_timeout, release_conn, chunked, body_pos, **response_kw)\u001B[0m\n\u001B[1;32m    598\u001B[0m                                                   \u001B[0mtimeout\u001B[0m\u001B[0;34m=\u001B[0m\u001B[0mtimeout_obj\u001B[0m\u001B[0;34m,\u001B[0m\u001B[0;34m\u001B[0m\u001B[0;34m\u001B[0m\u001B[0m\n\u001B[1;32m    599\u001B[0m                                                   \u001B[0mbody\u001B[0m\u001B[0;34m=\u001B[0m\u001B[0mbody\u001B[0m\u001B[0;34m,\u001B[0m \u001B[0mheaders\u001B[0m\u001B[0;34m=\u001B[0m\u001B[0mheaders\u001B[0m\u001B[0;34m,\u001B[0m\u001B[0;34m\u001B[0m\u001B[0;34m\u001B[0m\u001B[0m\n\u001B[0;32m--> 600\u001B[0;31m                                                   chunked=chunked)\n\u001B[0m\u001B[1;32m    601\u001B[0m \u001B[0;34m\u001B[0m\u001B[0m\n\u001B[1;32m    602\u001B[0m             \u001B[0;31m# If we're going to release the connection in ``finally:``, then\u001B[0m\u001B[0;34m\u001B[0m\u001B[0;34m\u001B[0m\u001B[0;34m\u001B[0m\u001B[0m\n",
      "\u001B[0;32m~/anaconda3/envs/case-law-explorer/lib/python3.7/site-packages/urllib3/connectionpool.py\u001B[0m in \u001B[0;36m_make_request\u001B[0;34m(self, conn, method, url, timeout, chunked, **httplib_request_kw)\u001B[0m\n\u001B[1;32m    378\u001B[0m             \u001B[0;32mexcept\u001B[0m \u001B[0mTypeError\u001B[0m\u001B[0;34m:\u001B[0m  \u001B[0;31m# Python 3\u001B[0m\u001B[0;34m\u001B[0m\u001B[0;34m\u001B[0m\u001B[0m\n\u001B[1;32m    379\u001B[0m                 \u001B[0;32mtry\u001B[0m\u001B[0;34m:\u001B[0m\u001B[0;34m\u001B[0m\u001B[0;34m\u001B[0m\u001B[0m\n\u001B[0;32m--> 380\u001B[0;31m                     \u001B[0mhttplib_response\u001B[0m \u001B[0;34m=\u001B[0m \u001B[0mconn\u001B[0m\u001B[0;34m.\u001B[0m\u001B[0mgetresponse\u001B[0m\u001B[0;34m(\u001B[0m\u001B[0;34m)\u001B[0m\u001B[0;34m\u001B[0m\u001B[0;34m\u001B[0m\u001B[0m\n\u001B[0m\u001B[1;32m    381\u001B[0m                 \u001B[0;32mexcept\u001B[0m \u001B[0mException\u001B[0m \u001B[0;32mas\u001B[0m \u001B[0me\u001B[0m\u001B[0;34m:\u001B[0m\u001B[0;34m\u001B[0m\u001B[0;34m\u001B[0m\u001B[0m\n\u001B[1;32m    382\u001B[0m                     \u001B[0;31m# Remove the TypeError from the exception chain in Python 3;\u001B[0m\u001B[0;34m\u001B[0m\u001B[0;34m\u001B[0m\u001B[0;34m\u001B[0m\u001B[0m\n",
      "\u001B[0;32m~/anaconda3/envs/case-law-explorer/lib/python3.7/http/client.py\u001B[0m in \u001B[0;36mgetresponse\u001B[0;34m(self)\u001B[0m\n\u001B[1;32m   1367\u001B[0m         \u001B[0;32mtry\u001B[0m\u001B[0;34m:\u001B[0m\u001B[0;34m\u001B[0m\u001B[0;34m\u001B[0m\u001B[0m\n\u001B[1;32m   1368\u001B[0m             \u001B[0;32mtry\u001B[0m\u001B[0;34m:\u001B[0m\u001B[0;34m\u001B[0m\u001B[0;34m\u001B[0m\u001B[0m\n\u001B[0;32m-> 1369\u001B[0;31m                 \u001B[0mresponse\u001B[0m\u001B[0;34m.\u001B[0m\u001B[0mbegin\u001B[0m\u001B[0;34m(\u001B[0m\u001B[0;34m)\u001B[0m\u001B[0;34m\u001B[0m\u001B[0;34m\u001B[0m\u001B[0m\n\u001B[0m\u001B[1;32m   1370\u001B[0m             \u001B[0;32mexcept\u001B[0m \u001B[0mConnectionError\u001B[0m\u001B[0;34m:\u001B[0m\u001B[0;34m\u001B[0m\u001B[0;34m\u001B[0m\u001B[0m\n\u001B[1;32m   1371\u001B[0m                 \u001B[0mself\u001B[0m\u001B[0;34m.\u001B[0m\u001B[0mclose\u001B[0m\u001B[0;34m(\u001B[0m\u001B[0;34m)\u001B[0m\u001B[0;34m\u001B[0m\u001B[0;34m\u001B[0m\u001B[0m\n",
      "\u001B[0;32m~/anaconda3/envs/case-law-explorer/lib/python3.7/http/client.py\u001B[0m in \u001B[0;36mbegin\u001B[0;34m(self)\u001B[0m\n\u001B[1;32m    308\u001B[0m         \u001B[0;31m# read until we get a non-100 response\u001B[0m\u001B[0;34m\u001B[0m\u001B[0;34m\u001B[0m\u001B[0;34m\u001B[0m\u001B[0m\n\u001B[1;32m    309\u001B[0m         \u001B[0;32mwhile\u001B[0m \u001B[0;32mTrue\u001B[0m\u001B[0;34m:\u001B[0m\u001B[0;34m\u001B[0m\u001B[0;34m\u001B[0m\u001B[0m\n\u001B[0;32m--> 310\u001B[0;31m             \u001B[0mversion\u001B[0m\u001B[0;34m,\u001B[0m \u001B[0mstatus\u001B[0m\u001B[0;34m,\u001B[0m \u001B[0mreason\u001B[0m \u001B[0;34m=\u001B[0m \u001B[0mself\u001B[0m\u001B[0;34m.\u001B[0m\u001B[0m_read_status\u001B[0m\u001B[0;34m(\u001B[0m\u001B[0;34m)\u001B[0m\u001B[0;34m\u001B[0m\u001B[0;34m\u001B[0m\u001B[0m\n\u001B[0m\u001B[1;32m    311\u001B[0m             \u001B[0;32mif\u001B[0m \u001B[0mstatus\u001B[0m \u001B[0;34m!=\u001B[0m \u001B[0mCONTINUE\u001B[0m\u001B[0;34m:\u001B[0m\u001B[0;34m\u001B[0m\u001B[0;34m\u001B[0m\u001B[0m\n\u001B[1;32m    312\u001B[0m                 \u001B[0;32mbreak\u001B[0m\u001B[0;34m\u001B[0m\u001B[0;34m\u001B[0m\u001B[0m\n",
      "\u001B[0;32m~/anaconda3/envs/case-law-explorer/lib/python3.7/http/client.py\u001B[0m in \u001B[0;36m_read_status\u001B[0;34m(self)\u001B[0m\n\u001B[1;32m    269\u001B[0m \u001B[0;34m\u001B[0m\u001B[0m\n\u001B[1;32m    270\u001B[0m     \u001B[0;32mdef\u001B[0m \u001B[0m_read_status\u001B[0m\u001B[0;34m(\u001B[0m\u001B[0mself\u001B[0m\u001B[0;34m)\u001B[0m\u001B[0;34m:\u001B[0m\u001B[0;34m\u001B[0m\u001B[0;34m\u001B[0m\u001B[0m\n\u001B[0;32m--> 271\u001B[0;31m         \u001B[0mline\u001B[0m \u001B[0;34m=\u001B[0m \u001B[0mstr\u001B[0m\u001B[0;34m(\u001B[0m\u001B[0mself\u001B[0m\u001B[0;34m.\u001B[0m\u001B[0mfp\u001B[0m\u001B[0;34m.\u001B[0m\u001B[0mreadline\u001B[0m\u001B[0;34m(\u001B[0m\u001B[0m_MAXLINE\u001B[0m \u001B[0;34m+\u001B[0m \u001B[0;36m1\u001B[0m\u001B[0;34m)\u001B[0m\u001B[0;34m,\u001B[0m \u001B[0;34m\"iso-8859-1\"\u001B[0m\u001B[0;34m)\u001B[0m\u001B[0;34m\u001B[0m\u001B[0;34m\u001B[0m\u001B[0m\n\u001B[0m\u001B[1;32m    272\u001B[0m         \u001B[0;32mif\u001B[0m \u001B[0mlen\u001B[0m\u001B[0;34m(\u001B[0m\u001B[0mline\u001B[0m\u001B[0;34m)\u001B[0m \u001B[0;34m>\u001B[0m \u001B[0m_MAXLINE\u001B[0m\u001B[0;34m:\u001B[0m\u001B[0;34m\u001B[0m\u001B[0;34m\u001B[0m\u001B[0m\n\u001B[1;32m    273\u001B[0m             \u001B[0;32mraise\u001B[0m \u001B[0mLineTooLong\u001B[0m\u001B[0;34m(\u001B[0m\u001B[0;34m\"status line\"\u001B[0m\u001B[0;34m)\u001B[0m\u001B[0;34m\u001B[0m\u001B[0;34m\u001B[0m\u001B[0m\n",
      "\u001B[0;32m~/anaconda3/envs/case-law-explorer/lib/python3.7/socket.py\u001B[0m in \u001B[0;36mreadinto\u001B[0;34m(self, b)\u001B[0m\n\u001B[1;32m    587\u001B[0m         \u001B[0;32mwhile\u001B[0m \u001B[0;32mTrue\u001B[0m\u001B[0;34m:\u001B[0m\u001B[0;34m\u001B[0m\u001B[0;34m\u001B[0m\u001B[0m\n\u001B[1;32m    588\u001B[0m             \u001B[0;32mtry\u001B[0m\u001B[0;34m:\u001B[0m\u001B[0;34m\u001B[0m\u001B[0;34m\u001B[0m\u001B[0m\n\u001B[0;32m--> 589\u001B[0;31m                 \u001B[0;32mreturn\u001B[0m \u001B[0mself\u001B[0m\u001B[0;34m.\u001B[0m\u001B[0m_sock\u001B[0m\u001B[0;34m.\u001B[0m\u001B[0mrecv_into\u001B[0m\u001B[0;34m(\u001B[0m\u001B[0mb\u001B[0m\u001B[0;34m)\u001B[0m\u001B[0;34m\u001B[0m\u001B[0;34m\u001B[0m\u001B[0m\n\u001B[0m\u001B[1;32m    590\u001B[0m             \u001B[0;32mexcept\u001B[0m \u001B[0mtimeout\u001B[0m\u001B[0;34m:\u001B[0m\u001B[0;34m\u001B[0m\u001B[0;34m\u001B[0m\u001B[0m\n\u001B[1;32m    591\u001B[0m                 \u001B[0mself\u001B[0m\u001B[0;34m.\u001B[0m\u001B[0m_timeout_occurred\u001B[0m \u001B[0;34m=\u001B[0m \u001B[0;32mTrue\u001B[0m\u001B[0;34m\u001B[0m\u001B[0;34m\u001B[0m\u001B[0m\n",
      "\u001B[0;32m~/anaconda3/envs/case-law-explorer/lib/python3.7/ssl.py\u001B[0m in \u001B[0;36mrecv_into\u001B[0;34m(self, buffer, nbytes, flags)\u001B[0m\n\u001B[1;32m   1069\u001B[0m                   \u001B[0;34m\"non-zero flags not allowed in calls to recv_into() on %s\"\u001B[0m \u001B[0;34m%\u001B[0m\u001B[0;34m\u001B[0m\u001B[0;34m\u001B[0m\u001B[0m\n\u001B[1;32m   1070\u001B[0m                   self.__class__)\n\u001B[0;32m-> 1071\u001B[0;31m             \u001B[0;32mreturn\u001B[0m \u001B[0mself\u001B[0m\u001B[0;34m.\u001B[0m\u001B[0mread\u001B[0m\u001B[0;34m(\u001B[0m\u001B[0mnbytes\u001B[0m\u001B[0;34m,\u001B[0m \u001B[0mbuffer\u001B[0m\u001B[0;34m)\u001B[0m\u001B[0;34m\u001B[0m\u001B[0;34m\u001B[0m\u001B[0m\n\u001B[0m\u001B[1;32m   1072\u001B[0m         \u001B[0;32melse\u001B[0m\u001B[0;34m:\u001B[0m\u001B[0;34m\u001B[0m\u001B[0;34m\u001B[0m\u001B[0m\n\u001B[1;32m   1073\u001B[0m             \u001B[0;32mreturn\u001B[0m \u001B[0msuper\u001B[0m\u001B[0;34m(\u001B[0m\u001B[0;34m)\u001B[0m\u001B[0;34m.\u001B[0m\u001B[0mrecv_into\u001B[0m\u001B[0;34m(\u001B[0m\u001B[0mbuffer\u001B[0m\u001B[0;34m,\u001B[0m \u001B[0mnbytes\u001B[0m\u001B[0;34m,\u001B[0m \u001B[0mflags\u001B[0m\u001B[0;34m)\u001B[0m\u001B[0;34m\u001B[0m\u001B[0;34m\u001B[0m\u001B[0m\n",
      "\u001B[0;32m~/anaconda3/envs/case-law-explorer/lib/python3.7/ssl.py\u001B[0m in \u001B[0;36mread\u001B[0;34m(self, len, buffer)\u001B[0m\n\u001B[1;32m    927\u001B[0m         \u001B[0;32mtry\u001B[0m\u001B[0;34m:\u001B[0m\u001B[0;34m\u001B[0m\u001B[0;34m\u001B[0m\u001B[0m\n\u001B[1;32m    928\u001B[0m             \u001B[0;32mif\u001B[0m \u001B[0mbuffer\u001B[0m \u001B[0;32mis\u001B[0m \u001B[0;32mnot\u001B[0m \u001B[0;32mNone\u001B[0m\u001B[0;34m:\u001B[0m\u001B[0;34m\u001B[0m\u001B[0;34m\u001B[0m\u001B[0m\n\u001B[0;32m--> 929\u001B[0;31m                 \u001B[0;32mreturn\u001B[0m \u001B[0mself\u001B[0m\u001B[0;34m.\u001B[0m\u001B[0m_sslobj\u001B[0m\u001B[0;34m.\u001B[0m\u001B[0mread\u001B[0m\u001B[0;34m(\u001B[0m\u001B[0mlen\u001B[0m\u001B[0;34m,\u001B[0m \u001B[0mbuffer\u001B[0m\u001B[0;34m)\u001B[0m\u001B[0;34m\u001B[0m\u001B[0;34m\u001B[0m\u001B[0m\n\u001B[0m\u001B[1;32m    930\u001B[0m             \u001B[0;32melse\u001B[0m\u001B[0;34m:\u001B[0m\u001B[0;34m\u001B[0m\u001B[0;34m\u001B[0m\u001B[0m\n\u001B[1;32m    931\u001B[0m                 \u001B[0;32mreturn\u001B[0m \u001B[0mself\u001B[0m\u001B[0;34m.\u001B[0m\u001B[0m_sslobj\u001B[0m\u001B[0;34m.\u001B[0m\u001B[0mread\u001B[0m\u001B[0;34m(\u001B[0m\u001B[0mlen\u001B[0m\u001B[0;34m)\u001B[0m\u001B[0;34m\u001B[0m\u001B[0;34m\u001B[0m\u001B[0m\n",
      "\u001B[0;31mKeyboardInterrupt\u001B[0m: "
     ]
    }
   ],
   "source": [
    "batch_load_data(caselaw_table, df_rs_case_citations)"
   ],
   "metadata": {
    "collapsed": false,
    "pycharm": {
     "name": "#%% CASE CITATIONS\n"
    }
   }
  },
  {
   "cell_type": "code",
   "execution_count": 16,
   "outputs": [
    {
     "name": "stdout",
     "output_type": "stream",
     "text": [
      "18947 items added.\n"
     ]
    }
   ],
   "source": [
    "batch_load_data(caselaw_table, df_rs_legislation_citations)"
   ],
   "metadata": {
    "collapsed": false,
    "pycharm": {
     "name": "#%% LEGISLATION CITATIONS (18947)\n"
    }
   }
  },
  {
   "cell_type": "code",
   "execution_count": 10,
   "outputs": [
    {
     "name": "stdout",
     "output_type": "stream",
     "text": [
      "137134 items added.\n"
     ]
    }
   ],
   "source": [
    "batch_load_data(caselaw_table, df_rs_related_cases)"
   ],
   "metadata": {
    "collapsed": false,
    "pycharm": {
     "name": "#%% RELATED DECISIONS (137134)\n"
    }
   }
  },
  {
   "cell_type": "code",
   "execution_count": 24,
   "outputs": [
    {
     "name": "stdout",
     "output_type": "stream",
     "text": [
      "1231 items added.\n"
     ]
    }
   ],
   "source": [
    "batch_load_data(caselaw_table, df_court)"
   ],
   "metadata": {
    "collapsed": false,
    "pycharm": {
     "name": "#%% COURTS (1231)\n"
    }
   }
  },
  {
   "cell_type": "code",
   "execution_count": 23,
   "outputs": [
    {
     "name": "stdout",
     "output_type": "stream",
     "text": [
      "36 items added.\n"
     ]
    }
   ],
   "source": [
    "batch_load_data(caselaw_table, df_country)"
   ],
   "metadata": {
    "collapsed": false,
    "pycharm": {
     "name": "#%% COUNTRIES (36)\n"
    }
   }
  },
  {
   "cell_type": "markdown",
   "source": [
    "#### Example queries:\n",
    "\n",
    "Uitspraak by ecli:"
   ],
   "metadata": {
    "collapsed": false
   }
  },
  {
   "cell_type": "code",
   "execution_count": 4,
   "outputs": [
    {
     "name": "stdout",
     "output_type": "stream",
     "text": [
      "{'Item': {'abstract': None,\n",
      "          'case_number': 'AWB- 05_6230',\n",
      "          'country': 'NL',\n",
      "          'court': 'Rechtbank Haarlem',\n",
      "          'date': '2006-10-30T00:00:00',\n",
      "          'description': '',\n",
      "          'doctype': 'uitspraak',\n",
      "          'id': 'ECLI:NL:RBHAA:2006:1006',\n",
      "          'language': 'NL',\n",
      "          'link': '',\n",
      "          'lodge_date': '1900-01-01T00:00:00',\n",
      "          'name': None,\n",
      "          'procedure_type': None,\n",
      "          'subject': {'Belastingrecht', 'Bestuursrecht'},\n",
      "          'venue': 'Haarlem'},\n",
      " 'ResponseMetadata': {'HTTPHeaders': {'connection': 'keep-alive',\n",
      "                                      'content-length': '455',\n",
      "                                      'content-type': 'application/x-amz-json-1.0',\n",
      "                                      'date': 'Wed, 27 Jan 2021 14:29:32 GMT',\n",
      "                                      'server': 'Server',\n",
      "                                      'x-amz-crc32': '3335037513',\n",
      "                                      'x-amzn-requestid': 'D323MST8BDK1NTP450IN1I2B2BVV4KQNSO5AEMVJF66Q9ASUAAJG'},\n",
      "                      'HTTPStatusCode': 200,\n",
      "                      'RequestId': 'D323MST8BDK1NTP450IN1I2B2BVV4KQNSO5AEMVJF66Q9ASUAAJG',\n",
      "                      'RetryAttempts': 0}}\n"
     ]
    }
   ],
   "source": [
    "pprint(caselaw_table.get_item(Key={'id': 'ECLI:NL:RBHAA:2006:1006',\n",
    "                                   'doctype': 'uitspraak'}))"
   ],
   "metadata": {
    "collapsed": false,
    "pycharm": {
     "name": "#%%\n"
    }
   }
  },
  {
   "cell_type": "markdown",
   "source": [
    "Opinion by ecli:"
   ],
   "metadata": {
    "collapsed": false,
    "pycharm": {
     "name": "#%% md\n"
    }
   }
  },
  {
   "cell_type": "code",
   "execution_count": 8,
   "outputs": [
    {
     "name": "stdout",
     "output_type": "stream",
     "text": [
      "{'Count': 1,\n",
      " 'Items': [{'id': 'ECLI:NL:RBHAA:2006:1006',\n",
      "            'subject': {'Bestuursrecht', 'Belastingrecht'}}],\n",
      " 'ResponseMetadata': {'HTTPHeaders': {'connection': 'keep-alive',\n",
      "                                      'content-length': '129',\n",
      "                                      'content-type': 'application/x-amz-json-1.0',\n",
      "                                      'date': 'Thu, 24 Dec 2020 11:54:19 GMT',\n",
      "                                      'server': 'Server',\n",
      "                                      'x-amz-crc32': '2305071713',\n",
      "                                      'x-amzn-requestid': 'K13IJO7A3UP30NV5KJVIGG5BA3VV4KQNSO5AEMVJF66Q9ASUAAJG'},\n",
      "                      'HTTPStatusCode': 200,\n",
      "                      'RequestId': 'K13IJO7A3UP30NV5KJVIGG5BA3VV4KQNSO5AEMVJF66Q9ASUAAJG',\n",
      "                      'RetryAttempts': 0},\n",
      " 'ScannedCount': 1}\n"
     ]
    }
   ],
   "source": [
    "pprint(caselaw_table.query(\n",
    "    ProjectionExpression=\"id, subject\",\n",
    "    KeyConditionExpression=Key('id').eq('ECLI:NL:RBHAA:2006:1006') &\n",
    "                           Key('doctype').eq('uitspraak'))  # [lc, cc, d]\n",
    ")\n"
   ],
   "metadata": {
    "collapsed": false,
    "pycharm": {
     "name": "#%%\n"
    }
   }
  },
  {
   "cell_type": "markdown",
   "source": [
    "Case citations by ecli:"
   ],
   "metadata": {
    "collapsed": false,
    "pycharm": {
     "name": "#%% md\n"
    }
   }
  },
  {
   "cell_type": "code",
   "execution_count": 9,
   "outputs": [
    {
     "name": "stdout",
     "output_type": "stream",
     "text": [
      "{'Count': 21,\n",
      " 'Items': [{'doctype': 'c-citation-ECLI:NL:DETARCO:1953:AY3105',\n",
      "            'id': 'ECLI:NL:GHARN:1958:38',\n",
      "            'target_ecli': 'ECLI:NL:DETARCO:1953:AY3105'},\n",
      "           {'doctype': 'c-citation-ECLI:NL:DETARCO:1953:AY3110',\n",
      "            'id': 'ECLI:NL:GHARN:1958:38',\n",
      "            'target_ecli': 'ECLI:NL:DETARCO:1953:AY3110'},\n",
      "           {'doctype': 'c-citation-ECLI:NL:DETARCO:1953:AY3113',\n",
      "            'id': 'ECLI:NL:GHARN:1958:38',\n",
      "            'target_ecli': 'ECLI:NL:DETARCO:1953:AY3113'},\n",
      "           {'doctype': 'c-citation-ECLI:NL:DETARCO:1953:AY3114',\n",
      "            'id': 'ECLI:NL:GHARN:1958:38',\n",
      "            'target_ecli': 'ECLI:NL:DETARCO:1953:AY3114'},\n",
      "           {'doctype': 'c-citation-ECLI:NL:DETARCO:1953:AY3311',\n",
      "            'id': 'ECLI:NL:GHARN:1958:38',\n",
      "            'target_ecli': 'ECLI:NL:DETARCO:1953:AY3311'},\n",
      "           {'doctype': 'c-citation-ECLI:NL:DETARCO:1953:AY3399',\n",
      "            'id': 'ECLI:NL:GHARN:1958:38',\n",
      "            'target_ecli': 'ECLI:NL:DETARCO:1953:AY3399'},\n",
      "           {'doctype': 'c-citation-ECLI:NL:DETARCO:1953:AY3438',\n",
      "            'id': 'ECLI:NL:GHARN:1958:38',\n",
      "            'target_ecli': 'ECLI:NL:DETARCO:1953:AY3438'},\n",
      "           {'doctype': 'c-citation-ECLI:NL:DETARCO:1954:AY3049',\n",
      "            'id': 'ECLI:NL:GHARN:1958:38',\n",
      "            'target_ecli': 'ECLI:NL:DETARCO:1954:AY3049'},\n",
      "           {'doctype': 'c-citation-ECLI:NL:DETARCO:1955:AY2308',\n",
      "            'id': 'ECLI:NL:GHARN:1958:38',\n",
      "            'target_ecli': 'ECLI:NL:DETARCO:1955:AY2308'},\n",
      "           {'doctype': 'c-citation-ECLI:NL:DETARCO:1956:AY2208',\n",
      "            'id': 'ECLI:NL:GHARN:1958:38',\n",
      "            'target_ecli': 'ECLI:NL:DETARCO:1956:AY2208'},\n",
      "           {'doctype': 'c-citation-ECLI:NL:DETARCO:1956:AY2246',\n",
      "            'id': 'ECLI:NL:GHARN:1958:38',\n",
      "            'target_ecli': 'ECLI:NL:DETARCO:1956:AY2246'},\n",
      "           {'doctype': 'c-citation-ECLI:NL:DETARCO:1957:AY1399',\n",
      "            'id': 'ECLI:NL:GHARN:1958:38',\n",
      "            'target_ecli': 'ECLI:NL:DETARCO:1957:AY1399'},\n",
      "           {'doctype': 'c-citation-ECLI:NL:DETARCO:1957:AY2225',\n",
      "            'id': 'ECLI:NL:GHARN:1958:38',\n",
      "            'target_ecli': 'ECLI:NL:DETARCO:1957:AY2225'},\n",
      "           {'doctype': 'c-citation-ECLI:NL:DETARCO:1957:AY2227',\n",
      "            'id': 'ECLI:NL:GHARN:1958:38',\n",
      "            'target_ecli': 'ECLI:NL:DETARCO:1957:AY2227'},\n",
      "           {'doctype': 'c-citation-ECLI:NL:DETARCO:1957:AY2236',\n",
      "            'id': 'ECLI:NL:GHARN:1958:38',\n",
      "            'target_ecli': 'ECLI:NL:DETARCO:1957:AY2236'},\n",
      "           {'doctype': 'c-citation-ECLI:NL:DETARCO:1958:AY0973',\n",
      "            'id': 'ECLI:NL:GHARN:1958:38',\n",
      "            'target_ecli': 'ECLI:NL:DETARCO:1958:AY0973'},\n",
      "           {'doctype': 'c-citation-ECLI:NL:DETARCO:1958:AY1402',\n",
      "            'id': 'ECLI:NL:GHARN:1958:38',\n",
      "            'target_ecli': 'ECLI:NL:DETARCO:1958:AY1402'},\n",
      "           {'doctype': 'c-citation-ECLI:NL:GHAMS:1945:BG9450',\n",
      "            'id': 'ECLI:NL:GHARN:1958:38',\n",
      "            'target_ecli': 'ECLI:NL:GHAMS:1945:BG9450'},\n",
      "           {'doctype': 'c-citation-ECLI:NL:GHAMS:1957:AY1236',\n",
      "            'id': 'ECLI:NL:GHARN:1958:38',\n",
      "            'target_ecli': 'ECLI:NL:GHAMS:1957:AY1236'},\n",
      "           {'doctype': 'c-citation-ECLI:NL:GHAMS:1958:AY1248',\n",
      "            'id': 'ECLI:NL:GHARN:1958:38',\n",
      "            'target_ecli': 'ECLI:NL:GHAMS:1958:AY1248'},\n",
      "           {'doctype': 'c-citation-ECLI:NL:GHARN:1946:49',\n",
      "            'id': 'ECLI:NL:GHARN:1958:38',\n",
      "            'target_ecli': 'ECLI:NL:GHARN:1946:49'}],\n",
      " 'ResponseMetadata': {'HTTPHeaders': {'connection': 'keep-alive',\n",
      "                                      'content-length': '3040',\n",
      "                                      'content-type': 'application/x-amz-json-1.0',\n",
      "                                      'date': 'Thu, 24 Dec 2020 11:54:51 GMT',\n",
      "                                      'server': 'Server',\n",
      "                                      'x-amz-crc32': '707226311',\n",
      "                                      'x-amzn-requestid': 'JLQ9D2TKG6BRMTM79T0V9VJLCNVV4KQNSO5AEMVJF66Q9ASUAAJG'},\n",
      "                      'HTTPStatusCode': 200,\n",
      "                      'RequestId': 'JLQ9D2TKG6BRMTM79T0V9VJLCNVV4KQNSO5AEMVJF66Q9ASUAAJG',\n",
      "                      'RetryAttempts': 0},\n",
      " 'ScannedCount': 21}\n"
     ]
    }
   ],
   "source": [
    "pprint(caselaw_table.query(\n",
    "    KeyConditionExpression=Key('id').eq('ECLI:NL:GHARN:1958:38') &\n",
    "                           Key('doctype').begins_with('c-citation'))  # [lc, cc, d]\n",
    ")"
   ],
   "metadata": {
    "collapsed": false,
    "pycharm": {
     "name": "#%%\n"
    }
   }
  },
  {
   "cell_type": "markdown",
   "source": [
    "Cases per subject and court"
   ],
   "metadata": {
    "collapsed": false,
    "pycharm": {
     "name": "#%% md\n"
    }
   }
  },
  {
   "cell_type": "code",
   "execution_count": 15,
   "outputs": [
    {
     "name": "stdout",
     "output_type": "stream",
     "text": [
      "{'Count': 0,\n",
      " 'Items': [],\n",
      " 'LastEvaluatedKey': {'court': 'Raad van Beroep in Ambtenarenzaken van Aruba, '\n",
      "                               'Curaçao, Sint Maarten en van Bonaire, Sint '\n",
      "                               'Eustatius en Saba',\n",
      "                      'doctype': 'uitspraak',\n",
      "                      'id': 'ECLI:NL:ORBAACM:2017:5'},\n",
      " 'ResponseMetadata': {'HTTPHeaders': {'connection': 'keep-alive',\n",
      "                                      'content-length': '251',\n",
      "                                      'content-type': 'application/x-amz-json-1.0',\n",
      "                                      'date': 'Thu, 24 Dec 2020 11:59:45 GMT',\n",
      "                                      'server': 'Server',\n",
      "                                      'x-amz-crc32': '1437545301',\n",
      "                                      'x-amzn-requestid': 'GJ9TKG17FC84V0G2KDA680EPUJVV4KQNSO5AEMVJF66Q9ASUAAJG'},\n",
      "                      'HTTPStatusCode': 200,\n",
      "                      'RequestId': 'GJ9TKG17FC84V0G2KDA680EPUJVV4KQNSO5AEMVJF66Q9ASUAAJG',\n",
      "                      'RetryAttempts': 0},\n",
      " 'ScannedCount': 1941}\n"
     ]
    }
   ],
   "source": [
    "pprint(caselaw_table.query(\n",
    "    IndexName='GSI-court',  # only needs to be specified if secondary index is used\n",
    "    ProjectionExpression=\"id, court, country\",\n",
    "    FilterExpression='contains(#cl, :val)',\n",
    "    ExpressionAttributeNames={'#cl': 'subject'},\n",
    "    ExpressionAttributeValues={':val': 'Belastingrecht'},\n",
    "    KeyConditionExpression=Key('doctype').eq('uitspraak') & Key('court').begins_with('R'))\n",
    ")"
   ],
   "metadata": {
    "collapsed": false,
    "pycharm": {
     "name": "#%%\n"
    }
   }
  },
  {
   "cell_type": "code",
   "execution_count": null,
   "outputs": [],
   "source": [
    "''' usage example:\n",
    "\n",
    "pprint(table.query(\n",
    "    ProjectionExpression=\"#yr, title, info.genres, info.actors[0]\",\n",
    "    ExpressionAttributeNames={\"#yr\": \"year\"},\n",
    "    KeyConditionExpression=\n",
    "            Key('year').eq(year) & Key('title').between(title_range[0], title_range[1]))\n",
    ")\n",
    "'''"
   ],
   "metadata": {
    "collapsed": false,
    "pycharm": {
     "name": "#%%\n"
    }
   }
  }
 ],
 "metadata": {
  "kernelspec": {
   "display_name": "Python 3",
   "language": "python",
   "name": "python3"
  },
  "language_info": {
   "codemirror_mode": {
    "name": "ipython",
    "version": 2
   },
   "file_extension": ".py",
   "mimetype": "text/x-python",
   "name": "python",
   "nbconvert_exporter": "python",
   "pygments_lexer": "ipython2",
   "version": "2.7.6"
  }
 },
 "nbformat": 4,
 "nbformat_minor": 0
}