{
 "cells": [
  {
   "cell_type": "markdown",
   "source": [
    "# Rechtspraak, LI & citations to DynamoDB ETL"
   ],
   "metadata": {
    "collapsed": false
   }
  },
  {
   "cell_type": "code",
   "execution_count": null,
   "outputs": [],
   "source": [
    "!pip install boto3"
   ],
   "metadata": {
    "collapsed": false,
    "pycharm": {
     "name": "#%%\n"
    }
   }
  },
  {
   "cell_type": "code",
   "execution_count": 2,
   "outputs": [],
   "source": [
    "import boto3\n",
    "from boto3.dynamodb.conditions import Key\n",
    "from decimal import Decimal\n",
    "import json\n",
    "import csv\n",
    "from pprint import pprint\n",
    "from botocore.exceptions import ClientError\n",
    "import pandas as pd\n",
    "import numpy as np\n",
    "import string"
   ],
   "metadata": {
    "collapsed": false,
    "pycharm": {
     "name": "#%%\n"
    }
   }
  },
  {
   "cell_type": "markdown",
   "source": [
    "- rs = rechtspraak data\n",
    "- li = legal intelligence data\n",
    "---\n",
    "## Raw Datasets"
   ],
   "metadata": {
    "collapsed": false
   }
  },
  {
   "cell_type": "code",
   "execution_count": 3,
   "outputs": [
    {
     "name": "stderr",
     "output_type": "stream",
     "text": [
      "/home/maxine/anaconda3/envs/case-law-explorer/lib/python3.7/site-packages/IPython/core/interactiveshell.py:3147: DtypeWarning: Columns (6) have mixed types.Specify dtype option on import or set low_memory=False.\n",
      "  interactivity=interactivity, compiler=compiler, result=result)\n"
     ]
    },
    {
     "data": {
      "text/plain": "                 case_id        date  case_number description language venue  \\\n0  ECLI:NL:GHAMS:1913:15  1913-03-31     Onbekend        NULL       NL  NULL   \n1  ECLI:NL:GHAMS:1913:28  1913-02-28  Onbekend389        NULL       NL  NULL   \n2  ECLI:NL:GHAMS:1913:19  1913-03-17     Onbekend        NULL       NL  NULL   \n3   ECLI:NL:GHAMS:1913:4  1913-02-28     Onbekend        NULL       NL  NULL   \n4  ECLI:NL:GHAMS:1913:20  1913-03-10     Onbekend        NULL       NL  NULL   \n\n  abstract procedure_type lodge_date country subject              authority  \\\n0     NULL           NULL       NULL      NL    NULL  Gerechtshof Amsterdam   \n1     NULL           NULL       NULL      NL    NULL  Gerechtshof Amsterdam   \n2     NULL           NULL       NULL      NL    NULL  Gerechtshof Amsterdam   \n3     NULL           NULL       NULL      NL    NULL  Gerechtshof Amsterdam   \n4     NULL           NULL       NULL      NL    NULL  Gerechtshof Amsterdam   \n\n  legal_references related_cases  \\\n0             NULL          NULL   \n1             NULL          NULL   \n2             NULL          NULL   \n3             NULL          NULL   \n4             NULL          NULL   \n\n                                 alternative_sources full_textcase_id date.1  \\\n0  \\n        \\n          <rdf:list xmlns:rdf=\"htt...             NULL   NULL   \n1  \\n        \\n          <rdf:list xmlns:rdf=\"htt...             NULL   NULL   \n2  \\n        \\n          <rdf:list xmlns:rdf=\"htt...             NULL   NULL   \n3  \\n        \\n          <rdf:list xmlns:rdf=\"htt...             NULL   NULL   \n4  \\n        \\n          <rdf:list xmlns:rdf=\"htt...             NULL   NULL   \n\n  case_number.1 description.1 language.1 venue.1 abstract.1 procedure_type.1  \\\n0          NULL          NULL       NULL    NULL       NULL             NULL   \n1          NULL          NULL       NULL    NULL       NULL             NULL   \n2          NULL          NULL       NULL    NULL       NULL             NULL   \n3          NULL          NULL       NULL    NULL       NULL             NULL   \n4          NULL          NULL       NULL    NULL       NULL             NULL   \n\n  lodge_date.1 country.1 subject.1 authority.1 legal_references.1  \\\n0         NULL      NULL      NULL        NULL               NULL   \n1         NULL      NULL      NULL        NULL               NULL   \n2         NULL      NULL      NULL        NULL               NULL   \n3         NULL      NULL      NULL        NULL               NULL   \n4         NULL      NULL      NULL        NULL               NULL   \n\n  related_cases.1 alternative_sources.1 full_text  \n0            NULL                  NULL      NULL  \n1            NULL                  NULL      NULL  \n2            NULL                  NULL      NULL  \n3            NULL                  NULL      NULL  \n4            NULL                  NULL      NULL  ",
      "text/html": "<div>\n<style scoped>\n    .dataframe tbody tr th:only-of-type {\n        vertical-align: middle;\n    }\n\n    .dataframe tbody tr th {\n        vertical-align: top;\n    }\n\n    .dataframe thead th {\n        text-align: right;\n    }\n</style>\n<table border=\"1\" class=\"dataframe\">\n  <thead>\n    <tr style=\"text-align: right;\">\n      <th></th>\n      <th>case_id</th>\n      <th>date</th>\n      <th>case_number</th>\n      <th>description</th>\n      <th>language</th>\n      <th>venue</th>\n      <th>abstract</th>\n      <th>procedure_type</th>\n      <th>lodge_date</th>\n      <th>country</th>\n      <th>subject</th>\n      <th>authority</th>\n      <th>legal_references</th>\n      <th>related_cases</th>\n      <th>alternative_sources</th>\n      <th>full_textcase_id</th>\n      <th>date.1</th>\n      <th>case_number.1</th>\n      <th>description.1</th>\n      <th>language.1</th>\n      <th>venue.1</th>\n      <th>abstract.1</th>\n      <th>procedure_type.1</th>\n      <th>lodge_date.1</th>\n      <th>country.1</th>\n      <th>subject.1</th>\n      <th>authority.1</th>\n      <th>legal_references.1</th>\n      <th>related_cases.1</th>\n      <th>alternative_sources.1</th>\n      <th>full_text</th>\n    </tr>\n  </thead>\n  <tbody>\n    <tr>\n      <th>0</th>\n      <td>ECLI:NL:GHAMS:1913:15</td>\n      <td>1913-03-31</td>\n      <td>Onbekend</td>\n      <td>NULL</td>\n      <td>NL</td>\n      <td>NULL</td>\n      <td>NULL</td>\n      <td>NULL</td>\n      <td>NULL</td>\n      <td>NL</td>\n      <td>NULL</td>\n      <td>Gerechtshof Amsterdam</td>\n      <td>NULL</td>\n      <td>NULL</td>\n      <td>\\n        \\n          &lt;rdf:list xmlns:rdf=\"htt...</td>\n      <td>NULL</td>\n      <td>NULL</td>\n      <td>NULL</td>\n      <td>NULL</td>\n      <td>NULL</td>\n      <td>NULL</td>\n      <td>NULL</td>\n      <td>NULL</td>\n      <td>NULL</td>\n      <td>NULL</td>\n      <td>NULL</td>\n      <td>NULL</td>\n      <td>NULL</td>\n      <td>NULL</td>\n      <td>NULL</td>\n      <td>NULL</td>\n    </tr>\n    <tr>\n      <th>1</th>\n      <td>ECLI:NL:GHAMS:1913:28</td>\n      <td>1913-02-28</td>\n      <td>Onbekend389</td>\n      <td>NULL</td>\n      <td>NL</td>\n      <td>NULL</td>\n      <td>NULL</td>\n      <td>NULL</td>\n      <td>NULL</td>\n      <td>NL</td>\n      <td>NULL</td>\n      <td>Gerechtshof Amsterdam</td>\n      <td>NULL</td>\n      <td>NULL</td>\n      <td>\\n        \\n          &lt;rdf:list xmlns:rdf=\"htt...</td>\n      <td>NULL</td>\n      <td>NULL</td>\n      <td>NULL</td>\n      <td>NULL</td>\n      <td>NULL</td>\n      <td>NULL</td>\n      <td>NULL</td>\n      <td>NULL</td>\n      <td>NULL</td>\n      <td>NULL</td>\n      <td>NULL</td>\n      <td>NULL</td>\n      <td>NULL</td>\n      <td>NULL</td>\n      <td>NULL</td>\n      <td>NULL</td>\n    </tr>\n    <tr>\n      <th>2</th>\n      <td>ECLI:NL:GHAMS:1913:19</td>\n      <td>1913-03-17</td>\n      <td>Onbekend</td>\n      <td>NULL</td>\n      <td>NL</td>\n      <td>NULL</td>\n      <td>NULL</td>\n      <td>NULL</td>\n      <td>NULL</td>\n      <td>NL</td>\n      <td>NULL</td>\n      <td>Gerechtshof Amsterdam</td>\n      <td>NULL</td>\n      <td>NULL</td>\n      <td>\\n        \\n          &lt;rdf:list xmlns:rdf=\"htt...</td>\n      <td>NULL</td>\n      <td>NULL</td>\n      <td>NULL</td>\n      <td>NULL</td>\n      <td>NULL</td>\n      <td>NULL</td>\n      <td>NULL</td>\n      <td>NULL</td>\n      <td>NULL</td>\n      <td>NULL</td>\n      <td>NULL</td>\n      <td>NULL</td>\n      <td>NULL</td>\n      <td>NULL</td>\n      <td>NULL</td>\n      <td>NULL</td>\n    </tr>\n    <tr>\n      <th>3</th>\n      <td>ECLI:NL:GHAMS:1913:4</td>\n      <td>1913-02-28</td>\n      <td>Onbekend</td>\n      <td>NULL</td>\n      <td>NL</td>\n      <td>NULL</td>\n      <td>NULL</td>\n      <td>NULL</td>\n      <td>NULL</td>\n      <td>NL</td>\n      <td>NULL</td>\n      <td>Gerechtshof Amsterdam</td>\n      <td>NULL</td>\n      <td>NULL</td>\n      <td>\\n        \\n          &lt;rdf:list xmlns:rdf=\"htt...</td>\n      <td>NULL</td>\n      <td>NULL</td>\n      <td>NULL</td>\n      <td>NULL</td>\n      <td>NULL</td>\n      <td>NULL</td>\n      <td>NULL</td>\n      <td>NULL</td>\n      <td>NULL</td>\n      <td>NULL</td>\n      <td>NULL</td>\n      <td>NULL</td>\n      <td>NULL</td>\n      <td>NULL</td>\n      <td>NULL</td>\n      <td>NULL</td>\n    </tr>\n    <tr>\n      <th>4</th>\n      <td>ECLI:NL:GHAMS:1913:20</td>\n      <td>1913-03-10</td>\n      <td>Onbekend</td>\n      <td>NULL</td>\n      <td>NL</td>\n      <td>NULL</td>\n      <td>NULL</td>\n      <td>NULL</td>\n      <td>NULL</td>\n      <td>NL</td>\n      <td>NULL</td>\n      <td>Gerechtshof Amsterdam</td>\n      <td>NULL</td>\n      <td>NULL</td>\n      <td>\\n        \\n          &lt;rdf:list xmlns:rdf=\"htt...</td>\n      <td>NULL</td>\n      <td>NULL</td>\n      <td>NULL</td>\n      <td>NULL</td>\n      <td>NULL</td>\n      <td>NULL</td>\n      <td>NULL</td>\n      <td>NULL</td>\n      <td>NULL</td>\n      <td>NULL</td>\n      <td>NULL</td>\n      <td>NULL</td>\n      <td>NULL</td>\n      <td>NULL</td>\n      <td>NULL</td>\n      <td>NULL</td>\n    </tr>\n  </tbody>\n</table>\n</div>"
     },
     "execution_count": 3,
     "metadata": {},
     "output_type": "execute_result"
    }
   ],
   "source": [
    "pd.set_option('display.max_columns', None)\n",
    "df_rs_cases_raw = pd.read_csv(\"https://maastrichtuniversity-ids-open.s3.eu-central-1.amazonaws.com/rechtspraak/case.csv\").replace(np.nan, 'NULL', regex=True)  #, nrows=500000).replace(np.nan, 'NULL', regex=True)\n",
    "df_rs_cases_raw.head()"
   ],
   "metadata": {
    "collapsed": false,
    "pycharm": {
     "name": "#%%\n"
    }
   }
  },
  {
   "cell_type": "code",
   "execution_count": 5,
   "outputs": [
    {
     "name": "stderr",
     "output_type": "stream",
     "text": [
      "/home/maxine/anaconda3/envs/case-law-explorer/lib/python3.7/site-packages/IPython/core/interactiveshell.py:3147: DtypeWarning: Columns (12) have mixed types.Specify dtype option on import or set low_memory=False.\n",
      "  interactivity=interactivity, compiler=compiler, result=result)\n"
     ]
    },
    {
     "data": {
      "text/plain": "                   case_id        date case_number description language venue  \\\n0  ECLI:NL:PHR:1913:AG1763  1913-04-18         x47        NULL       NL  NULL   \n1  ECLI:NL:PHR:1913:AG1764  1913-04-18         x48        NULL       NL  NULL   \n2  ECLI:NL:PHR:1913:BG9429  1913-04-21        NULL        NULL       NL  NULL   \n3  ECLI:NL:PHR:1913:AG1832  1913-03-07         X46        NULL       NL  NULL   \n4  ECLI:NL:PHR:1913:AG1762  1913-06-20         x49        NULL       NL  NULL   \n\n  abstract procedure_type lodge_date country subject                authority  \\\n0     NULL           NULL       NULL      NL    NULL  Parket bij de Hoge Raad   \n1     NULL           NULL       NULL      NL    NULL  Parket bij de Hoge Raad   \n2     NULL           NULL       NULL      NL    NULL  Parket bij de Hoge Raad   \n3     NULL           NULL       NULL      NL    NULL  Parket bij de Hoge Raad   \n4     NULL           NULL       NULL      NL    NULL  Parket bij de Hoge Raad   \n\n  legal_references                                     related_cases  \\\n0             NULL    Arrest Hoge Raad: ECLI:NL:HR:1913:AG1763\\n       \n1             NULL  Arrest Hoge Raad: ECLI:NL:HR:1913:AG1764\\n         \n2             NULL    Arrest Hoge Raad: ECLI:NL:HR:1913:BG9429\\n       \n3             NULL    Arrest Hoge Raad: ECLI:NL:HR:1913:AG1832\\n       \n4             NULL    Arrest Hoge Raad: ECLI:NL:HR:1913:AG1762\\n       \n\n                                 alternative_sources full_textcase_id date.1  \\\n0                                               NULL             NULL   NULL   \n1  \\n        \\n          <rdf:list xmlns:rdf=\"htt...             NULL   NULL   \n2                                               NULL             NULL   NULL   \n3                                               NULL             NULL   NULL   \n4                                               NULL             NULL   NULL   \n\n  case_number.1 description.1 language.1 venue.1 abstract.1 procedure_type.1  \\\n0          NULL          NULL       NULL    NULL       NULL             NULL   \n1          NULL          NULL       NULL    NULL       NULL             NULL   \n2          NULL          NULL       NULL    NULL       NULL             NULL   \n3          NULL          NULL       NULL    NULL       NULL             NULL   \n4          NULL          NULL       NULL    NULL       NULL             NULL   \n\n  lodge_date.1 country.1 subject.1 authority.1 legal_references.1  \\\n0         NULL      NULL      NULL        NULL               NULL   \n1         NULL      NULL      NULL        NULL               NULL   \n2         NULL      NULL      NULL        NULL               NULL   \n3         NULL      NULL      NULL        NULL               NULL   \n4         NULL      NULL      NULL        NULL               NULL   \n\n  related_cases.1 alternative_sources.1 full_text  \n0            NULL                  NULL      NULL  \n1            NULL                  NULL      NULL  \n2            NULL                  NULL      NULL  \n3            NULL                  NULL      NULL  \n4            NULL                  NULL      NULL  ",
      "text/html": "<div>\n<style scoped>\n    .dataframe tbody tr th:only-of-type {\n        vertical-align: middle;\n    }\n\n    .dataframe tbody tr th {\n        vertical-align: top;\n    }\n\n    .dataframe thead th {\n        text-align: right;\n    }\n</style>\n<table border=\"1\" class=\"dataframe\">\n  <thead>\n    <tr style=\"text-align: right;\">\n      <th></th>\n      <th>case_id</th>\n      <th>date</th>\n      <th>case_number</th>\n      <th>description</th>\n      <th>language</th>\n      <th>venue</th>\n      <th>abstract</th>\n      <th>procedure_type</th>\n      <th>lodge_date</th>\n      <th>country</th>\n      <th>subject</th>\n      <th>authority</th>\n      <th>legal_references</th>\n      <th>related_cases</th>\n      <th>alternative_sources</th>\n      <th>full_textcase_id</th>\n      <th>date.1</th>\n      <th>case_number.1</th>\n      <th>description.1</th>\n      <th>language.1</th>\n      <th>venue.1</th>\n      <th>abstract.1</th>\n      <th>procedure_type.1</th>\n      <th>lodge_date.1</th>\n      <th>country.1</th>\n      <th>subject.1</th>\n      <th>authority.1</th>\n      <th>legal_references.1</th>\n      <th>related_cases.1</th>\n      <th>alternative_sources.1</th>\n      <th>full_text</th>\n    </tr>\n  </thead>\n  <tbody>\n    <tr>\n      <th>0</th>\n      <td>ECLI:NL:PHR:1913:AG1763</td>\n      <td>1913-04-18</td>\n      <td>x47</td>\n      <td>NULL</td>\n      <td>NL</td>\n      <td>NULL</td>\n      <td>NULL</td>\n      <td>NULL</td>\n      <td>NULL</td>\n      <td>NL</td>\n      <td>NULL</td>\n      <td>Parket bij de Hoge Raad</td>\n      <td>NULL</td>\n      <td>Arrest Hoge Raad: ECLI:NL:HR:1913:AG1763\\n</td>\n      <td>NULL</td>\n      <td>NULL</td>\n      <td>NULL</td>\n      <td>NULL</td>\n      <td>NULL</td>\n      <td>NULL</td>\n      <td>NULL</td>\n      <td>NULL</td>\n      <td>NULL</td>\n      <td>NULL</td>\n      <td>NULL</td>\n      <td>NULL</td>\n      <td>NULL</td>\n      <td>NULL</td>\n      <td>NULL</td>\n      <td>NULL</td>\n      <td>NULL</td>\n    </tr>\n    <tr>\n      <th>1</th>\n      <td>ECLI:NL:PHR:1913:AG1764</td>\n      <td>1913-04-18</td>\n      <td>x48</td>\n      <td>NULL</td>\n      <td>NL</td>\n      <td>NULL</td>\n      <td>NULL</td>\n      <td>NULL</td>\n      <td>NULL</td>\n      <td>NL</td>\n      <td>NULL</td>\n      <td>Parket bij de Hoge Raad</td>\n      <td>NULL</td>\n      <td>Arrest Hoge Raad: ECLI:NL:HR:1913:AG1764\\n</td>\n      <td>\\n        \\n          &lt;rdf:list xmlns:rdf=\"htt...</td>\n      <td>NULL</td>\n      <td>NULL</td>\n      <td>NULL</td>\n      <td>NULL</td>\n      <td>NULL</td>\n      <td>NULL</td>\n      <td>NULL</td>\n      <td>NULL</td>\n      <td>NULL</td>\n      <td>NULL</td>\n      <td>NULL</td>\n      <td>NULL</td>\n      <td>NULL</td>\n      <td>NULL</td>\n      <td>NULL</td>\n      <td>NULL</td>\n    </tr>\n    <tr>\n      <th>2</th>\n      <td>ECLI:NL:PHR:1913:BG9429</td>\n      <td>1913-04-21</td>\n      <td>NULL</td>\n      <td>NULL</td>\n      <td>NL</td>\n      <td>NULL</td>\n      <td>NULL</td>\n      <td>NULL</td>\n      <td>NULL</td>\n      <td>NL</td>\n      <td>NULL</td>\n      <td>Parket bij de Hoge Raad</td>\n      <td>NULL</td>\n      <td>Arrest Hoge Raad: ECLI:NL:HR:1913:BG9429\\n</td>\n      <td>NULL</td>\n      <td>NULL</td>\n      <td>NULL</td>\n      <td>NULL</td>\n      <td>NULL</td>\n      <td>NULL</td>\n      <td>NULL</td>\n      <td>NULL</td>\n      <td>NULL</td>\n      <td>NULL</td>\n      <td>NULL</td>\n      <td>NULL</td>\n      <td>NULL</td>\n      <td>NULL</td>\n      <td>NULL</td>\n      <td>NULL</td>\n      <td>NULL</td>\n    </tr>\n    <tr>\n      <th>3</th>\n      <td>ECLI:NL:PHR:1913:AG1832</td>\n      <td>1913-03-07</td>\n      <td>X46</td>\n      <td>NULL</td>\n      <td>NL</td>\n      <td>NULL</td>\n      <td>NULL</td>\n      <td>NULL</td>\n      <td>NULL</td>\n      <td>NL</td>\n      <td>NULL</td>\n      <td>Parket bij de Hoge Raad</td>\n      <td>NULL</td>\n      <td>Arrest Hoge Raad: ECLI:NL:HR:1913:AG1832\\n</td>\n      <td>NULL</td>\n      <td>NULL</td>\n      <td>NULL</td>\n      <td>NULL</td>\n      <td>NULL</td>\n      <td>NULL</td>\n      <td>NULL</td>\n      <td>NULL</td>\n      <td>NULL</td>\n      <td>NULL</td>\n      <td>NULL</td>\n      <td>NULL</td>\n      <td>NULL</td>\n      <td>NULL</td>\n      <td>NULL</td>\n      <td>NULL</td>\n      <td>NULL</td>\n    </tr>\n    <tr>\n      <th>4</th>\n      <td>ECLI:NL:PHR:1913:AG1762</td>\n      <td>1913-06-20</td>\n      <td>x49</td>\n      <td>NULL</td>\n      <td>NL</td>\n      <td>NULL</td>\n      <td>NULL</td>\n      <td>NULL</td>\n      <td>NULL</td>\n      <td>NL</td>\n      <td>NULL</td>\n      <td>Parket bij de Hoge Raad</td>\n      <td>NULL</td>\n      <td>Arrest Hoge Raad: ECLI:NL:HR:1913:AG1762\\n</td>\n      <td>NULL</td>\n      <td>NULL</td>\n      <td>NULL</td>\n      <td>NULL</td>\n      <td>NULL</td>\n      <td>NULL</td>\n      <td>NULL</td>\n      <td>NULL</td>\n      <td>NULL</td>\n      <td>NULL</td>\n      <td>NULL</td>\n      <td>NULL</td>\n      <td>NULL</td>\n      <td>NULL</td>\n      <td>NULL</td>\n      <td>NULL</td>\n      <td>NULL</td>\n    </tr>\n  </tbody>\n</table>\n</div>"
     },
     "execution_count": 5,
     "metadata": {},
     "output_type": "execute_result"
    }
   ],
   "source": [
    "df_rs_opinions_raw = pd.read_csv(\"https://maastrichtuniversity-ids-open.s3.eu-central-1.amazonaws.com/rechtspraak/case_opinion_from_advocate_general.csv\").replace(np.nan, 'NULL', regex=True)\n",
    "df_rs_opinions_raw.head()"
   ],
   "metadata": {
    "collapsed": false,
    "pycharm": {
     "name": "#%%\n"
    }
   }
  },
  {
   "cell_type": "code",
   "execution_count": 6,
   "outputs": [
    {
     "data": {
      "text/plain": "   Unnamed: 0 IssueNumber       Id  \\\n0           0        NULL  4968258   \n1           1        NULL  4968759   \n2           2        NULL  4968382   \n3           3        NULL  4968678   \n4           4        NULL  4968777   \n\n                                               Title  \\\n0  Casus Bij besluit van 12 april 1994 verlenen g...   \n1  M.N. Boeve Casus GS van Noord-Brabant hebben (...   \n2  Naast woning gelegen huisje vormt ┌┌n geheel m...   \n3  Geen beroep mogelijk tegen weigering bestemmin...   \n4  Bodemverontreiniging; saneringskosten komen oo...   \n\n                                        DisplayTitle  \\\n0  Casus Bij besluit van 12 april 1994 verlenen g...   \n1  M.N. Boeve Casus GS van Noord-Brabant hebben (...   \n2  Naast woning gelegen huisje vormt ┌┌n geheel m...   \n3  Geen beroep mogelijk tegen weigering bestemmin...   \n4  Bodemverontreiniging; saneringskosten komen oo...   \n\n                                     DisplaySubtitle  \\\n0  Doorduijn, L.F. - Milieurecht Totaal - Module-...   \n1  Boeve, M.N. - Milieurecht Totaal - Module-seri...   \n2  Redactie - Module-serie - Module Afval - Milie...   \n3  Redactie - Module-serie - Module Ruimtelijke O...   \n4                 Kruimel, J.P. - Milieurecht Totaal   \n\n                                            abstract  \\\n0  Casus Bij besluit van 12 april 1994 verlenen g...   \n1  M.N. Boeve Casus GS van Noord-Brabant hebben (...   \n2  Naast woning gelegen huisje vormt ┌┌n geheel m...   \n3  De raad van de gemeente Waspik wees een verzoe...   \n4  Bodemverontreiniging; saneringskosten komen oo...   \n\n                                                 Url  \\\n0  http://www.legalintelligence.com/documents/496...   \n1  http://www.legalintelligence.com/documents/496...   \n2  http://www.legalintelligence.com/documents/496...   \n3  http://www.legalintelligence.com/documents/496...   \n4  http://www.legalintelligence.com/documents/496...   \n\n                                         OriginalUrl Jurisdiction  \\\n0  https://www.navigator.nl/#/document/da785f3d8d...    Nederland   \n1  https://www.navigator.nl/#/document/dae9667789...    Nederland   \n2  https://www.navigator.nl/#/document/da7b16fb16...    Nederland   \n3  https://www.navigator.nl/#/document/dad97422ad...    Nederland   \n4  https://www.navigator.nl/#/document/daf99e49b6...    Nederland   \n\n  DocumentType              authority                          case_number  \\\n0  Rechtspraak         Raad van State                            E03951413   \n1  Rechtspraak         Raad van State  E01.94.0417 ECLI:NL:RVS:1996:AP7883   \n2  Rechtspraak  Gerechtshof Amsterdam                            95/4927-E   \n3  Rechtspraak         Raad van State                            H01950354   \n4  Rechtspraak   Gerechtshof Den Haag                              95/1803   \n\n       date  lodge_date  DateAdded                      Sources  \\\n0  19960101    19960916   20110520           Milieurecht Totaal   \n1  19960101    19960708   20110628           Milieurecht Totaal   \n2  19960101    19961203   20110628           Milieurecht Totaal   \n3  19960101    19960201   20110628  Module Ruimtelijke Ordening   \n4  19960101    19961016   20110628           Milieurecht Totaal   \n\n                               UrlWithAutoLogOnToken  \\\n0  http://www.legalintelligence.com/documents/496...   \n1  http://www.legalintelligence.com/documents/496...   \n2  http://www.legalintelligence.com/documents/496...   \n3  http://www.legalintelligence.com/documents/496...   \n4  http://www.legalintelligence.com/documents/496...   \n\n                                             LawArea  \\\n0  ['Ruimtelijk Bestuursrecht/Milieurecht/Energie...   \n1  ['Ruimtelijk Bestuursrecht/Milieurecht/Energie...   \n2  ['Ruimtelijk Bestuursrecht/Milieurecht/Energie...   \n3  ['Ruimtelijk Bestuursrecht/Milieurecht/Energie...   \n4  ['Ruimtelijk Bestuursrecht/Milieurecht/Energie...   \n\n                        ecli PublicationNumber  \n0    ECLI_NL_RVS_1996_AP7727              NULL  \n1    ECLI_NL_RVS_1996_AP7883              NULL  \n2  ECLI_NL_GHAMS_1996_AS4281              NULL  \n3    ECLI_NL_RVS_1996_ZF1978              NULL  \n4  ECLI_NL_GHSGR_1996_AS3490              NULL  ",
      "text/html": "<div>\n<style scoped>\n    .dataframe tbody tr th:only-of-type {\n        vertical-align: middle;\n    }\n\n    .dataframe tbody tr th {\n        vertical-align: top;\n    }\n\n    .dataframe thead th {\n        text-align: right;\n    }\n</style>\n<table border=\"1\" class=\"dataframe\">\n  <thead>\n    <tr style=\"text-align: right;\">\n      <th></th>\n      <th>Unnamed: 0</th>\n      <th>IssueNumber</th>\n      <th>Id</th>\n      <th>Title</th>\n      <th>DisplayTitle</th>\n      <th>DisplaySubtitle</th>\n      <th>abstract</th>\n      <th>Url</th>\n      <th>OriginalUrl</th>\n      <th>Jurisdiction</th>\n      <th>DocumentType</th>\n      <th>authority</th>\n      <th>case_number</th>\n      <th>date</th>\n      <th>lodge_date</th>\n      <th>DateAdded</th>\n      <th>Sources</th>\n      <th>UrlWithAutoLogOnToken</th>\n      <th>LawArea</th>\n      <th>ecli</th>\n      <th>PublicationNumber</th>\n    </tr>\n  </thead>\n  <tbody>\n    <tr>\n      <th>0</th>\n      <td>0</td>\n      <td>NULL</td>\n      <td>4968258</td>\n      <td>Casus Bij besluit van 12 april 1994 verlenen g...</td>\n      <td>Casus Bij besluit van 12 april 1994 verlenen g...</td>\n      <td>Doorduijn, L.F. - Milieurecht Totaal - Module-...</td>\n      <td>Casus Bij besluit van 12 april 1994 verlenen g...</td>\n      <td>http://www.legalintelligence.com/documents/496...</td>\n      <td>https://www.navigator.nl/#/document/da785f3d8d...</td>\n      <td>Nederland</td>\n      <td>Rechtspraak</td>\n      <td>Raad van State</td>\n      <td>E03951413</td>\n      <td>19960101</td>\n      <td>19960916</td>\n      <td>20110520</td>\n      <td>Milieurecht Totaal</td>\n      <td>http://www.legalintelligence.com/documents/496...</td>\n      <td>['Ruimtelijk Bestuursrecht/Milieurecht/Energie...</td>\n      <td>ECLI_NL_RVS_1996_AP7727</td>\n      <td>NULL</td>\n    </tr>\n    <tr>\n      <th>1</th>\n      <td>1</td>\n      <td>NULL</td>\n      <td>4968759</td>\n      <td>M.N. Boeve Casus GS van Noord-Brabant hebben (...</td>\n      <td>M.N. Boeve Casus GS van Noord-Brabant hebben (...</td>\n      <td>Boeve, M.N. - Milieurecht Totaal - Module-seri...</td>\n      <td>M.N. Boeve Casus GS van Noord-Brabant hebben (...</td>\n      <td>http://www.legalintelligence.com/documents/496...</td>\n      <td>https://www.navigator.nl/#/document/dae9667789...</td>\n      <td>Nederland</td>\n      <td>Rechtspraak</td>\n      <td>Raad van State</td>\n      <td>E01.94.0417 ECLI:NL:RVS:1996:AP7883</td>\n      <td>19960101</td>\n      <td>19960708</td>\n      <td>20110628</td>\n      <td>Milieurecht Totaal</td>\n      <td>http://www.legalintelligence.com/documents/496...</td>\n      <td>['Ruimtelijk Bestuursrecht/Milieurecht/Energie...</td>\n      <td>ECLI_NL_RVS_1996_AP7883</td>\n      <td>NULL</td>\n    </tr>\n    <tr>\n      <th>2</th>\n      <td>2</td>\n      <td>NULL</td>\n      <td>4968382</td>\n      <td>Naast woning gelegen huisje vormt ┌┌n geheel m...</td>\n      <td>Naast woning gelegen huisje vormt ┌┌n geheel m...</td>\n      <td>Redactie - Module-serie - Module Afval - Milie...</td>\n      <td>Naast woning gelegen huisje vormt ┌┌n geheel m...</td>\n      <td>http://www.legalintelligence.com/documents/496...</td>\n      <td>https://www.navigator.nl/#/document/da7b16fb16...</td>\n      <td>Nederland</td>\n      <td>Rechtspraak</td>\n      <td>Gerechtshof Amsterdam</td>\n      <td>95/4927-E</td>\n      <td>19960101</td>\n      <td>19961203</td>\n      <td>20110628</td>\n      <td>Milieurecht Totaal</td>\n      <td>http://www.legalintelligence.com/documents/496...</td>\n      <td>['Ruimtelijk Bestuursrecht/Milieurecht/Energie...</td>\n      <td>ECLI_NL_GHAMS_1996_AS4281</td>\n      <td>NULL</td>\n    </tr>\n    <tr>\n      <th>3</th>\n      <td>3</td>\n      <td>NULL</td>\n      <td>4968678</td>\n      <td>Geen beroep mogelijk tegen weigering bestemmin...</td>\n      <td>Geen beroep mogelijk tegen weigering bestemmin...</td>\n      <td>Redactie - Module-serie - Module Ruimtelijke O...</td>\n      <td>De raad van de gemeente Waspik wees een verzoe...</td>\n      <td>http://www.legalintelligence.com/documents/496...</td>\n      <td>https://www.navigator.nl/#/document/dad97422ad...</td>\n      <td>Nederland</td>\n      <td>Rechtspraak</td>\n      <td>Raad van State</td>\n      <td>H01950354</td>\n      <td>19960101</td>\n      <td>19960201</td>\n      <td>20110628</td>\n      <td>Module Ruimtelijke Ordening</td>\n      <td>http://www.legalintelligence.com/documents/496...</td>\n      <td>['Ruimtelijk Bestuursrecht/Milieurecht/Energie...</td>\n      <td>ECLI_NL_RVS_1996_ZF1978</td>\n      <td>NULL</td>\n    </tr>\n    <tr>\n      <th>4</th>\n      <td>4</td>\n      <td>NULL</td>\n      <td>4968777</td>\n      <td>Bodemverontreiniging; saneringskosten komen oo...</td>\n      <td>Bodemverontreiniging; saneringskosten komen oo...</td>\n      <td>Kruimel, J.P. - Milieurecht Totaal</td>\n      <td>Bodemverontreiniging; saneringskosten komen oo...</td>\n      <td>http://www.legalintelligence.com/documents/496...</td>\n      <td>https://www.navigator.nl/#/document/daf99e49b6...</td>\n      <td>Nederland</td>\n      <td>Rechtspraak</td>\n      <td>Gerechtshof Den Haag</td>\n      <td>95/1803</td>\n      <td>19960101</td>\n      <td>19961016</td>\n      <td>20110628</td>\n      <td>Milieurecht Totaal</td>\n      <td>http://www.legalintelligence.com/documents/496...</td>\n      <td>['Ruimtelijk Bestuursrecht/Milieurecht/Energie...</td>\n      <td>ECLI_NL_GHSGR_1996_AS3490</td>\n      <td>NULL</td>\n    </tr>\n  </tbody>\n</table>\n</div>"
     },
     "execution_count": 6,
     "metadata": {},
     "output_type": "execute_result"
    }
   ],
   "source": [
    "df_li_cases_raw = pd.read_csv(\"https://maastrichtuniversity-ids-open.s3.eu-central-1.amazonaws.com/rechtspraak/legal_intelligence_cases.csv\").replace(np.nan, 'NULL', regex=True).drop_duplicates(subset =\"ecli\")\n",
    "df_li_cases_raw.head()"
   ],
   "metadata": {
    "collapsed": false,
    "pycharm": {
     "name": "#%%\n"
    }
   }
  },
  {
   "cell_type": "code",
   "execution_count": 7,
   "outputs": [
    {
     "data": {
      "text/plain": "           source_ecli source_paragraph          target_ecli target_paragraph\n0   ECLI:NL:HR:1913:13             NULL  ECLI:NL:HR:1913:129             NULL\n1  ECLI:NL:HR:1913:130             NULL  ECLI:NL:HR:1913:129             NULL\n2  ECLI:NL:HR:1913:131             NULL  ECLI:NL:HR:1913:129             NULL\n3  ECLI:NL:HR:1913:132             NULL  ECLI:NL:HR:1913:129             NULL\n4  ECLI:NL:HR:1913:133             NULL  ECLI:NL:HR:1913:129             NULL",
      "text/html": "<div>\n<style scoped>\n    .dataframe tbody tr th:only-of-type {\n        vertical-align: middle;\n    }\n\n    .dataframe tbody tr th {\n        vertical-align: top;\n    }\n\n    .dataframe thead th {\n        text-align: right;\n    }\n</style>\n<table border=\"1\" class=\"dataframe\">\n  <thead>\n    <tr style=\"text-align: right;\">\n      <th></th>\n      <th>source_ecli</th>\n      <th>source_paragraph</th>\n      <th>target_ecli</th>\n      <th>target_paragraph</th>\n    </tr>\n  </thead>\n  <tbody>\n    <tr>\n      <th>0</th>\n      <td>ECLI:NL:HR:1913:13</td>\n      <td>NULL</td>\n      <td>ECLI:NL:HR:1913:129</td>\n      <td>NULL</td>\n    </tr>\n    <tr>\n      <th>1</th>\n      <td>ECLI:NL:HR:1913:130</td>\n      <td>NULL</td>\n      <td>ECLI:NL:HR:1913:129</td>\n      <td>NULL</td>\n    </tr>\n    <tr>\n      <th>2</th>\n      <td>ECLI:NL:HR:1913:131</td>\n      <td>NULL</td>\n      <td>ECLI:NL:HR:1913:129</td>\n      <td>NULL</td>\n    </tr>\n    <tr>\n      <th>3</th>\n      <td>ECLI:NL:HR:1913:132</td>\n      <td>NULL</td>\n      <td>ECLI:NL:HR:1913:129</td>\n      <td>NULL</td>\n    </tr>\n    <tr>\n      <th>4</th>\n      <td>ECLI:NL:HR:1913:133</td>\n      <td>NULL</td>\n      <td>ECLI:NL:HR:1913:129</td>\n      <td>NULL</td>\n    </tr>\n  </tbody>\n</table>\n</div>"
     },
     "execution_count": 7,
     "metadata": {},
     "output_type": "execute_result"
    }
   ],
   "source": [
    "df_rs_case_citations_raw = pd.read_csv(\"https://maastrichtuniversity-ids-open.s3.eu-central-1.amazonaws.com/rechtspraak/caselaw_citations.csv\").replace(np.nan, 'NULL', regex=True)\n",
    "df_rs_case_citations_raw.head()"
   ],
   "metadata": {
    "collapsed": false,
    "pycharm": {
     "name": "#%%\n"
    }
   }
  },
  {
   "cell_type": "code",
   "execution_count": 9,
   "outputs": [
    {
     "data": {
      "text/plain": "                 source_ecli source_paragraph  \\\n0  ECLI:NL:GHAMS:1962:AX8440             NULL   \n1  ECLI:NL:GHAMS:1962:AX8440             NULL   \n2  ECLI:NL:GHAMS:1962:AX8440             NULL   \n3  ECLI:NL:GHAMS:1962:AX8441             NULL   \n4  ECLI:NL:GHAMS:1962:AX8441             NULL   \n\n                                      target_article target_article_paragraph  \\\n0  http://linkeddata.overheid.nl/terms/bwb/id/BWB...                     NULL   \n1  http://linkeddata.overheid.nl/terms/bwb/id/BWB...                     NULL   \n2  http://linkeddata.overheid.nl/terms/bwb/id/BWB...                     NULL   \n3  http://linkeddata.overheid.nl/terms/bwb/id/BWB...                     NULL   \n4  http://linkeddata.overheid.nl/terms/bwb/id/BWB...                     NULL   \n\n                              target_article_webpage  \n0  http://wetten.overheid.nl/id/BWBR0005537/2016-...  \n1  http://wetten.overheid.nl/id/BWBR0005537/2009-...  \n2  http://wetten.overheid.nl/id/BWBR0005537/2018-...  \n3  http://wetten.overheid.nl/id/BWBR0005537/2016-...  \n4  http://wetten.overheid.nl/id/BWBR0005537/2009-...  ",
      "text/html": "<div>\n<style scoped>\n    .dataframe tbody tr th:only-of-type {\n        vertical-align: middle;\n    }\n\n    .dataframe tbody tr th {\n        vertical-align: top;\n    }\n\n    .dataframe thead th {\n        text-align: right;\n    }\n</style>\n<table border=\"1\" class=\"dataframe\">\n  <thead>\n    <tr style=\"text-align: right;\">\n      <th></th>\n      <th>source_ecli</th>\n      <th>source_paragraph</th>\n      <th>target_article</th>\n      <th>target_article_paragraph</th>\n      <th>target_article_webpage</th>\n    </tr>\n  </thead>\n  <tbody>\n    <tr>\n      <th>0</th>\n      <td>ECLI:NL:GHAMS:1962:AX8440</td>\n      <td>NULL</td>\n      <td>http://linkeddata.overheid.nl/terms/bwb/id/BWB...</td>\n      <td>NULL</td>\n      <td>http://wetten.overheid.nl/id/BWBR0005537/2016-...</td>\n    </tr>\n    <tr>\n      <th>1</th>\n      <td>ECLI:NL:GHAMS:1962:AX8440</td>\n      <td>NULL</td>\n      <td>http://linkeddata.overheid.nl/terms/bwb/id/BWB...</td>\n      <td>NULL</td>\n      <td>http://wetten.overheid.nl/id/BWBR0005537/2009-...</td>\n    </tr>\n    <tr>\n      <th>2</th>\n      <td>ECLI:NL:GHAMS:1962:AX8440</td>\n      <td>NULL</td>\n      <td>http://linkeddata.overheid.nl/terms/bwb/id/BWB...</td>\n      <td>NULL</td>\n      <td>http://wetten.overheid.nl/id/BWBR0005537/2018-...</td>\n    </tr>\n    <tr>\n      <th>3</th>\n      <td>ECLI:NL:GHAMS:1962:AX8441</td>\n      <td>NULL</td>\n      <td>http://linkeddata.overheid.nl/terms/bwb/id/BWB...</td>\n      <td>NULL</td>\n      <td>http://wetten.overheid.nl/id/BWBR0005537/2016-...</td>\n    </tr>\n    <tr>\n      <th>4</th>\n      <td>ECLI:NL:GHAMS:1962:AX8441</td>\n      <td>NULL</td>\n      <td>http://linkeddata.overheid.nl/terms/bwb/id/BWB...</td>\n      <td>NULL</td>\n      <td>http://wetten.overheid.nl/id/BWBR0005537/2009-...</td>\n    </tr>\n  </tbody>\n</table>\n</div>"
     },
     "execution_count": 9,
     "metadata": {},
     "output_type": "execute_result"
    }
   ],
   "source": [
    "df_rs_legislation_citations_raw = pd.read_csv(\"https://maastrichtuniversity-ids-open.s3.eu-central-1.amazonaws.com/rechtspraak/legislation_citations.csv\").replace(np.nan, 'NULL', regex=True)\n",
    "df_rs_legislation_citations_raw.head()"
   ],
   "metadata": {
    "collapsed": false,
    "pycharm": {
     "name": "#%%\n"
    }
   }
  },
  {
   "cell_type": "code",
   "execution_count": 10,
   "outputs": [
    {
     "data": {
      "text/plain": "  country_id  eu         name                                        flag\n0         AT   1      Austria  https://www.countryflags.io/at/flat/64.png\n1         BE   1      Belgium  https://www.countryflags.io/be/flat/64.png\n2         BG   1     Bulgaria  https://www.countryflags.io/bg/flat/64.png\n3         CH   0  Switzerland  https://www.countryflags.io/ch/flat/64.png\n4         CZ   1      Czechia  https://www.countryflags.io/cz/flat/64.png",
      "text/html": "<div>\n<style scoped>\n    .dataframe tbody tr th:only-of-type {\n        vertical-align: middle;\n    }\n\n    .dataframe tbody tr th {\n        vertical-align: top;\n    }\n\n    .dataframe thead th {\n        text-align: right;\n    }\n</style>\n<table border=\"1\" class=\"dataframe\">\n  <thead>\n    <tr style=\"text-align: right;\">\n      <th></th>\n      <th>country_id</th>\n      <th>eu</th>\n      <th>name</th>\n      <th>flag</th>\n    </tr>\n  </thead>\n  <tbody>\n    <tr>\n      <th>0</th>\n      <td>AT</td>\n      <td>1</td>\n      <td>Austria</td>\n      <td>https://www.countryflags.io/at/flat/64.png</td>\n    </tr>\n    <tr>\n      <th>1</th>\n      <td>BE</td>\n      <td>1</td>\n      <td>Belgium</td>\n      <td>https://www.countryflags.io/be/flat/64.png</td>\n    </tr>\n    <tr>\n      <th>2</th>\n      <td>BG</td>\n      <td>1</td>\n      <td>Bulgaria</td>\n      <td>https://www.countryflags.io/bg/flat/64.png</td>\n    </tr>\n    <tr>\n      <th>3</th>\n      <td>CH</td>\n      <td>0</td>\n      <td>Switzerland</td>\n      <td>https://www.countryflags.io/ch/flat/64.png</td>\n    </tr>\n    <tr>\n      <th>4</th>\n      <td>CZ</td>\n      <td>1</td>\n      <td>Czechia</td>\n      <td>https://www.countryflags.io/cz/flat/64.png</td>\n    </tr>\n  </tbody>\n</table>\n</div>"
     },
     "execution_count": 10,
     "metadata": {},
     "output_type": "execute_result"
    }
   ],
   "source": [
    "df_country_raw = pd.read_csv(\"https://maastrichtuniversity-ids-open.s3.eu-central-1.amazonaws.com/rechtspraak/countries.csv\").replace(np.nan, 'NULL', regex=True)\n",
    "df_country_raw.head()"
   ],
   "metadata": {
    "collapsed": false,
    "pycharm": {
     "name": "#%%\n"
    }
   }
  },
  {
   "cell_type": "markdown",
   "source": [
    "#### stats raw data"
   ],
   "metadata": {
    "collapsed": false
   }
  },
  {
   "cell_type": "code",
   "execution_count": 11,
   "outputs": [
    {
     "name": "stdout",
     "output_type": "stream",
     "text": [
      "number of rs-cases:  2632420\n",
      "number of opinions:  65692\n",
      "number of li-cases:  661\n",
      "number of legislation citations:  18947\n",
      "number of case citations:  758268\n",
      "number of countries:  36\n"
     ]
    }
   ],
   "source": [
    "print('number of rs-cases: ', len(df_rs_cases_raw))\n",
    "print('number of opinions: ', len(df_rs_opinions_raw))\n",
    "print('number of li-cases: ', len(df_li_cases_raw))\n",
    "print('number of legislation citations: ', len(df_rs_legislation_citations_raw))\n",
    "print('number of case citations: ', len(df_rs_case_citations_raw))\n",
    "print('number of countries: ', len(df_country_raw))"
   ],
   "metadata": {
    "collapsed": false,
    "pycharm": {
     "name": "#%%\n"
    }
   }
  },
  {
   "cell_type": "markdown",
   "source": [
    "---\n",
    "## Utils"
   ],
   "metadata": {
    "collapsed": false
   }
  },
  {
   "cell_type": "code",
   "execution_count": 12,
   "outputs": [],
   "source": [
    "def clean_strings(column):\n",
    "  cleaned = []\n",
    "  for s in column:\n",
    "    cleaned.append(\"\".join(filter(lambda char: char in string.printable, s)))\n",
    "  return [i[0:250] for i in cleaned]"
   ],
   "metadata": {
    "collapsed": false,
    "pycharm": {
     "name": "#%%\n"
    }
   }
  },
  {
   "cell_type": "markdown",
   "source": [
    "---\n",
    "## Transformation\n",
    "\n",
    "Unify eclis:"
   ],
   "metadata": {
    "collapsed": false
   }
  },
  {
   "cell_type": "code",
   "execution_count": 13,
   "outputs": [],
   "source": [
    "for i, li_case in df_li_cases_raw.iterrows():\n",
    "    ecli = li_case.ecli\n",
    "    new_ecli = ecli.replace('_', ':')\n",
    "    df_li_cases_raw.at[i, 'ecli'] = new_ecli"
   ],
   "metadata": {
    "collapsed": false,
    "pycharm": {
     "name": "#%%\n"
    }
   }
  },
  {
   "cell_type": "markdown",
   "source": [
    "#### RS cases"
   ],
   "metadata": {
    "collapsed": false,
    "pycharm": {
     "name": "#%% md\n"
    }
   }
  },
  {
   "cell_type": "code",
   "execution_count": 14,
   "outputs": [],
   "source": [
    "map_rs = {'case_id':'ecli',\n",
    "          'date':'date',\n",
    "          'subject':'subject',\n",
    "          'authority':'court',\n",
    "          'case_number':'case_number',\n",
    "          'description':'description',\n",
    "          'language':'language',\n",
    "          'country':'country',\n",
    "          'venue':'venue',\n",
    "          'abstract':'abstract',\n",
    "          'procedure_type':'procedure_type',\n",
    "          'lodge_date':'lodge_date',\n",
    "          'alternative_sources':'link',}\n",
    "df_rs_cases = df_rs_cases_raw[map_rs.keys()].rename(columns=map_rs)\n",
    "df_rs_cases['name'] = 'NULL'\n",
    "df_rs_cases['doctype'] = 'uitspraak'\n",
    "\n",
    "# clean strings and transform date type\n",
    "#df_rs_cases['date'] = [pd.to_datetime(i, errors='coerce') if i != 'NULL' else pd.to_datetime('1900-01-01 00:00:00') for i in df_rs_cases['date']]\n",
    "#df_rs_cases['lodge_date'] = [pd.to_datetime(i, errors='coerce') if i != 'NULL' else pd.to_datetime('1900-01-01 00:00:00') for i in df_rs_cases['lodge_date']]\n",
    "df_rs_cases['description'] = clean_strings(df_rs_cases['description'])\n",
    "df_rs_cases['link'] = clean_strings(df_rs_cases['link'])"
   ],
   "metadata": {
    "collapsed": false,
    "pycharm": {
     "name": "#%%\n"
    }
   }
  },
  {
   "cell_type": "markdown",
   "source": [
    "#### RS opinions"
   ],
   "metadata": {
    "collapsed": false
   }
  },
  {
   "cell_type": "code",
   "execution_count": 15,
   "outputs": [],
   "source": [
    "df_rs_opinions = df_rs_opinions_raw[map_rs.keys()].rename(columns=map_rs)\n",
    "df_rs_opinions['doctype'] = 'opinion'\n",
    "\n",
    "#df_rs_opinions['date'] = [pd.to_datetime(i, errors='coerce') if i != 'NULL' else pd.to_datetime('1900-01-01 00:00:00') for i in df_rs_opinions['date']]\n",
    "df_rs_opinions['abstract'] = clean_strings(df_rs_opinions['abstract'])"
   ],
   "metadata": {
    "collapsed": false,
    "pycharm": {
     "name": "#%%\n"
    }
   }
  },
  {
   "cell_type": "markdown",
   "source": [
    "#### LI cases"
   ],
   "metadata": {
    "collapsed": false
   }
  },
  {
   "cell_type": "code",
   "execution_count": 16,
   "outputs": [],
   "source": [
    "map_li = {\n",
    "    'ecli':'ecli',\n",
    "    'Title':'name_li',\n",
    "    'date':'date_li',\n",
    "    'abstract':'abstract_li',\n",
    "    'LawArea':'subject_li',\n",
    "    'authority':'court_li',\n",
    "    'Url':'link_li',\n",
    "    'DisplayTitle':'DisplayTitle_li',\n",
    "    'OriginalUrl':'OriginalUrl_li',\n",
    "    'Jurisdiction':'Jurisdiction_li',\n",
    "    'DocumentType':'DocumentType_li',\n",
    "    'case_number':'CaseNumber_li',\n",
    "    'PublicationNumber':'PublicationNumber_li',\n",
    "    'IssueNumber':'IssueNumber_li',\n",
    "    'lodge_date':'lodge_date_li',\n",
    "    'DateAdded':'DateAdded_li',\n",
    "    'Sources':'Sources_li',\n",
    "    'UrlWithAutoLogOnToken':'UrlWithAutoLogOnToken_li',\n",
    "    'DisplaySubtitle':'DisplaySubtitle_li'\n",
    "}\n",
    "df_li_cases = df_li_cases_raw[map_li.keys()].rename(columns=map_li)\n",
    "df_li_cases['doctype'] = 'uitspraak'\n",
    "\n",
    "# clean strings and transform date type\n",
    "#df_li_cases['date_li'] = [pd.to_datetime(i, errors='coerce') if i != 'NULL' else pd.to_datetime('1900-01-01 00:00:00') for i in df_li_cases_raw['date']]\n",
    "#df_li_cases['lodge_date_li'] = [pd.to_datetime(i, errors='coerce') if i != 'NULL' else pd.to_datetime('1900-01-01 00:00:00') for i in df_li_cases_raw['lodge_date']]\n",
    "#df_li_cases['DateAdded_li'] = [pd.to_datetime(i, errors='coerce') if i != 'NULL' else pd.to_datetime('1900-01-01 00:00:00') for i in df_li_cases_raw['DateAdded']]\n",
    "df_li_cases['name_li'] = clean_strings(df_li_cases['name_li'])\n",
    "df_li_cases['abstract_li'] = clean_strings(df_li_cases['abstract_li'])\n",
    "df_li_cases['DisplayTitle_li'] = clean_strings(df_li_cases['DisplayTitle_li'])\n",
    "df_li_cases['court_li'] = clean_strings(df_li_cases['court_li'])\n",
    "df_li_cases['DisplaySubtitle_li'] = clean_strings(df_li_cases['DisplaySubtitle_li'])"
   ],
   "metadata": {
    "collapsed": false,
    "pycharm": {
     "name": "#%%\n"
    }
   }
  },
  {
   "cell_type": "markdown",
   "source": [
    "#### RS case citations"
   ],
   "metadata": {
    "collapsed": false
   }
  },
  {
   "cell_type": "code",
   "execution_count": 17,
   "outputs": [],
   "source": [
    "map_case_citations = {\n",
    "    'source_ecli':'ecli',\n",
    "    'source_paragraph':'source_paragraph',\n",
    "    'target_ecli':'target_ecli',\n",
    "    'target_paragraph':'target_paragraph'\n",
    "}\n",
    "df_rs_case_citations = df_rs_case_citations_raw[map_case_citations.keys()].rename(columns=map_case_citations)\n",
    "df_rs_case_citations['doctype'] = 'c-citation-' + df_rs_case_citations['target_ecli'].map(str)"
   ],
   "metadata": {
    "collapsed": false,
    "pycharm": {
     "name": "#%%\n"
    }
   }
  },
  {
   "cell_type": "markdown",
   "source": [
    "#### RS legislation citations"
   ],
   "metadata": {
    "collapsed": false
   }
  },
  {
   "cell_type": "code",
   "execution_count": 18,
   "outputs": [],
   "source": [
    "map_legislation_citations = {\n",
    "    'source_ecli':'ecli',\n",
    "    'source_paragraph':'source_paragraph',\n",
    "    'target_article':'target_id',\n",
    "    'target_article_paragraph':'target_paragraph',\n",
    "    'target_article_webpage':'target_link'\n",
    "}\n",
    "\n",
    "df_rs_legislation_citations = df_rs_legislation_citations_raw[map_legislation_citations.keys()].rename(columns=map_legislation_citations)\n",
    "df_rs_legislation_citations.loc[:,'target_name'] = 'NULL'\n",
    "df_rs_legislation_citations.loc[:,'target_sourcename'] = 'NULL'\n",
    "df_rs_legislation_citations['doctype'] = 'l-citation-' + df_rs_legislation_citations['target_id'].map(str)"
   ],
   "metadata": {
    "collapsed": false,
    "pycharm": {
     "name": "#%%\n"
    }
   }
  },
  {
   "cell_type": "markdown",
   "source": [
    "#### RS case related decisions"
   ],
   "metadata": {
    "collapsed": false
   }
  },
  {
   "cell_type": "code",
   "execution_count": 19,
   "outputs": [],
   "source": [
    "map_case_related_decisions = {\n",
    "    'case_id':'ecli',\n",
    "    'related_cases':'referencing_case_ecli'\n",
    "    }\n",
    "df_rs_related_cases = df_rs_cases_raw[df_rs_cases_raw['related_cases'] != 'NULL'][['case_id', 'related_cases']]\n",
    "df_rs_related_cases = df_rs_related_cases[map_case_related_decisions.keys()].rename(columns=map_case_related_decisions)\n",
    "df_rs_related_cases.loc[:,'referenced_case_ecli'] = 'NULL'\n",
    "df_rs_related_cases['doctype'] = 'related-' + df_rs_related_cases['referencing_case_ecli'].map(str)"
   ],
   "metadata": {
    "collapsed": false,
    "pycharm": {
     "name": "#%%\n"
    }
   }
  },
  {
   "cell_type": "markdown",
   "source": [
    "#### Courts"
   ],
   "metadata": {
    "collapsed": false
   }
  },
  {
   "cell_type": "code",
   "execution_count": 20,
   "outputs": [],
   "source": [
    "df_court = pd.DataFrame()\n",
    "courts_list = list(set(df_rs_cases_raw.authority.unique().tolist() + df_rs_opinions_raw.authority.unique().tolist() + df_li_cases_raw.authority.unique().tolist()))\n",
    "courts_list = [i.replace('\"','-') for i in courts_list]\n",
    "courts_list.extend(['Other'])\n",
    "\n",
    "df_court['name'] = clean_strings(courts_list)\n",
    "df_court.loc[:,'type'] = 'NULL'\n",
    "df_court.loc[:,'level'] = 'NULL'\n",
    "df_court.loc[:,'country'] = 'NULL'\n",
    "df_court.loc[:,'language'] = 'NULL'\n",
    "df_court.loc[:,'jurisdiction'] = 'NULL'\n",
    "df_court.loc[:,'law_area'] = 'NULL'\n",
    "df_court.loc[:,'authority_level'] = 'NULL'\n"
   ],
   "metadata": {
    "collapsed": false,
    "pycharm": {
     "name": "#%%\n"
    }
   }
  },
  {
   "cell_type": "markdown",
   "source": [
    "#### Countries"
   ],
   "metadata": {
    "collapsed": false
   }
  },
  {
   "cell_type": "code",
   "execution_count": 21,
   "outputs": [],
   "source": [
    "df_country = df_country_raw.copy()\n",
    "df_country.loc[:,'language'] = 'NULL'\n",
    "df_country.loc[:,'eea'] = 0\n",
    "df_country = df_country[['country_id','name','language','flag','eu','eea']].rename(columns={'country_id':'id'})\n"
   ],
   "metadata": {
    "collapsed": false,
    "pycharm": {
     "name": "#%%\n"
    }
   }
  },
  {
   "cell_type": "markdown",
   "source": [
    "#### Split data into RS only cases, LI only cases and RS+RI cases:"
   ],
   "metadata": {
    "collapsed": false
   }
  },
  {
   "cell_type": "code",
   "execution_count": 22,
   "outputs": [
    {
     "name": "stdout",
     "output_type": "stream",
     "text": [
      "number of li only cases:  44\n",
      "number of rechtspraak only cases:  2631803\n",
      "number of overlapping cases:  617\n",
      "number of rechtspraak total cases:  2632420\n",
      "number of li total cases:  661\n"
     ]
    }
   ],
   "source": [
    "''' intersection of cases in li and case_raw '''\n",
    "rsli_intersection = list(set(df_li_cases['ecli']).intersection(set(df_rs_cases['ecli'])))\n",
    "rs_only = list(set(df_rs_cases['ecli']) - set(rsli_intersection))\n",
    "li_only = list(set(df_li_cases['ecli']) - set(rsli_intersection))\n",
    "print('number of li only cases: ', len(li_only))\n",
    "print('number of rechtspraak only cases: ', len(rs_only))\n",
    "print('number of overlapping cases: ', len(rsli_intersection))\n",
    "print('number of rechtspraak total cases: ', len(df_rs_cases_raw))\n",
    "print('number of li total cases: ', len(df_li_cases_raw))\n"
   ],
   "metadata": {
    "collapsed": false,
    "pycharm": {
     "name": "#%%\n"
    }
   }
  },
  {
   "cell_type": "code",
   "execution_count": 23,
   "outputs": [],
   "source": [
    "### build separate dfs for li only and raw only cases\n",
    "df_rs_only_cases = df_rs_cases[df_rs_cases['ecli'].isin(rs_only)]\n",
    "df_li_only_cases = df_li_cases[df_li_cases['ecli'].isin(li_only)]\n"
   ],
   "metadata": {
    "collapsed": false,
    "pycharm": {
     "name": "#%%\n"
    }
   }
  },
  {
   "cell_type": "code",
   "execution_count": 24,
   "outputs": [],
   "source": [
    "### merge overlapping li and raw cases into one df\n",
    "df_rsli_intersection_cases = df_li_cases[df_li_cases['ecli'].isin(rsli_intersection)]\n",
    "df_rsli_intersection_cases.set_index('ecli', inplace=True)\n",
    "df_rs_cases.set_index('ecli', inplace=True)\n",
    "df_rsli_intersection_cases = df_rsli_intersection_cases.join(df_rs_cases.drop('doctype', axis=1))\n",
    "df_rs_cases.reset_index(inplace=True)\n",
    "df_rsli_intersection_cases.reset_index(inplace=True)"
   ],
   "metadata": {
    "collapsed": false,
    "pycharm": {
     "name": "#%%\n"
    }
   }
  },
  {
   "cell_type": "code",
   "execution_count": 25,
   "outputs": [
    {
     "name": "stdout",
     "output_type": "stream",
     "text": [
      "Number of Cases in\n",
      "RS only cases: 2631803\n",
      "LI only cases: 44\n",
      "LI & RS cases: 617\n",
      "Case opinion: 65692\n",
      "Legislation citation: 18947\n",
      "Case citation: 758268\n",
      "Related decisions: 137134\n"
     ]
    }
   ],
   "source": [
    "print('Number of Cases in\\nRS only cases: {}\\nLI only cases: {}\\nLI & RS cases: {}\\nCase opinion: {}\\nLegislation citation: {}\\nCase citation: {}\\nRelated decisions: {}'\\\n",
    "      .format(len(df_rs_only_cases), len(df_li_only_cases), len(df_rsli_intersection_cases), len(df_rs_opinions), len(df_rs_legislation_citations), len(df_rs_case_citations), len(df_rs_related_cases)))\n",
    "\n"
   ],
   "metadata": {
    "collapsed": false,
    "pycharm": {
     "name": "#%%\n"
    }
   }
  },
  {
   "cell_type": "markdown",
   "source": [
    "---\n",
    "## Data to DynamoDB"
   ],
   "metadata": {
    "collapsed": false
   }
  },
  {
   "cell_type": "code",
   "execution_count": 26,
   "outputs": [],
   "source": [
    "dynamodb = boto3.resource('dynamodb')  #, endpoint_url=\"http://localhost:8000\")  # remove 'endpoint_url' to use web service"
   ],
   "metadata": {
    "collapsed": false,
    "pycharm": {
     "name": "#%%\n"
    }
   }
  },
  {
   "cell_type": "markdown",
   "source": [
    "#### Table and key schema definition:"
   ],
   "metadata": {
    "collapsed": false
   }
  },
  {
   "cell_type": "code",
   "execution_count": 53,
   "outputs": [
    {
     "name": "stdout",
     "output_type": "stream",
     "text": [
      "Table status: CREATING\n"
     ]
    }
   ],
   "source": [
    "caselaw_table = dynamodb.create_table(\n",
    "    TableName='Caselaw',\n",
    "    KeySchema=[\n",
    "        {\n",
    "            'AttributeName': 'ecli',\n",
    "            'KeyType': 'HASH'  # Partition key\n",
    "        },\n",
    "        {\n",
    "            'AttributeName': 'doctype',\n",
    "            'KeyType': 'RANGE'  # Sort key\n",
    "        },\n",
    "    ],\n",
    "    AttributeDefinitions=[\n",
    "        {\n",
    "            'AttributeName': 'ecli',\n",
    "            'AttributeType': 'S'\n",
    "        },\n",
    "        {\n",
    "            'AttributeName': 'doctype',\n",
    "            'AttributeType': 'S'\n",
    "        },\n",
    "        {\n",
    "            \"AttributeName\": \"subject\",\n",
    "            \"AttributeType\": \"S\"\n",
    "        },\n",
    "    ],\n",
    "    GlobalSecondaryIndexes=[\n",
    "        {\n",
    "            'IndexName': 'GSI-1',\n",
    "            'KeySchema': [\n",
    "                {\n",
    "                    'AttributeName': 'doctype',\n",
    "                    'KeyType': 'HASH'\n",
    "                },\n",
    "                                {\n",
    "                    'AttributeName': 'subject',\n",
    "                    'KeyType': 'RANGE'\n",
    "                },\n",
    "            ],\n",
    "            'Projection': {\n",
    "                'ProjectionType': 'ALL',\n",
    "            },\n",
    "            'ProvisionedThroughput': {\n",
    "                'ReadCapacityUnits': 10,\n",
    "                'WriteCapacityUnits': 10\n",
    "            },\n",
    "        },\n",
    "    ],\n",
    "    ProvisionedThroughput={\n",
    "        'ReadCapacityUnits': 10,\n",
    "        'WriteCapacityUnits': 10\n",
    "    }\n",
    ")\n",
    "print(\"Table status:\", caselaw_table.table_status)\n"
   ],
   "metadata": {
    "collapsed": false,
    "pycharm": {
     "name": "#%%\n"
    }
   }
  },
  {
   "cell_type": "markdown",
   "source": [
    "#### Functions to load data into table:"
   ],
   "metadata": {
    "collapsed": false
   }
  },
  {
   "cell_type": "code",
   "execution_count": 28,
   "outputs": [],
   "source": [
    "caselaw_table = dynamodb.Table('Caselaw')\n",
    "\n",
    "def load_data(table, data, output=False):\n",
    "    keys = [key['AttributeName'] for key in table.key_schema]\n",
    "    counter = 0\n",
    "    with table.batch_writer() as batch:\n",
    "        #for item in data:\n",
    "        for item in data.iterrows():\n",
    "            item = item[1].to_dict()\n",
    "            counter += 1\n",
    "            if output:\n",
    "                values = [item[key] for key in keys]\n",
    "                print(\"Adding item:\", dict(zip(keys, values)))\n",
    "            batch.put_item(Item=item)\n",
    "    print(f'{counter} items added.')\n",
    "\n",
    "def read_csv(filename, items):\n",
    "    data = csv.DictReader(open(filename))\n",
    "    for item in data:\n",
    "        items.append(item)\n"
   ],
   "metadata": {
    "collapsed": false,
    "pycharm": {
     "name": "#%%\n"
    }
   }
  },
  {
   "cell_type": "code",
   "execution_count": null,
   "outputs": [],
   "source": [
    "load_data(caselaw_table, df_rs_only_cases)"
   ],
   "metadata": {
    "collapsed": false,
    "pycharm": {
     "name": "#%%\n",
     "is_executing": true
    }
   }
  },
  {
   "cell_type": "code",
   "execution_count": 30,
   "outputs": [
    {
     "name": "stdout",
     "output_type": "stream",
     "text": [
      "44 items added.\n"
     ]
    }
   ],
   "source": [
    "load_data(caselaw_table, df_li_only_cases)"
   ],
   "metadata": {
    "collapsed": false,
    "pycharm": {
     "name": "#%%\n"
    }
   }
  },
  {
   "cell_type": "code",
   "execution_count": 55,
   "outputs": [
    {
     "name": "stdout",
     "output_type": "stream",
     "text": [
      "617 items added.\n"
     ]
    }
   ],
   "source": [
    "load_data(caselaw_table, df_rsli_intersection_cases)"
   ],
   "metadata": {
    "collapsed": false,
    "pycharm": {
     "name": "#%%\n"
    }
   }
  },
  {
   "cell_type": "code",
   "execution_count": null,
   "outputs": [],
   "source": [
    "load_data(caselaw_table, df_rs_opinions)"
   ],
   "metadata": {
    "collapsed": false,
    "pycharm": {
     "name": "#%%\n",
     "is_executing": true
    }
   }
  },
  {
   "cell_type": "code",
   "execution_count": null,
   "outputs": [],
   "source": [
    "load_data(caselaw_table, df_rs_case_citations)"
   ],
   "metadata": {
    "collapsed": false,
    "pycharm": {
     "name": "#%%\n"
    }
   }
  },
  {
   "cell_type": "code",
   "execution_count": null,
   "outputs": [],
   "source": [
    "load_data(caselaw_table, df_rs_legislation_citations)"
   ],
   "metadata": {
    "collapsed": false,
    "pycharm": {
     "name": "#%%\n"
    }
   }
  },
  {
   "cell_type": "code",
   "execution_count": null,
   "outputs": [],
   "source": [
    "load_data(caselaw_table, df_rs_related_cases)"
   ],
   "metadata": {
    "collapsed": false,
    "pycharm": {
     "name": "#%%\n"
    }
   }
  },
  {
   "cell_type": "code",
   "execution_count": null,
   "outputs": [],
   "source": [
    "load_data(caselaw_table, df_court)"
   ],
   "metadata": {
    "collapsed": false,
    "pycharm": {
     "name": "#%%\n"
    }
   }
  },
  {
   "cell_type": "code",
   "execution_count": null,
   "outputs": [],
   "source": [
    "load_data(caselaw_table, df_country)"
   ],
   "metadata": {
    "collapsed": false,
    "pycharm": {
     "name": "#%%\n"
    }
   }
  },
  {
   "cell_type": "markdown",
   "source": [
    "#### Example queries:\n",
    "\n",
    "Uitspraak by ecli:"
   ],
   "metadata": {
    "collapsed": false
   }
  },
  {
   "cell_type": "code",
   "execution_count": null,
   "outputs": [],
   "source": [
    "pprint(caselaw_table.get_item(Key={'ecli': 'ECLI:NL:PHR:1996:AA1795',\n",
    "                                   'doctype': 'uitspraak'}))"
   ],
   "metadata": {
    "collapsed": false,
    "pycharm": {
     "name": "#%%\n"
    }
   }
  },
  {
   "cell_type": "markdown",
   "source": [
    "Opinion by ecli:"
   ],
   "metadata": {
    "collapsed": false,
    "pycharm": {
     "name": "#%% md\n"
    }
   }
  },
  {
   "cell_type": "code",
   "execution_count": null,
   "outputs": [],
   "source": [
    "pprint(caselaw_table.get_item(Key={'ecli': 'ECLI:NL:PHR:1913:AG1763',\n",
    "                                   'doctype': 'opinion'}))"
   ],
   "metadata": {
    "collapsed": false,
    "pycharm": {
     "name": "#%%\n"
    }
   }
  },
  {
   "cell_type": "markdown",
   "source": [
    "Case citations by ecli:"
   ],
   "metadata": {
    "collapsed": false,
    "pycharm": {
     "name": "#%% md\n"
    }
   }
  },
  {
   "cell_type": "code",
   "execution_count": null,
   "outputs": [],
   "source": [
    "pprint(caselaw_table.query(\n",
    "    KeyConditionExpression=Key('ecli').eq('ECLI:NL:AGAMS:1934:1') &\n",
    "                           Key('doctype').begins_with('c-citation'))  # [lc, cc, d]\n",
    ")"
   ],
   "metadata": {
    "collapsed": false,
    "pycharm": {
     "name": "#%%\n"
    }
   }
  },
  {
   "cell_type": "markdown",
   "source": [
    "Cases per subject='Bestuursrecht' and court='Hoge Raad'"
   ],
   "metadata": {
    "collapsed": false,
    "pycharm": {
     "name": "#%% md\n"
    }
   }
  },
  {
   "cell_type": "code",
   "execution_count": null,
   "outputs": [],
   "source": [
    "pprint(caselaw_table.query(\n",
    "    IndexName='GSI-1',  # only needs to be specified if secondary index is used\n",
    "    ProjectionExpression=\"ecli, court, country\",\n",
    "    FilterExpression='court = :a',\n",
    "    ExpressionAttributeValues={':a': 'Hoge Raad'},\n",
    "    KeyConditionExpression=Key('doctype').eq('uitspraak') & Key('subject').begins_with('Bestuursrecht'))\n",
    ")"
   ],
   "metadata": {
    "collapsed": false,
    "pycharm": {
     "name": "#%%\n"
    }
   }
  },
  {
   "cell_type": "code",
   "execution_count": null,
   "outputs": [],
   "source": [
    "''' usage example:\n",
    "\n",
    "pprint(table.query(\n",
    "    ProjectionExpression=\"#yr, title, info.genres, info.actors[0]\",\n",
    "    ExpressionAttributeNames={\"#yr\": \"year\"},\n",
    "    KeyConditionExpression=\n",
    "            Key('year').eq(year) & Key('title').between(title_range[0], title_range[1]))\n",
    ")\n",
    "'''"
   ],
   "metadata": {
    "collapsed": false,
    "pycharm": {
     "name": "#%%\n"
    }
   }
  }
 ],
 "metadata": {
  "kernelspec": {
   "display_name": "Python 3",
   "language": "python",
   "name": "python3"
  },
  "language_info": {
   "codemirror_mode": {
    "name": "ipython",
    "version": 2
   },
   "file_extension": ".py",
   "mimetype": "text/x-python",
   "name": "python",
   "nbconvert_exporter": "python",
   "pygments_lexer": "ipython2",
   "version": "2.7.6"
  }
 },
 "nbformat": 4,
 "nbformat_minor": 0
}