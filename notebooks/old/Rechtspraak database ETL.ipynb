{
 "nbformat": 4,
 "nbformat_minor": 0,
 "metadata": {
  "kernelspec": {
   "display_name": "Python 3",
   "language": "python",
   "name": "python3"
  },
  "language_info": {
   "codemirror_mode": {
    "name": "ipython",
    "version": 3
   },
   "file_extension": ".py",
   "mimetype": "text/x-python",
   "name": "python",
   "nbconvert_exporter": "python",
   "pygments_lexer": "ipython3",
   "version": "3.7.6"
  },
  "nteract": {
   "version": "0.15.0"
  },
  "colab": {
   "name": "Rechtspraak database ETL.ipynb",
   "provenance": [],
   "collapsed_sections": []
  }
 },
 "cells": [
  {
   "cell_type": "markdown",
   "metadata": {
    "id": "J6Kcfy1XtWIk"
   },
   "source": [
    "## Rechtspraak ETL"
   ]
  },
  {
   "cell_type": "code",
   "metadata": {
    "id": "VqVsIFmCLAy-",
    "colab": {
     "base_uri": "https://localhost:8080/"
    },
    "outputId": "c0fa7ef5-77e3-4233-98b7-bec82b162f49"
   },
   "source": [
    "!pip install mysql.connector"
   ],
   "execution_count": 1,
   "outputs": [
    {
     "output_type": "stream",
     "text": [
      "Processing /root/.cache/pip/wheels/8c/83/a1/f8b6d4bb1bd6208bbde1608bbfa7557504bed9eaf2ecf8c175/mysql_connector-2.2.9-cp36-cp36m-linux_x86_64.whl\n",
      "Installing collected packages: mysql.connector\n",
      "Successfully installed mysql.connector\n"
     ],
     "name": "stdout"
    }
   ]
  },
  {
   "cell_type": "code",
   "metadata": {
    "id": "IVvogvZihbVH"
   },
   "source": [
    "import pandas as pd\n",
    "import numpy as np\n",
    "from sqlalchemy import create_engine\n",
    "import warnings\n",
    "warnings.filterwarnings('ignore')"
   ],
   "execution_count": 2,
   "outputs": []
  },
  {
   "cell_type": "code",
   "metadata": {
    "id": "IQxfu3uM-q5a"
   },
   "source": [
    "CONNECTION = f'mysql+mysqlconnector://{USERNAME}:{PASSWORD}@{SERVER}:{PORT}/{DATABASE}'"
   ],
   "execution_count": 3,
   "outputs": []
  },
  {
   "cell_type": "code",
   "metadata": {
    "id": "I-toWqs5feHy",
    "colab": {
     "base_uri": "https://localhost:8080/",
     "height": 49
    },
    "outputId": "dfb20383-1c96-4a60-c741-3db315bfcba5"
   },
   "source": [
    "engine = create_engine(CONNECTION, echo=False)#, echo=True)\n",
    "connection = engine.connect()\n",
    "query = \"\"\"SELECT * FROM caselaw.case LIMIT 1;\"\"\"\n",
    "check = pd.read_sql_query(query, con=connection)\n",
    "check.head()"
   ],
   "execution_count": 4,
   "outputs": [
    {
     "output_type": "execute_result",
     "data": {
      "text/html": [
       "<div>\n",
       "<style scoped>\n",
       "    .dataframe tbody tr th:only-of-type {\n",
       "        vertical-align: middle;\n",
       "    }\n",
       "\n",
       "    .dataframe tbody tr th {\n",
       "        vertical-align: top;\n",
       "    }\n",
       "\n",
       "    .dataframe thead th {\n",
       "        text-align: right;\n",
       "    }\n",
       "</style>\n",
       "<table border=\"1\" class=\"dataframe\">\n",
       "  <thead>\n",
       "    <tr style=\"text-align: right;\">\n",
       "      <th></th>\n",
       "      <th>id</th>\n",
       "      <th>date</th>\n",
       "      <th>name</th>\n",
       "      <th>description</th>\n",
       "      <th>language</th>\n",
       "      <th>venue</th>\n",
       "      <th>abstract</th>\n",
       "      <th>procedure_type</th>\n",
       "      <th>lodge_date</th>\n",
       "      <th>link</th>\n",
       "      <th>ecli</th>\n",
       "      <th>court_id</th>\n",
       "    </tr>\n",
       "  </thead>\n",
       "  <tbody>\n",
       "  </tbody>\n",
       "</table>\n",
       "</div>"
      ],
      "text/plain": [
       "Empty DataFrame\n",
       "Columns: [id, date, name, description, language, venue, abstract, procedure_type, lodge_date, link, ecli, court_id]\n",
       "Index: []"
      ]
     },
     "metadata": {
      "tags": []
     },
     "execution_count": 4
    }
   ]
  },
  {
   "cell_type": "markdown",
   "metadata": {
    "id": "_HHS-DDJtWI6"
   },
   "source": [
    "---\n",
    "### Datasets"
   ]
  },
  {
   "cell_type": "code",
   "metadata": {
    "id": "hvtMYvuAkk0e"
   },
   "source": [
    "df_case_raw = pd.read_csv(\"https://maastrichtuniversity-ids-open.s3.eu-central-1.amazonaws.com/rechtspraak/case.csv\").replace(np.nan, 'NULL', regex=True)\n",
    "df_country = pd.read_csv(\"https://maastrichtuniversity-ids-open.s3.eu-central-1.amazonaws.com/rechtspraak/countries.csv\").replace(np.nan, 'NULL', regex=True)\n",
    "df_li_cases = pd.read_csv(\"https://maastrichtuniversity-ids-open.s3.eu-central-1.amazonaws.com/rechtspraak/legal_intelligence_cases.csv\").replace(np.nan, 'NULL', regex=True).drop_duplicates(subset =\"ecli\")\n",
    "df_case_opinion = pd.read_csv(\"https://maastrichtuniversity-ids-open.s3.eu-central-1.amazonaws.com/rechtspraak/case_opinion_from_advocate_general.csv\").replace(np.nan, 'NULL', regex=True)\n",
    "df_case_citation = pd.read_csv(\"https://maastrichtuniversity-ids-open.s3.eu-central-1.amazonaws.com/rechtspraak/caselaw_citations.csv\").replace(np.nan, 'NULL', regex=True)\n",
    "df_legislation_citation = pd.read_csv(\"https://maastrichtuniversity-ids-open.s3.eu-central-1.amazonaws.com/rechtspraak/legislation_citations.csv\").replace(np.nan, 'NULL', regex=True)"
   ],
   "execution_count": 5,
   "outputs": []
  },
  {
   "cell_type": "markdown",
   "metadata": {
    "id": "vp4EsuIAtWJI"
   },
   "source": [
    "---\n",
    "### Normalization based on constrains"
   ]
  },
  {
   "cell_type": "code",
   "metadata": {
    "id": "5zRpwcFcbeGr",
    "colab": {
     "base_uri": "https://localhost:8080/"
    },
    "outputId": "7bd653b9-4782-4e00-e08b-213c073c9231"
   },
   "source": [
    "#li formating\n",
    "for i, li_case in df_li_cases.iterrows():\n",
    "    ecli = li_case.ecli\n",
    "    new_ecli = ecli.replace('_', ':')\n",
    "    df_li_cases.at[i, 'ecli'] = new_ecli\n",
    "\n",
    "li_intersection = list(set(df_li_cases['ecli']).intersection(set(df_case_raw['case_id'])))\n",
    "\n",
    "#sample for testing\n",
    "#sample_size = 500000\n",
    "#uniques = list(df_case_citation['source_ecli'].sample(n=sample_size, random_state=18))\n",
    "#uniques.extend(li_intersection)\n",
    "\n",
    "uniques = list(df_case_citation['source_ecli'])\n",
    "uniques.extend(li_intersection)\n",
    "\n",
    "df_case = df_case_raw[df_case_raw['case_id'].isin(uniques)]\n",
    "\n",
    "##1: legislation citations \n",
    "df_legislation_citation = df_legislation_citation[df_legislation_citation['source_ecli'].isin(uniques)].reset_index(drop=True)\n",
    "\n",
    "##2: case citations \n",
    "df_case_citation = df_case_citation[df_case_citation['source_ecli'].isin(uniques)].reset_index(drop=True)\n",
    "\n",
    "##3: case opinions \n",
    "df_case_opinion = df_case_opinion[df_case_opinion['case_id'].isin(uniques)].reset_index(drop=True)\n",
    "\n",
    "##4: li cases \n",
    "df_li_cases = df_li_cases[df_li_cases['ecli'].isin(uniques)].reset_index(drop=True)\n",
    "\n",
    "print('Number of Cases in\\nCases: {}\\nLegislation citation: {}\\nCase citation: {}\\nCase opinion: {}\\nLI cases: {}'\\\n",
    "      .format(len(df_case), len(df_legislation_citation), len(df_case_citation), len(df_case_opinion), len(df_li_cases)))"
   ],
   "execution_count": 6,
   "outputs": [
    {
     "output_type": "stream",
     "text": [
      "Number of Cases in\n",
      "Cases: 15909\n",
      "Legislation citation: 18947\n",
      "Case citation: 758268\n",
      "Case opinion: 0\n",
      "LI cases: 617\n"
     ],
     "name": "stdout"
    }
   ]
  },
  {
   "cell_type": "code",
   "metadata": {
    "id": "nPsP22briD8p"
   },
   "source": [
    "del uniques"
   ],
   "execution_count": 7,
   "outputs": []
  },
  {
   "cell_type": "markdown",
   "metadata": {
    "id": "f6MJwOeStWJb"
   },
   "source": [
    "---\n",
    "### Utils"
   ]
  },
  {
   "cell_type": "code",
   "metadata": {
    "id": "Csz9Dywvxozp"
   },
   "source": [
    "import string\n",
    "\n",
    "def clean_strings(column):\n",
    "  cleaned = []\n",
    "  for s in column:\n",
    "    cleaned.append(\"\".join(filter(lambda char: char in string.printable, s)))\n",
    "  return [i[0:250] for i in cleaned]"
   ],
   "execution_count": 8,
   "outputs": []
  },
  {
   "cell_type": "code",
   "metadata": {
    "id": "eLUBPUhasTu8"
   },
   "source": [
    "def clean_table_sql(table_name):\n",
    "  engine.execute(\"\"\"DELETE FROM `{}`;\"\"\".format(table_name))\n",
    "  engine.execute(\"\"\"ALTER TABLE `{}` AUTO_INCREMENT = 1;\"\"\".format(table_name))"
   ],
   "execution_count": 9,
   "outputs": []
  },
  {
   "cell_type": "code",
   "metadata": {
    "id": "YUi34VbutWJi"
   },
   "source": [
    "def get_parent_ids(table, column_table, df, column_df):\n",
    "  \"\"\"DB table, DB column_table, df: pandas df to look at, column_df\"\"\"\n",
    "  read_all_ids = pd.read_sql(\"\"\"SELECT id, `{}` FROM `{}` \"\"\".format(column_table, table), con=connection)\n",
    "  id_list = []\n",
    "  for idx, data in enumerate(df[column_df]):\n",
    "    id_list.append(read_all_ids[read_all_ids[column_table] == data].id.values[0])\n",
    "  return id_list"
   ],
   "execution_count": 10,
   "outputs": []
  },
  {
   "cell_type": "markdown",
   "metadata": {
    "id": "QiB4McIztWJl"
   },
   "source": [
    "---\n",
    "### Tables Hierarchies"
   ]
  },
  {
   "cell_type": "markdown",
   "metadata": {
    "id": "pHiyiz7WtWJl"
   },
   "source": [
    "1. Court\n",
    "2. Case\n",
    "3. Case Opinion\n",
    "4. LI Case\n",
    "5. Subject\n",
    "6. Case subject\n",
    "7. Country\n",
    "8. Case country\n",
    "9. Case citation\n",
    "10. Legislation citation\n",
    "11. Case related decision\n"
   ]
  },
  {
   "cell_type": "code",
   "metadata": {
    "id": "K1SbvVKftWJm"
   },
   "source": [
    "# clean_table_sql('case_related_decision')\n",
    "# clean_table_sql('legislation_citation')\n",
    "# clean_table_sql('case_citation')\n",
    "# clean_table_sql('case_country')\n",
    "# clean_table_sql('country')\n",
    "# clean_table_sql('case_subject')\n",
    "# clean_table_sql('subject')\n",
    "# clean_table_sql('legal_intelligence_case')\n",
    "# clean_table_sql('case_opinion')\n",
    "# clean_table_sql('case')\n",
    "# clean_table_sql('court')"
   ],
   "execution_count": 11,
   "outputs": []
  },
  {
   "cell_type": "markdown",
   "metadata": {
    "id": "swsDew62tWJp"
   },
   "source": [
    "---\n",
    "### Courts"
   ]
  },
  {
   "cell_type": "code",
   "metadata": {
    "id": "VvdsK9VNtWJp"
   },
   "source": [
    "court = pd.DataFrame()\n",
    "courts_list = df_case_raw.authority.unique()\n",
    "courts_list = [i.replace('\"','-') for i in courts_list]\n",
    "courts_list.extend(['Other'])"
   ],
   "execution_count": 12,
   "outputs": []
  },
  {
   "cell_type": "code",
   "metadata": {
    "id": "LYsuxF1BYfcm"
   },
   "source": [
    "court['name'] = clean_strings(courts_list)\n",
    "court.loc[:,'type'] = 'NULL'\n",
    "court.loc[:,'level'] = 'NULL'\n",
    "court.loc[:,'country'] = 'NULL'\n",
    "court.loc[:,'language'] = 'NULL' \n",
    "court.loc[:,'jurisdiction'] = 'NULL' \n",
    "court.loc[:,'law_area'] = 'NULL'\n",
    "court.loc[:,'authority_level'] = 'NULL'"
   ],
   "execution_count": 13,
   "outputs": []
  },
  {
   "cell_type": "code",
   "metadata": {
    "id": "FUknrPh-AYWK",
    "colab": {
     "base_uri": "https://localhost:8080/",
     "height": 111
    },
    "outputId": "fd16a678-2435-4fc2-ab1f-35f3027afd3b"
   },
   "source": [
    "court.head(2)"
   ],
   "execution_count": 14,
   "outputs": [
    {
     "output_type": "execute_result",
     "data": {
      "text/html": [
       "<div>\n",
       "<style scoped>\n",
       "    .dataframe tbody tr th:only-of-type {\n",
       "        vertical-align: middle;\n",
       "    }\n",
       "\n",
       "    .dataframe tbody tr th {\n",
       "        vertical-align: top;\n",
       "    }\n",
       "\n",
       "    .dataframe thead th {\n",
       "        text-align: right;\n",
       "    }\n",
       "</style>\n",
       "<table border=\"1\" class=\"dataframe\">\n",
       "  <thead>\n",
       "    <tr style=\"text-align: right;\">\n",
       "      <th></th>\n",
       "      <th>name</th>\n",
       "      <th>type</th>\n",
       "      <th>level</th>\n",
       "      <th>country</th>\n",
       "      <th>language</th>\n",
       "      <th>jurisdiction</th>\n",
       "      <th>law_area</th>\n",
       "      <th>authority_level</th>\n",
       "    </tr>\n",
       "  </thead>\n",
       "  <tbody>\n",
       "    <tr>\n",
       "      <th>0</th>\n",
       "      <td>Gerechtshof Amsterdam</td>\n",
       "      <td>NULL</td>\n",
       "      <td>NULL</td>\n",
       "      <td>NULL</td>\n",
       "      <td>NULL</td>\n",
       "      <td>NULL</td>\n",
       "      <td>NULL</td>\n",
       "      <td>NULL</td>\n",
       "    </tr>\n",
       "    <tr>\n",
       "      <th>1</th>\n",
       "      <td>Gerechtshof Arnhem</td>\n",
       "      <td>NULL</td>\n",
       "      <td>NULL</td>\n",
       "      <td>NULL</td>\n",
       "      <td>NULL</td>\n",
       "      <td>NULL</td>\n",
       "      <td>NULL</td>\n",
       "      <td>NULL</td>\n",
       "    </tr>\n",
       "  </tbody>\n",
       "</table>\n",
       "</div>"
      ],
      "text/plain": [
       "                    name  type level  ... jurisdiction law_area authority_level\n",
       "0  Gerechtshof Amsterdam  NULL  NULL  ...         NULL     NULL            NULL\n",
       "1     Gerechtshof Arnhem  NULL  NULL  ...         NULL     NULL            NULL\n",
       "\n",
       "[2 rows x 8 columns]"
      ]
     },
     "metadata": {
      "tags": []
     },
     "execution_count": 14
    }
   ]
  },
  {
   "cell_type": "code",
   "metadata": {
    "id": "Gv0VMlVf7CvA"
   },
   "source": [
    "court.to_sql('court', con=engine, index=False, if_exists='append', chunksize = 10)\n",
    "del court"
   ],
   "execution_count": 15,
   "outputs": []
  },
  {
   "cell_type": "markdown",
   "metadata": {
    "id": "hDFd5xEftWJ9"
   },
   "source": [
    "---\n",
    "### Case"
   ]
  },
  {
   "cell_type": "code",
   "metadata": {
    "id": "lbCynN5NtWJ9"
   },
   "source": [
    "map_case = {'date':'date',\n",
    "            'description':'description',\n",
    "            'language':'language',\n",
    "            'venue':'venue',\n",
    "            'abstract':'abstract',\n",
    "            'procedure_type':'procedure_type',\n",
    "            'lodge_date':'lodge_date',\n",
    "            'alternative_sources':'link',\n",
    "            'case_id':'ecli'}\n",
    "\n",
    "case = df_case[map_case.keys()].rename(columns=map_case)\n",
    "case['name'] = 'NULL'\n",
    "case['court_id'] = get_parent_ids('court', 'name', df_case, 'authority')\n",
    "case['date'] = [pd.format_date(i, errors='coerce') if i != 'NULL' else pd.format_date('1900-01-01 00:00:00') for i in case['date']]\n",
    "case['lodge_date'] = [pd.format_date(i, errors='coerce') if i != 'NULL' else pd.format_date('1900-01-01 00:00:00') for i in case['lodge_date']]\n",
    "case['description'] = clean_strings(case['description'])\n",
    "case['link'] = clean_strings(case['link'])"
   ],
   "execution_count": 16,
   "outputs": []
  },
  {
   "cell_type": "code",
   "metadata": {
    "id": "V3UMNfyutWKN",
    "colab": {
     "base_uri": "https://localhost:8080/",
     "height": 142
    },
    "outputId": "7554fa71-3b61-4a39-8916-91da9fa03205"
   },
   "source": [
    "case.head(3)"
   ],
   "execution_count": 17,
   "outputs": [
    {
     "output_type": "execute_result",
     "data": {
      "text/html": [
       "<div>\n",
       "<style scoped>\n",
       "    .dataframe tbody tr th:only-of-type {\n",
       "        vertical-align: middle;\n",
       "    }\n",
       "\n",
       "    .dataframe tbody tr th {\n",
       "        vertical-align: top;\n",
       "    }\n",
       "\n",
       "    .dataframe thead th {\n",
       "        text-align: right;\n",
       "    }\n",
       "</style>\n",
       "<table border=\"1\" class=\"dataframe\">\n",
       "  <thead>\n",
       "    <tr style=\"text-align: right;\">\n",
       "      <th></th>\n",
       "      <th>date</th>\n",
       "      <th>description</th>\n",
       "      <th>language</th>\n",
       "      <th>venue</th>\n",
       "      <th>abstract</th>\n",
       "      <th>procedure_type</th>\n",
       "      <th>lodge_date</th>\n",
       "      <th>link</th>\n",
       "      <th>ecli</th>\n",
       "      <th>name</th>\n",
       "      <th>court_id</th>\n",
       "    </tr>\n",
       "  </thead>\n",
       "  <tbody>\n",
       "    <tr>\n",
       "      <th>43</th>\n",
       "      <td>1913-02-24</td>\n",
       "      <td>NULL</td>\n",
       "      <td>NL</td>\n",
       "      <td>NULL</td>\n",
       "      <td>NULL</td>\n",
       "      <td>NULL</td>\n",
       "      <td>1900-01-01</td>\n",
       "      <td>\\n        \\n          &lt;rdf:list xmlns:rdf=\"htt...</td>\n",
       "      <td>ECLI:NL:HR:1913:132</td>\n",
       "      <td>NULL</td>\n",
       "      <td>6</td>\n",
       "    </tr>\n",
       "    <tr>\n",
       "      <th>60</th>\n",
       "      <td>1913-04-25</td>\n",
       "      <td>NULL</td>\n",
       "      <td>NL</td>\n",
       "      <td>NULL</td>\n",
       "      <td>NULL</td>\n",
       "      <td>NULL</td>\n",
       "      <td>1900-01-01</td>\n",
       "      <td>\\n        \\n          &lt;rdf:list xmlns:rdf=\"htt...</td>\n",
       "      <td>ECLI:NL:HR:1913:130</td>\n",
       "      <td>NULL</td>\n",
       "      <td>6</td>\n",
       "    </tr>\n",
       "    <tr>\n",
       "      <th>63</th>\n",
       "      <td>1913-04-11</td>\n",
       "      <td>NULL</td>\n",
       "      <td>NL</td>\n",
       "      <td>NULL</td>\n",
       "      <td>NULL</td>\n",
       "      <td>NULL</td>\n",
       "      <td>1900-01-01</td>\n",
       "      <td>\\n        \\n          &lt;rdf:list xmlns:rdf=\"htt...</td>\n",
       "      <td>ECLI:NL:HR:1913:134</td>\n",
       "      <td>NULL</td>\n",
       "      <td>6</td>\n",
       "    </tr>\n",
       "  </tbody>\n",
       "</table>\n",
       "</div>"
      ],
      "text/plain": [
       "         date description language  ...                 ecli  name court_id\n",
       "43 1913-02-24        NULL       NL  ...  ECLI:NL:HR:1913:132  NULL        6\n",
       "60 1913-04-25        NULL       NL  ...  ECLI:NL:HR:1913:130  NULL        6\n",
       "63 1913-04-11        NULL       NL  ...  ECLI:NL:HR:1913:134  NULL        6\n",
       "\n",
       "[3 rows x 11 columns]"
      ]
     },
     "metadata": {
      "tags": []
     },
     "execution_count": 17
    }
   ]
  },
  {
   "cell_type": "code",
   "metadata": {
    "id": "WEyuf60EYZHb"
   },
   "source": [
    "case.to_sql('case', con=engine, index=False, if_exists='append', chunksize = 100)"
   ],
   "execution_count": 18,
   "outputs": []
  },
  {
   "cell_type": "code",
   "metadata": {
    "id": "fb3UP8s-SE2R"
   },
   "source": [
    "del map_case\n",
    "del case"
   ],
   "execution_count": 19,
   "outputs": []
  },
  {
   "cell_type": "markdown",
   "metadata": {
    "id": "1sq2jl0ZtWKT"
   },
   "source": [
    "---\n",
    "### Case opinion advocate general"
   ]
  },
  {
   "cell_type": "code",
   "metadata": {
    "id": "6rb_jSOztWKU"
   },
   "source": [
    "map_case_opinion = {'date':'date',\n",
    "                    'case_number':'case_number',\n",
    "                    'description':'description',\n",
    "                    'language':'language',\n",
    "                    'country':'country',\n",
    "                    'venue':'venue',\n",
    "                    'abstract':'abstract',\n",
    "                    'procedure_type':'procedure_type',\n",
    "                    'authority':'authority',\n",
    "                    'case_id':'ecli'}\n",
    "                    \n",
    "case_opinion = df_case_opinion[map_case_opinion.keys()].rename(columns=map_case_opinion)\n",
    "case_opinion['date'] = [pd.format_date(i, errors='coerce') if i != 'NULL' else pd.format_date('1900-01-01 00:00:00') for i in case_opinion['date']]\n",
    "case_opinion['abstract'] = clean_strings(case_opinion['abstract'])"
   ],
   "execution_count": 20,
   "outputs": []
  },
  {
   "cell_type": "code",
   "metadata": {
    "id": "VTNFyG87tWKb",
    "colab": {
     "base_uri": "https://localhost:8080/",
     "height": 49
    },
    "outputId": "36b180e6-3b03-440e-9a26-ca0460393915"
   },
   "source": [
    "case_opinion.head(2)"
   ],
   "execution_count": 21,
   "outputs": [
    {
     "output_type": "execute_result",
     "data": {
      "text/html": [
       "<div>\n",
       "<style scoped>\n",
       "    .dataframe tbody tr th:only-of-type {\n",
       "        vertical-align: middle;\n",
       "    }\n",
       "\n",
       "    .dataframe tbody tr th {\n",
       "        vertical-align: top;\n",
       "    }\n",
       "\n",
       "    .dataframe thead th {\n",
       "        text-align: right;\n",
       "    }\n",
       "</style>\n",
       "<table border=\"1\" class=\"dataframe\">\n",
       "  <thead>\n",
       "    <tr style=\"text-align: right;\">\n",
       "      <th></th>\n",
       "      <th>date</th>\n",
       "      <th>case_number</th>\n",
       "      <th>description</th>\n",
       "      <th>language</th>\n",
       "      <th>country</th>\n",
       "      <th>venue</th>\n",
       "      <th>abstract</th>\n",
       "      <th>procedure_type</th>\n",
       "      <th>authority</th>\n",
       "      <th>ecli</th>\n",
       "    </tr>\n",
       "  </thead>\n",
       "  <tbody>\n",
       "  </tbody>\n",
       "</table>\n",
       "</div>"
      ],
      "text/plain": [
       "Empty DataFrame\n",
       "Columns: [date, case_number, description, language, country, venue, abstract, procedure_type, authority, ecli]\n",
       "Index: []"
      ]
     },
     "metadata": {
      "tags": []
     },
     "execution_count": 21
    }
   ]
  },
  {
   "cell_type": "code",
   "metadata": {
    "id": "eS_l85rsaDXm"
   },
   "source": [
    "case_opinion.to_sql('case_opinion', con=engine, index=False, if_exists='append', chunksize = 100)\n",
    "del map_case_opinion\n",
    "del case_opinion"
   ],
   "execution_count": 22,
   "outputs": []
  },
  {
   "cell_type": "markdown",
   "metadata": {
    "id": "LxHXArxltWKj"
   },
   "source": [
    "---\n",
    "### Legal Intelligence Cases"
   ]
  },
  {
   "cell_type": "code",
   "metadata": {
    "id": "0TvX0nNktWKj"
   },
   "source": [
    "map_legal_intelligence_case = {\n",
    "    'ecli':'ecli',\n",
    "    'Title':'name',\n",
    "    'date':'date',\n",
    "    'abstract':'abstract',\n",
    "    'LawArea':'subject',\n",
    "    'Url':'link',\n",
    "    'DisplayTitle':'DisplayTitle',\n",
    "    'OriginalUrl':'OriginalUrl',\n",
    "    'Jurisdiction':'Jurisdiction',\n",
    "    'DocumentType':'DocumentType',\n",
    "    'case_number':'CaseNumber',\n",
    "    'PublicationNumber':'PublicationNumber',\n",
    "    'IssueNumber':'IssueNumber',\n",
    "    'lodge_date':'lodge_date',\n",
    "    'DateAdded':'DateAdded',\n",
    "    'Sources':'Sources',\n",
    "    'UrlWithAutoLogOnToken':'UrlWithAutoLogOnToken',\n",
    "    'authority':'court',\n",
    "    'DisplaySubtitle':'DisplaySubtitle'\n",
    "}\n",
    "\n",
    "legal_intelligence_case = df_li_cases[map_legal_intelligence_case.keys()].rename(columns=map_legal_intelligence_case)\n",
    "legal_intelligence_case['date'] = [pd.format_date(i, errors='coerce') if i != 'NULL' else pd.format_date('1900-01-01 00:00:00') for i in df_li_cases['date']]\n",
    "legal_intelligence_case['lodge_date'] = [pd.format_date(i, errors='coerce') if i != 'NULL' else pd.format_date('1900-01-01 00:00:00') for i in df_li_cases['lodge_date']]\n",
    "legal_intelligence_case['DateAdded'] = [pd.format_date(i, errors='coerce') if i != 'NULL' else pd.format_date('1900-01-01 00:00:00') for i in df_li_cases['DateAdded']]\n",
    "legal_intelligence_case['name'] = clean_strings(legal_intelligence_case['name'])\n",
    "legal_intelligence_case['abstract'] = clean_strings(legal_intelligence_case['abstract'])\n",
    "legal_intelligence_case['DisplayTitle'] = clean_strings(legal_intelligence_case['DisplayTitle'])\n",
    "legal_intelligence_case['court'] = clean_strings(legal_intelligence_case['court'])\n",
    "legal_intelligence_case['DisplaySubtitle'] = clean_strings(legal_intelligence_case['DisplaySubtitle'])"
   ],
   "execution_count": 23,
   "outputs": []
  },
  {
   "cell_type": "code",
   "metadata": {
    "id": "NVEFWh32VB6W",
    "colab": {
     "base_uri": "https://localhost:8080/",
     "height": 369
    },
    "outputId": "14370669-12c9-4567-cc52-eab0887dab4f"
   },
   "source": [
    "legal_intelligence_case.head(2)"
   ],
   "execution_count": 24,
   "outputs": [
    {
     "output_type": "execute_result",
     "data": {
      "text/html": [
       "<div>\n",
       "<style scoped>\n",
       "    .dataframe tbody tr th:only-of-type {\n",
       "        vertical-align: middle;\n",
       "    }\n",
       "\n",
       "    .dataframe tbody tr th {\n",
       "        vertical-align: top;\n",
       "    }\n",
       "\n",
       "    .dataframe thead th {\n",
       "        text-align: right;\n",
       "    }\n",
       "</style>\n",
       "<table border=\"1\" class=\"dataframe\">\n",
       "  <thead>\n",
       "    <tr style=\"text-align: right;\">\n",
       "      <th></th>\n",
       "      <th>ecli</th>\n",
       "      <th>name</th>\n",
       "      <th>date</th>\n",
       "      <th>abstract</th>\n",
       "      <th>subject</th>\n",
       "      <th>link</th>\n",
       "      <th>DisplayTitle</th>\n",
       "      <th>OriginalUrl</th>\n",
       "      <th>Jurisdiction</th>\n",
       "      <th>DocumentType</th>\n",
       "      <th>CaseNumber</th>\n",
       "      <th>PublicationNumber</th>\n",
       "      <th>IssueNumber</th>\n",
       "      <th>lodge_date</th>\n",
       "      <th>DateAdded</th>\n",
       "      <th>Sources</th>\n",
       "      <th>UrlWithAutoLogOnToken</th>\n",
       "      <th>court</th>\n",
       "      <th>DisplaySubtitle</th>\n",
       "    </tr>\n",
       "  </thead>\n",
       "  <tbody>\n",
       "    <tr>\n",
       "      <th>0</th>\n",
       "      <td>ECLI:NL:RVS:1996:AP7727</td>\n",
       "      <td>Casus Bij besluit van 12 april 1994 verlenen g...</td>\n",
       "      <td>1970-01-01 00:00:00.019960101</td>\n",
       "      <td>Casus Bij besluit van 12 april 1994 verlenen g...</td>\n",
       "      <td>['Ruimtelijk Bestuursrecht/Milieurecht/Energie...</td>\n",
       "      <td>http://www.legalintelligence.com/documents/496...</td>\n",
       "      <td>Casus Bij besluit van 12 april 1994 verlenen g...</td>\n",
       "      <td>https://www.navigator.nl/#/document/da785f3d8d...</td>\n",
       "      <td>Nederland</td>\n",
       "      <td>Rechtspraak</td>\n",
       "      <td>E03951413</td>\n",
       "      <td>NULL</td>\n",
       "      <td>NULL</td>\n",
       "      <td>1970-01-01 00:00:00.019960916</td>\n",
       "      <td>1970-01-01 00:00:00.020110520</td>\n",
       "      <td>Milieurecht Totaal</td>\n",
       "      <td>http://www.legalintelligence.com/documents/496...</td>\n",
       "      <td>Raad van State</td>\n",
       "      <td>Doorduijn, L.F. - Milieurecht Totaal - Module-...</td>\n",
       "    </tr>\n",
       "    <tr>\n",
       "      <th>1</th>\n",
       "      <td>ECLI:NL:RVS:1996:AP7883</td>\n",
       "      <td>M.N. Boeve Casus GS van Noord-Brabant hebben (...</td>\n",
       "      <td>1970-01-01 00:00:00.019960101</td>\n",
       "      <td>M.N. Boeve Casus GS van Noord-Brabant hebben (...</td>\n",
       "      <td>['Ruimtelijk Bestuursrecht/Milieurecht/Energie...</td>\n",
       "      <td>http://www.legalintelligence.com/documents/496...</td>\n",
       "      <td>M.N. Boeve Casus GS van Noord-Brabant hebben (...</td>\n",
       "      <td>https://www.navigator.nl/#/document/dae9667789...</td>\n",
       "      <td>Nederland</td>\n",
       "      <td>Rechtspraak</td>\n",
       "      <td>E01.94.0417 ECLI:NL:RVS:1996:AP7883</td>\n",
       "      <td>NULL</td>\n",
       "      <td>NULL</td>\n",
       "      <td>1970-01-01 00:00:00.019960708</td>\n",
       "      <td>1970-01-01 00:00:00.020110628</td>\n",
       "      <td>Milieurecht Totaal</td>\n",
       "      <td>http://www.legalintelligence.com/documents/496...</td>\n",
       "      <td>Raad van State</td>\n",
       "      <td>Boeve, M.N. - Milieurecht Totaal - Module-seri...</td>\n",
       "    </tr>\n",
       "  </tbody>\n",
       "</table>\n",
       "</div>"
      ],
      "text/plain": [
       "                      ecli  ...                                    DisplaySubtitle\n",
       "0  ECLI:NL:RVS:1996:AP7727  ...  Doorduijn, L.F. - Milieurecht Totaal - Module-...\n",
       "1  ECLI:NL:RVS:1996:AP7883  ...  Boeve, M.N. - Milieurecht Totaal - Module-seri...\n",
       "\n",
       "[2 rows x 19 columns]"
      ]
     },
     "metadata": {
      "tags": []
     },
     "execution_count": 24
    }
   ]
  },
  {
   "cell_type": "code",
   "metadata": {
    "id": "7h_MHenJajp_"
   },
   "source": [
    "legal_intelligence_case.to_sql('legal_intelligence_case', con=engine, index=False, if_exists='append', chunksize = 10)\n",
    "del map_legal_intelligence_case\n",
    "del legal_intelligence_case"
   ],
   "execution_count": 25,
   "outputs": []
  },
  {
   "cell_type": "markdown",
   "metadata": {
    "id": "5vkc3CBktWK4"
   },
   "source": [
    "---\n",
    "### Subjects"
   ]
  },
  {
   "cell_type": "code",
   "metadata": {
    "id": "M8esh5_8tWK4"
   },
   "source": [
    "subjects_as_list = [list(row.split(\"; \")) for row in df_case.subject]\n",
    "unique_subjects = \\\n",
    "    set(list(\n",
    "        pd.core.common\\\n",
    "            .flatten(subjects_as_list)))\n",
    "subject = pd.DataFrame()\n",
    "subject['name'] = clean_strings(list(sorted(unique_subjects)))\n",
    "subject.loc[:,'standard_name'] = 'NULL'"
   ],
   "execution_count": 26,
   "outputs": []
  },
  {
   "cell_type": "code",
   "metadata": {
    "id": "TipdHnoktWK-",
    "colab": {
     "base_uri": "https://localhost:8080/",
     "height": 111
    },
    "outputId": "819eda8d-01f3-4d2d-f5b5-da2e44ab1ef3"
   },
   "source": [
    "subject.head(2)"
   ],
   "execution_count": 27,
   "outputs": [
    {
     "output_type": "execute_result",
     "data": {
      "text/html": [
       "<div>\n",
       "<style scoped>\n",
       "    .dataframe tbody tr th:only-of-type {\n",
       "        vertical-align: middle;\n",
       "    }\n",
       "\n",
       "    .dataframe tbody tr th {\n",
       "        vertical-align: top;\n",
       "    }\n",
       "\n",
       "    .dataframe thead th {\n",
       "        text-align: right;\n",
       "    }\n",
       "</style>\n",
       "<table border=\"1\" class=\"dataframe\">\n",
       "  <thead>\n",
       "    <tr style=\"text-align: right;\">\n",
       "      <th></th>\n",
       "      <th>name</th>\n",
       "      <th>standard_name</th>\n",
       "    </tr>\n",
       "  </thead>\n",
       "  <tbody>\n",
       "    <tr>\n",
       "      <th>0</th>\n",
       "      <td>Ambtenarenrecht</td>\n",
       "      <td>NULL</td>\n",
       "    </tr>\n",
       "    <tr>\n",
       "      <th>1</th>\n",
       "      <td>Belastingrecht</td>\n",
       "      <td>NULL</td>\n",
       "    </tr>\n",
       "  </tbody>\n",
       "</table>\n",
       "</div>"
      ],
      "text/plain": [
       "              name standard_name\n",
       "0  Ambtenarenrecht          NULL\n",
       "1   Belastingrecht          NULL"
      ]
     },
     "metadata": {
      "tags": []
     },
     "execution_count": 27
    }
   ]
  },
  {
   "cell_type": "code",
   "metadata": {
    "id": "8OXYUAq2tWLA"
   },
   "source": [
    "subject.to_sql('subject', con=engine, index=False, if_exists='append', chunksize = 50)\n",
    "del subject"
   ],
   "execution_count": 28,
   "outputs": []
  },
  {
   "cell_type": "markdown",
   "metadata": {
    "id": "pFZtgHT3tWLQ"
   },
   "source": [
    "---\n",
    "### Case - Subject"
   ]
  },
  {
   "cell_type": "code",
   "metadata": {
    "id": "haBMouO6tWLR"
   },
   "source": [
    "df_subjects_case = df_case[['subject','case_id']]\n",
    "df_subjects_case.loc[:,'subject'] = subjects_as_list\n",
    "df_subjects_case = df_subjects_case.explode('subject')\n",
    "\n",
    "parents_ids_subjects = get_parent_ids('subject', 'name', df_subjects_case, 'subject')\n",
    "parents_ids_cases = get_parent_ids('case', 'ecli', df_subjects_case, 'case_id')\n",
    "case_subject = pd.DataFrame({'case_id':parents_ids_cases,\n",
    "                             'subject_id':parents_ids_subjects})\n",
    "#case_subject.sort_values(by='case_id').tail(50) #quality check\n",
    "#[(type(i), type(j)) for i,j in zip(case_subject.subject_id,case_subject.case_id)]"
   ],
   "execution_count": 29,
   "outputs": []
  },
  {
   "cell_type": "code",
   "metadata": {
    "id": "LcmECVpLtWLd",
    "colab": {
     "base_uri": "https://localhost:8080/",
     "height": 142
    },
    "outputId": "57cb3730-b543-4ded-a90a-cb89d0313674"
   },
   "source": [
    "case_subject.tail(3)"
   ],
   "execution_count": 30,
   "outputs": [
    {
     "output_type": "execute_result",
     "data": {
      "text/html": [
       "<div>\n",
       "<style scoped>\n",
       "    .dataframe tbody tr th:only-of-type {\n",
       "        vertical-align: middle;\n",
       "    }\n",
       "\n",
       "    .dataframe tbody tr th {\n",
       "        vertical-align: top;\n",
       "    }\n",
       "\n",
       "    .dataframe thead th {\n",
       "        text-align: right;\n",
       "    }\n",
       "</style>\n",
       "<table border=\"1\" class=\"dataframe\">\n",
       "  <thead>\n",
       "    <tr style=\"text-align: right;\">\n",
       "      <th></th>\n",
       "      <th>case_id</th>\n",
       "      <th>subject_id</th>\n",
       "    </tr>\n",
       "  </thead>\n",
       "  <tbody>\n",
       "    <tr>\n",
       "      <th>16109</th>\n",
       "      <td>15907</td>\n",
       "      <td>5</td>\n",
       "    </tr>\n",
       "    <tr>\n",
       "      <th>16110</th>\n",
       "      <td>15908</td>\n",
       "      <td>5</td>\n",
       "    </tr>\n",
       "    <tr>\n",
       "      <th>16111</th>\n",
       "      <td>15909</td>\n",
       "      <td>3</td>\n",
       "    </tr>\n",
       "  </tbody>\n",
       "</table>\n",
       "</div>"
      ],
      "text/plain": [
       "       case_id  subject_id\n",
       "16109    15907           5\n",
       "16110    15908           5\n",
       "16111    15909           3"
      ]
     },
     "metadata": {
      "tags": []
     },
     "execution_count": 30
    }
   ]
  },
  {
   "cell_type": "code",
   "metadata": {
    "id": "SF1lpvKVdc-x"
   },
   "source": [
    "case_subject.to_sql('case_subject', con=engine, index=False, if_exists='append', chunksize = 100)\n",
    "del df_subjects_case\n",
    "del case_subject"
   ],
   "execution_count": 31,
   "outputs": []
  },
  {
   "cell_type": "markdown",
   "metadata": {
    "id": "qXBQf1hwtWLn"
   },
   "source": [
    "---\n",
    "### Countries"
   ]
  },
  {
   "cell_type": "code",
   "metadata": {
    "id": "Jd71QMxBtWLp"
   },
   "source": [
    "df_country.loc[:,'language'] = 'NULL'\n",
    "df_country.loc[:,'eea'] = 0\n",
    "country = df_country[['country_id','name','language','flag','eu','eea']]\\\n",
    "  .rename(columns={'country_id':'id'})"
   ],
   "execution_count": 32,
   "outputs": []
  },
  {
   "cell_type": "code",
   "metadata": {
    "id": "lqYnSSd6tWLw",
    "colab": {
     "base_uri": "https://localhost:8080/",
     "height": 142
    },
    "outputId": "bdf63cc0-cc76-4400-9178-8b99dfe19937"
   },
   "source": [
    "country.head(3)"
   ],
   "execution_count": 33,
   "outputs": [
    {
     "output_type": "execute_result",
     "data": {
      "text/html": [
       "<div>\n",
       "<style scoped>\n",
       "    .dataframe tbody tr th:only-of-type {\n",
       "        vertical-align: middle;\n",
       "    }\n",
       "\n",
       "    .dataframe tbody tr th {\n",
       "        vertical-align: top;\n",
       "    }\n",
       "\n",
       "    .dataframe thead th {\n",
       "        text-align: right;\n",
       "    }\n",
       "</style>\n",
       "<table border=\"1\" class=\"dataframe\">\n",
       "  <thead>\n",
       "    <tr style=\"text-align: right;\">\n",
       "      <th></th>\n",
       "      <th>id</th>\n",
       "      <th>name</th>\n",
       "      <th>language</th>\n",
       "      <th>flag</th>\n",
       "      <th>eu</th>\n",
       "      <th>eea</th>\n",
       "    </tr>\n",
       "  </thead>\n",
       "  <tbody>\n",
       "    <tr>\n",
       "      <th>0</th>\n",
       "      <td>AT</td>\n",
       "      <td>Austria</td>\n",
       "      <td>NULL</td>\n",
       "      <td>https://www.countryflags.io/at/flat/64.png</td>\n",
       "      <td>1</td>\n",
       "      <td>0</td>\n",
       "    </tr>\n",
       "    <tr>\n",
       "      <th>1</th>\n",
       "      <td>BE</td>\n",
       "      <td>Belgium</td>\n",
       "      <td>NULL</td>\n",
       "      <td>https://www.countryflags.io/be/flat/64.png</td>\n",
       "      <td>1</td>\n",
       "      <td>0</td>\n",
       "    </tr>\n",
       "    <tr>\n",
       "      <th>2</th>\n",
       "      <td>BG</td>\n",
       "      <td>Bulgaria</td>\n",
       "      <td>NULL</td>\n",
       "      <td>https://www.countryflags.io/bg/flat/64.png</td>\n",
       "      <td>1</td>\n",
       "      <td>0</td>\n",
       "    </tr>\n",
       "  </tbody>\n",
       "</table>\n",
       "</div>"
      ],
      "text/plain": [
       "   id      name language                                        flag  eu  eea\n",
       "0  AT   Austria     NULL  https://www.countryflags.io/at/flat/64.png   1    0\n",
       "1  BE   Belgium     NULL  https://www.countryflags.io/be/flat/64.png   1    0\n",
       "2  BG  Bulgaria     NULL  https://www.countryflags.io/bg/flat/64.png   1    0"
      ]
     },
     "metadata": {
      "tags": []
     },
     "execution_count": 33
    }
   ]
  },
  {
   "cell_type": "code",
   "metadata": {
    "id": "7oc-edY9dooD"
   },
   "source": [
    "country.to_sql('country', con=engine, index=False, if_exists='append', chunksize = 50)\n",
    "del country"
   ],
   "execution_count": 34,
   "outputs": []
  },
  {
   "cell_type": "markdown",
   "metadata": {
    "id": "-s3NfgEvtWL2"
   },
   "source": [
    "---\n",
    "### Case - Country"
   ]
  },
  {
   "cell_type": "code",
   "metadata": {
    "id": "PubY-4U-tWL6"
   },
   "source": [
    "# df_country_case = df_case[['case_id','country']]\n",
    "# #df_country_case.loc[:,'country'] = as_list\n",
    "# df_country_case = df_country_case.explode('country')\n",
    "# len(df_country_case)"
   ],
   "execution_count": 35,
   "outputs": []
  },
  {
   "cell_type": "code",
   "metadata": {
    "id": "LK2_pgBpdv0B"
   },
   "source": [
    "# case_country.to_sql('case_country', con=engine, index=False, if_exists='append', chunksize = 100)"
   ],
   "execution_count": 36,
   "outputs": []
  },
  {
   "cell_type": "code",
   "metadata": {
    "id": "Jx2pO5-4pYFz"
   },
   "source": [
    "# del df_country_case\n",
    "# del case_country"
   ],
   "execution_count": 37,
   "outputs": []
  },
  {
   "cell_type": "markdown",
   "metadata": {
    "id": "FFVJaA7ftWML"
   },
   "source": [
    "---\n",
    "### Case law citation"
   ]
  },
  {
   "cell_type": "code",
   "metadata": {
    "id": "gxeFtBbUtWMN"
   },
   "source": [
    "df_case_citation['case_id'] = get_parent_ids('case', 'ecli', df_case_citation, 'source_ecli')\n",
    "\n",
    "map_case_citation = {\n",
    "    'source_ecli':'source_ecli',\n",
    "    'source_paragraph':'source_paragraph',\n",
    "    'target_ecli':'target_ecli',\n",
    "    'target_paragraph':'target_paragraph',\n",
    "    'case_id':'case_id'\n",
    "}\n",
    "case_citation = df_case_citation[map_case_citation.keys()].rename(columns=map_case_citation)"
   ],
   "execution_count": 38,
   "outputs": []
  },
  {
   "cell_type": "code",
   "metadata": {
    "id": "rJrFgf1JIVbF",
    "colab": {
     "base_uri": "https://localhost:8080/",
     "height": 111
    },
    "outputId": "cee2ced2-065b-4447-90a7-ffd1ee3c8253"
   },
   "source": [
    "case_citation.head(2)"
   ],
   "execution_count": 39,
   "outputs": [
    {
     "output_type": "execute_result",
     "data": {
      "text/html": [
       "<div>\n",
       "<style scoped>\n",
       "    .dataframe tbody tr th:only-of-type {\n",
       "        vertical-align: middle;\n",
       "    }\n",
       "\n",
       "    .dataframe tbody tr th {\n",
       "        vertical-align: top;\n",
       "    }\n",
       "\n",
       "    .dataframe thead th {\n",
       "        text-align: right;\n",
       "    }\n",
       "</style>\n",
       "<table border=\"1\" class=\"dataframe\">\n",
       "  <thead>\n",
       "    <tr style=\"text-align: right;\">\n",
       "      <th></th>\n",
       "      <th>source_ecli</th>\n",
       "      <th>source_paragraph</th>\n",
       "      <th>target_ecli</th>\n",
       "      <th>target_paragraph</th>\n",
       "      <th>case_id</th>\n",
       "    </tr>\n",
       "  </thead>\n",
       "  <tbody>\n",
       "    <tr>\n",
       "      <th>0</th>\n",
       "      <td>ECLI:NL:HR:1913:13</td>\n",
       "      <td>NULL</td>\n",
       "      <td>ECLI:NL:HR:1913:129</td>\n",
       "      <td>NULL</td>\n",
       "      <td>5</td>\n",
       "    </tr>\n",
       "    <tr>\n",
       "      <th>1</th>\n",
       "      <td>ECLI:NL:HR:1913:130</td>\n",
       "      <td>NULL</td>\n",
       "      <td>ECLI:NL:HR:1913:129</td>\n",
       "      <td>NULL</td>\n",
       "      <td>2</td>\n",
       "    </tr>\n",
       "  </tbody>\n",
       "</table>\n",
       "</div>"
      ],
      "text/plain": [
       "           source_ecli source_paragraph  ... target_paragraph case_id\n",
       "0   ECLI:NL:HR:1913:13             NULL  ...             NULL       5\n",
       "1  ECLI:NL:HR:1913:130             NULL  ...             NULL       2\n",
       "\n",
       "[2 rows x 5 columns]"
      ]
     },
     "metadata": {
      "tags": []
     },
     "execution_count": 39
    }
   ]
  },
  {
   "cell_type": "code",
   "metadata": {
    "id": "r2Z35cnAd2Nx"
   },
   "source": [
    "case_citation.to_sql('case_citation', con=engine, index=False, if_exists='append', chunksize = 100)\n",
    "del case_citation\n",
    "#del tuples"
   ],
   "execution_count": 40,
   "outputs": []
  },
  {
   "cell_type": "markdown",
   "metadata": {
    "id": "LhitopFHtWMb"
   },
   "source": [
    "---\n",
    "### Legislation citation"
   ]
  },
  {
   "cell_type": "code",
   "metadata": {
    "id": "EWUINeePtWMe"
   },
   "source": [
    "parent_ids = get_parent_ids('case', 'ecli', df_legislation_citation, 'source_ecli')\n",
    "df_legislation_citation['case_id'] = parent_ids\n",
    "df_legislation_citation.loc[:,'target_name'] = 'NULL'\n",
    "df_legislation_citation.loc[:,'target_sourcename'] = 'NULL'\n",
    "\n",
    "map_legislation_citation = {\n",
    "    'source_ecli':'source_ecli',\n",
    "    'source_paragraph':'source_paragraph',\n",
    "    'target_article':'target_id',\n",
    "    'target_article_paragraph':'target_paragraph',\n",
    "    'target_name':'target_name',\n",
    "    'target_sourcename':'target_sourcename',\n",
    "    'target_article_webpage':'target_link',\n",
    "    'case_id':'case_id'\n",
    "}\n",
    "legislation_citation = df_legislation_citation[map_legislation_citation.keys()].rename(columns=map_legislation_citation)"
   ],
   "execution_count": 41,
   "outputs": []
  },
  {
   "cell_type": "code",
   "metadata": {
    "id": "8IYe3WsxWKY_",
    "colab": {
     "base_uri": "https://localhost:8080/",
     "height": 142
    },
    "outputId": "5a99b6fb-9ecf-42ec-bb42-34881ec797f3"
   },
   "source": [
    "legislation_citation.head(3)"
   ],
   "execution_count": 42,
   "outputs": [
    {
     "output_type": "execute_result",
     "data": {
      "text/html": [
       "<div>\n",
       "<style scoped>\n",
       "    .dataframe tbody tr th:only-of-type {\n",
       "        vertical-align: middle;\n",
       "    }\n",
       "\n",
       "    .dataframe tbody tr th {\n",
       "        vertical-align: top;\n",
       "    }\n",
       "\n",
       "    .dataframe thead th {\n",
       "        text-align: right;\n",
       "    }\n",
       "</style>\n",
       "<table border=\"1\" class=\"dataframe\">\n",
       "  <thead>\n",
       "    <tr style=\"text-align: right;\">\n",
       "      <th></th>\n",
       "      <th>source_ecli</th>\n",
       "      <th>source_paragraph</th>\n",
       "      <th>target_id</th>\n",
       "      <th>target_paragraph</th>\n",
       "      <th>target_name</th>\n",
       "      <th>target_sourcename</th>\n",
       "      <th>target_link</th>\n",
       "      <th>case_id</th>\n",
       "    </tr>\n",
       "  </thead>\n",
       "  <tbody>\n",
       "    <tr>\n",
       "      <th>0</th>\n",
       "      <td>ECLI:NL:GHAMS:1962:AX8440</td>\n",
       "      <td>NULL</td>\n",
       "      <td>http://linkeddata.overheid.nl/terms/bwb/id/BWB...</td>\n",
       "      <td>NULL</td>\n",
       "      <td>NULL</td>\n",
       "      <td>NULL</td>\n",
       "      <td>http://wetten.overheid.nl/id/BWBR0005537/2016-...</td>\n",
       "      <td>8354</td>\n",
       "    </tr>\n",
       "    <tr>\n",
       "      <th>1</th>\n",
       "      <td>ECLI:NL:GHAMS:1962:AX8440</td>\n",
       "      <td>NULL</td>\n",
       "      <td>http://linkeddata.overheid.nl/terms/bwb/id/BWB...</td>\n",
       "      <td>NULL</td>\n",
       "      <td>NULL</td>\n",
       "      <td>NULL</td>\n",
       "      <td>http://wetten.overheid.nl/id/BWBR0005537/2009-...</td>\n",
       "      <td>8354</td>\n",
       "    </tr>\n",
       "    <tr>\n",
       "      <th>2</th>\n",
       "      <td>ECLI:NL:GHAMS:1962:AX8440</td>\n",
       "      <td>NULL</td>\n",
       "      <td>http://linkeddata.overheid.nl/terms/bwb/id/BWB...</td>\n",
       "      <td>NULL</td>\n",
       "      <td>NULL</td>\n",
       "      <td>NULL</td>\n",
       "      <td>http://wetten.overheid.nl/id/BWBR0005537/2018-...</td>\n",
       "      <td>8354</td>\n",
       "    </tr>\n",
       "  </tbody>\n",
       "</table>\n",
       "</div>"
      ],
      "text/plain": [
       "                 source_ecli  ... case_id\n",
       "0  ECLI:NL:GHAMS:1962:AX8440  ...    8354\n",
       "1  ECLI:NL:GHAMS:1962:AX8440  ...    8354\n",
       "2  ECLI:NL:GHAMS:1962:AX8440  ...    8354\n",
       "\n",
       "[3 rows x 8 columns]"
      ]
     },
     "metadata": {
      "tags": []
     },
     "execution_count": 42
    }
   ]
  },
  {
   "cell_type": "code",
   "metadata": {
    "id": "Omc_uUkNd7Pr"
   },
   "source": [
    "legislation_citation.to_sql('legislation_citation', con=engine, index=False, if_exists='append', chunksize = 100)"
   ],
   "execution_count": 43,
   "outputs": []
  },
  {
   "cell_type": "code",
   "metadata": {
    "id": "OPASAQjlpuBD"
   },
   "source": [
    "del legislation_citation"
   ],
   "execution_count": 44,
   "outputs": []
  },
  {
   "cell_type": "markdown",
   "metadata": {
    "id": "VxvVGqYjtWMq"
   },
   "source": [
    "---\n",
    "### Case related decision"
   ]
  },
  {
   "cell_type": "code",
   "metadata": {
    "id": "z4GdXL8jtWMr"
   },
   "source": [
    "df_case_related = df_case[['case_id','related_cases']]\\\n",
    "    .rename(columns = {'case_id':'source_ecli', \n",
    "                       'related_cases': 'referencing_case_ecli'})\n",
    "df_case_related['case_id'] = get_parent_ids('case', 'ecli', df_case_related, 'source_ecli')\n",
    "df_case_related.loc[:,'referenced_case_ecli'] = 'NULL'\n",
    "\n",
    "map_case_related_decision = {\n",
    "    'source_ecli':'source_ecli',\n",
    "    'referencing_case_ecli':'referencing_case_ecli',\n",
    "    'referenced_case_ecli':'referenced_case_ecli',\n",
    "    'case_id':'case_id'\n",
    "    }\n",
    "\n",
    "case_related_decision = df_case_related[map_case_related_decision.keys()].rename(columns=map_case_related_decision)"
   ],
   "execution_count": 45,
   "outputs": []
  },
  {
   "cell_type": "code",
   "metadata": {
    "id": "ndxUtbA0tWM3",
    "colab": {
     "base_uri": "https://localhost:8080/",
     "height": 142
    },
    "outputId": "974cddee-850e-4218-a9c6-81d46b1ac927"
   },
   "source": [
    "case_related_decision.head(3)"
   ],
   "execution_count": 46,
   "outputs": [
    {
     "output_type": "execute_result",
     "data": {
      "text/html": [
       "<div>\n",
       "<style scoped>\n",
       "    .dataframe tbody tr th:only-of-type {\n",
       "        vertical-align: middle;\n",
       "    }\n",
       "\n",
       "    .dataframe tbody tr th {\n",
       "        vertical-align: top;\n",
       "    }\n",
       "\n",
       "    .dataframe thead th {\n",
       "        text-align: right;\n",
       "    }\n",
       "</style>\n",
       "<table border=\"1\" class=\"dataframe\">\n",
       "  <thead>\n",
       "    <tr style=\"text-align: right;\">\n",
       "      <th></th>\n",
       "      <th>source_ecli</th>\n",
       "      <th>referencing_case_ecli</th>\n",
       "      <th>referenced_case_ecli</th>\n",
       "      <th>case_id</th>\n",
       "    </tr>\n",
       "  </thead>\n",
       "  <tbody>\n",
       "    <tr>\n",
       "      <th>43</th>\n",
       "      <td>ECLI:NL:HR:1913:132</td>\n",
       "      <td>NULL</td>\n",
       "      <td>NULL</td>\n",
       "      <td>1</td>\n",
       "    </tr>\n",
       "    <tr>\n",
       "      <th>60</th>\n",
       "      <td>ECLI:NL:HR:1913:130</td>\n",
       "      <td>NULL</td>\n",
       "      <td>NULL</td>\n",
       "      <td>2</td>\n",
       "    </tr>\n",
       "    <tr>\n",
       "      <th>63</th>\n",
       "      <td>ECLI:NL:HR:1913:134</td>\n",
       "      <td>NULL</td>\n",
       "      <td>NULL</td>\n",
       "      <td>3</td>\n",
       "    </tr>\n",
       "  </tbody>\n",
       "</table>\n",
       "</div>"
      ],
      "text/plain": [
       "            source_ecli referencing_case_ecli referenced_case_ecli  case_id\n",
       "43  ECLI:NL:HR:1913:132                  NULL                 NULL        1\n",
       "60  ECLI:NL:HR:1913:130                  NULL                 NULL        2\n",
       "63  ECLI:NL:HR:1913:134                  NULL                 NULL        3"
      ]
     },
     "metadata": {
      "tags": []
     },
     "execution_count": 46
    }
   ]
  },
  {
   "cell_type": "code",
   "metadata": {
    "id": "T1sxp0GweEIf"
   },
   "source": [
    "case_related_decision.to_sql('case_related_decision', con=engine, index=False, if_exists='append', chunksize = 100)\n",
    "del case_related_decision"
   ],
   "execution_count": 47,
   "outputs": []
  }
 ]
}