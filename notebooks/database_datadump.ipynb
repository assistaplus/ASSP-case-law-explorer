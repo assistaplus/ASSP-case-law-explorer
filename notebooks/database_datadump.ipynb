{
 "cells": [
  {
   "cell_type": "markdown",
   "metadata": {},
   "source": [
    "## Data flow to mysql"
   ]
  },
  {
   "cell_type": "code",
   "execution_count": 1,
   "metadata": {},
   "outputs": [],
   "source": [
    "import mysql.connector as mdb\n",
    "from mysql.connector import Error\n",
    "import sys, traceback"
   ]
  },
  {
   "cell_type": "code",
   "execution_count": 2,
   "metadata": {},
   "outputs": [],
   "source": [
    "def open_database(host, db_name, username, password):\n",
    "    try:\n",
    "        connection = mdb.connect(host=host,\n",
    "                                 database=db_name,\n",
    "                                 user=username,\n",
    "                                 password=password)\n",
    "        if connection.is_connected():\n",
    "           db_Info = connection.get_server_info()\n",
    "           print(\"Connected to MySQL database... MySQL Server version on \",db_Info)\n",
    "           cursor = connection.cursor()\n",
    "           cursor.execute(\"select database();\")\n",
    "           record = cursor.fetchone()\n",
    "           print (\"Your connected to - \", record)\n",
    "           cursor.close()\n",
    "    except Error as e :\n",
    "        print (\"Error while connecting to MySQL\", e)\n",
    "    return connection"
   ]
  },
  {
   "cell_type": "code",
   "execution_count": 3,
   "metadata": {},
   "outputs": [],
   "source": [
    "def close_database(connection):\n",
    "    #closing database connection.\n",
    "    if(connection.is_connected()):\n",
    "        connection.close()\n",
    "        print(\"MySQL connection is closed\")"
   ]
  },
  {
   "cell_type": "code",
   "execution_count": 51,
   "metadata": {},
   "outputs": [
    {
     "name": "stdout",
     "output_type": "stream",
     "text": [
      "Connected to MySQL database... MySQL Server version on  8.0.15\n",
      "Your connected to -  ('caselaw',)\n"
     ]
    }
   ],
   "source": [
    "conn = open_database('localhost', 'caselaw', 'root', 'H3rnandez!')"
   ]
  },
  {
   "cell_type": "code",
   "execution_count": 30,
   "metadata": {},
   "outputs": [
    {
     "name": "stdout",
     "output_type": "stream",
     "text": [
      "None\n"
     ]
    }
   ],
   "source": [
    "query = \"\"\"SELECT * FROM caselaw.case LIMIT 10;\"\"\"\n",
    "cursor = conn.cursor()\n",
    "print(cursor.execute(query))"
   ]
  },
  {
   "cell_type": "markdown",
   "metadata": {},
   "source": [
    "---\n",
    "### Datasets"
   ]
  },
  {
   "cell_type": "code",
   "execution_count": 4,
   "metadata": {},
   "outputs": [],
   "source": [
    "import pandas as pd\n",
    "import numpy as np"
   ]
  },
  {
   "cell_type": "code",
   "execution_count": 5,
   "metadata": {},
   "outputs": [
    {
     "name": "stdout",
     "output_type": "stream",
     "text": [
      "case.csv                               countries.csv\r\n",
      "case_opinion_from_advocate_general.csv legal_intelligence_cases.csv\r\n",
      "caselaw_citations.csv                  legislation_citations.csv\r\n",
      "cases_metadata.csv\r\n"
     ]
    }
   ],
   "source": [
    "!ls ../data_dump"
   ]
  },
  {
   "cell_type": "code",
   "execution_count": 48,
   "metadata": {},
   "outputs": [],
   "source": [
    "df_case = pd.read_csv(\"../data_dump/case.csv\").replace(np.nan, 'NULL', regex=True)\n",
    "df_country = pd.read_csv(\"../data_dump/countries.csv\").replace(np.nan, 'NULL', regex=True)\n",
    "df_li_cases = pd.read_csv(\"../data_dump/legal_intelligence_cases.csv\").replace(np.nan, 'NULL', regex=True)\n",
    "df_case_opinion = pd.read_csv(\"../data_dump/case_opinion_from_advocate_general.csv\").replace(np.nan, 'NULL', regex=True)\n",
    "df_case_citation = pd.read_csv(\"../data_dump/caselaw_citations.csv\").replace(np.nan, 'NULL', regex=True)\n",
    "df_legislation_citation = pd.read_csv(\"../data_dump/legislation_citations.csv\").replace(np.nan, 'NULL', regex=True)"
   ]
  },
  {
   "cell_type": "code",
   "execution_count": 105,
   "metadata": {},
   "outputs": [
    {
     "data": {
      "text/html": [
       "<div>\n",
       "<style scoped>\n",
       "    .dataframe tbody tr th:only-of-type {\n",
       "        vertical-align: middle;\n",
       "    }\n",
       "\n",
       "    .dataframe tbody tr th {\n",
       "        vertical-align: top;\n",
       "    }\n",
       "\n",
       "    .dataframe thead th {\n",
       "        text-align: right;\n",
       "    }\n",
       "</style>\n",
       "<table border=\"1\" class=\"dataframe\">\n",
       "  <thead>\n",
       "    <tr style=\"text-align: right;\">\n",
       "      <th></th>\n",
       "      <th>case_id</th>\n",
       "      <th>date</th>\n",
       "      <th>case_number</th>\n",
       "      <th>description</th>\n",
       "      <th>language</th>\n",
       "      <th>venue</th>\n",
       "      <th>abstract</th>\n",
       "      <th>procedure_type</th>\n",
       "      <th>lodge_date</th>\n",
       "      <th>country</th>\n",
       "      <th>...</th>\n",
       "      <th>abstract.1</th>\n",
       "      <th>procedure_type.1</th>\n",
       "      <th>lodge_date.1</th>\n",
       "      <th>country.1</th>\n",
       "      <th>subject.1</th>\n",
       "      <th>authority.1</th>\n",
       "      <th>legal_references.1</th>\n",
       "      <th>related_cases.1</th>\n",
       "      <th>alternative_sources.1</th>\n",
       "      <th>full_text</th>\n",
       "    </tr>\n",
       "  </thead>\n",
       "  <tbody>\n",
       "  </tbody>\n",
       "</table>\n",
       "<p>0 rows × 31 columns</p>\n",
       "</div>"
      ],
      "text/plain": [
       "Empty DataFrame\n",
       "Columns: [case_id, date, case_number, description, language, venue, abstract, procedure_type, lodge_date, country, subject, authority, legal_references, related_cases, alternative_sources, full_textcase_id, date.1, case_number.1, description.1, language.1, venue.1, abstract.1, procedure_type.1, lodge_date.1, country.1, subject.1, authority.1, legal_references.1, related_cases.1, alternative_sources.1, full_text]\n",
       "Index: []\n",
       "\n",
       "[0 rows x 31 columns]"
      ]
     },
     "execution_count": 105,
     "metadata": {},
     "output_type": "execute_result"
    }
   ],
   "source": [
    "df_case_opinion.head()"
   ]
  },
  {
   "cell_type": "markdown",
   "metadata": {},
   "source": [
    "## change LI Ecli to not underscores"
   ]
  },
  {
   "cell_type": "markdown",
   "metadata": {},
   "source": [
    " I leave this as a piece of code for now, but I guess we can simply save the updated li_dataframe so that we dont have to run this everytime. "
   ]
  },
  {
   "cell_type": "code",
   "execution_count": 49,
   "metadata": {},
   "outputs": [],
   "source": [
    "for i, li_case in df_li_cases.iterrows():\n",
    "    #get the ecli number\n",
    "    ecli = li_case.ecli\n",
    "    #replace the underscores\n",
    "    new_ecli = ecli.replace('_', ':')\n",
    "    #save the new ecli in the dataframe\n",
    "    df_li_cases.at[i, 'ecli'] = new_ecli"
   ]
  },
  {
   "cell_type": "markdown",
   "metadata": {},
   "source": [
    "---\n",
    "### Sample to run the procedure"
   ]
  },
  {
   "cell_type": "code",
   "execution_count": 93,
   "metadata": {},
   "outputs": [],
   "source": [
    "sample_size = 10000\n",
    "#list of ecli numbers we choose for our sample\n",
    "sample = list(df_case['case_id'].sample(n=sample_size, random_state=8))"
   ]
  },
  {
   "cell_type": "code",
   "execution_count": 78,
   "metadata": {},
   "outputs": [],
   "source": [
    "#compare case opinion and cases on ecli cause it seems like there is no overlap \n",
    "#case_eclis = df_case['case_id'].values\n",
    "#opinion_eclis = df_case_opinion['case_id'].values"
   ]
  },
  {
   "cell_type": "code",
   "execution_count": 98,
   "metadata": {},
   "outputs": [
    {
     "data": {
      "text/plain": [
       "10000"
      ]
     },
     "execution_count": 98,
     "metadata": {},
     "output_type": "execute_result"
    }
   ],
   "source": [
    "##0: case sample\n",
    "df_case_sp = df_case[df_case['case_id'].isin(sample)]\n",
    "len(df_case_sp)"
   ]
  },
  {
   "cell_type": "code",
   "execution_count": 94,
   "metadata": {},
   "outputs": [
    {
     "data": {
      "text/plain": [
       "134"
      ]
     },
     "execution_count": 94,
     "metadata": {},
     "output_type": "execute_result"
    }
   ],
   "source": [
    "##1: legislation citations sample\n",
    "df_legislation_citation_sp = df_legislation_citation[df_legislation_citation['source_ecli'].isin(sample)]\n",
    "len(df_legislation_citation_sp)"
   ]
  },
  {
   "cell_type": "code",
   "execution_count": 95,
   "metadata": {},
   "outputs": [
    {
     "data": {
      "text/plain": [
       "2895"
      ]
     },
     "execution_count": 95,
     "metadata": {},
     "output_type": "execute_result"
    }
   ],
   "source": [
    "##2: case citations sample\n",
    "df_case_citation_sp = df_case_citation[df_case_citation['source_ecli'].isin(sample)]\n",
    "len(df_case_citation_sp)"
   ]
  },
  {
   "cell_type": "code",
   "execution_count": 96,
   "metadata": {},
   "outputs": [
    {
     "data": {
      "text/plain": [
       "0"
      ]
     },
     "execution_count": 96,
     "metadata": {},
     "output_type": "execute_result"
    }
   ],
   "source": [
    "##3: case opinions sample\n",
    "df_case_opinion_sp = df_case_opinion[df_case_opinion['case_id'].isin(sample)]\n",
    "len(df_case_opinion_sp)"
   ]
  },
  {
   "cell_type": "code",
   "execution_count": 97,
   "metadata": {},
   "outputs": [
    {
     "data": {
      "text/plain": [
       "46"
      ]
     },
     "execution_count": 97,
     "metadata": {},
     "output_type": "execute_result"
    }
   ],
   "source": [
    "##4: li cases sample\n",
    "df_li_cases_sp = df_li_cases[df_li_cases['ecli'].isin(sample)]\n",
    "len(df_li_cases_sp)"
   ]
  },
  {
   "cell_type": "code",
   "execution_count": 99,
   "metadata": {},
   "outputs": [],
   "source": [
    "#change names \n",
    "df_case = df_case_sp\n",
    "df_legislation_citation = df_legislation_citation_sp\n",
    "df_case_citation = df_case_citation_sp\n",
    "df_case_opinion = df_case_opinion_sp\n",
    "df_li_cases = df_li_cases_sp\n"
   ]
  },
  {
   "cell_type": "markdown",
   "metadata": {},
   "source": [
    "---\n",
    "### Utils"
   ]
  },
  {
   "cell_type": "code",
   "execution_count": 33,
   "metadata": {},
   "outputs": [],
   "source": [
    "def to_tuples(df):\n",
    "    return [tuple(x) for x in df.values]"
   ]
  },
  {
   "cell_type": "code",
   "execution_count": 54,
   "metadata": {},
   "outputs": [],
   "source": [
    "def clean_table_sql(table_name):\n",
    "    try:\n",
    "        cursor1 = conn.cursor(buffered=True)\n",
    "        query1 = \"\"\"DELETE FROM `{}`;\"\"\".format(table_name)\n",
    "        cursor1.execute(query1)\n",
    "        cursor2 = conn.cursor(buffered=True)\n",
    "        query2 = \"\"\"ALTER TABLE `{}` AUTO_INCREMENT = 1;\"\"\".format(table_name)\n",
    "        cursor2.execute(query2)\n",
    "        conn.commit()\n",
    "    except Error as error :\n",
    "        conn.rollback()\n",
    "        print(\"Failed to delete MySQL table {}\".format(error))\n",
    "        traceback.print_exc(file=sys.stdout)"
   ]
  },
  {
   "cell_type": "code",
   "execution_count": 35,
   "metadata": {},
   "outputs": [],
   "source": [
    "def get_parent_ids(df, columnname):    \n",
    "    pid = []\n",
    "    cursor = conn .cursor()\n",
    "    for idx, data in enumerate(df[columnname]):\n",
    "        if '\"' in data:\n",
    "            sql_select_Query = \"SELECT id FROM court WHERE name = '{}'\".format(data)\n",
    "            datum = data\n",
    "        else:\n",
    "            sql_select_Query = \"SELECT id FROM court WHERE name = \\\"{}\\\"\".format(data)\n",
    "            datum = data\n",
    "        cursor.execute(sql_select_Query)\n",
    "        records = cursor.fetchall()\n",
    "        if(len(records) == 0):\n",
    "            print('no records')\n",
    "        #print(idx, records)\n",
    "        #print(sql_select_Query)\n",
    "        pid.append(records[0][0])\n",
    "    cursor.close()\n",
    "    return pid"
   ]
  },
  {
   "cell_type": "markdown",
   "metadata": {},
   "source": [
    "---\n",
    "### Tables Hierarchies"
   ]
  },
  {
   "cell_type": "markdown",
   "metadata": {},
   "source": [
    "1. Court\n",
    "2. Case\n",
    "3. Case Opinion\n",
    "4. LI Case\n",
    "5. Subject\n",
    "6. Case subject\n",
    "7. Country\n",
    "8. Case country\n",
    "9. Case citation\n",
    "10. Legislation citation\n",
    "11. Case related decision\n"
   ]
  },
  {
   "cell_type": "markdown",
   "metadata": {},
   "source": [
    "---\n",
    "### Courts"
   ]
  },
  {
   "cell_type": "code",
   "execution_count": 36,
   "metadata": {},
   "outputs": [],
   "source": [
    "court = pd.DataFrame()"
   ]
  },
  {
   "cell_type": "code",
   "execution_count": 37,
   "metadata": {},
   "outputs": [],
   "source": [
    "courts_list = df_case.authority.unique()\n",
    "#court['id'] = range(1, len(courts_list)+1)\n",
    "court['name'] = courts_list"
   ]
  },
  {
   "cell_type": "code",
   "execution_count": 38,
   "metadata": {},
   "outputs": [],
   "source": [
    "#dummies\n",
    "court.loc[:,'type'] = 'NULL'\n",
    "court.loc[:,'level'] = 'NULL'\n",
    "#court.loc[:,'country'] = 'NULL' #VARCHAR(2)\n",
    "#court.loc[:,'language'] = 'NULL' #VARCHAR(2)\n",
    "court.loc[:,'jurisdiction'] = 'NULL' \n",
    "court.loc[:,'law_area'] = 'NULL'\n",
    "court.loc[:,'authority_level'] = 'NULL'"
   ]
  },
  {
   "cell_type": "code",
   "execution_count": 39,
   "metadata": {},
   "outputs": [
    {
     "data": {
      "text/html": [
       "<div>\n",
       "<style scoped>\n",
       "    .dataframe tbody tr th:only-of-type {\n",
       "        vertical-align: middle;\n",
       "    }\n",
       "\n",
       "    .dataframe tbody tr th {\n",
       "        vertical-align: top;\n",
       "    }\n",
       "\n",
       "    .dataframe thead th {\n",
       "        text-align: right;\n",
       "    }\n",
       "</style>\n",
       "<table border=\"1\" class=\"dataframe\">\n",
       "  <thead>\n",
       "    <tr style=\"text-align: right;\">\n",
       "      <th></th>\n",
       "      <th>name</th>\n",
       "      <th>type</th>\n",
       "      <th>level</th>\n",
       "      <th>jurisdiction</th>\n",
       "      <th>law_area</th>\n",
       "      <th>authority_level</th>\n",
       "    </tr>\n",
       "  </thead>\n",
       "  <tbody>\n",
       "    <tr>\n",
       "      <td>0</td>\n",
       "      <td>Gerechtshof Amsterdam</td>\n",
       "      <td>NULL</td>\n",
       "      <td>NULL</td>\n",
       "      <td>NULL</td>\n",
       "      <td>NULL</td>\n",
       "      <td>NULL</td>\n",
       "    </tr>\n",
       "    <tr>\n",
       "      <td>1</td>\n",
       "      <td>Gerechtshof Arnhem</td>\n",
       "      <td>NULL</td>\n",
       "      <td>NULL</td>\n",
       "      <td>NULL</td>\n",
       "      <td>NULL</td>\n",
       "      <td>NULL</td>\n",
       "    </tr>\n",
       "  </tbody>\n",
       "</table>\n",
       "</div>"
      ],
      "text/plain": [
       "                    name  type level jurisdiction law_area authority_level\n",
       "0  Gerechtshof Amsterdam  NULL  NULL         NULL     NULL            NULL\n",
       "1     Gerechtshof Arnhem  NULL  NULL         NULL     NULL            NULL"
      ]
     },
     "execution_count": 39,
     "metadata": {},
     "output_type": "execute_result"
    }
   ],
   "source": [
    "court.head(2)"
   ]
  },
  {
   "cell_type": "code",
   "execution_count": 40,
   "metadata": {},
   "outputs": [],
   "source": [
    "tuples = to_tuples(court)"
   ]
  },
  {
   "cell_type": "code",
   "execution_count": 55,
   "metadata": {},
   "outputs": [],
   "source": [
    "clean_table_sql('court')"
   ]
  },
  {
   "cell_type": "code",
   "execution_count": 56,
   "metadata": {},
   "outputs": [
    {
     "name": "stdout",
     "output_type": "stream",
     "text": [
      "Court table created\n"
     ]
    }
   ],
   "source": [
    "try:  \n",
    "    cursor = conn.cursor()\n",
    "    for idx, data in enumerate(tuples):\n",
    "        if \"'\" in data[0]:\n",
    "            query = \"\"\"\n",
    "            INSERT INTO `court` (name, type, level, jurisdiction, law_area, authority_level)\n",
    "            VALUES (\\\"%s\\\", %s, %s, %s, %s, %s)\n",
    "            \"\"\"%data\n",
    "        else:\n",
    "            query = \"\"\"\n",
    "            INSERT INTO `court` (name, type, level, jurisdiction, law_area, authority_level)\n",
    "            VALUES ('%s', %s, %s, %s, %s, %s)\n",
    "            \"\"\"%data\n",
    "        #print(idx, query)\n",
    "        result  = cursor.execute(query)\n",
    "    conn.commit()\n",
    "    cursor.close()\n",
    "    print('Court table created')\n",
    "except Error as error :\n",
    "    conn.rollback()\n",
    "    print(\"Failed to insert into MySQL table {}\".format(error))\n",
    "    traceback.print_exc(file=sys.stdout)"
   ]
  },
  {
   "cell_type": "code",
   "execution_count": 57,
   "metadata": {},
   "outputs": [
    {
     "data": {
      "text/plain": [
       "82"
      ]
     },
     "execution_count": 57,
     "metadata": {},
     "output_type": "execute_result"
    }
   ],
   "source": [
    "len(court)"
   ]
  },
  {
   "cell_type": "markdown",
   "metadata": {},
   "source": [
    "---\n",
    "### Case"
   ]
  },
  {
   "cell_type": "code",
   "execution_count": 79,
   "metadata": {},
   "outputs": [],
   "source": [
    "case = pd.DataFrame()\n",
    "case_columns = ['date',\n",
    "        'description',\n",
    "        'language',\n",
    "        'venue',\n",
    "        'abstract',\n",
    "        'procedure_type',\n",
    "        'lodge_date',\n",
    "        'link',\n",
    "        'ecli']"
   ]
  },
  {
   "cell_type": "code",
   "execution_count": 80,
   "metadata": {},
   "outputs": [],
   "source": [
    "temp = df_case[['date',\n",
    "                'description',\n",
    "                'language',\n",
    "                'venue',\n",
    "                'abstract',\n",
    "                'procedure_type',\n",
    "                'lodge_date',\n",
    "                'alternative_sources',\n",
    "                'case_id']]\n",
    "temp.columns = case_columns\n",
    "case = case.append(temp, ignore_index=True)"
   ]
  },
  {
   "cell_type": "code",
   "execution_count": 82,
   "metadata": {},
   "outputs": [],
   "source": [
    "parents_ids = get_parent_ids(df_case, 'authority')\n",
    "#around 20 mins"
   ]
  },
  {
   "cell_type": "code",
   "execution_count": 84,
   "metadata": {},
   "outputs": [],
   "source": [
    "case['name'] = 'NULL'\n",
    "case['court_id'] = parents_ids\n",
    "case['date'] = pd.to_datetime(case['date'], errors='coerce')\n",
    "case['date'] = [pd.to_datetime(i) if i != 'NULL' else pd.to_datetime('1900-01-01 00:00:00') for i in case['date']]\n",
    "case['lodge_date'] = [pd.to_datetime(i) if i != 'NULL' else pd.to_datetime('1900-01-01 00:00:00') for i in case['lodge_date']]"
   ]
  },
  {
   "cell_type": "code",
   "execution_count": 85,
   "metadata": {},
   "outputs": [],
   "source": [
    "#check this one\n",
    "case['link'] = [i[0:250] for i in case['link']]"
   ]
  },
  {
   "cell_type": "code",
   "execution_count": 81,
   "metadata": {},
   "outputs": [
    {
     "data": {
      "text/html": [
       "<div>\n",
       "<style scoped>\n",
       "    .dataframe tbody tr th:only-of-type {\n",
       "        vertical-align: middle;\n",
       "    }\n",
       "\n",
       "    .dataframe tbody tr th {\n",
       "        vertical-align: top;\n",
       "    }\n",
       "\n",
       "    .dataframe thead th {\n",
       "        text-align: right;\n",
       "    }\n",
       "</style>\n",
       "<table border=\"1\" class=\"dataframe\">\n",
       "  <thead>\n",
       "    <tr style=\"text-align: right;\">\n",
       "      <th></th>\n",
       "      <th>date</th>\n",
       "      <th>description</th>\n",
       "      <th>language</th>\n",
       "      <th>venue</th>\n",
       "      <th>abstract</th>\n",
       "      <th>procedure_type</th>\n",
       "      <th>lodge_date</th>\n",
       "      <th>link</th>\n",
       "      <th>ecli</th>\n",
       "    </tr>\n",
       "  </thead>\n",
       "  <tbody>\n",
       "    <tr>\n",
       "      <td>0</td>\n",
       "      <td>1913-03-31</td>\n",
       "      <td>NULL</td>\n",
       "      <td>NL</td>\n",
       "      <td>NULL</td>\n",
       "      <td>NULL</td>\n",
       "      <td>NULL</td>\n",
       "      <td>NULL</td>\n",
       "      <td>\\n        \\n          &lt;rdf:list xmlns:rdf=\"htt...</td>\n",
       "      <td>ECLI:NL:GHAMS:1913:15</td>\n",
       "    </tr>\n",
       "    <tr>\n",
       "      <td>1</td>\n",
       "      <td>1913-02-28</td>\n",
       "      <td>NULL</td>\n",
       "      <td>NL</td>\n",
       "      <td>NULL</td>\n",
       "      <td>NULL</td>\n",
       "      <td>NULL</td>\n",
       "      <td>NULL</td>\n",
       "      <td>\\n        \\n          &lt;rdf:list xmlns:rdf=\"htt...</td>\n",
       "      <td>ECLI:NL:GHAMS:1913:28</td>\n",
       "    </tr>\n",
       "    <tr>\n",
       "      <td>2</td>\n",
       "      <td>1913-03-17</td>\n",
       "      <td>NULL</td>\n",
       "      <td>NL</td>\n",
       "      <td>NULL</td>\n",
       "      <td>NULL</td>\n",
       "      <td>NULL</td>\n",
       "      <td>NULL</td>\n",
       "      <td>\\n        \\n          &lt;rdf:list xmlns:rdf=\"htt...</td>\n",
       "      <td>ECLI:NL:GHAMS:1913:19</td>\n",
       "    </tr>\n",
       "    <tr>\n",
       "      <td>3</td>\n",
       "      <td>1913-02-28</td>\n",
       "      <td>NULL</td>\n",
       "      <td>NL</td>\n",
       "      <td>NULL</td>\n",
       "      <td>NULL</td>\n",
       "      <td>NULL</td>\n",
       "      <td>NULL</td>\n",
       "      <td>\\n        \\n          &lt;rdf:list xmlns:rdf=\"htt...</td>\n",
       "      <td>ECLI:NL:GHAMS:1913:4</td>\n",
       "    </tr>\n",
       "    <tr>\n",
       "      <td>4</td>\n",
       "      <td>1913-03-10</td>\n",
       "      <td>NULL</td>\n",
       "      <td>NL</td>\n",
       "      <td>NULL</td>\n",
       "      <td>NULL</td>\n",
       "      <td>NULL</td>\n",
       "      <td>NULL</td>\n",
       "      <td>\\n        \\n          &lt;rdf:list xmlns:rdf=\"htt...</td>\n",
       "      <td>ECLI:NL:GHAMS:1913:20</td>\n",
       "    </tr>\n",
       "  </tbody>\n",
       "</table>\n",
       "</div>"
      ],
      "text/plain": [
       "         date description language venue abstract procedure_type lodge_date  \\\n",
       "0  1913-03-31        NULL       NL  NULL     NULL           NULL       NULL   \n",
       "1  1913-02-28        NULL       NL  NULL     NULL           NULL       NULL   \n",
       "2  1913-03-17        NULL       NL  NULL     NULL           NULL       NULL   \n",
       "3  1913-02-28        NULL       NL  NULL     NULL           NULL       NULL   \n",
       "4  1913-03-10        NULL       NL  NULL     NULL           NULL       NULL   \n",
       "\n",
       "                                                link                   ecli  \n",
       "0  \\n        \\n          <rdf:list xmlns:rdf=\"htt...  ECLI:NL:GHAMS:1913:15  \n",
       "1  \\n        \\n          <rdf:list xmlns:rdf=\"htt...  ECLI:NL:GHAMS:1913:28  \n",
       "2  \\n        \\n          <rdf:list xmlns:rdf=\"htt...  ECLI:NL:GHAMS:1913:19  \n",
       "3  \\n        \\n          <rdf:list xmlns:rdf=\"htt...   ECLI:NL:GHAMS:1913:4  \n",
       "4  \\n        \\n          <rdf:list xmlns:rdf=\"htt...  ECLI:NL:GHAMS:1913:20  "
      ]
     },
     "execution_count": 81,
     "metadata": {},
     "output_type": "execute_result"
    }
   ],
   "source": [
    "case.head()"
   ]
  },
  {
   "cell_type": "code",
   "execution_count": 86,
   "metadata": {},
   "outputs": [],
   "source": [
    "tuples = to_tuples(case)"
   ]
  },
  {
   "cell_type": "code",
   "execution_count": null,
   "metadata": {},
   "outputs": [],
   "source": [
    "try:  \n",
    "    cursor = conn.cursor()\n",
    "    for data in tuples:\n",
    "        query = \"\"\"INSERT INTO `case` (date, description, language, venue, abstract, procedure_type, lodge_date, link, ecli, name, court_id) \n",
    "        VALUES (%s, %s, %s, %s, %s, %s, %s, %s, %s, %s, %s)\"\"\"\n",
    "        result  = cursor.execute(query, data)\n",
    "    conn.commit()\n",
    "    cursor.close()\n",
    "    print('cases added')\n",
    "except Error as error :\n",
    "    conn.rollback()\n",
    "    print(\"Failed to insert into MySQL table {}\".format(error))\n",
    "    traceback.print_exc(file=sys.stdout)"
   ]
  },
  {
   "cell_type": "markdown",
   "metadata": {},
   "source": [
    "---\n",
    "### Case opinion advocate general"
   ]
  },
  {
   "cell_type": "code",
   "execution_count": 94,
   "metadata": {},
   "outputs": [],
   "source": [
    "case_opinion = pd.DataFrame()\n",
    "case_opinion_columns = ['date',\n",
    "                        'case_number',\n",
    "                        'description',\n",
    "                        'language',\n",
    "                        'country',\n",
    "                        'venue',\n",
    "                        'abstract',\n",
    "                        'procedure_type',\n",
    "                        'authority',\n",
    "                        'ecli']"
   ]
  },
  {
   "cell_type": "code",
   "execution_count": 95,
   "metadata": {},
   "outputs": [],
   "source": [
    "temp = df_case_opinion[['date',\n",
    "                        'case_number',\n",
    "                        'description',\n",
    "                        'language',\n",
    "                        'country',\n",
    "                        'venue',\n",
    "                        'abstract',\n",
    "                        'procedure_type',\n",
    "                        'authority',\n",
    "                        'case_id']]\n",
    "temp.columns = case_opinion_columns\n",
    "case_opinion = case_opinion.append(temp, ignore_index=True)"
   ]
  },
  {
   "cell_type": "code",
   "execution_count": 98,
   "metadata": {},
   "outputs": [],
   "source": [
    "#case_opinion['date'] = pd.to_datetime(case_opinion['date'], errors='coerce')\n",
    "case_opinion['date'] = [pd.to_datetime(i) if i != 'NULL' else pd.to_datetime('1900-01-01 00:00:00') for i in case_opinion['date']]"
   ]
  },
  {
   "cell_type": "code",
   "execution_count": 99,
   "metadata": {},
   "outputs": [
    {
     "data": {
      "text/html": [
       "<div>\n",
       "<style scoped>\n",
       "    .dataframe tbody tr th:only-of-type {\n",
       "        vertical-align: middle;\n",
       "    }\n",
       "\n",
       "    .dataframe tbody tr th {\n",
       "        vertical-align: top;\n",
       "    }\n",
       "\n",
       "    .dataframe thead th {\n",
       "        text-align: right;\n",
       "    }\n",
       "</style>\n",
       "<table border=\"1\" class=\"dataframe\">\n",
       "  <thead>\n",
       "    <tr style=\"text-align: right;\">\n",
       "      <th></th>\n",
       "      <th>date</th>\n",
       "      <th>case_number</th>\n",
       "      <th>description</th>\n",
       "      <th>language</th>\n",
       "      <th>country</th>\n",
       "      <th>venue</th>\n",
       "      <th>abstract</th>\n",
       "      <th>procedure_type</th>\n",
       "      <th>authority</th>\n",
       "      <th>ecli</th>\n",
       "    </tr>\n",
       "  </thead>\n",
       "  <tbody>\n",
       "    <tr>\n",
       "      <td>0</td>\n",
       "      <td>1913-04-18</td>\n",
       "      <td>x47</td>\n",
       "      <td>NULL</td>\n",
       "      <td>NL</td>\n",
       "      <td>NL</td>\n",
       "      <td>NULL</td>\n",
       "      <td>NULL</td>\n",
       "      <td>NULL</td>\n",
       "      <td>Parket bij de Hoge Raad</td>\n",
       "      <td>ECLI:NL:PHR:1913:AG1763</td>\n",
       "    </tr>\n",
       "    <tr>\n",
       "      <td>1</td>\n",
       "      <td>1913-04-18</td>\n",
       "      <td>x48</td>\n",
       "      <td>NULL</td>\n",
       "      <td>NL</td>\n",
       "      <td>NL</td>\n",
       "      <td>NULL</td>\n",
       "      <td>NULL</td>\n",
       "      <td>NULL</td>\n",
       "      <td>Parket bij de Hoge Raad</td>\n",
       "      <td>ECLI:NL:PHR:1913:AG1764</td>\n",
       "    </tr>\n",
       "  </tbody>\n",
       "</table>\n",
       "</div>"
      ],
      "text/plain": [
       "        date case_number description language country venue abstract  \\\n",
       "0 1913-04-18         x47        NULL       NL      NL  NULL     NULL   \n",
       "1 1913-04-18         x48        NULL       NL      NL  NULL     NULL   \n",
       "\n",
       "  procedure_type                authority                     ecli  \n",
       "0           NULL  Parket bij de Hoge Raad  ECLI:NL:PHR:1913:AG1763  \n",
       "1           NULL  Parket bij de Hoge Raad  ECLI:NL:PHR:1913:AG1764  "
      ]
     },
     "execution_count": 99,
     "metadata": {},
     "output_type": "execute_result"
    }
   ],
   "source": [
    "case_opinion.head(2)"
   ]
  },
  {
   "cell_type": "code",
   "execution_count": 100,
   "metadata": {},
   "outputs": [],
   "source": [
    "tuples = to_tuples(case_opinion)"
   ]
  },
  {
   "cell_type": "code",
   "execution_count": 101,
   "metadata": {},
   "outputs": [
    {
     "name": "stdout",
     "output_type": "stream",
     "text": [
      "Failed to insert into MySQL table 1452 (23000): Cannot add or update a child row: a foreign key constraint fails (`caselaw`.`case_opinion`, CONSTRAINT `fk_case_opinion_case` FOREIGN KEY (`ecli`) REFERENCES `case` (`ecli`))\n",
      "Traceback (most recent call last):\n",
      "  File \"/Users/pedrohserrano/opt/anaconda3/lib/python3.7/site-packages/mysql/connector/connection_cext.py\", line 489, in cmd_query\n",
      "    raw_as_string=raw_as_string)\n",
      "_mysql_connector.MySQLInterfaceError: Cannot add or update a child row: a foreign key constraint fails (`caselaw`.`case_opinion`, CONSTRAINT `fk_case_opinion_case` FOREIGN KEY (`ecli`) REFERENCES `case` (`ecli`))\n",
      "\n",
      "During handling of the above exception, another exception occurred:\n",
      "\n",
      "Traceback (most recent call last):\n",
      "  File \"<ipython-input-101-8b6e007a7d2a>\", line 6, in <module>\n",
      "    result  = cursor.execute(query, data)\n",
      "  File \"/Users/pedrohserrano/opt/anaconda3/lib/python3.7/site-packages/mysql/connector/cursor_cext.py\", line 266, in execute\n",
      "    raw_as_string=self._raw_as_string)\n",
      "  File \"/Users/pedrohserrano/opt/anaconda3/lib/python3.7/site-packages/mysql/connector/connection_cext.py\", line 492, in cmd_query\n",
      "    sqlstate=exc.sqlstate)\n",
      "mysql.connector.errors.IntegrityError: 1452 (23000): Cannot add or update a child row: a foreign key constraint fails (`caselaw`.`case_opinion`, CONSTRAINT `fk_case_opinion_case` FOREIGN KEY (`ecli`) REFERENCES `case` (`ecli`))\n"
     ]
    }
   ],
   "source": [
    "try:  \n",
    "    cursor = conn.cursor()\n",
    "    for data in tuples:\n",
    "        query = \"\"\"INSERT INTO `case_opinion` (date, case_number, description, language, country, venue, abstract, procedure_type, authority, ecli) \n",
    "        VALUES (%s, %s, %s, %s, %s, %s, %s, %s, %s, %s)\"\"\"\n",
    "        result  = cursor.execute(query, data)\n",
    "    conn.commit()\n",
    "    cursor.close()\n",
    "    print('case_opinion added')\n",
    "except Error as error :\n",
    "    conn.rollback()\n",
    "    print(\"Failed to insert into MySQL table {}\".format(error))\n",
    "    traceback.print_exc(file=sys.stdout)"
   ]
  },
  {
   "cell_type": "markdown",
   "metadata": {},
   "source": [
    "---\n",
    "### Legal Intelligence Cases"
   ]
  },
  {
   "cell_type": "code",
   "execution_count": 101,
   "metadata": {},
   "outputs": [],
   "source": [
    "legal_intelligence_case = pd.DataFrame()\n",
    "legal_intelligence_case_columns = ['id',\n",
    "           'ecli',\n",
    "           'name',\n",
    "           'date',\n",
    "           'abstract',\n",
    "           'subject',\n",
    "           'link',\n",
    "           'DisplayTitle',\n",
    "           'OriginalUrl',\n",
    "           'Jurisidiction',\n",
    "           'DocumentType',\n",
    "           'CaseNumber',\n",
    "           'PublicationNumber',\n",
    "           'IssueNumber',\n",
    "           'lodge_date',\n",
    "           'DateAdded',\n",
    "           'Sources',\n",
    "           'UrlWithAutoLogOnToken',\n",
    "           'court',\n",
    "           'DisplaySubtitle']"
   ]
  },
  {
   "cell_type": "code",
   "execution_count": 104,
   "metadata": {},
   "outputs": [],
   "source": [
    "#li_cases['id'] = #do we create this one ourselves? \n",
    "#li_cases['ecli'] \n",
    "#li_cases['name'] \n",
    "#li_cases['date'] \n",
    "#li_cases['abstract']\n",
    "#li_cases['subject']\n",
    "#li_cases['link']\n",
    "#li_cases['procedure_type']\n",
    "#li_cases['court_id']\n",
    "#li_cases['DisplayTitle']\n",
    "#li_cases['OriginalUrl']\n",
    "#li_cases['Jurisdiction']\n",
    "#li_cases['DocumentType']\n",
    "#li_cases['CaseNumber']\n",
    "#li_cases['PublicationDate']\n",
    "#li_cases['PublicationNumber']\n",
    "#li_cases['IssueNumber']\n",
    "#li_cases['DateAdded']\n",
    "#li_cases['Sources']\n",
    "#li_cases['UrlWithAutoLogOnToken']\n",
    "\n",
    "legal_intelligence_case['date'] = [pd.to_datetime(i) if i != 'NULL' else pd.to_datetime('1900-01-01 00:00:00') for i in df_li_cases['date']]\n",
    "legal_intelligence_case['lodge_date'] = [pd.to_datetime(i) if i != 'NULL' else pd.to_datetime('1900-01-01 00:00:00') for i in df_li_cases['lodge_date']]\n",
    "legal_intelligence_case['DateAdded'] = [pd.to_datetime(i) if i != 'NULL' else pd.to_datetime('1900-01-01 00:00:00') for i in df_li_cases['DateAdded']]"
   ]
  },
  {
   "cell_type": "code",
   "execution_count": null,
   "metadata": {},
   "outputs": [],
   "source": [
    "tuples = to_tuples(li_cases)\n",
    "import traceback, sys\n",
    "try:  \n",
    "    cursor = conn.cursor()\n",
    "    for data in tuples:\n",
    "        query = \"\"\"\n",
    "                INSERT INTO legal_intelligence_case (id, ecli, name, date, abstract, subject, link, procedure_type, court_id, DisplayTitle, OriginalUrl, Jurisdiction, DocumentType, CaseNumber, PublicationDate, PublicationNumber, IssueNumber, DateAdded, Sources, UrlWithAutoLogOnToken)\n",
    "                VALUES (%s, %s, %s, %s, %s, %s, %s, %s, %s, %s, %s, %s, %s, %s, %s, %s, %s, %s, %s, %s)\n",
    "                \"\"\"\n",
    "        result  = cursor.execute(query, data)\n",
    "    conn.commit()\n",
    "    cursor.close()\n",
    "    print('legal_intelligence_case added')\n",
    "except Error as error :\n",
    "    conn.rollback()\n",
    "    print(\"Failed to insert into MySQL table {}\".format(error))\n",
    "    traceback.print_exc(file=sys.stdout)"
   ]
  },
  {
   "cell_type": "code",
   "execution_count": null,
   "metadata": {},
   "outputs": [],
   "source": []
  },
  {
   "cell_type": "markdown",
   "metadata": {},
   "source": [
    "---\n",
    "### Subjects"
   ]
  },
  {
   "cell_type": "code",
   "execution_count": 11,
   "metadata": {},
   "outputs": [],
   "source": [
    "subject = pd.DataFrame()\n",
    "subject_columns = ['id',\n",
    "           'name',\n",
    "           'standard_name']"
   ]
  },
  {
   "cell_type": "code",
   "execution_count": 18,
   "metadata": {},
   "outputs": [
    {
     "data": {
      "text/plain": [
       "array(['Bestuursrecht', 'Bestuursrecht; Ambtenarenrecht',\n",
       "       'Bestuursrecht; Socialezekerheidsrecht',\n",
       "       'Bestuursrecht; Vreemdelingenrecht'], dtype=object)"
      ]
     },
     "execution_count": 18,
     "metadata": {},
     "output_type": "execute_result"
    }
   ],
   "source": [
    "cases_metadata.subject.unique()[1:] #omit the null case"
   ]
  },
  {
   "cell_type": "code",
   "execution_count": 23,
   "metadata": {},
   "outputs": [],
   "source": [
    "#catalogue\n",
    "subjects = pd.DataFrame()\n",
    "subjects['name'] = cases_metadata.subject.unique()[1:] #omit the null case\n",
    "#subjects['standard_name'] = cases_metadata.subject.unique()[1:]"
   ]
  },
  {
   "cell_type": "code",
   "execution_count": 105,
   "metadata": {},
   "outputs": [],
   "source": [
    "#subjects.head()"
   ]
  },
  {
   "cell_type": "code",
   "execution_count": 24,
   "metadata": {},
   "outputs": [
    {
     "name": "stdout",
     "output_type": "stream",
     "text": [
      "subjects added\n"
     ]
    }
   ],
   "source": [
    "tuples = to_tuples(subjects)\n",
    "import traceback, sys\n",
    "try:  \n",
    "    cursor = conn.cursor()\n",
    "    for data in tuples:\n",
    "        query = \"\"\"INSERT INTO `subjects` (name) \n",
    "        VALUES (%s)\"\"\"\n",
    "        result  = cursor.execute(query, data)\n",
    "    conn.commit()\n",
    "    cursor.close()\n",
    "    print('subjects added')\n",
    "except Error as error :\n",
    "    conn.rollback()\n",
    "    print(\"Failed to insert into MySQL table {}\".format(error))\n",
    "    traceback.print_exc(file=sys.stdout)"
   ]
  },
  {
   "cell_type": "code",
   "execution_count": 12,
   "metadata": {},
   "outputs": [],
   "source": [
    "case_subject = pd.DataFrame()\n",
    "case_subject_columns = ['case_id',\n",
    "                'subject_id']"
   ]
  },
  {
   "cell_type": "markdown",
   "metadata": {},
   "source": [
    "---\n",
    "### Countries"
   ]
  },
  {
   "cell_type": "code",
   "execution_count": 13,
   "metadata": {},
   "outputs": [],
   "source": [
    "country = pd.DataFrame()\n",
    "country_columns = ['id',\n",
    "           'name',\n",
    "           'language',\n",
    "           'flag',\n",
    "           'eu',\n",
    "           'eea']"
   ]
  },
  {
   "cell_type": "code",
   "execution_count": 11,
   "metadata": {},
   "outputs": [],
   "source": [
    "#catalogue\n",
    "#countries = pd.DataFrame()\n",
    "#countries['country_id'] #NOT NULL COMMENT 'Country ISO Code',\n",
    "#countries['name'] #'English name',\n",
    "#countries['language'] #'ISO code for language spoken in country',\n",
    "#countries['flag'] #'Link to image file of flag',\n",
    "#countries['eu'] #'Part of EU or not?',\n",
    "#countries['population'] #'Current / latest population number',\n",
    "#countries['eea'] #'not sure what this stands for exactly...'"
   ]
  },
  {
   "cell_type": "code",
   "execution_count": 104,
   "metadata": {},
   "outputs": [],
   "source": [
    "#countries.head()"
   ]
  },
  {
   "cell_type": "code",
   "execution_count": 14,
   "metadata": {},
   "outputs": [
    {
     "name": "stdout",
     "output_type": "stream",
     "text": [
      "countries added\n"
     ]
    }
   ],
   "source": [
    "tuples = to_tuples(countries)\n",
    "import traceback, sys\n",
    "try:  \n",
    "    cursor = conn.cursor(buffered=True)\n",
    "    for data in tuples:\n",
    "        query = \"\"\"INSERT INTO `countries` (country_id, eu, name, flag, population, eea) \n",
    "        VALUES (%s, %s, %s, %s, %s, %s)\"\"\"\n",
    "        result  = cursor.execute(query, data)\n",
    "    conn.commit()\n",
    "    cursor.close()\n",
    "    print('countries added')\n",
    "except Error as error :\n",
    "    conn.rollback()\n",
    "    print(\"Failed to insert into MySQL table {}\".format(error))\n",
    "    traceback.print_exc(file=sys.stdout)"
   ]
  },
  {
   "cell_type": "code",
   "execution_count": 14,
   "metadata": {},
   "outputs": [],
   "source": [
    "case_country = pd.DataFrame()\n",
    "case_country_columns = ['case_id',\n",
    "                'country_id']"
   ]
  },
  {
   "cell_type": "markdown",
   "metadata": {},
   "source": [
    "---\n",
    "### Case law citation"
   ]
  },
  {
   "cell_type": "code",
   "execution_count": 15,
   "metadata": {},
   "outputs": [],
   "source": [
    "case_citation = pd.DataFrame()\n",
    "case_citation_columns = ['id',\n",
    "                 'source_ecli',\n",
    "                 'source_paragraph',\n",
    "                 'target_ecli',\n",
    "                 'target_paragraph']"
   ]
  },
  {
   "cell_type": "code",
   "execution_count": 99,
   "metadata": {},
   "outputs": [],
   "source": [
    "#one to many\n",
    "#case_citation = pd.DataFrame()\n",
    "#case_citation['citation_id'] #INT NOT NULL,\n",
    "#case_citation['source_ecli'] #NOT NULL,`fk_source_case_cases`\n",
    "#case_citation['source_paragraph'] #\n",
    "#case_citation['target_ecli'] #NOT NULL,`fk_target_case_cases`\n",
    "#case_citation['target_paragraph'] #"
   ]
  },
  {
   "cell_type": "code",
   "execution_count": 110,
   "metadata": {},
   "outputs": [],
   "source": [
    "#case_citation.head()"
   ]
  },
  {
   "cell_type": "code",
   "execution_count": 102,
   "metadata": {},
   "outputs": [
    {
     "name": "stdout",
     "output_type": "stream",
     "text": [
      "case_citation added\n"
     ]
    }
   ],
   "source": [
    "tuples = to_tuples(case_citation)\n",
    "import traceback, sys\n",
    "try:  le\n",
    "    cursor = conn.cursor()\n",
    "    for data in tuples:\n",
    "        query = \"\"\"\n",
    "                INSERT INTO case_citation (source_ecli, source_paragraph, target_ecli, target_paragraph)\n",
    "                VALUES (%s, %s, %s, %s)\n",
    "                \"\"\"\n",
    "        result  = cursor.execute(query, data)\n",
    "    conn.commit()\n",
    "    cursor.close()\n",
    "    print('case_citation added')\n",
    "except Error as error :\n",
    "    conn.rollback()\n",
    "    print(\"Failed to insert into MySQL table {}\".format(error))\n",
    "    traceback.print_exc(file=sys.stdout)"
   ]
  },
  {
   "cell_type": "markdown",
   "metadata": {},
   "source": [
    "---\n",
    "### Legislation citation"
   ]
  },
  {
   "cell_type": "code",
   "execution_count": 16,
   "metadata": {},
   "outputs": [],
   "source": [
    "legislation_citation = pd.DataFrame()\n",
    "legislation_citation_columns = ['id',\n",
    "                        'source_paragraph',\n",
    "                        'target_id',\n",
    "                        'target_paragraph',\n",
    "                        'target_name',\n",
    "                        'target_sourcename',\n",
    "                        'target_link',\n",
    "                        'case_id']"
   ]
  },
  {
   "cell_type": "code",
   "execution_count": 94,
   "metadata": {},
   "outputs": [],
   "source": [
    "#one to many \n",
    "#legislation_citation = pd.DataFrame()\n",
    "#legislation_citation['citation_id'] #INT NOT NULL,\n",
    "#legislation_citation['source_ecli'] #NOT NULL,`fk_source_case_legislation`\n",
    "#legislation_citation['source_paragraph']\n",
    "#legislation_citation['target_id'] #NOT NULL,\n",
    "#legislation_citation['target_paragraph']\n",
    "#legislation_citation['target_name']\n",
    "#legislation_citation['target_sourcename']\n",
    "#legislation_citation['target_link']"
   ]
  },
  {
   "cell_type": "code",
   "execution_count": 95,
   "metadata": {},
   "outputs": [],
   "source": [
    "legislation_citation.rename(columns = {'target_article':'target_id',\n",
    "                                       'target_article_paragraph':'target_paragraph',\n",
    "                                       'target_article_webpage':'target_link'}, inplace=True)"
   ]
  },
  {
   "cell_type": "code",
   "execution_count": 109,
   "metadata": {},
   "outputs": [],
   "source": [
    "#legislation_citation.head()"
   ]
  },
  {
   "cell_type": "code",
   "execution_count": 97,
   "metadata": {},
   "outputs": [
    {
     "name": "stdout",
     "output_type": "stream",
     "text": [
      "legislation_citation added\n"
     ]
    }
   ],
   "source": [
    "tuples = to_tuples(legislation_citation)\n",
    "import traceback, sys\n",
    "try:  \n",
    "    cursor = conn.cursor()\n",
    "    for data in tuples:\n",
    "        query = \"\"\"\n",
    "                INSERT INTO legislation_citation (source_ecli, source_paragraph, target_id, target_paragraph, target_link)\n",
    "                VALUES (%s, %s, %s, %s, %s)\n",
    "                \"\"\"\n",
    "        result  = cursor.execute(query, data)\n",
    "    conn.commit()\n",
    "    cursor.close()\n",
    "    print('legislation_citation added')\n",
    "except Error as error :\n",
    "    conn.rollback()\n",
    "    print(\"Failed to insert into MySQL table {}\".format(error))\n",
    "    traceback.print_exc(file=sys.stdout)"
   ]
  },
  {
   "cell_type": "markdown",
   "metadata": {},
   "source": [
    "---\n",
    "### Case related decision"
   ]
  },
  {
   "cell_type": "code",
   "execution_count": 17,
   "metadata": {},
   "outputs": [],
   "source": [
    "case_related_decision = pd.DataFrame()\n",
    "case_related_decision_columns = ['id',\n",
    "                'referencing_case_ecli',\n",
    "                'referenced_case_ecli',\n",
    "                'case_id']"
   ]
  },
  {
   "cell_type": "code",
   "execution_count": 63,
   "metadata": {},
   "outputs": [],
   "source": [
    "#one to one\n",
    "case_related_decision = pd.DataFrame()\n",
    "case_related_decision['case_ecli'] = cases_metadata.id #NOT NULL,\n",
    "case_related_decision['referencing_case_id'] = cases_metadata.related_cases#NOT NULL,\n",
    "#case_related_decision['referenced_case_id']"
   ]
  },
  {
   "cell_type": "code",
   "execution_count": 107,
   "metadata": {},
   "outputs": [],
   "source": [
    "#case_related_decision.head()"
   ]
  },
  {
   "cell_type": "code",
   "execution_count": 65,
   "metadata": {},
   "outputs": [
    {
     "name": "stdout",
     "output_type": "stream",
     "text": [
      "case_related_decision added\n"
     ]
    }
   ],
   "source": [
    "tuples = to_tuples(case_related_decision)\n",
    "import traceback, sys\n",
    "try:  \n",
    "    cursor = conn.cursor()\n",
    "    for data in tuples:\n",
    "        query = \"\"\"INSERT INTO `case_related_decision` (case_ecli, referencing_case_id) \n",
    "        VALUES (%s, %s)\"\"\"\n",
    "        result  = cursor.execute(query, data)\n",
    "    conn.commit()\n",
    "    cursor.close()\n",
    "    print('case_related_decision added')\n",
    "except Error as error :\n",
    "    conn.rollback()\n",
    "    print(\"Failed to insert into MySQL table {}\".format(error))\n",
    "    traceback.print_exc(file=sys.stdout)"
   ]
  }
 ],
 "metadata": {
  "kernelspec": {
   "display_name": "Python 3",
   "language": "python",
   "name": "python3"
  },
  "language_info": {
   "codemirror_mode": {
    "name": "ipython",
    "version": 3
   },
   "file_extension": ".py",
   "mimetype": "text/x-python",
   "name": "python",
   "nbconvert_exporter": "python",
   "pygments_lexer": "ipython3",
   "version": "3.8.2"
  },
  "nteract": {
   "version": "0.15.0"
  }
 },
 "nbformat": 4,
 "nbformat_minor": 4
}
