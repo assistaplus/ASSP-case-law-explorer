{
  "cells": [
    {
      "cell_type": "markdown",
      "source": [
        "## Data flow to mysql"
      ],
      "metadata": {}
    },
    {
      "cell_type": "code",
      "source": [
        "import mysql.connector as mdb\n",
        "from mysql.connector import Error"
      ],
      "outputs": [],
      "execution_count": 1,
      "metadata": {}
    },
    {
      "cell_type": "code",
      "source": [
        "def open_database(host, db_name, username, password):\n",
        "    try:\n",
        "        connection = mdb.connect(host=host,\n",
        "                                 database=db_name,\n",
        "                                 user=username,\n",
        "                                 password=password)\n",
        "        if connection.is_connected():\n",
        "           db_Info = connection.get_server_info()\n",
        "           print(\"Connected to MySQL database... MySQL Server version on \",db_Info)\n",
        "           cursor = connection.cursor()\n",
        "           cursor.execute(\"select database();\")\n",
        "           record = cursor.fetchone()\n",
        "           print (\"Your connected to - \", record)\n",
        "           cursor.close()\n",
        "    except Error as e :\n",
        "        print (\"Error while connecting to MySQL\", e)\n",
        "    return connection"
      ],
      "outputs": [],
      "execution_count": 2,
      "metadata": {}
    },
    {
      "cell_type": "code",
      "source": [
        "def close_database(connection):\n",
        "    #closing database connection.\n",
        "    if(connection.is_connected()):\n",
        "        connection.close()\n",
        "        print(\"MySQL connection is closed\")"
      ],
      "outputs": [],
      "execution_count": 3,
      "metadata": {}
    },
    {
      "cell_type": "code",
      "source": [
        "conn = open_database('localhost', 'caselaw', 'root', 'H3rnandez!')"
      ],
      "outputs": [
        {
          "output_type": "stream",
          "name": "stdout",
          "text": [
            "Connected to MySQL database... MySQL Server version on  8.0.15\n",
            "Your connected to -  ('caselaw',)\n"
          ]
        }
      ],
      "execution_count": 4,
      "metadata": {}
    },
    {
      "cell_type": "code",
      "source": [
        "query = \"\"\"SELECT * FROM caselaw.countries LIMIT 10;\"\"\"\n",
        "cursor = conn.cursor()\n",
        "print(cursor.execute(query))"
      ],
      "outputs": [
        {
          "output_type": "stream",
          "name": "stdout",
          "text": [
            "None\n"
          ]
        }
      ],
      "execution_count": 5,
      "metadata": {}
    },
    {
      "cell_type": "markdown",
      "source": [
        "---\n",
        "### Datasets"
      ],
      "metadata": {}
    },
    {
      "cell_type": "code",
      "source": [
        "import pandas as pd\n",
        "import numpy as np"
      ],
      "outputs": [],
      "execution_count": 6,
      "metadata": {}
    },
    {
      "cell_type": "code",
      "source": [
        "cases_metadata = pd.read_csv(\"../data/cases_metadata.csv\").replace(np.nan, 'NULL', regex=True)\n",
        "case_citation = pd.read_csv(\"../data/caselaw_citations.csv\").replace(np.nan, 'NULL', regex=True)\n",
        "legislation_citation = pd.read_csv(\"../data/legislation_citations.csv\").replace(np.nan, 'NULL', regex=True)\n",
        "countries = pd.read_csv(\"../data/countries.csv\").replace(np.nan, 'NULL', regex=True)"
      ],
      "outputs": [],
      "execution_count": 100,
      "metadata": {}
    },
    {
      "cell_type": "code",
      "source": [
        "#legislation_citation.head()"
      ],
      "outputs": [],
      "execution_count": 103,
      "metadata": {}
    },
    {
      "cell_type": "code",
      "source": [
        "def to_tuples(df):\n",
        "    return [tuple(x) for x in df.values]"
      ],
      "outputs": [],
      "execution_count": 10,
      "metadata": {}
    },
    {
      "cell_type": "markdown",
      "source": [
        "---\n",
        "### Countries"
      ],
      "metadata": {}
    },
    {
      "cell_type": "code",
      "source": [
        "#catalogue\n",
        "#countries = pd.DataFrame()\n",
        "#countries['country_id'] #NOT NULL COMMENT 'Country ISO Code',\n",
        "#countries['name'] #'English name',\n",
        "#countries['language'] #'ISO code for language spoken in country',\n",
        "#countries['flag'] #'Link to image file of flag',\n",
        "#countries['eu'] #'Part of EU or not?',\n",
        "#countries['population'] #'Current / latest population number',"
      ],
      "outputs": [],
      "execution_count": 11,
      "metadata": {}
    },
    {
      "cell_type": "code",
      "source": [
        "#countries.head()"
      ],
      "outputs": [],
      "execution_count": 104,
      "metadata": {}
    },
    {
      "cell_type": "code",
      "source": [
        "tuples = to_tuples(countries)\n",
        "import traceback, sys\n",
        "try:  \n",
        "    cursor = conn.cursor(buffered=True)\n",
        "    for data in tuples:\n",
        "        query = \"\"\"INSERT INTO `countries` (country_id, eu, name, flag) \n",
        "        VALUES (%s, %s, %s, %s)\"\"\"\n",
        "        result  = cursor.execute(query, data)\n",
        "    conn.commit()\n",
        "    cursor.close()\n",
        "    print('countries added')\n",
        "except Error as error :\n",
        "    conn.rollback()\n",
        "    print(\"Failed to insert into MySQL table {}\".format(error))\n",
        "    traceback.print_exc(file=sys.stdout)"
      ],
      "outputs": [
        {
          "output_type": "stream",
          "name": "stdout",
          "text": [
            "countries added\n"
          ]
        }
      ],
      "execution_count": 14,
      "metadata": {}
    },
    {
      "cell_type": "markdown",
      "source": [
        "---\n",
        "### Subjects"
      ],
      "metadata": {}
    },
    {
      "cell_type": "code",
      "source": [
        "cases_metadata.subject.unique()[1:] #omit the null case"
      ],
      "outputs": [
        {
          "output_type": "execute_result",
          "execution_count": 18,
          "data": {
            "text/plain": [
              "array(['Bestuursrecht', 'Bestuursrecht; Ambtenarenrecht',\n",
              "       'Bestuursrecht; Socialezekerheidsrecht',\n",
              "       'Bestuursrecht; Vreemdelingenrecht'], dtype=object)"
            ]
          },
          "metadata": {}
        }
      ],
      "execution_count": 18,
      "metadata": {}
    },
    {
      "cell_type": "code",
      "source": [
        "#catalogue\n",
        "subjects = pd.DataFrame()\n",
        "subjects['name'] = cases_metadata.subject.unique()[1:] #omit the null case\n",
        "#subjects['standard_name'] = cases_metadata.subject.unique()[1:]"
      ],
      "outputs": [],
      "execution_count": 23,
      "metadata": {}
    },
    {
      "cell_type": "code",
      "source": [
        "#subjects.head()"
      ],
      "outputs": [],
      "execution_count": 105,
      "metadata": {}
    },
    {
      "cell_type": "code",
      "source": [
        "tuples = to_tuples(subjects)\n",
        "import traceback, sys\n",
        "try:  \n",
        "    cursor = conn.cursor()\n",
        "    for data in tuples:\n",
        "        query = \"\"\"INSERT INTO `subjects` (name) \n",
        "        VALUES (%s)\"\"\"\n",
        "        result  = cursor.execute(query, data)\n",
        "    conn.commit()\n",
        "    cursor.close()\n",
        "    print('subjects added')\n",
        "except Error as error :\n",
        "    conn.rollback()\n",
        "    print(\"Failed to insert into MySQL table {}\".format(error))\n",
        "    traceback.print_exc(file=sys.stdout)"
      ],
      "outputs": [
        {
          "output_type": "stream",
          "name": "stdout",
          "text": [
            "subjects added\n"
          ]
        }
      ],
      "execution_count": 24,
      "metadata": {}
    },
    {
      "cell_type": "markdown",
      "source": [
        "---\n",
        "### Authorities"
      ],
      "metadata": {}
    },
    {
      "cell_type": "code",
      "source": [
        "#catalogue\n",
        "authorities = pd.DataFrame()\n",
        "authorities['name'] = cases_metadata.authority.unique()\n",
        "#authorities['type'] #\n",
        "#authorities['level'] #\n",
        "authorities['country'] = 'NL'\n",
        "#authorities['language'] \n",
        "#authorities['jurisdiction'] #"
      ],
      "outputs": [],
      "execution_count": 34,
      "metadata": {}
    },
    {
      "cell_type": "code",
      "source": [
        "#authorities.head()"
      ],
      "outputs": [],
      "execution_count": 106,
      "metadata": {}
    },
    {
      "cell_type": "code",
      "source": [
        "tuples = to_tuples(authorities)\n",
        "import traceback, sys\n",
        "try:  \n",
        "    cursor = conn.cursor()\n",
        "    for data in tuples:\n",
        "        query = \"\"\"INSERT INTO `authorities` (name, country) \n",
        "        VALUES (%s, %s)\"\"\"\n",
        "        result  = cursor.execute(query, data)\n",
        "    conn.commit()\n",
        "    cursor.close()\n",
        "    print('authorities added')\n",
        "except Error as error :\n",
        "    conn.rollback()\n",
        "    print(\"Failed to insert into MySQL table {}\".format(error))\n",
        "    traceback.print_exc(file=sys.stdout)"
      ],
      "outputs": [
        {
          "output_type": "stream",
          "name": "stdout",
          "text": [
            "authorities added\n"
          ]
        }
      ],
      "execution_count": 36,
      "metadata": {}
    },
    {
      "cell_type": "markdown",
      "source": [
        "---\n",
        "### Case related decision"
      ],
      "metadata": {}
    },
    {
      "cell_type": "code",
      "source": [
        "#one to one\n",
        "case_related_decision = pd.DataFrame()\n",
        "case_related_decision['case_ecli'] = cases_metadata.id #NOT NULL,\n",
        "case_related_decision['referencing_case_id'] = cases_metadata.related_cases#NOT NULL,\n",
        "#case_related_decision['referenced_case_id']"
      ],
      "outputs": [],
      "execution_count": 63,
      "metadata": {}
    },
    {
      "cell_type": "code",
      "source": [
        "#case_related_decision.head()"
      ],
      "outputs": [],
      "execution_count": 107,
      "metadata": {}
    },
    {
      "cell_type": "code",
      "source": [
        "tuples = to_tuples(case_related_decision)\n",
        "import traceback, sys\n",
        "try:  \n",
        "    cursor = conn.cursor()\n",
        "    for data in tuples:\n",
        "        query = \"\"\"INSERT INTO `case_related_decision` (case_ecli, referencing_case_id) \n",
        "        VALUES (%s, %s)\"\"\"\n",
        "        result  = cursor.execute(query, data)\n",
        "    conn.commit()\n",
        "    cursor.close()\n",
        "    print('case_related_decision added')\n",
        "except Error as error :\n",
        "    conn.rollback()\n",
        "    print(\"Failed to insert into MySQL table {}\".format(error))\n",
        "    traceback.print_exc(file=sys.stdout)"
      ],
      "outputs": [
        {
          "output_type": "stream",
          "name": "stdout",
          "text": [
            "case_related_decision added\n"
          ]
        }
      ],
      "execution_count": 65,
      "metadata": {}
    },
    {
      "cell_type": "markdown",
      "source": [
        "---\n",
        "### Case opinion advocate general"
      ],
      "metadata": {}
    },
    {
      "cell_type": "code",
      "source": [
        "#one to one\n",
        "case_opinion_from_advocate_general = pd.DataFrame()\n",
        "case_opinion_from_advocate_general['case_ecli'] = cases_metadata.id #NOT NULL,\n",
        "#case_opinion_from_advocate_general['date'] #\n",
        "case_opinion_from_advocate_general['case_number'] = cases_metadata.case_number #\n",
        "#case_opinion_from_advocate_general['description'] #\n",
        "#case_opinion_from_advocate_general['language'] #\n",
        "#case_opinion_from_advocate_general['country'] #\n",
        "#case_opinion_from_advocate_general['venue'] #\n",
        "#case_opinion_from_advocate_general['abstract'] #\n",
        "#case_opinion_from_advocate_general['procedure_type'] #\n",
        "#case_opinion_from_advocate_general['authority'] #"
      ],
      "outputs": [],
      "execution_count": 67,
      "metadata": {}
    },
    {
      "cell_type": "code",
      "source": [
        "#case_opinion_from_advocate_general.head()"
      ],
      "outputs": [],
      "execution_count": 108,
      "metadata": {}
    },
    {
      "cell_type": "code",
      "source": [
        "tuples = to_tuples(case_opinion_from_advocate_general)\n",
        "import traceback, sys\n",
        "try:  \n",
        "    cursor = conn.cursor()\n",
        "    for data in tuples:\n",
        "        query = \"\"\"INSERT INTO `case_opinion_from_advocate_general` (case_ecli, case_number) \n",
        "        VALUES (%s, %s)\"\"\"\n",
        "        result  = cursor.execute(query, data)\n",
        "    conn.commit()\n",
        "    cursor.close()\n",
        "    print('case_opinion_from_advocate_general added')\n",
        "except Error as error :\n",
        "    conn.rollback()\n",
        "    print(\"Failed to insert into MySQL table {}\".format(error))\n",
        "    traceback.print_exc(file=sys.stdout)"
      ],
      "outputs": [
        {
          "output_type": "stream",
          "name": "stdout",
          "text": [
            "case_opinion_from_advocate_general added\n"
          ]
        }
      ],
      "execution_count": 69,
      "metadata": {}
    },
    {
      "cell_type": "markdown",
      "source": [
        "---\n",
        "### Cases"
      ],
      "metadata": {}
    },
    {
      "cell_type": "code",
      "source": [
        "#pivot table\n",
        "cases = pd.DataFrame()\n",
        "#cases['case_id'] #incremental databse id INT NOT NULL AUTO_INCREMENT,\n",
        "cases['case_ecli'] = cases_metadata.id #NOT NULL,`fk_related_decision` fk_case_opinion`\n",
        "cases['date'] = pd.to_datetime(cases_metadata['date'])\n",
        "#cases['name'] = \n",
        "cases['description'] = cases_metadata.description\n",
        "cases['language'] = cases_metadata.language\n",
        "cases['venue'] = cases_metadata.venue\n",
        "cases['abstract'] = cases_metadata.abstract\n",
        "cases['procedure_type'] = cases_metadata.procedure_type\n",
        "#cases['lodge_date'] = cases_metadata.lodge_date\n",
        "#cases['link'] = cases_metadata.alternative_sources\n",
        "#cases['country_id'] #`fk_country`\n",
        "#cases['subject_id'] #`fk_subject`\n",
        "#cases['authority_id'] #fk_authority`"
      ],
      "outputs": [],
      "execution_count": 91,
      "metadata": {}
    },
    {
      "cell_type": "code",
      "source": [
        "tuples = to_tuples(cases)\n",
        "import traceback, sys\n",
        "try:  \n",
        "    cursor = conn.cursor()\n",
        "    for data in tuples:\n",
        "        query = \"\"\"INSERT INTO `cases` (case_ecli, date, description, language, venue, abstract, procedure_type) \n",
        "        VALUES (%s, %s, %s, %s, %s, %s, %s)\"\"\"\n",
        "        result  = cursor.execute(query, data)\n",
        "    conn.commit()\n",
        "    cursor.close()\n",
        "    print('cases added')\n",
        "except Error as error :\n",
        "    conn.rollback()\n",
        "    print(\"Failed to insert into MySQL table {}\".format(error))\n",
        "    traceback.print_exc(file=sys.stdout)"
      ],
      "outputs": [
        {
          "output_type": "stream",
          "name": "stdout",
          "text": [
            "cases added\n"
          ]
        }
      ],
      "execution_count": 92,
      "metadata": {}
    },
    {
      "cell_type": "markdown",
      "source": [
        "---\n",
        "### Legislation citation"
      ],
      "metadata": {}
    },
    {
      "cell_type": "code",
      "source": [
        "#one to many \n",
        "#legislation_citation = pd.DataFrame()\n",
        "#legislation_citation['citation_id'] #INT NOT NULL,\n",
        "#legislation_citation['source_ecli'] #NOT NULL,`fk_source_case_legislation`\n",
        "#legislation_citation['source_paragraph']\n",
        "#legislation_citation['target_id'] #NOT NULL,\n",
        "#legislation_citation['target_paragraph']\n",
        "#legislation_citation['target_name']\n",
        "#legislation_citation['target_sourcename']\n",
        "#legislation_citation['target_link']"
      ],
      "outputs": [],
      "execution_count": 94,
      "metadata": {}
    },
    {
      "cell_type": "code",
      "source": [
        "legislation_citation.rename(columns = {'target_article':'target_id',\n",
        "                                       'target_article_paragraph':'target_paragraph',\n",
        "                                       'target_article_webpage':'target_link'}, inplace=True)"
      ],
      "outputs": [],
      "execution_count": 95,
      "metadata": {}
    },
    {
      "cell_type": "code",
      "source": [
        "#legislation_citation.head()"
      ],
      "outputs": [],
      "execution_count": 109,
      "metadata": {}
    },
    {
      "cell_type": "code",
      "source": [
        "tuples = to_tuples(legislation_citation)\n",
        "import traceback, sys\n",
        "try:  \n",
        "    cursor = conn.cursor()\n",
        "    for data in tuples:\n",
        "        query = \"\"\"\n",
        "                INSERT INTO legislation_citation (source_ecli, source_paragraph, target_id, target_paragraph, target_link)\n",
        "                VALUES (%s, %s, %s, %s, %s)\n",
        "                \"\"\"\n",
        "        result  = cursor.execute(query, data)\n",
        "    conn.commit()\n",
        "    cursor.close()\n",
        "    print('legislation_citation added')\n",
        "except Error as error :\n",
        "    conn.rollback()\n",
        "    print(\"Failed to insert into MySQL table {}\".format(error))\n",
        "    traceback.print_exc(file=sys.stdout)"
      ],
      "outputs": [
        {
          "output_type": "stream",
          "name": "stdout",
          "text": [
            "legislation_citation added\n"
          ]
        }
      ],
      "execution_count": 97,
      "metadata": {}
    },
    {
      "cell_type": "markdown",
      "source": [
        "---\n",
        "### Case law citation"
      ],
      "metadata": {}
    },
    {
      "cell_type": "code",
      "source": [
        "#one to many\n",
        "#case_citation = pd.DataFrame()\n",
        "#case_citation['citation_id'] #INT NOT NULL,\n",
        "#case_citation['source_ecli'] #NOT NULL,`fk_source_case_cases`\n",
        "#case_citation['source_paragraph'] #\n",
        "#case_citation['target_ecli'] #NOT NULL,`fk_target_case_cases`\n",
        "#case_citation['target_paragraph'] #"
      ],
      "outputs": [],
      "execution_count": 99,
      "metadata": {}
    },
    {
      "cell_type": "code",
      "source": [
        "#case_citation.head()"
      ],
      "outputs": [],
      "execution_count": 110,
      "metadata": {}
    },
    {
      "cell_type": "code",
      "source": [
        "tuples = to_tuples(case_citation)\n",
        "import traceback, sys\n",
        "try:  \n",
        "    cursor = conn.cursor()\n",
        "    for data in tuples:\n",
        "        query = \"\"\"\n",
        "                INSERT INTO case_citation (source_ecli, source_paragraph, target_ecli, target_paragraph)\n",
        "                VALUES (%s, %s, %s, %s)\n",
        "                \"\"\"\n",
        "        result  = cursor.execute(query, data)\n",
        "    conn.commit()\n",
        "    cursor.close()\n",
        "    print('case_citation added')\n",
        "except Error as error :\n",
        "    conn.rollback()\n",
        "    print(\"Failed to insert into MySQL table {}\".format(error))\n",
        "    traceback.print_exc(file=sys.stdout)"
      ],
      "outputs": [
        {
          "output_type": "stream",
          "name": "stdout",
          "text": [
            "case_citation added\n"
          ]
        }
      ],
      "execution_count": 102,
      "metadata": {}
    }
  ],
  "metadata": {
    "kernelspec": {
      "display_name": "Python 3",
      "language": "python",
      "name": "python3"
    },
    "language_info": {
      "codemirror_mode": {
        "name": "ipython",
        "version": 3
      },
      "file_extension": ".py",
      "mimetype": "text/x-python",
      "name": "python",
      "nbconvert_exporter": "python",
      "pygments_lexer": "ipython3",
      "version": "3.7.3"
    },
    "nteract": {
      "version": "0.15.0"
    }
  },
  "nbformat": 4,
  "nbformat_minor": 2
}