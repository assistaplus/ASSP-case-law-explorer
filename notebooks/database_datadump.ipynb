{
 "cells": [
  {
   "cell_type": "markdown",
   "metadata": {},
   "source": [
    "## Data flow to mysql"
   ]
  },
  {
   "cell_type": "code",
   "execution_count": null,
   "metadata": {},
   "outputs": [],
   "source": [
    "import mysql.connector as mdb\n",
    "from mysql.connector import Error\n",
    "import sys, traceback"
   ]
  },
  {
   "cell_type": "code",
   "execution_count": null,
   "metadata": {},
   "outputs": [],
   "source": [
    "def open_database(host, db_name, username, password):\n",
    "    try:\n",
    "        connection = mdb.connect(host=host,\n",
    "                                 database=db_name,\n",
    "                                 user=username,\n",
    "                                 password=password)\n",
    "        if connection.is_connected():\n",
    "           db_Info = connection.get_server_info()\n",
    "           print(\"Connected to MySQL database... MySQL Server version on \",db_Info)\n",
    "           cursor = connection.cursor()\n",
    "           cursor.execute(\"select database();\")\n",
    "           record = cursor.fetchone()\n",
    "           print (\"Your connected to - \", record)\n",
    "           cursor.close()\n",
    "    except Error as e :\n",
    "        print (\"Error while connecting to MySQL\", e)\n",
    "    return connection"
   ]
  },
  {
   "cell_type": "code",
   "execution_count": null,
   "metadata": {},
   "outputs": [],
   "source": [
    "def close_database(connection):\n",
    "    #closing database connection.\n",
    "    if(connection.is_connected()):\n",
    "        connection.close()\n",
    "        print(\"MySQL connection is closed\")"
   ]
  },
  {
   "cell_type": "code",
   "execution_count": null,
   "metadata": {},
   "outputs": [],
   "source": [
    "conn = open_database('localhost', 'caselaw', 'root', 'H3rnandez!')"
   ]
  },
  {
   "cell_type": "code",
   "execution_count": null,
   "metadata": {},
   "outputs": [],
   "source": [
    "query = \"\"\"SELECT * FROM caselaw.case LIMIT 1;\"\"\"\n",
    "cursor = conn.cursor(buffered=True)\n",
    "cursor.execute(query)\n",
    "records = cursor.fetchall()\n",
    "for row in records:\n",
    "    print(row)"
   ]
  },
  {
   "cell_type": "markdown",
   "metadata": {},
   "source": [
    "---\n",
    "### Datasets"
   ]
  },
  {
   "cell_type": "code",
   "execution_count": null,
   "metadata": {},
   "outputs": [],
   "source": [
    "import pandas as pd\n",
    "import numpy as np"
   ]
  },
  {
   "cell_type": "code",
   "execution_count": null,
   "metadata": {},
   "outputs": [],
   "source": [
    "!ls ../data_dump"
   ]
  },
  {
   "cell_type": "code",
   "execution_count": null,
   "metadata": {},
   "outputs": [],
   "source": [
    "df_case = pd.read_csv(\"../data_dump/case.csv\").replace(np.nan, 'NULL', regex=True)\n",
    "df_country = pd.read_csv(\"../data_dump/countries.csv\").replace(np.nan, 'NULL', regex=True)\n",
    "df_li_cases = pd.read_csv(\"../data_dump/legal_intelligence_cases.csv\").replace(np.nan, 'NULL', regex=True).drop_duplicates(subset =\"ecli\")\n",
    "df_case_opinion = pd.read_csv(\"../data_dump/case_opinion_from_advocate_general.csv\").replace(np.nan, 'NULL', regex=True)\n",
    "df_case_citation = pd.read_csv(\"../data_dump/caselaw_citations.csv\").replace(np.nan, 'NULL', regex=True)\n",
    "df_legislation_citation = pd.read_csv(\"../data_dump/legislation_citations.csv\").replace(np.nan, 'NULL', regex=True)"
   ]
  },
  {
   "cell_type": "code",
   "execution_count": null,
   "metadata": {},
   "outputs": [],
   "source": [
    "#change LI Ecli to not underscores\n",
    "for i, li_case in df_li_cases.iterrows():\n",
    "    #get the ecli number\n",
    "    ecli = li_case.ecli\n",
    "    #replace the underscores\n",
    "    new_ecli = ecli.replace('_', ':')\n",
    "    #save the new ecli in the dataframe\n",
    "    df_li_cases.at[i, 'ecli'] = new_ecli"
   ]
  },
  {
   "cell_type": "markdown",
   "metadata": {},
   "source": [
    "---\n",
    "### Sample to run the procedure"
   ]
  },
  {
   "cell_type": "code",
   "execution_count": null,
   "metadata": {},
   "outputs": [],
   "source": [
    "sample_size = 50000\n",
    "#list of ecli numbers we choose for our sample\n",
    "sample = list(df_case['case_id'].sample(n=sample_size, random_state=18))"
   ]
  },
  {
   "cell_type": "code",
   "execution_count": null,
   "metadata": {},
   "outputs": [],
   "source": [
    "#compare case opinion and cases on ecli cause it seems like there is no overlap \n",
    "#case_eclis = df_case['case_id'].values\n",
    "#opinion_eclis = df_case_opinion['case_id'].values"
   ]
  },
  {
   "cell_type": "code",
   "execution_count": null,
   "metadata": {},
   "outputs": [],
   "source": [
    "##0: case sample\n",
    "df_case = df_case[df_case['case_id'].isin(sample)]\n",
    "\n",
    "##1: legislation citations sample\n",
    "df_legislation_citation = df_legislation_citation[df_legislation_citation['source_ecli'].isin(sample)]\n",
    "\n",
    "##2: case citations sample\n",
    "df_case_citation = df_case_citation[df_case_citation['source_ecli'].isin(sample)]\n",
    "\n",
    "##3: case opinions sample\n",
    "df_case_opinion = df_case_opinion[df_case_opinion['case_id'].isin(sample)]\n",
    "\n",
    "##4: li cases sample\n",
    "df_li_cases = df_li_cases[df_li_cases['ecli'].isin(sample)]\n",
    "\n",
    "print(len(df_case), len(df_legislation_citation), len(df_case_citation), len(df_case_opinion), len(df_li_cases))"
   ]
  },
  {
   "cell_type": "markdown",
   "metadata": {},
   "source": [
    "---\n",
    "### Utils"
   ]
  },
  {
   "cell_type": "code",
   "execution_count": null,
   "metadata": {},
   "outputs": [],
   "source": [
    "def to_tuples(df):\n",
    "    return [tuple(x) for x in df.values]"
   ]
  },
  {
   "cell_type": "code",
   "execution_count": null,
   "metadata": {},
   "outputs": [],
   "source": [
    "def clean_table_sql(table_name):\n",
    "    try:\n",
    "        cursor1 = conn.cursor(buffered=True)\n",
    "        query1 = \"\"\"DELETE FROM `{}`;\"\"\".format(table_name)\n",
    "        cursor1.execute(query1)\n",
    "        cursor2 = conn.cursor(buffered=True)\n",
    "        query2 = \"\"\"ALTER TABLE `{}` AUTO_INCREMENT = 1;\"\"\".format(table_name)\n",
    "        cursor2.execute(query2)\n",
    "        conn.commit()\n",
    "    except Error as error :\n",
    "        conn.rollback()\n",
    "        print(\"Failed to delete MySQL table {}\".format(error))\n",
    "        traceback.print_exc(file=sys.stdout)"
   ]
  },
  {
   "cell_type": "code",
   "execution_count": null,
   "metadata": {},
   "outputs": [],
   "source": [
    "def get_parent_ids(table, column_table, df, column_df):    \n",
    "    \"\"\"DB table, DB column_table, df: pandas df to look at, column_df\"\"\"\n",
    "    pid = []\n",
    "    cursor = conn.cursor()\n",
    "    for idx, data in enumerate(df[column_df]):\n",
    "        if \"'\" in data:\n",
    "            query = \"\"\"SELECT id FROM `{}` WHERE {} = \\\"{}\\\" \"\"\".format(table, column_table, data)\n",
    "        else:\n",
    "            query = \"\"\"SELECT id FROM `{}` WHERE {} = '{}' \"\"\".format(table, column_table, data)\n",
    "        #print(data)\n",
    "        cursor.execute(query)\n",
    "        records = cursor.fetchall()\n",
    "        if(len(records) == 0):\n",
    "            print('no records')\n",
    "        pid.append(records[0][0])\n",
    "    cursor.close()\n",
    "    return pid"
   ]
  },
  {
   "cell_type": "markdown",
   "metadata": {},
   "source": [
    "---\n",
    "### Tables Hierarchies"
   ]
  },
  {
   "cell_type": "markdown",
   "metadata": {},
   "source": [
    "1. Court\n",
    "2. Case\n",
    "3. Case Opinion\n",
    "4. LI Case\n",
    "5. Subject\n",
    "6. Case subject\n",
    "7. Country\n",
    "8. Case country\n",
    "9. Case citation\n",
    "10. Legislation citation\n",
    "11. Case related decision\n"
   ]
  },
  {
   "cell_type": "code",
   "execution_count": null,
   "metadata": {},
   "outputs": [],
   "source": [
    "clean_table_sql('case_related_decision')\n",
    "clean_table_sql('legislation_citation')\n",
    "clean_table_sql('case_citation')\n",
    "clean_table_sql('case_country')\n",
    "clean_table_sql('country')\n",
    "clean_table_sql('case_subject')\n",
    "clean_table_sql('subject')\n",
    "clean_table_sql('legal_intelligence_case')\n",
    "clean_table_sql('case_opinion')\n",
    "clean_table_sql('case')\n",
    "clean_table_sql('court')"
   ]
  },
  {
   "cell_type": "markdown",
   "metadata": {},
   "source": [
    "---\n",
    "### Courts"
   ]
  },
  {
   "cell_type": "code",
   "execution_count": null,
   "metadata": {},
   "outputs": [],
   "source": [
    "court = pd.DataFrame()"
   ]
  },
  {
   "cell_type": "code",
   "execution_count": null,
   "metadata": {},
   "outputs": [],
   "source": [
    "courts_list = df_case.authority.unique()\n",
    "court['name'] = courts_list"
   ]
  },
  {
   "cell_type": "code",
   "execution_count": null,
   "metadata": {},
   "outputs": [],
   "source": [
    "#dummies\n",
    "court.loc[:,'type'] = 'NULL'\n",
    "court.loc[:,'level'] = 'NULL'\n",
    "court.loc[:,'country'] = 'NULL'\n",
    "court.loc[:,'language'] = 'NULL' \n",
    "court.loc[:,'jurisdiction'] = 'NULL' \n",
    "court.loc[:,'law_area'] = 'NULL'\n",
    "court.loc[:,'authority_level'] = 'NULL'"
   ]
  },
  {
   "cell_type": "code",
   "execution_count": null,
   "metadata": {},
   "outputs": [],
   "source": [
    "court.head(2)"
   ]
  },
  {
   "cell_type": "code",
   "execution_count": null,
   "metadata": {},
   "outputs": [],
   "source": [
    "tuples = to_tuples(court)"
   ]
  },
  {
   "cell_type": "code",
   "execution_count": null,
   "metadata": {},
   "outputs": [],
   "source": [
    "#(\\\"%s\\\", %s, %s, %s, %s, %s, %s, %s)\")\n",
    "try:  \n",
    "    cursor = conn.cursor()\n",
    "    for idx, data in enumerate(tuples):\n",
    "        query = (\"INSERT INTO `court`\"\n",
    "                \"(name, type, level, country, language, jurisdiction, law_area, authority_level)\"\n",
    "                \"VALUES (\\\"%s\\\", %s, %s, %s, %s, %s, %s, %s)\")%data\n",
    "        #print(query)\n",
    "        cursor.execute(query)\n",
    "    conn.commit()\n",
    "    cursor.close()\n",
    "    print('court added')\n",
    "except Error as error :\n",
    "    conn.rollback()\n",
    "    print(\"Failed to insert into MySQL table {}\".format(error))\n",
    "    traceback.print_exc(file=sys.stdout)"
   ]
  },
  {
   "cell_type": "code",
   "execution_count": null,
   "metadata": {},
   "outputs": [],
   "source": [
    "len(court)"
   ]
  },
  {
   "cell_type": "markdown",
   "metadata": {},
   "source": [
    "---\n",
    "### Case"
   ]
  },
  {
   "cell_type": "code",
   "execution_count": null,
   "metadata": {},
   "outputs": [],
   "source": [
    "case = pd.DataFrame()\n",
    "case_columns = ['date',\n",
    "        'description',\n",
    "        'language',\n",
    "        'venue',\n",
    "        'abstract',\n",
    "        'procedure_type',\n",
    "        'lodge_date',\n",
    "        'link',\n",
    "        'ecli']"
   ]
  },
  {
   "cell_type": "code",
   "execution_count": null,
   "metadata": {},
   "outputs": [],
   "source": [
    "temp = df_case[['date',\n",
    "                'description',\n",
    "                'language',\n",
    "                'venue',\n",
    "                'abstract',\n",
    "                'procedure_type',\n",
    "                'lodge_date',\n",
    "                'alternative_sources',\n",
    "                'case_id']]\n",
    "temp.columns = case_columns\n",
    "case = case.append(temp, ignore_index=True)"
   ]
  },
  {
   "cell_type": "code",
   "execution_count": null,
   "metadata": {},
   "outputs": [],
   "source": [
    "parents_ids = get_parent_ids('court', 'name', df_case, 'authority')"
   ]
  },
  {
   "cell_type": "code",
   "execution_count": null,
   "metadata": {},
   "outputs": [],
   "source": [
    "case['name'] = 'NULL'\n",
    "case['court_id'] = parents_ids\n",
    "case['date'] = [pd.to_datetime(i, errors='coerce') if i != 'NULL' else pd.to_datetime('1900-01-01 00:00:00') for i in case['date']]\n",
    "case['lodge_date'] = [pd.to_datetime(i, errors='coerce') if i != 'NULL' else pd.to_datetime('1900-01-01 00:00:00') for i in case['lodge_date']]"
   ]
  },
  {
   "cell_type": "code",
   "execution_count": null,
   "metadata": {},
   "outputs": [],
   "source": [
    "case.head()"
   ]
  },
  {
   "cell_type": "code",
   "execution_count": null,
   "metadata": {},
   "outputs": [],
   "source": [
    "tuples = to_tuples(case)"
   ]
  },
  {
   "cell_type": "code",
   "execution_count": null,
   "metadata": {},
   "outputs": [],
   "source": [
    "try:  \n",
    "    cursor = conn.cursor(buffered=True)\n",
    "    for idx, data in enumerate(tuples):\n",
    "        query = (\"INSERT INTO `case`\"\n",
    "                \"(date, description, language, venue, abstract, procedure_type, lodge_date, link, ecli, name, court_id)\"\n",
    "                \"VALUES (%s, %s, %s, %s, %s, %s, %s, %s, %s, %s, %s)\")\n",
    "        cursor.execute(query, data)\n",
    "    conn.commit()\n",
    "    cursor.close()\n",
    "    print('case added')\n",
    "except Error as error :\n",
    "    conn.rollback()\n",
    "    print(\"Failed to insert into MySQL table {}\".format(error))\n",
    "    traceback.print_exc(file=sys.stdout)"
   ]
  },
  {
   "cell_type": "markdown",
   "metadata": {},
   "source": [
    "---\n",
    "### Case opinion advocate general"
   ]
  },
  {
   "cell_type": "code",
   "execution_count": null,
   "metadata": {},
   "outputs": [],
   "source": [
    "case_opinion = pd.DataFrame()\n",
    "case_opinion_columns = ['date',\n",
    "                        'case_number',\n",
    "                        'description',\n",
    "                        'language',\n",
    "                        'country',\n",
    "                        'venue',\n",
    "                        'abstract',\n",
    "                        'procedure_type',\n",
    "                        'authority',\n",
    "                        'ecli']"
   ]
  },
  {
   "cell_type": "code",
   "execution_count": null,
   "metadata": {},
   "outputs": [],
   "source": [
    "temp = df_case_opinion[['date',\n",
    "                        'case_number',\n",
    "                        'description',\n",
    "                        'language',\n",
    "                        'country',\n",
    "                        'venue',\n",
    "                        'abstract',\n",
    "                        'procedure_type',\n",
    "                        'authority',\n",
    "                        'case_id']]\n",
    "temp.columns = case_opinion_columns\n",
    "case_opinion = case_opinion.append(temp, ignore_index=True)"
   ]
  },
  {
   "cell_type": "code",
   "execution_count": null,
   "metadata": {},
   "outputs": [],
   "source": [
    "case_opinion['date'] = [pd.to_datetime(i, errors='coerce') if i != 'NULL' else pd.to_datetime('1900-01-01 00:00:00') for i in case_opinion['date']]"
   ]
  },
  {
   "cell_type": "code",
   "execution_count": null,
   "metadata": {},
   "outputs": [],
   "source": [
    "case_opinion.head(2)"
   ]
  },
  {
   "cell_type": "code",
   "execution_count": null,
   "metadata": {},
   "outputs": [],
   "source": [
    "tuples = to_tuples(case_opinion)"
   ]
  },
  {
   "cell_type": "code",
   "execution_count": null,
   "metadata": {},
   "outputs": [],
   "source": [
    "try:  \n",
    "    cursor = conn.cursor()\n",
    "    for idx, data in enumerate(tuples):\n",
    "        query = (\"INSERT INTO `case_opinion`\"\n",
    "                \"(date, case_number, description, language, country, venue, abstract, procedure_type, authority, ecli)\"\n",
    "                \"VALUES (%s, %s, %s, %s, %s, %s, %s, %s, %s, %s)\")\n",
    "        cursor.execute(query, data)\n",
    "    conn.commit()\n",
    "    cursor.close()\n",
    "    print('case_opinion added')\n",
    "except Error as error :\n",
    "    conn.rollback()\n",
    "    print(\"Failed to insert into MySQL table {}\".format(error))\n",
    "    traceback.print_exc(file=sys.stdout)"
   ]
  },
  {
   "cell_type": "markdown",
   "metadata": {},
   "source": [
    "---\n",
    "### Legal Intelligence Cases"
   ]
  },
  {
   "cell_type": "code",
   "execution_count": null,
   "metadata": {},
   "outputs": [],
   "source": [
    "legal_intelligence_case = pd.DataFrame()\n",
    "legal_intelligence_case_columns = ['ecli',\n",
    "                                   'name',\n",
    "                                   'date',\n",
    "                                   'abstract',\n",
    "                                   'subject',\n",
    "                                   'link',\n",
    "                                   'DisplayTitle',\n",
    "                                   'OriginalUrl',\n",
    "                                   'Jurisidiction',\n",
    "                                   'DocumentType',\n",
    "                                   'CaseNumber',\n",
    "                                   'PublicationNumber',\n",
    "                                   'IssueNumber',\n",
    "                                   'lodge_date',\n",
    "                                   'DateAdded',\n",
    "                                   'Sources',\n",
    "                                   'UrlWithAutoLogOnToken',\n",
    "                                   'court',\n",
    "                                   'DisplaySubtitle']"
   ]
  },
  {
   "cell_type": "code",
   "execution_count": null,
   "metadata": {},
   "outputs": [],
   "source": [
    "temp = df_li_cases[['ecli',\n",
    "                    'Title',\n",
    "                    'date',\n",
    "                    'abstract',\n",
    "                    'LawArea',\n",
    "                    'Url',\n",
    "                    'DisplayTitle',\n",
    "                    'OriginalUrl',\n",
    "                    'Jurisdiction',\n",
    "                    'DocumentType',\n",
    "                    'case_number',\n",
    "                    'PublicationNumber',\n",
    "                    'IssueNumber',\n",
    "                    'lodge_date',\n",
    "                    'DateAdded',\n",
    "                    'Sources',\n",
    "                    'UrlWithAutoLogOnToken',\n",
    "                    'authority',\n",
    "                    'DisplaySubtitle']]\n",
    "temp.columns = legal_intelligence_case_columns\n",
    "legal_intelligence_case = legal_intelligence_case.append(temp, ignore_index=True)"
   ]
  },
  {
   "cell_type": "code",
   "execution_count": null,
   "metadata": {},
   "outputs": [],
   "source": [
    "legal_intelligence_case.head(2)"
   ]
  },
  {
   "cell_type": "code",
   "execution_count": null,
   "metadata": {},
   "outputs": [],
   "source": [
    "#legal_intelligence_case['name'] = [i[0:250] for i in legal_intelligence_case['name']]\n",
    "#legal_intelligence_case['DisplayTitle'] = [i[0:250] for i in legal_intelligence_case['DisplayTitle']]\n",
    "legal_intelligence_case['date'] = [pd.to_datetime(i, errors='coerce') if i != 'NULL' else pd.to_datetime('1900-01-01 00:00:00') for i in df_li_cases['date']]\n",
    "legal_intelligence_case['lodge_date'] = [pd.to_datetime(i, errors='coerce') if i != 'NULL' else pd.to_datetime('1900-01-01 00:00:00') for i in df_li_cases['lodge_date']]\n",
    "legal_intelligence_case['DateAdded'] = [pd.to_datetime(i, errors='coerce') if i != 'NULL' else pd.to_datetime('1900-01-01 00:00:00') for i in df_li_cases['DateAdded']]"
   ]
  },
  {
   "cell_type": "code",
   "execution_count": null,
   "metadata": {},
   "outputs": [],
   "source": [
    "tuples = to_tuples(legal_intelligence_case)"
   ]
  },
  {
   "cell_type": "code",
   "execution_count": null,
   "metadata": {},
   "outputs": [],
   "source": [
    "try:  \n",
    "    cursor = conn.cursor()\n",
    "    for idx, data in enumerate(tuples):\n",
    "        query = (\"INSERT INTO `legal_intelligence_case`\"\n",
    "                \"(ecli, name, date, abstract, subject, link, DisplayTitle, OriginalUrl, Jurisidiction, DocumentType, CaseNumber, PublicationNumber, IssueNumber, lodge_date, DateAdded, Sources, UrlWithAutoLogOnToken, court, DisplaySubtitle)\"\n",
    "                \"VALUES (%s, %s, %s, %s, %s, %s, %s, %s, %s, %s, %s, %s, %s, %s, %s, %s, %s, %s, %s)\")\n",
    "        cursor.execute(query, data)\n",
    "    conn.commit()\n",
    "    cursor.close()\n",
    "    print('legal intelligence added')\n",
    "except Error as error :\n",
    "    conn.rollback()\n",
    "    print(\"Failed to insert into MySQL table {}\".format(error))\n",
    "    traceback.print_exc(file=sys.stdout)"
   ]
  },
  {
   "cell_type": "markdown",
   "metadata": {},
   "source": [
    "---\n",
    "### Subjects"
   ]
  },
  {
   "cell_type": "code",
   "execution_count": null,
   "metadata": {},
   "outputs": [],
   "source": [
    "subjects_as_list = [list(row.split(\"; \")) for row in df_case.subject]\n",
    "que_subjects = \\\n",
    "    set(list(\n",
    "        pd.core.common\\\n",
    "            .flatten(subjects_as_list)))"
   ]
  },
  {
   "cell_type": "code",
   "execution_count": null,
   "metadata": {},
   "outputs": [],
   "source": [
    "subject = pd.DataFrame()\n",
    "subject['name'] = list(sorted(unique_subjects))\n",
    "subject.loc[:,'standard_name'] = 'NULL'"
   ]
  },
  {
   "cell_type": "code",
   "execution_count": null,
   "metadata": {},
   "outputs": [],
   "source": [
    "subject.head(2)"
   ]
  },
  {
   "cell_type": "code",
   "execution_count": null,
   "metadata": {},
   "outputs": [],
   "source": [
    "#clean_table_sql('subject')"
   ]
  },
  {
   "cell_type": "code",
   "execution_count": null,
   "metadata": {},
   "outputs": [],
   "source": [
    "tuples = to_tuples(subject)"
   ]
  },
  {
   "cell_type": "code",
   "execution_count": null,
   "metadata": {},
   "outputs": [],
   "source": [
    "try:  \n",
    "    cursor = conn.cursor()\n",
    "    for idx, data in enumerate(tuples):\n",
    "        query = (\"INSERT INTO `subject`\"\n",
    "                \"(name, standard_name)\"\n",
    "                \"VALUES (%s, %s)\")\n",
    "        #print(idx)\n",
    "        cursor.execute(query, data)\n",
    "    conn.commit()\n",
    "    cursor.close()\n",
    "    print('subject added')\n",
    "except Error as error :\n",
    "    conn.rollback()\n",
    "    print(\"Failed to insert into MySQL table {}\".format(error))\n",
    "    traceback.print_exc(file=sys.stdout)"
   ]
  },
  {
   "cell_type": "markdown",
   "metadata": {},
   "source": [
    "---\n",
    "### Case - Subject"
   ]
  },
  {
   "cell_type": "code",
   "execution_count": null,
   "metadata": {},
   "outputs": [],
   "source": [
    "df_subjects_case = df_case[['subject','case_id']]\n",
    "df_subjects_case.loc[:,'subject'] = subjects_as_list\n",
    "df_subjects_case = df_subjects_case.explode('subject')\n",
    "len(df_subjects_case)"
   ]
  },
  {
   "cell_type": "code",
   "execution_count": null,
   "metadata": {},
   "outputs": [],
   "source": [
    "parents_ids_subjects = get_parent_ids('subject', 'name', df_subjects_case, 'subject')\n",
    "len(parents_ids_subjects "
   ]
  },
  {
   "cell_type": "code",
   "execution_count": null,
   "metadata": {},
   "outputs": [],
   "source": [
    "parents_ids_cases = get_parent_ids('case', 'ecli', df_subjects_case, 'case_id')\n",
    "len(parents_ids_cases)"
   ]
  },
  {
   "cell_type": "code",
   "execution_count": null,
   "metadata": {},
   "outputs": [],
   "source": [
    "case_subject = pd.DataFrame({'case_id':parents_ids_cases,\n",
    "                             'subject_id':parents_ids_subjects})"
   ]
  },
  {
   "cell_type": "code",
   "execution_count": null,
   "metadata": {},
   "outputs": [],
   "source": [
    "#case_subject.sort_values(by='case_id').tail(50) #quality check\n",
    "#[(type(i), type(j)) for i,j in zip(case_subject.subject_id,case_subject.case_id)]"
   ]
  },
  {
   "cell_type": "code",
   "execution_count": null,
   "metadata": {},
   "outputs": [],
   "source": [
    "case_subject.tail(3)"
   ]
  },
  {
   "cell_type": "code",
   "execution_count": null,
   "metadata": {},
   "outputs": [],
   "source": [
    "tuples = to_tuples(case_subject)\n",
    "tuples = [(int(i), int(j)) for i,j in tuples]"
   ]
  },
  {
   "cell_type": "code",
   "execution_count": null,
   "metadata": {},
   "outputs": [],
   "source": [
    "try:  \n",
    "    cursor = conn.cursor()\n",
    "    for idx, data in enumerate(tuples):\n",
    "        query = (\"INSERT INTO `case_subject`\"\n",
    "                \"(case_id, subject_id)\"\n",
    "                \"VALUES (%s, %s)\")\n",
    "        cursor.execute(query, data)\n",
    "    conn.commit()\n",
    "    cursor.close()\n",
    "    print('case_subject added')\n",
    "except Error as error :\n",
    "    conn.rollback()\n",
    "    print(\"Failed to insert into MySQL table {}\".format(error))\n",
    "    traceback.print_exc(file=sys.stdout)"
   ]
  },
  {
   "cell_type": "markdown",
   "metadata": {},
   "source": [
    "---\n",
    "### Countries"
   ]
  },
  {
   "cell_type": "code",
   "execution_count": null,
   "metadata": {},
   "outputs": [],
   "source": [
    "df_country.head()"
   ]
  },
  {
   "cell_type": "code",
   "execution_count": null,
   "metadata": {},
   "outputs": [],
   "source": [
    "df_country.loc[:,'language'] = 'NULL'\n",
    "df_country.loc[:,'eea'] = 0"
   ]
  },
  {
   "cell_type": "code",
   "execution_count": null,
   "metadata": {},
   "outputs": [],
   "source": [
    "country = pd.DataFrame()\n",
    "country_columns = ['id',\n",
    "                   'name',\n",
    "                   'language',\n",
    "                   'flag',\n",
    "                   'eu',\n",
    "                   'eea']"
   ]
  },
  {
   "cell_type": "code",
   "execution_count": null,
   "metadata": {},
   "outputs": [],
   "source": [
    "temp = df_country[['country_id',\n",
    "                   'name',\n",
    "                   'language',\n",
    "                   'flag',\n",
    "                   'eu',\n",
    "                   'eea']]\n",
    "temp.columns = country_columns\n",
    "country = country.append(temp, ignore_index=True)"
   ]
  },
  {
   "cell_type": "code",
   "execution_count": null,
   "metadata": {},
   "outputs": [],
   "source": [
    "country.head(3)"
   ]
  },
  {
   "cell_type": "code",
   "execution_count": null,
   "metadata": {},
   "outputs": [],
   "source": [
    "tuples = to_tuples(country)"
   ]
  },
  {
   "cell_type": "code",
   "execution_count": null,
   "metadata": {},
   "outputs": [],
   "source": [
    "try:  \n",
    "    cursor = conn.cursor()\n",
    "    for idx, data in enumerate(tuples):\n",
    "        query = (\"INSERT INTO `country`\"\n",
    "                \"(id, name, language, flag, eu, eea)\"\n",
    "                \"VALUES (%s, %s, %s, %s, %s, %s)\")\n",
    "        cursor.execute(query, data)\n",
    "    conn.commit()\n",
    "    cursor.close()\n",
    "    print('country added')\n",
    "except Error as error :\n",
    "    conn.rollback()\n",
    "    print(\"Failed to insert into MySQL table {}\".format(error))\n",
    "    traceback.print_exc(file=sys.stdout)"
   ]
  },
  {
   "cell_type": "markdown",
   "metadata": {},
   "source": [
    "---\n",
    "### Case - Country"
   ]
  },
  {
   "cell_type": "code",
   "execution_count": null,
   "metadata": {},
   "outputs": [],
   "source": [
    "df_case.head(2)"
   ]
  },
  {
   "cell_type": "code",
   "execution_count": null,
   "metadata": {},
   "outputs": [],
   "source": [
    "#as_list = [list(row.split(\"; \")) for row in df_case.country] #in case there is more than one country in the row"
   ]
  },
  {
   "cell_type": "code",
   "execution_count": null,
   "metadata": {},
   "outputs": [],
   "source": [
    "df_country_case = df_case[['case_id','country']]\n",
    "#df_country_case.loc[:,'country'] = as_list\n",
    "df_country_case = df_country_case.explode('country')\n",
    "len(df_country_case)"
   ]
  },
  {
   "cell_type": "code",
   "execution_count": null,
   "metadata": {},
   "outputs": [],
   "source": [
    "parents_ids_countries = get_parent_ids('country', 'id', df_country_case, 'country')\n",
    "len(parents_ids_countries)"
   ]
  },
  {
   "cell_type": "code",
   "execution_count": null,
   "metadata": {},
   "outputs": [],
   "source": [
    "parents_ids_cases = get_parent_ids('case', 'ecli', df_country_case, 'case_id')\n",
    "len(parents_ids_cases)"
   ]
  },
  {
   "cell_type": "code",
   "execution_count": null,
   "metadata": {},
   "outputs": [],
   "source": [
    "case_country = pd.DataFrame({'case_id':parents_ids_cases,\n",
    "                             'country_id':parents_ids_countries})"
   ]
  },
  {
   "cell_type": "code",
   "execution_count": null,
   "metadata": {},
   "outputs": [],
   "source": [
    "case_country.tail(3)"
   ]
  },
  {
   "cell_type": "code",
   "execution_count": null,
   "metadata": {},
   "outputs": [],
   "source": [
    "tuples = to_tuples(case_country)\n",
    "#tuples = [(int(i), int(j)) for i,j in tuples]"
   ]
  },
  {
   "cell_type": "code",
   "execution_count": null,
   "metadata": {},
   "outputs": [],
   "source": [
    "try:  \n",
    "    cursor = conn.cursor()\n",
    "    for idx, data in enumerate(tuples):\n",
    "        query = (\"INSERT INTO `case_country`\"\n",
    "                \"(case_id, country_id)\"\n",
    "                \"VALUES (%s, %s)\")\n",
    "        cursor.execute(query, data)\n",
    "    conn.commit()\n",
    "    cursor.close()\n",
    "    print('case_subject added')\n",
    "except Error as error :\n",
    "    conn.rollback()\n",
    "    print(\"Failed to insert into MySQL table {}\".format(error))\n",
    "    traceback.print_exc(file=sys.stdout)"
   ]
  },
  {
   "cell_type": "markdown",
   "metadata": {},
   "source": [
    "---\n",
    "### Case law citation"
   ]
  },
  {
   "cell_type": "code",
   "execution_count": null,
   "metadata": {},
   "outputs": [],
   "source": [
    "df_case_citation.head(4)"
   ]
  },
  {
   "cell_type": "code",
   "execution_count": null,
   "metadata": {},
   "outputs": [],
   "source": [
    "parent_ids = get_parent_ids('case', 'ecli', df_case_citation, 'source_ecli')\n",
    "df_case_citation['case_id'] = parent_ids"
   ]
  },
  {
   "cell_type": "code",
   "execution_count": null,
   "metadata": {},
   "outputs": [],
   "source": [
    "case_citation = pd.DataFrame()\n",
    "case_citation_columns = ['source_ecli',\n",
    "                         'source_paragraph',\n",
    "                         'target_ecli',\n",
    "                         'target_paragraph',\n",
    "                        'case_id']"
   ]
  },
  {
   "cell_type": "code",
   "execution_count": null,
   "metadata": {},
   "outputs": [],
   "source": [
    "temp = df_case_citation[['source_ecli',\n",
    "                         'source_paragraph',\n",
    "                         'target_ecli',\n",
    "                         'target_paragraph',\n",
    "                         'case_id']]\n",
    "temp.columns = case_citation_columns\n",
    "case_citation = case_citation.append(temp, ignore_index=True)"
   ]
  },
  {
   "cell_type": "code",
   "execution_count": null,
   "metadata": {},
   "outputs": [],
   "source": [
    "case_citation.head(3)"
   ]
  },
  {
   "cell_type": "code",
   "execution_count": null,
   "metadata": {},
   "outputs": [],
   "source": [
    "tuples = to_tuples(case_citation)"
   ]
  },
  {
   "cell_type": "code",
   "execution_count": null,
   "metadata": {},
   "outputs": [],
   "source": [
    "try:  \n",
    "    cursor = conn.cursor()\n",
    "    for idx, data in enumerate(tuples):\n",
    "        query = (\"INSERT INTO `case_citation`\"\n",
    "                \"(source_ecli, source_paragraph, target_ecli, target_paragraph, case_id)\"\n",
    "                \"VALUES (%s, %s, %s, %s, %s)\")\n",
    "        cursor.execute(query, data)\n",
    "    conn.commit()\n",
    "    cursor.close()\n",
    "    print('case_citation added')\n",
    "except Error as error :\n",
    "    conn.rollback()\n",
    "    print(\"Failed to insert into MySQL table {}\".format(error))\n",
    "    traceback.print_exc(file=sys.stdout)"
   ]
  },
  {
   "cell_type": "markdown",
   "metadata": {},
   "source": [
    "---\n",
    "### Legislation citation"
   ]
  },
  {
   "cell_type": "code",
   "execution_count": null,
   "metadata": {},
   "outputs": [],
   "source": [
    "df_legislation_citation.head(4)"
   ]
  },
  {
   "cell_type": "code",
   "execution_count": null,
   "metadata": {},
   "outputs": [],
   "source": [
    "parent_ids = get_parent_ids('case', 'ecli', df_legislation_citation, 'source_ecli')\n",
    "df_legislation_citation['case_id'] = parent_ids"
   ]
  },
  {
   "cell_type": "code",
   "execution_count": null,
   "metadata": {},
   "outputs": [],
   "source": [
    "df_legislation_citation.loc[:,'target_name'] = 'NULL'\n",
    "df_legislation_citation.loc[:,'target_sourcename'] = 'NULL'"
   ]
  },
  {
   "cell_type": "code",
   "execution_count": null,
   "metadata": {},
   "outputs": [],
   "source": [
    "legislation_citation = pd.DataFrame()\n",
    "legislation_citation_columns = ['source_ecli',\n",
    "                                'source_paragraph',\n",
    "                                'target_article',\n",
    "                                'target_paragraph',\n",
    "                                'target_name',\n",
    "                                'target_sourcename',\n",
    "                                'target_link'\n",
    "                                'case_id']"
   ]
  },
  {
   "cell_type": "code",
   "execution_count": null,
   "metadata": {},
   "outputs": [],
   "source": [
    "temp = df_legislation_citation[['source_ecli',\n",
    "                                'source_paragraph',\n",
    "                                'target_article',\n",
    "                                'target_article_paragraph',\n",
    "                                'target_name',\n",
    "                                'target_sourcename',\n",
    "                                'target_article_webpage'\n",
    "                                'case_id']]\n",
    "temp.columns = legislation_citation_columns\n",
    "legislation_citation = legislation_citation.append(temp, ignore_index=True)"
   ]
  },
  {
   "cell_type": "code",
   "execution_count": null,
   "metadata": {},
   "outputs": [],
   "source": [
    "legislation_citation.head(3)"
   ]
  },
  {
   "cell_type": "code",
   "execution_count": null,
   "metadata": {},
   "outputs": [],
   "source": [
    "tuples = to_tuples(legislation_citation)"
   ]
  },
  {
   "cell_type": "code",
   "execution_count": null,
   "metadata": {},
   "outputs": [],
   "source": [
    "try:  \n",
    "    cursor = conn.cursor()\n",
    "    for idx, data in enumerate(tuples):\n",
    "        query = (\"INSERT INTO `legislation_citation`\"\n",
    "                \"(source_ecli, source_paragraph, target_article, target_paragraph, target_name, target_sourcename, target_link, case_id)\"\n",
    "                \"VALUES (%s, %s, %s, %s, %s, %s, %s, %s)\")\n",
    "        cursor.execute(query, data)\n",
    "    conn.commit()\n",
    "    cursor.close()\n",
    "    print('legislation_citation added')\n",
    "except Error as error :\n",
    "    conn.rollback()\n",
    "    print(\"Failed to insert into MySQL table {}\".format(error))\n",
    "    traceback.print_exc(file=sys.stdout)"
   ]
  },
  {
   "cell_type": "markdown",
   "metadata": {},
   "source": [
    "---\n",
    "### Case related decision"
   ]
  },
  {
   "cell_type": "code",
   "execution_count": null,
   "metadata": {},
   "outputs": [],
   "source": [
    "df_case_related = df_case[['case_id','related_cases']]\\\n",
    "    .rename(columns = {'case_id':'source_ecli', \n",
    "                       'related_cases': 'referencing_case_ecli'})"
   ]
  },
  {
   "cell_type": "code",
   "execution_count": null,
   "metadata": {},
   "outputs": [],
   "source": [
    "parent_ids = get_parent_ids('case', 'ecli', df_case_related, 'source_ecli')\n",
    "df_case_related['case_id'] = parent_ids"
   ]
  },
  {
   "cell_type": "code",
   "execution_count": null,
   "metadata": {},
   "outputs": [],
   "source": [
    "df_case_related.loc[:,'referenced_case_ecli'] = 'NULL'"
   ]
  },
  {
   "cell_type": "code",
   "execution_count": null,
   "metadata": {},
   "outputs": [],
   "source": [
    "df_case_related.head(2)"
   ]
  },
  {
   "cell_type": "code",
   "execution_count": null,
   "metadata": {},
   "outputs": [],
   "source": [
    "case_related_decision = pd.DataFrame()\n",
    "case_related_decision_columns = ['source_ecli',\n",
    "                                 'referencing_case_ecli',\n",
    "                                'referenced_case_ecli',\n",
    "                                'case_id']"
   ]
  },
  {
   "cell_type": "code",
   "execution_count": null,
   "metadata": {},
   "outputs": [],
   "source": [
    "temp = df_case_related[['source_ecli',\n",
    "                                'referencing_case_ecli',\n",
    "                                'referenced_case_ecli',\n",
    "                                'case_id']]\n",
    "temp.columns = case_related_decision_columns\n",
    "case_related_decision = case_related_decision.append(temp, ignore_index=True)"
   ]
  },
  {
   "cell_type": "code",
   "execution_count": null,
   "metadata": {},
   "outputs": [],
   "source": [
    "case_related_decision.head(3)"
   ]
  },
  {
   "cell_type": "code",
   "execution_count": null,
   "metadata": {},
   "outputs": [],
   "source": [
    "tuples = to_tuples(case_related_decision)"
   ]
  },
  {
   "cell_type": "code",
   "execution_count": null,
   "metadata": {},
   "outputs": [],
   "source": [
    "try:  \n",
    "    cursor = conn.cursor()\n",
    "    for idx, data in enumerate(tuples):\n",
    "        query = (\"INSERT INTO `case_related_decision`\"\n",
    "                \"(source_ecli, referencing_case_ecli, referenced_case_ecli, case_id)\"\n",
    "                \"VALUES (%s, %s, %s, %s)\")\n",
    "        cursor.execute(query, data)\n",
    "    conn.commit()\n",
    "    cursor.close()\n",
    "    print('legislation_citation added')\n",
    "except Error as error :\n",
    "    conn.rollback()\n",
    "    print(\"Failed to insert into MySQL table {}\".format(error))\n",
    "    traceback.print_exc(file=sys.stdout)"
   ]
  }
 ],
 "metadata": {
  "kernelspec": {
   "display_name": "Python 3",
   "language": "python",
   "name": "python3"
  },
  "language_info": {
   "codemirror_mode": {
    "name": "ipython",
    "version": 3
   },
   "file_extension": ".py",
   "mimetype": "text/x-python",
   "name": "python",
   "nbconvert_exporter": "python",
   "pygments_lexer": "ipython3",
   "version": "3.7.4"
  },
  "nteract": {
   "version": "0.15.0"
  }
 },
 "nbformat": 4,
 "nbformat_minor": 4
}
