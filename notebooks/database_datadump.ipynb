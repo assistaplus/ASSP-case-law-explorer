{
 "cells": [
  {
   "cell_type": "markdown",
   "metadata": {},
   "source": [
    "## Data flow to mysql"
   ]
  },
  {
   "cell_type": "code",
   "execution_count": 26,
   "metadata": {},
   "outputs": [],
   "source": [
    "import mysql.connector as mdb\n",
    "from mysql.connector import Error\n",
    "import sys, traceback"
   ]
  },
  {
   "cell_type": "code",
   "execution_count": 2,
   "metadata": {},
   "outputs": [],
   "source": [
    "def open_database(host, db_name, username, password):\n",
    "    try:\n",
    "        connection = mdb.connect(host=host,\n",
    "                                 database=db_name,\n",
    "                                 user=username,\n",
    "                                 password=password)\n",
    "        if connection.is_connected():\n",
    "           db_Info = connection.get_server_info()\n",
    "           print(\"Connected to MySQL database... MySQL Server version on \",db_Info)\n",
    "           cursor = connection.cursor()\n",
    "           cursor.execute(\"select database();\")\n",
    "           record = cursor.fetchone()\n",
    "           print (\"Your connected to - \", record)\n",
    "           cursor.close()\n",
    "    except Error as e :\n",
    "        print (\"Error while connecting to MySQL\", e)\n",
    "    return connection"
   ]
  },
  {
   "cell_type": "code",
   "execution_count": 3,
   "metadata": {},
   "outputs": [],
   "source": [
    "def close_database(connection):\n",
    "    #closing database connection.\n",
    "    if(connection.is_connected()):\n",
    "        connection.close()\n",
    "        print(\"MySQL connection is closed\")"
   ]
  },
  {
   "cell_type": "code",
   "execution_count": 4,
   "metadata": {},
   "outputs": [
    {
     "name": "stdout",
     "output_type": "stream",
     "text": [
      "Connected to MySQL database... MySQL Server version on  8.0.15\n",
      "Your connected to -  ('caselaw',)\n"
     ]
    }
   ],
   "source": [
    "conn = open_database('localhost', 'caselaw', 'root', 'H3rnandez!')"
   ]
  },
  {
   "cell_type": "code",
   "execution_count": 5,
   "metadata": {},
   "outputs": [
    {
     "name": "stdout",
     "output_type": "stream",
     "text": [
      "None\n"
     ]
    }
   ],
   "source": [
    "query = \"\"\"SELECT * FROM caselaw.case LIMIT 10;\"\"\"\n",
    "cursor = conn.cursor()\n",
    "print(cursor.execute(query))"
   ]
  },
  {
   "cell_type": "markdown",
   "metadata": {},
   "source": [
    "---\n",
    "### Datasets"
   ]
  },
  {
   "cell_type": "code",
   "execution_count": 6,
   "metadata": {},
   "outputs": [],
   "source": [
    "import pandas as pd\n",
    "import numpy as np"
   ]
  },
  {
   "cell_type": "code",
   "execution_count": 7,
   "metadata": {},
   "outputs": [
    {
     "name": "stdout",
     "output_type": "stream",
     "text": [
      "case.csv                               cases_metadata.csv\n",
      "case_opinion_from_advocate_general.csv countries.csv\n",
      "caselawDB.sql                          legal_intelligence_cases.csv\n",
      "caselaw_citations.csv                  legislation_citations.csv\n"
     ]
    }
   ],
   "source": [
    "!ls ../data_dump"
   ]
  },
  {
   "cell_type": "code",
   "execution_count": 8,
   "metadata": {},
   "outputs": [
    {
     "name": "stderr",
     "output_type": "stream",
     "text": [
      "/Users/pedrohserrano/opt/anaconda3/lib/python3.7/site-packages/IPython/core/interactiveshell.py:3058: DtypeWarning: Columns (6) have mixed types. Specify dtype option on import or set low_memory=False.\n",
      "  interactivity=interactivity, compiler=compiler, result=result)\n",
      "/Users/pedrohserrano/opt/anaconda3/lib/python3.7/site-packages/IPython/core/interactiveshell.py:3058: DtypeWarning: Columns (12) have mixed types. Specify dtype option on import or set low_memory=False.\n",
      "  interactivity=interactivity, compiler=compiler, result=result)\n"
     ]
    }
   ],
   "source": [
    "df_case = pd.read_csv(\"../data_dump/case.csv\").replace(np.nan, 'NULL', regex=True)\n",
    "df_country = pd.read_csv(\"../data_dump/countries.csv\").replace(np.nan, 'NULL', regex=True)\n",
    "df_li_cases = pd.read_csv(\"../data_dump/legal_intelligence_cases.csv\").replace(np.nan, 'NULL', regex=True)\n",
    "df_case_opinion = pd.read_csv(\"../data_dump/case_opinion_from_advocate_general.csv\").replace(np.nan, 'NULL', regex=True)\n",
    "df_case_citation = pd.read_csv(\"../data_dump/caselaw_citations.csv\").replace(np.nan, 'NULL', regex=True)\n",
    "df_legislation_citation = pd.read_csv(\"../data_dump/legislation_citations.csv\").replace(np.nan, 'NULL', regex=True)"
   ]
  },
  {
   "cell_type": "markdown",
   "metadata": {},
   "source": [
    "---\n",
    "### Tables Hierarchies"
   ]
  },
  {
   "cell_type": "markdown",
   "metadata": {},
   "source": [
    "1. Court\n",
    "2. Case\n",
    "3. Case Opinion\n",
    "4. LI Case\n",
    "5. Subject\n",
    "6. Case subject\n",
    "7. Country\n",
    "8. Case country\n",
    "9. Case citation\n",
    "10. Legislation citation\n",
    "11. Case related decision\n"
   ]
  },
  {
   "cell_type": "code",
   "execution_count": 9,
   "metadata": {},
   "outputs": [],
   "source": [
    "case_opinion = pd.DataFrame()\n",
    "case_opinion_columns = ['id',\n",
    "                'date',\n",
    "                'case_number',\n",
    "                'description',\n",
    "                'language',\n",
    "                'country',\n",
    "                'venue',\n",
    "                'abstract',\n",
    "                'procedure_type',\n",
    "                'authority',\n",
    "                'ecli']"
   ]
  },
  {
   "cell_type": "code",
   "execution_count": 10,
   "metadata": {},
   "outputs": [],
   "source": [
    "legal_intelligence_case = pd.DataFrame()\n",
    "legal_intelligence_case_columns = ['id',\n",
    "           'ecli',\n",
    "           'name',\n",
    "           'date',\n",
    "           'abstract',\n",
    "           'subject',\n",
    "           'link',\n",
    "           'DisplayTitle',\n",
    "           'OriginalUrl',\n",
    "           'Jurisidiction',\n",
    "           'DocumentType',\n",
    "           'CaseNumber',\n",
    "           'PublicationNumber',\n",
    "           'IssueNumber',\n",
    "           'lodge_date',\n",
    "           'DateAdded',\n",
    "           'Sources',\n",
    "           'UrlWithAutoLogOnToken',\n",
    "           'court',\n",
    "           'DisplaySubtitle']"
   ]
  },
  {
   "cell_type": "code",
   "execution_count": 11,
   "metadata": {},
   "outputs": [],
   "source": [
    "subject = pd.DataFrame()\n",
    "subject_columns = ['id',\n",
    "           'name',\n",
    "           'standard_name']"
   ]
  },
  {
   "cell_type": "code",
   "execution_count": 12,
   "metadata": {},
   "outputs": [],
   "source": [
    "case_subject = pd.DataFrame()\n",
    "case_subject_columns = ['case_id',\n",
    "                'subject_id']"
   ]
  },
  {
   "cell_type": "code",
   "execution_count": 13,
   "metadata": {},
   "outputs": [],
   "source": [
    "country = pd.DataFrame()\n",
    "country_columns = ['id',\n",
    "           'name',\n",
    "           'language',\n",
    "           'flag',\n",
    "           'eu',\n",
    "           'eea']"
   ]
  },
  {
   "cell_type": "code",
   "execution_count": 14,
   "metadata": {},
   "outputs": [],
   "source": [
    "case_country = pd.DataFrame()\n",
    "case_country_columns = ['case_id',\n",
    "                'country_id']"
   ]
  },
  {
   "cell_type": "code",
   "execution_count": 15,
   "metadata": {},
   "outputs": [],
   "source": [
    "case_citation = pd.DataFrame()\n",
    "case_citation_columns = ['id',\n",
    "                 'source_ecli',\n",
    "                 'source_paragraph',\n",
    "                 'target_ecli',\n",
    "                 'target_paragraph']"
   ]
  },
  {
   "cell_type": "code",
   "execution_count": 16,
   "metadata": {},
   "outputs": [],
   "source": [
    "legislation_citation = pd.DataFrame()\n",
    "legislation_citation_columns = ['id',\n",
    "                        'source_paragraph',\n",
    "                        'target_id',\n",
    "                        'target_paragraph',\n",
    "                        'target_name',\n",
    "                        'target_sourcename',\n",
    "                        'target_link',\n",
    "                        'case_id']"
   ]
  },
  {
   "cell_type": "code",
   "execution_count": 17,
   "metadata": {},
   "outputs": [],
   "source": [
    "case_related_decision = pd.DataFrame()\n",
    "case_related_decision_columns = ['id',\n",
    "                'referencing_case_ecli',\n",
    "                'referenced_case_ecli',\n",
    "                'case_id']"
   ]
  },
  {
   "cell_type": "code",
   "execution_count": 18,
   "metadata": {},
   "outputs": [],
   "source": [
    "def to_tuples(df):\n",
    "    return [tuple(x) for x in df.values]"
   ]
  },
  {
   "cell_type": "code",
   "execution_count": 27,
   "metadata": {},
   "outputs": [],
   "source": [
    "def clean_table_sql(table_name):\n",
    "    try:\n",
    "        cursor = conn.cursor()\n",
    "        query_delete = \"\"\"delete from `{}`;\"\"\".format(table_name)\n",
    "        cursor.execute(query_delete)\n",
    "        query = \"\"\"ALTER TABLE `{}` AUTO_INCREMENT = 1;\"\"\".format(table_name)\n",
    "        cursor.execute(query)\n",
    "        conn.commit()\n",
    "        cursor.close()\n",
    "    except Error as error :\n",
    "        conn.rollback()\n",
    "        print(\"Failed to insert into MySQL table {}\".format(error))\n",
    "        traceback.print_exc(file=sys.stdout)"
   ]
  },
  {
   "cell_type": "markdown",
   "metadata": {},
   "source": [
    "---\n",
    "### Courts"
   ]
  },
  {
   "cell_type": "code",
   "execution_count": 20,
   "metadata": {},
   "outputs": [],
   "source": [
    "court = pd.DataFrame()"
   ]
  },
  {
   "cell_type": "code",
   "execution_count": 21,
   "metadata": {},
   "outputs": [],
   "source": [
    "courts_list = df_case.authority.unique()\n",
    "#court['id'] = range(1, len(courts_list)+1)\n",
    "court['name'] = courts_list"
   ]
  },
  {
   "cell_type": "code",
   "execution_count": 22,
   "metadata": {},
   "outputs": [],
   "source": [
    "#dummies\n",
    "court.loc[:,'type'] = 'NULL'\n",
    "court.loc[:,'level'] = 'NULL'\n",
    "#court.loc[:,'country'] = 'NULL' #VARCHAR(2)\n",
    "#court.loc[:,'language'] = 'NULL' #VARCHAR(2)\n",
    "court.loc[:,'jurisdiction'] = 'NULL' \n",
    "court.loc[:,'law_area'] = 'NULL'\n",
    "court.loc[:,'authority_level'] = 'NULL'"
   ]
  },
  {
   "cell_type": "code",
   "execution_count": 23,
   "metadata": {},
   "outputs": [
    {
     "data": {
      "text/html": [
       "<div>\n",
       "<style scoped>\n",
       "    .dataframe tbody tr th:only-of-type {\n",
       "        vertical-align: middle;\n",
       "    }\n",
       "\n",
       "    .dataframe tbody tr th {\n",
       "        vertical-align: top;\n",
       "    }\n",
       "\n",
       "    .dataframe thead th {\n",
       "        text-align: right;\n",
       "    }\n",
       "</style>\n",
       "<table border=\"1\" class=\"dataframe\">\n",
       "  <thead>\n",
       "    <tr style=\"text-align: right;\">\n",
       "      <th></th>\n",
       "      <th>name</th>\n",
       "      <th>type</th>\n",
       "      <th>level</th>\n",
       "      <th>jurisdiction</th>\n",
       "      <th>law_area</th>\n",
       "      <th>authority_level</th>\n",
       "    </tr>\n",
       "  </thead>\n",
       "  <tbody>\n",
       "    <tr>\n",
       "      <td>0</td>\n",
       "      <td>Gerechtshof Amsterdam</td>\n",
       "      <td>NULL</td>\n",
       "      <td>NULL</td>\n",
       "      <td>NULL</td>\n",
       "      <td>NULL</td>\n",
       "      <td>NULL</td>\n",
       "    </tr>\n",
       "    <tr>\n",
       "      <td>1</td>\n",
       "      <td>Gerechtshof Arnhem</td>\n",
       "      <td>NULL</td>\n",
       "      <td>NULL</td>\n",
       "      <td>NULL</td>\n",
       "      <td>NULL</td>\n",
       "      <td>NULL</td>\n",
       "    </tr>\n",
       "  </tbody>\n",
       "</table>\n",
       "</div>"
      ],
      "text/plain": [
       "                    name  type level jurisdiction law_area authority_level\n",
       "0  Gerechtshof Amsterdam  NULL  NULL         NULL     NULL            NULL\n",
       "1     Gerechtshof Arnhem  NULL  NULL         NULL     NULL            NULL"
      ]
     },
     "execution_count": 23,
     "metadata": {},
     "output_type": "execute_result"
    }
   ],
   "source": [
    "court.head(2)"
   ]
  },
  {
   "cell_type": "code",
   "execution_count": 24,
   "metadata": {},
   "outputs": [],
   "source": [
    "tuples = to_tuples(court)"
   ]
  },
  {
   "cell_type": "code",
   "execution_count": 28,
   "metadata": {},
   "outputs": [],
   "source": [
    "clean_table_sql('court')"
   ]
  },
  {
   "cell_type": "code",
   "execution_count": 29,
   "metadata": {},
   "outputs": [
    {
     "name": "stdout",
     "output_type": "stream",
     "text": [
      "Court table created\n"
     ]
    }
   ],
   "source": [
    "try:  \n",
    "    cursor = conn.cursor()\n",
    "    for idx, data in enumerate(tuples):\n",
    "        if \"'\" in data[0]:\n",
    "            query = \"\"\"\n",
    "            INSERT INTO `court` (name, type, level, jurisdiction, law_area, authority_level)\n",
    "            VALUES (\\\"%s\\\", %s, %s, %s, %s, %s)\n",
    "            \"\"\"%data\n",
    "        else:\n",
    "            query = \"\"\"\n",
    "            INSERT INTO `court` (name, type, level, jurisdiction, law_area, authority_level)\n",
    "            VALUES ('%s', %s, %s, %s, %s, %s)\n",
    "            \"\"\"%data\n",
    "        #print(idx, query)\n",
    "        result  = cursor.execute(query)\n",
    "    conn.commit()\n",
    "    cursor.close()\n",
    "    print('Court table created')\n",
    "except Error as error :\n",
    "    conn.rollback()\n",
    "    print(\"Failed to insert into MySQL table {}\".format(error))\n",
    "    traceback.print_exc(file=sys.stdout)"
   ]
  },
  {
   "cell_type": "code",
   "execution_count": 30,
   "metadata": {},
   "outputs": [
    {
     "data": {
      "text/plain": [
       "1223"
      ]
     },
     "execution_count": 30,
     "metadata": {},
     "output_type": "execute_result"
    }
   ],
   "source": [
    "len(court)"
   ]
  },
  {
   "cell_type": "markdown",
   "metadata": {},
   "source": [
    "---\n",
    "### Case"
   ]
  },
  {
   "cell_type": "code",
   "execution_count": 31,
   "metadata": {},
   "outputs": [],
   "source": [
    "case = pd.DataFrame()\n",
    "case_columns = ['date',\n",
    "        'description',\n",
    "        'language',\n",
    "        'venue',\n",
    "        'abstract',\n",
    "        'procedure_type',\n",
    "        'lodge_date',\n",
    "        'link',\n",
    "        'ecli']"
   ]
  },
  {
   "cell_type": "code",
   "execution_count": 32,
   "metadata": {},
   "outputs": [],
   "source": [
    "temp = df_case[['date',\n",
    "                'description',\n",
    "                'language',\n",
    "                'venue',\n",
    "                'abstract',\n",
    "                'procedure_type',\n",
    "                'lodge_date',\n",
    "                'alternative_sources',\n",
    "                'case_id']]\n",
    "temp.columns = case_columns\n",
    "case = case.append(temp, ignore_index=True)"
   ]
  },
  {
   "cell_type": "code",
   "execution_count": 33,
   "metadata": {},
   "outputs": [
    {
     "data": {
      "text/html": [
       "<div>\n",
       "<style scoped>\n",
       "    .dataframe tbody tr th:only-of-type {\n",
       "        vertical-align: middle;\n",
       "    }\n",
       "\n",
       "    .dataframe tbody tr th {\n",
       "        vertical-align: top;\n",
       "    }\n",
       "\n",
       "    .dataframe thead th {\n",
       "        text-align: right;\n",
       "    }\n",
       "</style>\n",
       "<table border=\"1\" class=\"dataframe\">\n",
       "  <thead>\n",
       "    <tr style=\"text-align: right;\">\n",
       "      <th></th>\n",
       "      <th>date</th>\n",
       "      <th>description</th>\n",
       "      <th>language</th>\n",
       "      <th>venue</th>\n",
       "      <th>abstract</th>\n",
       "      <th>procedure_type</th>\n",
       "      <th>lodge_date</th>\n",
       "      <th>link</th>\n",
       "      <th>ecli</th>\n",
       "    </tr>\n",
       "  </thead>\n",
       "  <tbody>\n",
       "    <tr>\n",
       "      <td>0</td>\n",
       "      <td>1913-03-31</td>\n",
       "      <td>NULL</td>\n",
       "      <td>NL</td>\n",
       "      <td>NULL</td>\n",
       "      <td>NULL</td>\n",
       "      <td>NULL</td>\n",
       "      <td>NULL</td>\n",
       "      <td>\\n        \\n          &lt;rdf:list xmlns:rdf=\"htt...</td>\n",
       "      <td>ECLI:NL:GHAMS:1913:15</td>\n",
       "    </tr>\n",
       "    <tr>\n",
       "      <td>1</td>\n",
       "      <td>1913-02-28</td>\n",
       "      <td>NULL</td>\n",
       "      <td>NL</td>\n",
       "      <td>NULL</td>\n",
       "      <td>NULL</td>\n",
       "      <td>NULL</td>\n",
       "      <td>NULL</td>\n",
       "      <td>\\n        \\n          &lt;rdf:list xmlns:rdf=\"htt...</td>\n",
       "      <td>ECLI:NL:GHAMS:1913:28</td>\n",
       "    </tr>\n",
       "    <tr>\n",
       "      <td>2</td>\n",
       "      <td>1913-03-17</td>\n",
       "      <td>NULL</td>\n",
       "      <td>NL</td>\n",
       "      <td>NULL</td>\n",
       "      <td>NULL</td>\n",
       "      <td>NULL</td>\n",
       "      <td>NULL</td>\n",
       "      <td>\\n        \\n          &lt;rdf:list xmlns:rdf=\"htt...</td>\n",
       "      <td>ECLI:NL:GHAMS:1913:19</td>\n",
       "    </tr>\n",
       "    <tr>\n",
       "      <td>3</td>\n",
       "      <td>1913-02-28</td>\n",
       "      <td>NULL</td>\n",
       "      <td>NL</td>\n",
       "      <td>NULL</td>\n",
       "      <td>NULL</td>\n",
       "      <td>NULL</td>\n",
       "      <td>NULL</td>\n",
       "      <td>\\n        \\n          &lt;rdf:list xmlns:rdf=\"htt...</td>\n",
       "      <td>ECLI:NL:GHAMS:1913:4</td>\n",
       "    </tr>\n",
       "    <tr>\n",
       "      <td>4</td>\n",
       "      <td>1913-03-10</td>\n",
       "      <td>NULL</td>\n",
       "      <td>NL</td>\n",
       "      <td>NULL</td>\n",
       "      <td>NULL</td>\n",
       "      <td>NULL</td>\n",
       "      <td>NULL</td>\n",
       "      <td>\\n        \\n          &lt;rdf:list xmlns:rdf=\"htt...</td>\n",
       "      <td>ECLI:NL:GHAMS:1913:20</td>\n",
       "    </tr>\n",
       "  </tbody>\n",
       "</table>\n",
       "</div>"
      ],
      "text/plain": [
       "         date description language venue abstract procedure_type lodge_date  \\\n",
       "0  1913-03-31        NULL       NL  NULL     NULL           NULL       NULL   \n",
       "1  1913-02-28        NULL       NL  NULL     NULL           NULL       NULL   \n",
       "2  1913-03-17        NULL       NL  NULL     NULL           NULL       NULL   \n",
       "3  1913-02-28        NULL       NL  NULL     NULL           NULL       NULL   \n",
       "4  1913-03-10        NULL       NL  NULL     NULL           NULL       NULL   \n",
       "\n",
       "                                                link                   ecli  \n",
       "0  \\n        \\n          <rdf:list xmlns:rdf=\"htt...  ECLI:NL:GHAMS:1913:15  \n",
       "1  \\n        \\n          <rdf:list xmlns:rdf=\"htt...  ECLI:NL:GHAMS:1913:28  \n",
       "2  \\n        \\n          <rdf:list xmlns:rdf=\"htt...  ECLI:NL:GHAMS:1913:19  \n",
       "3  \\n        \\n          <rdf:list xmlns:rdf=\"htt...   ECLI:NL:GHAMS:1913:4  \n",
       "4  \\n        \\n          <rdf:list xmlns:rdf=\"htt...  ECLI:NL:GHAMS:1913:20  "
      ]
     },
     "execution_count": 33,
     "metadata": {},
     "output_type": "execute_result"
    }
   ],
   "source": [
    "case.head()"
   ]
  },
  {
   "cell_type": "code",
   "execution_count": 38,
   "metadata": {},
   "outputs": [],
   "source": [
    "def get_parent_ids(df, columnname):    \n",
    "    pid = []\n",
    "    cursor = conn .cursor()\n",
    "    for idx, data in enumerate(df[columnname]):\n",
    "        if '\"' in data:\n",
    "            sql_select_Query = \"SELECT id FROM court WHERE name = '{}'\".format(data)\n",
    "            datum = data\n",
    "        else:\n",
    "            sql_select_Query = \"SELECT id FROM court WHERE name = \\\"{}\\\"\".format(data)\n",
    "            datum = data\n",
    "        cursor.execute(sql_select_Query)\n",
    "        records = cursor.fetchall()\n",
    "         if(len(records) == 0):\n",
    "            print('no records')\n",
    "        #print(idx, records)\n",
    "        #print(sql_select_Query)\n",
    "        pid.append(records[0][0])\n",
    "    cursor.close()\n",
    "    return pid"
   ]
  },
  {
   "cell_type": "code",
   "execution_count": null,
   "metadata": {},
   "outputs": [],
   "source": [
    "parents_ids = get_parent_ids(df_case, 'authority')"
   ]
  },
  {
   "cell_type": "code",
   "execution_count": 42,
   "metadata": {},
   "outputs": [
    {
     "data": {
      "text/plain": [
       "1223"
      ]
     },
     "execution_count": 42,
     "metadata": {},
     "output_type": "execute_result"
    }
   ],
   "source": [
    "len(parents_ids)"
   ]
  },
  {
   "cell_type": "code",
   "execution_count": 43,
   "metadata": {},
   "outputs": [
    {
     "data": {
      "text/plain": [
       "2632420"
      ]
     },
     "execution_count": 43,
     "metadata": {},
     "output_type": "execute_result"
    }
   ],
   "source": [
    "len(case)"
   ]
  },
  {
   "cell_type": "code",
   "execution_count": null,
   "metadata": {},
   "outputs": [],
   "source": [
    "case['court_id'] = parents_ids"
   ]
  },
  {
   "cell_type": "code",
   "execution_count": null,
   "metadata": {},
   "outputs": [],
   "source": []
  },
  {
   "cell_type": "code",
   "execution_count": null,
   "metadata": {},
   "outputs": [],
   "source": []
  },
  {
   "cell_type": "code",
   "execution_count": 48,
   "metadata": {},
   "outputs": [
    {
     "data": {
      "text/plain": [
       "0          NULL\n",
       "1          NULL\n",
       "2          NULL\n",
       "3          NULL\n",
       "4          NULL\n",
       "           ... \n",
       "2632415    NULL\n",
       "2632416    NULL\n",
       "2632417    NULL\n",
       "2632418    NULL\n",
       "2632419    NULL\n",
       "Name: procedure_type, Length: 2632420, dtype: object"
      ]
     },
     "execution_count": 48,
     "metadata": {},
     "output_type": "execute_result"
    }
   ],
   "source": [
    "df_case.procedure_type"
   ]
  },
  {
   "cell_type": "code",
   "execution_count": 43,
   "metadata": {},
   "outputs": [],
   "source": [
    "df_case['name'] = 'NULL'"
   ]
  },
  {
   "cell_type": "code",
   "execution_count": null,
   "metadata": {},
   "outputs": [],
   "source": [
    "df_case[[]]"
   ]
  },
  {
   "cell_type": "code",
   "execution_count": 42,
   "metadata": {},
   "outputs": [],
   "source": [
    "case = pd.DataFrame()"
   ]
  },
  {
   "cell_type": "code",
   "execution_count": null,
   "metadata": {},
   "outputs": [],
   "source": [
    "case['name'] = 'NULL'"
   ]
  },
  {
   "cell_type": "code",
   "execution_count": 91,
   "metadata": {},
   "outputs": [],
   "source": [
    "#pivot table\n",
    "cases = pd.DataFrame()\n",
    "#cases['case_id'] #incremental databse id INT NOT NULL AUTO_INCREMENT,\n",
    "cases['case_ecli'] = cases_metadata.id #NOT NULL,`fk_related_decision` fk_case_opinion`\n",
    "cases['date'] = pd.to_datetime(cases_metadata['date'])\n",
    "#cases['name'] = \n",
    "cases['description'] = cases_metadata.description\n",
    "cases['language'] = cases_metadata.language\n",
    "cases['venue'] = cases_metadata.venue\n",
    "cases['abstract'] = cases_metadata.abstract\n",
    "cases['procedure_type'] = cases_metadata.procedure_type\n",
    "#cases['lodge_date'] = cases_metadata.lodge_date\n",
    "#cases['link'] = cases_metadata.alternative_sources\n",
    "#cases['country_id'] #`fk_country`\n",
    "#cases['subject_id'] #`fk_subject`\n",
    "#cases['court_id'] #fk_authority`"
   ]
  },
  {
   "cell_type": "code",
   "execution_count": 92,
   "metadata": {},
   "outputs": [
    {
     "name": "stdout",
     "output_type": "stream",
     "text": [
      "cases added\n"
     ]
    }
   ],
   "source": [
    "tuples = to_tuples(cases)\n",
    "import traceback, sys\n",
    "try:  \n",
    "    cursor = conn.cursor()\n",
    "    for data in tuples:\n",
    "        query = \"\"\"INSERT INTO `cases` (case_ecli, date, description, language, venue, abstract, procedure_type) \n",
    "        VALUES (%s, %s, %s, %s, %s, %s, %s)\"\"\"\n",
    "        result  = cursor.execute(query, data)\n",
    "    conn.commit()\n",
    "    cursor.close()\n",
    "    print('cases added')\n",
    "except Error as error :\n",
    "    conn.rollback()\n",
    "    print(\"Failed to insert into MySQL table {}\".format(error))\n",
    "    traceback.print_exc(file=sys.stdout)"
   ]
  },
  {
   "cell_type": "code",
   "execution_count": null,
   "metadata": {},
   "outputs": [],
   "source": []
  },
  {
   "cell_type": "code",
   "execution_count": null,
   "metadata": {},
   "outputs": [],
   "source": []
  },
  {
   "cell_type": "code",
   "execution_count": null,
   "metadata": {},
   "outputs": [],
   "source": []
  },
  {
   "cell_type": "code",
   "execution_count": null,
   "metadata": {},
   "outputs": [],
   "source": []
  },
  {
   "cell_type": "markdown",
   "metadata": {},
   "source": [
    "---\n",
    "### Countries"
   ]
  },
  {
   "cell_type": "code",
   "execution_count": 11,
   "metadata": {},
   "outputs": [],
   "source": [
    "#catalogue\n",
    "#countries = pd.DataFrame()\n",
    "#countries['country_id'] #NOT NULL COMMENT 'Country ISO Code',\n",
    "#countries['name'] #'English name',\n",
    "#countries['language'] #'ISO code for language spoken in country',\n",
    "#countries['flag'] #'Link to image file of flag',\n",
    "#countries['eu'] #'Part of EU or not?',\n",
    "#countries['population'] #'Current / latest population number',\n",
    "#countries['eea'] #'not sure what this stands for exactly...'"
   ]
  },
  {
   "cell_type": "code",
   "execution_count": 104,
   "metadata": {},
   "outputs": [],
   "source": [
    "#countries.head()"
   ]
  },
  {
   "cell_type": "code",
   "execution_count": 14,
   "metadata": {},
   "outputs": [
    {
     "name": "stdout",
     "output_type": "stream",
     "text": [
      "countries added\n"
     ]
    }
   ],
   "source": [
    "tuples = to_tuples(countries)\n",
    "import traceback, sys\n",
    "try:  \n",
    "    cursor = conn.cursor(buffered=True)\n",
    "    for data in tuples:\n",
    "        query = \"\"\"INSERT INTO `countries` (country_id, eu, name, flag, population, eea) \n",
    "        VALUES (%s, %s, %s, %s, %s, %s)\"\"\"\n",
    "        result  = cursor.execute(query, data)\n",
    "    conn.commit()\n",
    "    cursor.close()\n",
    "    print('countries added')\n",
    "except Error as error :\n",
    "    conn.rollback()\n",
    "    print(\"Failed to insert into MySQL table {}\".format(error))\n",
    "    traceback.print_exc(file=sys.stdout)"
   ]
  },
  {
   "cell_type": "markdown",
   "metadata": {},
   "source": [
    "---\n",
    "### Subjects"
   ]
  },
  {
   "cell_type": "code",
   "execution_count": 18,
   "metadata": {},
   "outputs": [
    {
     "data": {
      "text/plain": [
       "array(['Bestuursrecht', 'Bestuursrecht; Ambtenarenrecht',\n",
       "       'Bestuursrecht; Socialezekerheidsrecht',\n",
       "       'Bestuursrecht; Vreemdelingenrecht'], dtype=object)"
      ]
     },
     "execution_count": 18,
     "metadata": {},
     "output_type": "execute_result"
    }
   ],
   "source": [
    "cases_metadata.subject.unique()[1:] #omit the null case"
   ]
  },
  {
   "cell_type": "code",
   "execution_count": 23,
   "metadata": {},
   "outputs": [],
   "source": [
    "#catalogue\n",
    "subjects = pd.DataFrame()\n",
    "subjects['name'] = cases_metadata.subject.unique()[1:] #omit the null case\n",
    "#subjects['standard_name'] = cases_metadata.subject.unique()[1:]"
   ]
  },
  {
   "cell_type": "code",
   "execution_count": 105,
   "metadata": {},
   "outputs": [],
   "source": [
    "#subjects.head()"
   ]
  },
  {
   "cell_type": "code",
   "execution_count": 24,
   "metadata": {},
   "outputs": [
    {
     "name": "stdout",
     "output_type": "stream",
     "text": [
      "subjects added\n"
     ]
    }
   ],
   "source": [
    "tuples = to_tuples(subjects)\n",
    "import traceback, sys\n",
    "try:  \n",
    "    cursor = conn.cursor()\n",
    "    for data in tuples:\n",
    "        query = \"\"\"INSERT INTO `subjects` (name) \n",
    "        VALUES (%s)\"\"\"\n",
    "        result  = cursor.execute(query, data)\n",
    "    conn.commit()\n",
    "    cursor.close()\n",
    "    print('subjects added')\n",
    "except Error as error :\n",
    "    conn.rollback()\n",
    "    print(\"Failed to insert into MySQL table {}\".format(error))\n",
    "    traceback.print_exc(file=sys.stdout)"
   ]
  },
  {
   "cell_type": "code",
   "execution_count": 106,
   "metadata": {},
   "outputs": [],
   "source": [
    "#authorities.head()"
   ]
  },
  {
   "cell_type": "code",
   "execution_count": 36,
   "metadata": {},
   "outputs": [
    {
     "name": "stdout",
     "output_type": "stream",
     "text": [
      "authorities added\n"
     ]
    }
   ],
   "source": [
    "tuples = to_tuples(authorities)\n",
    "import traceback, sys\n",
    "try:  \n",
    "    cursor = conn.cursor()\n",
    "    for data in tuples:\n",
    "        query = \"\"\"INSERT INTO `authorities` (name, country) \n",
    "        VALUES (%s, %s)\"\"\"\n",
    "        result  = cursor.execute(query, data)\n",
    "    conn.commit()\n",
    "    cursor.close()\n",
    "    print('authorities added')\n",
    "except Error as error :\n",
    "    conn.rollback()\n",
    "    print(\"Failed to insert into MySQL table {}\".format(error))\n",
    "    traceback.print_exc(file=sys.stdout)"
   ]
  },
  {
   "cell_type": "markdown",
   "metadata": {},
   "source": [
    "---\n",
    "### Case related decision"
   ]
  },
  {
   "cell_type": "code",
   "execution_count": 63,
   "metadata": {},
   "outputs": [],
   "source": [
    "#one to one\n",
    "case_related_decision = pd.DataFrame()\n",
    "case_related_decision['case_ecli'] = cases_metadata.id #NOT NULL,\n",
    "case_related_decision['referencing_case_id'] = cases_metadata.related_cases#NOT NULL,\n",
    "#case_related_decision['referenced_case_id']"
   ]
  },
  {
   "cell_type": "code",
   "execution_count": 107,
   "metadata": {},
   "outputs": [],
   "source": [
    "#case_related_decision.head()"
   ]
  },
  {
   "cell_type": "code",
   "execution_count": 65,
   "metadata": {},
   "outputs": [
    {
     "name": "stdout",
     "output_type": "stream",
     "text": [
      "case_related_decision added\n"
     ]
    }
   ],
   "source": [
    "tuples = to_tuples(case_related_decision)\n",
    "import traceback, sys\n",
    "try:  \n",
    "    cursor = conn.cursor()\n",
    "    for data in tuples:\n",
    "        query = \"\"\"INSERT INTO `case_related_decision` (case_ecli, referencing_case_id) \n",
    "        VALUES (%s, %s)\"\"\"\n",
    "        result  = cursor.execute(query, data)\n",
    "    conn.commit()\n",
    "    cursor.close()\n",
    "    print('case_related_decision added')\n",
    "except Error as error :\n",
    "    conn.rollback()\n",
    "    print(\"Failed to insert into MySQL table {}\".format(error))\n",
    "    traceback.print_exc(file=sys.stdout)"
   ]
  },
  {
   "cell_type": "markdown",
   "metadata": {},
   "source": [
    "---\n",
    "### Case opinion advocate general"
   ]
  },
  {
   "cell_type": "code",
   "execution_count": 67,
   "metadata": {},
   "outputs": [],
   "source": [
    "#one to one\n",
    "case_opinion_from_advocate_general = pd.DataFrame()\n",
    "case_opinion_from_advocate_general['case_ecli'] = cases_metadata.id #NOT NULL,\n",
    "#case_opinion_from_advocate_general['date'] #\n",
    "case_opinion_from_advocate_general['case_number'] = cases_metadata.case_number #\n",
    "#case_opinion_from_advocate_general['description'] #\n",
    "#case_opinion_from_advocate_general['language'] #\n",
    "#case_opinion_from_advocate_general['country'] #\n",
    "#case_opinion_from_advocate_general['venue'] #\n",
    "#case_opinion_from_advocate_general['abstract'] #\n",
    "#case_opinion_from_advocate_general['procedure_type'] #\n",
    "#case_opinion_from_advocate_general['authority'] #"
   ]
  },
  {
   "cell_type": "code",
   "execution_count": 108,
   "metadata": {},
   "outputs": [],
   "source": [
    "#case_opinion_from_advocate_general.head()"
   ]
  },
  {
   "cell_type": "code",
   "execution_count": 69,
   "metadata": {},
   "outputs": [
    {
     "name": "stdout",
     "output_type": "stream",
     "text": [
      "case_opinion_from_advocate_general added\n"
     ]
    }
   ],
   "source": [
    "tuples = to_tuples(case_opinion_from_advocate_general)\n",
    "import traceback, sys\n",
    "try:  \n",
    "    cursor = conn.cursor()\n",
    "    for data in tuples:\n",
    "        query = \"\"\"INSERT INTO `case_opinion_from_advocate_general` (case_ecli, case_number) \n",
    "        VALUES (%s, %s)\"\"\"\n",
    "        result  = cursor.execute(query, data)\n",
    "    conn.commit()\n",
    "    cursor.close()\n",
    "    print('case_opinion_from_advocate_general added')\n",
    "except Error as error :\n",
    "    conn.rollback()\n",
    "    print(\"Failed to insert into MySQL table {}\".format(error))\n",
    "    traceback.print_exc(file=sys.stdout)"
   ]
  },
  {
   "cell_type": "markdown",
   "metadata": {},
   "source": [
    "---\n",
    "### Legislation citation"
   ]
  },
  {
   "cell_type": "code",
   "execution_count": 94,
   "metadata": {},
   "outputs": [],
   "source": [
    "#one to many \n",
    "#legislation_citation = pd.DataFrame()\n",
    "#legislation_citation['citation_id'] #INT NOT NULL,\n",
    "#legislation_citation['source_ecli'] #NOT NULL,`fk_source_case_legislation`\n",
    "#legislation_citation['source_paragraph']\n",
    "#legislation_citation['target_id'] #NOT NULL,\n",
    "#legislation_citation['target_paragraph']\n",
    "#legislation_citation['target_name']\n",
    "#legislation_citation['target_sourcename']\n",
    "#legislation_citation['target_link']"
   ]
  },
  {
   "cell_type": "code",
   "execution_count": 95,
   "metadata": {},
   "outputs": [],
   "source": [
    "legislation_citation.rename(columns = {'target_article':'target_id',\n",
    "                                       'target_article_paragraph':'target_paragraph',\n",
    "                                       'target_article_webpage':'target_link'}, inplace=True)"
   ]
  },
  {
   "cell_type": "code",
   "execution_count": 109,
   "metadata": {},
   "outputs": [],
   "source": [
    "#legislation_citation.head()"
   ]
  },
  {
   "cell_type": "code",
   "execution_count": 97,
   "metadata": {},
   "outputs": [
    {
     "name": "stdout",
     "output_type": "stream",
     "text": [
      "legislation_citation added\n"
     ]
    }
   ],
   "source": [
    "tuples = to_tuples(legislation_citation)\n",
    "import traceback, sys\n",
    "try:  \n",
    "    cursor = conn.cursor()\n",
    "    for data in tuples:\n",
    "        query = \"\"\"\n",
    "                INSERT INTO legislation_citation (source_ecli, source_paragraph, target_id, target_paragraph, target_link)\n",
    "                VALUES (%s, %s, %s, %s, %s)\n",
    "                \"\"\"\n",
    "        result  = cursor.execute(query, data)\n",
    "    conn.commit()\n",
    "    cursor.close()\n",
    "    print('legislation_citation added')\n",
    "except Error as error :\n",
    "    conn.rollback()\n",
    "    print(\"Failed to insert into MySQL table {}\".format(error))\n",
    "    traceback.print_exc(file=sys.stdout)"
   ]
  },
  {
   "cell_type": "markdown",
   "metadata": {},
   "source": [
    "---\n",
    "### Case law citation"
   ]
  },
  {
   "cell_type": "code",
   "execution_count": 99,
   "metadata": {},
   "outputs": [],
   "source": [
    "#one to many\n",
    "#case_citation = pd.DataFrame()\n",
    "#case_citation['citation_id'] #INT NOT NULL,\n",
    "#case_citation['source_ecli'] #NOT NULL,`fk_source_case_cases`\n",
    "#case_citation['source_paragraph'] #\n",
    "#case_citation['target_ecli'] #NOT NULL,`fk_target_case_cases`\n",
    "#case_citation['target_paragraph'] #"
   ]
  },
  {
   "cell_type": "code",
   "execution_count": 110,
   "metadata": {},
   "outputs": [],
   "source": [
    "#case_citation.head()"
   ]
  },
  {
   "cell_type": "code",
   "execution_count": 102,
   "metadata": {},
   "outputs": [
    {
     "name": "stdout",
     "output_type": "stream",
     "text": [
      "case_citation added\n"
     ]
    }
   ],
   "source": [
    "tuples = to_tuples(case_citation)\n",
    "import traceback, sys\n",
    "try:  le\n",
    "    cursor = conn.cursor()\n",
    "    for data in tuples:\n",
    "        query = \"\"\"\n",
    "                INSERT INTO case_citation (source_ecli, source_paragraph, target_ecli, target_paragraph)\n",
    "                VALUES (%s, %s, %s, %s)\n",
    "                \"\"\"\n",
    "        result  = cursor.execute(query, data)\n",
    "    conn.commit()\n",
    "    cursor.close()\n",
    "    print('case_citation added')\n",
    "except Error as error :\n",
    "    conn.rollback()\n",
    "    print(\"Failed to insert into MySQL table {}\".format(error))\n",
    "    traceback.print_exc(file=sys.stdout)"
   ]
  },
  {
   "cell_type": "markdown",
   "metadata": {},
   "source": [
    "### Legal Intelligence Cases"
   ]
  },
  {
   "cell_type": "code",
   "execution_count": null,
   "metadata": {},
   "outputs": [],
   "source": [
    "#li_cases['id'] = #do we create this one ourselves? \n",
    "#li_cases['ecli'] \n",
    "#li_cases['name'] \n",
    "#li_cases['date'] \n",
    "#li_cases['abstract']\n",
    "#li_cases['subject']\n",
    "#li_cases['link']\n",
    "#li_cases['procedure_type']\n",
    "#li_cases['court_id']\n",
    "#li_cases['DisplayTitle']\n",
    "#li_cases['OriginalUrl']\n",
    "#li_cases['Jurisdiction']\n",
    "#li_cases['DocumentType']\n",
    "#li_cases['CaseNumber']\n",
    "#li_cases['PublicationDate']\n",
    "#li_cases['PublicationNumber']\n",
    "#li_cases['IssueNumber']\n",
    "#li_cases['DateAdded']\n",
    "#li_cases['Sources']\n",
    "#li_cases['UrlWithAutoLogOnToken']"
   ]
  },
  {
   "cell_type": "code",
   "execution_count": null,
   "metadata": {},
   "outputs": [],
   "source": [
    "tuples = to_tuples(li_cases)\n",
    "import traceback, sys\n",
    "try:  \n",
    "    cursor = conn.cursor()\n",
    "    for data in tuples:\n",
    "        query = \"\"\"\n",
    "                INSERT INTO legal_intelligence_case (id, ecli, name, date, abstract, subject, link, procedure_type, court_id, DisplayTitle, OriginalUrl, Jurisdiction, DocumentType, CaseNumber, PublicationDate, PublicationNumber, IssueNumber, DateAdded, Sources, UrlWithAutoLogOnToken)\n",
    "                VALUES (%s, %s, %s, %s, %s, %s, %s, %s, %s, %s, %s, %s, %s, %s, %s, %s, %s, %s, %s, %s)\n",
    "                \"\"\"\n",
    "        result  = cursor.execute(query, data)\n",
    "    conn.commit()\n",
    "    cursor.close()\n",
    "    print('legal_intelligence_case added')\n",
    "except Error as error :\n",
    "    conn.rollback()\n",
    "    print(\"Failed to insert into MySQL table {}\".format(error))\n",
    "    traceback.print_exc(file=sys.stdout)"
   ]
  }
 ],
 "metadata": {
  "kernelspec": {
   "display_name": "Python 3",
   "language": "python",
   "name": "python3"
  },
  "language_info": {
   "codemirror_mode": {
    "name": "ipython",
    "version": 3
   },
   "file_extension": ".py",
   "mimetype": "text/x-python",
   "name": "python",
   "nbconvert_exporter": "python",
   "pygments_lexer": "ipython3",
   "version": "3.7.4"
  },
  "nteract": {
   "version": "0.15.0"
  }
 },
 "nbformat": 4,
 "nbformat_minor": 4
}
