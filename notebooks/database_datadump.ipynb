{
 "cells": [
  {
   "cell_type": "markdown",
   "metadata": {},
   "source": [
    "## Data flow to mysql"
   ]
  },
  {
   "cell_type": "code",
   "execution_count": 1,
   "metadata": {},
   "outputs": [],
   "source": [
    "import mysql.connector as mdb\n",
    "from mysql.connector import Error\n",
    "import sys, traceback"
   ]
  },
  {
   "cell_type": "code",
   "execution_count": 2,
   "metadata": {},
   "outputs": [],
   "source": [
    "def open_database(host, db_name, username, password):\n",
    "    try:\n",
    "        connection = mdb.connect(host=host,\n",
    "                                 database=db_name,\n",
    "                                 user=username,\n",
    "                                 password=password)\n",
    "        if connection.is_connected():\n",
    "           db_Info = connection.get_server_info()\n",
    "           print(\"Connected to MySQL database... MySQL Server version on \",db_Info)\n",
    "           cursor = connection.cursor()\n",
    "           cursor.execute(\"select database();\")\n",
    "           record = cursor.fetchone()\n",
    "           print (\"Your connected to - \", record)\n",
    "           cursor.close()\n",
    "    except Error as e :\n",
    "        print (\"Error while connecting to MySQL\", e)\n",
    "    return connection"
   ]
  },
  {
   "cell_type": "code",
   "execution_count": 3,
   "metadata": {},
   "outputs": [],
   "source": [
    "def close_database(connection):\n",
    "    #closing database connection.\n",
    "    if(connection.is_connected()):\n",
    "        connection.close()\n",
    "        print(\"MySQL connection is closed\")"
   ]
  },
  {
   "cell_type": "code",
   "execution_count": 4,
   "metadata": {},
   "outputs": [
    {
     "name": "stdout",
     "output_type": "stream",
     "text": [
      "Connected to MySQL database... MySQL Server version on  8.0.20\n",
      "Your connected to -  ('caselaw',)\n"
     ]
    }
   ],
   "source": [
    "conn = open_database('localhost', 'caselaw', 'root', PASSWORD)"
   ]
  },
  {
   "cell_type": "code",
   "execution_count": 5,
   "metadata": {},
   "outputs": [
    {
     "name": "stdout",
     "output_type": "stream",
     "text": [
      "(1, datetime.date(2000, 1, 11), 'NULL', 'NULL', 'NL', 'NULL', 'NULL', 'NULL', datetime.date(1900, 1, 1), 'NULL', 'ECLI:NL:CBB:2000:ZG2046', 221)\n"
     ]
    }
   ],
   "source": [
    "query = \"\"\"SELECT * FROM caselaw.case LIMIT 1;\"\"\"\n",
    "cursor = conn.cursor(buffered=True)\n",
    "cursor.execute(query)\n",
    "records = cursor.fetchall()\n",
    "for row in records:\n",
    "    print(row)"
   ]
  },
  {
   "cell_type": "markdown",
   "metadata": {},
   "source": [
    "---\n",
    "### Datasets"
   ]
  },
  {
   "cell_type": "code",
   "execution_count": 6,
   "metadata": {},
   "outputs": [],
   "source": [
    "import pandas as pd\n",
    "import numpy as np\n",
    "import warnings\n",
    "warnings.filterwarnings('ignore')"
   ]
  },
  {
   "cell_type": "code",
   "execution_count": 7,
   "metadata": {},
   "outputs": [
    {
     "name": "stdout",
     "output_type": "stream",
     "text": [
      "case.csv                               cases_metadata.csv\n",
      "case_opinion_from_advocate_general.csv countries.csv\n",
      "caselaw.zip                            legal_intelligence_cases.csv\n",
      "caselawDB.sql                          legislation_citations.csv\n",
      "caselaw_citations.csv                  \u001b[34msample\u001b[m\u001b[m\n",
      "caselaw_db.sql                         test.csv\n"
     ]
    }
   ],
   "source": [
    "!ls ../data_dump"
   ]
  },
  {
   "cell_type": "code",
   "execution_count": 8,
   "metadata": {},
   "outputs": [],
   "source": [
    "df_case_raw = pd.read_csv(\"../data_dump/case.csv\").replace(np.nan, 'NULL', regex=True)\n",
    "df_country = pd.read_csv(\"../data_dump/countries.csv\").replace(np.nan, 'NULL', regex=True)\n",
    "df_li_cases = pd.read_csv(\"../data_dump/legal_intelligence_cases.csv\").replace(np.nan, 'NULL', regex=True).drop_duplicates(subset =\"ecli\")\n",
    "df_case_opinion = pd.read_csv(\"../data_dump/case_opinion_from_advocate_general.csv\").replace(np.nan, 'NULL', regex=True)\n",
    "df_case_citation = pd.read_csv(\"../data_dump/caselaw_citations.csv\").replace(np.nan, 'NULL', regex=True)\n",
    "df_legislation_citation = pd.read_csv(\"../data_dump/legislation_citations.csv\").replace(np.nan, 'NULL', regex=True)"
   ]
  },
  {
   "cell_type": "code",
   "execution_count": 9,
   "metadata": {},
   "outputs": [],
   "source": [
    "#change LI Ecli to not underscores\n",
    "for i, li_case in df_li_cases.iterrows():\n",
    "    #get the ecli number\n",
    "    ecli = li_case.ecli\n",
    "    #replace the underscores\n",
    "    new_ecli = ecli.replace('_', ':')\n",
    "    #save the new ecli in the dataframe\n",
    "    df_li_cases.at[i, 'ecli'] = new_ecli"
   ]
  },
  {
   "cell_type": "markdown",
   "metadata": {},
   "source": [
    "---\n",
    "### Sample to run the procedure"
   ]
  },
  {
   "cell_type": "code",
   "execution_count": 12,
   "metadata": {},
   "outputs": [
    {
     "name": "stdout",
     "output_type": "stream",
     "text": [
      "Number of Cases in\n",
      "Cases: 400000\n",
      "Legislation citation: 0\n",
      "Case citation: 0\n",
      "Case opinion: 0\n",
      "LI cases: 13\n"
     ]
    }
   ],
   "source": [
    "#taking recent cases to get important links\n",
    "df_case = df_case_raw[df_case_raw['date'] > '2000-01-01 00:00:00']\n",
    "\n",
    "sample_size = 400000\n",
    "#list of ecli numbers we choose for our sample\n",
    "sample = list(df_case['case_id'].sample(n=sample_size, random_state=18))\n",
    "\n",
    "#compare case opinion and cases on ecli cause it seems like there is no overlap \n",
    "#case_eclis = df_case['case_id'].values\n",
    "#opinion_eclis = df_case_opinion['case_id'].values\n",
    "\n",
    "##0: case sample\n",
    "df_case = df_case[df_case['case_id'].isin(sample)].reset_index(drop=True)\n",
    "\n",
    "##1: legislation citations sample\n",
    "df_legislation_citation = df_legislation_citation[df_legislation_citation['source_ecli'].isin(sample)].reset_index(drop=True)\n",
    "\n",
    "##2: case citations sample\n",
    "df_case_citation = df_case_citation[df_case_citation['source_ecli'].isin(sample)].reset_index(drop=True)\n",
    "\n",
    "##3: case opinions sample\n",
    "df_case_opinion = df_case_opinion[df_case_opinion['case_id'].isin(sample)].reset_index(drop=True)\n",
    "\n",
    "##4: li cases sample\n",
    "df_li_cases = df_li_cases[df_li_cases['ecli'].isin(sample)].reset_index(drop=True)\n",
    "\n",
    "print('Number of Cases in\\nCases: {}\\nLegislation citation: {}\\nCase citation: {}\\nCase opinion: {}\\nLI cases: {}'\\\n",
    "      .format(len(df_case), len(df_legislation_citation), len(df_case_citation), len(df_case_opinion), len(df_li_cases)))"
   ]
  },
  {
   "cell_type": "code",
   "execution_count": null,
   "metadata": {},
   "outputs": [],
   "source": []
  },
  {
   "cell_type": "code",
   "execution_count": 88,
   "metadata": {},
   "outputs": [
    {
     "data": {
      "text/html": [
       "<div>\n",
       "<style scoped>\n",
       "    .dataframe tbody tr th:only-of-type {\n",
       "        vertical-align: middle;\n",
       "    }\n",
       "\n",
       "    .dataframe tbody tr th {\n",
       "        vertical-align: top;\n",
       "    }\n",
       "\n",
       "    .dataframe thead th {\n",
       "        text-align: right;\n",
       "    }\n",
       "</style>\n",
       "<table border=\"1\" class=\"dataframe\">\n",
       "  <thead>\n",
       "    <tr style=\"text-align: right;\">\n",
       "      <th></th>\n",
       "      <th>case_id</th>\n",
       "      <th>date</th>\n",
       "      <th>case_number</th>\n",
       "      <th>description</th>\n",
       "      <th>language</th>\n",
       "      <th>venue</th>\n",
       "      <th>abstract</th>\n",
       "      <th>procedure_type</th>\n",
       "      <th>lodge_date</th>\n",
       "      <th>country</th>\n",
       "      <th>...</th>\n",
       "      <th>abstract.1</th>\n",
       "      <th>procedure_type.1</th>\n",
       "      <th>lodge_date.1</th>\n",
       "      <th>country.1</th>\n",
       "      <th>subject.1</th>\n",
       "      <th>authority.1</th>\n",
       "      <th>legal_references.1</th>\n",
       "      <th>related_cases.1</th>\n",
       "      <th>alternative_sources.1</th>\n",
       "      <th>full_text</th>\n",
       "    </tr>\n",
       "  </thead>\n",
       "  <tbody>\n",
       "  </tbody>\n",
       "</table>\n",
       "<p>0 rows × 31 columns</p>\n",
       "</div>"
      ],
      "text/plain": [
       "Empty DataFrame\n",
       "Columns: [case_id, date, case_number, description, language, venue, abstract, procedure_type, lodge_date, country, subject, authority, legal_references, related_cases, alternative_sources, full_textcase_id, date.1, case_number.1, description.1, language.1, venue.1, abstract.1, procedure_type.1, lodge_date.1, country.1, subject.1, authority.1, legal_references.1, related_cases.1, alternative_sources.1, full_text]\n",
       "Index: []\n",
       "\n",
       "[0 rows x 31 columns]"
      ]
     },
     "execution_count": 88,
     "metadata": {},
     "output_type": "execute_result"
    }
   ],
   "source": [
    "df_case_opinion[df_case_opinion['case_id'].isin(sample)].reset_index(drop=True)"
   ]
  },
  {
   "cell_type": "code",
   "execution_count": 12,
   "metadata": {},
   "outputs": [
    {
     "data": {
      "text/html": [
       "<div>\n",
       "<style scoped>\n",
       "    .dataframe tbody tr th:only-of-type {\n",
       "        vertical-align: middle;\n",
       "    }\n",
       "\n",
       "    .dataframe tbody tr th {\n",
       "        vertical-align: top;\n",
       "    }\n",
       "\n",
       "    .dataframe thead th {\n",
       "        text-align: right;\n",
       "    }\n",
       "</style>\n",
       "<table border=\"1\" class=\"dataframe\">\n",
       "  <thead>\n",
       "    <tr style=\"text-align: right;\">\n",
       "      <th></th>\n",
       "      <th>case_id</th>\n",
       "      <th>date</th>\n",
       "      <th>case_number</th>\n",
       "      <th>description</th>\n",
       "      <th>language</th>\n",
       "      <th>venue</th>\n",
       "      <th>abstract</th>\n",
       "      <th>procedure_type</th>\n",
       "      <th>lodge_date</th>\n",
       "      <th>country</th>\n",
       "      <th>...</th>\n",
       "      <th>abstract.1</th>\n",
       "      <th>procedure_type.1</th>\n",
       "      <th>lodge_date.1</th>\n",
       "      <th>country.1</th>\n",
       "      <th>subject.1</th>\n",
       "      <th>authority.1</th>\n",
       "      <th>legal_references.1</th>\n",
       "      <th>related_cases.1</th>\n",
       "      <th>alternative_sources.1</th>\n",
       "      <th>full_text</th>\n",
       "    </tr>\n",
       "  </thead>\n",
       "  <tbody>\n",
       "    <tr>\n",
       "      <th>0</th>\n",
       "      <td>ECLI:NL:CBB:2000:ZG2046</td>\n",
       "      <td>2000-01-11</td>\n",
       "      <td>95/0775/062/229</td>\n",
       "      <td>NULL</td>\n",
       "      <td>NL</td>\n",
       "      <td>NULL</td>\n",
       "      <td>NULL</td>\n",
       "      <td>NULL</td>\n",
       "      <td>NULL</td>\n",
       "      <td>NL</td>\n",
       "      <td>...</td>\n",
       "      <td>NULL</td>\n",
       "      <td>NULL</td>\n",
       "      <td>NULL</td>\n",
       "      <td>NULL</td>\n",
       "      <td>NULL</td>\n",
       "      <td>NULL</td>\n",
       "      <td>NULL</td>\n",
       "      <td>NULL</td>\n",
       "      <td>NULL</td>\n",
       "      <td>NULL</td>\n",
       "    </tr>\n",
       "    <tr>\n",
       "      <th>1</th>\n",
       "      <td>ECLI:NL:CBB:2000:ZG1822</td>\n",
       "      <td>2000-02-15</td>\n",
       "      <td>98/280;20100</td>\n",
       "      <td>NULL</td>\n",
       "      <td>NL</td>\n",
       "      <td>NULL</td>\n",
       "      <td>NULL</td>\n",
       "      <td>NULL</td>\n",
       "      <td>NULL</td>\n",
       "      <td>NL</td>\n",
       "      <td>...</td>\n",
       "      <td>NULL</td>\n",
       "      <td>NULL</td>\n",
       "      <td>NULL</td>\n",
       "      <td>NULL</td>\n",
       "      <td>NULL</td>\n",
       "      <td>NULL</td>\n",
       "      <td>NULL</td>\n",
       "      <td>NULL</td>\n",
       "      <td>NULL</td>\n",
       "      <td>NULL</td>\n",
       "    </tr>\n",
       "    <tr>\n",
       "      <th>2</th>\n",
       "      <td>ECLI:NL:CRVB:2000:AA5272</td>\n",
       "      <td>2000-02-04</td>\n",
       "      <td>97/8189 AAW/WAO</td>\n",
       "      <td>\\n      -&lt;para xmlns=\"http://www.rechtspraak.n...</td>\n",
       "      <td>NL</td>\n",
       "      <td>NULL</td>\n",
       "      <td>NULL</td>\n",
       "      <td>Hoger beroep</td>\n",
       "      <td>NULL</td>\n",
       "      <td>NL</td>\n",
       "      <td>...</td>\n",
       "      <td>NULL</td>\n",
       "      <td>NULL</td>\n",
       "      <td>NULL</td>\n",
       "      <td>NULL</td>\n",
       "      <td>NULL</td>\n",
       "      <td>NULL</td>\n",
       "      <td>NULL</td>\n",
       "      <td>NULL</td>\n",
       "      <td>NULL</td>\n",
       "      <td>NULL</td>\n",
       "    </tr>\n",
       "    <tr>\n",
       "      <th>3</th>\n",
       "      <td>ECLI:NL:CRVB:2000:AI5503</td>\n",
       "      <td>2000-01-20</td>\n",
       "      <td>97/11168 WUBO</td>\n",
       "      <td>NULL</td>\n",
       "      <td>NL</td>\n",
       "      <td>NULL</td>\n",
       "      <td>NULL</td>\n",
       "      <td>NULL</td>\n",
       "      <td>NULL</td>\n",
       "      <td>NL</td>\n",
       "      <td>...</td>\n",
       "      <td>NULL</td>\n",
       "      <td>NULL</td>\n",
       "      <td>NULL</td>\n",
       "      <td>NULL</td>\n",
       "      <td>NULL</td>\n",
       "      <td>NULL</td>\n",
       "      <td>NULL</td>\n",
       "      <td>NULL</td>\n",
       "      <td>NULL</td>\n",
       "      <td>NULL</td>\n",
       "    </tr>\n",
       "    <tr>\n",
       "      <th>4</th>\n",
       "      <td>ECLI:NL:CRVB:2000:AA5886</td>\n",
       "      <td>2000-02-04</td>\n",
       "      <td>97/173 AAW/WAO</td>\n",
       "      <td>\\n      -&lt;para xmlns=\"http://www.rechtspraak.n...</td>\n",
       "      <td>NL</td>\n",
       "      <td>NULL</td>\n",
       "      <td>NULL</td>\n",
       "      <td>Hoger beroep</td>\n",
       "      <td>NULL</td>\n",
       "      <td>NL</td>\n",
       "      <td>...</td>\n",
       "      <td>NULL</td>\n",
       "      <td>NULL</td>\n",
       "      <td>NULL</td>\n",
       "      <td>NULL</td>\n",
       "      <td>NULL</td>\n",
       "      <td>NULL</td>\n",
       "      <td>NULL</td>\n",
       "      <td>NULL</td>\n",
       "      <td>NULL</td>\n",
       "      <td>NULL</td>\n",
       "    </tr>\n",
       "  </tbody>\n",
       "</table>\n",
       "<p>5 rows × 31 columns</p>\n",
       "</div>"
      ],
      "text/plain": [
       "                    case_id        date      case_number  \\\n",
       "0   ECLI:NL:CBB:2000:ZG2046  2000-01-11  95/0775/062/229   \n",
       "1   ECLI:NL:CBB:2000:ZG1822  2000-02-15     98/280;20100   \n",
       "2  ECLI:NL:CRVB:2000:AA5272  2000-02-04  97/8189 AAW/WAO   \n",
       "3  ECLI:NL:CRVB:2000:AI5503  2000-01-20    97/11168 WUBO   \n",
       "4  ECLI:NL:CRVB:2000:AA5886  2000-02-04   97/173 AAW/WAO   \n",
       "\n",
       "                                         description language venue abstract  \\\n",
       "0                                               NULL       NL  NULL     NULL   \n",
       "1                                               NULL       NL  NULL     NULL   \n",
       "2  \\n      -<para xmlns=\"http://www.rechtspraak.n...       NL  NULL     NULL   \n",
       "3                                               NULL       NL  NULL     NULL   \n",
       "4  \\n      -<para xmlns=\"http://www.rechtspraak.n...       NL  NULL     NULL   \n",
       "\n",
       "  procedure_type lodge_date country  ... abstract.1 procedure_type.1  \\\n",
       "0           NULL       NULL      NL  ...       NULL             NULL   \n",
       "1           NULL       NULL      NL  ...       NULL             NULL   \n",
       "2   Hoger beroep       NULL      NL  ...       NULL             NULL   \n",
       "3           NULL       NULL      NL  ...       NULL             NULL   \n",
       "4   Hoger beroep       NULL      NL  ...       NULL             NULL   \n",
       "\n",
       "  lodge_date.1 country.1 subject.1 authority.1 legal_references.1  \\\n",
       "0         NULL      NULL      NULL        NULL               NULL   \n",
       "1         NULL      NULL      NULL        NULL               NULL   \n",
       "2         NULL      NULL      NULL        NULL               NULL   \n",
       "3         NULL      NULL      NULL        NULL               NULL   \n",
       "4         NULL      NULL      NULL        NULL               NULL   \n",
       "\n",
       "  related_cases.1 alternative_sources.1 full_text  \n",
       "0            NULL                  NULL      NULL  \n",
       "1            NULL                  NULL      NULL  \n",
       "2            NULL                  NULL      NULL  \n",
       "3            NULL                  NULL      NULL  \n",
       "4            NULL                  NULL      NULL  \n",
       "\n",
       "[5 rows x 31 columns]"
      ]
     },
     "execution_count": 12,
     "metadata": {},
     "output_type": "execute_result"
    }
   ],
   "source": [
    "df_case.head()"
   ]
  },
  {
   "cell_type": "code",
   "execution_count": 13,
   "metadata": {},
   "outputs": [],
   "source": [
    "#pd.Series(df_case.case_id).to_csv('eclis_sample5k.csv', index=False)"
   ]
  },
  {
   "cell_type": "markdown",
   "metadata": {},
   "source": [
    "---\n",
    "### Utils"
   ]
  },
  {
   "cell_type": "code",
   "execution_count": 14,
   "metadata": {},
   "outputs": [],
   "source": [
    "def to_tuples(df):\n",
    "    return [tuple(x) for x in df.values]"
   ]
  },
  {
   "cell_type": "code",
   "execution_count": 15,
   "metadata": {},
   "outputs": [],
   "source": [
    "def clean_table_sql(table_name):\n",
    "    try:\n",
    "        cursor1 = conn.cursor(buffered=True)\n",
    "        query1 = \"\"\"DELETE FROM `{}`;\"\"\".format(table_name)\n",
    "        cursor1.execute(query1)\n",
    "        cursor2 = conn.cursor(buffered=True)\n",
    "        query2 = \"\"\"ALTER TABLE `{}` AUTO_INCREMENT = 1;\"\"\".format(table_name)\n",
    "        cursor2.execute(query2)\n",
    "        conn.commit()\n",
    "    except Error as error :\n",
    "        conn.rollback()\n",
    "        print(\"Failed to delete MySQL table {}\".format(error))\n",
    "        traceback.print_exc(file=sys.stdout)"
   ]
  },
  {
   "cell_type": "code",
   "execution_count": 16,
   "metadata": {},
   "outputs": [],
   "source": [
    "def get_parent_ids(table, column_table, df, column_df):    \n",
    "    \"\"\"DB table, DB column_table, df: pandas df to look at, column_df\"\"\"\n",
    "    pid = []\n",
    "    cursor = conn.cursor()\n",
    "    for idx, data in enumerate(df[column_df]):\n",
    "        if \"'\" in data:\n",
    "            query = \"\"\"SELECT id FROM `{}` WHERE {} = \\\"{}\\\" \"\"\".format(table, column_table, data)\n",
    "        else:\n",
    "            query = \"\"\"SELECT id FROM `{}` WHERE {} = '{}' \"\"\".format(table, column_table, data)\n",
    "        #print(idx, data)\n",
    "        cursor.execute(query)\n",
    "        records = cursor.fetchall()\n",
    "        if(len(records) == 0):\n",
    "            print('select did not find match')\n",
    "        pid.append(records[0][0])\n",
    "    cursor.close()\n",
    "    return pid"
   ]
  },
  {
   "cell_type": "markdown",
   "metadata": {},
   "source": [
    "---\n",
    "### Tables Hierarchies"
   ]
  },
  {
   "cell_type": "markdown",
   "metadata": {},
   "source": [
    "1. Court\n",
    "2. Case\n",
    "3. Case Opinion\n",
    "4. LI Case\n",
    "5. Subject\n",
    "6. Case subject\n",
    "7. Country\n",
    "8. Case country\n",
    "9. Case citation\n",
    "10. Legislation citation\n",
    "11. Case related decision\n"
   ]
  },
  {
   "cell_type": "code",
   "execution_count": 17,
   "metadata": {},
   "outputs": [],
   "source": [
    "clean_table_sql('case_related_decision')\n",
    "clean_table_sql('legislation_citation')\n",
    "clean_table_sql('case_citation')\n",
    "clean_table_sql('case_country')\n",
    "clean_table_sql('country')\n",
    "clean_table_sql('case_subject')\n",
    "clean_table_sql('subject')\n",
    "clean_table_sql('legal_intelligence_case')\n",
    "clean_table_sql('case_opinion')\n",
    "clean_table_sql('case')\n",
    "clean_table_sql('court')"
   ]
  },
  {
   "cell_type": "markdown",
   "metadata": {},
   "source": [
    "---\n",
    "### Courts"
   ]
  },
  {
   "cell_type": "code",
   "execution_count": 18,
   "metadata": {},
   "outputs": [],
   "source": [
    "court = pd.DataFrame()"
   ]
  },
  {
   "cell_type": "code",
   "execution_count": 19,
   "metadata": {},
   "outputs": [],
   "source": [
    "courts_list = df_case_raw.authority.unique()\n",
    "courts_list = [i.replace('\"','-') for i in courts_list]\n",
    "court['name'] = courts_list"
   ]
  },
  {
   "cell_type": "code",
   "execution_count": 20,
   "metadata": {},
   "outputs": [],
   "source": [
    "#dummies\n",
    "court.loc[:,'type'] = 'NULL'\n",
    "court.loc[:,'level'] = 'NULL'\n",
    "court.loc[:,'country'] = 'NULL'\n",
    "court.loc[:,'language'] = 'NULL' \n",
    "court.loc[:,'jurisdiction'] = 'NULL' \n",
    "court.loc[:,'law_area'] = 'NULL'\n",
    "court.loc[:,'authority_level'] = 'NULL'"
   ]
  },
  {
   "cell_type": "code",
   "execution_count": 21,
   "metadata": {},
   "outputs": [],
   "source": [
    "#court.loc[810,'name']#.head(2)"
   ]
  },
  {
   "cell_type": "code",
   "execution_count": 22,
   "metadata": {},
   "outputs": [],
   "source": [
    "tuples = to_tuples(court)"
   ]
  },
  {
   "cell_type": "code",
   "execution_count": 23,
   "metadata": {},
   "outputs": [
    {
     "name": "stdout",
     "output_type": "stream",
     "text": [
      "court added\n"
     ]
    }
   ],
   "source": [
    "#(\\\"%s\\\", %s, %s, %s, %s, %s, %s, %s)\")\n",
    "try:  \n",
    "    cursor = conn.cursor()\n",
    "    for idx, data in enumerate(tuples):\n",
    "        query = (\"INSERT INTO `court`\"\n",
    "                \"(name, type, level, country, language, jurisdiction, law_area, authority_level)\"\n",
    "                \"VALUES (\\\"%s\\\", %s, %s, %s, %s, %s, %s, %s)\")%data\n",
    "        #print(idx, query)\n",
    "        cursor.execute(query)\n",
    "    conn.commit()\n",
    "    cursor.close()\n",
    "    print('court added')\n",
    "except Error as error :\n",
    "    conn.rollback()\n",
    "    print(\"Failed to insert into MySQL table {}\".format(error))\n",
    "    traceback.print_exc(file=sys.stdout)"
   ]
  },
  {
   "cell_type": "code",
   "execution_count": 24,
   "metadata": {},
   "outputs": [
    {
     "data": {
      "text/plain": [
       "1223"
      ]
     },
     "execution_count": 24,
     "metadata": {},
     "output_type": "execute_result"
    }
   ],
   "source": [
    "len(court)"
   ]
  },
  {
   "cell_type": "markdown",
   "metadata": {},
   "source": [
    "---\n",
    "### Case"
   ]
  },
  {
   "cell_type": "code",
   "execution_count": 25,
   "metadata": {},
   "outputs": [],
   "source": [
    "case = pd.DataFrame()\n",
    "case_columns = ['date',\n",
    "        'description',\n",
    "        'language',\n",
    "        'venue',\n",
    "        'abstract',\n",
    "        'procedure_type',\n",
    "        'lodge_date',\n",
    "        'link',\n",
    "        'ecli']"
   ]
  },
  {
   "cell_type": "code",
   "execution_count": 26,
   "metadata": {},
   "outputs": [],
   "source": [
    "temp = df_case[['date',\n",
    "                'description',\n",
    "                'language',\n",
    "                'venue',\n",
    "                'abstract',\n",
    "                'procedure_type',\n",
    "                'lodge_date',\n",
    "                'alternative_sources',\n",
    "                'case_id']]\n",
    "temp.columns = case_columns\n",
    "case = case.append(temp, ignore_index=True)"
   ]
  },
  {
   "cell_type": "code",
   "execution_count": 27,
   "metadata": {},
   "outputs": [],
   "source": [
    "parents_ids = get_parent_ids('court', 'name', df_case, 'authority')"
   ]
  },
  {
   "cell_type": "code",
   "execution_count": 28,
   "metadata": {},
   "outputs": [],
   "source": [
    "def get_parent_ids(table, column_table, df, column_df):    \n",
    "    \"\"\"DB table, DB column_table, df: pandas df to look at, column_df\"\"\"\n",
    "    pid = []\n",
    "    cursor = conn.cursor()\n",
    "    for idx, data in enumerate(df[column_df]):\n",
    "        if \"'\" in data:\n",
    "            query = \"\"\"SELECT id FROM `{}` WHERE {} = \\\"{}\\\" \"\"\".format(table, column_table, data)\n",
    "        else:\n",
    "            query = \"\"\"SELECT id FROM `{}` WHERE {} = '{}' \"\"\".format(table, column_table, data)\n",
    "        #print(idx, data)\n",
    "        cursor.execute(query)\n",
    "        records = cursor.fetchall()\n",
    "        if(len(records) == 0):\n",
    "            print('select did not find match')\n",
    "        pid.append(records[0][0])\n",
    "    cursor.close()\n",
    "    return pid"
   ]
  },
  {
   "cell_type": "code",
   "execution_count": 29,
   "metadata": {},
   "outputs": [],
   "source": [
    "case['name'] = 'NULL'\n",
    "case['court_id'] = parents_ids\n",
    "case['date'] = [pd.to_datetime(i, errors='coerce') if i != 'NULL' else pd.to_datetime('1900-01-01 00:00:00') for i in case['date']]\n",
    "case['lodge_date'] = [pd.to_datetime(i, errors='coerce') if i != 'NULL' else pd.to_datetime('1900-01-01 00:00:00') for i in case['lodge_date']]"
   ]
  },
  {
   "cell_type": "code",
   "execution_count": 30,
   "metadata": {},
   "outputs": [
    {
     "data": {
      "text/html": [
       "<div>\n",
       "<style scoped>\n",
       "    .dataframe tbody tr th:only-of-type {\n",
       "        vertical-align: middle;\n",
       "    }\n",
       "\n",
       "    .dataframe tbody tr th {\n",
       "        vertical-align: top;\n",
       "    }\n",
       "\n",
       "    .dataframe thead th {\n",
       "        text-align: right;\n",
       "    }\n",
       "</style>\n",
       "<table border=\"1\" class=\"dataframe\">\n",
       "  <thead>\n",
       "    <tr style=\"text-align: right;\">\n",
       "      <th></th>\n",
       "      <th>date</th>\n",
       "      <th>description</th>\n",
       "      <th>language</th>\n",
       "      <th>venue</th>\n",
       "      <th>abstract</th>\n",
       "      <th>procedure_type</th>\n",
       "      <th>lodge_date</th>\n",
       "      <th>link</th>\n",
       "      <th>ecli</th>\n",
       "      <th>name</th>\n",
       "      <th>court_id</th>\n",
       "    </tr>\n",
       "  </thead>\n",
       "  <tbody>\n",
       "    <tr>\n",
       "      <th>0</th>\n",
       "      <td>2000-01-11</td>\n",
       "      <td>NULL</td>\n",
       "      <td>NL</td>\n",
       "      <td>NULL</td>\n",
       "      <td>NULL</td>\n",
       "      <td>NULL</td>\n",
       "      <td>1900-01-01</td>\n",
       "      <td>NULL</td>\n",
       "      <td>ECLI:NL:CBB:2000:ZG2046</td>\n",
       "      <td>NULL</td>\n",
       "      <td>221</td>\n",
       "    </tr>\n",
       "    <tr>\n",
       "      <th>1</th>\n",
       "      <td>2000-02-15</td>\n",
       "      <td>NULL</td>\n",
       "      <td>NL</td>\n",
       "      <td>NULL</td>\n",
       "      <td>NULL</td>\n",
       "      <td>NULL</td>\n",
       "      <td>1900-01-01</td>\n",
       "      <td>NULL</td>\n",
       "      <td>ECLI:NL:CBB:2000:ZG1822</td>\n",
       "      <td>NULL</td>\n",
       "      <td>221</td>\n",
       "    </tr>\n",
       "    <tr>\n",
       "      <th>2</th>\n",
       "      <td>2000-02-04</td>\n",
       "      <td>\\n      -&lt;para xmlns=\"http://www.rechtspraak.n...</td>\n",
       "      <td>NL</td>\n",
       "      <td>NULL</td>\n",
       "      <td>NULL</td>\n",
       "      <td>Hoger beroep</td>\n",
       "      <td>1900-01-01</td>\n",
       "      <td>\\n        \\n          &lt;rdf:list xmlns:rdf=\"htt...</td>\n",
       "      <td>ECLI:NL:CRVB:2000:AA5272</td>\n",
       "      <td>NULL</td>\n",
       "      <td>129</td>\n",
       "    </tr>\n",
       "    <tr>\n",
       "      <th>3</th>\n",
       "      <td>2000-01-20</td>\n",
       "      <td>NULL</td>\n",
       "      <td>NL</td>\n",
       "      <td>NULL</td>\n",
       "      <td>NULL</td>\n",
       "      <td>NULL</td>\n",
       "      <td>1900-01-01</td>\n",
       "      <td>NULL</td>\n",
       "      <td>ECLI:NL:CRVB:2000:AI5503</td>\n",
       "      <td>NULL</td>\n",
       "      <td>129</td>\n",
       "    </tr>\n",
       "    <tr>\n",
       "      <th>4</th>\n",
       "      <td>2000-02-04</td>\n",
       "      <td>\\n      -&lt;para xmlns=\"http://www.rechtspraak.n...</td>\n",
       "      <td>NL</td>\n",
       "      <td>NULL</td>\n",
       "      <td>NULL</td>\n",
       "      <td>Hoger beroep</td>\n",
       "      <td>1900-01-01</td>\n",
       "      <td>\\n        \\n          &lt;rdf:list xmlns:rdf=\"htt...</td>\n",
       "      <td>ECLI:NL:CRVB:2000:AA5886</td>\n",
       "      <td>NULL</td>\n",
       "      <td>129</td>\n",
       "    </tr>\n",
       "  </tbody>\n",
       "</table>\n",
       "</div>"
      ],
      "text/plain": [
       "        date                                        description language  \\\n",
       "0 2000-01-11                                               NULL       NL   \n",
       "1 2000-02-15                                               NULL       NL   \n",
       "2 2000-02-04  \\n      -<para xmlns=\"http://www.rechtspraak.n...       NL   \n",
       "3 2000-01-20                                               NULL       NL   \n",
       "4 2000-02-04  \\n      -<para xmlns=\"http://www.rechtspraak.n...       NL   \n",
       "\n",
       "  venue abstract procedure_type lodge_date  \\\n",
       "0  NULL     NULL           NULL 1900-01-01   \n",
       "1  NULL     NULL           NULL 1900-01-01   \n",
       "2  NULL     NULL   Hoger beroep 1900-01-01   \n",
       "3  NULL     NULL           NULL 1900-01-01   \n",
       "4  NULL     NULL   Hoger beroep 1900-01-01   \n",
       "\n",
       "                                                link  \\\n",
       "0                                               NULL   \n",
       "1                                               NULL   \n",
       "2  \\n        \\n          <rdf:list xmlns:rdf=\"htt...   \n",
       "3                                               NULL   \n",
       "4  \\n        \\n          <rdf:list xmlns:rdf=\"htt...   \n",
       "\n",
       "                       ecli  name  court_id  \n",
       "0   ECLI:NL:CBB:2000:ZG2046  NULL       221  \n",
       "1   ECLI:NL:CBB:2000:ZG1822  NULL       221  \n",
       "2  ECLI:NL:CRVB:2000:AA5272  NULL       129  \n",
       "3  ECLI:NL:CRVB:2000:AI5503  NULL       129  \n",
       "4  ECLI:NL:CRVB:2000:AA5886  NULL       129  "
      ]
     },
     "execution_count": 30,
     "metadata": {},
     "output_type": "execute_result"
    }
   ],
   "source": [
    "case.head()"
   ]
  },
  {
   "cell_type": "code",
   "execution_count": 31,
   "metadata": {},
   "outputs": [],
   "source": [
    "tuples = to_tuples(case)"
   ]
  },
  {
   "cell_type": "code",
   "execution_count": 32,
   "metadata": {},
   "outputs": [
    {
     "name": "stdout",
     "output_type": "stream",
     "text": [
      "case added\n"
     ]
    }
   ],
   "source": [
    "try:  \n",
    "    cursor = conn.cursor(buffered=True)\n",
    "    for idx, data in enumerate(tuples):\n",
    "        query = (\"INSERT INTO `case`\"\n",
    "                \"(date, description, language, venue, abstract, procedure_type, lodge_date, link, ecli, name, court_id)\"\n",
    "                \"VALUES (%s, %s, %s, %s, %s, %s, %s, %s, %s, %s, %s)\")\n",
    "        cursor.execute(query, data)\n",
    "    conn.commit()\n",
    "    cursor.close()\n",
    "    print('case added')\n",
    "except Error as error :\n",
    "    conn.rollback()\n",
    "    print(\"Failed to insert into MySQL table {}\".format(error))\n",
    "    traceback.print_exc(file=sys.stdout)"
   ]
  },
  {
   "cell_type": "markdown",
   "metadata": {},
   "source": [
    "---\n",
    "### Case opinion advocate general"
   ]
  },
  {
   "cell_type": "code",
   "execution_count": 33,
   "metadata": {},
   "outputs": [],
   "source": [
    "case_opinion = pd.DataFrame()\n",
    "case_opinion_columns = ['date',\n",
    "                        'case_number',\n",
    "                        'description',\n",
    "                        'language',\n",
    "                        'country',\n",
    "                        'venue',\n",
    "                        'abstract',\n",
    "                        'procedure_type',\n",
    "                        'authority',\n",
    "                        'ecli']"
   ]
  },
  {
   "cell_type": "code",
   "execution_count": 34,
   "metadata": {},
   "outputs": [],
   "source": [
    "temp = df_case_opinion[['date',\n",
    "                        'case_number',\n",
    "                        'description',\n",
    "                        'language',\n",
    "                        'country',\n",
    "                        'venue',\n",
    "                        'abstract',\n",
    "                        'procedure_type',\n",
    "                        'authority',\n",
    "                        'case_id']]\n",
    "temp.columns = case_opinion_columns\n",
    "case_opinion = case_opinion.append(temp, ignore_index=True)"
   ]
  },
  {
   "cell_type": "code",
   "execution_count": 35,
   "metadata": {},
   "outputs": [],
   "source": [
    "case_opinion['date'] = [pd.to_datetime(i, errors='coerce') if i != 'NULL' else pd.to_datetime('1900-01-01 00:00:00') for i in case_opinion['date']]"
   ]
  },
  {
   "cell_type": "code",
   "execution_count": 36,
   "metadata": {},
   "outputs": [
    {
     "data": {
      "text/html": [
       "<div>\n",
       "<style scoped>\n",
       "    .dataframe tbody tr th:only-of-type {\n",
       "        vertical-align: middle;\n",
       "    }\n",
       "\n",
       "    .dataframe tbody tr th {\n",
       "        vertical-align: top;\n",
       "    }\n",
       "\n",
       "    .dataframe thead th {\n",
       "        text-align: right;\n",
       "    }\n",
       "</style>\n",
       "<table border=\"1\" class=\"dataframe\">\n",
       "  <thead>\n",
       "    <tr style=\"text-align: right;\">\n",
       "      <th></th>\n",
       "      <th>date</th>\n",
       "      <th>case_number</th>\n",
       "      <th>description</th>\n",
       "      <th>language</th>\n",
       "      <th>country</th>\n",
       "      <th>venue</th>\n",
       "      <th>abstract</th>\n",
       "      <th>procedure_type</th>\n",
       "      <th>authority</th>\n",
       "      <th>ecli</th>\n",
       "    </tr>\n",
       "  </thead>\n",
       "  <tbody>\n",
       "  </tbody>\n",
       "</table>\n",
       "</div>"
      ],
      "text/plain": [
       "Empty DataFrame\n",
       "Columns: [date, case_number, description, language, country, venue, abstract, procedure_type, authority, ecli]\n",
       "Index: []"
      ]
     },
     "execution_count": 36,
     "metadata": {},
     "output_type": "execute_result"
    }
   ],
   "source": [
    "case_opinion.head(2)"
   ]
  },
  {
   "cell_type": "code",
   "execution_count": 37,
   "metadata": {},
   "outputs": [],
   "source": [
    "tuples = to_tuples(case_opinion)"
   ]
  },
  {
   "cell_type": "code",
   "execution_count": 38,
   "metadata": {},
   "outputs": [
    {
     "name": "stdout",
     "output_type": "stream",
     "text": [
      "case_opinion added\n"
     ]
    }
   ],
   "source": [
    "try:  \n",
    "    cursor = conn.cursor()\n",
    "    for idx, data in enumerate(tuples):\n",
    "        query = (\"INSERT INTO `case_opinion`\"\n",
    "                \"(date, case_number, description, language, country, venue, abstract, procedure_type, authority, ecli)\"\n",
    "                \"VALUES (%s, %s, %s, %s, %s, %s, %s, %s, %s, %s)\")\n",
    "        cursor.execute(query, data)\n",
    "    conn.commit()\n",
    "    cursor.close()\n",
    "    print('case_opinion added')\n",
    "except Error as error :\n",
    "    conn.rollback()\n",
    "    print(\"Failed to insert into MySQL table {}\".format(error))\n",
    "    traceback.print_exc(file=sys.stdout)"
   ]
  },
  {
   "cell_type": "markdown",
   "metadata": {},
   "source": [
    "---\n",
    "### Legal Intelligence Cases"
   ]
  },
  {
   "cell_type": "code",
   "execution_count": 39,
   "metadata": {},
   "outputs": [],
   "source": [
    "legal_intelligence_case = pd.DataFrame()\n",
    "legal_intelligence_case_columns = ['ecli',\n",
    "                                   'name',\n",
    "                                   'date',\n",
    "                                   'abstract',\n",
    "                                   'subject',\n",
    "                                   'link',\n",
    "                                   'DisplayTitle',\n",
    "                                   'OriginalUrl',\n",
    "                                   'Jurisidiction',\n",
    "                                   'DocumentType',\n",
    "                                   'CaseNumber',\n",
    "                                   'PublicationNumber',\n",
    "                                   'IssueNumber',\n",
    "                                   'lodge_date',\n",
    "                                   'DateAdded',\n",
    "                                   'Sources',\n",
    "                                   'UrlWithAutoLogOnToken',\n",
    "                                   'court',\n",
    "                                   'DisplaySubtitle']"
   ]
  },
  {
   "cell_type": "code",
   "execution_count": 40,
   "metadata": {},
   "outputs": [],
   "source": [
    "temp = df_li_cases[['ecli',\n",
    "                    'Title',\n",
    "                    'date',\n",
    "                    'abstract',\n",
    "                    'LawArea',\n",
    "                    'Url',\n",
    "                    'DisplayTitle',\n",
    "                    'OriginalUrl',\n",
    "                    'Jurisdiction',\n",
    "                    'DocumentType',\n",
    "                    'case_number',\n",
    "                    'PublicationNumber',\n",
    "                    'IssueNumber',\n",
    "                    'lodge_date',\n",
    "                    'DateAdded',\n",
    "                    'Sources',\n",
    "                    'UrlWithAutoLogOnToken',\n",
    "                    'authority',\n",
    "                    'DisplaySubtitle']]\n",
    "temp.columns = legal_intelligence_case_columns\n",
    "legal_intelligence_case = legal_intelligence_case.append(temp, ignore_index=True)"
   ]
  },
  {
   "cell_type": "code",
   "execution_count": 41,
   "metadata": {},
   "outputs": [
    {
     "data": {
      "text/html": [
       "<div>\n",
       "<style scoped>\n",
       "    .dataframe tbody tr th:only-of-type {\n",
       "        vertical-align: middle;\n",
       "    }\n",
       "\n",
       "    .dataframe tbody tr th {\n",
       "        vertical-align: top;\n",
       "    }\n",
       "\n",
       "    .dataframe thead th {\n",
       "        text-align: right;\n",
       "    }\n",
       "</style>\n",
       "<table border=\"1\" class=\"dataframe\">\n",
       "  <thead>\n",
       "    <tr style=\"text-align: right;\">\n",
       "      <th></th>\n",
       "      <th>ecli</th>\n",
       "      <th>name</th>\n",
       "      <th>date</th>\n",
       "      <th>abstract</th>\n",
       "      <th>subject</th>\n",
       "      <th>link</th>\n",
       "      <th>DisplayTitle</th>\n",
       "      <th>OriginalUrl</th>\n",
       "      <th>Jurisidiction</th>\n",
       "      <th>DocumentType</th>\n",
       "      <th>CaseNumber</th>\n",
       "      <th>PublicationNumber</th>\n",
       "      <th>IssueNumber</th>\n",
       "      <th>lodge_date</th>\n",
       "      <th>DateAdded</th>\n",
       "      <th>Sources</th>\n",
       "      <th>UrlWithAutoLogOnToken</th>\n",
       "      <th>court</th>\n",
       "      <th>DisplaySubtitle</th>\n",
       "    </tr>\n",
       "  </thead>\n",
       "  <tbody>\n",
       "    <tr>\n",
       "      <th>0</th>\n",
       "      <td>ECLI:NL:RVS:2005:AS8403</td>\n",
       "      <td>Gevaarlijke afvalstoffen, Enkel laten liggen, ...</td>\n",
       "      <td>19990101</td>\n",
       "      <td>Gevaarlijke afvalstoffen, Enkel laten liggen, ...</td>\n",
       "      <td>['Ruimtelijk Bestuursrecht/Milieurecht/Energie...</td>\n",
       "      <td>http://www.legalintelligence.com/documents/728...</td>\n",
       "      <td>JAF 1999/15 - Met noot - Meijden van der, D. -...</td>\n",
       "      <td>NULL</td>\n",
       "      <td>Nederland</td>\n",
       "      <td>Rechtspraak</td>\n",
       "      <td>200404816/1</td>\n",
       "      <td>JAF 1999/15</td>\n",
       "      <td>JAF/1999/000001</td>\n",
       "      <td>20050302</td>\n",
       "      <td>20120822</td>\n",
       "      <td>JAF</td>\n",
       "      <td>http://www.legalintelligence.com/documents/728...</td>\n",
       "      <td>Raad van State</td>\n",
       "      <td>Gevaarlijke afvalstoffen, Enkel laten liggen, ...</td>\n",
       "    </tr>\n",
       "    <tr>\n",
       "      <th>1</th>\n",
       "      <td>ECLI:NL:RVS:2000:AL2818</td>\n",
       "      <td>Casus Burgemeester en wethouders van Wageninge...</td>\n",
       "      <td>20000101</td>\n",
       "      <td>Casus Burgemeester en wethouders van Wageninge...</td>\n",
       "      <td>['Ruimtelijk Bestuursrecht/Milieurecht/Energie...</td>\n",
       "      <td>http://www.legalintelligence.com/documents/497...</td>\n",
       "      <td>Casus Burgemeester en wethouders van Wageninge...</td>\n",
       "      <td>https://www.navigator.nl/#/document/daee57d5fb...</td>\n",
       "      <td>Nederland</td>\n",
       "      <td>Rechtspraak</td>\n",
       "      <td>199902654/2 ECLI:NL:RVS:2000:AL2818</td>\n",
       "      <td>NULL</td>\n",
       "      <td>NULL</td>\n",
       "      <td>20000328</td>\n",
       "      <td>20110628</td>\n",
       "      <td>Milieurecht Totaal</td>\n",
       "      <td>http://www.legalintelligence.com/documents/497...</td>\n",
       "      <td>Raad van State</td>\n",
       "      <td>Nijhoff, H.P. - Milieurecht Totaal - Module-se...</td>\n",
       "    </tr>\n",
       "  </tbody>\n",
       "</table>\n",
       "</div>"
      ],
      "text/plain": [
       "                      ecli                                               name  \\\n",
       "0  ECLI:NL:RVS:2005:AS8403  Gevaarlijke afvalstoffen, Enkel laten liggen, ...   \n",
       "1  ECLI:NL:RVS:2000:AL2818  Casus Burgemeester en wethouders van Wageninge...   \n",
       "\n",
       "       date                                           abstract  \\\n",
       "0  19990101  Gevaarlijke afvalstoffen, Enkel laten liggen, ...   \n",
       "1  20000101  Casus Burgemeester en wethouders van Wageninge...   \n",
       "\n",
       "                                             subject  \\\n",
       "0  ['Ruimtelijk Bestuursrecht/Milieurecht/Energie...   \n",
       "1  ['Ruimtelijk Bestuursrecht/Milieurecht/Energie...   \n",
       "\n",
       "                                                link  \\\n",
       "0  http://www.legalintelligence.com/documents/728...   \n",
       "1  http://www.legalintelligence.com/documents/497...   \n",
       "\n",
       "                                        DisplayTitle  \\\n",
       "0  JAF 1999/15 - Met noot - Meijden van der, D. -...   \n",
       "1  Casus Burgemeester en wethouders van Wageninge...   \n",
       "\n",
       "                                         OriginalUrl Jurisidiction  \\\n",
       "0                                               NULL     Nederland   \n",
       "1  https://www.navigator.nl/#/document/daee57d5fb...     Nederland   \n",
       "\n",
       "  DocumentType                           CaseNumber PublicationNumber  \\\n",
       "0  Rechtspraak                          200404816/1       JAF 1999/15   \n",
       "1  Rechtspraak  199902654/2 ECLI:NL:RVS:2000:AL2818              NULL   \n",
       "\n",
       "       IssueNumber  lodge_date  DateAdded             Sources  \\\n",
       "0  JAF/1999/000001    20050302   20120822                 JAF   \n",
       "1             NULL    20000328   20110628  Milieurecht Totaal   \n",
       "\n",
       "                               UrlWithAutoLogOnToken           court  \\\n",
       "0  http://www.legalintelligence.com/documents/728...  Raad van State   \n",
       "1  http://www.legalintelligence.com/documents/497...  Raad van State   \n",
       "\n",
       "                                     DisplaySubtitle  \n",
       "0  Gevaarlijke afvalstoffen, Enkel laten liggen, ...  \n",
       "1  Nijhoff, H.P. - Milieurecht Totaal - Module-se...  "
      ]
     },
     "execution_count": 41,
     "metadata": {},
     "output_type": "execute_result"
    }
   ],
   "source": [
    "legal_intelligence_case.head(2)"
   ]
  },
  {
   "cell_type": "code",
   "execution_count": 42,
   "metadata": {},
   "outputs": [],
   "source": [
    "#legal_intelligence_case['name'] = [i[0:250] for i in legal_intelligence_case['name']]\n",
    "#legal_intelligence_case['DisplayTitle'] = [i[0:250] for i in legal_intelligence_case['DisplayTitle']]\n",
    "legal_intelligence_case['date'] = [pd.to_datetime(i, errors='coerce') if i != 'NULL' else pd.to_datetime('1900-01-01 00:00:00') for i in df_li_cases['date']]\n",
    "legal_intelligence_case['lodge_date'] = [pd.to_datetime(i, errors='coerce') if i != 'NULL' else pd.to_datetime('1900-01-01 00:00:00') for i in df_li_cases['lodge_date']]\n",
    "legal_intelligence_case['DateAdded'] = [pd.to_datetime(i, errors='coerce') if i != 'NULL' else pd.to_datetime('1900-01-01 00:00:00') for i in df_li_cases['DateAdded']]"
   ]
  },
  {
   "cell_type": "code",
   "execution_count": 43,
   "metadata": {},
   "outputs": [],
   "source": [
    "tuples = to_tuples(legal_intelligence_case)"
   ]
  },
  {
   "cell_type": "code",
   "execution_count": 44,
   "metadata": {},
   "outputs": [
    {
     "name": "stdout",
     "output_type": "stream",
     "text": [
      "legal intelligence added\n"
     ]
    }
   ],
   "source": [
    "try:  \n",
    "    cursor = conn.cursor()\n",
    "    for idx, data in enumerate(tuples):\n",
    "        query = (\"INSERT INTO `legal_intelligence_case`\"\n",
    "                \"(ecli, name, date, abstract, subject, link, DisplayTitle, OriginalUrl, Jurisdiction, DocumentType, CaseNumber, PublicationNumber, IssueNumber, lodge_date, DateAdded, Sources, UrlWithAutoLogOnToken, court, DisplaySubtitle)\"\n",
    "                \"VALUES (%s, %s, %s, %s, %s, %s, %s, %s, %s, %s, %s, %s, %s, %s, %s, %s, %s, %s, %s)\")\n",
    "        cursor.execute(query, data)\n",
    "    conn.commit()\n",
    "    cursor.close()\n",
    "    print('legal intelligence added')\n",
    "except Error as error :\n",
    "    conn.rollback()\n",
    "    print(\"Failed to insert into MySQL table {}\".format(error))\n",
    "    traceback.print_exc(file=sys.stdout)"
   ]
  },
  {
   "cell_type": "markdown",
   "metadata": {},
   "source": [
    "---\n",
    "### Subjects"
   ]
  },
  {
   "cell_type": "code",
   "execution_count": 45,
   "metadata": {},
   "outputs": [],
   "source": [
    "subjects_as_list = [list(row.split(\"; \")) for row in df_case.subject]\n",
    "unique_subjects = \\\n",
    "    set(list(\n",
    "        pd.core.common\\\n",
    "            .flatten(subjects_as_list)))"
   ]
  },
  {
   "cell_type": "code",
   "execution_count": 46,
   "metadata": {},
   "outputs": [],
   "source": [
    "subject = pd.DataFrame()\n",
    "subject['name'] = list(sorted(unique_subjects))\n",
    "subject.loc[:,'standard_name'] = 'NULL'"
   ]
  },
  {
   "cell_type": "code",
   "execution_count": 47,
   "metadata": {},
   "outputs": [
    {
     "data": {
      "text/html": [
       "<div>\n",
       "<style scoped>\n",
       "    .dataframe tbody tr th:only-of-type {\n",
       "        vertical-align: middle;\n",
       "    }\n",
       "\n",
       "    .dataframe tbody tr th {\n",
       "        vertical-align: top;\n",
       "    }\n",
       "\n",
       "    .dataframe thead th {\n",
       "        text-align: right;\n",
       "    }\n",
       "</style>\n",
       "<table border=\"1\" class=\"dataframe\">\n",
       "  <thead>\n",
       "    <tr style=\"text-align: right;\">\n",
       "      <th></th>\n",
       "      <th>name</th>\n",
       "      <th>standard_name</th>\n",
       "    </tr>\n",
       "  </thead>\n",
       "  <tbody>\n",
       "    <tr>\n",
       "      <th>0</th>\n",
       "      <td>Aanbestedingsrecht</td>\n",
       "      <td>NULL</td>\n",
       "    </tr>\n",
       "    <tr>\n",
       "      <th>1</th>\n",
       "      <td>Ambtenarenrecht</td>\n",
       "      <td>NULL</td>\n",
       "    </tr>\n",
       "  </tbody>\n",
       "</table>\n",
       "</div>"
      ],
      "text/plain": [
       "                 name standard_name\n",
       "0  Aanbestedingsrecht          NULL\n",
       "1     Ambtenarenrecht          NULL"
      ]
     },
     "execution_count": 47,
     "metadata": {},
     "output_type": "execute_result"
    }
   ],
   "source": [
    "subject.head(2)"
   ]
  },
  {
   "cell_type": "code",
   "execution_count": 48,
   "metadata": {},
   "outputs": [],
   "source": [
    "#clean_table_sql('subject')"
   ]
  },
  {
   "cell_type": "code",
   "execution_count": 49,
   "metadata": {},
   "outputs": [],
   "source": [
    "tuples = to_tuples(subject)"
   ]
  },
  {
   "cell_type": "code",
   "execution_count": 50,
   "metadata": {},
   "outputs": [
    {
     "name": "stdout",
     "output_type": "stream",
     "text": [
      "subject added\n"
     ]
    }
   ],
   "source": [
    "try:  \n",
    "    cursor = conn.cursor()\n",
    "    for idx, data in enumerate(tuples):\n",
    "        query = (\"INSERT INTO `subject`\"\n",
    "                \"(name, standard_name)\"\n",
    "                \"VALUES (%s, %s)\")\n",
    "        #print(idx)\n",
    "        cursor.execute(query, data)\n",
    "    conn.commit()\n",
    "    cursor.close()\n",
    "    print('subject added')\n",
    "except Error as error :\n",
    "    conn.rollback()\n",
    "    print(\"Failed to insert into MySQL table {}\".format(error))\n",
    "    traceback.print_exc(file=sys.stdout)"
   ]
  },
  {
   "cell_type": "markdown",
   "metadata": {},
   "source": [
    "---\n",
    "### Case - Subject"
   ]
  },
  {
   "cell_type": "code",
   "execution_count": 51,
   "metadata": {},
   "outputs": [
    {
     "data": {
      "text/plain": [
       "277668"
      ]
     },
     "execution_count": 51,
     "metadata": {},
     "output_type": "execute_result"
    }
   ],
   "source": [
    "df_subjects_case = df_case[['subject','case_id']]\n",
    "df_subjects_case.loc[:,'subject'] = subjects_as_list\n",
    "df_subjects_case = df_subjects_case.explode('subject')\n",
    "len(df_subjects_case)"
   ]
  },
  {
   "cell_type": "code",
   "execution_count": 52,
   "metadata": {},
   "outputs": [
    {
     "data": {
      "text/plain": [
       "277668"
      ]
     },
     "execution_count": 52,
     "metadata": {},
     "output_type": "execute_result"
    }
   ],
   "source": [
    "parents_ids_subjects = get_parent_ids('subject', 'name', df_subjects_case, 'subject')\n",
    "len(parents_ids_subjects)"
   ]
  },
  {
   "cell_type": "code",
   "execution_count": 53,
   "metadata": {},
   "outputs": [
    {
     "data": {
      "text/plain": [
       "277668"
      ]
     },
     "execution_count": 53,
     "metadata": {},
     "output_type": "execute_result"
    }
   ],
   "source": [
    "parents_ids_cases = get_parent_ids('case', 'ecli', df_subjects_case, 'case_id')\n",
    "len(parents_ids_cases)"
   ]
  },
  {
   "cell_type": "code",
   "execution_count": 54,
   "metadata": {},
   "outputs": [],
   "source": [
    "case_subject = pd.DataFrame({'case_id':parents_ids_cases,\n",
    "                             'subject_id':parents_ids_subjects})"
   ]
  },
  {
   "cell_type": "code",
   "execution_count": 55,
   "metadata": {},
   "outputs": [],
   "source": [
    "#case_subject.sort_values(by='case_id').tail(50) #quality check\n",
    "#[(type(i), type(j)) for i,j in zip(case_subject.subject_id,case_subject.case_id)]"
   ]
  },
  {
   "cell_type": "code",
   "execution_count": 56,
   "metadata": {},
   "outputs": [
    {
     "data": {
      "text/html": [
       "<div>\n",
       "<style scoped>\n",
       "    .dataframe tbody tr th:only-of-type {\n",
       "        vertical-align: middle;\n",
       "    }\n",
       "\n",
       "    .dataframe tbody tr th {\n",
       "        vertical-align: top;\n",
       "    }\n",
       "\n",
       "    .dataframe thead th {\n",
       "        text-align: right;\n",
       "    }\n",
       "</style>\n",
       "<table border=\"1\" class=\"dataframe\">\n",
       "  <thead>\n",
       "    <tr style=\"text-align: right;\">\n",
       "      <th></th>\n",
       "      <th>case_id</th>\n",
       "      <th>subject_id</th>\n",
       "    </tr>\n",
       "  </thead>\n",
       "  <tbody>\n",
       "    <tr>\n",
       "      <th>277665</th>\n",
       "      <td>199998</td>\n",
       "      <td>21</td>\n",
       "    </tr>\n",
       "    <tr>\n",
       "      <th>277666</th>\n",
       "      <td>199999</td>\n",
       "      <td>21</td>\n",
       "    </tr>\n",
       "    <tr>\n",
       "      <th>277667</th>\n",
       "      <td>200000</td>\n",
       "      <td>21</td>\n",
       "    </tr>\n",
       "  </tbody>\n",
       "</table>\n",
       "</div>"
      ],
      "text/plain": [
       "        case_id  subject_id\n",
       "277665   199998          21\n",
       "277666   199999          21\n",
       "277667   200000          21"
      ]
     },
     "execution_count": 56,
     "metadata": {},
     "output_type": "execute_result"
    }
   ],
   "source": [
    "case_subject.tail(3)"
   ]
  },
  {
   "cell_type": "code",
   "execution_count": 57,
   "metadata": {},
   "outputs": [],
   "source": [
    "tuples = to_tuples(case_subject)\n",
    "tuples = [(int(i), int(j)) for i,j in tuples]"
   ]
  },
  {
   "cell_type": "code",
   "execution_count": 58,
   "metadata": {},
   "outputs": [
    {
     "name": "stdout",
     "output_type": "stream",
     "text": [
      "case_subject added\n"
     ]
    }
   ],
   "source": [
    "try:  \n",
    "    cursor = conn.cursor()\n",
    "    for idx, data in enumerate(tuples):\n",
    "        query = (\"INSERT INTO `case_subject`\"\n",
    "                \"(case_id, subject_id)\"\n",
    "                \"VALUES (%s, %s)\")\n",
    "        cursor.execute(query, data)\n",
    "    conn.commit()\n",
    "    cursor.close()\n",
    "    print('case_subject added')\n",
    "except Error as error :\n",
    "    conn.rollback()\n",
    "    print(\"Failed to insert into MySQL table {}\".format(error))\n",
    "    traceback.print_exc(file=sys.stdout)"
   ]
  },
  {
   "cell_type": "markdown",
   "metadata": {},
   "source": [
    "---\n",
    "### Countries"
   ]
  },
  {
   "cell_type": "code",
   "execution_count": 59,
   "metadata": {},
   "outputs": [
    {
     "data": {
      "text/html": [
       "<div>\n",
       "<style scoped>\n",
       "    .dataframe tbody tr th:only-of-type {\n",
       "        vertical-align: middle;\n",
       "    }\n",
       "\n",
       "    .dataframe tbody tr th {\n",
       "        vertical-align: top;\n",
       "    }\n",
       "\n",
       "    .dataframe thead th {\n",
       "        text-align: right;\n",
       "    }\n",
       "</style>\n",
       "<table border=\"1\" class=\"dataframe\">\n",
       "  <thead>\n",
       "    <tr style=\"text-align: right;\">\n",
       "      <th></th>\n",
       "      <th>country_id</th>\n",
       "      <th>eu</th>\n",
       "      <th>name</th>\n",
       "      <th>flag</th>\n",
       "    </tr>\n",
       "  </thead>\n",
       "  <tbody>\n",
       "    <tr>\n",
       "      <th>0</th>\n",
       "      <td>AT</td>\n",
       "      <td>1</td>\n",
       "      <td>Austria</td>\n",
       "      <td>https://www.countryflags.io/at/flat/64.png</td>\n",
       "    </tr>\n",
       "    <tr>\n",
       "      <th>1</th>\n",
       "      <td>BE</td>\n",
       "      <td>1</td>\n",
       "      <td>Belgium</td>\n",
       "      <td>https://www.countryflags.io/be/flat/64.png</td>\n",
       "    </tr>\n",
       "    <tr>\n",
       "      <th>2</th>\n",
       "      <td>BG</td>\n",
       "      <td>1</td>\n",
       "      <td>Bulgaria</td>\n",
       "      <td>https://www.countryflags.io/bg/flat/64.png</td>\n",
       "    </tr>\n",
       "    <tr>\n",
       "      <th>3</th>\n",
       "      <td>CH</td>\n",
       "      <td>0</td>\n",
       "      <td>Switzerland</td>\n",
       "      <td>https://www.countryflags.io/ch/flat/64.png</td>\n",
       "    </tr>\n",
       "    <tr>\n",
       "      <th>4</th>\n",
       "      <td>CZ</td>\n",
       "      <td>1</td>\n",
       "      <td>Czechia</td>\n",
       "      <td>https://www.countryflags.io/cz/flat/64.png</td>\n",
       "    </tr>\n",
       "  </tbody>\n",
       "</table>\n",
       "</div>"
      ],
      "text/plain": [
       "  country_id  eu         name                                        flag\n",
       "0         AT   1      Austria  https://www.countryflags.io/at/flat/64.png\n",
       "1         BE   1      Belgium  https://www.countryflags.io/be/flat/64.png\n",
       "2         BG   1     Bulgaria  https://www.countryflags.io/bg/flat/64.png\n",
       "3         CH   0  Switzerland  https://www.countryflags.io/ch/flat/64.png\n",
       "4         CZ   1      Czechia  https://www.countryflags.io/cz/flat/64.png"
      ]
     },
     "execution_count": 59,
     "metadata": {},
     "output_type": "execute_result"
    }
   ],
   "source": [
    "df_country.head()"
   ]
  },
  {
   "cell_type": "code",
   "execution_count": 60,
   "metadata": {},
   "outputs": [],
   "source": [
    "df_country.loc[:,'language'] = 'NULL'\n",
    "df_country.loc[:,'eea'] = 0"
   ]
  },
  {
   "cell_type": "code",
   "execution_count": 61,
   "metadata": {},
   "outputs": [],
   "source": [
    "country = pd.DataFrame()\n",
    "country_columns = ['id',\n",
    "                   'name',\n",
    "                   'language',\n",
    "                   'flag',\n",
    "                   'eu',\n",
    "                   'eea']"
   ]
  },
  {
   "cell_type": "code",
   "execution_count": 62,
   "metadata": {},
   "outputs": [],
   "source": [
    "temp = df_country[['country_id',\n",
    "                   'name',\n",
    "                   'language',\n",
    "                   'flag',\n",
    "                   'eu',\n",
    "                   'eea']]\n",
    "temp.columns = country_columns\n",
    "country = country.append(temp, ignore_index=True)"
   ]
  },
  {
   "cell_type": "code",
   "execution_count": 63,
   "metadata": {},
   "outputs": [
    {
     "data": {
      "text/html": [
       "<div>\n",
       "<style scoped>\n",
       "    .dataframe tbody tr th:only-of-type {\n",
       "        vertical-align: middle;\n",
       "    }\n",
       "\n",
       "    .dataframe tbody tr th {\n",
       "        vertical-align: top;\n",
       "    }\n",
       "\n",
       "    .dataframe thead th {\n",
       "        text-align: right;\n",
       "    }\n",
       "</style>\n",
       "<table border=\"1\" class=\"dataframe\">\n",
       "  <thead>\n",
       "    <tr style=\"text-align: right;\">\n",
       "      <th></th>\n",
       "      <th>id</th>\n",
       "      <th>name</th>\n",
       "      <th>language</th>\n",
       "      <th>flag</th>\n",
       "      <th>eu</th>\n",
       "      <th>eea</th>\n",
       "    </tr>\n",
       "  </thead>\n",
       "  <tbody>\n",
       "    <tr>\n",
       "      <th>0</th>\n",
       "      <td>AT</td>\n",
       "      <td>Austria</td>\n",
       "      <td>NULL</td>\n",
       "      <td>https://www.countryflags.io/at/flat/64.png</td>\n",
       "      <td>1</td>\n",
       "      <td>0</td>\n",
       "    </tr>\n",
       "    <tr>\n",
       "      <th>1</th>\n",
       "      <td>BE</td>\n",
       "      <td>Belgium</td>\n",
       "      <td>NULL</td>\n",
       "      <td>https://www.countryflags.io/be/flat/64.png</td>\n",
       "      <td>1</td>\n",
       "      <td>0</td>\n",
       "    </tr>\n",
       "    <tr>\n",
       "      <th>2</th>\n",
       "      <td>BG</td>\n",
       "      <td>Bulgaria</td>\n",
       "      <td>NULL</td>\n",
       "      <td>https://www.countryflags.io/bg/flat/64.png</td>\n",
       "      <td>1</td>\n",
       "      <td>0</td>\n",
       "    </tr>\n",
       "  </tbody>\n",
       "</table>\n",
       "</div>"
      ],
      "text/plain": [
       "   id      name language                                        flag  eu  eea\n",
       "0  AT   Austria     NULL  https://www.countryflags.io/at/flat/64.png   1    0\n",
       "1  BE   Belgium     NULL  https://www.countryflags.io/be/flat/64.png   1    0\n",
       "2  BG  Bulgaria     NULL  https://www.countryflags.io/bg/flat/64.png   1    0"
      ]
     },
     "execution_count": 63,
     "metadata": {},
     "output_type": "execute_result"
    }
   ],
   "source": [
    "country.head(3)"
   ]
  },
  {
   "cell_type": "code",
   "execution_count": 64,
   "metadata": {},
   "outputs": [],
   "source": [
    "tuples = to_tuples(country)"
   ]
  },
  {
   "cell_type": "code",
   "execution_count": 65,
   "metadata": {},
   "outputs": [
    {
     "name": "stdout",
     "output_type": "stream",
     "text": [
      "country added\n"
     ]
    }
   ],
   "source": [
    "try:  \n",
    "    cursor = conn.cursor()\n",
    "    for idx, data in enumerate(tuples):\n",
    "        query = (\"INSERT INTO `country`\"\n",
    "                \"(id, name, language, flag, eu, eea)\"\n",
    "                \"VALUES (%s, %s, %s, %s, %s, %s)\")\n",
    "        cursor.execute(query, data)\n",
    "    conn.commit()\n",
    "    cursor.close()\n",
    "    print('country added')\n",
    "except Error as error :\n",
    "    conn.rollback()\n",
    "    print(\"Failed to insert into MySQL table {}\".format(error))\n",
    "    traceback.print_exc(file=sys.stdout)"
   ]
  },
  {
   "cell_type": "markdown",
   "metadata": {},
   "source": [
    "---\n",
    "### Case - Country"
   ]
  },
  {
   "cell_type": "code",
   "execution_count": 66,
   "metadata": {},
   "outputs": [
    {
     "data": {
      "text/html": [
       "<div>\n",
       "<style scoped>\n",
       "    .dataframe tbody tr th:only-of-type {\n",
       "        vertical-align: middle;\n",
       "    }\n",
       "\n",
       "    .dataframe tbody tr th {\n",
       "        vertical-align: top;\n",
       "    }\n",
       "\n",
       "    .dataframe thead th {\n",
       "        text-align: right;\n",
       "    }\n",
       "</style>\n",
       "<table border=\"1\" class=\"dataframe\">\n",
       "  <thead>\n",
       "    <tr style=\"text-align: right;\">\n",
       "      <th></th>\n",
       "      <th>case_id</th>\n",
       "      <th>date</th>\n",
       "      <th>case_number</th>\n",
       "      <th>description</th>\n",
       "      <th>language</th>\n",
       "      <th>venue</th>\n",
       "      <th>abstract</th>\n",
       "      <th>procedure_type</th>\n",
       "      <th>lodge_date</th>\n",
       "      <th>country</th>\n",
       "      <th>...</th>\n",
       "      <th>abstract.1</th>\n",
       "      <th>procedure_type.1</th>\n",
       "      <th>lodge_date.1</th>\n",
       "      <th>country.1</th>\n",
       "      <th>subject.1</th>\n",
       "      <th>authority.1</th>\n",
       "      <th>legal_references.1</th>\n",
       "      <th>related_cases.1</th>\n",
       "      <th>alternative_sources.1</th>\n",
       "      <th>full_text</th>\n",
       "    </tr>\n",
       "  </thead>\n",
       "  <tbody>\n",
       "    <tr>\n",
       "      <th>0</th>\n",
       "      <td>ECLI:NL:CBB:2000:ZG2046</td>\n",
       "      <td>2000-01-11</td>\n",
       "      <td>95/0775/062/229</td>\n",
       "      <td>NULL</td>\n",
       "      <td>NL</td>\n",
       "      <td>NULL</td>\n",
       "      <td>NULL</td>\n",
       "      <td>NULL</td>\n",
       "      <td>NULL</td>\n",
       "      <td>NL</td>\n",
       "      <td>...</td>\n",
       "      <td>NULL</td>\n",
       "      <td>NULL</td>\n",
       "      <td>NULL</td>\n",
       "      <td>NULL</td>\n",
       "      <td>NULL</td>\n",
       "      <td>NULL</td>\n",
       "      <td>NULL</td>\n",
       "      <td>NULL</td>\n",
       "      <td>NULL</td>\n",
       "      <td>NULL</td>\n",
       "    </tr>\n",
       "    <tr>\n",
       "      <th>1</th>\n",
       "      <td>ECLI:NL:CBB:2000:ZG1822</td>\n",
       "      <td>2000-02-15</td>\n",
       "      <td>98/280;20100</td>\n",
       "      <td>NULL</td>\n",
       "      <td>NL</td>\n",
       "      <td>NULL</td>\n",
       "      <td>NULL</td>\n",
       "      <td>NULL</td>\n",
       "      <td>NULL</td>\n",
       "      <td>NL</td>\n",
       "      <td>...</td>\n",
       "      <td>NULL</td>\n",
       "      <td>NULL</td>\n",
       "      <td>NULL</td>\n",
       "      <td>NULL</td>\n",
       "      <td>NULL</td>\n",
       "      <td>NULL</td>\n",
       "      <td>NULL</td>\n",
       "      <td>NULL</td>\n",
       "      <td>NULL</td>\n",
       "      <td>NULL</td>\n",
       "    </tr>\n",
       "  </tbody>\n",
       "</table>\n",
       "<p>2 rows × 31 columns</p>\n",
       "</div>"
      ],
      "text/plain": [
       "                   case_id        date      case_number description language  \\\n",
       "0  ECLI:NL:CBB:2000:ZG2046  2000-01-11  95/0775/062/229        NULL       NL   \n",
       "1  ECLI:NL:CBB:2000:ZG1822  2000-02-15     98/280;20100        NULL       NL   \n",
       "\n",
       "  venue abstract procedure_type lodge_date country  ... abstract.1  \\\n",
       "0  NULL     NULL           NULL       NULL      NL  ...       NULL   \n",
       "1  NULL     NULL           NULL       NULL      NL  ...       NULL   \n",
       "\n",
       "  procedure_type.1 lodge_date.1 country.1 subject.1 authority.1  \\\n",
       "0             NULL         NULL      NULL      NULL        NULL   \n",
       "1             NULL         NULL      NULL      NULL        NULL   \n",
       "\n",
       "  legal_references.1 related_cases.1 alternative_sources.1 full_text  \n",
       "0               NULL            NULL                  NULL      NULL  \n",
       "1               NULL            NULL                  NULL      NULL  \n",
       "\n",
       "[2 rows x 31 columns]"
      ]
     },
     "execution_count": 66,
     "metadata": {},
     "output_type": "execute_result"
    }
   ],
   "source": [
    "df_case.head(2)"
   ]
  },
  {
   "cell_type": "code",
   "execution_count": 67,
   "metadata": {},
   "outputs": [],
   "source": [
    "#as_list = [list(row.split(\"; \")) for row in df_case.country] #in case there is more than one country in the row"
   ]
  },
  {
   "cell_type": "code",
   "execution_count": 68,
   "metadata": {},
   "outputs": [
    {
     "data": {
      "text/plain": [
       "200000"
      ]
     },
     "execution_count": 68,
     "metadata": {},
     "output_type": "execute_result"
    }
   ],
   "source": [
    "df_country_case = df_case[['case_id','country']]\n",
    "#df_country_case.loc[:,'country'] = as_list\n",
    "df_country_case = df_country_case.explode('country')\n",
    "len(df_country_case)"
   ]
  },
  {
   "cell_type": "code",
   "execution_count": 69,
   "metadata": {},
   "outputs": [
    {
     "data": {
      "text/plain": [
       "200000"
      ]
     },
     "execution_count": 69,
     "metadata": {},
     "output_type": "execute_result"
    }
   ],
   "source": [
    "parents_ids_countries = get_parent_ids('country', 'id', df_country_case, 'country')\n",
    "len(parents_ids_countries)"
   ]
  },
  {
   "cell_type": "code",
   "execution_count": 70,
   "metadata": {},
   "outputs": [
    {
     "data": {
      "text/plain": [
       "200000"
      ]
     },
     "execution_count": 70,
     "metadata": {},
     "output_type": "execute_result"
    }
   ],
   "source": [
    "parents_ids_cases = get_parent_ids('case', 'ecli', df_country_case, 'case_id')\n",
    "len(parents_ids_cases)"
   ]
  },
  {
   "cell_type": "code",
   "execution_count": 71,
   "metadata": {},
   "outputs": [],
   "source": [
    "case_country = pd.DataFrame({'case_id':parents_ids_cases,\n",
    "                             'country_id':parents_ids_countries})"
   ]
  },
  {
   "cell_type": "code",
   "execution_count": 72,
   "metadata": {},
   "outputs": [
    {
     "data": {
      "text/html": [
       "<div>\n",
       "<style scoped>\n",
       "    .dataframe tbody tr th:only-of-type {\n",
       "        vertical-align: middle;\n",
       "    }\n",
       "\n",
       "    .dataframe tbody tr th {\n",
       "        vertical-align: top;\n",
       "    }\n",
       "\n",
       "    .dataframe thead th {\n",
       "        text-align: right;\n",
       "    }\n",
       "</style>\n",
       "<table border=\"1\" class=\"dataframe\">\n",
       "  <thead>\n",
       "    <tr style=\"text-align: right;\">\n",
       "      <th></th>\n",
       "      <th>case_id</th>\n",
       "      <th>country_id</th>\n",
       "    </tr>\n",
       "  </thead>\n",
       "  <tbody>\n",
       "    <tr>\n",
       "      <th>199997</th>\n",
       "      <td>199998</td>\n",
       "      <td>NL</td>\n",
       "    </tr>\n",
       "    <tr>\n",
       "      <th>199998</th>\n",
       "      <td>199999</td>\n",
       "      <td>NL</td>\n",
       "    </tr>\n",
       "    <tr>\n",
       "      <th>199999</th>\n",
       "      <td>200000</td>\n",
       "      <td>NL</td>\n",
       "    </tr>\n",
       "  </tbody>\n",
       "</table>\n",
       "</div>"
      ],
      "text/plain": [
       "        case_id country_id\n",
       "199997   199998         NL\n",
       "199998   199999         NL\n",
       "199999   200000         NL"
      ]
     },
     "execution_count": 72,
     "metadata": {},
     "output_type": "execute_result"
    }
   ],
   "source": [
    "case_country.tail(3)"
   ]
  },
  {
   "cell_type": "code",
   "execution_count": 73,
   "metadata": {},
   "outputs": [],
   "source": [
    "tuples = to_tuples(case_country)\n",
    "#tuples = [(int(i), int(j)) for i,j in tuples]"
   ]
  },
  {
   "cell_type": "code",
   "execution_count": 74,
   "metadata": {},
   "outputs": [
    {
     "name": "stdout",
     "output_type": "stream",
     "text": [
      "case_subject added\n"
     ]
    }
   ],
   "source": [
    "try:  \n",
    "    cursor = conn.cursor()\n",
    "    for idx, data in enumerate(tuples):\n",
    "        query = (\"INSERT INTO `case_country`\"\n",
    "                \"(case_id, country_id)\"\n",
    "                \"VALUES (%s, %s)\")\n",
    "        cursor.execute(query, data)\n",
    "    conn.commit()\n",
    "    cursor.close()\n",
    "    print('case_subject added')\n",
    "except Error as error :\n",
    "    conn.rollback()\n",
    "    print(\"Failed to insert into MySQL table {}\".format(error))\n",
    "    traceback.print_exc(file=sys.stdout)"
   ]
  },
  {
   "cell_type": "markdown",
   "metadata": {},
   "source": [
    "---\n",
    "### Case law citation"
   ]
  },
  {
   "cell_type": "code",
   "execution_count": 75,
   "metadata": {},
   "outputs": [
    {
     "data": {
      "text/html": [
       "<div>\n",
       "<style scoped>\n",
       "    .dataframe tbody tr th:only-of-type {\n",
       "        vertical-align: middle;\n",
       "    }\n",
       "\n",
       "    .dataframe tbody tr th {\n",
       "        vertical-align: top;\n",
       "    }\n",
       "\n",
       "    .dataframe thead th {\n",
       "        text-align: right;\n",
       "    }\n",
       "</style>\n",
       "<table border=\"1\" class=\"dataframe\">\n",
       "  <thead>\n",
       "    <tr style=\"text-align: right;\">\n",
       "      <th></th>\n",
       "      <th>source_ecli</th>\n",
       "      <th>source_paragraph</th>\n",
       "      <th>target_ecli</th>\n",
       "      <th>target_paragraph</th>\n",
       "    </tr>\n",
       "  </thead>\n",
       "  <tbody>\n",
       "  </tbody>\n",
       "</table>\n",
       "</div>"
      ],
      "text/plain": [
       "Empty DataFrame\n",
       "Columns: [source_ecli, source_paragraph, target_ecli, target_paragraph]\n",
       "Index: []"
      ]
     },
     "execution_count": 75,
     "metadata": {},
     "output_type": "execute_result"
    }
   ],
   "source": [
    "df_case_citation.head(4)"
   ]
  },
  {
   "cell_type": "code",
   "execution_count": 76,
   "metadata": {},
   "outputs": [],
   "source": [
    "parent_ids = get_parent_ids('case', 'ecli', df_case_citation, 'source_ecli')\n",
    "df_case_citation['case_id'] = parent_ids"
   ]
  },
  {
   "cell_type": "code",
   "execution_count": 77,
   "metadata": {},
   "outputs": [],
   "source": [
    "case_citation = pd.DataFrame()\n",
    "case_citation_columns = ['source_ecli',\n",
    "                         'source_paragraph',\n",
    "                         'target_ecli',\n",
    "                         'target_paragraph',\n",
    "                        'case_id']"
   ]
  },
  {
   "cell_type": "code",
   "execution_count": 78,
   "metadata": {},
   "outputs": [],
   "source": [
    "temp = df_case_citation[['source_ecli',\n",
    "                         'source_paragraph',\n",
    "                         'target_ecli',\n",
    "                         'target_paragraph',\n",
    "                         'case_id']]\n",
    "temp.columns = case_citation_columns\n",
    "case_citation = case_citation.append(temp, ignore_index=True)"
   ]
  },
  {
   "cell_type": "code",
   "execution_count": 79,
   "metadata": {},
   "outputs": [
    {
     "data": {
      "text/html": [
       "<div>\n",
       "<style scoped>\n",
       "    .dataframe tbody tr th:only-of-type {\n",
       "        vertical-align: middle;\n",
       "    }\n",
       "\n",
       "    .dataframe tbody tr th {\n",
       "        vertical-align: top;\n",
       "    }\n",
       "\n",
       "    .dataframe thead th {\n",
       "        text-align: right;\n",
       "    }\n",
       "</style>\n",
       "<table border=\"1\" class=\"dataframe\">\n",
       "  <thead>\n",
       "    <tr style=\"text-align: right;\">\n",
       "      <th></th>\n",
       "      <th>source_ecli</th>\n",
       "      <th>source_paragraph</th>\n",
       "      <th>target_ecli</th>\n",
       "      <th>target_paragraph</th>\n",
       "      <th>case_id</th>\n",
       "    </tr>\n",
       "  </thead>\n",
       "  <tbody>\n",
       "  </tbody>\n",
       "</table>\n",
       "</div>"
      ],
      "text/plain": [
       "Empty DataFrame\n",
       "Columns: [source_ecli, source_paragraph, target_ecli, target_paragraph, case_id]\n",
       "Index: []"
      ]
     },
     "execution_count": 79,
     "metadata": {},
     "output_type": "execute_result"
    }
   ],
   "source": [
    "case_citation.head(3)"
   ]
  },
  {
   "cell_type": "code",
   "execution_count": 80,
   "metadata": {},
   "outputs": [],
   "source": [
    "tuples = to_tuples(case_citation)"
   ]
  },
  {
   "cell_type": "code",
   "execution_count": 81,
   "metadata": {},
   "outputs": [
    {
     "name": "stdout",
     "output_type": "stream",
     "text": [
      "case_citation added\n"
     ]
    }
   ],
   "source": [
    "try:  \n",
    "    cursor = conn.cursor()\n",
    "    for idx, data in enumerate(tuples):\n",
    "        query = (\"INSERT INTO `case_citation`\"\n",
    "                \"(source_ecli, source_paragraph, target_ecli, target_paragraph, case_id)\"\n",
    "                \"VALUES (%s, %s, %s, %s, %s)\")\n",
    "        cursor.execute(query, data)\n",
    "    conn.commit()\n",
    "    cursor.close()\n",
    "    print('case_citation added')\n",
    "except Error as error :\n",
    "    conn.rollback()\n",
    "    print(\"Failed to insert into MySQL table {}\".format(error))\n",
    "    traceback.print_exc(file=sys.stdout)"
   ]
  },
  {
   "cell_type": "markdown",
   "metadata": {},
   "source": [
    "---\n",
    "### Legislation citation"
   ]
  },
  {
   "cell_type": "code",
   "execution_count": 82,
   "metadata": {},
   "outputs": [
    {
     "data": {
      "text/html": [
       "<div>\n",
       "<style scoped>\n",
       "    .dataframe tbody tr th:only-of-type {\n",
       "        vertical-align: middle;\n",
       "    }\n",
       "\n",
       "    .dataframe tbody tr th {\n",
       "        vertical-align: top;\n",
       "    }\n",
       "\n",
       "    .dataframe thead th {\n",
       "        text-align: right;\n",
       "    }\n",
       "</style>\n",
       "<table border=\"1\" class=\"dataframe\">\n",
       "  <thead>\n",
       "    <tr style=\"text-align: right;\">\n",
       "      <th></th>\n",
       "      <th>source_ecli</th>\n",
       "      <th>source_paragraph</th>\n",
       "      <th>target_article</th>\n",
       "      <th>target_article_paragraph</th>\n",
       "      <th>target_article_webpage</th>\n",
       "    </tr>\n",
       "  </thead>\n",
       "  <tbody>\n",
       "  </tbody>\n",
       "</table>\n",
       "</div>"
      ],
      "text/plain": [
       "Empty DataFrame\n",
       "Columns: [source_ecli, source_paragraph, target_article, target_article_paragraph, target_article_webpage]\n",
       "Index: []"
      ]
     },
     "execution_count": 82,
     "metadata": {},
     "output_type": "execute_result"
    }
   ],
   "source": [
    "df_legislation_citation.head(4)"
   ]
  },
  {
   "cell_type": "code",
   "execution_count": 83,
   "metadata": {},
   "outputs": [],
   "source": [
    "parent_ids = get_parent_ids('case', 'ecli', df_legislation_citation, 'source_ecli')\n",
    "df_legislation_citation['case_id'] = parent_ids"
   ]
  },
  {
   "cell_type": "code",
   "execution_count": 84,
   "metadata": {},
   "outputs": [
    {
     "ename": "ValueError",
     "evalue": "cannot set a frame with no defined index and a scalar",
     "output_type": "error",
     "traceback": [
      "\u001b[0;31m---------------------------------------------------------------------------\u001b[0m",
      "\u001b[0;31mValueError\u001b[0m                                Traceback (most recent call last)",
      "\u001b[0;32m<ipython-input-84-069b8387b6b6>\u001b[0m in \u001b[0;36m<module>\u001b[0;34m\u001b[0m\n\u001b[0;32m----> 1\u001b[0;31m \u001b[0mdf_legislation_citation\u001b[0m\u001b[0;34m.\u001b[0m\u001b[0mloc\u001b[0m\u001b[0;34m[\u001b[0m\u001b[0;34m:\u001b[0m\u001b[0;34m,\u001b[0m\u001b[0;34m'target_name'\u001b[0m\u001b[0;34m]\u001b[0m \u001b[0;34m=\u001b[0m \u001b[0;34m'NULL'\u001b[0m\u001b[0;34m\u001b[0m\u001b[0;34m\u001b[0m\u001b[0m\n\u001b[0m\u001b[1;32m      2\u001b[0m \u001b[0mdf_legislation_citation\u001b[0m\u001b[0;34m.\u001b[0m\u001b[0mloc\u001b[0m\u001b[0;34m[\u001b[0m\u001b[0;34m:\u001b[0m\u001b[0;34m,\u001b[0m\u001b[0;34m'target_sourcename'\u001b[0m\u001b[0;34m]\u001b[0m \u001b[0;34m=\u001b[0m \u001b[0;34m'NULL'\u001b[0m\u001b[0;34m\u001b[0m\u001b[0;34m\u001b[0m\u001b[0m\n",
      "\u001b[0;32m~/opt/anaconda3/lib/python3.7/site-packages/pandas/core/indexing.py\u001b[0m in \u001b[0;36m__setitem__\u001b[0;34m(self, key, value)\u001b[0m\n\u001b[1;32m    668\u001b[0m             \u001b[0mkey\u001b[0m \u001b[0;34m=\u001b[0m \u001b[0mcom\u001b[0m\u001b[0;34m.\u001b[0m\u001b[0mapply_if_callable\u001b[0m\u001b[0;34m(\u001b[0m\u001b[0mkey\u001b[0m\u001b[0;34m,\u001b[0m \u001b[0mself\u001b[0m\u001b[0;34m.\u001b[0m\u001b[0mobj\u001b[0m\u001b[0;34m)\u001b[0m\u001b[0;34m\u001b[0m\u001b[0;34m\u001b[0m\u001b[0m\n\u001b[1;32m    669\u001b[0m         \u001b[0mindexer\u001b[0m \u001b[0;34m=\u001b[0m \u001b[0mself\u001b[0m\u001b[0;34m.\u001b[0m\u001b[0m_get_setitem_indexer\u001b[0m\u001b[0;34m(\u001b[0m\u001b[0mkey\u001b[0m\u001b[0;34m)\u001b[0m\u001b[0;34m\u001b[0m\u001b[0;34m\u001b[0m\u001b[0m\n\u001b[0;32m--> 670\u001b[0;31m         \u001b[0mself\u001b[0m\u001b[0;34m.\u001b[0m\u001b[0m_setitem_with_indexer\u001b[0m\u001b[0;34m(\u001b[0m\u001b[0mindexer\u001b[0m\u001b[0;34m,\u001b[0m \u001b[0mvalue\u001b[0m\u001b[0;34m)\u001b[0m\u001b[0;34m\u001b[0m\u001b[0;34m\u001b[0m\u001b[0m\n\u001b[0m\u001b[1;32m    671\u001b[0m \u001b[0;34m\u001b[0m\u001b[0m\n\u001b[1;32m    672\u001b[0m     \u001b[0;32mdef\u001b[0m \u001b[0m_validate_key\u001b[0m\u001b[0;34m(\u001b[0m\u001b[0mself\u001b[0m\u001b[0;34m,\u001b[0m \u001b[0mkey\u001b[0m\u001b[0;34m,\u001b[0m \u001b[0maxis\u001b[0m\u001b[0;34m:\u001b[0m \u001b[0mint\u001b[0m\u001b[0;34m)\u001b[0m\u001b[0;34m:\u001b[0m\u001b[0;34m\u001b[0m\u001b[0;34m\u001b[0m\u001b[0m\n",
      "\u001b[0;32m~/opt/anaconda3/lib/python3.7/site-packages/pandas/core/indexing.py\u001b[0m in \u001b[0;36m_setitem_with_indexer\u001b[0;34m(self, indexer, value)\u001b[0m\n\u001b[1;32m    835\u001b[0m                             \u001b[0;32mif\u001b[0m \u001b[0;32mnot\u001b[0m \u001b[0mis_list_like_indexer\u001b[0m\u001b[0;34m(\u001b[0m\u001b[0mvalue\u001b[0m\u001b[0;34m)\u001b[0m\u001b[0;34m:\u001b[0m\u001b[0;34m\u001b[0m\u001b[0;34m\u001b[0m\u001b[0m\n\u001b[1;32m    836\u001b[0m                                 raise ValueError(\n\u001b[0;32m--> 837\u001b[0;31m                                     \u001b[0;34m\"cannot set a frame with no \"\u001b[0m\u001b[0;34m\u001b[0m\u001b[0;34m\u001b[0m\u001b[0m\n\u001b[0m\u001b[1;32m    838\u001b[0m                                     \u001b[0;34m\"defined index and a scalar\"\u001b[0m\u001b[0;34m\u001b[0m\u001b[0;34m\u001b[0m\u001b[0m\n\u001b[1;32m    839\u001b[0m                                 )\n",
      "\u001b[0;31mValueError\u001b[0m: cannot set a frame with no defined index and a scalar"
     ]
    }
   ],
   "source": [
    "df_legislation_citation.loc[:,'target_name'] = 'NULL'\n",
    "df_legislation_citation.loc[:,'target_sourcename'] = 'NULL'"
   ]
  },
  {
   "cell_type": "code",
   "execution_count": null,
   "metadata": {},
   "outputs": [],
   "source": [
    "legislation_citation = pd.DataFrame()\n",
    "legislation_citation_columns = ['source_ecli',\n",
    "                                'source_paragraph',\n",
    "                                'target_id',\n",
    "                                'target_paragraph',\n",
    "                                'target_name',\n",
    "                                'target_sourcename',\n",
    "                                'target_link',\n",
    "                                'case_id']"
   ]
  },
  {
   "cell_type": "code",
   "execution_count": null,
   "metadata": {},
   "outputs": [],
   "source": [
    "temp = df_legislation_citation[['source_ecli',\n",
    "                                'source_paragraph',\n",
    "                                'target_article',\n",
    "                                'target_article_paragraph',\n",
    "                                'target_name',\n",
    "                                'target_sourcename',\n",
    "                                'target_article_webpage',\n",
    "                                'case_id']]\n",
    "temp.columns = legislation_citation_columns\n",
    "legislation_citation = legislation_citation.append(temp, ignore_index=True)"
   ]
  },
  {
   "cell_type": "code",
   "execution_count": null,
   "metadata": {},
   "outputs": [],
   "source": [
    "legislation_citation.head(3)"
   ]
  },
  {
   "cell_type": "code",
   "execution_count": null,
   "metadata": {},
   "outputs": [],
   "source": [
    "tuples = to_tuples(legislation_citation)"
   ]
  },
  {
   "cell_type": "code",
   "execution_count": null,
   "metadata": {},
   "outputs": [],
   "source": [
    "try:  \n",
    "    cursor = conn.cursor()\n",
    "    for idx, data in enumerate(tuples):\n",
    "        query = (\"INSERT INTO `legislation_citation`\"\n",
    "                \"(source_ecli, source_paragraph, target_id, target_paragraph, target_name, target_sourcename, target_link, case_id)\"\n",
    "                \"VALUES (%s, %s, %s, %s, %s, %s, %s, %s)\")\n",
    "        cursor.execute(query, data)\n",
    "    conn.commit()\n",
    "    cursor.close()\n",
    "    print('legislation_citation added')\n",
    "except Error as error :\n",
    "    conn.rollback()\n",
    "    print(\"Failed to insert into MySQL table {}\".format(error))\n",
    "    traceback.print_exc(file=sys.stdout)"
   ]
  },
  {
   "cell_type": "markdown",
   "metadata": {},
   "source": [
    "---\n",
    "### Case related decision"
   ]
  },
  {
   "cell_type": "code",
   "execution_count": null,
   "metadata": {},
   "outputs": [],
   "source": [
    "df_case_related = df_case[['case_id','related_cases']]\\\n",
    "    .rename(columns = {'case_id':'source_ecli', \n",
    "                       'related_cases': 'referencing_case_ecli'})"
   ]
  },
  {
   "cell_type": "code",
   "execution_count": null,
   "metadata": {},
   "outputs": [],
   "source": [
    "parent_ids = get_parent_ids('case', 'ecli', df_case_related, 'source_ecli')\n",
    "df_case_related['case_id'] = parent_ids"
   ]
  },
  {
   "cell_type": "code",
   "execution_count": null,
   "metadata": {},
   "outputs": [],
   "source": [
    "df_case_related.loc[:,'referenced_case_ecli'] = 'NULL'"
   ]
  },
  {
   "cell_type": "code",
   "execution_count": null,
   "metadata": {},
   "outputs": [],
   "source": [
    "df_case_related.head(2)"
   ]
  },
  {
   "cell_type": "code",
   "execution_count": null,
   "metadata": {},
   "outputs": [],
   "source": [
    "case_related_decision = pd.DataFrame()\n",
    "case_related_decision_columns = ['source_ecli',\n",
    "                                 'referencing_case_ecli',\n",
    "                                'referenced_case_ecli',\n",
    "                                'case_id']"
   ]
  },
  {
   "cell_type": "code",
   "execution_count": null,
   "metadata": {},
   "outputs": [],
   "source": [
    "temp = df_case_related[['source_ecli',\n",
    "                                'referencing_case_ecli',\n",
    "                                'referenced_case_ecli',\n",
    "                                'case_id']]\n",
    "temp.columns = case_related_decision_columns\n",
    "case_related_decision = case_related_decision.append(temp, ignore_index=True)"
   ]
  },
  {
   "cell_type": "code",
   "execution_count": null,
   "metadata": {},
   "outputs": [],
   "source": [
    "case_related_decision.head(3)"
   ]
  },
  {
   "cell_type": "code",
   "execution_count": null,
   "metadata": {},
   "outputs": [],
   "source": [
    "tuples = to_tuples(case_related_decision)"
   ]
  },
  {
   "cell_type": "code",
   "execution_count": null,
   "metadata": {},
   "outputs": [],
   "source": [
    "try:  \n",
    "    cursor = conn.cursor()\n",
    "    for idx, data in enumerate(tuples):\n",
    "        query = (\"INSERT INTO `case_related_decision`\"\n",
    "                \"(source_ecli, referencing_case_ecli, referenced_case_ecli, case_id)\"\n",
    "                \"VALUES (%s, %s, %s, %s)\")\n",
    "        cursor.execute(query, data)\n",
    "    conn.commit()\n",
    "    cursor.close()\n",
    "    print('case_related_decision added')\n",
    "except Error as error :\n",
    "    conn.rollback()\n",
    "    print(\"Failed to insert into MySQL table {}\".format(error))\n",
    "    traceback.print_exc(file=sys.stdout)"
   ]
  }
 ],
 "metadata": {
  "kernelspec": {
   "display_name": "Python 3",
   "language": "python",
   "name": "python3"
  },
  "language_info": {
   "codemirror_mode": {
    "name": "ipython",
    "version": 3
   },
   "file_extension": ".py",
   "mimetype": "text/x-python",
   "name": "python",
   "nbconvert_exporter": "python",
   "pygments_lexer": "ipython3",
   "version": "3.7.6"
  },
  "nteract": {
   "version": "0.15.0"
  }
 },
 "nbformat": 4,
 "nbformat_minor": 4
}
