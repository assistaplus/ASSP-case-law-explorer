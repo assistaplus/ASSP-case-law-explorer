{
 "cells": [
  {
   "cell_type": "markdown",
   "metadata": {
    "collapsed": true,
    "pycharm": {
     "name": "#%% md\n"
    }
   },
   "source": [
    "# Query caselaw-explorer API\n",
    "---\n",
    "Before loading the dependencies, please make sure to paste your user API key in the *.env* file under *COGNITO_USER_KEY*.\n",
    "You can find the key in the bottom left menu of the app under *... > Preferences > Developer > API key*.\n",
    "### Load dependencies & set up client"
   ]
  },
  {
   "cell_type": "code",
   "execution_count": 1,
   "outputs": [],
   "source": [
    "import boto3\n",
    "import requests\n",
    "from dotenv import load_dotenv\n",
    "from os import getenv, makedirs\n",
    "from datetime import datetime\n",
    "from os.path import join\n",
    "from notebooks.api.gql_queries import *\n",
    "import pandas as pd\n",
    "from collections.abc import MutableMapping\n",
    "\n",
    "load_dotenv()\n",
    "makedirs('output', exist_ok=True)\n",
    "\n",
    "refresh_token = getenv('COGNITO_USER_KEY')\n",
    "client_id = getenv('COGNITO_CLIENT_ID')\n",
    "endpoint = getenv('APPSYNC_ENDPOINT')\n",
    "\n",
    "client = boto3.client('cognito-idp')\n",
    "session = requests.Session()"
   ],
   "metadata": {
    "collapsed": false,
    "pycharm": {
     "name": "#%%\n"
    }
   }
  },
  {
   "cell_type": "markdown",
   "source": [
    "### Authenticate (If token expired: re-run cell)"
   ],
   "metadata": {
    "collapsed": false,
    "pycharm": {
     "name": "#%% md\n"
    }
   }
  },
  {
   "cell_type": "code",
   "execution_count": 2,
   "outputs": [],
   "source": [
    "auth = client.initiate_auth(\n",
    "    ClientId=client_id,\n",
    "    AuthFlow='REFRESH_TOKEN',\n",
    "    AuthParameters={'REFRESH_TOKEN': refresh_token}\n",
    ")"
   ],
   "metadata": {
    "collapsed": false,
    "pycharm": {
     "name": "#%%\n"
    }
   }
  },
  {
   "cell_type": "markdown",
   "source": [
    "### Function definitions"
   ],
   "metadata": {
    "collapsed": false,
    "pycharm": {
     "name": "#%% md\n"
    }
   }
  },
  {
   "cell_type": "code",
   "execution_count": 3,
   "outputs": [],
   "source": [
    "def execute(qgl_query):\n",
    "    resp = session.request(\n",
    "        url=endpoint,\n",
    "        method='POST',\n",
    "        headers={'authorization': auth['AuthenticationResult']['AccessToken']},\n",
    "        json={'query': qgl_query}\n",
    "    ).json()['data']\n",
    "    query_name = list(resp.keys())[0]\n",
    "    print(f'Query {query_name} executed.')\n",
    "    return resp[query_name], query_name\n",
    "\n",
    "def format_network(resp):\n",
    "    nw = resp.copy()\n",
    "    nw['nodes'] = [(lambda x: {'id': x['id'], 'data': json.loads(x['data'])})(x) for x in nw['nodes']]\n",
    "    if nw['message'] != '':\n",
    "        print('Query limit reached! Only partial result returned.\\n')\n",
    "    print('Network formatted.')\n",
    "    return nw\n",
    "\n",
    "def get_network_statistics(nodes, edges):\n",
    "    nodes, b_name = execute(gql_batch_fetch_node_data(nodes, AttributesList.NETWORKSTATS))\n",
    "    print('Required node metadata fetched.')\n",
    "    query = gql_compute_networkstatistics(nodes, edges)\n",
    "    stats, name = execute(query)\n",
    "    print('Statistics calculated.')\n",
    "    return json.loads(stats), name\n",
    "\n",
    "def convert_to_dataframe(list_of_dict, flatten=False):\n",
    "    def convert_flatten(d):\n",
    "        items = []\n",
    "        for k, v in d.items():\n",
    "            if isinstance(v, MutableMapping):\n",
    "                items.extend(convert_flatten(v).items())\n",
    "            else:\n",
    "                items.append((k, v))\n",
    "        return dict(items)\n",
    "    # flatten dict attributes\n",
    "    df_flat = pd.DataFrame([convert_flatten(entry) for entry in list_of_dict])\n",
    "    # flatten list attributes\n",
    "    if flatten:\n",
    "        df_flat = df_flat.explode('domains')\n",
    "        df_flat = df_flat.explode('legal_provisions')\n",
    "    return df_flat\n",
    "\n",
    "def export_as_csv(df_response, file_name=''):\n",
    "    path = join('output', f'{file_name}_{datetime.today().strftime(\"%Y-%m-%d_%H:%M:%S\")}.csv')\n",
    "    df_response.to_csv(path, index=False)\n",
    "    print(f'Saved {file_name} to {path}.')\n",
    "\n",
    "def export_as_json(dict_response, file_name=''):\n",
    "    path = join('output', f'{file_name}_{datetime.today().strftime(\"%Y-%m-%d_%H:%M:%S\")}.json')\n",
    "    with open(path, 'w') as f:\n",
    "        json.dump(dict_response, f)\n",
    "    print(f'Saved {file_name} to {path}.')"
   ],
   "metadata": {
    "collapsed": false,
    "pycharm": {
     "name": "#%%\n"
    }
   }
  },
  {
   "cell_type": "markdown",
   "source": [
    "### Query network\n",
    "At least one of the optional parameters must be selected.\n",
    "Other parameters, if omitted, will assume their default value (see function definition).\n",
    "\n",
    "For descriptions of the parameter options see *definitions > terminology > attribute_values.py*."
   ],
   "metadata": {
    "collapsed": false,
    "pycharm": {
     "name": "#%% md\n"
    }
   }
  },
  {
   "cell_type": "code",
   "execution_count": 4,
   "outputs": [
    {
     "name": "stdout",
     "output_type": "stream",
     "text": [
      "Query queryNetworkByUserInput executed.\n",
      "Network formatted.\n",
      "Saved queryNetworkByUserInput to output/queryNetworkByUserInput_2022-01-05_15:15:58.json.\n",
      "Saved nodes_queryNetworkByUserInput to output/nodes_queryNetworkByUserInput_2022-01-05_15:15:58.csv.\n",
      "Saved edges_queryNetworkByUserInput to output/edges_queryNetworkByUserInput_2022-01-05_15:15:58.csv.\n"
     ]
    }
   ],
   "source": [
    "# construct GraphQL query string from input:\n",
    "n_query = gql_query_network(\n",
    "    attributes_to_fetch=AttributesList.ALL,\n",
    "    data_sources=[DataSource.RS],               #           list of DataSources (options so far: RS (Rechtspraak))\n",
    "    eclis='ECLI:NL:HR:2004:AP0186',             # optional; string of eclis separated by space\n",
    "    #keywords='gevaarzetting',                  # optional; string in Simple Query String Syntax (https://www.elastic.co/guide/en/elasticsearch/reference/current/query-dsl-simple-query-string-query.html)\n",
    "    #articles='Artikel 3',                      # optional; string in Simple Query String Syntax, see user guide\n",
    "    date_start='1900-01-01',                    #           string of format yyyy-mm-dd\n",
    "    date_end='2021-12-31',                      #           string of format yyyy-mm-dd\n",
    "    #instances=[Instance.HOGE_RAAD],            # optional; list of Instance options\n",
    "    #domains=[Domain.STRAFRECHT],               # optional; list of Domain options\n",
    "    doc_types=[DocType.DEC],                    #           list of DocTypes (options: DEC (decision), OPI (opinion))\n",
    "    degrees_sources=1,                          #           int: degree of source citations\n",
    "    degrees_targets=1                           #           int: degree of target citations\n",
    ")\n",
    "\n",
    "# execute GraphQL query:\n",
    "n_response, n_query_name = execute(n_query)\n",
    "\n",
    "# format response to dict:\n",
    "network = format_network(n_response)\n",
    "#print(json.dumps(network, indent=4))\n",
    "\n",
    "# export response to json:\n",
    "export_as_json(network, n_query_name)\n",
    "\n",
    "# convert nodes and edges to dataframe:\n",
    "df_nodes = convert_to_dataframe(network['nodes'], flatten=True)\n",
    "df_edges = convert_to_dataframe(network['edges'])\n",
    "\n",
    "# export nodes and edges as csv:\n",
    "export_as_csv(df_nodes, f'nodes_{n_query_name}')\n",
    "export_as_csv(df_edges, f'edges_{n_query_name}')"
   ],
   "metadata": {
    "collapsed": false,
    "pycharm": {
     "name": "#%%\n"
    }
   }
  },
  {
   "cell_type": "markdown",
   "source": [
    "### Query network statistics"
   ],
   "metadata": {
    "collapsed": false,
    "pycharm": {
     "name": "#%% md\n"
    }
   }
  },
  {
   "cell_type": "code",
   "execution_count": 5,
   "outputs": [
    {
     "name": "stdout",
     "output_type": "stream",
     "text": [
      "Query batchFetchNodeData executed.\n",
      "Required node metadata fetched.\n",
      "Query computeNetworkStatistics executed.\n",
      "Statistics calculated.\n",
      "Saved computeNetworkStatistics to output/computeNetworkStatistics_2022-01-05_15:15:59.json.\n",
      "Saved computeNetworkStatistics to output/computeNetworkStatistics_2022-01-05_15:15:59.csv.\n"
     ]
    }
   ],
   "source": [
    "statistics, s_query_name = get_network_statistics(\n",
    "    nodes=n_response['nodes'],\n",
    "    edges=n_response['edges']\n",
    ")\n",
    "\n",
    "export_as_json(statistics, s_query_name)\n",
    "\n",
    "df_statistics = pd.DataFrame(statistics).T\n",
    "\n",
    "export_as_csv(df_statistics, s_query_name)"
   ],
   "metadata": {
    "collapsed": false,
    "pycharm": {
     "name": "#%%\n"
    }
   }
  }
 ],
 "metadata": {
  "kernelspec": {
   "display_name": "Python 3",
   "language": "python",
   "name": "python3"
  },
  "language_info": {
   "codemirror_mode": {
    "name": "ipython",
    "version": 2
   },
   "file_extension": ".py",
   "mimetype": "text/x-python",
   "name": "python",
   "nbconvert_exporter": "python",
   "pygments_lexer": "ipython2",
   "version": "2.7.6"
  }
 },
 "nbformat": 4,
 "nbformat_minor": 0
}