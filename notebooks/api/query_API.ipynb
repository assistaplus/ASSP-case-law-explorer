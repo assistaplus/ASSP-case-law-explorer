{
 "cells": [
  {
   "cell_type": "markdown",
   "metadata": {
    "collapsed": true,
    "pycharm": {
     "name": "#%% md\n"
    }
   },
   "source": [
    "# Query caselaw-explorer API\n",
    "---\n",
    "Before loading the dependencies, please make sure to paste your user API key in the *.env* file under *COGNITO_USER_KEY*.\n",
    "You can find the key in the bottom left menu of the app under *... > Preferences > Developer > API key*.\n",
    "### Load dependencies & set up client"
   ]
  },
  {
   "cell_type": "code",
   "execution_count": 1,
   "outputs": [],
   "source": [
    "import boto3\n",
    "import requests\n",
    "from dotenv import load_dotenv\n",
    "from os import getenv\n",
    "from datetime import datetime\n",
    "from os.path import join\n",
    "from notebooks.api.gql_queries import *\n",
    "\n",
    "load_dotenv()\n",
    "\n",
    "refresh_token = getenv('COGNITO_USER_KEY')\n",
    "client_id = getenv('COGNITO_CLIENT_ID')\n",
    "endpoint = getenv('APPSYNC_ENDPOINT')\n",
    "\n",
    "client = boto3.client('cognito-idp')\n",
    "session = requests.Session()"
   ],
   "metadata": {
    "collapsed": false,
    "pycharm": {
     "name": "#%%\n"
    }
   }
  },
  {
   "cell_type": "markdown",
   "source": [
    "### Authenticate (If token expired: re-run cell)"
   ],
   "metadata": {
    "collapsed": false,
    "pycharm": {
     "name": "#%% md\n"
    }
   }
  },
  {
   "cell_type": "code",
   "execution_count": 2,
   "outputs": [],
   "source": [
    "auth = client.initiate_auth(\n",
    "    ClientId=client_id,\n",
    "    AuthFlow='REFRESH_TOKEN',\n",
    "    AuthParameters={'REFRESH_TOKEN': refresh_token}\n",
    ")"
   ],
   "metadata": {
    "collapsed": false,
    "pycharm": {
     "name": "#%%\n"
    }
   }
  },
  {
   "cell_type": "markdown",
   "source": [
    "### Function definitions"
   ],
   "metadata": {
    "collapsed": false,
    "pycharm": {
     "name": "#%% md\n"
    }
   }
  },
  {
   "cell_type": "code",
   "execution_count": 3,
   "outputs": [],
   "source": [
    "def execute(qgl_query):\n",
    "    resp = session.request(\n",
    "        url=endpoint,\n",
    "        method='POST',\n",
    "        headers={'authorization': auth['AuthenticationResult']['AccessToken']},\n",
    "        json={'query': qgl_query}\n",
    "    ).json()['data']\n",
    "    query_name = list(resp.keys())[0]\n",
    "    print(f'Query {query_name} executed.')\n",
    "    return resp[query_name], query_name\n",
    "\n",
    "def format_network(resp):\n",
    "    nw = resp.copy()\n",
    "    nw['nodes'] = [(lambda x: {'id': x['id'], 'data': json.loads(x['data'])})(x) for x in nw['nodes']]\n",
    "    if nw['message'] != '':\n",
    "        print('Query limit reached! Only partial result returned.\\n')\n",
    "    print('Network formatted.')\n",
    "    return nw\n",
    "\n",
    "def get_network_statistics(nodes, edges):\n",
    "    nodes, b_name = execute(gql_batch_fetch_node_data(nodes, AttributesList.NETWORKSTATS))\n",
    "    print('Required node metadata fetched.')\n",
    "    query = gql_compute_networkstatistics(nodes, edges)\n",
    "    stats, name = execute(query)\n",
    "    print('Statistics calculated.')\n",
    "    return json.loads(stats), name\n",
    "\n",
    "def export_json(resp, file_name=''):\n",
    "    path = join('output', f'{file_name}_{datetime.today().strftime(\"%Y-%m-%d_%H:%M:%S\")}.json')\n",
    "    with open(path, 'w') as f:\n",
    "        json.dump(resp, f)\n",
    "    print(f'Saved {file_name} to {path}.')"
   ],
   "metadata": {
    "collapsed": false,
    "pycharm": {
     "name": "#%%\n"
    }
   }
  },
  {
   "cell_type": "markdown",
   "source": [
    "### Query network\n",
    "At least one of the optional parameters must be selected.\n",
    "Other parameters, if omitted, will assume their default value (see function definition).\n",
    "\n",
    "For descriptions of the parameter options see *definitions > terminology > attribute_values.py*."
   ],
   "metadata": {
    "collapsed": false,
    "pycharm": {
     "name": "#%% md\n"
    }
   }
  },
  {
   "cell_type": "code",
   "execution_count": 4,
   "outputs": [
    {
     "name": "stdout",
     "output_type": "stream",
     "text": [
      "Query queryNetworkByUserInput executed.\n",
      "Network formatted.\n",
      "Saved queryNetworkByUserInput to output/queryNetworkByUserInput_2022-01-05_12:10:55.json.\n"
     ]
    }
   ],
   "source": [
    "n_query = gql_query_network(\n",
    "    attributes_to_fetch=AttributesList.ID,\n",
    "    data_sources=[DataSource.RS],               #           list of DataSources (options so far: RS (Rechtspraak))\n",
    "    eclis='ECLI:NL:HR:2004:AP0186',            # optional; string of eclis separated by space\n",
    "    #keywords='gevaarzetting',                  # optional; string in Simple Query String Syntax (https://www.elastic.co/guide/en/elasticsearch/reference/current/query-dsl-simple-query-string-query.html)\n",
    "    #articles='Artikel 3',                      # optional; string in Simple Query String Syntax, see user guide\n",
    "    date_start='1900-01-01',                    #           string of format yyyy-mm-dd\n",
    "    date_end='2021-12-31',                      #           string of format yyyy-mm-dd\n",
    "    #instances=[Instance.HOGE_RAAD],            # optional; list of Instance options\n",
    "    #domains=[Domain.STRAFRECHT],                # optional; list of Domain options\n",
    "    doc_types=[DocType.DEC, DocType.OPI],                    #           list of DocTypes (options: DEC (decision), OPI (opinion))\n",
    "    degrees_sources=1,                          #         response  int: degree of source citations\n",
    "    degrees_targets=1                           #           int: degree of target citations\n",
    ")\n",
    "\n",
    "n_response, n_query_name = execute(n_query)\n",
    "\n",
    "network = format_network(n_response)\n",
    "\n",
    "export_json(network, n_query_name)\n",
    "\n",
    "#print(json.dumps(network, indent=4))\n"
   ],
   "metadata": {
    "collapsed": false,
    "pycharm": {
     "name": "#%%\n"
    }
   }
  },
  {
   "cell_type": "markdown",
   "source": [
    "### Query network statistics"
   ],
   "metadata": {
    "collapsed": false,
    "pycharm": {
     "name": "#%% md\n"
    }
   }
  },
  {
   "cell_type": "code",
   "execution_count": 5,
   "outputs": [
    {
     "name": "stdout",
     "output_type": "stream",
     "text": [
      "Query batchFetchNodeData executed.\n",
      "Required node metadata fetched.\n",
      "Query computeNetworkStatistics executed.\n",
      "Statistics calculated.\n",
      "Saved computeNetworkStatistics to output/computeNetworkStatistics_2022-01-05_12:11:04.json.\n"
     ]
    }
   ],
   "source": [
    "statistics, s_query_name = get_network_statistics(\n",
    "    nodes=n_response['nodes'],\n",
    "    edges=n_response['edges']\n",
    ")\n",
    "\n",
    "export_json(statistics, s_query_name)"
   ],
   "metadata": {
    "collapsed": false,
    "pycharm": {
     "name": "#%%\n"
    }
   }
  },
  {
   "cell_type": "code",
   "execution_count": null,
   "outputs": [],
   "source": [],
   "metadata": {
    "collapsed": false,
    "pycharm": {
     "name": "#%%\n"
    }
   }
  }
 ],
 "metadata": {
  "kernelspec": {
   "display_name": "Python 3",
   "language": "python",
   "name": "python3"
  },
  "language_info": {
   "codemirror_mode": {
    "name": "ipython",
    "version": 2
   },
   "file_extension": ".py",
   "mimetype": "text/x-python",
   "name": "python",
   "nbconvert_exporter": "python",
   "pygments_lexer": "ipython2",
   "version": "2.7.6"
  }
 },
 "nbformat": 4,
 "nbformat_minor": 0
}