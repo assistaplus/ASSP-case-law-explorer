{
 "cells": [
  {
   "cell_type": "markdown",
   "metadata": {
    "collapsed": true,
    "pycharm": {
     "name": "#%% md\n"
    }
   },
   "source": [
    "# Query caselaw-explorer API\n",
    "---\n",
    "Before loading the dependencies, please make sure to paste your user API key in the \"*.env*\" file (no filename preceeding the dot!) under *COGNITO_USER_KEY*.\n",
    "You can find the key in the bottom left menu of the app under *... > Preferences > Developer > API key*.\n",
    "\n",
    "For now, the user key is provided as access token which has a short expiration time.\n",
    "If the access token has expired, a new key needs to be pasted into the .env file and the dependencies need to be re-loaded.\n",
    "\n",
    "### Install dependencies (only run once)"
   ]
  },
  {
   "cell_type": "code",
   "execution_count": 1,
   "outputs": [
    {
     "name": "stdout",
     "output_type": "stream",
     "text": [
      "Requirement already satisfied: python-dotenv in /home/maxine/anaconda3/envs/case-law-explorer/lib/python3.7/site-packages (0.15.0)\r\n",
      "Requirement already satisfied: boto3 in /home/maxine/anaconda3/envs/case-law-explorer/lib/python3.7/site-packages (1.18.56)\r\n",
      "Requirement already satisfied: jmespath<1.0.0,>=0.7.1 in /home/maxine/anaconda3/envs/case-law-explorer/lib/python3.7/site-packages (from boto3) (0.10.0)\r\n",
      "Requirement already satisfied: s3transfer<0.6.0,>=0.5.0 in /home/maxine/anaconda3/envs/case-law-explorer/lib/python3.7/site-packages (from boto3) (0.5.0)\r\n",
      "Requirement already satisfied: botocore<1.22.0,>=1.21.56 in /home/maxine/anaconda3/envs/case-law-explorer/lib/python3.7/site-packages (from boto3) (1.21.56)\r\n",
      "Requirement already satisfied: python-dateutil<3.0.0,>=2.1 in /home/maxine/anaconda3/envs/case-law-explorer/lib/python3.7/site-packages (from botocore<1.22.0,>=1.21.56->boto3) (2.8.1)\r\n",
      "Requirement already satisfied: urllib3<1.27,>=1.25.4 in /home/maxine/anaconda3/envs/case-law-explorer/lib/python3.7/site-packages (from botocore<1.22.0,>=1.21.56->boto3) (1.26.7)\r\n",
      "Requirement already satisfied: six>=1.5 in /home/maxine/anaconda3/envs/case-law-explorer/lib/python3.7/site-packages (from python-dateutil<3.0.0,>=2.1->botocore<1.22.0,>=1.21.56->boto3) (1.15.0)\r\n"
     ]
    }
   ],
   "source": [
    "!pip install python-dotenv\n",
    "!pip install boto3"
   ],
   "metadata": {
    "collapsed": false,
    "pycharm": {
     "name": "#%%\n"
    }
   }
  },
  {
   "cell_type": "markdown",
   "source": [
    "### Load dependencies & set up client"
   ],
   "metadata": {
    "collapsed": false,
    "pycharm": {
     "name": "#%% md\n"
    }
   }
  },
  {
   "cell_type": "code",
   "execution_count": 1,
   "outputs": [],
   "source": [
    "import boto3\n",
    "import requests\n",
    "from dotenv import load_dotenv\n",
    "from os import getenv, makedirs\n",
    "from datetime import datetime\n",
    "from os.path import join, dirname, realpath\n",
    "import pandas as pd\n",
    "from collections.abc import MutableMapping\n",
    "import sys\n",
    "sys.path.append(dirname(dirname(dirname(realpath(\"__file__\")))))\n",
    "from notebooks.api.gql_queries import *"
   ],
   "metadata": {
    "collapsed": false,
    "pycharm": {
     "name": "#%%\n"
    }
   }
  },
  {
   "cell_type": "code",
   "execution_count": 2,
   "outputs": [],
   "source": [
    "load_dotenv()\n",
    "makedirs('output', exist_ok=True)\n",
    "\n",
    "access_token = getenv('COGNITO_USER_KEY')       # rename to refresh_token, if applicable\n",
    "client_id = getenv('COGNITO_CLIENT_ID')\n",
    "endpoint = getenv('APPSYNC_ENDPOINT')\n",
    "\n",
    "client = boto3.client('cognito-idp')\n",
    "session = requests.Session()"
   ],
   "metadata": {
    "collapsed": false,
    "pycharm": {
     "name": "#%%\n"
    }
   }
  },
  {
   "cell_type": "markdown",
   "source": [
    "### Authentication alternative with refresh token"
   ],
   "metadata": {
    "collapsed": false,
    "pycharm": {
     "name": "#%% md\n"
    }
   }
  },
  {
   "cell_type": "code",
   "execution_count": 3,
   "outputs": [
    {
     "data": {
      "text/plain": "\"\\nauth = client.initiate_auth(\\n    ClientId=client_id,\\n    AuthFlow='REFRESH_TOKEN',\\n    AuthParameters={'REFRESH_TOKEN': refresh_token}\\n)\\n\""
     },
     "execution_count": 3,
     "metadata": {},
     "output_type": "execute_result"
    }
   ],
   "source": [
    "\"\"\"\n",
    "auth = client.initiate_auth(\n",
    "    ClientId=client_id,\n",
    "    AuthFlow='REFRESH_TOKEN',\n",
    "    AuthParameters={'REFRESH_TOKEN': refresh_token}\n",
    ")\n",
    "\"\"\""
   ],
   "metadata": {
    "collapsed": false,
    "pycharm": {
     "name": "#%%\n"
    }
   }
  },
  {
   "cell_type": "markdown",
   "source": [
    "### Function definitions"
   ],
   "metadata": {
    "collapsed": false,
    "pycharm": {
     "name": "#%% md\n"
    }
   }
  },
  {
   "cell_type": "code",
   "execution_count": 48,
   "outputs": [],
   "source": [
    "def execute(qgl_query):\n",
    "    resp = session.request(\n",
    "        url=endpoint,\n",
    "        method='POST',\n",
    "        # uncomment, if API key was changed to refresh token\n",
    "        #headers={'authorization': auth['AuthenticationResult']['AccessToken']},\n",
    "        headers={'authorization': access_token},\n",
    "        json={'query': qgl_query}\n",
    "    ).json()\n",
    "    if 'errors' in resp:\n",
    "        print(f\"Query failed: {resp['errors']}\")\n",
    "        return [], ''\n",
    "    query_name = list(resp['data'].keys())[0]\n",
    "    result = resp['data'][query_name]\n",
    "    print(f'Query {query_name} successful! {len(result[\"nodes\"])} nodes and {len(result[\"edges\"])} edges found.')\n",
    "    return result, query_name\n",
    "\n",
    "def format_network(resp):\n",
    "    nw = resp.copy()\n",
    "    nw['nodes'] = [(lambda x: {'id': x['id'], 'data': json.loads(x['data'])})(x) for x in nw['nodes']]\n",
    "    if nw['message'] != '':\n",
    "        print('Query limit reached! Only partial result returned.\\n')\n",
    "    print('Network formatted.')\n",
    "    return nw\n",
    "\n",
    "def get_network_statistics(nodes, edges):\n",
    "    nodes, b_name = execute(gql_batch_fetch_node_data(nodes, AttributesList.NETWORKSTATS))\n",
    "    print('Required node metadata fetched.')\n",
    "    query = gql_compute_networkstatistics(nodes, edges)\n",
    "    stats, name = execute(query)\n",
    "    print('Statistics calculated.')\n",
    "    return json.loads(stats), name\n",
    "\n",
    "def convert_to_dataframe(list_of_dict, flatten=False):\n",
    "    def convert_flatten(d):\n",
    "        items = []\n",
    "        for k, v in d.items():\n",
    "            if isinstance(v, MutableMapping):\n",
    "                items.extend(convert_flatten(v).items())\n",
    "            else:\n",
    "                items.append((k, v))\n",
    "        return dict(items)\n",
    "    # flatten dict attributes\n",
    "    df_flat = pd.DataFrame([convert_flatten(entry) for entry in list_of_dict])\n",
    "    # flatten list attributes\n",
    "\n",
    "    if flatten:\n",
    "        if 'domains' in df_flat:\n",
    "            df_flat = df_flat.explode('domains')\n",
    "        if 'legal_provisions' in df_flat:\n",
    "            df_flat = df_flat.explode('legal_provisions')\n",
    "    return df_flat\n",
    "\n",
    "def export_as_csv(df_response, file_name=''):\n",
    "    path = join('output', f'{file_name}_{datetime.today().strftime(\"%Y-%m-%d_%H%M%S\")}.csv')\n",
    "    df_response.to_csv(path, index=False)\n",
    "    print(f'Saved {file_name} to {path}.')\n",
    "\n",
    "def export_as_json(dict_response, file_name=''):\n",
    "    path = join('output', f'{file_name}_{datetime.today().strftime(\"%Y-%m-%d_%H%M%S\")}.json')\n",
    "    with open(path, 'w') as f:\n",
    "        json.dump(dict_response, f)\n",
    "    print(f'Saved {file_name} to {path}.')"
   ],
   "metadata": {
    "collapsed": false,
    "pycharm": {
     "name": "#%%\n"
    }
   }
  },
  {
   "cell_type": "markdown",
   "source": [
    "### Query network\n",
    "At least one of the optional parameters must be selected.\n",
    "Other parameters, if omitted, will assume their default value (see function definition).\n",
    "\n",
    "For descriptions of the parameter options see *definitions > terminology > attribute_values.py*."
   ],
   "metadata": {
    "collapsed": false,
    "pycharm": {
     "name": "#%% md\n"
    }
   }
  },
  {
   "cell_type": "code",
   "execution_count": 49,
   "outputs": [
    {
     "name": "stdout",
     "output_type": "stream",
     "text": [
      "Query queryNetworkByUserInput successful! 1924 nodes and 2027 edges found.\n"
     ]
    }
   ],
   "source": [
    "# construct GraphQL query string from input:\n",
    "n_query = gql_query_network(\n",
    "    attributes_to_fetch=AttributesList.ID,      #           node attributes to return (ID or ALL)\n",
    "    data_sources=[DataSource.RS],               #           list of DataSources (options so far: RS (Rechtspraak))\n",
    "    #eclis='ECLI:NL:HR:1965:AB7079',             # optional; string of eclis separated by space\n",
    "    #keywords='gevaarzetting',                  # optional; string in Simple Query String Syntax (https://www.elastic.co/guide/en/elasticsearch/reference/current/query-dsl-simple-query-string-query.html)\n",
    "    articles='\\\\\"Burgerlijk wetboek Boek 7, artikel 658\\\\\"', # optional; string in Simple Query String Syntax, see user guide. To escape special characters, use: \\\\\n",
    "    date_start='1900-01-01',                    #           string of format yyyy-mm-dd\n",
    "    date_end='2021-12-31',                      #           string of format yyyy-mm-dd\n",
    "    #instances=[Instance.HOGE_RAAD],            # optional; list of Instance options\n",
    "    #domains=[Domain.STRAFRECHT],               # optional; list of Domain options\n",
    "    doc_types=[DocType.DEC],                    #           list of DocTypes (options: DEC (decision), OPI (opinion))\n",
    "    degrees_sources=0,                          #           int: degree of source citations\n",
    "    degrees_targets=1                           #           int: degree of target citations\n",
    ")\n",
    "\n",
    "# execute GraphQL query:\n",
    "n_response, n_query_name = execute(n_query)"
   ],
   "metadata": {
    "collapsed": false,
    "pycharm": {
     "name": "#%%\n"
    }
   }
  },
  {
   "cell_type": "markdown",
   "source": [
    "Format and save output"
   ],
   "metadata": {
    "collapsed": false,
    "pycharm": {
     "name": "#%% md\n"
    }
   }
  },
  {
   "cell_type": "code",
   "execution_count": 50,
   "outputs": [
    {
     "name": "stdout",
     "output_type": "stream",
     "text": [
      "Network formatted.\n",
      "Saved queryNetworkByUserInput to output/queryNetworkByUserInput_2022-02-15_153509.json.\n",
      "Saved nodes_queryNetworkByUserInput to output/nodes_queryNetworkByUserInput_2022-02-15_153509.csv.\n",
      "Saved edges_queryNetworkByUserInput to output/edges_queryNetworkByUserInput_2022-02-15_153509.csv.\n"
     ]
    }
   ],
   "source": [
    "# format response to dict:\n",
    "network = format_network(n_response)\n",
    "#print(json.dumps(network, indent=4))\n",
    "\n",
    "# export response to json:\n",
    "export_as_json(network, n_query_name)\n",
    "\n",
    "# convert nodes and edges to dataframe:\n",
    "df_nodes = convert_to_dataframe(network['nodes'], flatten=True)\n",
    "df_edges = convert_to_dataframe(network['edges'])\n",
    "\n",
    "# export nodes and edges as csv:\n",
    "export_as_csv(df_nodes, f'nodes_{n_query_name}')\n",
    "export_as_csv(df_edges, f'edges_{n_query_name}')"
   ],
   "metadata": {
    "collapsed": false,
    "pycharm": {
     "name": "#%%\n"
    }
   }
  },
  {
   "cell_type": "markdown",
   "source": [
    "### Query network statistics"
   ],
   "metadata": {
    "collapsed": false,
    "pycharm": {
     "name": "#%% md\n"
    }
   }
  },
  {
   "cell_type": "code",
   "execution_count": 10,
   "outputs": [
    {
     "name": "stdout",
     "output_type": "stream",
     "text": [
      "Query batchFetchNodeData executed.\n",
      "Required node metadata fetched.\n",
      "Query computeNetworkStatistics executed.\n",
      "Statistics calculated.\n",
      "Saved computeNetworkStatistics to output/computeNetworkStatistics_2022-02-14_173154.json.\n",
      "Saved computeNetworkStatistics to output/computeNetworkStatistics_2022-02-14_173154.csv.\n"
     ]
    }
   ],
   "source": [
    "statistics, s_query_name = get_network_statistics(\n",
    "    nodes=n_response['nodes'],\n",
    "    edges=n_response['edges']\n",
    ")\n",
    "\n",
    "export_as_json(statistics, s_query_name)\n",
    "\n",
    "df_statistics = pd.DataFrame(statistics).T\n",
    "\n",
    "export_as_csv(df_statistics, s_query_name)"
   ],
   "metadata": {
    "collapsed": false,
    "pycharm": {
     "name": "#%%\n"
    }
   }
  },
  {
   "cell_type": "code",
   "execution_count": null,
   "outputs": [],
   "source": [],
   "metadata": {
    "collapsed": false,
    "pycharm": {
     "name": "#%%\n"
    }
   }
  }
 ],
 "metadata": {
  "kernelspec": {
   "display_name": "Python 3",
   "language": "python",
   "name": "python3"
  },
  "language_info": {
   "codemirror_mode": {
    "name": "ipython",
    "version": 2
   },
   "file_extension": ".py",
   "mimetype": "text/x-python",
   "name": "python",
   "nbconvert_exporter": "python",
   "pygments_lexer": "ipython2",
   "version": "2.7.6"
  }
 },
 "nbformat": 4,
 "nbformat_minor": 0
}