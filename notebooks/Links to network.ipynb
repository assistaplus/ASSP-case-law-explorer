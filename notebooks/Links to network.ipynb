{
 "cells": [
  {
   "cell_type": "markdown",
   "metadata": {},
   "source": [
    "## Case Law DB to Network format"
   ]
  },
  {
   "cell_type": "markdown",
   "metadata": {},
   "source": [
    "This notebook can be used if you already have a collection of ECLI identifiers and references between them. Let the following be the path to a csv file with two columns for the identifiers of the 'from' and 'to' cases:"
   ]
  },
  {
   "cell_type": "code",
   "execution_count": 34,
   "metadata": {
    "collapsed": false,
    "jupyter": {
     "outputs_hidden": false
    }
   },
   "outputs": [],
   "source": [
    "import pandas as pd\n",
    "import numpy as np\n",
    "import requests\n",
    "import urllib\n",
    "import os\n",
    "%matplotlib inline"
   ]
  },
  {
   "cell_type": "code",
   "execution_count": null,
   "metadata": {},
   "outputs": [],
   "source": []
  },
  {
   "cell_type": "code",
   "execution_count": 2,
   "metadata": {},
   "outputs": [],
   "source": [
    "cases_df = pd.read_json('cases_and_citations.json')"
   ]
  },
  {
   "cell_type": "code",
   "execution_count": 3,
   "metadata": {},
   "outputs": [
    {
     "data": {
      "text/html": [
       "<div>\n",
       "<style scoped>\n",
       "    .dataframe tbody tr th:only-of-type {\n",
       "        vertical-align: middle;\n",
       "    }\n",
       "\n",
       "    .dataframe tbody tr th {\n",
       "        vertical-align: top;\n",
       "    }\n",
       "\n",
       "    .dataframe thead th {\n",
       "        text-align: right;\n",
       "    }\n",
       "</style>\n",
       "<table border=\"1\" class=\"dataframe\">\n",
       "  <thead>\n",
       "    <tr style=\"text-align: right;\">\n",
       "      <th></th>\n",
       "      <th>id</th>\n",
       "      <th>date</th>\n",
       "      <th>description</th>\n",
       "      <th>venue</th>\n",
       "      <th>procedure_type</th>\n",
       "      <th>subject</th>\n",
       "      <th>court</th>\n",
       "      <th>source_ecli</th>\n",
       "      <th>target_ecli</th>\n",
       "      <th>idT</th>\n",
       "      <th>dateT</th>\n",
       "      <th>descriptionT</th>\n",
       "      <th>venueT</th>\n",
       "      <th>procedure_typeT</th>\n",
       "      <th>subjectT</th>\n",
       "      <th>courtT</th>\n",
       "    </tr>\n",
       "  </thead>\n",
       "  <tbody>\n",
       "    <tr>\n",
       "      <th>0</th>\n",
       "      <td>3486</td>\n",
       "      <td>2005-05-04</td>\n",
       "      <td>\\n      Bij besluit van 26 februari 2004 heeft...</td>\n",
       "      <td>NaN</td>\n",
       "      <td>Eerste aanleg - meervoudig</td>\n",
       "      <td>Bestuursrecht</td>\n",
       "      <td>Raad van State</td>\n",
       "      <td>ECLI:NL:RVS:2005:AT5086</td>\n",
       "      <td>ECLI:NL:RVS:2006:AY5483</td>\n",
       "      <td>4985</td>\n",
       "      <td>2006-07-28</td>\n",
       "      <td>\\n      Bij besluit van 26 februari 2004 heeft...</td>\n",
       "      <td>None</td>\n",
       "      <td>Voorlopige voorziening</td>\n",
       "      <td>Bestuursrecht</td>\n",
       "      <td>Raad van State</td>\n",
       "    </tr>\n",
       "    <tr>\n",
       "      <th>1</th>\n",
       "      <td>3503</td>\n",
       "      <td>2005-05-18</td>\n",
       "      <td>\\n      Bij besluit van 20 december 2000 heeft...</td>\n",
       "      <td>NaN</td>\n",
       "      <td>Hoger beroep</td>\n",
       "      <td>Bestuursrecht</td>\n",
       "      <td>Raad van State</td>\n",
       "      <td>ECLI:NL:RVS:2005:AT5690</td>\n",
       "      <td>ECLI:NL:RVS:2006:AY0390</td>\n",
       "      <td>4958</td>\n",
       "      <td>2006-07-05</td>\n",
       "      <td>\\n      Bij besluit van 16 februari 2004 heeft...</td>\n",
       "      <td>None</td>\n",
       "      <td>Hoger beroep</td>\n",
       "      <td>Bestuursrecht</td>\n",
       "      <td>Raad van State</td>\n",
       "    </tr>\n",
       "    <tr>\n",
       "      <th>2</th>\n",
       "      <td>3229</td>\n",
       "      <td>2005-06-07</td>\n",
       "      <td>\\n      Bekendmaking besluit; ingangsdatum bez...</td>\n",
       "      <td>NaN</td>\n",
       "      <td>Hoger beroep</td>\n",
       "      <td>Bestuursrecht</td>\n",
       "      <td>Centrale Raad van Beroep</td>\n",
       "      <td>ECLI:NL:CRVB:2005:AT7061</td>\n",
       "      <td>ECLI:NL:CRVB:2006:AX7443</td>\n",
       "      <td>4325</td>\n",
       "      <td>2006-06-01</td>\n",
       "      <td>\\n      Bezwaar is ontvankelijk omdat geen spr...</td>\n",
       "      <td>Utrecht</td>\n",
       "      <td>Hoger beroep</td>\n",
       "      <td>Bestuursrecht</td>\n",
       "      <td>Centrale Raad van Beroep</td>\n",
       "    </tr>\n",
       "    <tr>\n",
       "      <th>3</th>\n",
       "      <td>309</td>\n",
       "      <td>2001-05-04</td>\n",
       "      <td>\\n      -&lt;para xmlns=\"http://www.rechtspraak.n...</td>\n",
       "      <td>NaN</td>\n",
       "      <td>Cassatie</td>\n",
       "      <td>Civiel recht</td>\n",
       "      <td>Hoge Raad</td>\n",
       "      <td>ECLI:NL:HR:2001:AB1426</td>\n",
       "      <td>ECLI:NL:RBMID:2005:AY8012</td>\n",
       "      <td>3780</td>\n",
       "      <td>2005-09-14</td>\n",
       "      <td>\\n      \\n        &lt;parablock xmlns=\"http://www...</td>\n",
       "      <td>None</td>\n",
       "      <td>Eerste aanleg - enkelvoudig</td>\n",
       "      <td>Civiel recht</td>\n",
       "      <td>Rechtbank Middelburg</td>\n",
       "    </tr>\n",
       "    <tr>\n",
       "      <th>4</th>\n",
       "      <td>1484</td>\n",
       "      <td>2003-04-29</td>\n",
       "      <td>\\n      -&lt;para xmlns=\"http://www.rechtspraak.n...</td>\n",
       "      <td>NaN</td>\n",
       "      <td>Hoger beroep</td>\n",
       "      <td>Civiel recht</td>\n",
       "      <td>Gerechtshof Arnhem</td>\n",
       "      <td>ECLI:NL:GHARN:2003:AF8457</td>\n",
       "      <td>ECLI:NL:HR:2004:AR2773</td>\n",
       "      <td>2782</td>\n",
       "      <td>2004-12-17</td>\n",
       "      <td>\\n      17 december 2004 Eerste Kamer Nr. C03/...</td>\n",
       "      <td>None</td>\n",
       "      <td>Cassatie</td>\n",
       "      <td>Civiel recht</td>\n",
       "      <td>Hoge Raad</td>\n",
       "    </tr>\n",
       "  </tbody>\n",
       "</table>\n",
       "</div>"
      ],
      "text/plain": [
       "     id       date                                        description  venue  \\\n",
       "0  3486 2005-05-04  \\n      Bij besluit van 26 februari 2004 heeft...    NaN   \n",
       "1  3503 2005-05-18  \\n      Bij besluit van 20 december 2000 heeft...    NaN   \n",
       "2  3229 2005-06-07  \\n      Bekendmaking besluit; ingangsdatum bez...    NaN   \n",
       "3   309 2001-05-04  \\n      -<para xmlns=\"http://www.rechtspraak.n...    NaN   \n",
       "4  1484 2003-04-29  \\n      -<para xmlns=\"http://www.rechtspraak.n...    NaN   \n",
       "\n",
       "               procedure_type        subject                     court  \\\n",
       "0  Eerste aanleg - meervoudig  Bestuursrecht            Raad van State   \n",
       "1                Hoger beroep  Bestuursrecht            Raad van State   \n",
       "2                Hoger beroep  Bestuursrecht  Centrale Raad van Beroep   \n",
       "3                    Cassatie   Civiel recht                 Hoge Raad   \n",
       "4                Hoger beroep   Civiel recht        Gerechtshof Arnhem   \n",
       "\n",
       "                 source_ecli                target_ecli   idT       dateT  \\\n",
       "0    ECLI:NL:RVS:2005:AT5086    ECLI:NL:RVS:2006:AY5483  4985  2006-07-28   \n",
       "1    ECLI:NL:RVS:2005:AT5690    ECLI:NL:RVS:2006:AY0390  4958  2006-07-05   \n",
       "2   ECLI:NL:CRVB:2005:AT7061   ECLI:NL:CRVB:2006:AX7443  4325  2006-06-01   \n",
       "3     ECLI:NL:HR:2001:AB1426  ECLI:NL:RBMID:2005:AY8012  3780  2005-09-14   \n",
       "4  ECLI:NL:GHARN:2003:AF8457     ECLI:NL:HR:2004:AR2773  2782  2004-12-17   \n",
       "\n",
       "                                        descriptionT   venueT  \\\n",
       "0  \\n      Bij besluit van 26 februari 2004 heeft...     None   \n",
       "1  \\n      Bij besluit van 16 februari 2004 heeft...     None   \n",
       "2  \\n      Bezwaar is ontvankelijk omdat geen spr...  Utrecht   \n",
       "3  \\n      \\n        <parablock xmlns=\"http://www...     None   \n",
       "4  \\n      17 december 2004 Eerste Kamer Nr. C03/...     None   \n",
       "\n",
       "               procedure_typeT       subjectT                    courtT  \n",
       "0       Voorlopige voorziening  Bestuursrecht            Raad van State  \n",
       "1                 Hoger beroep  Bestuursrecht            Raad van State  \n",
       "2                 Hoger beroep  Bestuursrecht  Centrale Raad van Beroep  \n",
       "3  Eerste aanleg - enkelvoudig   Civiel recht      Rechtbank Middelburg  \n",
       "4                     Cassatie   Civiel recht                 Hoge Raad  "
      ]
     },
     "execution_count": 3,
     "metadata": {},
     "output_type": "execute_result"
    }
   ],
   "source": [
    "cases_df.head()"
   ]
  },
  {
   "cell_type": "markdown",
   "metadata": {},
   "source": [
    "---\n",
    "#### Links"
   ]
  },
  {
   "cell_type": "code",
   "execution_count": 4,
   "metadata": {},
   "outputs": [],
   "source": [
    "#semantic link \"http://deeplink.rechtspraak.nl/uitspraak?id=ECLI:NL:HR:2000:AA5634\"\n",
    "cases_df['link_id'] = cases_df['source_ecli'] + cases_df['target_ecli']\n",
    "links = cases_df[['link_id','source_ecli','target_ecli']]\\\n",
    "    .reset_index(drop=True)\\\n",
    "    .rename(columns={'link_id':'id','source_ecli':'source','target_ecli':'target'})"
   ]
  },
  {
   "cell_type": "code",
   "execution_count": 5,
   "metadata": {},
   "outputs": [],
   "source": [
    "links['source'] = ['http://deeplink.rechtspraak.nl/uitspraak?id='+str(i) for i in links['source']] \n",
    "links['target'] = ['http://deeplink.rechtspraak.nl/uitspraak?id='+str(i) for i in links['target']] \n",
    "links = links.to_dict(orient='records')"
   ]
  },
  {
   "cell_type": "code",
   "execution_count": 6,
   "metadata": {},
   "outputs": [
    {
     "data": {
      "text/plain": [
       "{'id': 'ECLI:NL:RVS:2005:AT5086ECLI:NL:RVS:2006:AY5483',\n",
       " 'source': 'http://deeplink.rechtspraak.nl/uitspraak?id=ECLI:NL:RVS:2005:AT5086',\n",
       " 'target': 'http://deeplink.rechtspraak.nl/uitspraak?id=ECLI:NL:RVS:2006:AY5483'}"
      ]
     },
     "execution_count": 6,
     "metadata": {},
     "output_type": "execute_result"
    }
   ],
   "source": [
    "links[0]"
   ]
  },
  {
   "cell_type": "markdown",
   "metadata": {},
   "source": [
    "---\n",
    "#### Nodes"
   ]
  },
  {
   "cell_type": "code",
   "execution_count": 7,
   "metadata": {},
   "outputs": [
    {
     "data": {
      "text/html": [
       "<div>\n",
       "<style scoped>\n",
       "    .dataframe tbody tr th:only-of-type {\n",
       "        vertical-align: middle;\n",
       "    }\n",
       "\n",
       "    .dataframe tbody tr th {\n",
       "        vertical-align: top;\n",
       "    }\n",
       "\n",
       "    .dataframe thead th {\n",
       "        text-align: right;\n",
       "    }\n",
       "</style>\n",
       "<table border=\"1\" class=\"dataframe\">\n",
       "  <thead>\n",
       "    <tr style=\"text-align: right;\">\n",
       "      <th></th>\n",
       "      <th>id</th>\n",
       "      <th>date</th>\n",
       "      <th>description</th>\n",
       "      <th>venue</th>\n",
       "      <th>procedure_type</th>\n",
       "      <th>subject</th>\n",
       "      <th>court</th>\n",
       "      <th>source_ecli</th>\n",
       "      <th>target_ecli</th>\n",
       "      <th>idT</th>\n",
       "      <th>dateT</th>\n",
       "      <th>descriptionT</th>\n",
       "      <th>venueT</th>\n",
       "      <th>procedure_typeT</th>\n",
       "      <th>subjectT</th>\n",
       "      <th>courtT</th>\n",
       "      <th>link_id</th>\n",
       "    </tr>\n",
       "  </thead>\n",
       "  <tbody>\n",
       "    <tr>\n",
       "      <th>0</th>\n",
       "      <td>3486</td>\n",
       "      <td>2005-05-04</td>\n",
       "      <td>\\n      Bij besluit van 26 februari 2004 heeft...</td>\n",
       "      <td>NaN</td>\n",
       "      <td>Eerste aanleg - meervoudig</td>\n",
       "      <td>Bestuursrecht</td>\n",
       "      <td>Raad van State</td>\n",
       "      <td>ECLI:NL:RVS:2005:AT5086</td>\n",
       "      <td>ECLI:NL:RVS:2006:AY5483</td>\n",
       "      <td>4985</td>\n",
       "      <td>2006-07-28</td>\n",
       "      <td>\\n      Bij besluit van 26 februari 2004 heeft...</td>\n",
       "      <td>None</td>\n",
       "      <td>Voorlopige voorziening</td>\n",
       "      <td>Bestuursrecht</td>\n",
       "      <td>Raad van State</td>\n",
       "      <td>ECLI:NL:RVS:2005:AT5086ECLI:NL:RVS:2006:AY5483</td>\n",
       "    </tr>\n",
       "    <tr>\n",
       "      <th>1</th>\n",
       "      <td>3503</td>\n",
       "      <td>2005-05-18</td>\n",
       "      <td>\\n      Bij besluit van 20 december 2000 heeft...</td>\n",
       "      <td>NaN</td>\n",
       "      <td>Hoger beroep</td>\n",
       "      <td>Bestuursrecht</td>\n",
       "      <td>Raad van State</td>\n",
       "      <td>ECLI:NL:RVS:2005:AT5690</td>\n",
       "      <td>ECLI:NL:RVS:2006:AY0390</td>\n",
       "      <td>4958</td>\n",
       "      <td>2006-07-05</td>\n",
       "      <td>\\n      Bij besluit van 16 februari 2004 heeft...</td>\n",
       "      <td>None</td>\n",
       "      <td>Hoger beroep</td>\n",
       "      <td>Bestuursrecht</td>\n",
       "      <td>Raad van State</td>\n",
       "      <td>ECLI:NL:RVS:2005:AT5690ECLI:NL:RVS:2006:AY0390</td>\n",
       "    </tr>\n",
       "    <tr>\n",
       "      <th>2</th>\n",
       "      <td>3229</td>\n",
       "      <td>2005-06-07</td>\n",
       "      <td>\\n      Bekendmaking besluit; ingangsdatum bez...</td>\n",
       "      <td>NaN</td>\n",
       "      <td>Hoger beroep</td>\n",
       "      <td>Bestuursrecht</td>\n",
       "      <td>Centrale Raad van Beroep</td>\n",
       "      <td>ECLI:NL:CRVB:2005:AT7061</td>\n",
       "      <td>ECLI:NL:CRVB:2006:AX7443</td>\n",
       "      <td>4325</td>\n",
       "      <td>2006-06-01</td>\n",
       "      <td>\\n      Bezwaar is ontvankelijk omdat geen spr...</td>\n",
       "      <td>Utrecht</td>\n",
       "      <td>Hoger beroep</td>\n",
       "      <td>Bestuursrecht</td>\n",
       "      <td>Centrale Raad van Beroep</td>\n",
       "      <td>ECLI:NL:CRVB:2005:AT7061ECLI:NL:CRVB:2006:AX7443</td>\n",
       "    </tr>\n",
       "    <tr>\n",
       "      <th>3</th>\n",
       "      <td>309</td>\n",
       "      <td>2001-05-04</td>\n",
       "      <td>\\n      -&lt;para xmlns=\"http://www.rechtspraak.n...</td>\n",
       "      <td>NaN</td>\n",
       "      <td>Cassatie</td>\n",
       "      <td>Civiel recht</td>\n",
       "      <td>Hoge Raad</td>\n",
       "      <td>ECLI:NL:HR:2001:AB1426</td>\n",
       "      <td>ECLI:NL:RBMID:2005:AY8012</td>\n",
       "      <td>3780</td>\n",
       "      <td>2005-09-14</td>\n",
       "      <td>\\n      \\n        &lt;parablock xmlns=\"http://www...</td>\n",
       "      <td>None</td>\n",
       "      <td>Eerste aanleg - enkelvoudig</td>\n",
       "      <td>Civiel recht</td>\n",
       "      <td>Rechtbank Middelburg</td>\n",
       "      <td>ECLI:NL:HR:2001:AB1426ECLI:NL:RBMID:2005:AY8012</td>\n",
       "    </tr>\n",
       "    <tr>\n",
       "      <th>4</th>\n",
       "      <td>1484</td>\n",
       "      <td>2003-04-29</td>\n",
       "      <td>\\n      -&lt;para xmlns=\"http://www.rechtspraak.n...</td>\n",
       "      <td>NaN</td>\n",
       "      <td>Hoger beroep</td>\n",
       "      <td>Civiel recht</td>\n",
       "      <td>Gerechtshof Arnhem</td>\n",
       "      <td>ECLI:NL:GHARN:2003:AF8457</td>\n",
       "      <td>ECLI:NL:HR:2004:AR2773</td>\n",
       "      <td>2782</td>\n",
       "      <td>2004-12-17</td>\n",
       "      <td>\\n      17 december 2004 Eerste Kamer Nr. C03/...</td>\n",
       "      <td>None</td>\n",
       "      <td>Cassatie</td>\n",
       "      <td>Civiel recht</td>\n",
       "      <td>Hoge Raad</td>\n",
       "      <td>ECLI:NL:GHARN:2003:AF8457ECLI:NL:HR:2004:AR2773</td>\n",
       "    </tr>\n",
       "  </tbody>\n",
       "</table>\n",
       "</div>"
      ],
      "text/plain": [
       "     id       date                                        description  venue  \\\n",
       "0  3486 2005-05-04  \\n      Bij besluit van 26 februari 2004 heeft...    NaN   \n",
       "1  3503 2005-05-18  \\n      Bij besluit van 20 december 2000 heeft...    NaN   \n",
       "2  3229 2005-06-07  \\n      Bekendmaking besluit; ingangsdatum bez...    NaN   \n",
       "3   309 2001-05-04  \\n      -<para xmlns=\"http://www.rechtspraak.n...    NaN   \n",
       "4  1484 2003-04-29  \\n      -<para xmlns=\"http://www.rechtspraak.n...    NaN   \n",
       "\n",
       "               procedure_type        subject                     court  \\\n",
       "0  Eerste aanleg - meervoudig  Bestuursrecht            Raad van State   \n",
       "1                Hoger beroep  Bestuursrecht            Raad van State   \n",
       "2                Hoger beroep  Bestuursrecht  Centrale Raad van Beroep   \n",
       "3                    Cassatie   Civiel recht                 Hoge Raad   \n",
       "4                Hoger beroep   Civiel recht        Gerechtshof Arnhem   \n",
       "\n",
       "                 source_ecli                target_ecli   idT       dateT  \\\n",
       "0    ECLI:NL:RVS:2005:AT5086    ECLI:NL:RVS:2006:AY5483  4985  2006-07-28   \n",
       "1    ECLI:NL:RVS:2005:AT5690    ECLI:NL:RVS:2006:AY0390  4958  2006-07-05   \n",
       "2   ECLI:NL:CRVB:2005:AT7061   ECLI:NL:CRVB:2006:AX7443  4325  2006-06-01   \n",
       "3     ECLI:NL:HR:2001:AB1426  ECLI:NL:RBMID:2005:AY8012  3780  2005-09-14   \n",
       "4  ECLI:NL:GHARN:2003:AF8457     ECLI:NL:HR:2004:AR2773  2782  2004-12-17   \n",
       "\n",
       "                                        descriptionT   venueT  \\\n",
       "0  \\n      Bij besluit van 26 februari 2004 heeft...     None   \n",
       "1  \\n      Bij besluit van 16 februari 2004 heeft...     None   \n",
       "2  \\n      Bezwaar is ontvankelijk omdat geen spr...  Utrecht   \n",
       "3  \\n      \\n        <parablock xmlns=\"http://www...     None   \n",
       "4  \\n      17 december 2004 Eerste Kamer Nr. C03/...     None   \n",
       "\n",
       "               procedure_typeT       subjectT                    courtT  \\\n",
       "0       Voorlopige voorziening  Bestuursrecht            Raad van State   \n",
       "1                 Hoger beroep  Bestuursrecht            Raad van State   \n",
       "2                 Hoger beroep  Bestuursrecht  Centrale Raad van Beroep   \n",
       "3  Eerste aanleg - enkelvoudig   Civiel recht      Rechtbank Middelburg   \n",
       "4                     Cassatie   Civiel recht                 Hoge Raad   \n",
       "\n",
       "                                            link_id  \n",
       "0    ECLI:NL:RVS:2005:AT5086ECLI:NL:RVS:2006:AY5483  \n",
       "1    ECLI:NL:RVS:2005:AT5690ECLI:NL:RVS:2006:AY0390  \n",
       "2  ECLI:NL:CRVB:2005:AT7061ECLI:NL:CRVB:2006:AX7443  \n",
       "3   ECLI:NL:HR:2001:AB1426ECLI:NL:RBMID:2005:AY8012  \n",
       "4   ECLI:NL:GHARN:2003:AF8457ECLI:NL:HR:2004:AR2773  "
      ]
     },
     "execution_count": 7,
     "metadata": {},
     "output_type": "execute_result"
    }
   ],
   "source": [
    "cases_df.head()"
   ]
  },
  {
   "cell_type": "code",
   "execution_count": 8,
   "metadata": {},
   "outputs": [],
   "source": [
    "data_nodes = pd.DataFrame()\n",
    "data_nodes = data_nodes.append(cases_df[['id','source_ecli','date','description','procedure_type','subject','court']]\\\n",
    "    .rename(columns={'source_ecli':'ecli','description':'abstract','court':'creator','procedure_type':'community'}))\n",
    "data_nodes = data_nodes.append(cases_df[['idT','target_ecli','dateT','descriptionT','procedure_typeT','subjectT','courtT']]\\\n",
    "    .rename(columns={'target_ecli':'ecli','dateT':'date','descriptionT':'abstract',\n",
    "    'procedure_typeT':'community','subjectT':'subject','courtT':'creator','idT':'id'\n",
    "}))\n",
    "data_nodes = data_nodes.drop_duplicates(subset =\"ecli\", keep='first') #only unique eclis (cases)"
   ]
  },
  {
   "cell_type": "code",
   "execution_count": 9,
   "metadata": {},
   "outputs": [
    {
     "data": {
      "text/html": [
       "<div>\n",
       "<style scoped>\n",
       "    .dataframe tbody tr th:only-of-type {\n",
       "        vertical-align: middle;\n",
       "    }\n",
       "\n",
       "    .dataframe tbody tr th {\n",
       "        vertical-align: top;\n",
       "    }\n",
       "\n",
       "    .dataframe thead th {\n",
       "        text-align: right;\n",
       "    }\n",
       "</style>\n",
       "<table border=\"1\" class=\"dataframe\">\n",
       "  <thead>\n",
       "    <tr style=\"text-align: right;\">\n",
       "      <th></th>\n",
       "      <th>id</th>\n",
       "      <th>ecli</th>\n",
       "      <th>date</th>\n",
       "      <th>abstract</th>\n",
       "      <th>community</th>\n",
       "      <th>subject</th>\n",
       "      <th>creator</th>\n",
       "    </tr>\n",
       "  </thead>\n",
       "  <tbody>\n",
       "    <tr>\n",
       "      <th>0</th>\n",
       "      <td>3486</td>\n",
       "      <td>ECLI:NL:RVS:2005:AT5086</td>\n",
       "      <td>2005-05-04 00:00:00</td>\n",
       "      <td>\\n      Bij besluit van 26 februari 2004 heeft...</td>\n",
       "      <td>Eerste aanleg - meervoudig</td>\n",
       "      <td>Bestuursrecht</td>\n",
       "      <td>Raad van State</td>\n",
       "    </tr>\n",
       "    <tr>\n",
       "      <th>1</th>\n",
       "      <td>3503</td>\n",
       "      <td>ECLI:NL:RVS:2005:AT5690</td>\n",
       "      <td>2005-05-18 00:00:00</td>\n",
       "      <td>\\n      Bij besluit van 20 december 2000 heeft...</td>\n",
       "      <td>Hoger beroep</td>\n",
       "      <td>Bestuursrecht</td>\n",
       "      <td>Raad van State</td>\n",
       "    </tr>\n",
       "    <tr>\n",
       "      <th>2</th>\n",
       "      <td>3229</td>\n",
       "      <td>ECLI:NL:CRVB:2005:AT7061</td>\n",
       "      <td>2005-06-07 00:00:00</td>\n",
       "      <td>\\n      Bekendmaking besluit; ingangsdatum bez...</td>\n",
       "      <td>Hoger beroep</td>\n",
       "      <td>Bestuursrecht</td>\n",
       "      <td>Centrale Raad van Beroep</td>\n",
       "    </tr>\n",
       "  </tbody>\n",
       "</table>\n",
       "</div>"
      ],
      "text/plain": [
       "     id                      ecli                 date  \\\n",
       "0  3486   ECLI:NL:RVS:2005:AT5086  2005-05-04 00:00:00   \n",
       "1  3503   ECLI:NL:RVS:2005:AT5690  2005-05-18 00:00:00   \n",
       "2  3229  ECLI:NL:CRVB:2005:AT7061  2005-06-07 00:00:00   \n",
       "\n",
       "                                            abstract  \\\n",
       "0  \\n      Bij besluit van 26 februari 2004 heeft...   \n",
       "1  \\n      Bij besluit van 20 december 2000 heeft...   \n",
       "2  \\n      Bekendmaking besluit; ingangsdatum bez...   \n",
       "\n",
       "                    community        subject                   creator  \n",
       "0  Eerste aanleg - meervoudig  Bestuursrecht            Raad van State  \n",
       "1                Hoger beroep  Bestuursrecht            Raad van State  \n",
       "2                Hoger beroep  Bestuursrecht  Centrale Raad van Beroep  "
      ]
     },
     "execution_count": 9,
     "metadata": {},
     "output_type": "execute_result"
    }
   ],
   "source": [
    "data_nodes.head(3)"
   ]
  },
  {
   "cell_type": "code",
   "execution_count": 10,
   "metadata": {},
   "outputs": [],
   "source": [
    "#this to have the same format as the cases\n",
    "data_nodes['id'] = ['http://deeplink.rechtspraak.nl/uitspraak?id='+str(i) for i in data_nodes['ecli']]#[str(i)[:-2] for i in data_nodes.id]\n",
    "data_nodes['title'] = [str(i)+' -'+str(j)[5:]+'- '+str(k) for i,j,k in zip(data_nodes['creator'], data_nodes['ecli'], data_nodes['community'])]\n",
    "data_nodes['year'] = [int(1990) if str(i)[0:4] == 'None' else int(str(i)[0:4]) for i in data_nodes.date]\n",
    "data_nodes['date'] = [str(i)[0:10] for i in data_nodes.date]\n",
    "data_nodes['count_version'] = np.NaN\n",
    "data_nodes['count_annotation'] = [int(i) for i in np.random.uniform(0,5,len(data_nodes))]\n",
    "data_nodes['articles'] = [ [] for _ in range(len(data_nodes))]\n",
    "data_nodes['authorities'] = 0#np.NaN\n",
    "data_nodes['hubs'] = 0#np.NaN\n",
    "data_nodes['pagerank'] = 0#np.NaN"
   ]
  },
  {
   "cell_type": "code",
   "execution_count": 11,
   "metadata": {},
   "outputs": [],
   "source": [
    "nodes = data_nodes.to_dict(orient='records')"
   ]
  },
  {
   "cell_type": "code",
   "execution_count": 12,
   "metadata": {},
   "outputs": [
    {
     "data": {
      "text/plain": [
       "{'id': 'http://deeplink.rechtspraak.nl/uitspraak?id=ECLI:NL:RVS:2005:AT5086',\n",
       " 'ecli': 'ECLI:NL:RVS:2005:AT5086',\n",
       " 'date': '2005-05-04',\n",
       " 'abstract': '\\n      Bij besluit van 26 februari 2004 heeft de gemeenteraad van Ruurlo, thans Berkelland, op voorstel van het college van burgemeester en wethouders van 29 januari 2004, het bestemmingsplan \"Slootsdijk 2/Hillebrandsweg\" vastgesteld.<para xmlns=\"http://www.rechtspraak.nl/schema/rechtspraak-1.0\" xmlns:xsd=\"http://www.w3.org/2001/XMLSchema\" xmlns:xsi=\"http://www.w3.org/2001/XMLSchema-instance\">Bij besluit van 26 februari 2004 heeft de gemeenteraad van Ruurlo, thans Berkelland, op voorstel van het college van burgemeester en wethouders van 29 januari 2004, het bestemmingsplan \"Slootsdijk 2/Hillebrandsweg\" vastgesteld.</para>\\n    \\n    \\n  ',\n",
       " 'community': 'Eerste aanleg - meervoudig',\n",
       " 'subject': 'Bestuursrecht',\n",
       " 'creator': 'Raad van State',\n",
       " 'title': 'Raad van State -NL:RVS:2005:AT5086- Eerste aanleg - meervoudig',\n",
       " 'year': 2005,\n",
       " 'count_version': nan,\n",
       " 'count_annotation': 3,\n",
       " 'articles': [],\n",
       " 'authorities': 0,\n",
       " 'hubs': 0,\n",
       " 'pagerank': 0}"
      ]
     },
     "execution_count": 12,
     "metadata": {},
     "output_type": "execute_result"
    }
   ],
   "source": [
    "nodes[0]"
   ]
  },
  {
   "cell_type": "code",
   "execution_count": 13,
   "metadata": {},
   "outputs": [],
   "source": [
    "import networkx as nx\n",
    "from networkx.readwrite import json_graph"
   ]
  },
  {
   "cell_type": "code",
   "execution_count": 14,
   "metadata": {},
   "outputs": [],
   "source": [
    "def get_network(nodes, links):\n",
    "    graph = json_graph.node_link_graph({'nodes': nodes, 'links': links}, directed=True, multigraph=False)\n",
    "    return graph"
   ]
  },
  {
   "cell_type": "code",
   "execution_count": 15,
   "metadata": {},
   "outputs": [],
   "source": [
    "#g = get_network(nodes, links)"
   ]
  },
  {
   "cell_type": "code",
   "execution_count": 16,
   "metadata": {},
   "outputs": [],
   "source": [
    "def add_network_statistics(nodes, links):\n",
    "    if len(nodes)==0:\n",
    "        return nodes\n",
    "    graph = get_network(nodes, links)\n",
    "    degree = nx.degree(graph)\n",
    "    if max(dict(degree).values()) > 0:\n",
    "#        hubs, authorities = get_hits(graph)\n",
    "        statistics = {\n",
    "            'degree': degree,\n",
    "            'in_degree': graph.in_degree(),\n",
    "            'out_degree': graph.out_degree(),\n",
    "            'degree_centrality': nx.degree_centrality(graph),\n",
    "            'in_degree_centrality': nx.in_degree_centrality(graph),\n",
    "            'out_degree_centrality': nx.out_degree_centrality(graph),\n",
    "            'betweenness_centrality': nx.betweenness_centrality(graph),\n",
    "            'closeness_centrality': nx.closeness_centrality(graph),\n",
    "#            'pagerank': get_pagerank(graph),\n",
    "#            'hubs': hubs,\n",
    "#            'authorities': authorities\n",
    "        }\n",
    "    else:\n",
    "        statistics = {}\n",
    "\n",
    "    # for relative in-degree we sort on date\n",
    " #   derive_date = lambda k: k['date'] if k['date']!='' else '{}-01-01'.format(k['year'])\n",
    " #   nodes.sort(key=derive_date, reverse=True)\n",
    "    for i, node in enumerate(nodes):\n",
    "        nodeid = node['id']\n",
    "        for var in statistics.keys():\n",
    "            node[var] = statistics[var][nodeid]\n",
    "        if 'in_degree' in node:\n",
    "            node['rel_in_degree'] = node['in_degree'] / float(max(i, 1))\n",
    " #   get_community(graph, nodes)\n",
    "    return nodes"
   ]
  },
  {
   "cell_type": "code",
   "execution_count": 17,
   "metadata": {},
   "outputs": [],
   "source": [
    "nodes = add_network_statistics(nodes, links)"
   ]
  },
  {
   "cell_type": "code",
   "execution_count": 18,
   "metadata": {},
   "outputs": [
    {
     "data": {
      "text/plain": [
       "{'id': 'http://deeplink.rechtspraak.nl/uitspraak?id=ECLI:NL:GHSHE:2004:AO5141',\n",
       " 'ecli': 'ECLI:NL:GHSHE:2004:AO5141',\n",
       " 'date': '2004-03-02',\n",
       " 'abstract': '\\n      \\n        <parablock xmlns=\"http://www.rechtspraak.nl/schema/rechtspraak-1.0\" xmlns:xsd=\"http://www.w3.org/2001/XMLSchema\" xmlns:xsi=\"http://www.w3.org/2001/XMLSchema-instance\">\\n        <para>Verbindendheid van de Wet op kansspelen in verband met het vrij verrichten van diensten als bedoeld in het EG-verdrag.</para>\\n        <para>Overtreding van de Wet op de kansspelen. Verdachte is niet slechts opgetreden als tussenpersoon voor degenen die wensten deel te nemen aan een Duits lottospel, doch heeft ook zonder vergunning voor rekening en risico van verdachte nieuwe kanselementen toegevoegd aan de door de Duitse lotto aangeboden kansspelen.</para>\\n      </parablock>\\n    \\n    \\n  ',\n",
       " 'community': 'Hoger beroep',\n",
       " 'subject': 'Strafrecht',\n",
       " 'creator': \"Gerechtshof 's-Hertogenbosch\",\n",
       " 'title': \"Gerechtshof 's-Hertogenbosch -NL:GHSHE:2004:AO5141- Hoger beroep\",\n",
       " 'year': 2004,\n",
       " 'count_version': nan,\n",
       " 'count_annotation': 3,\n",
       " 'articles': [],\n",
       " 'authorities': 0,\n",
       " 'hubs': 0,\n",
       " 'pagerank': 0,\n",
       " 'degree': 1,\n",
       " 'in_degree': 0,\n",
       " 'out_degree': 1,\n",
       " 'degree_centrality': 0.07692307692307693,\n",
       " 'in_degree_centrality': 0.0,\n",
       " 'out_degree_centrality': 0.07692307692307693,\n",
       " 'betweenness_centrality': 0.0,\n",
       " 'closeness_centrality': 0.0,\n",
       " 'rel_in_degree': 0.0}"
      ]
     },
     "execution_count": 18,
     "metadata": {},
     "output_type": "execute_result"
    }
   ],
   "source": [
    "nodes[5]"
   ]
  },
  {
   "cell_type": "markdown",
   "metadata": {},
   "source": [
    "---\n",
    "#### Dump into graph library"
   ]
  },
  {
   "cell_type": "code",
   "execution_count": 19,
   "metadata": {},
   "outputs": [],
   "source": [
    "graph = get_network(nodes, links)\n",
    "positions = nx.spring_layout(graph, dim=2, center =[0.5,0.5], iterations=8, scale=0.6)"
   ]
  },
  {
   "cell_type": "code",
   "execution_count": 20,
   "metadata": {},
   "outputs": [
    {
     "data": {
      "text/plain": [
       "<matplotlib.collections.PathCollection at 0x7fc6b3720f90>"
      ]
     },
     "execution_count": 20,
     "metadata": {},
     "output_type": "execute_result"
    },
    {
     "data": {
      "image/png": "[encoded data removed]",
      "text/plain": [
       "<Figure size 432x288 with 1 Axes>"
      ]
     },
     "metadata": {},
     "output_type": "display_data"
    }
   ],
   "source": [
    "nx.draw_networkx_nodes(graph,positions)"
   ]
  },
  {
   "cell_type": "code",
   "execution_count": 21,
   "metadata": {},
   "outputs": [],
   "source": [
    "#positions"
   ]
  },
  {
   "cell_type": "code",
   "execution_count": 22,
   "metadata": {},
   "outputs": [],
   "source": [
    "# for node in nodes:\n",
    "#     x = positions[str(node['id'])][0]\n",
    "#     y = positions[str(node['id'])][1]\n",
    "#     if x < 0:\n",
    "#         node['x'] = x*(-1)\n",
    "#     elif x > 0:\n",
    "#         node['x'] = x*(2)\n",
    "#     elif y < 0:\n",
    "#         node['y'] = x*(-1)\n",
    "#     elif y > 0:\n",
    "#         node['y'] = x*(2)\n",
    "\n",
    "#     node['x'] = positions[str(node['id'])][0]\n",
    "#     node['y'] = positions[str(node['id'])][1]"
   ]
  },
  {
   "cell_type": "code",
   "execution_count": 23,
   "metadata": {},
   "outputs": [],
   "source": [
    "import random\n",
    "import json\n",
    "\n",
    "def to_d3_json(nodes, links, filename):\n",
    "    with open(filename, 'w') as outfile:\n",
    "        json.dump({'nodes': nodes, 'links': links}, fp=outfile)\n",
    "\n",
    "\n",
    "def to_sigma_json(nodes, links, title, filename=None):\n",
    "    # Add random start position\n",
    "    nodes = [node.copy() for node in nodes]\n",
    "    for node in nodes:\n",
    "        x = positions[str(node['id'])][0]\n",
    "        y = positions[str(node['id'])][1]\n",
    "        node['x'] = min(.99, abs(x))\n",
    "        node['y'] = min(.99, abs(y))\n",
    "    if filename is None:\n",
    "        return json.dumps({'title': title, 'edges': links, 'nodes': nodes})\n",
    "    with open(filename, 'w') as outfile:\n",
    "        json.dump({'title': title, 'edges': links, 'nodes': nodes}, fp=outfile)\n",
    "        \n",
    "#         x = positions[str(node['id'])][0]\n",
    "#         if x < 0:\n",
    "#             node['x'] = x*(-0.2)\n",
    "#         else:\n",
    "#             node['x'] = x*(1.1)\n",
    "#         y = positions[str(node['id'])][1]\n",
    "#         if y < 0:\n",
    "#             node['y'] = y*(-0.2)\n",
    "#         else:\n",
    "#             node['y'] = y*(0.99)"
   ]
  },
  {
   "cell_type": "code",
   "execution_count": 24,
   "metadata": {},
   "outputs": [],
   "source": [
    "outpath = 'network_cases_sigma.json'\n",
    "to_sigma_json(filename=outpath, nodes=nodes, links=links, title='Rechtspraak')"
   ]
  },
  {
   "cell_type": "code",
   "execution_count": 25,
   "metadata": {},
   "outputs": [],
   "source": [
    "# outpath = 'network_cases_D3.json'\n",
    "# to_d3_json(nodes=nodes, links=links, filename=outpath)"
   ]
  },
  {
   "cell_type": "markdown",
   "metadata": {},
   "source": [
    "---\n",
    "## Mapping"
   ]
  },
  {
   "cell_type": "code",
   "execution_count": 26,
   "metadata": {},
   "outputs": [],
   "source": [
    "import json"
   ]
  },
  {
   "cell_type": "code",
   "execution_count": 27,
   "metadata": {},
   "outputs": [],
   "source": [
    "with open('network_cases_sigma.json', 'r') as f:\n",
    "        netw = json.load(f)"
   ]
  },
  {
   "cell_type": "code",
   "execution_count": 28,
   "metadata": {},
   "outputs": [
    {
     "data": {
      "text/plain": [
       "14"
      ]
     },
     "execution_count": 28,
     "metadata": {},
     "output_type": "execute_result"
    }
   ],
   "source": [
    "len(netw['nodes'])"
   ]
  },
  {
   "cell_type": "code",
   "execution_count": 29,
   "metadata": {},
   "outputs": [
    {
     "data": {
      "text/plain": [
       "{'id': 'http://deeplink.rechtspraak.nl/uitspraak?id=ECLI:NL:RVS:2005:AT5086',\n",
       " 'ecli': 'ECLI:NL:RVS:2005:AT5086',\n",
       " 'date': '2005-05-04',\n",
       " 'abstract': '\\n      Bij besluit van 26 februari 2004 heeft de gemeenteraad van Ruurlo, thans Berkelland, op voorstel van het college van burgemeester en wethouders van 29 januari 2004, het bestemmingsplan \"Slootsdijk 2/Hillebrandsweg\" vastgesteld.<para xmlns=\"http://www.rechtspraak.nl/schema/rechtspraak-1.0\" xmlns:xsd=\"http://www.w3.org/2001/XMLSchema\" xmlns:xsi=\"http://www.w3.org/2001/XMLSchema-instance\">Bij besluit van 26 februari 2004 heeft de gemeenteraad van Ruurlo, thans Berkelland, op voorstel van het college van burgemeester en wethouders van 29 januari 2004, het bestemmingsplan \"Slootsdijk 2/Hillebrandsweg\" vastgesteld.</para>\\n    \\n    \\n  ',\n",
       " 'community': 'Eerste aanleg - meervoudig',\n",
       " 'subject': 'Bestuursrecht',\n",
       " 'creator': 'Raad van State',\n",
       " 'title': 'Raad van State -NL:RVS:2005:AT5086- Eerste aanleg - meervoudig',\n",
       " 'year': 2005,\n",
       " 'count_version': nan,\n",
       " 'count_annotation': 3,\n",
       " 'articles': [],\n",
       " 'authorities': 0,\n",
       " 'hubs': 0,\n",
       " 'pagerank': 0,\n",
       " 'degree': 1,\n",
       " 'in_degree': 0,\n",
       " 'out_degree': 1,\n",
       " 'degree_centrality': 0.07692307692307693,\n",
       " 'in_degree_centrality': 0.0,\n",
       " 'out_degree_centrality': 0.07692307692307693,\n",
       " 'betweenness_centrality': 0.0,\n",
       " 'closeness_centrality': 0.0,\n",
       " 'rel_in_degree': 0.0,\n",
       " 'x': 0.5215259950010647,\n",
       " 'y': 0.5098961003202523}"
      ]
     },
     "execution_count": 29,
     "metadata": {},
     "output_type": "execute_result"
    }
   ],
   "source": [
    "netw['nodes'][0]"
   ]
  },
  {
   "cell_type": "code",
   "execution_count": 30,
   "metadata": {},
   "outputs": [
    {
     "data": {
      "text/plain": [
       "{'id': 'ECLI:NL:RVS:2005:AT5086ECLI:NL:RVS:2006:AY5483',\n",
       " 'source': 'http://deeplink.rechtspraak.nl/uitspraak?id=ECLI:NL:RVS:2005:AT5086',\n",
       " 'target': 'http://deeplink.rechtspraak.nl/uitspraak?id=ECLI:NL:RVS:2006:AY5483'}"
      ]
     },
     "execution_count": 30,
     "metadata": {},
     "output_type": "execute_result"
    }
   ],
   "source": [
    "netw['edges'][0]"
   ]
  },
  {
   "cell_type": "markdown",
   "metadata": {},
   "source": [
    "---\n",
    "## Retrieving from API"
   ]
  },
  {
   "cell_type": "code",
   "execution_count": 41,
   "metadata": {},
   "outputs": [
    {
     "data": {
      "text/plain": [
       "'ECLI:NL:RVS:2005:AT5086'"
      ]
     },
     "execution_count": 41,
     "metadata": {},
     "output_type": "execute_result"
    }
   ],
   "source": [
    "cases_df.source_ecli[0]"
   ]
  },
  {
   "cell_type": "code",
   "execution_count": 42,
   "metadata": {},
   "outputs": [],
   "source": [
    "ecli = cases_df.source_ecli[0]\n",
    "ecli_encoded = urllib.parse.quote_plus(ecli)\n",
    "data_citations = requests\\\n",
    "    .get('http://rechtspraakdb.caselawanalytics-mu.surf-hosted.nl:3000/api/v1/cases/'+str(ecli_encoded)+'/case-citations').json()"
   ]
  },
  {
   "cell_type": "code",
   "execution_count": 46,
   "metadata": {},
   "outputs": [],
   "source": [
    "case_id = cases_df.id[0]\n",
    "data_case = requests\\\n",
    "    .get('http://rechtspraakdb.caselawanalytics-mu.surf-hosted.nl:3000/api/v1/cases/'+str(case_id)).json()"
   ]
  },
  {
   "cell_type": "code",
   "execution_count": 47,
   "metadata": {},
   "outputs": [
    {
     "data": {
      "text/plain": [
       "[{'id': 1105,\n",
       "  'source_ecli': 'ECLI:NL:RVS:2005:AT5086',\n",
       "  'source_paragraph': None,\n",
       "  'target_ecli': 'ECLI:NL:RVS:2007:AZ6375',\n",
       "  'target_paragraph': None,\n",
       "  'case_id': 3486},\n",
       " {'id': 1106,\n",
       "  'source_ecli': 'ECLI:NL:RVS:2005:AT5086',\n",
       "  'source_paragraph': None,\n",
       "  'target_ecli': 'ECLI:NL:RVS:2006:AY5483',\n",
       "  'target_paragraph': None,\n",
       "  'case_id': 3486}]"
      ]
     },
     "execution_count": 47,
     "metadata": {},
     "output_type": "execute_result"
    }
   ],
   "source": [
    "data_citations"
   ]
  },
  {
   "cell_type": "code",
   "execution_count": 48,
   "metadata": {},
   "outputs": [
    {
     "data": {
      "text/plain": [
       "[{'id': 3486,\n",
       "  'date': '2005-05-04T00:00:00.000Z',\n",
       "  'name': None,\n",
       "  'description': '\\n      Bij besluit van 26 februari 2004 heeft de gemeenteraad van Ruurlo, thans Berkelland, op voorstel van het college van burgemeester en wethouders van 29 januari 2004, het bestemmingsplan \"Slootsdijk 2/Hillebrandsweg\" vastgesteld.<para xmlns=\"http://www.rechtspraak.nl/schema/rechtspraak-1.0\" xmlns:xsd=\"http://www.w3.org/2001/XMLSchema\" xmlns:xsi=\"http://www.w3.org/2001/XMLSchema-instance\">Bij besluit van 26 februari 2004 heeft de gemeenteraad van Ruurlo, thans Berkelland, op voorstel van het college van burgemeester en wethouders van 29 januari 2004, het bestemmingsplan \"Slootsdijk 2/Hillebrandsweg\" vastgesteld.</para>\\n    \\n    \\n  ',\n",
       "  'language': 'NL',\n",
       "  'venue': None,\n",
       "  'abstract': None,\n",
       "  'procedure_type': 'Eerste aanleg - meervoudig',\n",
       "  'lodge_date': '1900-01-01T00:00:00.000Z',\n",
       "  'link': '\\n        \\n          <rdf:list xmlns:rdf=\"http://www.w3.org/1999/02/22-rdf-syntax-ns#\" xmlns:ecli=\"https://e-justice.europa.eu/ecli\" xmlns:tr=\"http://tuchtrecht.overheid.nl/\" xmlns:eu=\"http://publications.europa.eu/celex/\" xmlns:dcterms=\"http://purl.org/dc/terms/\" xmlns:bwb=\"bwb-dl\" xmlns:cvdr=\"http://decentrale.regelgeving.overheid.nl/cvdr/\" xmlns:psi=\"http://psi.rechtspraak.nl/\" xmlns:rdfs=\"http://www.w3.org/2000/01/rdf-schema#\">\\n          <rdf:li>Rechtspraak.nl</rdf:li>\\n          <rdf:li>Module Ruimtelijke ordening 2005/590</rdf:li>\\n          <rdf:li>JOM 2007/359</rdf:li>\\n          <rdf:li>OGR-Updates.nl 1000977</rdf:li>\\n        </rdf:list>\\n      \\n      \\n    ',\n",
       "  'ecli': 'ECLI:NL:RVS:2005:AT5086',\n",
       "  'court_id': 22}]"
      ]
     },
     "execution_count": 48,
     "metadata": {},
     "output_type": "execute_result"
    }
   ],
   "source": [
    "data_case"
   ]
  },
  {
   "cell_type": "code",
   "execution_count": null,
   "metadata": {},
   "outputs": [],
   "source": []
  },
  {
   "cell_type": "code",
   "execution_count": null,
   "metadata": {},
   "outputs": [],
   "source": []
  }
 ],
 "metadata": {
  "anaconda-cloud": {},
  "kernelspec": {
   "display_name": "Python 3",
   "language": "python",
   "name": "python3"
  },
  "language_info": {
   "codemirror_mode": {
    "name": "ipython",
    "version": 3
   },
   "file_extension": ".py",
   "mimetype": "text/x-python",
   "name": "python",
   "nbconvert_exporter": "python",
   "pygments_lexer": "ipython3",
   "version": "3.7.6"
  },
  "nteract": {
   "version": "0.15.0"
  }
 },
 "nbformat": 4,
 "nbformat_minor": 4
}
