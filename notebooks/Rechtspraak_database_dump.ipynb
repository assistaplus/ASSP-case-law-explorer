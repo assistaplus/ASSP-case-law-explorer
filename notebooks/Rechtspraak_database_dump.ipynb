{
  "nbformat": 4,
  "nbformat_minor": 0,
  "metadata": {
    "kernelspec": {
      "display_name": "Python 3",
      "language": "python",
      "name": "python3"
    },
    "language_info": {
      "codemirror_mode": {
        "name": "ipython",
        "version": 3
      },
      "file_extension": ".py",
      "mimetype": "text/x-python",
      "name": "python",
      "nbconvert_exporter": "python",
      "pygments_lexer": "ipython3",
      "version": "3.7.6"
    },
    "nteract": {
      "version": "0.15.0"
    },
    "colab": {
      "name": "Rechtspraak database dump.ipynb",
      "provenance": []
    }
  },
  "cells": [
    {
      "cell_type": "markdown",
      "metadata": {
        "id": "J6Kcfy1XtWIk"
      },
      "source": [
        "## Rechtspraak ETL"
      ]
    },
    {
      "cell_type": "code",
      "metadata": {
        "id": "20QIrvAze9rl"
      },
      "source": [
        "# # # EXTRA MEMORY\n",
        "# d=[]\n",
        "# while(1):\n",
        "#   d.append('1')"
      ],
      "execution_count": 1,
      "outputs": []
    },
    {
      "cell_type": "code",
      "metadata": {
        "id": "VqVsIFmCLAy-"
      },
      "source": [
        "#!pip install mysql.connector"
      ],
      "execution_count": null,
      "outputs": []
    },
    {
      "cell_type": "code",
      "metadata": {
        "id": "fMSF6xc_gLBJ"
      },
      "source": [
        "# # Install RAPIDS\n",
        "# !git clone https://github.com/rapidsai/rapidsai-csp-utils.git\n",
        "# !bash rapidsai-csp-utils/colab/rapids-colab.sh stable"
      ],
      "execution_count": null,
      "outputs": []
    },
    {
      "cell_type": "code",
      "metadata": {
        "id": "SkcbM6y1l0yX"
      },
      "source": [
        "# import sys, os\n",
        "\n",
        "# dist_package_index = sys.path.index('/usr/local/lib/python3.6/dist-packages')\n",
        "# sys.path = sys.path[:dist_package_index] + ['/usr/local/lib/python3.6/site-packages'] + sys.path[dist_package_index:]\n",
        "# sys.path\n",
        "# exec(open('rapidsai-csp-utils/colab/update_modules.py').read(), globals())"
      ],
      "execution_count": null,
      "outputs": []
    },
    {
      "cell_type": "code",
      "metadata": {
        "id": "QaZl4RR9fKOx"
      },
      "source": [
        "#!nvidia-smi"
      ],
      "execution_count": null,
      "outputs": []
    },
    {
      "cell_type": "code",
      "metadata": {
        "id": "68NX39OK9gGN"
      },
      "source": [
        "#!apt install unixodbc-dev\n",
        "#!pip install pyodbc"
      ],
      "execution_count": null,
      "outputs": []
    },
    {
      "cell_type": "code",
      "metadata": {
        "id": "IVvogvZihbVH"
      },
      "source": [
        "import pandas as pd\n",
        "import numpy as np\n",
        "import warnings\n",
        "warnings.filterwarnings('ignore')"
      ],
      "execution_count": null,
      "outputs": []
    },
    {
      "cell_type": "code",
      "metadata": {
        "id": "yMUPgcKN9jec"
      },
      "source": [
        "from sqlalchemy import create_engine"
      ],
      "execution_count": null,
      "outputs": []
    },
    {
      "cell_type": "code",
      "metadata": {
        "id": "IQxfu3uM-q5a"
      },
      "source": [
        "SERVER = '145.100.58.122'\n",
        "DATABASE = 'case_law'\n",
        "PORT = '3306'\n",
        "USERNAME = 'root'\n",
        "PASSWORD = 'weboflaw2020'\n",
        "CONNECTION = f'mysql+mysqlconnector://{USERNAME}:{PASSWORD}@{SERVER}:{PORT}/{DATABASE}'"
      ],
      "execution_count": null,
      "outputs": []
    },
    {
      "cell_type": "code",
      "metadata": {
        "id": "2cxGJ_hX_oZp"
      },
      "source": [
        "engine = create_engine(CONNECTION, echo=True)\n",
        "connection = engine.connect()"
      ],
      "execution_count": null,
      "outputs": []
    },
    {
      "cell_type": "code",
      "metadata": {
        "id": "i0VChZlsCuEz"
      },
      "source": [
        "query = \"\"\"SELECT * FROM case_law.case LIMIT 1;\"\"\"\n",
        "check = pd.read_sql_query(query, con=connection)\n",
        "check.head()"
      ],
      "execution_count": null,
      "outputs": []
    },
    {
      "cell_type": "markdown",
      "metadata": {
        "id": "rKPinNVqDrtX"
      },
      "source": [
        "### MYSQL"
      ]
    },
    {
      "cell_type": "code",
      "metadata": {
        "id": "4aDtRUBytWIp"
      },
      "source": [
        "import mysql.connector as mdb\n",
        "from mysql.connector import Error\n",
        "import sys, traceback"
      ],
      "execution_count": null,
      "outputs": []
    },
    {
      "cell_type": "code",
      "metadata": {
        "id": "FUMken1ktWIt"
      },
      "source": [
        "def open_database(host, db_name, username, password):\n",
        "    try:\n",
        "        connection = mdb.connect(host=host,\n",
        "                                 database=db_name,\n",
        "                                 user=username,\n",
        "                                 password=password)\n",
        "        if connection.is_connected():\n",
        "           db_Info = connection.get_server_info()\n",
        "           print(\"Connected to MySQL database... MySQL Server version on \",db_Info)\n",
        "           cursor = connection.cursor()\n",
        "           cursor.execute(\"select database();\")\n",
        "           record = cursor.fetchone()\n",
        "           print (\"Your connected to - \", record)\n",
        "           cursor.close()\n",
        "    except Error as e :\n",
        "        print (\"Error while connecting to MySQL\", e)\n",
        "    return connection"
      ],
      "execution_count": null,
      "outputs": []
    },
    {
      "cell_type": "code",
      "metadata": {
        "id": "PqmOos_QtWIw"
      },
      "source": [
        "def close_database(connection):\n",
        "    #closing database connection.\n",
        "    if(connection.is_connected()):\n",
        "        connection.close()\n",
        "        print(\"MySQL connection is closed\")"
      ],
      "execution_count": null,
      "outputs": []
    },
    {
      "cell_type": "code",
      "metadata": {
        "id": "oPRg7QhQtWIz"
      },
      "source": [
        "conn = open_database('145.100.58.122', 'case_law', 'root', 'weboflaw2020')"
      ],
      "execution_count": null,
      "outputs": []
    },
    {
      "cell_type": "code",
      "metadata": {
        "id": "aCo19BistWI3"
      },
      "source": [
        "# query = \"\"\"SELECT * FROM case_law.case LIMIT 1;\"\"\"\n",
        "# cursor = conn.cursor(buffered=True)\n",
        "# cursor.execute(query)\n",
        "# records = cursor.fetchall()\n",
        "# for row in records:\n",
        "#     print(row)"
      ],
      "execution_count": null,
      "outputs": []
    },
    {
      "cell_type": "markdown",
      "metadata": {
        "id": "_HHS-DDJtWI6"
      },
      "source": [
        "---\n",
        "### Datasets"
      ]
    },
    {
      "cell_type": "code",
      "metadata": {
        "id": "yTpwDdZZtWI6"
      },
      "source": [
        ""
      ],
      "execution_count": null,
      "outputs": []
    },
    {
      "cell_type": "code",
      "metadata": {
        "id": "W89aVQbJkKOT"
      },
      "source": [
        "# import cudf as pd\n",
        "# import io, requests"
      ],
      "execution_count": null,
      "outputs": []
    },
    {
      "cell_type": "code",
      "metadata": {
        "id": "hvtMYvuAkk0e"
      },
      "source": [
        "df_case_raw = pd.read_csv(\"https://maastrichtuniversity-ids-open.s3.eu-central-1.amazonaws.com/rechtspraak/case.csv\").replace(np.nan, 'NULL', regex=True)"
      ],
      "execution_count": null,
      "outputs": []
    },
    {
      "cell_type": "code",
      "metadata": {
        "id": "OKD9yKG7tf0H"
      },
      "source": [
        "#df_case_raw.head(2)"
      ],
      "execution_count": null,
      "outputs": []
    },
    {
      "cell_type": "code",
      "metadata": {
        "id": "_P7ueSKBPpcX"
      },
      "source": [
        "df_country = pd.read_csv(\"https://maastrichtuniversity-ids-open.s3.eu-central-1.amazonaws.com/rechtspraak/countries.csv\").replace(np.nan, 'NULL', regex=True)"
      ],
      "execution_count": null,
      "outputs": []
    },
    {
      "cell_type": "code",
      "metadata": {
        "id": "NEM2pdd1QBgv"
      },
      "source": [
        "#df_country.head(2)"
      ],
      "execution_count": null,
      "outputs": []
    },
    {
      "cell_type": "code",
      "metadata": {
        "id": "YZHxB3cJPrE3"
      },
      "source": [
        "df_li_cases = pd.read_csv(\"https://maastrichtuniversity-ids-open.s3.eu-central-1.amazonaws.com/rechtspraak/legal_intelligence_cases.csv\").replace(np.nan, 'NULL', regex=True).drop_duplicates(subset =\"ecli\")"
      ],
      "execution_count": null,
      "outputs": []
    },
    {
      "cell_type": "code",
      "metadata": {
        "id": "Z-BtvR_kQD1B"
      },
      "source": [
        "#df_li_cases.head(2)"
      ],
      "execution_count": null,
      "outputs": []
    },
    {
      "cell_type": "code",
      "metadata": {
        "id": "OMxxf_MCP4sF"
      },
      "source": [
        "df_case_opinion = pd.read_csv(\"https://maastrichtuniversity-ids-open.s3.eu-central-1.amazonaws.com/rechtspraak/case_opinion_from_advocate_general.csv\").replace(np.nan, 'NULL', regex=True)"
      ],
      "execution_count": null,
      "outputs": []
    },
    {
      "cell_type": "code",
      "metadata": {
        "id": "QinK6gwxQGAY"
      },
      "source": [
        "#df_li_cases.head(2)"
      ],
      "execution_count": null,
      "outputs": []
    },
    {
      "cell_type": "code",
      "metadata": {
        "id": "j-l6dQEHP7W7"
      },
      "source": [
        "df_case_citation = pd.read_csv(\"https://maastrichtuniversity-ids-open.s3.eu-central-1.amazonaws.com/rechtspraak/caselaw_citations.csv\").replace(np.nan, 'NULL', regex=True)"
      ],
      "execution_count": null,
      "outputs": []
    },
    {
      "cell_type": "code",
      "metadata": {
        "id": "NuchpyBvQItF"
      },
      "source": [
        "#df_case_citation.head(2)"
      ],
      "execution_count": null,
      "outputs": []
    },
    {
      "cell_type": "code",
      "metadata": {
        "id": "B37Lk-uHP8ab"
      },
      "source": [
        "df_legislation_citation = pd.read_csv(\"https://maastrichtuniversity-ids-open.s3.eu-central-1.amazonaws.com/rechtspraak/legislation_citations.csv\").replace(np.nan, 'NULL', regex=True)"
      ],
      "execution_count": null,
      "outputs": []
    },
    {
      "cell_type": "code",
      "metadata": {
        "id": "wQY_oCsHQKT3"
      },
      "source": [
        "#df_legislation_citation.head(2)"
      ],
      "execution_count": null,
      "outputs": []
    },
    {
      "cell_type": "markdown",
      "metadata": {
        "id": "vp4EsuIAtWJI"
      },
      "source": [
        "---\n",
        "### Normalization based on constrains"
      ]
    },
    {
      "cell_type": "code",
      "metadata": {
        "id": "5zRpwcFcbeGr"
      },
      "source": [
        "#li formating\n",
        "for i, li_case in df_li_cases.iterrows():\n",
        "    ecli = li_case.ecli\n",
        "    new_ecli = ecli.replace('_', ':')\n",
        "    df_li_cases.at[i, 'ecli'] = new_ecli\n",
        "\n",
        "li_intersection = list(set(df_li_cases['ecli']).intersection(set(df_case_raw['case_id'])))\n",
        "\n",
        "#df_case \n",
        "sample_size = 5000\n",
        "uniques = list(df_case_citation['source_ecli'].sample(n=sample_size, random_state=18))\n",
        "uniques.extend(li_intersection)\n",
        "\n",
        "df_case = df_case_raw[df_case_raw['case_id'].isin(uniques)]\n",
        "\n",
        "##1: legislation citations \n",
        "df_legislation_citation = df_legislation_citation[df_legislation_citation['source_ecli'].isin(uniques)].reset_index(drop=True)\n",
        "\n",
        "##2: case citations \n",
        "df_case_citation = df_case_citation[df_case_citation['source_ecli'].isin(uniques)].reset_index(drop=True)\n",
        "\n",
        "##3: case opinions \n",
        "df_case_opinion = df_case_opinion[df_case_opinion['case_id'].isin(uniques)].reset_index(drop=True)\n",
        "\n",
        "##4: li cases \n",
        "df_li_cases = df_li_cases[df_li_cases['ecli'].isin(uniques)].reset_index(drop=True)\n",
        "\n",
        "print('Number of Cases in\\nCases: {}\\nLegislation citation: {}\\nCase citation: {}\\nCase opinion: {}\\nLI cases: {}'\\\n",
        "      .format(len(df_case), len(df_legislation_citation), len(df_case_citation), len(df_case_opinion), len(df_li_cases)))"
      ],
      "execution_count": null,
      "outputs": []
    },
    {
      "cell_type": "code",
      "metadata": {
        "id": "nPsP22briD8p"
      },
      "source": [
        "del uniques"
      ],
      "execution_count": null,
      "outputs": []
    },
    {
      "cell_type": "markdown",
      "metadata": {
        "id": "f6MJwOeStWJb"
      },
      "source": [
        "---\n",
        "### Utils"
      ]
    },
    {
      "cell_type": "code",
      "metadata": {
        "id": "BWR4f6e9tWJb"
      },
      "source": [
        "def to_tuples(df):\n",
        "    return [tuple(x) for x in df.values]"
      ],
      "execution_count": null,
      "outputs": []
    },
    {
      "cell_type": "code",
      "metadata": {
        "id": "Csz9Dywvxozp"
      },
      "source": [
        "import string\n",
        "\n",
        "def clean_strings(column):\n",
        "  cleaned = []\n",
        "  for s in column:\n",
        "    cleaned.append(\"\".join(filter(lambda char: char in string.printable, s)))\n",
        "  return [i[0:250] for i in cleaned]"
      ],
      "execution_count": null,
      "outputs": []
    },
    {
      "cell_type": "code",
      "metadata": {
        "id": "ckG1uoS5tWJf"
      },
      "source": [
        "def clean_table_sql(table_name):\n",
        "    try:\n",
        "        cursor1 = conn.cursor(buffered=True)\n",
        "        query1 = \"\"\"DELETE FROM `{}`;\"\"\".format(table_name)\n",
        "        cursor1.execute(query1)\n",
        "        cursor2 = conn.cursor(buffered=True)\n",
        "        query2 = \"\"\"ALTER TABLE `{}` AUTO_INCREMENT = 1;\"\"\".format(table_name)\n",
        "        cursor2.execute(query2)\n",
        "        conn.commit()\n",
        "    except Error as error :\n",
        "        conn.rollback()\n",
        "        print(\"Failed to delete MySQL table {}\".format(error))\n",
        "        traceback.print_exc(file=sys.stdout)"
      ],
      "execution_count": null,
      "outputs": []
    },
    {
      "cell_type": "code",
      "metadata": {
        "id": "ZDz6k5WysVk5"
      },
      "source": [
        "def clean_table_sql(table_name):\n",
        "    try:\n",
        "        cursor1 = conn.cursor(buffered=True)\n",
        "        query1 = \"\"\"DELETE FROM `{}`;\"\"\".format(table_name)\n",
        "        cursor1.execute(query1)\n",
        "        cursor2 = conn.cursor(buffered=True)\n",
        "        query2 = \"\"\"ALTER TABLE `{}` AUTO_INCREMENT = 1;\"\"\".format(table_name)\n",
        "        cursor2.execute(query2)\n",
        "        conn.commit()\n",
        "    except Error as error :\n",
        "        conn.rollback()\n",
        "        print(\"Failed to delete MySQL table {}\".format(error))\n",
        "        traceback.print_exc(file=sys.stdout)"
      ],
      "execution_count": null,
      "outputs": []
    },
    {
      "cell_type": "code",
      "metadata": {
        "id": "eLUBPUhasTu8"
      },
      "source": [
        "c.execute('''  \n",
        "SELECT Brand, max(price) FROM CARS\n",
        "          ''')"
      ],
      "execution_count": null,
      "outputs": []
    },
    {
      "cell_type": "code",
      "metadata": {
        "id": "YUi34VbutWJi"
      },
      "source": [
        "def get_parent_ids(table, column_table, df, column_df):\n",
        "  \"\"\"DB table, DB column_table, df: pandas df to look at, column_df\"\"\"\n",
        "  query =  f\"\"\"SELECT id, {column_table} FROM {table}\"\"\"\n",
        "  read_all_ids = pd.read_sql(query, con=connection)\n",
        "  id_list = []\n",
        "  for idx, data in enumerate(df[column_df]):\n",
        "    id_list.append(read_all_ids[read_all_ids[column_table] == data].id.values[0])\n",
        "  return id_list"
      ],
      "execution_count": null,
      "outputs": []
    },
    {
      "cell_type": "markdown",
      "metadata": {
        "id": "QiB4McIztWJl"
      },
      "source": [
        "---\n",
        "### Tables Hierarchies"
      ]
    },
    {
      "cell_type": "markdown",
      "metadata": {
        "id": "pHiyiz7WtWJl"
      },
      "source": [
        "1. Court\n",
        "2. Case\n",
        "3. Case Opinion\n",
        "4. LI Case\n",
        "5. Subject\n",
        "6. Case subject\n",
        "7. Country\n",
        "8. Case country\n",
        "9. Case citation\n",
        "10. Legislation citation\n",
        "11. Case related decision\n"
      ]
    },
    {
      "cell_type": "code",
      "metadata": {
        "id": "K1SbvVKftWJm"
      },
      "source": [
        "clean_table_sql('case_related_decision')\n",
        "clean_table_sql('legislation_citation')\n",
        "clean_table_sql('case_citation')\n",
        "clean_table_sql('case_country')\n",
        "clean_table_sql('country')\n",
        "clean_table_sql('case_subject')\n",
        "clean_table_sql('subject')\n",
        "clean_table_sql('legal_intelligence_case')\n",
        "clean_table_sql('case_opinion')\n",
        "clean_table_sql('case')\n",
        "clean_table_sql('court')"
      ],
      "execution_count": null,
      "outputs": []
    },
    {
      "cell_type": "markdown",
      "metadata": {
        "id": "swsDew62tWJp"
      },
      "source": [
        "---\n",
        "### Courts"
      ]
    },
    {
      "cell_type": "code",
      "metadata": {
        "id": "VvdsK9VNtWJp"
      },
      "source": [
        "court = pd.DataFrame()"
      ],
      "execution_count": null,
      "outputs": []
    },
    {
      "cell_type": "code",
      "metadata": {
        "id": "JzpS35I_tWJs"
      },
      "source": [
        "courts_list = df_case_raw.authority.unique()\n",
        "courts_list = [i.replace('\"','-') for i in courts_list]\n",
        "court['name'] = clean_strings(courts_list)"
      ],
      "execution_count": null,
      "outputs": []
    },
    {
      "cell_type": "code",
      "metadata": {
        "id": "R8RPu0KAtWJv"
      },
      "source": [
        "#dummies\n",
        "court.loc[:,'type'] = 'NULL'\n",
        "court.loc[:,'level'] = 'NULL'\n",
        "court.loc[:,'country'] = 'NULL'\n",
        "court.loc[:,'language'] = 'NULL' \n",
        "court.loc[:,'jurisdiction'] = 'NULL' \n",
        "court.loc[:,'law_area'] = 'NULL'\n",
        "court.loc[:,'authority_level'] = 'NULL'"
      ],
      "execution_count": null,
      "outputs": []
    },
    {
      "cell_type": "code",
      "metadata": {
        "id": "FUknrPh-AYWK"
      },
      "source": [
        "court.head(2)"
      ],
      "execution_count": null,
      "outputs": []
    },
    {
      "cell_type": "code",
      "metadata": {
        "id": "Gv0VMlVf7CvA"
      },
      "source": [
        "court.to_sql('court', con=engine, index=False, if_exists='append', chunksize = 10)"
      ],
      "execution_count": null,
      "outputs": []
    },
    {
      "cell_type": "code",
      "metadata": {
        "id": "5N-kCSGmtWJ6"
      },
      "source": [
        "len(court)"
      ],
      "execution_count": null,
      "outputs": []
    },
    {
      "cell_type": "code",
      "metadata": {
        "id": "Mtdxe2BQiMt1"
      },
      "source": [
        "del court\n",
        "#del tuples"
      ],
      "execution_count": null,
      "outputs": []
    },
    {
      "cell_type": "markdown",
      "metadata": {
        "id": "hDFd5xEftWJ9"
      },
      "source": [
        "---\n",
        "### Case"
      ]
    },
    {
      "cell_type": "code",
      "metadata": {
        "id": "lbCynN5NtWJ9"
      },
      "source": [
        "map_case = {'date':'date',\n",
        "            'description':'description',\n",
        "            'language':'language',\n",
        "            'venue':'venue',\n",
        "            'abstract':'abstract',\n",
        "            'procedure_type':'procedure_type',\n",
        "            'lodge_date':'lodge_date',\n",
        "            'alternative_sources':'link',\n",
        "            'case_id':'ecli'}"
      ],
      "execution_count": null,
      "outputs": []
    },
    {
      "cell_type": "code",
      "metadata": {
        "id": "wSh6i1WTtWKA"
      },
      "source": [
        "case = df_case[map_case.keys()].rename(columns=map_case)"
      ],
      "execution_count": null,
      "outputs": []
    },
    {
      "cell_type": "code",
      "metadata": {
        "id": "eJAYwL9PXYvh"
      },
      "source": [
        "parents_ids = get_parent_ids('court', 'name', df_case, 'authority')"
      ],
      "execution_count": null,
      "outputs": []
    },
    {
      "cell_type": "code",
      "metadata": {
        "id": "WliVbvx7tWKI"
      },
      "source": [
        "case['name'] = 'NULL'\n",
        "case['court_id'] = parents_ids\n",
        "case['date'] = [pd.to_datetime(i, errors='coerce') if i != 'NULL' else pd.to_datetime('1900-01-01 00:00:00') for i in case['date']]\n",
        "case['lodge_date'] = [pd.to_datetime(i, errors='coerce') if i != 'NULL' else pd.to_datetime('1900-01-01 00:00:00') for i in case['lodge_date']]\n",
        "case['description'] = clean_strings(case['description'])\n",
        "case['link'] = clean_strings(case['link'])"
      ],
      "execution_count": null,
      "outputs": []
    },
    {
      "cell_type": "code",
      "metadata": {
        "id": "V3UMNfyutWKN"
      },
      "source": [
        "case.head(3)"
      ],
      "execution_count": null,
      "outputs": []
    },
    {
      "cell_type": "code",
      "metadata": {
        "id": "WEyuf60EYZHb"
      },
      "source": [
        "case.to_sql('case', con=engine, index=False, if_exists='append', chunksize = 100)"
      ],
      "execution_count": null,
      "outputs": []
    },
    {
      "cell_type": "code",
      "metadata": {
        "id": "cO6vbNmZokpl"
      },
      "source": [
        "del map_case\n",
        "del case"
      ],
      "execution_count": null,
      "outputs": []
    },
    {
      "cell_type": "markdown",
      "metadata": {
        "id": "1sq2jl0ZtWKT"
      },
      "source": [
        "---\n",
        "### Case opinion advocate general"
      ]
    },
    {
      "cell_type": "code",
      "metadata": {
        "id": "6rb_jSOztWKU"
      },
      "source": [
        "map_case_opinion = {'date':'date',\n",
        "                    'case_number':'case_number',\n",
        "                    'description':'description',\n",
        "                    'language':'language',\n",
        "                    'country':'country',\n",
        "                    'venue':'venue',\n",
        "                    'abstract':'abstract',\n",
        "                    'procedure_type':'procedure_type',\n",
        "                    'authority':'authority',\n",
        "                    'case_id':'ecli'}"
      ],
      "execution_count": null,
      "outputs": []
    },
    {
      "cell_type": "code",
      "metadata": {
        "id": "DMCzc4PotWKW"
      },
      "source": [
        "case_opinion = df_case_opinion[map_case_opinion.keys()].rename(columns=map_case_opinion)"
      ],
      "execution_count": null,
      "outputs": []
    },
    {
      "cell_type": "code",
      "metadata": {
        "id": "0M5sWlSutWKY"
      },
      "source": [
        "case_opinion['date'] = [pd.to_datetime(i, errors='coerce') if i != 'NULL' else pd.to_datetime('1900-01-01 00:00:00') for i in case_opinion['date']]\n",
        "case_opinion['abstract'] = clean_strings(case_opinion['abstract'])"
      ],
      "execution_count": null,
      "outputs": []
    },
    {
      "cell_type": "code",
      "metadata": {
        "id": "VTNFyG87tWKb"
      },
      "source": [
        "case_opinion.head(2)"
      ],
      "execution_count": null,
      "outputs": []
    },
    {
      "cell_type": "code",
      "metadata": {
        "id": "eS_l85rsaDXm"
      },
      "source": [
        "case_opinion.to_sql('case_opinion', con=engine, index=False, if_exists='append', chunksize = 100)"
      ],
      "execution_count": null,
      "outputs": []
    },
    {
      "cell_type": "code",
      "metadata": {
        "id": "KWgwVVs4oy5N"
      },
      "source": [
        "del map_case_opinion\n",
        "del case_opinion"
      ],
      "execution_count": null,
      "outputs": []
    },
    {
      "cell_type": "markdown",
      "metadata": {
        "id": "LxHXArxltWKj"
      },
      "source": [
        "---\n",
        "### Legal Intelligence Cases"
      ]
    },
    {
      "cell_type": "code",
      "metadata": {
        "id": "0TvX0nNktWKj"
      },
      "source": [
        "map_legal_intelligence_case = {\n",
        "    'ecli':'ecli',\n",
        "    'Title':'name',\n",
        "    'date':'date',\n",
        "    'abstract':'abstract',\n",
        "    'LawArea':'subject',\n",
        "    'Url':'link',\n",
        "    'DisplayTitle':'DisplayTitle',\n",
        "    'OriginalUrl':'OriginalUrl',\n",
        "    'Jurisdiction':'Jurisdiction',\n",
        "    'DocumentType':'DocumentType',\n",
        "    'case_number':'CaseNumber',\n",
        "    'PublicationNumber':'PublicationNumber',\n",
        "    'IssueNumber':'IssueNumber',\n",
        "    'lodge_date':'lodge_date',\n",
        "    'DateAdded':'DateAdded',\n",
        "    'Sources':'Sources',\n",
        "    'UrlWithAutoLogOnToken':'UrlWithAutoLogOnToken',\n",
        "    'authority':'court',\n",
        "    'DisplaySubtitle':'DisplaySubtitle'\n",
        "}"
      ],
      "execution_count": null,
      "outputs": []
    },
    {
      "cell_type": "code",
      "metadata": {
        "id": "t2B6L1uEtWKn"
      },
      "source": [
        "legal_intelligence_case = df_li_cases[map_legal_intelligence_case.keys()].rename(columns=map_legal_intelligence_case)"
      ],
      "execution_count": null,
      "outputs": []
    },
    {
      "cell_type": "code",
      "metadata": {
        "id": "uCTQDq8qtWKr"
      },
      "source": [
        "legal_intelligence_case.head(2)"
      ],
      "execution_count": null,
      "outputs": []
    },
    {
      "cell_type": "code",
      "metadata": {
        "id": "jW2cFz1ZtWKu"
      },
      "source": [
        "legal_intelligence_case['date'] = [pd.to_datetime(i, errors='coerce') if i != 'NULL' else pd.to_datetime('1900-01-01 00:00:00') for i in df_li_cases['date']]\n",
        "legal_intelligence_case['lodge_date'] = [pd.to_datetime(i, errors='coerce') if i != 'NULL' else pd.to_datetime('1900-01-01 00:00:00') for i in df_li_cases['lodge_date']]\n",
        "legal_intelligence_case['DateAdded'] = [pd.to_datetime(i, errors='coerce') if i != 'NULL' else pd.to_datetime('1900-01-01 00:00:00') for i in df_li_cases['DateAdded']]\n",
        "legal_intelligence_case['name'] = clean_strings(legal_intelligence_case['name'])\n",
        "legal_intelligence_case['abstract'] = clean_strings(legal_intelligence_case['abstract'])\n",
        "legal_intelligence_case['DisplayTitle'] = clean_strings(legal_intelligence_case['DisplayTitle'])\n",
        "legal_intelligence_case['court'] = clean_strings(legal_intelligence_case['court'])\n",
        "legal_intelligence_case['DisplaySubtitle'] = clean_strings(legal_intelligence_case['DisplaySubtitle'])\n",
        "#legal_intelligence_case['name'] = [i[0:250] for i in legal_intelligence_case['name']]\n",
        "#legal_intelligence_case['DisplayTitle'] = [i[0:250] for i in legal_intelligence_case['DisplayTitle']]\n",
        "#legal_intelligence_case['DisplaySubtitle'] = [i[0:250] for i in legal_intelligence_case['DisplaySubtitle']]"
      ],
      "execution_count": null,
      "outputs": []
    },
    {
      "cell_type": "code",
      "metadata": {
        "id": "7h_MHenJajp_"
      },
      "source": [
        "legal_intelligence_case.to_sql('legal_intelligence_case', con=engine, index=False, if_exists='append', chunksize = 10)"
      ],
      "execution_count": null,
      "outputs": []
    },
    {
      "cell_type": "code",
      "metadata": {
        "id": "3UonaAD2apIP"
      },
      "source": [
        ""
      ],
      "execution_count": null,
      "outputs": []
    },
    {
      "cell_type": "code",
      "metadata": {
        "id": "mj3qz_pEo461"
      },
      "source": [
        "del map_legal_intelligence_case\n",
        "del legal_intelligence_case"
      ],
      "execution_count": null,
      "outputs": []
    },
    {
      "cell_type": "markdown",
      "metadata": {
        "id": "5vkc3CBktWK4"
      },
      "source": [
        "---\n",
        "### Subjects"
      ]
    },
    {
      "cell_type": "code",
      "metadata": {
        "id": "M8esh5_8tWK4"
      },
      "source": [
        "subjects_as_list = [list(row.split(\"; \")) for row in df_case.subject]\n",
        "unique_subjects = \\\n",
        "    set(list(\n",
        "        pd.core.common\\\n",
        "            .flatten(subjects_as_list)))"
      ],
      "execution_count": null,
      "outputs": []
    },
    {
      "cell_type": "code",
      "metadata": {
        "id": "4x8z9WEttWK7"
      },
      "source": [
        "subject = pd.DataFrame()\n",
        "subject['name'] = clean_strings(list(sorted(unique_subjects)))\n",
        "subject.loc[:,'standard_name'] = 'NULL'"
      ],
      "execution_count": null,
      "outputs": []
    },
    {
      "cell_type": "code",
      "metadata": {
        "id": "TipdHnoktWK-"
      },
      "source": [
        "subject.head(2)"
      ],
      "execution_count": null,
      "outputs": []
    },
    {
      "cell_type": "code",
      "metadata": {
        "id": "8OXYUAq2tWLA"
      },
      "source": [
        "subject.to_sql('subject', con=engine, index=False, if_exists='append', chunksize = 50)"
      ],
      "execution_count": null,
      "outputs": []
    },
    {
      "cell_type": "code",
      "metadata": {
        "id": "W2tUvhECo-VQ"
      },
      "source": [
        "del subject"
      ],
      "execution_count": null,
      "outputs": []
    },
    {
      "cell_type": "markdown",
      "metadata": {
        "id": "pFZtgHT3tWLQ"
      },
      "source": [
        "---\n",
        "### Case - Subject"
      ]
    },
    {
      "cell_type": "code",
      "metadata": {
        "id": "haBMouO6tWLR"
      },
      "source": [
        "df_subjects_case = df_case[['subject','case_id']]\n",
        "df_subjects_case.loc[:,'subject'] = subjects_as_list\n",
        "df_subjects_case = df_subjects_case.explode('subject')\n",
        "len(df_subjects_case)"
      ],
      "execution_count": null,
      "outputs": []
    },
    {
      "cell_type": "code",
      "metadata": {
        "id": "1WGuZceHtWLS"
      },
      "source": [
        "parents_ids_subjects = get_parent_ids('subject', 'name', df_subjects_case, 'subject')\n",
        "len(parents_ids_subjects)"
      ],
      "execution_count": null,
      "outputs": []
    },
    {
      "cell_type": "code",
      "metadata": {
        "id": "Mf08B28htWLU"
      },
      "source": [
        "parents_ids_cases = get_parent_ids('case', 'ecli', df_subjects_case, 'case_id')\n",
        "len(parents_ids_cases)"
      ],
      "execution_count": null,
      "outputs": []
    },
    {
      "cell_type": "code",
      "metadata": {
        "id": "CCpsx7lrtWLW"
      },
      "source": [
        "case_subject = pd.DataFrame({'case_id':parents_ids_cases,\n",
        "                             'subject_id':parents_ids_subjects})"
      ],
      "execution_count": null,
      "outputs": []
    },
    {
      "cell_type": "code",
      "metadata": {
        "id": "0BociWEhtWLa"
      },
      "source": [
        "#case_subject.sort_values(by='case_id').tail(50) #quality check\n",
        "#[(type(i), type(j)) for i,j in zip(case_subject.subject_id,case_subject.case_id)]"
      ],
      "execution_count": null,
      "outputs": []
    },
    {
      "cell_type": "code",
      "metadata": {
        "id": "LcmECVpLtWLd"
      },
      "source": [
        "case_subject.tail(3)"
      ],
      "execution_count": null,
      "outputs": []
    },
    {
      "cell_type": "code",
      "metadata": {
        "id": "SF1lpvKVdc-x"
      },
      "source": [
        "case_subject.to_sql('case_subject', con=engine, index=False, if_exists='append', chunksize = 100)"
      ],
      "execution_count": null,
      "outputs": []
    },
    {
      "cell_type": "code",
      "metadata": {
        "id": "HR6Pkg_AtWLj"
      },
      "source": [
        "# tuples = to_tuples(case_subject)\n",
        "# tuples = [(int(i), int(j)) for i,j in tuples]"
      ],
      "execution_count": null,
      "outputs": []
    },
    {
      "cell_type": "code",
      "metadata": {
        "id": "goAz5hT9tWLl"
      },
      "source": [
        "# try:  \n",
        "#     cursor = conn.cursor()\n",
        "#     for idx, data in enumerate(tuples):\n",
        "#         query = (\"INSERT INTO `case_subject`\"\n",
        "#                 \"(case_id, subject_id)\"\n",
        "#                 \"VALUES (%s, %s)\")\n",
        "#         cursor.execute(query, data)\n",
        "#     conn.commit()\n",
        "#     cursor.close()\n",
        "#     print('case_subject added')\n",
        "# except Error as error :\n",
        "#     conn.rollback()\n",
        "#     print(\"Failed to insert into MySQL table {}\".format(error))\n",
        "#     traceback.print_exc(file=sys.stdout)"
      ],
      "execution_count": null,
      "outputs": []
    },
    {
      "cell_type": "code",
      "metadata": {
        "id": "za-MjW79pFt_"
      },
      "source": [
        "del df_subjects_case\n",
        "del case_subject\n",
        "#del tuples"
      ],
      "execution_count": null,
      "outputs": []
    },
    {
      "cell_type": "markdown",
      "metadata": {
        "id": "qXBQf1hwtWLn"
      },
      "source": [
        "---\n",
        "### Countries"
      ]
    },
    {
      "cell_type": "code",
      "metadata": {
        "id": "J8iVVSHwtWLn"
      },
      "source": [
        "df_country.head()"
      ],
      "execution_count": null,
      "outputs": []
    },
    {
      "cell_type": "code",
      "metadata": {
        "id": "Jd71QMxBtWLp"
      },
      "source": [
        "df_country.loc[:,'language'] = 'NULL'\n",
        "df_country.loc[:,'eea'] = 0"
      ],
      "execution_count": null,
      "outputs": []
    },
    {
      "cell_type": "code",
      "metadata": {
        "id": "m1YYfP_rtWLr"
      },
      "source": [
        "country = df_country.rename(columns={'country_id':'id'})"
      ],
      "execution_count": null,
      "outputs": []
    },
    {
      "cell_type": "code",
      "metadata": {
        "id": "lqYnSSd6tWLw"
      },
      "source": [
        "country.head(3)"
      ],
      "execution_count": null,
      "outputs": []
    },
    {
      "cell_type": "code",
      "metadata": {
        "id": "7oc-edY9dooD"
      },
      "source": [
        "country.to_sql('country', con=engine, index=False, if_exists='append', chunksize = 100)"
      ],
      "execution_count": null,
      "outputs": []
    },
    {
      "cell_type": "code",
      "metadata": {
        "id": "rijgwKHKtWLy"
      },
      "source": [
        "#tuples = to_tuples(country)"
      ],
      "execution_count": null,
      "outputs": []
    },
    {
      "cell_type": "code",
      "metadata": {
        "id": "LE4soqqHtWL0"
      },
      "source": [
        "# try:  \n",
        "#     cursor = conn.cursor()\n",
        "#     for idx, data in enumerate(tuples):\n",
        "#         query = (\"INSERT INTO `country`\"\n",
        "#                 \"(id, name, language, flag, eu, eea)\"\n",
        "#                 \"VALUES (%s, %s, %s, %s, %s, %s)\")\n",
        "#         cursor.execute(query, data)\n",
        "#     conn.commit()\n",
        "#     cursor.close()\n",
        "#     print('country added')\n",
        "# except Error as error :\n",
        "#     conn.rollback()\n",
        "#     print(\"Failed to insert into MySQL table {}\".format(error))\n",
        "#     traceback.print_exc(file=sys.stdout)"
      ],
      "execution_count": null,
      "outputs": []
    },
    {
      "cell_type": "code",
      "metadata": {
        "id": "vufK9wVnpTnV"
      },
      "source": [
        "del country\n",
        "#del tuples"
      ],
      "execution_count": null,
      "outputs": []
    },
    {
      "cell_type": "markdown",
      "metadata": {
        "id": "-s3NfgEvtWL2"
      },
      "source": [
        "---\n",
        "### Case - Country"
      ]
    },
    {
      "cell_type": "code",
      "metadata": {
        "id": "-7p1UkzitWL2"
      },
      "source": [
        "df_case.head(2)"
      ],
      "execution_count": null,
      "outputs": []
    },
    {
      "cell_type": "code",
      "metadata": {
        "id": "e4XcYHketWL3"
      },
      "source": [
        "#as_list = [list(row.split(\"; \")) for row in df_case.country] #in case there is more than one country in the row"
      ],
      "execution_count": null,
      "outputs": []
    },
    {
      "cell_type": "code",
      "metadata": {
        "id": "PubY-4U-tWL6"
      },
      "source": [
        "df_country_case = df_case[['case_id','country']]\n",
        "#df_country_case.loc[:,'country'] = as_list\n",
        "df_country_case = df_country_case.explode('country')\n",
        "len(df_country_case)"
      ],
      "execution_count": null,
      "outputs": []
    },
    {
      "cell_type": "code",
      "metadata": {
        "id": "wAYT19E7tWMB"
      },
      "source": [
        "parents_ids_countries = get_parent_ids('country', 'id', df_country_case, 'country')\n",
        "len(parents_ids_countries)"
      ],
      "execution_count": null,
      "outputs": []
    },
    {
      "cell_type": "code",
      "metadata": {
        "id": "6OnON7ZDtWMD"
      },
      "source": [
        "parents_ids_cases = get_parent_ids('case', 'ecli', df_country_case, 'case_id')\n",
        "len(parents_ids_cases)"
      ],
      "execution_count": null,
      "outputs": []
    },
    {
      "cell_type": "code",
      "metadata": {
        "id": "h3dP6hRxtWME"
      },
      "source": [
        "case_country = pd.DataFrame({'case_id':parents_ids_cases,\n",
        "                             'country_id':parents_ids_countries})"
      ],
      "execution_count": null,
      "outputs": []
    },
    {
      "cell_type": "code",
      "metadata": {
        "id": "nYsc2emwtWMG"
      },
      "source": [
        "case_country.tail(3)"
      ],
      "execution_count": null,
      "outputs": []
    },
    {
      "cell_type": "code",
      "metadata": {
        "id": "LK2_pgBpdv0B"
      },
      "source": [
        "case_country.to_sql('case_country', con=engine, index=False, if_exists='append', chunksize = 100)"
      ],
      "execution_count": null,
      "outputs": []
    },
    {
      "cell_type": "code",
      "metadata": {
        "id": "m9Gf1DrCtWMI"
      },
      "source": [
        "#tuples = to_tuples(case_country)\n",
        "#tuples = [(int(i), int(j)) for i,j in tuples]"
      ],
      "execution_count": null,
      "outputs": []
    },
    {
      "cell_type": "code",
      "metadata": {
        "id": "9ppaf9BqtWMJ"
      },
      "source": [
        "# try:  \n",
        "#     cursor = conn.cursor()\n",
        "#     for idx, data in enumerate(tuples):\n",
        "#         query = (\"INSERT INTO `case_country`\"\n",
        "#                 \"(case_id, country_id)\"\n",
        "#                 \"VALUES (%s, %s)\")\n",
        "#         cursor.execute(query, data)\n",
        "#     conn.commit()\n",
        "#     cursor.close()\n",
        "#     print('case_subject added')\n",
        "# except Error as error :\n",
        "#     conn.rollback()\n",
        "#     print(\"Failed to insert into MySQL table {}\".format(error))\n",
        "#     traceback.print_exc(file=sys.stdout)"
      ],
      "execution_count": null,
      "outputs": []
    },
    {
      "cell_type": "code",
      "metadata": {
        "id": "Jx2pO5-4pYFz"
      },
      "source": [
        "del df_country_case\n",
        "del case_country\n",
        "#del tuples"
      ],
      "execution_count": null,
      "outputs": []
    },
    {
      "cell_type": "markdown",
      "metadata": {
        "id": "FFVJaA7ftWML"
      },
      "source": [
        "---\n",
        "### Case law citation"
      ]
    },
    {
      "cell_type": "code",
      "metadata": {
        "id": "obMmwVEFtWML"
      },
      "source": [
        "df_case_citation.head(4)"
      ],
      "execution_count": null,
      "outputs": []
    },
    {
      "cell_type": "code",
      "metadata": {
        "id": "gxeFtBbUtWMN"
      },
      "source": [
        "parent_ids = get_parent_ids('case', 'ecli', df_case_citation, 'source_ecli')\n",
        "df_case_citation['case_id'] = parent_ids"
      ],
      "execution_count": null,
      "outputs": []
    },
    {
      "cell_type": "code",
      "metadata": {
        "id": "vUxLnuUCtWMP"
      },
      "source": [
        "map_case_citation = {\n",
        "    'source_ecli':'source_ecli',\n",
        "    'source_paragraph':'source_paragraph',\n",
        "    'target_ecli':'target_ecli',\n",
        "    'target_paragraph':'target_paragraph',\n",
        "    'case_id':'case_id'\n",
        "}"
      ],
      "execution_count": null,
      "outputs": []
    },
    {
      "cell_type": "code",
      "metadata": {
        "id": "hEAO45WttWMQ"
      },
      "source": [
        "case_citation = df_case_citation[map_case_citation.keys()].rename(columns=map_case_citation)"
      ],
      "execution_count": null,
      "outputs": []
    },
    {
      "cell_type": "code",
      "metadata": {
        "id": "r2Z35cnAd2Nx"
      },
      "source": [
        "case_citation.to_sql('case_citation', con=engine, index=False, if_exists='append', chunksize = 100)"
      ],
      "execution_count": null,
      "outputs": []
    },
    {
      "cell_type": "code",
      "metadata": {
        "id": "7530yR0ltWMU"
      },
      "source": [
        "#tuples = to_tuples(case_citation)"
      ],
      "execution_count": null,
      "outputs": []
    },
    {
      "cell_type": "code",
      "metadata": {
        "id": "pFM_R1IutWMX"
      },
      "source": [
        "# try:  \n",
        "#     cursor = conn.cursor()\n",
        "#     for idx, data in enumerate(tuples):\n",
        "#         query = (\"INSERT INTO `case_citation`\"\n",
        "#                 \"(source_ecli, source_paragraph, target_ecli, target_paragraph, case_id)\"\n",
        "#                 \"VALUES (%s, %s, %s, %s, %s)\")\n",
        "#         cursor.execute(query, data)\n",
        "#     conn.commit()\n",
        "#     cursor.close()\n",
        "#     print('case_citation added')\n",
        "# except Error as error :\n",
        "#     conn.rollback()\n",
        "#     print(\"Failed to insert into MySQL table {}\".format(error))\n",
        "#     traceback.print_exc(file=sys.stdout)"
      ],
      "execution_count": null,
      "outputs": []
    },
    {
      "cell_type": "code",
      "metadata": {
        "id": "BYBQ162ypmbO"
      },
      "source": [
        "del case_citation\n",
        "#del tuples"
      ],
      "execution_count": null,
      "outputs": []
    },
    {
      "cell_type": "markdown",
      "metadata": {
        "id": "LhitopFHtWMb"
      },
      "source": [
        "---\n",
        "### Legislation citation"
      ]
    },
    {
      "cell_type": "code",
      "metadata": {
        "id": "fNgUVmndtWMb"
      },
      "source": [
        "df_legislation_citation.head(4)"
      ],
      "execution_count": null,
      "outputs": []
    },
    {
      "cell_type": "code",
      "metadata": {
        "id": "EWUINeePtWMe"
      },
      "source": [
        "parent_ids = get_parent_ids('case', 'ecli', df_legislation_citation, 'source_ecli')\n",
        "df_legislation_citation['case_id'] = parent_ids"
      ],
      "execution_count": null,
      "outputs": []
    },
    {
      "cell_type": "code",
      "metadata": {
        "id": "OJ-jxGMvtWMh"
      },
      "source": [
        "df_legislation_citation.loc[:,'target_name'] = 'NULL'\n",
        "df_legislation_citation.loc[:,'target_sourcename'] = 'NULL'"
      ],
      "execution_count": null,
      "outputs": []
    },
    {
      "cell_type": "code",
      "metadata": {
        "id": "-9FZUfo6tWMj"
      },
      "source": [
        "map_legislation_citation = {\n",
        "    'source_ecli':'source_ecli',\n",
        "    'source_paragraph':'source_paragraph',\n",
        "    'target_id':'target_article',\n",
        "    'target_paragraph':'target_article_paragraph',\n",
        "    'target_name':'target_name',\n",
        "    'target_sourcename':'target_sourcename',\n",
        "    'target_link':'target_article_webpage',\n",
        "    'case_id':'case_id'\n",
        "}"
      ],
      "execution_count": null,
      "outputs": []
    },
    {
      "cell_type": "code",
      "metadata": {
        "id": "BYL-AGWmtWMk"
      },
      "source": [
        "legislation_citation = df_legislation_citation[map_legislation_citation.keys()].rename(columns=map_legislation_citation)"
      ],
      "execution_count": null,
      "outputs": []
    },
    {
      "cell_type": "code",
      "metadata": {
        "id": "Omc_uUkNd7Pr"
      },
      "source": [
        "legislation_citation.to_sql('legislation_citation', con=engine, index=False, if_exists='append', chunksize = 100)"
      ],
      "execution_count": null,
      "outputs": []
    },
    {
      "cell_type": "code",
      "metadata": {
        "id": "LvxZ9c0ftWMo"
      },
      "source": [
        "#tuples = to_tuples(legislation_citation)"
      ],
      "execution_count": null,
      "outputs": []
    },
    {
      "cell_type": "code",
      "metadata": {
        "id": "wlNPvUGAtWMp"
      },
      "source": [
        "# try:  \n",
        "#     cursor = conn.cursor()\n",
        "#     for idx, data in enumerate(tuples):\n",
        "#         query = (\"INSERT INTO `legislation_citation`\"\n",
        "#                 \"(source_ecli, source_paragraph, target_id, target_paragraph, target_name, target_sourcename, target_link, case_id)\"\n",
        "#                 \"VALUES (%s, %s, %s, %s, %s, %s, %s, %s)\")\n",
        "#         cursor.execute(query, data)\n",
        "#     conn.commit()\n",
        "#     cursor.close()\n",
        "#     print('legislation_citation added')\n",
        "# except Error as error :\n",
        "#     conn.rollback()\n",
        "#     print(\"Failed to insert into MySQL table {}\".format(error))\n",
        "#     traceback.print_exc(file=sys.stdout)"
      ],
      "execution_count": null,
      "outputs": []
    },
    {
      "cell_type": "code",
      "metadata": {
        "id": "OPASAQjlpuBD"
      },
      "source": [
        "del legislation_citation\n",
        "#del tuples"
      ],
      "execution_count": null,
      "outputs": []
    },
    {
      "cell_type": "markdown",
      "metadata": {
        "id": "VxvVGqYjtWMq"
      },
      "source": [
        "---\n",
        "### Case related decision"
      ]
    },
    {
      "cell_type": "code",
      "metadata": {
        "id": "z4GdXL8jtWMr"
      },
      "source": [
        "df_case_related = df_case[['case_id','related_cases']]\\\n",
        "    .rename(columns = {'case_id':'source_ecli', \n",
        "                       'related_cases': 'referencing_case_ecli'})"
      ],
      "execution_count": null,
      "outputs": []
    },
    {
      "cell_type": "code",
      "metadata": {
        "id": "JOnZjdD5tWMs"
      },
      "source": [
        "parent_ids = get_parent_ids('case', 'ecli', df_case_related, 'source_ecli')\n",
        "df_case_related['case_id'] = parent_ids"
      ],
      "execution_count": null,
      "outputs": []
    },
    {
      "cell_type": "code",
      "metadata": {
        "id": "xdjGJN-dtWMu"
      },
      "source": [
        "df_case_related.loc[:,'referenced_case_ecli'] = 'NULL'"
      ],
      "execution_count": null,
      "outputs": []
    },
    {
      "cell_type": "code",
      "metadata": {
        "id": "PWqiZfcEtWMv"
      },
      "source": [
        "df_case_related.head(2)"
      ],
      "execution_count": null,
      "outputs": []
    },
    {
      "cell_type": "code",
      "metadata": {
        "id": "XskAlbtetWMx"
      },
      "source": [
        "map_case_related_decision = {\n",
        "    'source_ecli':'source_ecli',\n",
        "    'referencing_case_ecli':'referencing_case_ecli',\n",
        "    'referenced_case_ecli':'referenced_case_ecli',\n",
        "    'case_id':'case_id'\n",
        "    }"
      ],
      "execution_count": null,
      "outputs": []
    },
    {
      "cell_type": "code",
      "metadata": {
        "id": "zp8AMbGUtWM1"
      },
      "source": [
        "case_related_decision = df_case_related[map_case_related_decision.keys()].rename(columns=map_case_related_decision)"
      ],
      "execution_count": null,
      "outputs": []
    },
    {
      "cell_type": "code",
      "metadata": {
        "id": "ndxUtbA0tWM3"
      },
      "source": [
        "case_related_decision.head(3)"
      ],
      "execution_count": null,
      "outputs": []
    },
    {
      "cell_type": "code",
      "metadata": {
        "id": "T1sxp0GweEIf"
      },
      "source": [
        "case_related_decision.to_sql('case_related_decision', con=engine, index=False, if_exists='append', chunksize = 100)"
      ],
      "execution_count": null,
      "outputs": []
    },
    {
      "cell_type": "code",
      "metadata": {
        "id": "-R0NdT3wtWM9"
      },
      "source": [
        "#tuples = to_tuples(case_related_decision)"
      ],
      "execution_count": null,
      "outputs": []
    },
    {
      "cell_type": "code",
      "metadata": {
        "id": "nPjvavfwtWM-"
      },
      "source": [
        "# try:  \n",
        "#     cursor = conn.cursor()\n",
        "#     for idx, data in enumerate(tuples):\n",
        "#         query = (\"INSERT INTO `case_related_decision`\"\n",
        "#                 \"(source_ecli, referencing_case_ecli, referenced_case_ecli, case_id)\"\n",
        "#                 \"VALUES (%s, %s, %s, %s)\")\n",
        "#         cursor.execute(query, data)\n",
        "#     conn.commit()\n",
        "#     cursor.close()\n",
        "#     print('case_related_decision added')\n",
        "# except Error as error :\n",
        "#     conn.rollback()\n",
        "#     print(\"Failed to insert into MySQL table {}\".format(error))\n",
        "#     traceback.print_exc(file=sys.stdout)"
      ],
      "execution_count": null,
      "outputs": []
    },
    {
      "cell_type": "code",
      "metadata": {
        "id": "2sjso_6upxKF"
      },
      "source": [
        "del case_related_decision\n",
        "#del tuples"
      ],
      "execution_count": null,
      "outputs": []
    },
    {
      "cell_type": "code",
      "metadata": {
        "id": "sdQmgeYQ5cOp"
      },
      "source": [
        ""
      ],
      "execution_count": null,
      "outputs": []
    }
  ]
}